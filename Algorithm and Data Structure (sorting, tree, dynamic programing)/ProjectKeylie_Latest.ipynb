{
 "cells": [
  {
   "cell_type": "markdown",
   "metadata": {},
   "source": []
  },
  {
   "cell_type": "markdown",
   "metadata": {},
   "source": [
    "# Exercise 1: Sorting Lists of Pairs (50 marks)"
   ]
  },
  {
   "cell_type": "markdown",
   "metadata": {},
   "source": [
    "(Note that in this exercise, questions may be attempted without having completed all previous questions)"
   ]
  },
  {
   "cell_type": "markdown",
   "metadata": {},
   "source": [
    "Consider the abstract Python class below:"
   ]
  },
  {
   "cell_type": "code",
   "execution_count": 1,
   "metadata": {
    "code_folding": [
     0
    ]
   },
   "outputs": [],
   "source": [
    "class Comparison:\n",
    "    def __init__(self):\n",
    "        pass\n",
    "    \n",
    "    #returns True if the two objects are comparable,\n",
    "    #False otherwise\n",
    "    def areComparable(self, other):\n",
    "        raise Exception(\"NotImplementedException\")\n",
    "        \n",
    "    #returns True if the two objects are equal,\n",
    "    #False otherwise\n",
    "    def __eq__(self, other):\n",
    "        raise Exception(\"NotImplementedException\")\n",
    "   \n",
    "    #returns True if self > other,\n",
    "    #False otherwise\n",
    "    def __gt__(self, other):\n",
    "        raise Exception(\"NotImplementedException\")\n",
    "        \n",
    "    #returns True if self < other,\n",
    "    #False otherwise\n",
    "    def __lt__(self, other):\n",
    "        raise Exception(\"NotImplementedException\")    \n",
    "        \n",
    "    def __ne__(self, other):\n",
    "        return not self.__eq__(other)\n",
    "                \n",
    "    def __ge__(self, other):\n",
    "        return self.__eq__(other) or self.__gt__(other)\n",
    "\n",
    "    def __le__(self, other):\n",
    "        return self.__eq__(other) or self.__lt__(other)\n",
    "        \n",
    "    def compare(self, other):\n",
    "        if self.areComparable(other) is False:\n",
    "            return None\n",
    "        elif self == other:\n",
    "            return 0\n",
    "        elif self < other:\n",
    "            return -1\n",
    "        elif self > other:\n",
    "            return 1\n",
    "        else:\n",
    "            assert False, \"Inconsistent operation definitions\""
   ]
  },
  {
   "cell_type": "markdown",
   "metadata": {},
   "source": [
    "The Comparison class provides a way to model items that are not always comparable. For instance, the pair of integers $(5, 10)$ is greater than $(4, 8)$, but it is not comparable to $(6, 5)$, because $5 < 6$ and $10 > 5$."
   ]
  },
  {
   "cell_type": "markdown",
   "metadata": {},
   "source": [
    "In this exercise, we will look into different ways to sort list of pairs. We will suppose that the pairs in a list are all different.  "
   ]
  },
  {
   "cell_type": "markdown",
   "metadata": {},
   "source": [
    "## Question 1.1 (10 marks)"
   ]
  },
  {
   "cell_type": "markdown",
   "metadata": {},
   "source": [
    "The rules of comparison between two Pairs $(a, b)$ and $(c, d)$ are:\n",
    "* $(a, b) == (c, d)$ if and only if $a == c$ and $b == d$,\n",
    "* $(a, b) > (c, d)$ if and only if ($a > c$ and $b \\geq d$) or ($a \\geq c$ and $b > d$),\n",
    "* $(a, b) < (c, d)$ if and only if ($a < c$ and $b \\leq d$) or ($a \\leq c$ and $b < d$).\n",
    "\n",
    "We say that $(a, b)$ and $(c, d)$ are comparable if \n",
    "* $(a, b) == (c, d)$, or\n",
    "* $(a, b) > (c, d)$, or\n",
    "* $(a, b) < (c, d)$.\n",
    "\n",
    "We ask that you implement the rules above in the class called Pair below, by completing the functions that have a comment \"#TODO\" in the body. Note that the class Pair inherits from Comparison."
   ]
  },
  {
   "cell_type": "code",
   "execution_count": 2,
   "metadata": {
    "code_folding": [
     0
    ]
   },
   "outputs": [],
   "source": [
    "class Pair(Comparison):\n",
    "    def __init__(self, x, y):\n",
    "        self.x = x\n",
    "        self.y = y\n",
    "    \n",
    "    def __str__(self):\n",
    "        return \"({},{})\".format(self.x, self.y)\n",
    "        \n",
    "    def areComparable(self, other):\n",
    "        return (((self.x == other.x) and (self.y == other.y)) or \\\n",
    "                ((self.x > other.x) and (self.y >= other.y)) or \\\n",
    "                ((self.x >= other.x) and (self.y > other.y)) or \\\n",
    "                ((self.x < other.x) and (self.y <= other.y)) or \\\n",
    "                ((self.x <= other.x) and (self.y < other.y)))\n",
    "        \n",
    "        \n",
    "    def __eq__(self, other):\n",
    "        return (self.x == other.x and self.y == other.y)\n",
    "    \n",
    "    \n",
    "    def __gt__(self, other):\n",
    "        return ((self.x > other.x and self.y >= other.y) or  \\\n",
    "                (self.x >= other.x and self.y > other.y))\n",
    "        \n",
    "    def __lt__(self, other):\n",
    "        return ((self.x < other.x and self.y <= other.y) or \\\n",
    "                (self.x <= other.x and self.y < other.y))"
   ]
  },
  {
   "cell_type": "markdown",
   "metadata": {},
   "source": [
    "We provide a test class below. You don't need to edit it, but the class Pair you write need pass these tests! "
   ]
  },
  {
   "cell_type": "code",
   "execution_count": 3,
   "metadata": {
    "code_folding": [
     2
    ]
   },
   "outputs": [],
   "source": [
    "import unittest,copy\n",
    "\n",
    "class TestPair(unittest.TestCase):\n",
    "    def setUp(self):\n",
    "        self.v00 = Pair(0,0)\n",
    "        self.v01 = Pair(0,1)\n",
    "        self.v10 = Pair(1, 0)\n",
    "        self.v11 = Pair(1, 1)\n",
    "        self.v21 = Pair(2, 1)\n",
    "        self.v31 = Pair(3, 1)\n",
    "        self.v23 = Pair(2, 3)\n",
    "        self.v23other = Pair(2, 3)\n",
    "        \n",
    "    def test_areComparable(self):\n",
    "        self.assertTrue(self.v00.areComparable(self.v01))\n",
    "        self.assertTrue(self.v01.areComparable(self.v00))\n",
    "        \n",
    "        self.assertTrue(self.v11.areComparable(self.v00))\n",
    "        self.assertTrue(self.v00.areComparable(self.v11))\n",
    "        \n",
    "        self.assertTrue(self.v21.areComparable(self.v23))\n",
    "        self.assertTrue(self.v23.areComparable(self.v21))\n",
    "        \n",
    "        self.assertTrue(self.v23.areComparable(self.v23))\n",
    "        \n",
    "        self.assertTrue(self.v23.areComparable(self.v23other))\n",
    "        self.assertTrue(self.v23other.areComparable(self.v23))\n",
    "        \n",
    "        self.assertFalse(self.v01.areComparable(self.v10))\n",
    "        self.assertFalse(self.v10.areComparable(self.v01))\n",
    "        \n",
    "        self.assertFalse(self.v31.areComparable(self.v23))\n",
    "        self.assertFalse(self.v23.areComparable(self.v31))\n",
    "        \n",
    "    def test_eq(self):\n",
    "        self.assertTrue(self.v00 == self.v00)\n",
    "        self.assertTrue(self.v21 == self.v21)\n",
    "        self.assertTrue(self.v23 == self.v23)\n",
    "        self.assertTrue(self.v23 == self.v23other)\n",
    "        \n",
    "        self.assertFalse(self.v00 == self.v11)\n",
    "        self.assertFalse(self.v21 == self.v11)\n",
    "        self.assertFalse(self.v21 == self.v23)\n",
    "        \n",
    "    def test_ne(self):\n",
    "        self.assertFalse(self.v00 != self.v00)\n",
    "        self.assertFalse(self.v21 != self.v21)\n",
    "        self.assertFalse(self.v23 != self.v23)\n",
    "        self.assertFalse(self.v23 != self.v23other)\n",
    "        \n",
    "        self.assertTrue(self.v00 != self.v11)\n",
    "        self.assertTrue(self.v21 != self.v11)\n",
    "        self.assertTrue(self.v21 != self.v23)\n",
    "        \n",
    "    def test_gt(self):\n",
    "        self.assertTrue(self.v01 > self.v00)\n",
    "        self.assertTrue(self.v10 > self.v00)\n",
    "        self.assertTrue(self.v31 > self.v21)\n",
    "        \n",
    "        self.assertFalse(self.v00 > self.v01)\n",
    "        self.assertFalse(self.v00 > self.v01)\n",
    "        self.assertFalse(self.v21 > self.v31)\n",
    "        \n",
    "        self.assertFalse(self.v10 > self.v01)\n",
    "        self.assertFalse(self.v01 > self.v10)\n",
    "        self.assertFalse(self.v31 > self.v23)\n",
    "        self.assertFalse(self.v23 > self.v31)\n",
    "        \n",
    "    def test_lt(self):\n",
    "        self.assertFalse(self.v01 < self.v00)\n",
    "        self.assertFalse(self.v10 < self.v00)\n",
    "        self.assertFalse(self.v31 < self.v21)\n",
    "        \n",
    "        self.assertTrue(self.v00 < self.v01)\n",
    "        self.assertTrue(self.v00 < self.v01)\n",
    "        self.assertTrue(self.v21 < self.v31)\n",
    "        \n",
    "        self.assertFalse(self.v10 < self.v01)\n",
    "        self.assertFalse(self.v01 < self.v10)\n",
    "        self.assertFalse(self.v31 < self.v23)\n",
    "        self.assertFalse(self.v23 < self.v31)"
   ]
  },
  {
   "cell_type": "code",
   "execution_count": 4,
   "metadata": {},
   "outputs": [
    {
     "name": "stderr",
     "output_type": "stream",
     "text": [
      ".....\n",
      "----------------------------------------------------------------------\n",
      "Ran 5 tests in 0.010s\n",
      "\n",
      "OK\n"
     ]
    },
    {
     "data": {
      "text/plain": [
       "<unittest.runner.TextTestResult run=5 errors=0 failures=0>"
      ]
     },
     "execution_count": 4,
     "metadata": {},
     "output_type": "execute_result"
    }
   ],
   "source": [
    "test = TestPair()\n",
    "suite = unittest.TestLoader().loadTestsFromModule(test)\n",
    "unittest.TextTestRunner().run(suite)"
   ]
  },
  {
   "cell_type": "markdown",
   "metadata": {},
   "source": [
    "In the following questions, we suppose that we have a set of Pairs, and that not every two pairs in that set are comparable."
   ]
  },
  {
   "cell_type": "markdown",
   "metadata": {},
   "source": [
    "## Question 1.2 (10 marks)"
   ]
  },
  {
   "cell_type": "markdown",
   "metadata": {},
   "source": [
    "Given a list $l$ of Pairs in no particular order, use a sorting algorithm similar to *selection sort* to sort $l$ such that, at the end of the algorithm, for every two pairs $l[i]=(a, b)$ and $l[j]=(c, d)$ at index $i$ and $j$ in $l$, respectively, with $i <j$, we have:\n",
    "* either $(a, b) \\leq (c, d)$,\n",
    "* or $(a, b)$ and $(c, d)$ are not comparable."
   ]
  },
  {
   "cell_type": "code",
   "execution_count": 5,
   "metadata": {
    "code_folding": [
     0
    ]
   },
   "outputs": [],
   "source": [
    "def pairSort(l):\n",
    "    for i in range(len(l)):\n",
    "        min_idx = i\n",
    "        for j in range(i+1, len(l)):\n",
    "            if l[min_idx] > l[j]:\n",
    "                min_idx = j\n",
    "             \n",
    "    # Swap the found minimum element with \n",
    "    # the first element        \n",
    "        l[i], l[min_idx] = l[min_idx], l[i]"
   ]
  },
  {
   "cell_type": "markdown",
   "metadata": {},
   "source": [
    "Again, we provide a test class below. You don't need to edit it, but the method pairsort you wrote needs to pass these tests! "
   ]
  },
  {
   "cell_type": "code",
   "execution_count": 6,
   "metadata": {
    "code_folding": [
     3
    ]
   },
   "outputs": [],
   "source": [
    "import unittest\n",
    "import random\n",
    "\n",
    "class TestPairSort(unittest.TestCase):\n",
    "    def setUp(self):\n",
    "        self.PairClass = Pair\n",
    "        self.sortAlgo = pairSort\n",
    "    \n",
    "    def test1(self):\n",
    "        #in this test we suppose x=0 for all entries\n",
    "        #this means that the algorithm should do a regular bubble sort\n",
    "        #we also suppose everything is already ordered\n",
    "        l = [self.PairClass(0, 1), self.PairClass(0, 3), self.PairClass(0, 4), self.PairClass(0, 6), \n",
    "            self.PairClass(0, 8), self.PairClass(0, 15), ]\n",
    "        self.sortAlgo(l)\n",
    "        #for item in l: print(item)\n",
    "        self.checkorder(l)\n",
    "            \n",
    "    def test2(self):\n",
    "        #in this test we suppose x=0 for all entries\n",
    "        #this means that the sort algorithms should do a \"regular\" sort\n",
    "        l = [self.PairClass(0, 8), self.PairClass(0, 4), self.PairClass(0, 3), self.PairClass(0, 9), \n",
    "            self.PairClass(0, 10), self.PairClass(0, 5), ]\n",
    "        self.sortAlgo(l)\n",
    "        #for item in sortedl: print(item)\n",
    "        self.checkorder(l)\n",
    "\n",
    "            \n",
    "    def test3(self):\n",
    "        #in this test we suppose x and y are not fixed\n",
    "        #we also suppose that everything is in a good order\n",
    "        l = [self.PairClass(5, 8), self.PairClass(5, 10), self.PairClass(6, 10), self.PairClass(7, 12), \n",
    "            self.PairClass(5, 12), self.PairClass(9, 12), ]\n",
    "        sortedl = self.sortAlgo(l)\n",
    "        #for item in sortedl: print(item)\n",
    "        self.checkorder(l)\n",
    "        \n",
    "    def test4(self):\n",
    "        #in this test we suppose x and y are not fixed\n",
    "        #we suppose there is no two pairs that are comparable\n",
    "        l = [self.PairClass(8, 8), self.PairClass(5, 10), self.PairClass(10, 8), self.PairClass(12, 5)]\n",
    "        self.sortAlgo(l)\n",
    "        #for item in l: print(item)\n",
    "        self.checkorder(l)\n",
    "        \n",
    "    def test5(self):\n",
    "        #in this test we suppose x and y are not fixed\n",
    "        #the input is in arbitrary order\n",
    "        #we only test one case\n",
    "        l = [self.PairClass(5, 8), self.PairClass(10, 10), self.PairClass(12, 5), self.PairClass(9, 5),\n",
    "             self.PairClass(5, 10), self.PairClass(7, 2), self.PairClass(6, 10) ]\n",
    "        self.sortAlgo(l)\n",
    "        #for item in l: print(item)\n",
    "        self.checkorder(l)\n",
    "    \n",
    "    def test6(self):\n",
    "        #in this test we suppose x and y are not fixed\n",
    "        #the input is in arbitrary order\n",
    "        #we generate many cases\n",
    "        for size in range(0, 100):\n",
    "            #create a list\n",
    "            l = []\n",
    "            xs = random.sample(range(0, 100), size)\n",
    "            xy = random.sample(range(0, 100), size)\n",
    "            for i in range(0, size):\n",
    "                l.append(self.PairClass(xs[i], xy[i]))\n",
    "            self.sortAlgo(l)\n",
    "            #for item in l: print(item)\n",
    "            self.checkorder(l)\n",
    "        \n",
    "    def checkorder(self, l):\n",
    "        for i in range(0, len(l)-1):\n",
    "            for j in range(i, len(l)-1):\n",
    "                if l[i].areComparable(l[j]):\n",
    "                    self.assertTrue(l[i] <= l[j], \"{} and {} are not well ordered\".format(l[i], l[j]) )"
   ]
  },
  {
   "cell_type": "code",
   "execution_count": 7,
   "metadata": {},
   "outputs": [
    {
     "name": "stderr",
     "output_type": "stream",
     "text": [
      "......\n",
      "----------------------------------------------------------------------\n",
      "Ran 6 tests in 1.399s\n",
      "\n",
      "OK\n"
     ]
    },
    {
     "data": {
      "text/plain": [
       "<unittest.runner.TextTestResult run=6 errors=0 failures=0>"
      ]
     },
     "execution_count": 7,
     "metadata": {},
     "output_type": "execute_result"
    }
   ],
   "source": [
    "test = TestPairSort()\n",
    "suite = unittest.TestLoader().loadTestsFromModule(test)\n",
    "unittest.TextTestRunner().run(suite)"
   ]
  },
  {
   "cell_type": "markdown",
   "metadata": {},
   "source": [
    "## Question 1.3 (5 marks)"
   ]
  },
  {
   "cell_type": "markdown",
   "metadata": {},
   "source": [
    "Suppose we have a list of Pairs of integers.\n",
    "We want to implement a comparison mechanism between two pairs of integers using a function **pairKey**, which takes a pair as input and outputs a single number. The function pairKey should be such that for two pairs $(a, b)$ and $(c, d)$,\n",
    "* $(a,b) > (c,d)$ implies $pairKey((a,b)) > pairKey((c,d))$,\n",
    "* $(a,b) < (c,d)$ implies $pairKey((a,b)) < pairKey((c,d))$,\n",
    "* $(a,b) == (c,d)$ implies $pairKey((a,b)) == pairKey((c,d))$."
   ]
  },
  {
   "cell_type": "code",
   "execution_count": 8,
   "metadata": {
    "code_folding": [
     0
    ]
   },
   "outputs": [],
   "source": [
    "def pairKey(self):\n",
    "    return (((self.x + self.y) * (self.x + self.y + 1))/ 2) + self.y"
   ]
  },
  {
   "cell_type": "markdown",
   "metadata": {},
   "source": [
    "If you have defined the function pairKey correctly, we should now be able to use the built-in sort function of Python to sort our Pairs:"
   ]
  },
  {
   "cell_type": "code",
   "execution_count": 9,
   "metadata": {
    "code_folding": [
     0
    ]
   },
   "outputs": [],
   "source": [
    "def pairSortWithKey(l):\n",
    "    return l.sort(key = pairKey)"
   ]
  },
  {
   "cell_type": "markdown",
   "metadata": {},
   "source": [
    "(For more information on what the above does, please refer to https://docs.python.org/3/howto/sorting.html)"
   ]
  },
  {
   "cell_type": "code",
   "execution_count": 10,
   "metadata": {
    "code_folding": [
     0
    ]
   },
   "outputs": [],
   "source": [
    "class TestKeyPairSort(TestPairSort):\n",
    "    def setUp(self):\n",
    "        self.PairClass = Pair\n",
    "        self.sortAlgo = pairSortWithKey"
   ]
  },
  {
   "cell_type": "code",
   "execution_count": 11,
   "metadata": {},
   "outputs": [
    {
     "name": "stderr",
     "output_type": "stream",
     "text": [
      "......\n",
      "----------------------------------------------------------------------\n",
      "Ran 6 tests in 1.202s\n",
      "\n",
      "OK\n"
     ]
    },
    {
     "data": {
      "text/plain": [
       "<unittest.runner.TextTestResult run=6 errors=0 failures=0>"
      ]
     },
     "execution_count": 11,
     "metadata": {},
     "output_type": "execute_result"
    }
   ],
   "source": [
    "test = TestKeyPairSort()\n",
    "suite = unittest.TestLoader().loadTestsFromModule(test)\n",
    "unittest.TextTestRunner().run(suite)"
   ]
  },
  {
   "cell_type": "markdown",
   "metadata": {},
   "source": [
    "## Question 1.4 (5 marks)"
   ]
  },
  {
   "cell_type": "markdown",
   "metadata": {},
   "source": [
    "Prove that the pairKey function you have defined above provides a guarantee that, if used as key for Python's sort, then the list will be sorted as stated in Queston 1.2."
   ]
  },
  {
   "cell_type": "markdown",
   "metadata": {},
   "source": [
    "#### Function used above is called cantor pairing function which encodes pair of numbers to single number.(https://en.wikipedia.org/wiki/Pairing_function)\n",
    "\n",
    "Pairing function has quality that each time returns unique number which if pair (a,b) is greater than pair (c,d) then it'll return greater value for pair (a,b).\n",
    "\n",
    "1) a < b : When a is less than b then pairKey function returns less value for a with respect to b\n",
    "\n",
    "* Pairs: (5,10)    (6,12)\n",
    "* pairKey:  130          183\n",
    "\n",
    "* Pairs: (5,10)    (5,12)\n",
    "* pairKey:  130\t      165\n",
    "\n",
    "2) a > b : When a is greater than b then pairKey function returns big value for a with respect to b\n",
    "\n",
    "* Pairs: (12,6)    (12,5)    \n",
    "* pairKey:  158          177\n",
    "\n",
    "3) a == b : When a is is equal to b then pairKey function returns same value for a and b.\n",
    "\n",
    "* Pairs: (5,10)    (5,10)\n",
    "* pairKey:  130          130\n",
    "\n",
    "4) a not comparable to b : When a and b are not comparable then also pairKey returns defferent values but it does not affect our sorting because they are not comparable and their order does not matter neither they will impact other list members.\n",
    "\n",
    "* Pairs: (5, 10)   (10,5)\n",
    "* pairKey:  130          125"
   ]
  },
  {
   "cell_type": "markdown",
   "metadata": {},
   "source": [
    "\n",
    "## Question 1.5 (5 marks)"
   ]
  },
  {
   "cell_type": "markdown",
   "metadata": {},
   "source": [
    "(We have *not* covered the concept of stability in this unit. If you are not yet familiar with this concept, learning about it is part of the question.)\n",
    "\n",
    "Use the fact that Python's sort is stable to provide a simple solution to sort a list of pairs as stated in Question 1.2. Use unit testing as in the previous questions to test your solution. Both your solution and the unit testing will be assessed. (no need to rewrite *new* test cases; use the old ones)."
   ]
  },
  {
   "cell_type": "code",
   "execution_count": 12,
   "metadata": {
    "code_folding": [
     0
    ]
   },
   "outputs": [],
   "source": [
    "def pairSortUsingStability(l):\n",
    "    for i in range(1, len(l)):\n",
    "        key = l[i]\n",
    "        j = i-1\n",
    "        while j >=0 and (key <= l[j] or not key.areComparable(l[j])):\n",
    "                l[j+1] = l[j]\n",
    "                j -= 1\n",
    "        l[j+1] = key "
   ]
  },
  {
   "cell_type": "code",
   "execution_count": 13,
   "metadata": {
    "code_folding": [
     0
    ]
   },
   "outputs": [],
   "source": [
    "class TestPairSortUsingStability(TestPairSort):\n",
    "    def setUp(self):\n",
    "        self.PairClass = Pair\n",
    "        self.sortAlgo = pairSortUsingStability"
   ]
  },
  {
   "cell_type": "code",
   "execution_count": 14,
   "metadata": {},
   "outputs": [
    {
     "name": "stderr",
     "output_type": "stream",
     "text": [
      "......\n",
      "----------------------------------------------------------------------\n",
      "Ran 6 tests in 1.507s\n",
      "\n",
      "OK\n"
     ]
    },
    {
     "data": {
      "text/plain": [
       "<unittest.runner.TextTestResult run=6 errors=0 failures=0>"
      ]
     },
     "execution_count": 14,
     "metadata": {},
     "output_type": "execute_result"
    }
   ],
   "source": [
    "test = TestPairSortUsingStability()\n",
    "suite = unittest.TestLoader().loadTestsFromModule(test)\n",
    "unittest.TextTestRunner().run(suite)"
   ]
  },
  {
   "cell_type": "markdown",
   "metadata": {},
   "source": [
    "## Question 1.6 (10 marks)"
   ]
  },
  {
   "cell_type": "markdown",
   "metadata": {},
   "source": [
    "Define a function pairSortFast that takes a list $l$ of $n$ Pairs as input and sort this list in $O(n)$ time in the worst case (not the amortised worst case). Suppose that any pair $(a,b)$ in $l$ is such that $a$ and $b \\in \\{0, \\dots, U\\}$, where $U$ is a small integer. Hint: *a clever hashing function* may help."
   ]
  },
  {
   "cell_type": "code",
   "execution_count": 15,
   "metadata": {
    "code_folding": [
     4,
     7
    ]
   },
   "outputs": [],
   "source": [
    "## We are using pairKey function designed above as hashing function to sort elements of Array.\n",
    "\n",
    "#l = [Pair(5, 8), Pair(5, 10), Pair(6, 10), Pair(7, 12), \n",
    "#            Pair(5, 12), Pair(9, 12), ]\n",
    "def hashFunc(p):\n",
    "    return (((p.x + p.y) * (p.x + p.y + 1))/ 2) + p.y\n",
    "\n",
    "def pairSortFast(l):\n",
    "    sorted_arr = []\n",
    "    if l:\n",
    "        vals = [hashFunc(p) for p in l]\n",
    "        max_val = max(vals)\n",
    "        #print(vals,max_val)\n",
    "        hash_arr = [0] * (int(max_val)+1)\n",
    "        for p in l:\n",
    "            hash_arr[int(hashFunc(p))] = p\n",
    "        for i in hash_arr:\n",
    "            if i:\n",
    "                sorted_arr.append(i)\n",
    "    return sorted_arr\n",
    "#sorted_arr = hashedSorting(l)\n",
    "#print([(p.x,p.y) for p in sorted_arr])"
   ]
  },
  {
   "cell_type": "code",
   "execution_count": 16,
   "metadata": {
    "code_folding": [
     0
    ]
   },
   "outputs": [],
   "source": [
    "class TestPairSortFast(TestPairSort):\n",
    "    def setUp(self):\n",
    "        self.PairClass = Pair\n",
    "        self.sortAlgo = pairSortFast\n",
    "    \n",
    "    def test1(self):\n",
    "        #in this test we suppose x=0 for all entries\n",
    "        #this means that the algorithm should do a regular bubble sort\n",
    "        #we also suppose everything is already ordered\n",
    "        l = [self.PairClass(0, 1), self.PairClass(0, 3), self.PairClass(0, 4), self.PairClass(0, 6), \n",
    "            self.PairClass(0, 8), self.PairClass(0, 15), ]\n",
    "        sorted_l = self.sortAlgo(l)\n",
    "        #for item in l: print(item)\n",
    "        self.checkorder(sorted_l)\n",
    "            \n",
    "    def test2(self):\n",
    "        #in this test we suppose x=0 for all entries\n",
    "        #this means that the sort algorithms should do a \"regular\" sort\n",
    "        l = [self.PairClass(0, 8), self.PairClass(0, 4), self.PairClass(0, 3), self.PairClass(0, 9), \n",
    "            self.PairClass(0, 10), self.PairClass(0, 5), ]\n",
    "        sorted_l = self.sortAlgo(l)\n",
    "        #for item in l: print(item)\n",
    "        self.checkorder(sorted_l)\n",
    "\n",
    "            \n",
    "    def test3(self):\n",
    "        #in this test we suppose x and y are not fixed\n",
    "        #we also suppose that everything is in a good order\n",
    "        l = [self.PairClass(5, 8), self.PairClass(5, 10), self.PairClass(6, 10), self.PairClass(7, 12), \n",
    "            self.PairClass(5, 12), self.PairClass(9, 12), ]\n",
    "        sorted_l = self.sortAlgo(l)\n",
    "        #for item in l: print(item)\n",
    "        self.checkorder(sorted_l)\n",
    "        \n",
    "    def test4(self):\n",
    "        #in this test we suppose x and y are not fixed\n",
    "        #we suppose there is no two pairs that are comparable\n",
    "        l = [self.PairClass(8, 8), self.PairClass(5, 10), self.PairClass(10, 8), self.PairClass(12, 5)]\n",
    "        sorted_l = self.sortAlgo(l)\n",
    "        #for item in l: print(item)\n",
    "        self.checkorder(sorted_l)\n",
    "        \n",
    "    def test5(self):\n",
    "        #in this test we suppose x and y are not fixed\n",
    "        #the input is in arbitrary order\n",
    "        #we only test one case\n",
    "        l = [self.PairClass(5, 8), self.PairClass(10, 10), self.PairClass(12, 5), self.PairClass(9, 5),\n",
    "             self.PairClass(5, 10), self.PairClass(7, 2), self.PairClass(6, 10) ]\n",
    "        sorted_l = self.sortAlgo(l)\n",
    "        #for item in l: print(item)\n",
    "        self.checkorder(sorted_l)\n",
    "    \n",
    "    def test6(self):\n",
    "        #in this test we suppose x and y are not fixed\n",
    "        #the input is in arbitrary order\n",
    "        #we generate many cases\n",
    "        for size in range(0, 100):\n",
    "            #create a list\n",
    "            l = []\n",
    "            xs = random.sample(range(0, 100), size)\n",
    "            xy = random.sample(range(0, 100), size)\n",
    "            for i in range(0, size):\n",
    "                l.append(self.PairClass(xs[i], xy[i]))\n",
    "            sorted_l = self.sortAlgo(l)\n",
    "            #for item in l: print(item)\n",
    "            self.checkorder(sorted_l)\n",
    "        \n",
    "    def checkorder(self, l):\n",
    "        for i in range(0, len(l)-1):\n",
    "            for j in range(i, len(l)-1):\n",
    "                if l[i].areComparable(l[j]):\n",
    "                    self.assertTrue(l[i] <= l[j], \"{} and {} are not well ordered\".format(l[i], l[j]) )"
   ]
  },
  {
   "cell_type": "code",
   "execution_count": 17,
   "metadata": {},
   "outputs": [
    {
     "name": "stderr",
     "output_type": "stream",
     "text": [
      "......\n",
      "----------------------------------------------------------------------\n",
      "Ran 6 tests in 1.301s\n",
      "\n",
      "OK\n"
     ]
    },
    {
     "data": {
      "text/plain": [
       "<unittest.runner.TextTestResult run=6 errors=0 failures=0>"
      ]
     },
     "execution_count": 17,
     "metadata": {},
     "output_type": "execute_result"
    }
   ],
   "source": [
    "test = TestPairSortFast()\n",
    "suite = unittest.TestLoader().loadTestsFromModule(test)\n",
    "unittest.TextTestRunner().run(suite)"
   ]
  },
  {
   "cell_type": "markdown",
   "metadata": {},
   "source": [
    "## Question 1.7 (5 marks)"
   ]
  },
  {
   "cell_type": "markdown",
   "metadata": {},
   "source": [
    "Thoroughly benchmark all the sorting algorithms you have written, and plot their running time as a function of the size of the input list. You may use methods and code seen in the lectures or tutes and pracs during the semester."
   ]
  },
  {
   "cell_type": "code",
   "execution_count": 18,
   "metadata": {
    "code_folding": []
   },
   "outputs": [],
   "source": [
    "import matplotlib.pyplot as plt\n",
    "import time\n",
    "## Plotting benchmark for various sorting algorithms\n",
    "benchmark_examples_cnt = [10,50,100,500,750,1000,1500,2000,2500,3000]#,10000] #,100000] #,1000000]\n",
    "\n",
    "def benchMarkPerformance(sorting_algo):\n",
    "    benchmark_times = []\n",
    "    for size in benchmark_examples_cnt:\n",
    "        #print(size)\n",
    "        l=[]\n",
    "        xs = random.sample(range(0, size), size)\n",
    "        xy = random.sample(range(0, size), size)\n",
    "        #print(xs,xy)\n",
    "        for i in range(0, size):\n",
    "            l.append(Pair(xs[i], xy[i]))\n",
    "        start = time.time()\n",
    "        sorting_algo(l)\n",
    "        benchmark_times.append(time.time() - start)\n",
    "    return benchmark_times\n",
    "    \n",
    "        \n",
    "selection_sort = benchMarkPerformance(pairSort)\n",
    "python_sort_with_key = benchMarkPerformance(pairSortWithKey)\n",
    "insertion_sort = benchMarkPerformance(pairSortUsingStability)\n",
    "sort_using_hash = benchMarkPerformance(pairSortFast)\n",
    "#print(arr1,arr2,arr3,arr4)"
   ]
  },
  {
   "cell_type": "code",
   "execution_count": 19,
   "metadata": {},
   "outputs": [
    {
     "data": {
      "text/plain": [
       "<matplotlib.legend.Legend at 0x7fdb2f8ef438>"
      ]
     },
     "execution_count": 19,
     "metadata": {},
     "output_type": "execute_result"
    },
    {
     "data": {
      "image/png": "[encoded data removed]",
      "text/plain": [
       "<Figure size 864x576 with 1 Axes>"
      ]
     },
     "metadata": {},
     "output_type": "display_data"
    }
   ],
   "source": [
    "%matplotlib inline\n",
    "plt.rcParams['figure.figsize'] = (12,8)\n",
    "plt.plot(benchmark_examples_cnt,selection_sort,c='red',label='Selection Sort')\n",
    "plt.plot(benchmark_examples_cnt,python_sort_with_key,c='green',label = 'Python Sort')\n",
    "plt.plot(benchmark_examples_cnt,insertion_sort,c='yellow',label='Insertion Sort')\n",
    "plt.plot(benchmark_examples_cnt,sort_using_hash,c='blue',label='Sort using Hash')\n",
    "plt.title('Bench Mark for various Sorting algos')\n",
    "plt.xlabel('Elements in Array')\n",
    "plt.ylabel('Time in Seconds')\n",
    "plt.legend(loc='best')"
   ]
  },
  {
   "cell_type": "markdown",
   "metadata": {},
   "source": [
    "# Exercise 2 (25 marks)"
   ]
  },
  {
   "cell_type": "markdown",
   "metadata": {},
   "source": [
    "We are again interested in lists of pairs of integers. However, this time, we want to store these pairs into a rooted tree $T$. More precisely, each node of $T$ will store a pair of $l$. This tree $T$ will have the property that for each inner node $k$ that stores a pair $(a, b)$, the pair $(c, d)$ stored at a node in the subtree of $k$ satisfies $(a, b) \\leq (c, d)$. Furthermore, the pairs stored at sibling nodes must be non-comparable.\n",
    "\n",
    "We will suppose that the root of the tree is a dummy pair $(-1, -1)$.\n",
    "\n",
    "You need to provide a unit test for each question in this exercise where code is required. Each question is evaluated on the correctness of your code and the thoroughness of your unit tests."
   ]
  },
  {
   "cell_type": "markdown",
   "metadata": {},
   "source": [
    "## Question 2.1 (10 marks)"
   ]
  },
  {
   "cell_type": "markdown",
   "metadata": {},
   "source": [
    "Define a class that stores the tree $T$ for any given list of pairs. The \\_\\_init\\_\\_() function must take a list as input and build the tree accordingly. An insert() function must allow the insertion of a pair to an initialised tree. In $O()$, what is the running time complexity of the functions you defined?"
   ]
  },
  {
   "cell_type": "code",
   "execution_count": 20,
   "metadata": {
    "code_folding": [
     0,
     6
    ]
   },
   "outputs": [],
   "source": [
    "class TreeNodeG(object):\n",
    "    def __init__(self,parent, children, pair):\n",
    "        self.parent = parent\n",
    "        self.children = children\n",
    "        self.pair = pair\n",
    "        \n",
    "class GeneralTree(object):\n",
    "    def __init__(self,l):\n",
    "        self.root = TreeNodeG(None,[],Pair(-1,-1))\n",
    "        for node in l:\n",
    "            self.insert(self.root,node)\n",
    "            \n",
    "    def insert(self, start, node):\n",
    "        comparable = False\n",
    "        for i,child in enumerate(start.children):\n",
    "            if child.pair.areComparable(node):\n",
    "                comparable = True\n",
    "                if node > child.pair:\n",
    "                    self.insert(child,node)\n",
    "                else:\n",
    "                    less_childs = [(i,child) for i,child in enumerate(start.children) if child.pair >= node]\n",
    "                    idxs, less_childs = list(zip(*less_childs))\n",
    "                    less_childs = [copy.deepcopy(child) for child in less_childs]\n",
    "                    new_node = TreeNodeG(start, less_childs, node)\n",
    "                    for chld in less_childs:\n",
    "                        chld.parent = new_node\n",
    "                    start.children[idxs[0]] = copy.deepcopy(new_node)\n",
    "                    for idx in idxs[1:]:\n",
    "                        start.children.pop(idx)\n",
    "                break\n",
    "                    \n",
    "        if not comparable:\n",
    "            start.children.append(TreeNodeG(start,[],node))\n",
    "    \n",
    "    def treeTraversal(self,start,level):\n",
    "        print('Node : ' + str((start.pair.x,start.pair.y)) + ' , ' + 'Level : %s' % level)\n",
    "        for child in start.children:\n",
    "            if child.children:\n",
    "                self.treeTraversal(child,level+1)\n",
    "            else:\n",
    "                print('Node : ' + str((child.pair.x,child.pair.y)) + ' , ' + 'Level : %s' % str(level+1))"
   ]
  },
  {
   "cell_type": "code",
   "execution_count": 21,
   "metadata": {},
   "outputs": [
    {
     "name": "stdout",
     "output_type": "stream",
     "text": [
      "Tree 1\n",
      "Node : (-1, -1) , Level : 0\n",
      "Node : (5, 8) , Level : 1\n",
      "Node : (5, 10) , Level : 2\n",
      "Node : (6, 10) , Level : 3\n",
      "Node : (7, 12) , Level : 4\n",
      "Node : (9, 12) , Level : 5\n",
      "Node : (5, 12) , Level : 3\n"
     ]
    }
   ],
   "source": [
    "print('Tree 1')\n",
    "l = [Pair(5, 10), Pair(5, 8), Pair(9, 12), Pair(6, 10), Pair(7, 12), Pair(5, 12),]\n",
    "\n",
    "t = GeneralTree(l)\n",
    "t.treeTraversal(t.root,0)"
   ]
  },
  {
   "cell_type": "code",
   "execution_count": 22,
   "metadata": {
    "code_folding": [
     3
    ]
   },
   "outputs": [],
   "source": [
    "import unittest\n",
    "import random\n",
    "\n",
    "class TestPairTree(unittest.TestCase):\n",
    "    def setUp(self):\n",
    "        self.PairClass = Pair\n",
    "        self.sortAlgo = pairSort\n",
    "    \n",
    "    def test1(self):\n",
    "        l = [self.PairClass(0, 1), self.PairClass(0, 3), self.PairClass(0, 4), self.PairClass(0, 6), \n",
    "            self.PairClass(0, 8), self.PairClass(0, 15), ]\n",
    "        t =GeneralTree(l)\n",
    "        #print('Tree 1')\n",
    "        #t.treeTraversal(t.root,0)\n",
    "        #print()\n",
    "\n",
    "    def test2(self):\n",
    "        l = [self.PairClass(0, 8), self.PairClass(0, 4), self.PairClass(0, 3), self.PairClass(0, 9), \n",
    "            self.PairClass(0, 10), self.PairClass(0, 5), ]\n",
    "        t =GeneralTree(l)\n",
    "        self.checkTreeValidity(t)\n",
    "        #print('Tree 2')\n",
    "        #t.treeTraversal(t.root,0)\n",
    "        #print()\n",
    " \n",
    "    def test3(self):\n",
    "        l = [self.PairClass(5, 8), self.PairClass(5, 10), self.PairClass(6, 10), self.PairClass(7, 12), \n",
    "            self.PairClass(5, 12), self.PairClass(9, 12), ]\n",
    "        t =GeneralTree(l)\n",
    "        self.checkTreeValidity(t)\n",
    "        #print('Tree 3')\n",
    "        #t.treeTraversal(t.root,0)\n",
    "        #print()\n",
    "    \n",
    "    def test3_2(self):\n",
    "        l = [self.PairClass(5, 10), self.PairClass(7,12), self.PairClass(9,12), self.PairClass(5, 8), \n",
    "            self.PairClass(5, 12), self.PairClass(6,10), ]\n",
    "        t =GeneralTree(l)\n",
    "        self.checkTreeValidity(t)\n",
    "        #print('Tree 3_2')\n",
    "        #t.treeTraversal(t.root,0)\n",
    "        #print()\n",
    "   \n",
    "    def test4(self):\n",
    "        l = [self.PairClass(8, 8), self.PairClass(5, 10), self.PairClass(10, 8), self.PairClass(12, 5)]\n",
    "        t =GeneralTree(l)\n",
    "        self.checkTreeValidity(t)\n",
    "        #print('Tree 4')\n",
    "        #t.treeTraversal(t.root,0)\n",
    "        #print()\n",
    "       \n",
    "    def test5(self):\n",
    "        l = [self.PairClass(5, 8), self.PairClass(10, 10), self.PairClass(12, 5), self.PairClass(9, 5),\n",
    "             self.PairClass(5, 10), self.PairClass(7, 2), self.PairClass(6, 10) ]\n",
    "        t =GeneralTree(l)\n",
    "        self.checkTreeValidity(t)\n",
    "        #print('Tree 5')\n",
    "        #t.treeTraversal(t.root,0)\n",
    "        #print()\n",
    "        \n",
    "    def checkTreeValidity(self,t):\n",
    "        q = [t.root]\n",
    "        while q:\n",
    "            node = q.pop()\n",
    "            for i,node1 in enumerate(node.children):\n",
    "                for node2 in node.children[i+1:]:\n",
    "                    self.assertTrue(node1.pair != node2.pair and not node1.pair.areComparable(node2.pair),'Two sibling nodes are comparable %s, %s' % (str((node1.pair.x,node1.pair.y)),str((node2.pair.x,node2.pair.y))))\n",
    "            q.extend(node.children)\n",
    "            q2 = node.children\n",
    "            while q2:\n",
    "                child = q2.pop()\n",
    "                self.assertTrue(child.pair > node.pair,'Child has less value than parent. Child %s, Parent %s' % (str((child.pair.x,child.pair.y)),str((node.pair.x,node.pair.y))))\n",
    "                q2.extend(child.children)"
   ]
  },
  {
   "cell_type": "code",
   "execution_count": 23,
   "metadata": {
    "code_folding": []
   },
   "outputs": [
    {
     "name": "stderr",
     "output_type": "stream",
     "text": [
      "......\n",
      "----------------------------------------------------------------------\n",
      "Ran 6 tests in 0.037s\n",
      "\n",
      "OK\n"
     ]
    },
    {
     "data": {
      "text/plain": [
       "<unittest.runner.TextTestResult run=6 errors=0 failures=0>"
      ]
     },
     "execution_count": 23,
     "metadata": {},
     "output_type": "execute_result"
    }
   ],
   "source": [
    "test = TestPairTree()\n",
    "suite = unittest.TestLoader().loadTestsFromModule(test)\n",
    "unittest.TextTestRunner().run(suite)"
   ]
  },
  {
   "cell_type": "markdown",
   "metadata": {},
   "source": [
    "## Question 2.2 (5 marks)"
   ]
  },
  {
   "cell_type": "markdown",
   "metadata": {},
   "source": [
    "In the class you have defined in Question 2.1, can there be multiple trees that store the same list of pairs? (including after insertions?). Prove your answer."
   ]
  },
  {
   "cell_type": "markdown",
   "metadata": {},
   "source": [
    "### There can be only 1 tree even if there are elements provided in different sequence.\n",
    "\n",
    "### Checkout above proof below"
   ]
  },
  {
   "cell_type": "code",
   "execution_count": 24,
   "metadata": {},
   "outputs": [
    {
     "name": "stdout",
     "output_type": "stream",
     "text": [
      "Tree 1\n",
      "Node : (-1, -1) , Level : 0\n",
      "Node : (5, 8) , Level : 1\n",
      "Node : (5, 10) , Level : 2\n",
      "Node : (6, 10) , Level : 3\n",
      "Node : (7, 12) , Level : 4\n",
      "Node : (9, 12) , Level : 5\n",
      "Node : (5, 12) , Level : 3\n",
      "\n",
      "Tree 2\n",
      "Node : (-1, -1) , Level : 0\n",
      "Node : (5, 8) , Level : 1\n",
      "Node : (5, 10) , Level : 2\n",
      "Node : (6, 10) , Level : 3\n",
      "Node : (7, 12) , Level : 4\n",
      "Node : (9, 12) , Level : 5\n",
      "Node : (5, 12) , Level : 3\n"
     ]
    }
   ],
   "source": [
    "print('Tree 1')\n",
    "l = [Pair(5, 10), Pair(5, 8), Pair(9, 12), Pair(6, 10), Pair(7, 12), Pair(5, 12),]\n",
    "\n",
    "t = GeneralTree(l)\n",
    "t.treeTraversal(t.root,0)\n",
    "print()\n",
    "print('Tree 2')\n",
    "## This list is same as above list. We ahve just changed order of elements to check tree behaviour.\n",
    "l = [Pair(6, 10), Pair(7, 12), Pair(5, 10), Pair(5, 12), Pair(5, 8), Pair(9, 12),]\n",
    "\n",
    "t = GeneralTree(l)\n",
    "t.treeTraversal(t.root,0)"
   ]
  },
  {
   "cell_type": "markdown",
   "metadata": {},
   "source": [
    "## Question 2.3 (5 marks)"
   ]
  },
  {
   "cell_type": "markdown",
   "metadata": {},
   "source": [
    "We now relax the constraint that $T$ must be \"exactly\" a tree. A child node which stores a pair $(c, d)$ must now have as a parent all the nodes that have a pair $(a, b)$ such that $(a,b)\\leq(c,d)$."
   ]
  },
  {
   "cell_type": "markdown",
   "metadata": {},
   "source": [
    "Design a class (it may be based on the previous one) to allow and build this representation."
   ]
  },
  {
   "cell_type": "code",
   "execution_count": 25,
   "metadata": {},
   "outputs": [],
   "source": [
    "import copy"
   ]
  },
  {
   "cell_type": "code",
   "execution_count": 26,
   "metadata": {
    "code_folding": [
     0,
     7
    ]
   },
   "outputs": [],
   "source": [
    "class TreeNode(object):\n",
    "    def __init__(self,parents, children, pair, level):\n",
    "        self.parents = parents\n",
    "        self.children = children\n",
    "        self.pair = pair\n",
    "        self.level = level\n",
    "        \n",
    "class GeneralTreeRelaxed(object):\n",
    "    def __init__(self,l):\n",
    "        self.root = TreeNode([],[],Pair(-1,-1),0)\n",
    "        for node in l:\n",
    "            self.insert(self.root,node)\n",
    "\n",
    "    def increaseLevel(self,start):\n",
    "        start.level += 1\n",
    "        for child in start.children:\n",
    "            if child.children:\n",
    "                self.increaseLevel(child)\n",
    "            else:\n",
    "                child.level += 1\n",
    "    \n",
    "    def inserParentInWholeSubTree(self, nodes, parent):\n",
    "        q = copy.deepcopy(nodes)\n",
    "        while q:\n",
    "            node = q.pop()\n",
    "            node.parents.insert(-1,parent)\n",
    "            for child in node.children:\n",
    "                child.parents.insert(-1,parent)\n",
    "                q.extend(child.children)\n",
    "    \n",
    "    def insert(self, start, pair):\n",
    "        comparable = False\n",
    "        for i,child in enumerate(start.children):\n",
    "            if child.pair.areComparable(pair):\n",
    "                comparable = True\n",
    "                if pair > child.pair:\n",
    "                    self.insert(child,pair)\n",
    "                else:\n",
    "                    less_childs = [(i,child) for i,child in enumerate(start.children) if child.pair >= pair]\n",
    "                    idxs, less_childs = list(zip(*less_childs))\n",
    "                    less_childs = [copy.deepcopy(child) for child in less_childs]\n",
    "                    for chld in less_childs:\n",
    "                        self.increaseLevel(chld)\n",
    "                    #print('Node : %d,%d  -  1 Parents : %s' % (pair.x,pair.y,str(self.listParents(child.parents))))\n",
    "                    new_node = TreeNode(copy.deepcopy([start]+start.parents),copy.deepcopy(less_childs),pair,child.level)\n",
    "                    self.inserParentInWholeSubTree(less_childs, copy.deepcopy(new_node))\n",
    "                    start.children[idxs[0]] = copy.deepcopy(new_node)\n",
    "                    start.children = copy.copy([child for j,child in enumerate(start.children) if j not in idxs[1:]])\n",
    "                    #print('Node : %d,%d  -  2 Parents : %s' % (temp.pair.x,temp.pair.y,str(self.listParents(temp.parents))))\n",
    "                break\n",
    "                    \n",
    "        if not comparable:\n",
    "            #print('Node : %d,%d  -  3 Parents : %s' % (pair.x,pair.y,str(self.listParents(start.parents))))\n",
    "            start.children.append(TreeNode(copy.deepcopy([start]+start.parents),[],pair,start.level + 1))\n",
    "    \n",
    "    def listParents(self,parents):\n",
    "        return [(parent.pair.x,parent.pair.y) for parent in parents]\n",
    "    \n",
    "    def treeTraversal(self,start):\n",
    "        print('Node : ' + str((start.pair.x,start.pair.y)) + ' , ' + 'Level : %s' % start.level + ', Parents : %s'  % str(self.listParents(start.parents)) + ', Children : %s' % self.listParents(start.children))\n",
    "        for child in start.children:\n",
    "            if child.children:\n",
    "                self.treeTraversal(child)\n",
    "            else:\n",
    "                print('Node : ' + str((child.pair.x,child.pair.y)) + ' , ' + 'Level : %s' % str(child.level) + ', Parents : %s' % str(self.listParents(child.parents)) + ', Children : %s' % self.listParents(child.children))"
   ]
  },
  {
   "cell_type": "code",
   "execution_count": 27,
   "metadata": {
    "code_folding": [
     1
    ]
   },
   "outputs": [],
   "source": [
    "#l = [Pair(92, 32), Pair(48, 31), Pair(5, 10), Pair(60, 26), Pair(2, 68), Pair(1, 37), Pair(50, 7)]\n",
    "l = [Pair(61, 4), Pair(76, 68), Pair(20, 36), Pair(2, 87), Pair(16, 55), Pair(10, 21), Pair(5, 15), \n",
    "     Pair(75, 58), Pair(69, 57), Pair(83, 98), Pair(86, 50), Pair(99, 40)]\n",
    "\n",
    "t =GeneralTreeRelaxed(l)\n",
    "#t.treeTraversal(t.root)\n",
    "\n",
    "t =GeneralTree(l)\n",
    "#t.treeTraversal(t.root,0)"
   ]
  },
  {
   "cell_type": "code",
   "execution_count": 28,
   "metadata": {
    "code_folding": [
     3
    ]
   },
   "outputs": [],
   "source": [
    "import unittest\n",
    "import random\n",
    "\n",
    "class TestPairTree2(unittest.TestCase):\n",
    "    def setUp(self):\n",
    "        self.PairClass = Pair\n",
    "    \n",
    "    def test1(self):\n",
    "        l = [self.PairClass(0, 1), self.PairClass(0, 3), self.PairClass(0, 4), self.PairClass(0, 6), \n",
    "            self.PairClass(0, 8), self.PairClass(0, 15), ]\n",
    "        t =GeneralTreeRelaxed(l)\n",
    "        #print('Tree 1')\n",
    "        #t.treeTraversal(t.root)\n",
    "        #print()\n",
    "\n",
    "    def test2(self):\n",
    "        l = [self.PairClass(0, 8), self.PairClass(0, 4), self.PairClass(0, 3), self.PairClass(0, 9), \n",
    "            self.PairClass(0, 10), self.PairClass(0, 5), ]\n",
    "        t =GeneralTreeRelaxed(l)\n",
    "        #print('Tree 2')\n",
    "        #t.treeTraversal(t.root)\n",
    "        #print()\n",
    " \n",
    "    def test3(self):\n",
    "        l = [self.PairClass(5, 8), self.PairClass(5, 10), self.PairClass(6, 10), self.PairClass(7, 12), \n",
    "            self.PairClass(5, 12), self.PairClass(9, 12), ]\n",
    "        t =GeneralTreeRelaxed(l)\n",
    "        #print('Tree 3')\n",
    "        #t.treeTraversal(t.root,)\n",
    "        #print()\n",
    "   \n",
    "    def test4(self):\n",
    "        l = [self.PairClass(8, 8), self.PairClass(5, 10), self.PairClass(10, 8), self.PairClass(12, 5)]\n",
    "        t =GeneralTreeRelaxed(l)\n",
    "        #print('Tree 4')\n",
    "        #t.treeTraversal(t.root)\n",
    "        #print()\n",
    "       \n",
    "    def test5(self):\n",
    "        l = [self.PairClass(5, 8), self.PairClass(10, 10), self.PairClass(12, 5), self.PairClass(9, 5),\n",
    "             self.PairClass(5, 10), self.PairClass(7, 2), self.PairClass(6, 10) ]\n",
    "        t =GeneralTreeRelaxed(l)\n",
    "        #print('Tree 5')\n",
    "        #t.treeTraversal(t.root)\n",
    "        #print()\n",
    "    \n",
    "    def checkTreeValidity(self,t):\n",
    "        q = [t.root]\n",
    "        while q:\n",
    "            node = q.pop()\n",
    "            self.checkAllParentsAreLess(node)\n",
    "            for i,node1 in enumerate(node.children):\n",
    "                for node2 in node.children[i+1:]:\n",
    "                    self.assertTrue(node1.pair != node2.pair and not node1.pair.areComparable(node2.pair),'Two sibling nodes are comparable %s, %s' % (str((node1.pair.x,node1.pair.y)),str((node2.pair.x,node2.pair.y))))\n",
    "            q.extend(node.children)\n",
    "            q2 = node.children\n",
    "            while q2:\n",
    "                child = q2.pop()\n",
    "                self.assertTrue(child.pair > node.pair,'Child has less value than parent. Child %s, Parent %s' % (str((child.pair.x,child.pair.y)),str((node.pair.x,node.pair.y))))\n",
    "                q2.extend(child.children)\n",
    "    \n",
    "    def checkAllParentsAreLess(self,node):\n",
    "        for parent in node.parents:\n",
    "            self.assertTrue(parent.pair <= node.pair,'Parent has more value than Child. Parent : %s, Child : %s' % (str((parent.pair.x, parent.pair.y)),str((node.pair.x,node.pair.y))))"
   ]
  },
  {
   "cell_type": "code",
   "execution_count": 29,
   "metadata": {},
   "outputs": [
    {
     "name": "stderr",
     "output_type": "stream",
     "text": [
      ".....\n",
      "----------------------------------------------------------------------\n",
      "Ran 5 tests in 0.083s\n",
      "\n",
      "OK\n"
     ]
    },
    {
     "data": {
      "text/plain": [
       "<unittest.runner.TextTestResult run=5 errors=0 failures=0>"
      ]
     },
     "execution_count": 29,
     "metadata": {},
     "output_type": "execute_result"
    }
   ],
   "source": [
    "test = TestPairTree2()\n",
    "suite = unittest.TestLoader().loadTestsFromModule(test)\n",
    "unittest.TextTestRunner().run(suite)"
   ]
  },
  {
   "cell_type": "markdown",
   "metadata": {},
   "source": [
    "## Question 2.4 (5 marks)"
   ]
  },
  {
   "cell_type": "markdown",
   "metadata": {},
   "source": [
    "Using the class written in Question 2.3, design and code an algorithm that traverses all the nodes in that data structure and outputs the stored pairs in sorted order (as defined in Question 1.2)."
   ]
  },
  {
   "cell_type": "code",
   "execution_count": 30,
   "metadata": {
    "code_folding": [
     12
    ]
   },
   "outputs": [],
   "source": [
    "l = [Pair(5, 8), Pair(5, 10), Pair(6, 10), Pair(7, 12), Pair(5, 12), Pair(9, 12), ]\n",
    "#l = [Pair(92, 32), Pair(48, 31), Pair(5, 10), Pair(60, 26), Pair(2, 68), Pair(1, 37), Pair(50, 7)]\n",
    "#l = [Pair(61, 4), Pair(76, 68), Pair(20, 36), Pair(2, 87), Pair(16, 55), Pair(10, 21), Pair(5, 15), \n",
    "#     Pair(75, 58), Pair(69, 57), Pair(83, 98), Pair(86, 50), Pair(99, 40)]\n",
    "\n",
    "#l = [Pair(63, 48),Pair(98, 94),Pair(57, 90),Pair(71, 68), Pair(40, 86), Pair(7, 40),Pair(41, 46),Pair(29, 51),\n",
    "# Pair(52, 71),Pair(44, 55),Pair(24, 20)]\n",
    "t =GeneralTreeRelaxed(l)\n",
    "#t.treeTraversal(t.root)\n",
    "def treeSort(root):\n",
    "    sorted_l = []\n",
    "    q = [root]\n",
    "    while q:\n",
    "        #print([(p.pair.x,p.pair.y) for p in q])\n",
    "        node = q.pop(0)\n",
    "        #print((node.pair.x,node.pair.y))\n",
    "        sorted_l.append(copy.deepcopy(node.pair))\n",
    "        q.extend(copy.deepcopy(node.children))\n",
    "    return sorted_l\n",
    "\n",
    "sorted_l = treeSort(t.root)"
   ]
  },
  {
   "cell_type": "code",
   "execution_count": 31,
   "metadata": {},
   "outputs": [
    {
     "name": "stdout",
     "output_type": "stream",
     "text": [
      "[(-1, -1), (5, 8), (5, 10), (6, 10), (5, 12), (7, 12), (9, 12)]\n"
     ]
    }
   ],
   "source": [
    "print([(val.x,val.y)for val in sorted_l if val])"
   ]
  },
  {
   "cell_type": "code",
   "execution_count": 32,
   "metadata": {
    "code_folding": [
     3
    ]
   },
   "outputs": [],
   "source": [
    "import unittest\n",
    "import random\n",
    "\n",
    "class TestPairTreeSort(unittest.TestCase):\n",
    "    def setUp(self):\n",
    "        self.PairClass = Pair\n",
    "        self.sortAlgo = treeSort\n",
    "    \n",
    "    def test1(self):\n",
    "        l = [self.PairClass(0, 1), self.PairClass(0, 3), self.PairClass(0, 4), self.PairClass(0, 6), \n",
    "            self.PairClass(0, 8), self.PairClass(0, 15), ]\n",
    "        t =GeneralTreeRelaxed(l)\n",
    "        sorted_l = self.sortAlgo(t.root)\n",
    "        #print([(p.x,p.y) for p in sorted_l if p.x != -1])\n",
    "        self.checkorder(sorted_l[1:])\n",
    "            \n",
    "    def test2(self):\n",
    "        l = [self.PairClass(0, 8), self.PairClass(0, 4), self.PairClass(0, 3), self.PairClass(0, 9), \n",
    "            self.PairClass(0, 10), self.PairClass(0, 5), ]\n",
    "        t =GeneralTreeRelaxed(l)\n",
    "        sorted_l = self.sortAlgo(t.root)\n",
    "        #print([(p.x,p.y) for p in sorted_l if p.x != -1])\n",
    "        self.checkorder(sorted_l[1:])\n",
    "\n",
    "            \n",
    "    def test3(self):\n",
    "        l = [self.PairClass(5, 8), self.PairClass(5, 10), self.PairClass(6, 10), self.PairClass(7, 12), \n",
    "            self.PairClass(5, 12), self.PairClass(9, 12), ]\n",
    "        t =GeneralTreeRelaxed(l)\n",
    "        sorted_l = self.sortAlgo(t.root)\n",
    "        #print([(p.x,p.y) for p in sorted_l if p.x != -1])\n",
    "        self.checkorder(sorted_l[1:])\n",
    "        \n",
    "    def test4(self):\n",
    "        l = [self.PairClass(8, 8), self.PairClass(5, 10), self.PairClass(10, 8), self.PairClass(12, 5)]\n",
    "        sorted_l = []\n",
    "        t =GeneralTreeRelaxed(l)\n",
    "        sorted_l = self.sortAlgo(t.root)\n",
    "        #print([(p.x,p.y) for p in sorted_l if p.x != -1])\n",
    "        self.checkorder(sorted_l[1:])\n",
    "        \n",
    "    def test5(self):\n",
    "        l = [self.PairClass(5, 8), self.PairClass(10, 10), self.PairClass(12, 5), self.PairClass(9, 5),\n",
    "             self.PairClass(5, 10), self.PairClass(7, 2), self.PairClass(6, 10) ]\n",
    "        t =GeneralTreeRelaxed(l)\n",
    "        sorted_l = self.sortAlgo(t.root)\n",
    "        #print([(p.x,p.y) for p in sorted_l if p.x != -1])\n",
    "        self.checkorder(sorted_l[1:])\n",
    "    \n",
    "    def checkorder(self, l):\n",
    "        for i in range(0, len(l)-1):\n",
    "            for j in range(i, len(l)-1):\n",
    "                if l[i] and l[j] and l[i].areComparable(l[j]):\n",
    "                    self.assertTrue(l[i] <= l[j], \"{} and {} are not well ordered\".format(l[i], l[j]) )"
   ]
  },
  {
   "cell_type": "code",
   "execution_count": 33,
   "metadata": {},
   "outputs": [
    {
     "name": "stderr",
     "output_type": "stream",
     "text": [
      ".....\n",
      "----------------------------------------------------------------------\n",
      "Ran 5 tests in 0.141s\n",
      "\n",
      "OK\n"
     ]
    },
    {
     "data": {
      "text/plain": [
       "<unittest.runner.TextTestResult run=5 errors=0 failures=0>"
      ]
     },
     "execution_count": 33,
     "metadata": {},
     "output_type": "execute_result"
    }
   ],
   "source": [
    "test = TestPairTreeSort()\n",
    "suite = unittest.TestLoader().loadTestsFromModule(test)\n",
    "unittest.TextTestRunner().run(suite)"
   ]
  },
  {
   "cell_type": "markdown",
   "metadata": {},
   "source": [
    "# Exercise 3 (25 marks)"
   ]
  },
  {
   "cell_type": "markdown",
   "metadata": {},
   "source": [
    "You are given a tree $T$ with an integer value (negative or positive) at each node. We want to select a subtree of $T$ (with the same root) that maximises the sum of the values at its nodes. Note that the answer is trivially $T$ if all nodes have a non-negative value."
   ]
  },
  {
   "cell_type": "markdown",
   "metadata": {},
   "source": [
    "## Question 3.1 (5 marks)"
   ]
  },
  {
   "cell_type": "markdown",
   "metadata": {},
   "source": [
    "Define a data structure to store $T$."
   ]
  },
  {
   "cell_type": "code",
   "execution_count": 34,
   "metadata": {
    "code_folding": [
     0,
     9
    ]
   },
   "outputs": [],
   "source": [
    "class TreeNodeInt(object):\n",
    "    def __init__(self,num, parent, children, value,total_sum = 0, level=0):\n",
    "        self.num = num\n",
    "        self.parent = parent\n",
    "        self.children = children\n",
    "        self.value = value\n",
    "        self.subtree_sum = total_sum\n",
    "        self.level = level\n",
    "        \n",
    "class TreeInt(object):\n",
    "\n",
    "    def __init__(self, tree, values, root = None):\n",
    "        if root:\n",
    "            self.root = root\n",
    "            return\n",
    "        self.root = TreeNodeInt(0,None,[],values[0],values[0],0)\n",
    "        #print(self.root.children)\n",
    "        q = list(zip([0]*len(tree[0]),tree[0]))\n",
    "        while q:\n",
    "            parent_node_num, node_num = q.pop()\n",
    "            self.insert(self.root,parent_node_num,node_num,values[node_num])\n",
    "            if node_num in tree.keys():\n",
    "                q.extend(list(zip([node_num] * len(tree[node_num]) ,tree[node_num])))\n",
    "    \n",
    "    def insert(self,start, parent_node_num, node_num,value):\n",
    "        q = [start] + start.children\n",
    "        node = None\n",
    "        while q:\n",
    "            child = q.pop()\n",
    "            if child.num == parent_node_num:\n",
    "                node = child\n",
    "                break\n",
    "            q.extend(child.children)\n",
    "        node.children.append(TreeNodeInt(node_num, node, [], value, value,node.level+1))\n",
    "        while node:\n",
    "            node.subtree_sum += value\n",
    "            node = node.parent\n",
    "    \n",
    "    @classmethod\n",
    "    def fromAnotherNode(cls,root):\n",
    "        t = cls(None,None,root)\n",
    "        t.root = root\n",
    "        return t\n",
    "    \n",
    "    def traverseTree(self):\n",
    "        q = [self.root]\n",
    "        while q:\n",
    "            node = q.pop()\n",
    "            print('Node Num : %s, Value : %s, Level : %s, SubTree Sum : %s' % (node.num,node.value,node.level,node.subtree_sum))\n",
    "            q.extend(node.children)\n"
   ]
  },
  {
   "cell_type": "code",
   "execution_count": 35,
   "metadata": {
    "code_folding": [
     0
    ]
   },
   "outputs": [
    {
     "name": "stdout",
     "output_type": "stream",
     "text": [
      "Node Num : 0, Value : -5, Level : 0, SubTree Sum : -2\n",
      "Node Num : 1, Value : 6, Level : 1, SubTree Sum : -2\n",
      "Node Num : 3, Value : -8, Level : 2, SubTree Sum : -8\n",
      "Node Num : 2, Value : 7, Level : 1, SubTree Sum : 5\n",
      "Node Num : 4, Value : -1, Level : 2, SubTree Sum : -1\n",
      "Node Num : 5, Value : -1, Level : 2, SubTree Sum : -1\n"
     ]
    }
   ],
   "source": [
    "#t = TreeInt(tree={0:[1,2,3], 1:[4], 2:[5], 3:[6]}, values=[-10,-1,-1,-1,-1,-1,-1])\n",
    "t = TreeInt(tree={0:[1,2], 1:[3], 2:[4,5]}, values=[-5,6,7,-8,-1,-1,1])\n",
    "t.traverseTree()"
   ]
  },
  {
   "cell_type": "code",
   "execution_count": 36,
   "metadata": {
    "code_folding": [
     0
    ]
   },
   "outputs": [],
   "source": [
    "# sum([4,7,2,8,-1,-2,6,-5,-3])\n",
    "#del max_t"
   ]
  },
  {
   "cell_type": "markdown",
   "metadata": {},
   "source": [
    "## Question 3.2 (15 marks)"
   ]
  },
  {
   "cell_type": "markdown",
   "metadata": {},
   "source": [
    "Design and code a dynamic programming algorithm that solves this problem."
   ]
  },
  {
   "cell_type": "code",
   "execution_count": 37,
   "metadata": {
    "code_folding": [
     0
    ]
   },
   "outputs": [
    {
     "name": "stdout",
     "output_type": "stream",
     "text": [
      "Maximum subtree sum : 5\n",
      "Maximum subtree root value : 7\n",
      "Maximum subtree root number : 2\n",
      "\n"
     ]
    }
   ],
   "source": [
    "def maxSumSubTree(t):\n",
    "    max_t,big_node = t.root.subtree_sum, t.root\n",
    "    q = t.root.children\n",
    "    #print(max_t)\n",
    "    while q:\n",
    "        node = q.pop()\n",
    "        if node.subtree_sum > max_t:\n",
    "            max_t = node.subtree_sum\n",
    "            big_node = node\n",
    "        q.extend(node.children)\n",
    "    return big_node\n",
    "big_node = maxSumSubTree(t)\n",
    "\n",
    "max_subtree = TreeInt.fromAnotherNode(big_node)\n",
    "\n",
    "print('Maximum subtree sum : %d' % big_node.subtree_sum)\n",
    "print('Maximum subtree root value : %d' % big_node.value)\n",
    "print('Maximum subtree root number : %d' % big_node.num)\n",
    "print()\n",
    "# max_subtree.traverseTree()"
   ]
  },
  {
   "cell_type": "code",
   "execution_count": 38,
   "metadata": {},
   "outputs": [
    {
     "name": "stdout",
     "output_type": "stream",
     "text": [
      "Node Num : 2, Value : 7, Level : 1, SubTree Sum : 5\n",
      "Node Num : 4, Value : -1, Level : 2, SubTree Sum : -1\n",
      "Node Num : 5, Value : -1, Level : 2, SubTree Sum : -1\n"
     ]
    }
   ],
   "source": [
    "max_subtree = TreeInt.fromAnotherNode(big_node)\n",
    "max_subtree.traverseTree()"
   ]
  },
  {
   "cell_type": "markdown",
   "metadata": {},
   "source": [
    "## Question 3.3 (5 marks)"
   ]
  },
  {
   "cell_type": "markdown",
   "metadata": {},
   "source": [
    " Write and run unit tests and performance tests."
   ]
  },
  {
   "cell_type": "code",
   "execution_count": 39,
   "metadata": {
    "code_folding": [
     3
    ]
   },
   "outputs": [],
   "source": [
    "import unittest\n",
    "import random\n",
    "\n",
    "class TestTreeNodeInt(unittest.TestCase):\n",
    "    def setUp(self):\n",
    "        self.subTreeAlgo = maxSumSubTree\n",
    "    \n",
    "    def test1(self):\n",
    "        t = TreeInt(tree={0:[1,2,3], 1:[4], 2:[5], 3:[6]}, values=[1,-1,-200,-100,-1,100,1000])\n",
    "        #t.traverseTree()\n",
    "        max_node = self.subTreeAlgo(t)\n",
    "        self.assertEqual(max_node.subtree_sum,1000,'Maximum subtree sum should be 1000')\n",
    "        self.assertEqual(max_node.num,6,'Maximum subtree root node should be 6')\n",
    "        \n",
    "            \n",
    "    def test2(self):\n",
    "        t = TreeInt(tree={0:[1,2], 1:[3], 2:[4,5]}, values=[10,1,-1,-1,-1,1,1])\n",
    "        #t.traverseTree()\n",
    "        max_node = self.subTreeAlgo(t)\n",
    "        self.assertEqual(max_node.subtree_sum,9,'Maximum subtree sum should be 9')\n",
    "        self.assertEqual(max_node.num,0,'Maximum subtree root node should be 0')\n",
    "            \n",
    "    def test3(self):\n",
    "        t = TreeInt(tree={0:[1,2,4,5], 1:[3,6,7], 2:[8,9], 3:[10,11], 9:[12,13]}, values=[10,1,-1,-1,-1,1,1,12,5,7,3,-2,-8,-10])\n",
    "        #t.traverseTree()\n",
    "        max_node = self.subTreeAlgo(t)\n",
    "        self.assertEqual(max_node.subtree_sum,17,'Maximum subtree sum should be 17')\n",
    "        self.assertEqual(max_node.num,0,'Maximum subtree root node should be 0')\n",
    "    \n",
    "    def test4(self):\n",
    "        t = TreeInt(tree={0:[1,2], 1:[3], 2:[4,5]}, values=[-5,6,7,-8,-1,-1,1])\n",
    "        #t.traverseTree()\n",
    "        max_node = self.subTreeAlgo(t)\n",
    "        self.assertEqual(max_node.subtree_sum,5,'Maximum subtree sum should be 5')\n",
    "        self.assertEqual(max_node.num,2,'Maximum subtree root node should be 2')"
   ]
  },
  {
   "cell_type": "code",
   "execution_count": 40,
   "metadata": {},
   "outputs": [
    {
     "name": "stderr",
     "output_type": "stream",
     "text": [
      "....\n",
      "----------------------------------------------------------------------\n",
      "Ran 4 tests in 0.009s\n",
      "\n",
      "OK\n"
     ]
    },
    {
     "data": {
      "text/plain": [
       "<unittest.runner.TextTestResult run=4 errors=0 failures=0>"
      ]
     },
     "execution_count": 40,
     "metadata": {},
     "output_type": "execute_result"
    }
   ],
   "source": [
    "test = TestTreeNodeInt()\n",
    "suite = unittest.TestLoader().loadTestsFromModule(test)\n",
    "unittest.TextTestRunner().run(suite)"
   ]
  }
 ],
 "metadata": {
  "kernelspec": {
   "display_name": "Python 3",
   "language": "python",
   "name": "python3"
  },
  "language_info": {
   "codemirror_mode": {
    "name": "ipython",
    "version": 3
   },
   "file_extension": ".py",
   "mimetype": "text/x-python",
   "name": "python",
   "nbconvert_exporter": "python",
   "pygments_lexer": "ipython3",
   "version": "3.6.5"
  }
 },
 "nbformat": 4,
 "nbformat_minor": 2
}
