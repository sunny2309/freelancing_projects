{
 "cells": [
  {
   "cell_type": "code",
   "execution_count": 1,
   "metadata": {},
   "outputs": [
    {
     "name": "stderr",
     "output_type": "stream",
     "text": [
      "/home/sunny/anaconda2/envs/p3/lib/python3.6/site-packages/h5py/__init__.py:36: FutureWarning: Conversion of the second argument of issubdtype from `float` to `np.floating` is deprecated. In future, it will be treated as `np.float64 == np.dtype(float).type`.\n",
      "  from ._conv import register_converters as _register_converters\n",
      "Using Theano backend.\n"
     ]
    }
   ],
   "source": [
    "import numpy as np\n",
    "import pandas as pd\n",
    "import matplotlib.pyplot as plt\n",
    "\n",
    "## Scikit Learn Imports.........\n",
    "from sklearn.neural_network import MLPClassifier\n",
    "from sklearn.model_selection import train_test_split\n",
    "from sklearn.metrics import confusion_matrix,log_loss\n",
    "from sklearn.preprocessing import MinMaxScaler, StandardScaler, RobustScaler\n",
    "from sklearn.neighbors import KNeighborsClassifier\n",
    "from sklearn.linear_model import LogisticRegression\n",
    "from sklearn.metrics import confusion_matrix,precision_recall_fscore_support\n",
    "from sklearn.utils import class_weight\n",
    "\n",
    "## Keras Imports...........\n",
    "import keras\n",
    "import keras.backend as K\n",
    "from keras.layers import Dense,Flatten,Dropout,BatchNormalization,Input,Lambda,Merge,Conv1D\n",
    "from keras.models import Sequential,Model\n",
    "from keras.utils.np_utils import to_categorical\n",
    "from keras.optimizers import Adam,SGD,RMSprop\n",
    "from collections import Counter\n",
    "\n",
    "%matplotlib inline\n",
    "plt.rcParams['figure.figsize'] = 15,8"
   ]
  },
  {
   "cell_type": "code",
   "execution_count": 2,
   "metadata": {},
   "outputs": [],
   "source": [
    "train_df = pd.read_csv('TrainingData.csv',names=['Time','Feature1','Feature2','Feature3','Feature4','Feature5','Target'])#,parse_dates=['Time'])"
   ]
  },
  {
   "cell_type": "code",
   "execution_count": 3,
   "metadata": {},
   "outputs": [
    {
     "data": {
      "text/plain": [
       "Time         object\n",
       "Feature1    float64\n",
       "Feature2    float64\n",
       "Feature3    float64\n",
       "Feature4    float64\n",
       "Feature5      int64\n",
       "Target        int64\n",
       "dtype: object"
      ]
     },
     "execution_count": 3,
     "metadata": {},
     "output_type": "execute_result"
    }
   ],
   "source": [
    "train_df.dtypes"
   ]
  },
  {
   "cell_type": "code",
   "execution_count": 4,
   "metadata": {},
   "outputs": [
    {
     "data": {
      "text/html": [
       "<div>\n",
       "<style scoped>\n",
       "    .dataframe tbody tr th:only-of-type {\n",
       "        vertical-align: middle;\n",
       "    }\n",
       "\n",
       "    .dataframe tbody tr th {\n",
       "        vertical-align: top;\n",
       "    }\n",
       "\n",
       "    .dataframe thead th {\n",
       "        text-align: right;\n",
       "    }\n",
       "</style>\n",
       "<table border=\"1\" class=\"dataframe\">\n",
       "  <thead>\n",
       "    <tr style=\"text-align: right;\">\n",
       "      <th></th>\n",
       "      <th>Feature1</th>\n",
       "      <th>Feature2</th>\n",
       "      <th>Feature3</th>\n",
       "      <th>Feature4</th>\n",
       "      <th>Feature5</th>\n",
       "      <th>Target</th>\n",
       "    </tr>\n",
       "  </thead>\n",
       "  <tbody>\n",
       "    <tr>\n",
       "      <th>count</th>\n",
       "      <td>1499.000000</td>\n",
       "      <td>1499.000000</td>\n",
       "      <td>1499.000000</td>\n",
       "      <td>1499.000000</td>\n",
       "      <td>1499.000000</td>\n",
       "      <td>1499.000000</td>\n",
       "    </tr>\n",
       "    <tr>\n",
       "      <th>mean</th>\n",
       "      <td>1.390335</td>\n",
       "      <td>1.391464</td>\n",
       "      <td>1.389289</td>\n",
       "      <td>1.390392</td>\n",
       "      <td>7387.353569</td>\n",
       "      <td>0.586391</td>\n",
       "    </tr>\n",
       "    <tr>\n",
       "      <th>std</th>\n",
       "      <td>0.020315</td>\n",
       "      <td>0.020468</td>\n",
       "      <td>0.020138</td>\n",
       "      <td>0.020292</td>\n",
       "      <td>3716.737421</td>\n",
       "      <td>0.780932</td>\n",
       "    </tr>\n",
       "    <tr>\n",
       "      <th>min</th>\n",
       "      <td>1.342860</td>\n",
       "      <td>1.343940</td>\n",
       "      <td>1.342590</td>\n",
       "      <td>1.342790</td>\n",
       "      <td>501.000000</td>\n",
       "      <td>0.000000</td>\n",
       "    </tr>\n",
       "    <tr>\n",
       "      <th>25%</th>\n",
       "      <td>1.380255</td>\n",
       "      <td>1.381330</td>\n",
       "      <td>1.379255</td>\n",
       "      <td>1.380285</td>\n",
       "      <td>4594.000000</td>\n",
       "      <td>0.000000</td>\n",
       "    </tr>\n",
       "    <tr>\n",
       "      <th>50%</th>\n",
       "      <td>1.392120</td>\n",
       "      <td>1.393390</td>\n",
       "      <td>1.390750</td>\n",
       "      <td>1.392150</td>\n",
       "      <td>6886.000000</td>\n",
       "      <td>0.000000</td>\n",
       "    </tr>\n",
       "    <tr>\n",
       "      <th>75%</th>\n",
       "      <td>1.403200</td>\n",
       "      <td>1.404455</td>\n",
       "      <td>1.402155</td>\n",
       "      <td>1.403260</td>\n",
       "      <td>9904.000000</td>\n",
       "      <td>1.000000</td>\n",
       "    </tr>\n",
       "    <tr>\n",
       "      <th>max</th>\n",
       "      <td>1.431150</td>\n",
       "      <td>1.434460</td>\n",
       "      <td>1.428560</td>\n",
       "      <td>1.431150</td>\n",
       "      <td>24535.000000</td>\n",
       "      <td>2.000000</td>\n",
       "    </tr>\n",
       "  </tbody>\n",
       "</table>\n",
       "</div>"
      ],
      "text/plain": [
       "          Feature1     Feature2     Feature3     Feature4      Feature5  \\\n",
       "count  1499.000000  1499.000000  1499.000000  1499.000000   1499.000000   \n",
       "mean      1.390335     1.391464     1.389289     1.390392   7387.353569   \n",
       "std       0.020315     0.020468     0.020138     0.020292   3716.737421   \n",
       "min       1.342860     1.343940     1.342590     1.342790    501.000000   \n",
       "25%       1.380255     1.381330     1.379255     1.380285   4594.000000   \n",
       "50%       1.392120     1.393390     1.390750     1.392150   6886.000000   \n",
       "75%       1.403200     1.404455     1.402155     1.403260   9904.000000   \n",
       "max       1.431150     1.434460     1.428560     1.431150  24535.000000   \n",
       "\n",
       "            Target  \n",
       "count  1499.000000  \n",
       "mean      0.586391  \n",
       "std       0.780932  \n",
       "min       0.000000  \n",
       "25%       0.000000  \n",
       "50%       0.000000  \n",
       "75%       1.000000  \n",
       "max       2.000000  "
      ]
     },
     "execution_count": 4,
     "metadata": {},
     "output_type": "execute_result"
    }
   ],
   "source": [
    "train_df.describe()"
   ]
  },
  {
   "cell_type": "code",
   "execution_count": 5,
   "metadata": {},
   "outputs": [
    {
     "data": {
      "text/plain": [
       "Counter({0: 895, 2: 275, 1: 329})"
      ]
     },
     "execution_count": 5,
     "metadata": {},
     "output_type": "execute_result"
    }
   ],
   "source": [
    "Counter(train_df.Target)"
   ]
  },
  {
   "cell_type": "code",
   "execution_count": 6,
   "metadata": {},
   "outputs": [],
   "source": [
    "#train_df.Time.astype(np.int32)"
   ]
  },
  {
   "cell_type": "code",
   "execution_count": 7,
   "metadata": {},
   "outputs": [],
   "source": [
    "#train_df.Time = train_df.Time.astype(np.timedelta64)"
   ]
  },
  {
   "cell_type": "code",
   "execution_count": 8,
   "metadata": {},
   "outputs": [],
   "source": [
    "train_df.Time = train_df.Time.apply(lambda x: np.float32(x.replace(':','.')),convert_dtype=True)"
   ]
  },
  {
   "cell_type": "code",
   "execution_count": 9,
   "metadata": {},
   "outputs": [],
   "source": [
    "#train_df.Time.dtype"
   ]
  },
  {
   "cell_type": "code",
   "execution_count": 10,
   "metadata": {},
   "outputs": [],
   "source": [
    "train_df['Sin'] = np.sin(2*np.pi*train_df.Time/24.0)\n",
    "train_df['Cos'] = np.cos(2*np.pi*train_df.Time/24.0)"
   ]
  },
  {
   "cell_type": "code",
   "execution_count": 11,
   "metadata": {},
   "outputs": [
    {
     "data": {
      "text/html": [
       "<div>\n",
       "<style scoped>\n",
       "    .dataframe tbody tr th:only-of-type {\n",
       "        vertical-align: middle;\n",
       "    }\n",
       "\n",
       "    .dataframe tbody tr th {\n",
       "        vertical-align: top;\n",
       "    }\n",
       "\n",
       "    .dataframe thead th {\n",
       "        text-align: right;\n",
       "    }\n",
       "</style>\n",
       "<table border=\"1\" class=\"dataframe\">\n",
       "  <thead>\n",
       "    <tr style=\"text-align: right;\">\n",
       "      <th></th>\n",
       "      <th>Time</th>\n",
       "      <th>Feature1</th>\n",
       "      <th>Feature2</th>\n",
       "      <th>Feature3</th>\n",
       "      <th>Feature4</th>\n",
       "      <th>Feature5</th>\n",
       "      <th>Target</th>\n",
       "      <th>Sin</th>\n",
       "      <th>Cos</th>\n",
       "    </tr>\n",
       "  </thead>\n",
       "  <tbody>\n",
       "    <tr>\n",
       "      <th>0</th>\n",
       "      <td>18.0</td>\n",
       "      <td>1.34347</td>\n",
       "      <td>1.34525</td>\n",
       "      <td>1.34347</td>\n",
       "      <td>1.34492</td>\n",
       "      <td>7321</td>\n",
       "      <td>0</td>\n",
       "      <td>-1.000000</td>\n",
       "      <td>-1.836970e-16</td>\n",
       "    </tr>\n",
       "    <tr>\n",
       "      <th>1</th>\n",
       "      <td>19.0</td>\n",
       "      <td>1.34492</td>\n",
       "      <td>1.34532</td>\n",
       "      <td>1.34425</td>\n",
       "      <td>1.34468</td>\n",
       "      <td>5638</td>\n",
       "      <td>0</td>\n",
       "      <td>-0.965926</td>\n",
       "      <td>2.588190e-01</td>\n",
       "    </tr>\n",
       "    <tr>\n",
       "      <th>2</th>\n",
       "      <td>20.0</td>\n",
       "      <td>1.34469</td>\n",
       "      <td>1.34536</td>\n",
       "      <td>1.34445</td>\n",
       "      <td>1.34515</td>\n",
       "      <td>5185</td>\n",
       "      <td>2</td>\n",
       "      <td>-0.866025</td>\n",
       "      <td>5.000000e-01</td>\n",
       "    </tr>\n",
       "    <tr>\n",
       "      <th>3</th>\n",
       "      <td>21.0</td>\n",
       "      <td>1.34513</td>\n",
       "      <td>1.34518</td>\n",
       "      <td>1.34393</td>\n",
       "      <td>1.34439</td>\n",
       "      <td>4358</td>\n",
       "      <td>0</td>\n",
       "      <td>-0.707107</td>\n",
       "      <td>7.071068e-01</td>\n",
       "    </tr>\n",
       "    <tr>\n",
       "      <th>4</th>\n",
       "      <td>22.0</td>\n",
       "      <td>1.34439</td>\n",
       "      <td>1.34448</td>\n",
       "      <td>1.34386</td>\n",
       "      <td>1.34421</td>\n",
       "      <td>4217</td>\n",
       "      <td>0</td>\n",
       "      <td>-0.500000</td>\n",
       "      <td>8.660254e-01</td>\n",
       "    </tr>\n",
       "  </tbody>\n",
       "</table>\n",
       "</div>"
      ],
      "text/plain": [
       "   Time  Feature1  Feature2  Feature3  Feature4  Feature5  Target       Sin  \\\n",
       "0  18.0   1.34347   1.34525   1.34347   1.34492      7321       0 -1.000000   \n",
       "1  19.0   1.34492   1.34532   1.34425   1.34468      5638       0 -0.965926   \n",
       "2  20.0   1.34469   1.34536   1.34445   1.34515      5185       2 -0.866025   \n",
       "3  21.0   1.34513   1.34518   1.34393   1.34439      4358       0 -0.707107   \n",
       "4  22.0   1.34439   1.34448   1.34386   1.34421      4217       0 -0.500000   \n",
       "\n",
       "            Cos  \n",
       "0 -1.836970e-16  \n",
       "1  2.588190e-01  \n",
       "2  5.000000e-01  \n",
       "3  7.071068e-01  \n",
       "4  8.660254e-01  "
      ]
     },
     "execution_count": 11,
     "metadata": {},
     "output_type": "execute_result"
    }
   ],
   "source": [
    "train_df.head()"
   ]
  },
  {
   "cell_type": "code",
   "execution_count": 12,
   "metadata": {},
   "outputs": [
    {
     "data": {
      "text/plain": [
       "<matplotlib.axes._subplots.AxesSubplot at 0x7f026859ea90>"
      ]
     },
     "execution_count": 12,
     "metadata": {},
     "output_type": "execute_result"
    },
    {
     "data": {
      "image/png": "[encoded data removed]",
      "text/plain": [
       "<Figure size 432x288 with 1 Axes>"
      ]
     },
     "metadata": {},
     "output_type": "display_data"
    }
   ],
   "source": [
    "train_df.Sin.plot()"
   ]
  },
  {
   "cell_type": "code",
   "execution_count": 13,
   "metadata": {},
   "outputs": [
    {
     "data": {
      "text/plain": [
       "<matplotlib.axes._subplots.AxesSubplot at 0x7f021ff244a8>"
      ]
     },
     "execution_count": 13,
     "metadata": {},
     "output_type": "execute_result"
    },
    {
     "data": {
      "image/png": "[encoded data removed]",
      "text/plain": [
       "<Figure size 432x288 with 1 Axes>"
      ]
     },
     "metadata": {},
     "output_type": "display_data"
    }
   ],
   "source": [
    "train_df.Cos.plot()"
   ]
  },
  {
   "cell_type": "code",
   "execution_count": 14,
   "metadata": {},
   "outputs": [
    {
     "data": {
      "text/plain": [
       "<matplotlib.axes._subplots.AxesSubplot at 0x7f0221f78390>"
      ]
     },
     "execution_count": 14,
     "metadata": {},
     "output_type": "execute_result"
    },
    {
     "data": {
      "image/png": "[encoded data removed]",
      "text/plain": [
       "<Figure size 432x288 with 1 Axes>"
      ]
     },
     "metadata": {},
     "output_type": "display_data"
    }
   ],
   "source": [
    "train_df.plot('Sin','Cos',kind='scatter')"
   ]
  },
  {
   "cell_type": "code",
   "execution_count": 15,
   "metadata": {},
   "outputs": [
    {
     "name": "stdout",
     "output_type": "stream",
     "text": [
      "['Time' 'Feature1' 'Feature2' 'Feature3' 'Feature4' 'Feature5' 'Target'\n",
      " 'Sin' 'Cos']\n"
     ]
    }
   ],
   "source": [
    "print(train_df.columns.values)\n",
    "\n",
    "Y = train_df.Target.astype(np.float32)\n",
    "X = train_df[['Feature1', 'Feature2', 'Feature3', 'Feature4', 'Feature5', 'Sin','Cos']].values.astype(np.float32)"
   ]
  },
  {
   "cell_type": "code",
   "execution_count": 16,
   "metadata": {},
   "outputs": [
    {
     "data": {
      "text/plain": [
       "(array([[ 1.3434700e+00,  1.3452500e+00,  1.3434700e+00,  1.3449200e+00,\n",
       "          7.3210000e+03, -1.0000000e+00, -1.8369701e-16],\n",
       "        [ 1.3449200e+00,  1.3453200e+00,  1.3442500e+00,  1.3446800e+00,\n",
       "          5.6380000e+03, -9.6592581e-01,  2.5881904e-01],\n",
       "        [ 1.3446900e+00,  1.3453600e+00,  1.3444500e+00,  1.3451500e+00,\n",
       "          5.1850000e+03, -8.6602539e-01,  5.0000000e-01],\n",
       "        [ 1.3451300e+00,  1.3451800e+00,  1.3439300e+00,  1.3443900e+00,\n",
       "          4.3580000e+03, -7.0710677e-01,  7.0710677e-01],\n",
       "        [ 1.3443900e+00,  1.3444800e+00,  1.3438600e+00,  1.3442100e+00,\n",
       "          4.2170000e+03, -5.0000000e-01,  8.6602539e-01]], dtype=float32),\n",
       " 0    0.0\n",
       " 1    0.0\n",
       " 2    2.0\n",
       " 3    0.0\n",
       " 4    0.0\n",
       " Name: Target, dtype: float32)"
      ]
     },
     "execution_count": 16,
     "metadata": {},
     "output_type": "execute_result"
    }
   ],
   "source": [
    "X[:5], Y[:5]"
   ]
  },
  {
   "cell_type": "code",
   "execution_count": 17,
   "metadata": {},
   "outputs": [
    {
     "data": {
      "text/html": [
       "<div>\n",
       "<style scoped>\n",
       "    .dataframe tbody tr th:only-of-type {\n",
       "        vertical-align: middle;\n",
       "    }\n",
       "\n",
       "    .dataframe tbody tr th {\n",
       "        vertical-align: top;\n",
       "    }\n",
       "\n",
       "    .dataframe thead th {\n",
       "        text-align: right;\n",
       "    }\n",
       "</style>\n",
       "<table border=\"1\" class=\"dataframe\">\n",
       "  <thead>\n",
       "    <tr style=\"text-align: right;\">\n",
       "      <th></th>\n",
       "      <th>Time</th>\n",
       "      <th>Feature1</th>\n",
       "      <th>Feature2</th>\n",
       "      <th>Feature3</th>\n",
       "      <th>Feature4</th>\n",
       "      <th>Feature5</th>\n",
       "      <th>Target</th>\n",
       "      <th>Sin</th>\n",
       "      <th>Cos</th>\n",
       "    </tr>\n",
       "  </thead>\n",
       "  <tbody>\n",
       "    <tr>\n",
       "      <th>0</th>\n",
       "      <td>18.0</td>\n",
       "      <td>1.34347</td>\n",
       "      <td>1.34525</td>\n",
       "      <td>1.34347</td>\n",
       "      <td>1.34492</td>\n",
       "      <td>7321</td>\n",
       "      <td>0</td>\n",
       "      <td>-1.000000</td>\n",
       "      <td>-1.836970e-16</td>\n",
       "    </tr>\n",
       "    <tr>\n",
       "      <th>1</th>\n",
       "      <td>19.0</td>\n",
       "      <td>1.34492</td>\n",
       "      <td>1.34532</td>\n",
       "      <td>1.34425</td>\n",
       "      <td>1.34468</td>\n",
       "      <td>5638</td>\n",
       "      <td>0</td>\n",
       "      <td>-0.965926</td>\n",
       "      <td>2.588190e-01</td>\n",
       "    </tr>\n",
       "    <tr>\n",
       "      <th>2</th>\n",
       "      <td>20.0</td>\n",
       "      <td>1.34469</td>\n",
       "      <td>1.34536</td>\n",
       "      <td>1.34445</td>\n",
       "      <td>1.34515</td>\n",
       "      <td>5185</td>\n",
       "      <td>2</td>\n",
       "      <td>-0.866025</td>\n",
       "      <td>5.000000e-01</td>\n",
       "    </tr>\n",
       "    <tr>\n",
       "      <th>3</th>\n",
       "      <td>21.0</td>\n",
       "      <td>1.34513</td>\n",
       "      <td>1.34518</td>\n",
       "      <td>1.34393</td>\n",
       "      <td>1.34439</td>\n",
       "      <td>4358</td>\n",
       "      <td>0</td>\n",
       "      <td>-0.707107</td>\n",
       "      <td>7.071068e-01</td>\n",
       "    </tr>\n",
       "    <tr>\n",
       "      <th>4</th>\n",
       "      <td>22.0</td>\n",
       "      <td>1.34439</td>\n",
       "      <td>1.34448</td>\n",
       "      <td>1.34386</td>\n",
       "      <td>1.34421</td>\n",
       "      <td>4217</td>\n",
       "      <td>0</td>\n",
       "      <td>-0.500000</td>\n",
       "      <td>8.660254e-01</td>\n",
       "    </tr>\n",
       "  </tbody>\n",
       "</table>\n",
       "</div>"
      ],
      "text/plain": [
       "   Time  Feature1  Feature2  Feature3  Feature4  Feature5  Target       Sin  \\\n",
       "0  18.0   1.34347   1.34525   1.34347   1.34492      7321       0 -1.000000   \n",
       "1  19.0   1.34492   1.34532   1.34425   1.34468      5638       0 -0.965926   \n",
       "2  20.0   1.34469   1.34536   1.34445   1.34515      5185       2 -0.866025   \n",
       "3  21.0   1.34513   1.34518   1.34393   1.34439      4358       0 -0.707107   \n",
       "4  22.0   1.34439   1.34448   1.34386   1.34421      4217       0 -0.500000   \n",
       "\n",
       "            Cos  \n",
       "0 -1.836970e-16  \n",
       "1  2.588190e-01  \n",
       "2  5.000000e-01  \n",
       "3  7.071068e-01  \n",
       "4  8.660254e-01  "
      ]
     },
     "execution_count": 17,
     "metadata": {},
     "output_type": "execute_result"
    }
   ],
   "source": [
    "train_df.head(5)"
   ]
  },
  {
   "cell_type": "code",
   "execution_count": 18,
   "metadata": {},
   "outputs": [
    {
     "data": {
      "text/plain": [
       "(1499, 7)"
      ]
     },
     "execution_count": 18,
     "metadata": {},
     "output_type": "execute_result"
    }
   ],
   "source": [
    "X.shape"
   ]
  },
  {
   "cell_type": "code",
   "execution_count": 19,
   "metadata": {},
   "outputs": [],
   "source": [
    "X_train,X_test_final,Y_train,Y_test_final = train_test_split(X,Y,train_size=.95,test_size=.05,stratify=Y)"
   ]
  },
  {
   "cell_type": "code",
   "execution_count": 20,
   "metadata": {},
   "outputs": [
    {
     "data": {
      "text/plain": [
       "((1424, 7), (75, 7), (1424,), (75,))"
      ]
     },
     "execution_count": 20,
     "metadata": {},
     "output_type": "execute_result"
    }
   ],
   "source": [
    "X_train.shape,X_test_final.shape,Y_train.shape,Y_test_final.shape"
   ]
  },
  {
   "cell_type": "code",
   "execution_count": 21,
   "metadata": {},
   "outputs": [],
   "source": [
    "X_train, X_test, Y_train, Y_test = train_test_split(X_train,Y_train,train_size=.95,test_size=.05,stratify=Y_train)"
   ]
  },
  {
   "cell_type": "code",
   "execution_count": 22,
   "metadata": {},
   "outputs": [
    {
     "data": {
      "text/plain": [
       "((1352, 7), (72, 7), (1352,), (72,))"
      ]
     },
     "execution_count": 22,
     "metadata": {},
     "output_type": "execute_result"
    }
   ],
   "source": [
    "X_train.shape, X_test.shape, Y_train.shape, Y_test.shape"
   ]
  },
  {
   "cell_type": "code",
   "execution_count": 23,
   "metadata": {},
   "outputs": [],
   "source": [
    "rbs = RobustScaler()\n",
    "X_train = rbs.fit_transform(X_train)\n",
    "X_test = rbs.transform(X_test)\n",
    "X_test_final = rbs.transform(X_test_final)"
   ]
  },
  {
   "cell_type": "code",
   "execution_count": 24,
   "metadata": {},
   "outputs": [
    {
     "name": "stdout",
     "output_type": "stream",
     "text": [
      "Counter({0.0: 807, 1.0: 297, 2.0: 248})\n",
      "Counter({0.0: 43, 1.0: 16, 2.0: 13})\n",
      "Counter({0.0: 45, 1.0: 16, 2.0: 14})\n",
      "[0.55844692 1.51739618 1.8172043 ]\n"
     ]
    }
   ],
   "source": [
    "Y_train_dict = Counter(Y_train)\n",
    "Y_test_dict = Counter(Y_test)\n",
    "Y_test_final_dict = Counter(Y_test_final)\n",
    "class_weight = class_weight.compute_class_weight('balanced',\n",
    "                                                 np.unique(Y_train),\n",
    "                                                 Y_train)\n",
    "\n",
    "print(Counter(Y_train))\n",
    "print(Counter(Y_test))\n",
    "print(Counter(Y_test_final))\n",
    "print(class_weight)"
   ]
  },
  {
   "cell_type": "code",
   "execution_count": 25,
   "metadata": {},
   "outputs": [
    {
     "data": {
      "text/plain": [
       "Counter({1.0: 297, 2.0: 248, 0.0: 807})"
      ]
     },
     "execution_count": 25,
     "metadata": {},
     "output_type": "execute_result"
    }
   ],
   "source": [
    "Y_train_dict"
   ]
  },
  {
   "cell_type": "code",
   "execution_count": 26,
   "metadata": {},
   "outputs": [
    {
     "data": {
      "text/plain": [
       "((1352, 3), (72, 3), (75, 3))"
      ]
     },
     "execution_count": 26,
     "metadata": {},
     "output_type": "execute_result"
    }
   ],
   "source": [
    "#mlpc.score(X_test_final,Y_test_final)\n",
    "Y_train = to_categorical(Y_train)\n",
    "Y_test = to_categorical(Y_test)\n",
    "Y_test_final = to_categorical(Y_test_final)\n",
    "Y_train.shape, Y_test.shape, Y_test_final.shape"
   ]
  },
  {
   "cell_type": "code",
   "execution_count": 34,
   "metadata": {},
   "outputs": [
    {
     "name": "stdout",
     "output_type": "stream",
     "text": [
      "_________________________________________________________________\n",
      "Layer (type)                 Output Shape              Param #   \n",
      "=================================================================\n",
      "dense_7 (Dense)              (None, 64)                512       \n",
      "_________________________________________________________________\n",
      "batch_normalization_6 (Batch (None, 64)                256       \n",
      "_________________________________________________________________\n",
      "dense_8 (Dense)              (None, 128)               8320      \n",
      "_________________________________________________________________\n",
      "batch_normalization_7 (Batch (None, 128)               512       \n",
      "_________________________________________________________________\n",
      "dense_9 (Dense)              (None, 256)               33024     \n",
      "_________________________________________________________________\n",
      "batch_normalization_8 (Batch (None, 256)               1024      \n",
      "_________________________________________________________________\n",
      "dense_10 (Dense)             (None, 512)               131584    \n",
      "_________________________________________________________________\n",
      "batch_normalization_9 (Batch (None, 512)               2048      \n",
      "_________________________________________________________________\n",
      "dropout_3 (Dropout)          (None, 512)               0         \n",
      "_________________________________________________________________\n",
      "dense_11 (Dense)             (None, 1024)              525312    \n",
      "_________________________________________________________________\n",
      "batch_normalization_10 (Batc (None, 1024)              4096      \n",
      "_________________________________________________________________\n",
      "dropout_4 (Dropout)          (None, 1024)              0         \n",
      "_________________________________________________________________\n",
      "dense_12 (Dense)             (None, 3)                 3075      \n",
      "=================================================================\n",
      "Total params: 709,763\n",
      "Trainable params: 705,795\n",
      "Non-trainable params: 3,968\n",
      "_________________________________________________________________\n"
     ]
    }
   ],
   "source": [
    "model = Sequential()\n",
    "#model.add(Input(shape=(7,)))\n",
    "#model.add(Conv1D(1,2,activation='relu',input_shape=(7,)))\n",
    "model.add(Dense(64,activation='relu',input_shape=(7,)))\n",
    "model.add(BatchNormalization())\n",
    "model.add(Dense(128,activation='relu'))\n",
    "model.add(BatchNormalization())\n",
    "model.add(Dense(256,activation='relu'))\n",
    "model.add(BatchNormalization())\n",
    "model.add(Dense(512,activation='relu'))\n",
    "model.add(BatchNormalization())\n",
    "model.add(Dropout(.5))\n",
    "model.add(Dense(1024,activation='relu'))\n",
    "model.add(BatchNormalization())\n",
    "model.add(Dropout(.5))\n",
    "#model.add(Dense(2048,activation='tanh'))\n",
    "#model.add(BatchNormalization())\n",
    "#model.add(Dropout(.8))\n",
    "model.add(Dense(3,activation='softmax'))\n",
    "\n",
    "model.summary()"
   ]
  },
  {
   "cell_type": "code",
   "execution_count": 35,
   "metadata": {},
   "outputs": [],
   "source": [
    "sgd = SGD(lr=0.001)\n",
    "model.compile(optimizer=sgd,loss='categorical_crossentropy',metrics=['accuracy'])"
   ]
  },
  {
   "cell_type": "code",
   "execution_count": 36,
   "metadata": {},
   "outputs": [
    {
     "name": "stdout",
     "output_type": "stream",
     "text": [
      "Train on 1352 samples, validate on 72 samples\n",
      "Epoch 1/10\n",
      "1352/1352 [==============================] - 5s 4ms/step - loss: 1.6933 - acc: 0.3580 - val_loss: 1.3165 - val_acc: 0.2222\n",
      "Epoch 2/10\n",
      "1352/1352 [==============================] - 5s 4ms/step - loss: 1.5615 - acc: 0.3846 - val_loss: 1.1909 - val_acc: 0.2778\n",
      "Epoch 3/10\n",
      "1352/1352 [==============================] - 5s 4ms/step - loss: 1.5121 - acc: 0.3846 - val_loss: 1.0813 - val_acc: 0.4028\n",
      "Epoch 4/10\n",
      "1352/1352 [==============================] - 5s 4ms/step - loss: 1.4449 - acc: 0.3964 - val_loss: 1.0939 - val_acc: 0.3611\n",
      "Epoch 5/10\n",
      "1352/1352 [==============================] - 6s 5ms/step - loss: 1.3470 - acc: 0.4061 - val_loss: 0.9905 - val_acc: 0.5556\n",
      "Epoch 6/10\n",
      "1352/1352 [==============================] - 6s 5ms/step - loss: 1.3203 - acc: 0.4075 - val_loss: 0.9989 - val_acc: 0.4861\n",
      "Epoch 7/10\n",
      "1352/1352 [==============================] - 7s 5ms/step - loss: 1.3189 - acc: 0.4297 - val_loss: 0.9959 - val_acc: 0.5278\n",
      "Epoch 8/10\n",
      "1352/1352 [==============================] - 6s 5ms/step - loss: 1.2653 - acc: 0.4357 - val_loss: 0.9012 - val_acc: 0.5556\n",
      "Epoch 9/10\n",
      "1352/1352 [==============================] - 7s 5ms/step - loss: 1.2288 - acc: 0.4467 - val_loss: 0.8992 - val_acc: 0.63890s - loss: 1.2307 - acc: 0.44\n",
      "Epoch 10/10\n",
      "1352/1352 [==============================] - 7s 5ms/step - loss: 1.2136 - acc: 0.4638 - val_loss: 0.9070 - val_acc: 0.5972\n"
     ]
    },
    {
     "data": {
      "text/plain": [
       "<keras.callbacks.History at 0x7f02106ace80>"
      ]
     },
     "execution_count": 36,
     "metadata": {},
     "output_type": "execute_result"
    }
   ],
   "source": [
    "model.fit(X_train,Y_train,epochs=10,validation_data=(X_test,Y_test),batch_size=8,shuffle=True,class_weight=class_weight)"
   ]
  },
  {
   "cell_type": "code",
   "execution_count": 37,
   "metadata": {},
   "outputs": [
    {
     "name": "stdout",
     "output_type": "stream",
     "text": [
      "Train on 1352 samples, validate on 72 samples\n",
      "Epoch 1/10\n",
      "1352/1352 [==============================] - 5s 4ms/step - loss: 1.2012 - acc: 0.4660 - val_loss: 0.9099 - val_acc: 0.5694\n",
      "Epoch 2/10\n",
      "1352/1352 [==============================] - 6s 4ms/step - loss: 1.1704 - acc: 0.4734 - val_loss: 0.9299 - val_acc: 0.5694\n",
      "Epoch 3/10\n",
      "1352/1352 [==============================] - 6s 5ms/step - loss: 1.1561 - acc: 0.4778 - val_loss: 0.9369 - val_acc: 0.5556\n",
      "Epoch 4/10\n",
      "1352/1352 [==============================] - 7s 5ms/step - loss: 1.1396 - acc: 0.4645 - val_loss: 0.9473 - val_acc: 0.5556\n",
      "Epoch 5/10\n",
      "1352/1352 [==============================] - 7s 5ms/step - loss: 1.0942 - acc: 0.4985 - val_loss: 0.9139 - val_acc: 0.5833\n",
      "Epoch 6/10\n",
      "1352/1352 [==============================] - 7s 5ms/step - loss: 1.0986 - acc: 0.4822 - val_loss: 0.9349 - val_acc: 0.5972\n",
      "Epoch 7/10\n",
      "1352/1352 [==============================] - 7s 5ms/step - loss: 1.0900 - acc: 0.5126 - val_loss: 0.9155 - val_acc: 0.5972\n",
      "Epoch 8/10\n",
      "1352/1352 [==============================] - 7s 6ms/step - loss: 1.0920 - acc: 0.4859 - val_loss: 0.9305 - val_acc: 0.5694\n",
      "Epoch 9/10\n",
      "1352/1352 [==============================] - 6s 5ms/step - loss: 1.1013 - acc: 0.4941 - val_loss: 0.9281 - val_acc: 0.5556\n",
      "Epoch 10/10\n",
      "1352/1352 [==============================] - 7s 5ms/step - loss: 1.0667 - acc: 0.5074 - val_loss: 0.9251 - val_acc: 0.6111\n"
     ]
    },
    {
     "data": {
      "text/plain": [
       "<keras.callbacks.History at 0x7f0202dcc7b8>"
      ]
     },
     "execution_count": 37,
     "metadata": {},
     "output_type": "execute_result"
    }
   ],
   "source": [
    "model.optimizer.lr = 0.0001\n",
    "model.fit(X_train,Y_train,epochs=10,validation_data=(X_test,Y_test),batch_size=8,shuffle=True,class_weight=class_weight)"
   ]
  },
  {
   "cell_type": "code",
   "execution_count": 46,
   "metadata": {},
   "outputs": [
    {
     "name": "stdout",
     "output_type": "stream",
     "text": [
      "Train on 1352 samples, validate on 72 samples\n",
      "Epoch 1/10\n",
      "1352/1352 [==============================] - 3s 2ms/step - loss: 0.9453 - acc: 0.5858 - val_loss: 0.9161 - val_acc: 0.6111\n",
      "Epoch 2/10\n",
      "1352/1352 [==============================] - 3s 2ms/step - loss: 0.9410 - acc: 0.5643 - val_loss: 0.9180 - val_acc: 0.6250\n",
      "Epoch 3/10\n",
      "1352/1352 [==============================] - 4s 3ms/step - loss: 0.9454 - acc: 0.5740 - val_loss: 0.9136 - val_acc: 0.6250\n",
      "Epoch 4/10\n",
      "1352/1352 [==============================] - 4s 3ms/step - loss: 0.9393 - acc: 0.5784 - val_loss: 0.9072 - val_acc: 0.6111\n",
      "Epoch 5/10\n",
      "1352/1352 [==============================] - 4s 3ms/step - loss: 0.9529 - acc: 0.5814 - val_loss: 0.9064 - val_acc: 0.6111\n",
      "Epoch 6/10\n",
      "1352/1352 [==============================] - 4s 3ms/step - loss: 0.9457 - acc: 0.5843 - val_loss: 0.9167 - val_acc: 0.6111\n",
      "Epoch 7/10\n",
      "1352/1352 [==============================] - 4s 3ms/step - loss: 0.9310 - acc: 0.5902 - val_loss: 0.9179 - val_acc: 0.6111\n",
      "Epoch 8/10\n",
      "1352/1352 [==============================] - 4s 3ms/step - loss: 0.9522 - acc: 0.5717 - val_loss: 0.9213 - val_acc: 0.5972\n",
      "Epoch 9/10\n",
      "1352/1352 [==============================] - 4s 3ms/step - loss: 0.9521 - acc: 0.5695 - val_loss: 0.9204 - val_acc: 0.5972\n",
      "Epoch 10/10\n",
      "1352/1352 [==============================] - 3s 3ms/step - loss: 0.9426 - acc: 0.5791 - val_loss: 0.9237 - val_acc: 0.6111\n"
     ]
    },
    {
     "data": {
      "text/plain": [
       "<keras.callbacks.History at 0x7f021ff07ba8>"
      ]
     },
     "execution_count": 46,
     "metadata": {},
     "output_type": "execute_result"
    }
   ],
   "source": [
    "model.optimizer.lr = 0.000000001\n",
    "model.fit(X_train,Y_train,epochs=10,validation_data=(X_test,Y_test),batch_size=16,shuffle=True,class_weight=class_weight)"
   ]
  },
  {
   "cell_type": "code",
   "execution_count": 47,
   "metadata": {},
   "outputs": [
    {
     "data": {
      "text/plain": [
       "array([0, 0, 0, 0, 0, 0, 0, 0, 0, 0, 0, 0, 0, 0, 0, 0, 0, 0, 0, 0, 0, 0,\n",
       "       2, 0, 0, 0, 0, 0, 0, 0, 0, 0, 0, 0, 0, 2, 0, 0, 0, 0, 0, 0, 0, 0,\n",
       "       0, 0, 0, 0, 0, 0, 0, 0, 0, 0, 0, 0, 0, 0, 0, 0, 0, 0, 0, 0, 0, 0,\n",
       "       0, 0, 0, 0, 0, 0, 0, 0, 0])"
      ]
     },
     "execution_count": 47,
     "metadata": {},
     "output_type": "execute_result"
    }
   ],
   "source": [
    "preds = model.predict(X_test_final)\n",
    "preds_idx = np.argmax(preds,axis=-1)\n",
    "preds_idx"
   ]
  },
  {
   "cell_type": "code",
   "execution_count": 43,
   "metadata": {},
   "outputs": [],
   "source": [
    "Y_hat = np.argmax(Y_test_final,axis=-1)"
   ]
  },
  {
   "cell_type": "code",
   "execution_count": 44,
   "metadata": {},
   "outputs": [],
   "source": [
    "cm =confusion_matrix(Y_hat,preds_idx)"
   ]
  },
  {
   "cell_type": "code",
   "execution_count": 45,
   "metadata": {},
   "outputs": [
    {
     "data": {
      "image/png": "[encoded data removed]",
      "text/plain": [
       "<Figure size 432x288 with 2 Axes>"
      ]
     },
     "metadata": {},
     "output_type": "display_data"
    }
   ],
   "source": [
    "import itertools\n",
    "plt.imshow(cm,cmap = plt.cm.Blues,interpolation='nearest')\n",
    "plt.colorbar()\n",
    "plt.title('Classification Problem')\n",
    "plt.xticks([0,1,2])\n",
    "plt.yticks([2,1,0])\n",
    "thresh = cm.max() / 2.\n",
    "for i, j in itertools.product(range(cm.shape[0]), range(cm.shape[1])):\n",
    "        plt.text(j, i, cm[i, j],\n",
    "                 horizontalalignment=\"center\",\n",
    "                 color='red') #\"white\" if cm[i, j] > thresh else \"black\")"
   ]
  },
  {
   "cell_type": "code",
   "execution_count": null,
   "metadata": {},
   "outputs": [],
   "source": []
  },
  {
   "cell_type": "code",
   "execution_count": null,
   "metadata": {},
   "outputs": [],
   "source": []
  }
 ],
 "metadata": {
  "kernelspec": {
   "display_name": "Python 3",
   "language": "python",
   "name": "python3"
  },
  "language_info": {
   "codemirror_mode": {
    "name": "ipython",
    "version": 3
   },
   "file_extension": ".py",
   "mimetype": "text/x-python",
   "name": "python",
   "nbconvert_exporter": "python",
   "pygments_lexer": "ipython3",
   "version": "3.6.5"
  }
 },
 "nbformat": 4,
 "nbformat_minor": 2
}
