{
 "cells": [
  {
   "cell_type": "code",
   "execution_count": 1,
   "metadata": {},
   "outputs": [],
   "source": [
    "import pandas as pd\n",
    "import numpy as np\n",
    "import matplotlib.pyplot as plt\n",
    "%matplotlib inline"
   ]
  },
  {
   "cell_type": "code",
   "execution_count": 80,
   "metadata": {},
   "outputs": [],
   "source": [
    "df = pd.read_excel('df31.xlsx')"
   ]
  },
  {
   "cell_type": "code",
   "execution_count": 81,
   "metadata": {},
   "outputs": [],
   "source": [
    "df22 = df[['Date', 'EQ_USA', 'EQ_EMU', 'EQ_CH', 'LIQ_CHF', 'FI_USA_CORP', 'FI_EMU', 'AI_HF', 'MIX']]"
   ]
  },
  {
   "cell_type": "code",
   "execution_count": 82,
   "metadata": {},
   "outputs": [],
   "source": [
    "df23 = df22.set_index('Date')"
   ]
  },
  {
   "cell_type": "code",
   "execution_count": 85,
   "metadata": {},
   "outputs": [
    {
     "data": {
      "text/html": [
       "<div>\n",
       "<style scoped>\n",
       "    .dataframe tbody tr th:only-of-type {\n",
       "        vertical-align: middle;\n",
       "    }\n",
       "\n",
       "    .dataframe tbody tr th {\n",
       "        vertical-align: top;\n",
       "    }\n",
       "\n",
       "    .dataframe thead th {\n",
       "        text-align: right;\n",
       "    }\n",
       "</style>\n",
       "<table border=\"1\" class=\"dataframe\">\n",
       "  <thead>\n",
       "    <tr style=\"text-align: right;\">\n",
       "      <th></th>\n",
       "      <th>EQ_USA</th>\n",
       "      <th>EQ_EMU</th>\n",
       "      <th>EQ_CH</th>\n",
       "      <th>LIQ_CHF</th>\n",
       "      <th>FI_USA_CORP</th>\n",
       "      <th>FI_EMU</th>\n",
       "      <th>AI_HF</th>\n",
       "      <th>MIX</th>\n",
       "    </tr>\n",
       "    <tr>\n",
       "      <th>Date</th>\n",
       "      <th></th>\n",
       "      <th></th>\n",
       "      <th></th>\n",
       "      <th></th>\n",
       "      <th></th>\n",
       "      <th></th>\n",
       "      <th></th>\n",
       "      <th></th>\n",
       "    </tr>\n",
       "  </thead>\n",
       "  <tbody>\n",
       "    <tr>\n",
       "      <td>7/1/2011</td>\n",
       "      <td>NaN</td>\n",
       "      <td>NaN</td>\n",
       "      <td>NaN</td>\n",
       "      <td>NaN</td>\n",
       "      <td>NaN</td>\n",
       "      <td>NaN</td>\n",
       "      <td>NaN</td>\n",
       "      <td>NaN</td>\n",
       "    </tr>\n",
       "    <tr>\n",
       "      <td>8/1/2011</td>\n",
       "      <td>-0.180233</td>\n",
       "      <td>-0.089336</td>\n",
       "      <td>-0.101143</td>\n",
       "      <td>-0.138919</td>\n",
       "      <td>-0.086175</td>\n",
       "      <td>-0.023185</td>\n",
       "      <td>-0.053102</td>\n",
       "      <td>-0.087765</td>\n",
       "    </tr>\n",
       "    <tr>\n",
       "      <td>9/1/2011</td>\n",
       "      <td>-0.014539</td>\n",
       "      <td>-0.066830</td>\n",
       "      <td>0.014258</td>\n",
       "      <td>-0.183996</td>\n",
       "      <td>-0.114935</td>\n",
       "      <td>-0.049084</td>\n",
       "      <td>0.025541</td>\n",
       "      <td>-0.112620</td>\n",
       "    </tr>\n",
       "  </tbody>\n",
       "</table>\n",
       "</div>"
      ],
      "text/plain": [
       "            EQ_USA    EQ_EMU     EQ_CH   LIQ_CHF  FI_USA_CORP    FI_EMU  \\\n",
       "Date                                                                      \n",
       "7/1/2011       NaN       NaN       NaN       NaN          NaN       NaN   \n",
       "8/1/2011 -0.180233 -0.089336 -0.101143 -0.138919    -0.086175 -0.023185   \n",
       "9/1/2011 -0.014539 -0.066830  0.014258 -0.183996    -0.114935 -0.049084   \n",
       "\n",
       "             AI_HF       MIX  \n",
       "Date                          \n",
       "7/1/2011       NaN       NaN  \n",
       "8/1/2011 -0.053102 -0.087765  \n",
       "9/1/2011  0.025541 -0.112620  "
      ]
     },
     "execution_count": 85,
     "metadata": {},
     "output_type": "execute_result"
    }
   ],
   "source": [
    "df23.head(3)"
   ]
  },
  {
   "cell_type": "code",
   "execution_count": 86,
   "metadata": {},
   "outputs": [],
   "source": [
    "df_weights = pd.read_excel('New Weights.xlsx')"
   ]
  },
  {
   "cell_type": "code",
   "execution_count": 48,
   "metadata": {},
   "outputs": [
    {
     "data": {
      "text/html": [
       "<div>\n",
       "<style scoped>\n",
       "    .dataframe tbody tr th:only-of-type {\n",
       "        vertical-align: middle;\n",
       "    }\n",
       "\n",
       "    .dataframe tbody tr th {\n",
       "        vertical-align: top;\n",
       "    }\n",
       "\n",
       "    .dataframe thead th {\n",
       "        text-align: right;\n",
       "    }\n",
       "</style>\n",
       "<table border=\"1\" class=\"dataframe\">\n",
       "  <thead>\n",
       "    <tr style=\"text-align: right;\">\n",
       "      <th></th>\n",
       "      <th>CLIENT_NR</th>\n",
       "      <th>RISK_PROFILE</th>\n",
       "      <th>EQ_USA</th>\n",
       "      <th>EQ_EMU</th>\n",
       "      <th>EQ_EM</th>\n",
       "      <th>EQ_CH</th>\n",
       "      <th>LIQ_CHF</th>\n",
       "      <th>LIQ_EUR</th>\n",
       "      <th>LIQ_USD</th>\n",
       "      <th>FI_USA_CORP</th>\n",
       "      <th>FI_USA_SOV</th>\n",
       "      <th>FI_EMU</th>\n",
       "      <th>FI_EM</th>\n",
       "      <th>AI_RE</th>\n",
       "      <th>AI_COM</th>\n",
       "      <th>AI_HF</th>\n",
       "      <th>MIX</th>\n",
       "    </tr>\n",
       "  </thead>\n",
       "  <tbody>\n",
       "    <tr>\n",
       "      <td>0</td>\n",
       "      <td>123456</td>\n",
       "      <td>Medium</td>\n",
       "      <td>0.12</td>\n",
       "      <td>0.23</td>\n",
       "      <td>NaN</td>\n",
       "      <td>0.01</td>\n",
       "      <td>0.05</td>\n",
       "      <td>NaN</td>\n",
       "      <td>NaN</td>\n",
       "      <td>0.34</td>\n",
       "      <td>NaN</td>\n",
       "      <td>0.05</td>\n",
       "      <td>NaN</td>\n",
       "      <td>NaN</td>\n",
       "      <td>NaN</td>\n",
       "      <td>0.11</td>\n",
       "      <td>0.09</td>\n",
       "    </tr>\n",
       "  </tbody>\n",
       "</table>\n",
       "</div>"
      ],
      "text/plain": [
       "   CLIENT_NR RISK_PROFILE  EQ_USA  EQ_EMU  EQ_EM  EQ_CH  LIQ_CHF  LIQ_EUR  \\\n",
       "0     123456       Medium    0.12    0.23    NaN   0.01     0.05      NaN   \n",
       "\n",
       "   LIQ_USD  FI_USA_CORP  FI_USA_SOV  FI_EMU  FI_EM  AI_RE  AI_COM  AI_HF   MIX  \n",
       "0      NaN         0.34         NaN    0.05    NaN    NaN     NaN   0.11  0.09  "
      ]
     },
     "execution_count": 48,
     "metadata": {},
     "output_type": "execute_result"
    }
   ],
   "source": [
    "df_weights.head(1)"
   ]
  },
  {
   "cell_type": "code",
   "execution_count": 87,
   "metadata": {},
   "outputs": [],
   "source": [
    "Weights_123456 = np.array([0.12, 0.23, 0.01, 0.05, 0.34, 0.05, 0.11, 0.09])"
   ]
  },
  {
   "cell_type": "code",
   "execution_count": 88,
   "metadata": {},
   "outputs": [],
   "source": [
    "Weighted_ret = df23 * Weights_123456"
   ]
  },
  {
   "cell_type": "code",
   "execution_count": 89,
   "metadata": {},
   "outputs": [],
   "source": [
    "Weighted_ret['Sum_Return_123456'] = Weighted_ret['EQ_USA']+Weighted_ret['EQ_EMU']+Weighted_ret['EQ_CH']+Weighted_ret['LIQ_CHF']+Weighted_ret['FI_USA_CORP']+Weighted_ret['FI_EMU']+Weighted_ret['AI_HF']+Weighted_ret['MIX']"
   ]
  },
  {
   "cell_type": "code",
   "execution_count": 90,
   "metadata": {},
   "outputs": [],
   "source": [
    "cumulative_return_123456 = ((1+Weighted_ret['Sum_Return_123456']).cumprod()-1)    #Weighted_ret['Sum_Return_123456']"
   ]
  },
  {
   "cell_type": "code",
   "execution_count": 91,
   "metadata": {},
   "outputs": [
    {
     "data": {
      "text/plain": [
       "Date\n",
       "7/1/2011          NaN\n",
       "8/1/2011    -0.094331\n",
       "9/1/2011    -0.162285\n",
       "10/1/2011   -0.057711\n",
       "11/1/2011   -0.098768\n",
       "               ...   \n",
       "8/1/2018     1.409026\n",
       "9/1/2018     1.304845\n",
       "10/1/2018    1.080996\n",
       "11/1/2018    1.021328\n",
       "12/1/2018    0.900700\n",
       "Name: Sum_Return_123456, Length: 90, dtype: float64"
      ]
     },
     "execution_count": 91,
     "metadata": {},
     "output_type": "execute_result"
    }
   ],
   "source": [
    "cumulative_return_123456"
   ]
  },
  {
   "cell_type": "code",
   "execution_count": 64,
   "metadata": {},
   "outputs": [
    {
     "data": {
      "text/plain": [
       "<matplotlib.axes._subplots.AxesSubplot at 0x26b6082e748>"
      ]
     },
     "execution_count": 64,
     "metadata": {},
     "output_type": "execute_result"
    },
    {
     "data": {
      "image/png": "[encoded data removed]",
      "text/plain": [
       "<Figure size 432x288 with 1 Axes>"
      ]
     },
     "metadata": {
      "needs_background": "light"
     },
     "output_type": "display_data"
    }
   ],
   "source": [
    "cumulative_return_123456.plot()"
   ]
  },
  {
   "cell_type": "code",
   "execution_count": null,
   "metadata": {},
   "outputs": [],
   "source": []
  },
  {
   "cell_type": "code",
   "execution_count": null,
   "metadata": {},
   "outputs": [],
   "source": []
  },
  {
   "cell_type": "code",
   "execution_count": null,
   "metadata": {},
   "outputs": [],
   "source": []
  },
  {
   "cell_type": "code",
   "execution_count": null,
   "metadata": {},
   "outputs": [],
   "source": []
  },
  {
   "cell_type": "code",
   "execution_count": null,
   "metadata": {},
   "outputs": [],
   "source": []
  },
  {
   "cell_type": "code",
   "execution_count": 3,
   "metadata": {},
   "outputs": [],
   "source": [
    "df1 = df[['Date', 'EQ_CH']]"
   ]
  },
  {
   "cell_type": "code",
   "execution_count": 4,
   "metadata": {},
   "outputs": [],
   "source": [
    "df2 = df1.set_index('Date')"
   ]
  },
  {
   "cell_type": "code",
   "execution_count": 5,
   "metadata": {},
   "outputs": [],
   "source": [
    "weights_242424 = np.array([1.00]) #ClientNr 242424 has 100% in EQ_CH thus weight is 1; the weight must be taken from \"New Weight File\""
   ]
  },
  {
   "cell_type": "code",
   "execution_count": 6,
   "metadata": {},
   "outputs": [],
   "source": [
    "weighted_return_242424 = df2 * weights_242424"
   ]
  },
  {
   "cell_type": "code",
   "execution_count": 7,
   "metadata": {},
   "outputs": [],
   "source": [
    "cumulative_return_242424 = ((1+weighted_return_242424['EQ_CH']).cumprod()-1)"
   ]
  },
  {
   "cell_type": "code",
   "execution_count": 8,
   "metadata": {},
   "outputs": [
    {
     "data": {
      "text/plain": [
       "Date\n",
       "7/1/2011          NaN\n",
       "8/1/2011    -0.101143\n",
       "9/1/2011    -0.088327\n",
       "10/1/2011    0.061632\n",
       "11/1/2011    0.124224\n",
       "               ...   \n",
       "8/1/2018     0.572179\n",
       "9/1/2018     0.493893\n",
       "10/1/2018    0.490428\n",
       "11/1/2018    0.487385\n",
       "12/1/2018    0.294399\n",
       "Name: EQ_CH, Length: 90, dtype: float64"
      ]
     },
     "execution_count": 8,
     "metadata": {},
     "output_type": "execute_result"
    }
   ],
   "source": [
    "cumulative_return_242424"
   ]
  },
  {
   "cell_type": "code",
   "execution_count": 9,
   "metadata": {},
   "outputs": [
    {
     "data": {
      "text/plain": [
       "<matplotlib.axes._subplots.AxesSubplot at 0x26b602e5cc8>"
      ]
     },
     "execution_count": 9,
     "metadata": {},
     "output_type": "execute_result"
    },
    {
     "data": {
      "image/png": "[encoded data removed]",
      "text/plain": [
       "<Figure size 432x288 with 1 Axes>"
      ]
     },
     "metadata": {
      "needs_background": "light"
     },
     "output_type": "display_data"
    }
   ],
   "source": [
    "cumulative_return_242424.plot()"
   ]
  },
  {
   "cell_type": "code",
   "execution_count": 10,
   "metadata": {},
   "outputs": [],
   "source": [
    "df_bm = pd.read_excel('Benchmarks.xlsx')"
   ]
  },
  {
   "cell_type": "code",
   "execution_count": 11,
   "metadata": {},
   "outputs": [
    {
     "data": {
      "text/html": [
       "<div>\n",
       "<style scoped>\n",
       "    .dataframe tbody tr th:only-of-type {\n",
       "        vertical-align: middle;\n",
       "    }\n",
       "\n",
       "    .dataframe tbody tr th {\n",
       "        vertical-align: top;\n",
       "    }\n",
       "\n",
       "    .dataframe thead th {\n",
       "        text-align: right;\n",
       "    }\n",
       "</style>\n",
       "<table border=\"1\" class=\"dataframe\">\n",
       "  <thead>\n",
       "    <tr style=\"text-align: right;\">\n",
       "      <th></th>\n",
       "      <th>Date</th>\n",
       "      <th>LOW</th>\n",
       "      <th>MODERATE</th>\n",
       "      <th>MEDIUM</th>\n",
       "      <th>ENHANCED</th>\n",
       "      <th>HIGH</th>\n",
       "    </tr>\n",
       "  </thead>\n",
       "  <tbody>\n",
       "    <tr>\n",
       "      <td>0</td>\n",
       "      <td>7/1/2011</td>\n",
       "      <td>NaN</td>\n",
       "      <td>NaN</td>\n",
       "      <td>NaN</td>\n",
       "      <td>NaN</td>\n",
       "      <td>NaN</td>\n",
       "    </tr>\n",
       "    <tr>\n",
       "      <td>1</td>\n",
       "      <td>8/1/2011</td>\n",
       "      <td>-0.086175</td>\n",
       "      <td>-0.014469</td>\n",
       "      <td>-0.023185</td>\n",
       "      <td>-0.046039</td>\n",
       "      <td>-0.031134</td>\n",
       "    </tr>\n",
       "    <tr>\n",
       "      <td>2</td>\n",
       "      <td>9/1/2011</td>\n",
       "      <td>-0.114935</td>\n",
       "      <td>-0.009121</td>\n",
       "      <td>-0.049084</td>\n",
       "      <td>0.005914</td>\n",
       "      <td>0.081060</td>\n",
       "    </tr>\n",
       "    <tr>\n",
       "      <td>3</td>\n",
       "      <td>10/1/2011</td>\n",
       "      <td>0.155474</td>\n",
       "      <td>0.061523</td>\n",
       "      <td>0.026293</td>\n",
       "      <td>0.134290</td>\n",
       "      <td>-0.010807</td>\n",
       "    </tr>\n",
       "    <tr>\n",
       "      <td>4</td>\n",
       "      <td>11/1/2011</td>\n",
       "      <td>-0.003783</td>\n",
       "      <td>-0.055783</td>\n",
       "      <td>-0.019126</td>\n",
       "      <td>-0.004769</td>\n",
       "      <td>-0.026488</td>\n",
       "    </tr>\n",
       "    <tr>\n",
       "      <td>...</td>\n",
       "      <td>...</td>\n",
       "      <td>...</td>\n",
       "      <td>...</td>\n",
       "      <td>...</td>\n",
       "      <td>...</td>\n",
       "      <td>...</td>\n",
       "    </tr>\n",
       "    <tr>\n",
       "      <td>85</td>\n",
       "      <td>8/1/2018</td>\n",
       "      <td>0.046883</td>\n",
       "      <td>0.196227</td>\n",
       "      <td>0.028777</td>\n",
       "      <td>0.008083</td>\n",
       "      <td>0.021845</td>\n",
       "    </tr>\n",
       "    <tr>\n",
       "      <td>86</td>\n",
       "      <td>9/1/2018</td>\n",
       "      <td>-0.025835</td>\n",
       "      <td>-0.004825</td>\n",
       "      <td>0.006993</td>\n",
       "      <td>-0.026933</td>\n",
       "      <td>-0.059857</td>\n",
       "    </tr>\n",
       "    <tr>\n",
       "      <td>87</td>\n",
       "      <td>10/1/2018</td>\n",
       "      <td>-0.107516</td>\n",
       "      <td>-0.030478</td>\n",
       "      <td>0.027778</td>\n",
       "      <td>-0.051800</td>\n",
       "      <td>-0.024002</td>\n",
       "    </tr>\n",
       "    <tr>\n",
       "      <td>88</td>\n",
       "      <td>11/1/2018</td>\n",
       "      <td>0.017263</td>\n",
       "      <td>-0.184045</td>\n",
       "      <td>0.013514</td>\n",
       "      <td>0.042733</td>\n",
       "      <td>0.029327</td>\n",
       "    </tr>\n",
       "    <tr>\n",
       "      <td>89</td>\n",
       "      <td>12/1/2018</td>\n",
       "      <td>-0.122658</td>\n",
       "      <td>-0.113616</td>\n",
       "      <td>-0.060000</td>\n",
       "      <td>0.011409</td>\n",
       "      <td>-0.048761</td>\n",
       "    </tr>\n",
       "  </tbody>\n",
       "</table>\n",
       "<p>90 rows × 6 columns</p>\n",
       "</div>"
      ],
      "text/plain": [
       "         Date       LOW  MODERATE    MEDIUM  ENHANCED      HIGH\n",
       "0    7/1/2011       NaN       NaN       NaN       NaN       NaN\n",
       "1    8/1/2011 -0.086175 -0.014469 -0.023185 -0.046039 -0.031134\n",
       "2    9/1/2011 -0.114935 -0.009121 -0.049084  0.005914  0.081060\n",
       "3   10/1/2011  0.155474  0.061523  0.026293  0.134290 -0.010807\n",
       "4   11/1/2011 -0.003783 -0.055783 -0.019126 -0.004769 -0.026488\n",
       "..        ...       ...       ...       ...       ...       ...\n",
       "85   8/1/2018  0.046883  0.196227  0.028777  0.008083  0.021845\n",
       "86   9/1/2018 -0.025835 -0.004825  0.006993 -0.026933 -0.059857\n",
       "87  10/1/2018 -0.107516 -0.030478  0.027778 -0.051800 -0.024002\n",
       "88  11/1/2018  0.017263 -0.184045  0.013514  0.042733  0.029327\n",
       "89  12/1/2018 -0.122658 -0.113616 -0.060000  0.011409 -0.048761\n",
       "\n",
       "[90 rows x 6 columns]"
      ]
     },
     "execution_count": 11,
     "metadata": {},
     "output_type": "execute_result"
    }
   ],
   "source": [
    "df_bm"
   ]
  },
  {
   "cell_type": "code",
   "execution_count": 12,
   "metadata": {},
   "outputs": [
    {
     "data": {
      "text/plain": [
       "0          NaN\n",
       "1    -0.046039\n",
       "2    -0.040397\n",
       "3     0.088468\n",
       "4     0.083277\n",
       "        ...   \n",
       "85    2.120320\n",
       "86    2.036282\n",
       "87    1.879002\n",
       "88    2.002031\n",
       "89    2.036282\n",
       "Name: ENHANCED, Length: 90, dtype: float64"
      ]
     },
     "execution_count": 12,
     "metadata": {},
     "output_type": "execute_result"
    }
   ],
   "source": [
    "Bm_cum_ret = ((1+df_bm['ENHANCED']).cumprod()-1)\n",
    "Bm_cum_ret"
   ]
  },
  {
   "cell_type": "code",
   "execution_count": 13,
   "metadata": {},
   "outputs": [
    {
     "data": {
      "text/plain": [
       "<matplotlib.axes._subplots.AxesSubplot at 0x26b602b0ac8>"
      ]
     },
     "execution_count": 13,
     "metadata": {},
     "output_type": "execute_result"
    },
    {
     "data": {
      "image/png": "[encoded data removed]",
      "text/plain": [
       "<Figure size 432x288 with 1 Axes>"
      ]
     },
     "metadata": {
      "needs_background": "light"
     },
     "output_type": "display_data"
    }
   ],
   "source": [
    "Bm_cum_ret.plot()"
   ]
  },
  {
   "cell_type": "code",
   "execution_count": null,
   "metadata": {},
   "outputs": [],
   "source": []
  },
  {
   "cell_type": "code",
   "execution_count": null,
   "metadata": {},
   "outputs": [],
   "source": []
  },
  {
   "cell_type": "code",
   "execution_count": null,
   "metadata": {},
   "outputs": [],
   "source": []
  }
 ],
 "metadata": {
  "kernelspec": {
   "display_name": "Python 3",
   "language": "python",
   "name": "python3"
  },
  "language_info": {
   "codemirror_mode": {
    "name": "ipython",
    "version": 3
   },
   "file_extension": ".py",
   "mimetype": "text/x-python",
   "name": "python",
   "nbconvert_exporter": "python",
   "pygments_lexer": "ipython3",
   "version": "3.7.3"
  }
 },
 "nbformat": 4,
 "nbformat_minor": 2
}
