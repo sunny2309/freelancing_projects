{
 "cells": [
  {
   "cell_type": "code",
   "execution_count": 13,
   "metadata": {},
   "outputs": [],
   "source": [
    "import pandas as pd\n",
    "import numpy as np\n",
    "import json\n",
    "import re"
   ]
  },
  {
   "cell_type": "code",
   "execution_count": 77,
   "metadata": {},
   "outputs": [],
   "source": [
    "regex = re.compile(r'\\s+')\n",
    "\n",
    "all_vendor_data = []\n",
    "with open('LLDP_Discovery.txt') as f:\n",
    "    vendor,hostname,ip_addr = None, None, None\n",
    "    vendor_data = []\n",
    "    for line in f:\n",
    "        clean_line = line.strip()\n",
    "        if clean_line:\n",
    "            if 'command completed' in clean_line.lower():\n",
    "                vendor_table = []\n",
    "                for row in vendor_data:\n",
    "                    vendor_table.append({'localport' : row[0], 'neighborport':row[1], 'systemname':row[2]})\n",
    "                all_vendor_data.append({\n",
    "                    'Vendor': vendor,\n",
    "                    'Hostname': hostname,\n",
    "                    'IPAddress':ip_addr,\n",
    "                    'lldp': vendor_table\n",
    "                })\n",
    "                vendor,hostname,ip_addr,vendor_data = None, None, None, []\n",
    "                continue\n",
    "            if not vendor:\n",
    "                vendor = 'AAA' if 'AAA' in clean_line else 'BBB' if 'BBB' in clean_line else 'CCC' if 'CCC' in clean_line else None\n",
    "                continue\n",
    "            elif 'Link Layer Discovery Protocol' in clean_line or 'nearest-bridge' in clean_line:\n",
    "                continue\n",
    "            if vendor == 'AAA':\n",
    "                if 'hostname' in clean_line.lower():\n",
    "                    hostname = clean_line.split(':')[1].strip()\n",
    "                elif 'ip address' in clean_line.lower():\n",
    "                    ip_addr = clean_line.split(':')[1].strip()\n",
    "                split_results = regex.split(clean_line)\n",
    "                if len(split_results) == 4:\n",
    "                    vendor_data.append([split_results[0], split_results[2], split_results[3]])\n",
    "            elif vendor == 'BBB':\n",
    "                if 'hostname' in clean_line.lower():\n",
    "                    hostname = clean_line.split(':')[1].strip()\n",
    "                elif 'ip address' in clean_line.lower():\n",
    "                    ip_addr = clean_line.split(':')[1].strip()\n",
    "                split_results = regex.split(clean_line)\n",
    "                if len(split_results) == 4:\n",
    "                    vendor_data.append([split_results[0], split_results[2], split_results[1]])\n",
    "            elif vendor == 'CCC':\n",
    "                if 'hostname' in clean_line.lower():\n",
    "                    hostname = clean_line.split(':')[1].strip()\n",
    "                elif 'ip address' in clean_line.lower():\n",
    "                    ip_addr = clean_line.split(':')[1].strip()\n",
    "                split_results = regex.split(clean_line)\n",
    "                if len(split_results) >=6 and len(split_results) <= 10:\n",
    "                    port = ' '.join(split_results[4:-1])\n",
    "                    vendor_data.append([split_results[0], port.split(',')[0].strip(),split_results[-1]])"
   ]
  },
  {
   "cell_type": "code",
   "execution_count": 78,
   "metadata": {},
   "outputs": [],
   "source": [
    "final_output = {'scandevice': [{'scanlldp': all_vendor_data}]}"
   ]
  },
  {
   "cell_type": "code",
   "execution_count": 79,
   "metadata": {},
   "outputs": [],
   "source": [
    "with open('out.json', 'w') as f:\n",
    "    json.dump(final_output, f,indent=2)"
   ]
  },
  {
   "cell_type": "code",
   "execution_count": null,
   "metadata": {},
   "outputs": [],
   "source": []
  },
  {
   "cell_type": "code",
   "execution_count": null,
   "metadata": {},
   "outputs": [],
   "source": []
  }
 ],
 "metadata": {
  "kernelspec": {
   "display_name": "Python 3",
   "language": "python",
   "name": "python3"
  },
  "language_info": {
   "codemirror_mode": {
    "name": "ipython",
    "version": 3
   },
   "file_extension": ".py",
   "mimetype": "text/x-python",
   "name": "python",
   "nbconvert_exporter": "python",
   "pygments_lexer": "ipython3",
   "version": "3.7.3"
  }
 },
 "nbformat": 4,
 "nbformat_minor": 2
}
