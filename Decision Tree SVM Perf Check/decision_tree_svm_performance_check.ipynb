{
 "cells": [
  {
   "cell_type": "markdown",
   "metadata": {},
   "source": [
    "# Introduction\n",
    "Below we'll be training various variation of decision tree and support vector machine on breast cancer dataset. We'll divide dataset into train set(70%) and test set(30%). We'll then repeat process of training and evaluating 20 times dividing dataset. We'll keep record of all acuracy and report average accuracy after 20 steps.\n",
    "\n",
    "### Common Library Imports"
   ]
  },
  {
   "cell_type": "code",
   "execution_count": 1,
   "metadata": {},
   "outputs": [],
   "source": [
    "import numpy as np ## Linear algebra library\n",
    "import pandas as pd ## tabular data maintaining library\n",
    "\n",
    "import sklearn\n",
    "from sklearn import datasets ## datasets has breast cancer dataset \n",
    "from sklearn.model_selection import train_test_split ## train_test_split lets us split data into train/test sets.\n",
    "from sklearn.tree import DecisionTreeClassifier\n",
    "from sklearn.svm import SVC\n",
    "from sklearn.metrics import precision_score, recall_score\n",
    "\n",
    "import warnings\n",
    "warnings.filterwarnings('ignore')"
   ]
  },
  {
   "cell_type": "markdown",
   "metadata": {},
   "source": [
    "# Loading Breast Cancer Dataset"
   ]
  },
  {
   "cell_type": "code",
   "execution_count": 2,
   "metadata": {},
   "outputs": [
    {
     "name": "stdout",
     "output_type": "stream",
     "text": [
      "Dataset Size :  (569, 30) (569,)\n"
     ]
    }
   ],
   "source": [
    "breast_cancer_dataset = datasets.load_breast_cancer()\n",
    "X, Y = breast_cancer_dataset.data, breast_cancer_dataset.target\n",
    "print('Dataset Size : ', X.shape, Y.shape)"
   ]
  },
  {
   "cell_type": "markdown",
   "metadata": {},
   "source": [
    "### Generic function for training model for 20 Iterations\n",
    "Below we have created generic function which takes as input machine learning model and (features, target). It then loops 20 times and each time divide dataset into train/test set, train model on train set and evaluate on test set. It also keeps track of train and test accuracy during each run and return average of both once completed."
   ]
  },
  {
   "cell_type": "code",
   "execution_count": 3,
   "metadata": {},
   "outputs": [],
   "source": [
    "results = []\n",
    "\n",
    "def fit_and_evaluate_model(model, X, Y):\n",
    "    train_accuracies, test_accuracies,precision, recall = [], [], [], []\n",
    "    for i in range(20):\n",
    "        X_train, X_test, Y_train, Y_test = train_test_split(X, Y, train_size=0.7, test_size=0.3, stratify=Y)\n",
    "        model.fit(X_train,Y_train)\n",
    "        train_accuracies.append(model.score(X_train, Y_train))\n",
    "        test_accuracies.append(model.score(X_test, Y_test))\n",
    "        preds = model.predict(X_test)\n",
    "        precision.append(precision_score(Y_test, preds))\n",
    "        recall.append(recall_score(Y_test, preds))\n",
    "        \n",
    "    return np.array(train_accuracies) .mean(), np.array(test_accuracies) .mean(), np.array(precision) .mean(), np.array(recall) .mean()"
   ]
  },
  {
   "cell_type": "markdown",
   "metadata": {},
   "source": [
    "# Decision Tree with Information Gain"
   ]
  },
  {
   "cell_type": "code",
   "execution_count": 4,
   "metadata": {},
   "outputs": [
    {
     "name": "stdout",
     "output_type": "stream",
     "text": [
      "Average Train Accuracy : 1.000\n",
      "Average Test Accuracy : 0.924\n",
      "Precision : 0.943\n",
      "Recall : 0.935\n"
     ]
    }
   ],
   "source": [
    "dt = DecisionTreeClassifier(criterion='entropy') ## 'entropy' as criterion lets calculation based on Info Gain.\n",
    "\n",
    "avg_train_accuracy, avg_test_accuracy,precision, recall = fit_and_evaluate_model(dt, X, Y)\n",
    "print('Average Train Accuracy : %.3f'%avg_train_accuracy)\n",
    "print('Average Test Accuracy : %.3f'%avg_test_accuracy)\n",
    "print('Precision : %.3f'%precision)\n",
    "print('Recall : %.3f'%recall)\n",
    "\n",
    "results.append(['DT1', avg_train_accuracy, avg_test_accuracy,precision, recall])"
   ]
  },
  {
   "cell_type": "markdown",
   "metadata": {},
   "source": [
    "We can notice above that we are getting `100%` accuracy with train data whereas accuracy with test set is `92.9%`. This shows that our model is overfitting train data. We should try to find out model which has train and test accuracies almost same or has quite low difference.\n",
    "\n",
    "# Decision Tree with Various Tree Depths\n",
    "We'll below try various `max_depth` for decision tree which will create decision trees with various lengths. We'll also keep track of average train and test accuracies for each depth and report it as well."
   ]
  },
  {
   "cell_type": "code",
   "execution_count": 5,
   "metadata": {},
   "outputs": [
    {
     "name": "stdout",
     "output_type": "stream",
     "text": [
      "\n",
      "Tree Depth : 2\n",
      "Average Train Accuracy : 0.937\n",
      "Average Test Accuracy : 0.908\n",
      "Precision : 0.936\n",
      "Recall : 0.918\n",
      "\n",
      "Tree Depth : 3\n",
      "Average Train Accuracy : 0.970\n",
      "Average Test Accuracy : 0.925\n",
      "Precision : 0.928\n",
      "Recall : 0.956\n",
      "\n",
      "Tree Depth : 4\n",
      "Average Train Accuracy : 0.985\n",
      "Average Test Accuracy : 0.923\n",
      "Precision : 0.929\n",
      "Recall : 0.950\n",
      "\n",
      "Tree Depth : 5\n",
      "Average Train Accuracy : 0.995\n",
      "Average Test Accuracy : 0.932\n",
      "Precision : 0.941\n",
      "Recall : 0.951\n",
      "\n",
      "Tree Depth : 6\n",
      "Average Train Accuracy : 0.999\n",
      "Average Test Accuracy : 0.927\n",
      "Precision : 0.943\n",
      "Recall : 0.940\n",
      "\n",
      "Tree Depth : 7\n",
      "Average Train Accuracy : 1.000\n",
      "Average Test Accuracy : 0.931\n",
      "Precision : 0.946\n",
      "Recall : 0.944\n",
      "\n",
      "Tree Depth : 8\n",
      "Average Train Accuracy : 1.000\n",
      "Average Test Accuracy : 0.920\n",
      "Precision : 0.939\n",
      "Recall : 0.934\n",
      "\n",
      "Tree Depth : 9\n",
      "Average Train Accuracy : 1.000\n",
      "Average Test Accuracy : 0.931\n",
      "Precision : 0.952\n",
      "Recall : 0.937\n"
     ]
    }
   ],
   "source": [
    "for depth in [2,3,4,5, 6, 7, 8, 9]:\n",
    "    dt = DecisionTreeClassifier(criterion='entropy', max_depth=depth)\n",
    "\n",
    "    avg_train_accuracy, avg_test_accuracy, precision, recall = fit_and_evaluate_model(dt, X, Y)\n",
    "    print('\\nTree Depth : %d'%depth)\n",
    "    print('Average Train Accuracy : %.3f'%avg_train_accuracy)\n",
    "    print('Average Test Accuracy : %.3f'%avg_test_accuracy)\n",
    "    print('Precision : %.3f'%precision)\n",
    "    print('Recall : %.3f'%recall)\n",
    "    \n",
    "    results.append(['DT2-Depth : %d'%depth, avg_train_accuracy, avg_test_accuracy,precision, recall])"
   ]
  },
  {
   "cell_type": "markdown",
   "metadata": {},
   "source": [
    "We can notice above that `max_depth` of 2 and 3 has less difference between train and test accuracy hence both are good choice for tree depth. All other are overfitting train data and giving `100%` accuracy whereas giving `~93%` accuracy for test data.\n",
    "\n",
    "# SVM with Linear Kernel\n",
    "Below we'll try support vector machine with Linear kernel. "
   ]
  },
  {
   "cell_type": "code",
   "execution_count": 6,
   "metadata": {},
   "outputs": [
    {
     "name": "stdout",
     "output_type": "stream",
     "text": [
      "Average Train Accuracy : 0.967\n",
      "Average Test  Accuracy : 0.950\n",
      "Precision : 0.952\n",
      "Recall : 0.970\n"
     ]
    }
   ],
   "source": [
    "linear_svm = SVC(kernel='linear')\n",
    "\n",
    "avg_train_accuracy, avg_test_accuracy, precision, recall = fit_and_evaluate_model(linear_svm, X, Y)\n",
    "print('Average Train Accuracy : %.3f'%avg_train_accuracy)\n",
    "print('Average Test  Accuracy : %.3f'%avg_test_accuracy)\n",
    "print('Precision : %.3f'%precision)\n",
    "print('Recall : %.3f'%recall)\n",
    "results.append(['SVM1', avg_train_accuracy, avg_test_accuracy,precision, recall])"
   ]
  },
  {
   "cell_type": "markdown",
   "metadata": {},
   "source": [
    "We can notice above that SVM with linear kernel is performing quite well and difference between train and tet accuracy is quite less hence model has become quite generic.\n",
    "\n",
    "# SVM with RBF Kernel\n",
    "We'll try below SVM with RBF kernel."
   ]
  },
  {
   "cell_type": "code",
   "execution_count": 7,
   "metadata": {},
   "outputs": [
    {
     "name": "stdout",
     "output_type": "stream",
     "text": [
      "Average Train Accuracy : 1.000\n",
      "Average Test Accuracy : 0.626\n",
      "Precision : 0.626\n",
      "Recall : 1.000\n"
     ]
    }
   ],
   "source": [
    "rbf_svm = SVC(kernel='rbf')\n",
    "\n",
    "avg_train_accuracy, avg_test_accuracy, precision, recall = fit_and_evaluate_model(rbf_svm, X, Y)\n",
    "print('Average Train Accuracy : %.3f'%avg_train_accuracy)\n",
    "print('Average Test Accuracy : %.3f'%avg_test_accuracy)\n",
    "print('Precision : %.3f'%precision)\n",
    "print('Recall : %.3f'%recall)\n",
    "results.append(['SVM2', avg_train_accuracy, avg_test_accuracy,precision, recall])"
   ]
  },
  {
   "cell_type": "markdown",
   "metadata": {},
   "source": [
    "We can notice from above accuracies that SVM with rbf kernel has clearly overfit train data with 100% accuracy whereas test accuracy is only %62.6 which is not good.\n",
    "\n",
    "# SVM with RBF Kernel (Regularization parameter C tried with various values)\n",
    "Below we'll try various values of regularization parameter C and check performance of SVM for each values. We'll try to check whether any combination is able to beat above bad performance."
   ]
  },
  {
   "cell_type": "code",
   "execution_count": 8,
   "metadata": {},
   "outputs": [
    {
     "name": "stdout",
     "output_type": "stream",
     "text": [
      "\n",
      "SVC Regularization parameter C : 0.01\n",
      "Average Train Accuracy : 0.628\n",
      "Average Test Accuracy : 0.626\n",
      "Precision : 0.626\n",
      "Recall : 1.000\n",
      "\n",
      "SVC Regularization parameter C : 0.10\n",
      "Average Train Accuracy : 0.628\n",
      "Average Test Accuracy : 0.626\n",
      "Precision : 0.626\n",
      "Recall : 1.000\n",
      "\n",
      "SVC Regularization parameter C : 1.00\n",
      "Average Train Accuracy : 1.000\n",
      "Average Test Accuracy : 0.626\n",
      "Precision : 0.626\n",
      "Recall : 1.000\n",
      "\n",
      "SVC Regularization parameter C : 10.00\n",
      "Average Train Accuracy : 1.000\n",
      "Average Test Accuracy : 0.626\n",
      "Precision : 0.626\n",
      "Recall : 1.000\n"
     ]
    }
   ],
   "source": [
    "for c in [0.01, 0.1, 1.0, 10.0]:\n",
    "    rbf_svm = SVC(kernel='rbf', C=c)\n",
    "\n",
    "    avg_train_accuracy, avg_test_accuracy, precision, recall = fit_and_evaluate_model(rbf_svm, X, Y)\n",
    "    \n",
    "    print('\\nSVC Regularization parameter C : %.2f'%c)\n",
    "    print('Average Train Accuracy : %.3f'%avg_train_accuracy)\n",
    "    print('Average Test Accuracy : %.3f'%avg_test_accuracy)\n",
    "    print('Precision : %.3f'%precision)\n",
    "    print('Recall : %.3f'%recall)\n",
    "    results.append(['SVM3-C : %.2f'%c, avg_train_accuracy, avg_test_accuracy,precision, recall])"
   ]
  },
  {
   "cell_type": "code",
   "execution_count": 9,
   "metadata": {},
   "outputs": [
    {
     "data": {
      "text/html": [
       "<div>\n",
       "<style scoped>\n",
       "    .dataframe tbody tr th:only-of-type {\n",
       "        vertical-align: middle;\n",
       "    }\n",
       "\n",
       "    .dataframe tbody tr th {\n",
       "        vertical-align: top;\n",
       "    }\n",
       "\n",
       "    .dataframe thead th {\n",
       "        text-align: right;\n",
       "    }\n",
       "</style>\n",
       "<table border=\"1\" class=\"dataframe\">\n",
       "  <thead>\n",
       "    <tr style=\"text-align: right;\">\n",
       "      <th></th>\n",
       "      <th>Model Name</th>\n",
       "      <th>Avg Train Accuracy</th>\n",
       "      <th>Avg Test Accuracy</th>\n",
       "      <th>Precision</th>\n",
       "      <th>Recall</th>\n",
       "    </tr>\n",
       "  </thead>\n",
       "  <tbody>\n",
       "    <tr>\n",
       "      <th>0</th>\n",
       "      <td>DT1</td>\n",
       "      <td>1.000000</td>\n",
       "      <td>0.923977</td>\n",
       "      <td>0.943396</td>\n",
       "      <td>0.935047</td>\n",
       "    </tr>\n",
       "    <tr>\n",
       "      <th>1</th>\n",
       "      <td>DT2-Depth : 2</td>\n",
       "      <td>0.936809</td>\n",
       "      <td>0.907602</td>\n",
       "      <td>0.936163</td>\n",
       "      <td>0.918224</td>\n",
       "    </tr>\n",
       "    <tr>\n",
       "      <th>2</th>\n",
       "      <td>DT2-Depth : 3</td>\n",
       "      <td>0.970477</td>\n",
       "      <td>0.925146</td>\n",
       "      <td>0.927710</td>\n",
       "      <td>0.955607</td>\n",
       "    </tr>\n",
       "    <tr>\n",
       "      <th>3</th>\n",
       "      <td>DT2-Depth : 4</td>\n",
       "      <td>0.985427</td>\n",
       "      <td>0.923099</td>\n",
       "      <td>0.929187</td>\n",
       "      <td>0.950467</td>\n",
       "    </tr>\n",
       "    <tr>\n",
       "      <th>4</th>\n",
       "      <td>DT2-Depth : 5</td>\n",
       "      <td>0.995226</td>\n",
       "      <td>0.931579</td>\n",
       "      <td>0.940510</td>\n",
       "      <td>0.951402</td>\n",
       "    </tr>\n",
       "    <tr>\n",
       "      <th>5</th>\n",
       "      <td>DT2-Depth : 6</td>\n",
       "      <td>0.998744</td>\n",
       "      <td>0.926608</td>\n",
       "      <td>0.943323</td>\n",
       "      <td>0.939720</td>\n",
       "    </tr>\n",
       "    <tr>\n",
       "      <th>6</th>\n",
       "      <td>DT2-Depth : 7</td>\n",
       "      <td>0.999874</td>\n",
       "      <td>0.930994</td>\n",
       "      <td>0.946107</td>\n",
       "      <td>0.944393</td>\n",
       "    </tr>\n",
       "    <tr>\n",
       "      <th>7</th>\n",
       "      <td>DT2-Depth : 8</td>\n",
       "      <td>1.000000</td>\n",
       "      <td>0.919883</td>\n",
       "      <td>0.938573</td>\n",
       "      <td>0.933645</td>\n",
       "    </tr>\n",
       "    <tr>\n",
       "      <th>8</th>\n",
       "      <td>DT2-Depth : 9</td>\n",
       "      <td>1.000000</td>\n",
       "      <td>0.930994</td>\n",
       "      <td>0.952359</td>\n",
       "      <td>0.936916</td>\n",
       "    </tr>\n",
       "    <tr>\n",
       "      <th>9</th>\n",
       "      <td>SVM1</td>\n",
       "      <td>0.966834</td>\n",
       "      <td>0.950292</td>\n",
       "      <td>0.951851</td>\n",
       "      <td>0.970093</td>\n",
       "    </tr>\n",
       "    <tr>\n",
       "      <th>10</th>\n",
       "      <td>SVM2</td>\n",
       "      <td>1.000000</td>\n",
       "      <td>0.625731</td>\n",
       "      <td>0.625731</td>\n",
       "      <td>1.000000</td>\n",
       "    </tr>\n",
       "    <tr>\n",
       "      <th>11</th>\n",
       "      <td>SVM3-C : 0.01</td>\n",
       "      <td>0.628141</td>\n",
       "      <td>0.625731</td>\n",
       "      <td>0.625731</td>\n",
       "      <td>1.000000</td>\n",
       "    </tr>\n",
       "    <tr>\n",
       "      <th>12</th>\n",
       "      <td>SVM3-C : 0.10</td>\n",
       "      <td>0.628141</td>\n",
       "      <td>0.625731</td>\n",
       "      <td>0.625731</td>\n",
       "      <td>1.000000</td>\n",
       "    </tr>\n",
       "    <tr>\n",
       "      <th>13</th>\n",
       "      <td>SVM3-C : 1.00</td>\n",
       "      <td>1.000000</td>\n",
       "      <td>0.625731</td>\n",
       "      <td>0.625731</td>\n",
       "      <td>1.000000</td>\n",
       "    </tr>\n",
       "    <tr>\n",
       "      <th>14</th>\n",
       "      <td>SVM3-C : 10.00</td>\n",
       "      <td>1.000000</td>\n",
       "      <td>0.625731</td>\n",
       "      <td>0.625731</td>\n",
       "      <td>1.000000</td>\n",
       "    </tr>\n",
       "  </tbody>\n",
       "</table>\n",
       "</div>"
      ],
      "text/plain": [
       "        Model Name  Avg Train Accuracy  Avg Test Accuracy  Precision    Recall\n",
       "0              DT1            1.000000           0.923977   0.943396  0.935047\n",
       "1    DT2-Depth : 2            0.936809           0.907602   0.936163  0.918224\n",
       "2    DT2-Depth : 3            0.970477           0.925146   0.927710  0.955607\n",
       "3    DT2-Depth : 4            0.985427           0.923099   0.929187  0.950467\n",
       "4    DT2-Depth : 5            0.995226           0.931579   0.940510  0.951402\n",
       "5    DT2-Depth : 6            0.998744           0.926608   0.943323  0.939720\n",
       "6    DT2-Depth : 7            0.999874           0.930994   0.946107  0.944393\n",
       "7    DT2-Depth : 8            1.000000           0.919883   0.938573  0.933645\n",
       "8    DT2-Depth : 9            1.000000           0.930994   0.952359  0.936916\n",
       "9             SVM1            0.966834           0.950292   0.951851  0.970093\n",
       "10            SVM2            1.000000           0.625731   0.625731  1.000000\n",
       "11   SVM3-C : 0.01            0.628141           0.625731   0.625731  1.000000\n",
       "12   SVM3-C : 0.10            0.628141           0.625731   0.625731  1.000000\n",
       "13   SVM3-C : 1.00            1.000000           0.625731   0.625731  1.000000\n",
       "14  SVM3-C : 10.00            1.000000           0.625731   0.625731  1.000000"
      ]
     },
     "execution_count": 9,
     "metadata": {},
     "output_type": "execute_result"
    }
   ],
   "source": [
    "df = pd.DataFrame(results, columns=['Model Name', 'Avg Train Accuracy', 'Avg Test Accuracy','Precision', 'Recall'])\n",
    "df"
   ]
  },
  {
   "cell_type": "markdown",
   "metadata": {},
   "source": [
    "We can notice above that regularization parameter `C` has values `0.01, 0.1 and 0.5` give same accuracy for train and test sets hence genralized well. All other values are overfitting on train dataset.\n",
    "\n",
    "# Conclusion\n",
    "We can notice after performing above experiments that decision tree with tree depth of `2` and `3` gives good results and SVM with `linear kernel` gives quite good results compared to rbf kernel."
   ]
  },
  {
   "cell_type": "code",
   "execution_count": null,
   "metadata": {},
   "outputs": [],
   "source": []
  },
  {
   "cell_type": "code",
   "execution_count": null,
   "metadata": {},
   "outputs": [],
   "source": []
  }
 ],
 "metadata": {
  "kernelspec": {
   "display_name": "Python 3",
   "language": "python",
   "name": "python3"
  },
  "language_info": {
   "codemirror_mode": {
    "name": "ipython",
    "version": 3
   },
   "file_extension": ".py",
   "mimetype": "text/x-python",
   "name": "python",
   "nbconvert_exporter": "python",
   "pygments_lexer": "ipython3",
   "version": "3.7.3"
  }
 },
 "nbformat": 4,
 "nbformat_minor": 2
}
