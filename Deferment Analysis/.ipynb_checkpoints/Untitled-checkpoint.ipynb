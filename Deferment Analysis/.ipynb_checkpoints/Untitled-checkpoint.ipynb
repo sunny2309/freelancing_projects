{
 "cells": [
  {
   "cell_type": "code",
   "execution_count": 7,
   "metadata": {},
   "outputs": [],
   "source": [
    "# Import libraries and tools\n",
    "import pandas as pd"
   ]
  },
  {
   "cell_type": "code",
   "execution_count": 9,
   "metadata": {},
   "outputs": [],
   "source": [
    "# Combine all sheets into a single dataframe\n",
    "df = pd.read_excel('Deferment 2016-2019.xlsx', sheetname=None, ignore_index=True)\n",
    "cdf = pd.concat(df.values(), ignore_index=True)\n",
    "cdf"
   ]
  },
  {
   "cell_type": "code",
   "execution_count": 12,
   "metadata": {},
   "outputs": [],
   "source": [
    "# Export the combined file into Excel format\n",
    "cdf.to_excel(\"deferment_2016_2019_final.xlsx\")"
   ]
  },
  {
   "cell_type": "code",
   "execution_count": null,
   "metadata": {},
   "outputs": [],
   "source": [
    "# Filter only well under 'column category'"
   ]
  },
  {
   "cell_type": "code",
   "execution_count": null,
   "metadata": {},
   "outputs": [],
   "source": [
    "# Export this filtered dataset (after getting for well only) into Excel format"
   ]
  },
  {
   "cell_type": "code",
   "execution_count": null,
   "metadata": {},
   "outputs": [],
   "source": [
    "# BASIC LEVEL\n",
    "\n",
    "# After filtering:\n",
    "# Count how many rows and print\n",
    "# Group by TYPE and print\n",
    "# Calculate percentage of each TYPE vs total row and create suitable vis\n",
    "# Group by TYPE & OP_AREA_CODE - i.e. number of events per OP_AREA_CODE and print\n",
    "# Group by TYPE & OP_SUB_AREA_CODE - i.e. number of events per OP_SUB_AREA_CODE and print\n",
    "# Group by PRIMARY_SECONDARY reason and count\n",
    "# Count how many rows for each OP_AREA_CODE and by year and create suitable vis\n",
    "# Count how many rows for each OP_SUB_AREA_CODE by year and create suitable vis\n",
    "# Count how many non-planned and unplanned from TYPE column by year and create suitable vis\n",
    "# Count OIL_EVENT_LOSS_BBLS by year and create suitable vis\n",
    "# Check recurrence of entry from CODE (failure occurs more than one time) & retrieve how many and when\n",
    "# e.g. DULG-A015-SS, 2, 2015, 2016"
   ]
  }
 ],
 "metadata": {
  "kernelspec": {
   "display_name": "Python 3",
   "language": "python",
   "name": "python3"
  },
  "language_info": {
   "codemirror_mode": {
    "name": "ipython",
    "version": 3
   },
   "file_extension": ".py",
   "mimetype": "text/x-python",
   "name": "python",
   "nbconvert_exporter": "python",
   "pygments_lexer": "ipython3",
   "version": "3.7.4"
  }
 },
 "nbformat": 4,
 "nbformat_minor": 2
}
