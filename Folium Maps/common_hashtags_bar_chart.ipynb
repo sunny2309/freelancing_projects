{
 "cells": [
  {
   "cell_type": "code",
   "execution_count": 2,
   "metadata": {},
   "outputs": [],
   "source": [
    "import pandas as pd\n",
    "import numpy as np\n",
    "import matplotlib.pyplot as plt\n",
    "from collections import Counter\n",
    "import re\n",
    "\n",
    "%matplotlib inline"
   ]
  },
  {
   "cell_type": "code",
   "execution_count": 3,
   "metadata": {},
   "outputs": [
    {
     "name": "stdout",
     "output_type": "stream",
     "text": [
      "(31091, 1)\n"
     ]
    },
    {
     "data": {
      "text/html": [
       "<div>\n",
       "<style scoped>\n",
       "    .dataframe tbody tr th:only-of-type {\n",
       "        vertical-align: middle;\n",
       "    }\n",
       "\n",
       "    .dataframe tbody tr th {\n",
       "        vertical-align: top;\n",
       "    }\n",
       "\n",
       "    .dataframe thead th {\n",
       "        text-align: right;\n",
       "    }\n",
       "</style>\n",
       "<table border=\"1\" class=\"dataframe\">\n",
       "  <thead>\n",
       "    <tr style=\"text-align: right;\">\n",
       "      <th></th>\n",
       "      <th>original_text</th>\n",
       "    </tr>\n",
       "  </thead>\n",
       "  <tbody>\n",
       "    <tr>\n",
       "      <th>0</th>\n",
       "      <td>Ever since, the #vietnamwar, she's good a stir...</td>\n",
       "    </tr>\n",
       "    <tr>\n",
       "      <th>1</th>\n",
       "      <td>Fonda arrested during climate protest: I was i...</td>\n",
       "    </tr>\n",
       "    <tr>\n",
       "      <th>2</th>\n",
       "      <td>#Yuge #NobelPeacePrize News\\n#GretaThunberg De...</td>\n",
       "    </tr>\n",
       "    <tr>\n",
       "      <th>3</th>\n",
       "      <td>#GretaThunberg has been snubbed yet again!\\n\\n...</td>\n",
       "    </tr>\n",
       "    <tr>\n",
       "      <th>4</th>\n",
       "      <td>Today may be due to the social media hype, peo...</td>\n",
       "    </tr>\n",
       "  </tbody>\n",
       "</table>\n",
       "</div>"
      ],
      "text/plain": [
       "                                       original_text\n",
       "0  Ever since, the #vietnamwar, she's good a stir...\n",
       "1  Fonda arrested during climate protest: I was i...\n",
       "2  #Yuge #NobelPeacePrize News\\n#GretaThunberg De...\n",
       "3  #GretaThunberg has been snubbed yet again!\\n\\n...\n",
       "4  Today may be due to the social media hype, peo..."
      ]
     },
     "execution_count": 3,
     "metadata": {},
     "output_type": "execute_result"
    }
   ],
   "source": [
    "df = pd.read_csv('sample.csv')\n",
    "print(df.shape)\n",
    "df.head()"
   ]
  },
  {
   "cell_type": "code",
   "execution_count": 4,
   "metadata": {},
   "outputs": [
    {
     "name": "stdout",
     "output_type": "stream",
     "text": [
      "Total Hashtags : 54468\n"
     ]
    }
   ],
   "source": [
    "regex = re.compile(r'#[a-zA-z]+')\n",
    "\n",
    "hashtags = []\n",
    "for line in df['original_text']:\n",
    "    hashtags.extend(regex.findall(line))\n",
    "    \n",
    "print('Total Hashtags : %d'%len(hashtags))"
   ]
  },
  {
   "cell_type": "code",
   "execution_count": 5,
   "metadata": {},
   "outputs": [],
   "source": [
    "hashtag_counts = Counter(hashtags)\n",
    "\n",
    "def get_topn(hashtags, n=10):\n",
    "    sorted_hashtags = sorted(hashtags.items(), key=lambda x: x[1], reverse=True)\n",
    "    return np.array(sorted_hashtags)[:n]"
   ]
  },
  {
   "cell_type": "code",
   "execution_count": 8,
   "metadata": {},
   "outputs": [
    {
     "name": "stdout",
     "output_type": "stream",
     "text": [
      "[['#GretaThunberg' '18112']\n",
      " ['#ClimateChange' '2252']\n",
      " ['#NobelPeacePrize' '1168']\n",
      " ['#gretathunberg' '925']\n",
      " ['#ExtinctionRebellion' '877']\n",
      " ['#ClimateStrike' '708']\n",
      " ['#FridaysForFuture' '576']\n",
      " ['#Putin' '502']\n",
      " ['#ClimateEmergency' '493']\n",
      " ['#ClimateAction' '487']]\n"
     ]
    },
    {
     "data": {
      "image/png": "[encoded data removed]",
      "text/plain": [
       "<Figure size 576x432 with 1 Axes>"
      ]
     },
     "metadata": {},
     "output_type": "display_data"
    }
   ],
   "source": [
    "n = 10 ## Change it according to your need\n",
    "top10 = get_topn(hashtag_counts, n)\n",
    "print(top10)\n",
    "\n",
    "with plt.style.context(('seaborn','ggplot')):\n",
    "    plt.figure(figsize=(8,6))\n",
    "    plt.bar(top10[:,0][::-1], top10[:,1][::-1], alpha=0.9)\n",
    "    plt.xticks(rotation='vertical')\n",
    "    plt.title('Top %d Hash Tags'%n)\n",
    "    plt.xlabel('Hashtags')\n",
    "    plt.ylabel('Count')"
   ]
  },
  {
   "cell_type": "code",
   "execution_count": null,
   "metadata": {},
   "outputs": [],
   "source": []
  },
  {
   "cell_type": "code",
   "execution_count": null,
   "metadata": {},
   "outputs": [],
   "source": []
  }
 ],
 "metadata": {
  "kernelspec": {
   "display_name": "Python 3",
   "language": "python",
   "name": "python3"
  },
  "language_info": {
   "codemirror_mode": {
    "name": "ipython",
    "version": 3
   },
   "file_extension": ".py",
   "mimetype": "text/x-python",
   "name": "python",
   "nbconvert_exporter": "python",
   "pygments_lexer": "ipython3",
   "version": "3.7.3"
  }
 },
 "nbformat": 4,
 "nbformat_minor": 2
}
