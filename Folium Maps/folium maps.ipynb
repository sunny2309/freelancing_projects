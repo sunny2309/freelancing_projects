{
 "cells": [
  {
   "cell_type": "code",
   "execution_count": 1,
   "metadata": {},
   "outputs": [],
   "source": [
    "import pandas as pd\n",
    "import numpy as np\n",
    "import folium"
   ]
  },
  {
   "cell_type": "code",
   "execution_count": 2,
   "metadata": {},
   "outputs": [
    {
     "data": {
      "text/html": [
       "<div>\n",
       "<style scoped>\n",
       "    .dataframe tbody tr th:only-of-type {\n",
       "        vertical-align: middle;\n",
       "    }\n",
       "\n",
       "    .dataframe tbody tr th {\n",
       "        vertical-align: top;\n",
       "    }\n",
       "\n",
       "    .dataframe thead th {\n",
       "        text-align: right;\n",
       "    }\n",
       "</style>\n",
       "<table border=\"1\" class=\"dataframe\">\n",
       "  <thead>\n",
       "    <tr style=\"text-align: right;\">\n",
       "      <th></th>\n",
       "      <th>name</th>\n",
       "      <th>place_coord_boundaries</th>\n",
       "    </tr>\n",
       "  </thead>\n",
       "  <tbody>\n",
       "    <tr>\n",
       "      <th>0</th>\n",
       "      <td>106</td>\n",
       "      <td>[[8.4475987, 11.9296331], [8.6073347, 11.92963...</td>\n",
       "    </tr>\n",
       "    <tr>\n",
       "      <th>1</th>\n",
       "      <td>109</td>\n",
       "      <td>[[-1.838006, 51.050942], [-1.765956, 51.050942...</td>\n",
       "    </tr>\n",
       "    <tr>\n",
       "      <th>2</th>\n",
       "      <td>141</td>\n",
       "      <td>[[-123.224215, 49.19854], [-123.022947, 49.198...</td>\n",
       "    </tr>\n",
       "    <tr>\n",
       "      <th>3</th>\n",
       "      <td>163</td>\n",
       "      <td>[[-88.048288, 41.6410191], [-87.91269, 41.6410...</td>\n",
       "    </tr>\n",
       "    <tr>\n",
       "      <th>4</th>\n",
       "      <td>175</td>\n",
       "      <td>[[-87.940033, 41.644102], [-87.523993, 41.6441...</td>\n",
       "    </tr>\n",
       "  </tbody>\n",
       "</table>\n",
       "</div>"
      ],
      "text/plain": [
       "   name                             place_coord_boundaries\n",
       "0   106  [[8.4475987, 11.9296331], [8.6073347, 11.92963...\n",
       "1   109  [[-1.838006, 51.050942], [-1.765956, 51.050942...\n",
       "2   141  [[-123.224215, 49.19854], [-123.022947, 49.198...\n",
       "3   163  [[-88.048288, 41.6410191], [-87.91269, 41.6410...\n",
       "4   175  [[-87.940033, 41.644102], [-87.523993, 41.6441..."
      ]
     },
     "execution_count": 2,
     "metadata": {},
     "output_type": "execute_result"
    }
   ],
   "source": [
    "df = pd.read_csv('mLocations.csv')\n",
    "df = df.rename(columns={'Unnamed: 0': 'name'})\n",
    "df.head()"
   ]
  },
  {
   "cell_type": "code",
   "execution_count": 3,
   "metadata": {},
   "outputs": [
    {
     "data": {
      "text/html": [
       "<div>\n",
       "<style scoped>\n",
       "    .dataframe tbody tr th:only-of-type {\n",
       "        vertical-align: middle;\n",
       "    }\n",
       "\n",
       "    .dataframe tbody tr th {\n",
       "        vertical-align: top;\n",
       "    }\n",
       "\n",
       "    .dataframe thead th {\n",
       "        text-align: right;\n",
       "    }\n",
       "</style>\n",
       "<table border=\"1\" class=\"dataframe\">\n",
       "  <thead>\n",
       "    <tr style=\"text-align: right;\">\n",
       "      <th></th>\n",
       "      <th>name</th>\n",
       "      <th>place_coord_boundaries</th>\n",
       "      <th>lon</th>\n",
       "      <th>lat</th>\n",
       "    </tr>\n",
       "  </thead>\n",
       "  <tbody>\n",
       "    <tr>\n",
       "      <th>0</th>\n",
       "      <td>106</td>\n",
       "      <td>[[8.4475987, 11.9296331], [8.6073347, 11.92963...</td>\n",
       "      <td>8.527467</td>\n",
       "      <td>12.005000</td>\n",
       "    </tr>\n",
       "    <tr>\n",
       "      <th>1</th>\n",
       "      <td>109</td>\n",
       "      <td>[[-1.838006, 51.050942], [-1.765956, 51.050942...</td>\n",
       "      <td>-1.801981</td>\n",
       "      <td>51.072319</td>\n",
       "    </tr>\n",
       "    <tr>\n",
       "      <th>2</th>\n",
       "      <td>141</td>\n",
       "      <td>[[-123.224215, 49.19854], [-123.022947, 49.198...</td>\n",
       "      <td>-123.123581</td>\n",
       "      <td>49.257639</td>\n",
       "    </tr>\n",
       "    <tr>\n",
       "      <th>3</th>\n",
       "      <td>163</td>\n",
       "      <td>[[-88.048288, 41.6410191], [-87.91269, 41.6410...</td>\n",
       "      <td>-87.980489</td>\n",
       "      <td>41.674602</td>\n",
       "    </tr>\n",
       "    <tr>\n",
       "      <th>4</th>\n",
       "      <td>175</td>\n",
       "      <td>[[-87.940033, 41.644102], [-87.523993, 41.6441...</td>\n",
       "      <td>-87.732013</td>\n",
       "      <td>41.833584</td>\n",
       "    </tr>\n",
       "  </tbody>\n",
       "</table>\n",
       "</div>"
      ],
      "text/plain": [
       "   name                             place_coord_boundaries         lon  \\\n",
       "0   106  [[8.4475987, 11.9296331], [8.6073347, 11.92963...    8.527467   \n",
       "1   109  [[-1.838006, 51.050942], [-1.765956, 51.050942...   -1.801981   \n",
       "2   141  [[-123.224215, 49.19854], [-123.022947, 49.198... -123.123581   \n",
       "3   163  [[-88.048288, 41.6410191], [-87.91269, 41.6410...  -87.980489   \n",
       "4   175  [[-87.940033, 41.644102], [-87.523993, 41.6441...  -87.732013   \n",
       "\n",
       "         lat  \n",
       "0  12.005000  \n",
       "1  51.072319  \n",
       "2  49.257639  \n",
       "3  41.674602  \n",
       "4  41.833584  "
      ]
     },
     "execution_count": 3,
     "metadata": {},
     "output_type": "execute_result"
    }
   ],
   "source": [
    "df['lon'] = [np.array(eval(i))[:,0].mean() for i in df['place_coord_boundaries']]\n",
    "df['lat'] = [np.array(eval(i))[:,1].mean() for i in df['place_coord_boundaries']]\n",
    "df.head()"
   ]
  },
  {
   "cell_type": "code",
   "execution_count": 6,
   "metadata": {},
   "outputs": [],
   "source": [
    "folium_map = folium.Map(location=[(df.lat.min()+df.lat.max())/2, (df.lon.min()+df.lon.max())/2],\n",
    "                        zoom_start=2.2,\n",
    "                        tiles=\"CartoDB dark_matter\"\n",
    "                        )\n",
    "\n",
    "for i in range(0, len(df)):\n",
    "    folium.CircleMarker(location=(df.loc[i]['lat'], df.loc[i]['lon']),\n",
    "                            radius=float(5),\n",
    "                            color='orange',\n",
    "                            #popup=df.loc[i]['name'],\n",
    "                            #tooltip=df.loc[i]['name'],\n",
    "                            fill=True).add_to(folium_map)"
   ]
  },
  {
   "cell_type": "code",
   "execution_count": 7,
   "metadata": {},
   "outputs": [],
   "source": [
    "folium_map.save('example.html')"
   ]
  },
  {
   "cell_type": "code",
   "execution_count": 8,
   "metadata": {},
   "outputs": [],
   "source": [
    "folium_map2 = folium.Map(\n",
    "    location=[(df.lat.min()+df.lat.max())/2, (df.lon.min()+df.lon.max())/2],\n",
    "    zoom_start=2.2,\n",
    "    tiles='Stamen Toner',\n",
    ")\n",
    "\n",
    "for i in range(0, len(df)):\n",
    "    folium.Marker(location=(df.loc[i]['lat'], df.loc[i]['lon']),\n",
    "                            #color='orange',\n",
    "                            icon=folium.Icon(color='green')\n",
    "                            #popup=df.loc[i]['name'],\n",
    "                            #tooltip=df.loc[i]['name'],\n",
    "                            ).add_to(folium_map2)"
   ]
  },
  {
   "cell_type": "code",
   "execution_count": 9,
   "metadata": {},
   "outputs": [],
   "source": [
    "folium_map2.save('example2.html')"
   ]
  },
  {
   "cell_type": "code",
   "execution_count": null,
   "metadata": {},
   "outputs": [],
   "source": []
  }
 ],
 "metadata": {
  "kernelspec": {
   "display_name": "Python 3",
   "language": "python",
   "name": "python3"
  },
  "language_info": {
   "codemirror_mode": {
    "name": "ipython",
    "version": 3
   },
   "file_extension": ".py",
   "mimetype": "text/x-python",
   "name": "python",
   "nbconvert_exporter": "python",
   "pygments_lexer": "ipython3",
   "version": "3.7.3"
  }
 },
 "nbformat": 4,
 "nbformat_minor": 2
}
