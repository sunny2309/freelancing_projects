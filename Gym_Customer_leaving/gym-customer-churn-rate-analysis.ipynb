{
 "cells": [
  {
   "cell_type": "markdown",
   "metadata": {},
   "source": [
    "# Gym Goers Churn Rate Analysis\n",
    "**Business Problem:** \n",
    "\n",
    "Prominent Gym in london has maintained customer's subscriptions data from its inception `(2009)` till `June-2019`. Data involves information about various attributes like customer's club, affluence level, gender, birth year,subscriptions type, join date and leaving date. Gym has collected data about individual customer visitation data during subscription days and whether visit was during peak hour or not. Gym has also provided information about its charges over the years according to subscription plan as well as joining fees. Gym fees changes over these years for competitor has been provided as well. Total data size is around 2.5 GB. Subscriptions data has around 850k records and visitation data has around 69.5 Mn records. Currently gym owner is facing challenge maintaining customer as customer Churn Rate is quite high and wants our help in reducing or eliminating churn rate(rate at which customers are quitting gym). As a Data Scientist, We are asked to analyze data and suggest gym owner various strategies which can help them reduce churn rate in future as well as help maintain revenue which would be otherwise lost due to high churn rate. We'll help gym owner with ideas to sustain business for long term.\n",
    "\n",
    "**Approach:**\n",
    "\n",
    "To help gym owner reduce customer churn rate, We have followed list of steps mentioned below which is classical approach followed in solving common data science problems. We have kept whole analysis as report maintained in jupyter notebook which can be used by other researches as well to reproduce same results for verification purpose. We have used python for all steps with libraries like numpy, pandas, matplotlib, seaborn,scikit-learn, statsmodels,collections, datetime. All CSV files are maintained as pandas dataframe and operations are performed on these dataframes. Matplotlib and seaborn are primary libraries used for all visualizations. Scikit-learn and statsmodels are used for various ML operations like one-hot encoding, dividing data into train/test sets and model fitting/evaluation. datetime library is used to find out various datetime related attributes like month, year, weekday, time etc. We also have created various helper functions which works on individual values of particular column of dataframe to create new categorical attributes. We have also properly captured different datatypes of data along with datetime datatype for timeseries columns. It takes nearly 6.5 minutes to reproduce results with provided dataset.\n",
    "\n",
    "**Steps:**\n",
    "\n",
    "\n",
    "**1. Data Cleaning**\n",
    "\n",
    "Data cleaning involved various steps like loading data, handling missing data, combining subscriptions & visitation data and deriving new attributes from existing attributes. \n",
    "\n",
    "Handling missing data involves removing rows which has missing values so that it does not impact analysis or skew analysis if wrongly back filled. \n",
    "\n",
    "Deriving new attributes involves creation of new attributes from existing ones like customer's age from birth year, membership duration based on joining and leaving date etc. Deriving new attributes also involves creation of categorical attributes like visit group, peak / off-peak visit, age group, customer regularity etc.\n",
    "\n",
    "We have also saved cleaned data separately as csv so that it can be used by others as well to do analysis further.\n",
    "\n",
    "**2. Exploratory Data Analysis**\n",
    "\n",
    "EDA involves aggregating cleaned data on yearly basis, visualizing yearly data, time-series visualization of visitation data as well as categorical attributes visualization. \n",
    "\n",
    "Aggregating data on yearly basis gives idea about yearly customer addition / leaving count as well as addition / leaving rate. Visualizing new customer addition count / rate and customer leaving count / rate as well as overall customer retention count / rate on yearly basis gives better idea about churn rate of customers over the years. \n",
    "\n",
    "Visualizing customer visitation time helped us determining whether visits during peak hours has any relationship with customer churn rate. Visualization of categorical attributes like subscription type, affluence, club, regularity, gender helps us find out their distribution among data as well as information about preference of users and their relation with customer churn rate. \n",
    "\n",
    "**3. Feature Extraction**\n",
    "\n",
    "Feature Extraction involves extracting useful features for ML models based on existing features. It involves step like one-hot encoding of categorical attributes.\n",
    "\n",
    "**4. Feature Selection**\n",
    "\n",
    "Feature selection involves selecting features from existing features based on their correlation with customer churn rate. Features selected will be used in next steps of creating ML model which will be used to predict whether customer will churn or not.\n",
    "\n",
    "**5. ML Model Fitting**\n",
    "\n",
    "As a part of ML model fitting we have tried to fit Linear Regression model provided by scikit-learn to features selected after data cleaning. We have divided data into 80% train data and 20% test data. Model has been trained on train data and has been tested on test data for performance. Model's performance has been evaluated based on various metrics like confusion matrix, precision, recall, f1-score and classification accuracy. Model predicts whether customer will churn or not in next one month and three months based on features selected. Linear Regression also maintains weights associated with each features which can helped us determining which features contributes more to customer churn. We also tried random forest model which performs bit better than linear regression in predicting customer churn chance.\n",
    "\n",
    "**6. Suggesting ideas to reduce customer churn rate:**\n",
    "\n",
    "We have found out list of hypothesis after doing detailed EDA and ML model which helped us suggest list of strategies which can help gym owner to prevent customer from churn. We have tested various hypothesis based on EDA and found out whether hypothesis is correct or not as it helps in making decision about suggesting improvements in policy to gym owner.\n",
    "\n",
    "**Conclusion:**\n",
    "\n",
    "After doing in-depth EDA about various attributes of customer subscription and visitation data helped us suggesting various list of guidelines which if implemented by gym owner will surely help him reduce customer churn rate. We also found out which particular values of categorical attribute has high relation with customer churn rate. We has also suggested various strategies to client which followed will also help reduce churn rate."
   ]
  },
  {
   "cell_type": "code",
   "execution_count": null,
   "metadata": {
    "_cell_guid": "79c7e3d0-c299-4dcb-8224-4455121ee9b0",
    "_uuid": "d629ff2d2480ee46fbb7e2d37f6b5fab8052498a",
    "collapsed": true
   },
   "outputs": [],
   "source": []
  }
 ],
 "metadata": {
  "kernelspec": {
   "display_name": "Python 3",
   "language": "python",
   "name": "python3"
  },
  "language_info": {
   "codemirror_mode": {
    "name": "ipython",
    "version": 3
   },
   "file_extension": ".py",
   "mimetype": "text/x-python",
   "name": "python",
   "nbconvert_exporter": "python",
   "pygments_lexer": "ipython3",
   "version": "3.6.6"
  }
 },
 "nbformat": 4,
 "nbformat_minor": 1
}
