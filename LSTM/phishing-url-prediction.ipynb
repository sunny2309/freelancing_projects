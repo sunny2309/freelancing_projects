{
 "cells": [
  {
   "cell_type": "markdown",
   "metadata": {},
   "source": [
    "# Introduction\n",
    "We have recieved dataset containing information phishing URLs. Dataset contains list of URLs, URL has SSL, URL allows SQL injection, URL have cert ver, URL allows inp val and whether URL is UNSAFE or not. We'll be dividing dataset into train, validation and test sets. Train set will be used for training and validation set for validation of trained model. We'll then use test set for testing once whole model has completed training.\n",
    "\n",
    "We'll be trying LSTM and Dense Net for our purpose. We'll first tokenize data using various stratgies like count vectorizer, tfidf, frequency of words etc. We also have used first layer as embedding layer for our LSTM model to create embedding for words."
   ]
  },
  {
   "cell_type": "code",
   "execution_count": 1,
   "metadata": {
    "_cell_guid": "b1076dfc-b9ad-4769-8c92-a6c4dae69d19",
    "_uuid": "8f2839f25d086af736a60e9eeb907d3b93b6e0e5"
   },
   "outputs": [
    {
     "name": "stderr",
     "output_type": "stream",
     "text": [
      "Using TensorFlow backend.\n"
     ]
    },
    {
     "name": "stdout",
     "output_type": "stream",
     "text": [
      "/kaggle/input/dataset_websites-3.csv\n"
     ]
    }
   ],
   "source": [
    "# This Python 3 environment comes with many helpful analytics libraries installed\n",
    "# It is defined by the kaggle/python docker image: https://github.com/kaggle/docker-python\n",
    "# For example, here's several helpful packages to load in \n",
    "\n",
    "import numpy as np # linear algebra\n",
    "import pandas as pd # data processing, CSV file I/O (e.g. pd.read_csv)\n",
    "from PIL import Image\n",
    "\n",
    "import keras\n",
    "from keras.preprocessing import text\n",
    "from keras.models import Sequential\n",
    "from keras.layers import Embedding, Dense, LSTM, Flatten\n",
    "from keras.utils import plot_model\n",
    "\n",
    "import sklearn\n",
    "from sklearn.model_selection import train_test_split\n",
    "from sklearn.metrics import accuracy_score\n",
    "# Input data files are available in the \"../input/\" directory.\n",
    "# For example, running this (by clicking run or pressing Shift+Enter) will list all files under the input directory\n",
    "\n",
    "import os\n",
    "for dirname, _, filenames in os.walk('/kaggle/input'):\n",
    "    for filename in filenames:\n",
    "        print(os.path.join(dirname, filename))\n",
    "\n",
    "# Any results you write to the current directory are saved as output."
   ]
  },
  {
   "cell_type": "markdown",
   "metadata": {},
   "source": [
    "# Loading & Cleaning Data\n",
    "We have loaded data in pandas dataframe and then we remove all rows which has any NAN to avoid issues during training."
   ]
  },
  {
   "cell_type": "code",
   "execution_count": 2,
   "metadata": {
    "_cell_guid": "79c7e3d0-c299-4dcb-8224-4455121ee9b0",
    "_uuid": "d629ff2d2480ee46fbb7e2d37f6b5fab8052498a"
   },
   "outputs": [
    {
     "name": "stdout",
     "output_type": "stream",
     "text": [
      "(998, 6)\n"
     ]
    },
    {
     "data": {
      "text/html": [
       "<div>\n",
       "<style scoped>\n",
       "    .dataframe tbody tr th:only-of-type {\n",
       "        vertical-align: middle;\n",
       "    }\n",
       "\n",
       "    .dataframe tbody tr th {\n",
       "        vertical-align: top;\n",
       "    }\n",
       "\n",
       "    .dataframe thead th {\n",
       "        text-align: right;\n",
       "    }\n",
       "</style>\n",
       "<table border=\"1\" class=\"dataframe\">\n",
       "  <thead>\n",
       "    <tr style=\"text-align: right;\">\n",
       "      <th></th>\n",
       "      <th>URL</th>\n",
       "      <th>HAVE_SSL</th>\n",
       "      <th>ALLOW_SQL_INJ</th>\n",
       "      <th>HAVE_CERT_VER</th>\n",
       "      <th>ALLOW_INP_VAL</th>\n",
       "      <th>UNSAFE</th>\n",
       "    </tr>\n",
       "  </thead>\n",
       "  <tbody>\n",
       "    <tr>\n",
       "      <td>0</td>\n",
       "      <td>http://www.townsvilleoutriggers.org.au/uploads...</td>\n",
       "      <td>0.0</td>\n",
       "      <td>1.0</td>\n",
       "      <td>0.0</td>\n",
       "      <td>0.0</td>\n",
       "      <td>1.0</td>\n",
       "    </tr>\n",
       "    <tr>\n",
       "      <td>1</td>\n",
       "      <td>https://amzn-info.woebegone-mailbusiness.net/</td>\n",
       "      <td>0.0</td>\n",
       "      <td>1.0</td>\n",
       "      <td>0.0</td>\n",
       "      <td>0.0</td>\n",
       "      <td>1.0</td>\n",
       "    </tr>\n",
       "    <tr>\n",
       "      <td>2</td>\n",
       "      <td>https://azhelp.000webhostapp.com/help_login.htm</td>\n",
       "      <td>0.0</td>\n",
       "      <td>1.0</td>\n",
       "      <td>0.0</td>\n",
       "      <td>0.0</td>\n",
       "      <td>1.0</td>\n",
       "    </tr>\n",
       "    <tr>\n",
       "      <td>3</td>\n",
       "      <td>http://i2cnimwesterns.com/iniciar-sesion</td>\n",
       "      <td>0.0</td>\n",
       "      <td>1.0</td>\n",
       "      <td>0.0</td>\n",
       "      <td>0.0</td>\n",
       "      <td>1.0</td>\n",
       "    </tr>\n",
       "    <tr>\n",
       "      <td>4</td>\n",
       "      <td>https://astralis1.fun/</td>\n",
       "      <td>0.0</td>\n",
       "      <td>1.0</td>\n",
       "      <td>0.0</td>\n",
       "      <td>0.0</td>\n",
       "      <td>1.0</td>\n",
       "    </tr>\n",
       "  </tbody>\n",
       "</table>\n",
       "</div>"
      ],
      "text/plain": [
       "                                                 URL  HAVE_SSL  ALLOW_SQL_INJ  \\\n",
       "0  http://www.townsvilleoutriggers.org.au/uploads...       0.0            1.0   \n",
       "1      https://amzn-info.woebegone-mailbusiness.net/       0.0            1.0   \n",
       "2    https://azhelp.000webhostapp.com/help_login.htm       0.0            1.0   \n",
       "3           http://i2cnimwesterns.com/iniciar-sesion       0.0            1.0   \n",
       "4                             https://astralis1.fun/       0.0            1.0   \n",
       "\n",
       "   HAVE_CERT_VER  ALLOW_INP_VAL  UNSAFE  \n",
       "0            0.0            0.0     1.0  \n",
       "1            0.0            0.0     1.0  \n",
       "2            0.0            0.0     1.0  \n",
       "3            0.0            0.0     1.0  \n",
       "4            0.0            0.0     1.0  "
      ]
     },
     "execution_count": 2,
     "metadata": {},
     "output_type": "execute_result"
    }
   ],
   "source": [
    "df = pd.read_csv('/kaggle/input/dataset_websites-3.csv')\n",
    "df = df.dropna()\n",
    "print(df.shape)\n",
    "df.head()"
   ]
  },
  {
   "cell_type": "code",
   "execution_count": 3,
   "metadata": {},
   "outputs": [
    {
     "data": {
      "text/html": [
       "<div>\n",
       "<style scoped>\n",
       "    .dataframe tbody tr th:only-of-type {\n",
       "        vertical-align: middle;\n",
       "    }\n",
       "\n",
       "    .dataframe tbody tr th {\n",
       "        vertical-align: top;\n",
       "    }\n",
       "\n",
       "    .dataframe thead th {\n",
       "        text-align: right;\n",
       "    }\n",
       "</style>\n",
       "<table border=\"1\" class=\"dataframe\">\n",
       "  <thead>\n",
       "    <tr style=\"text-align: right;\">\n",
       "      <th></th>\n",
       "      <th>URL</th>\n",
       "      <th>HAVE_SSL</th>\n",
       "      <th>ALLOW_SQL_INJ</th>\n",
       "      <th>HAVE_CERT_VER</th>\n",
       "      <th>ALLOW_INP_VAL</th>\n",
       "      <th>UNSAFE</th>\n",
       "    </tr>\n",
       "  </thead>\n",
       "  <tbody>\n",
       "    <tr>\n",
       "      <td>995</td>\n",
       "      <td>http://kotaku.com/dragon-quest-viii-an-excelle...</td>\n",
       "      <td>1.0</td>\n",
       "      <td>0.0</td>\n",
       "      <td>1.0</td>\n",
       "      <td>1.0</td>\n",
       "      <td>0.0</td>\n",
       "    </tr>\n",
       "    <tr>\n",
       "      <td>996</td>\n",
       "      <td>http://kotaku.com/eight-months-later-destiny-p...</td>\n",
       "      <td>1.0</td>\n",
       "      <td>0.0</td>\n",
       "      <td>1.0</td>\n",
       "      <td>1.0</td>\n",
       "      <td>0.0</td>\n",
       "    </tr>\n",
       "    <tr>\n",
       "      <td>997</td>\n",
       "      <td>http://kotaku.com/how-video-game-breasts-are-m...</td>\n",
       "      <td>1.0</td>\n",
       "      <td>0.0</td>\n",
       "      <td>1.0</td>\n",
       "      <td>1.0</td>\n",
       "      <td>0.0</td>\n",
       "    </tr>\n",
       "    <tr>\n",
       "      <td>998</td>\n",
       "      <td>http://kotaku.com/nintendo-has-announced-its-e...</td>\n",
       "      <td>1.0</td>\n",
       "      <td>0.0</td>\n",
       "      <td>1.0</td>\n",
       "      <td>1.0</td>\n",
       "      <td>0.0</td>\n",
       "    </tr>\n",
       "    <tr>\n",
       "      <td>999</td>\n",
       "      <td>http://kotaku.com/previously-the-ceo-of-japane...</td>\n",
       "      <td>1.0</td>\n",
       "      <td>0.0</td>\n",
       "      <td>1.0</td>\n",
       "      <td>1.0</td>\n",
       "      <td>0.0</td>\n",
       "    </tr>\n",
       "  </tbody>\n",
       "</table>\n",
       "</div>"
      ],
      "text/plain": [
       "                                                   URL  HAVE_SSL  \\\n",
       "995  http://kotaku.com/dragon-quest-viii-an-excelle...       1.0   \n",
       "996  http://kotaku.com/eight-months-later-destiny-p...       1.0   \n",
       "997  http://kotaku.com/how-video-game-breasts-are-m...       1.0   \n",
       "998  http://kotaku.com/nintendo-has-announced-its-e...       1.0   \n",
       "999  http://kotaku.com/previously-the-ceo-of-japane...       1.0   \n",
       "\n",
       "     ALLOW_SQL_INJ  HAVE_CERT_VER  ALLOW_INP_VAL  UNSAFE  \n",
       "995            0.0            1.0            1.0     0.0  \n",
       "996            0.0            1.0            1.0     0.0  \n",
       "997            0.0            1.0            1.0     0.0  \n",
       "998            0.0            1.0            1.0     0.0  \n",
       "999            0.0            1.0            1.0     0.0  "
      ]
     },
     "execution_count": 3,
     "metadata": {},
     "output_type": "execute_result"
    }
   ],
   "source": [
    "df.tail()"
   ]
  },
  {
   "cell_type": "markdown",
   "metadata": {},
   "source": [
    "# Splitting Dataset into Train/Test Sets"
   ]
  },
  {
   "cell_type": "code",
   "execution_count": 4,
   "metadata": {},
   "outputs": [
    {
     "name": "stdout",
     "output_type": "stream",
     "text": [
      "Train/Test Sizes :  (798, 5) (200, 5) (798, 1) (200, 1)\n"
     ]
    }
   ],
   "source": [
    "X = df[['URL','HAVE_SSL','ALLOW_SQL_INJ','HAVE_CERT_VER','ALLOW_INP_VAL']].values\n",
    "Y = df[['UNSAFE']].values\n",
    "\n",
    "X_train, X_test, Y_train, Y_test = train_test_split(X, Y, train_size=0.8, test_size=0.2, stratify=Y, random_state=123)\n",
    "print('Train/Test Sizes : ',X_train.shape, X_test.shape, Y_train.shape, Y_test.shape)\n"
   ]
  },
  {
   "cell_type": "markdown",
   "metadata": {},
   "source": [
    "# Tokenizing Data\n",
    "Toeknizing data involves creating tokenizer with number of words to keep in dictionary. We then use various tokenizing strategies like binray, count, frequency and tfidf to generate tokenized train/test sets."
   ]
  },
  {
   "cell_type": "code",
   "execution_count": 5,
   "metadata": {},
   "outputs": [],
   "source": [
    "tokenizer = text.Tokenizer(num_words=5000)\n",
    "tokenizer.fit_on_texts(X_train[:, 0])"
   ]
  },
  {
   "cell_type": "code",
   "execution_count": 6,
   "metadata": {},
   "outputs": [],
   "source": [
    "X_train_bin = tokenizer.texts_to_matrix(X_train[:,0])\n",
    "X_test_bin = tokenizer.texts_to_matrix(X_test[:,0])\n",
    "\n",
    "X_train_bin = np.hstack((X_train_bin, X_train[:, 1:]))\n",
    "X_test_bin = np.hstack((X_test_bin, X_test[:, 1:]))\n",
    "\n",
    "X_train_cnt = tokenizer.texts_to_matrix(X_train[:,0], mode='count')\n",
    "X_test_cnt = tokenizer.texts_to_matrix(X_test[:,0], mode='count')\n",
    "\n",
    "X_train_cnt = np.hstack((X_train_cnt, X_train[:, 1:]))\n",
    "X_test_cnt = np.hstack((X_test_cnt, X_test[:, 1:]))\n",
    "\n",
    "X_train_freq = tokenizer.texts_to_matrix(X_train[:,0], mode='freq')\n",
    "X_test_freq = tokenizer.texts_to_matrix(X_test[:,0], mode='freq')\n",
    "\n",
    "X_train_freq = np.hstack((X_train_freq, X_train[:, 1:]))\n",
    "X_test_freq = np.hstack((X_test_freq, X_test[:, 1:]))\n",
    "\n",
    "X_train_tfidf = tokenizer.texts_to_matrix(X_train[:,0], mode='tfidf')\n",
    "X_test_tfidf = tokenizer.texts_to_matrix(X_test[:,0], mode='tfidf')\n",
    "\n",
    "X_train_tfidf = np.hstack((X_train_tfidf, X_train[:, 1:]))\n",
    "X_test_tfidf = np.hstack((X_test_tfidf, X_test[:, 1:]))"
   ]
  },
  {
   "cell_type": "markdown",
   "metadata": {},
   "source": [
    "# LSTM Model Creation"
   ]
  },
  {
   "cell_type": "code",
   "execution_count": 7,
   "metadata": {},
   "outputs": [
    {
     "name": "stdout",
     "output_type": "stream",
     "text": [
      "Build model...\n",
      "Model: \"sequential_1\"\n",
      "_________________________________________________________________\n",
      "Layer (type)                 Output Shape              Param #   \n",
      "=================================================================\n",
      "embedding_1 (Embedding)      (None, None, 128)         640512    \n",
      "_________________________________________________________________\n",
      "lstm_1 (LSTM)                (None, 128)               131584    \n",
      "_________________________________________________________________\n",
      "dense_1 (Dense)              (None, 1)                 129       \n",
      "=================================================================\n",
      "Total params: 772,225\n",
      "Trainable params: 772,225\n",
      "Non-trainable params: 0\n",
      "_________________________________________________________________\n",
      "None\n"
     ]
    },
    {
     "data": {
      "image/png": "[encoded data removed]",
      "text/plain": [
       "<PIL.PngImagePlugin.PngImageFile image mode=RGB size=268x352 at 0x7F9D93368518>"
      ]
     },
     "execution_count": 7,
     "metadata": {},
     "output_type": "execute_result"
    }
   ],
   "source": [
    "print('Build model...')\n",
    "model = Sequential([Embedding(5004, 128),\n",
    "                    LSTM(128, dropout=0.2, recurrent_dropout=0.2),\n",
    "                    Dense(1, activation='sigmoid')\n",
    "                   ])\n",
    "print(model.summary())\n",
    "plot_model(model, to_file='model.png')\n",
    "Image.open('model.png')"
   ]
  },
  {
   "cell_type": "markdown",
   "metadata": {},
   "source": [
    "# Compiling Model\n",
    "Compiling model involes initializing model with which optimizer to use, metrics on which to do evaluation and loss function to calculate loss function."
   ]
  },
  {
   "cell_type": "code",
   "execution_count": 8,
   "metadata": {},
   "outputs": [],
   "source": [
    "# try using different optimizers and different optimizer configs\n",
    "model.compile(loss='binary_crossentropy', optimizer='adam', metrics=['accuracy'])"
   ]
  },
  {
   "cell_type": "markdown",
   "metadata": {},
   "source": [
    "# Training Model\n",
    "We'll be training model on train data and taking 10% of that data as validation data for doing evaluation of model performance after each epochs. We have set batch size as 32 samples and epochs as 7. Training is done on binary tokenized data."
   ]
  },
  {
   "cell_type": "code",
   "execution_count": 9,
   "metadata": {},
   "outputs": [
    {
     "name": "stdout",
     "output_type": "stream",
     "text": [
      "Train on 718 samples, validate on 80 samples\n",
      "Epoch 1/7\n",
      "718/718 [==============================] - 93s 129ms/step - loss: 0.6048 - accuracy: 0.6643 - val_loss: 0.4737 - val_accuracy: 1.0000\n",
      "Epoch 2/7\n",
      "718/718 [==============================] - 90s 126ms/step - loss: 0.2699 - accuracy: 0.9777 - val_loss: 0.0489 - val_accuracy: 1.0000\n",
      "Epoch 3/7\n",
      "718/718 [==============================] - 92s 128ms/step - loss: 0.0239 - accuracy: 1.0000 - val_loss: 0.0021 - val_accuracy: 1.0000\n",
      "Epoch 4/7\n",
      "718/718 [==============================] - 91s 126ms/step - loss: 0.0025 - accuracy: 1.0000 - val_loss: 6.8406e-04 - val_accuracy: 1.0000\n",
      "Epoch 5/7\n",
      "718/718 [==============================] - 90s 125ms/step - loss: 0.0013 - accuracy: 1.0000 - val_loss: 4.1965e-04 - val_accuracy: 1.0000\n",
      "Epoch 6/7\n",
      "718/718 [==============================] - 89s 124ms/step - loss: 9.0746e-04 - accuracy: 1.0000 - val_loss: 3.1240e-04 - val_accuracy: 1.0000\n",
      "Epoch 7/7\n",
      "718/718 [==============================] - 90s 125ms/step - loss: 7.4117e-04 - accuracy: 1.0000 - val_loss: 2.5045e-04 - val_accuracy: 1.0000\n",
      "CPU times: user 14min 56s, sys: 1min, total: 15min 57s\n",
      "Wall time: 10min 38s\n"
     ]
    }
   ],
   "source": [
    "%%time\n",
    "\n",
    "hist = model.fit(X_train_bin, Y_train, batch_size=32, epochs=7, validation_split=0.1)"
   ]
  },
  {
   "cell_type": "markdown",
   "metadata": {},
   "source": [
    "# Evaluaing Model on Test Data."
   ]
  },
  {
   "cell_type": "code",
   "execution_count": 10,
   "metadata": {},
   "outputs": [
    {
     "name": "stdout",
     "output_type": "stream",
     "text": [
      "200/200 [==============================] - 3s 15ms/step\n",
      "Test Accuracy :  1.0\n",
      "Test Loss: 0.00025118097197264434\n",
      "Test accuracy: 1.0\n"
     ]
    }
   ],
   "source": [
    "loss, acc = model.evaluate(X_test_bin, Y_test, batch_size=64)\n",
    "preds = model.predict_classes(X_test_bin)\n",
    "\n",
    "print('Test Accuracy : ', accuracy_score(Y_test, preds))\n",
    "print('Test Loss:', loss)\n",
    "print('Test accuracy:', acc)"
   ]
  },
  {
   "cell_type": "markdown",
   "metadata": {},
   "source": [
    "# Training Model\n",
    "We'll be training model on train data and taking 10% of that data as validation data for doing evaluation of model performance after each epochs. We have set batch size as 32 samples and epochs as 7. Training is done on count tokenized data."
   ]
  },
  {
   "cell_type": "code",
   "execution_count": 11,
   "metadata": {},
   "outputs": [
    {
     "name": "stdout",
     "output_type": "stream",
     "text": [
      "Train on 718 samples, validate on 80 samples\n",
      "Epoch 1/7\n",
      "718/718 [==============================] - 90s 125ms/step - loss: 5.5500e-04 - accuracy: 1.0000 - val_loss: 1.9740e-04 - val_accuracy: 1.0000\n",
      "Epoch 2/7\n",
      "718/718 [==============================] - 89s 124ms/step - loss: 4.6547e-04 - accuracy: 1.0000 - val_loss: 1.6106e-04 - val_accuracy: 1.0000\n",
      "Epoch 3/7\n",
      "718/718 [==============================] - 90s 125ms/step - loss: 3.5568e-04 - accuracy: 1.0000 - val_loss: 1.3370e-04 - val_accuracy: 1.0000\n",
      "Epoch 4/7\n",
      "718/718 [==============================] - 90s 125ms/step - loss: 3.6122e-04 - accuracy: 1.0000 - val_loss: 1.2012e-04 - val_accuracy: 1.0000\n",
      "Epoch 5/7\n",
      "718/718 [==============================] - 89s 124ms/step - loss: 2.6345e-04 - accuracy: 1.0000 - val_loss: 9.9721e-05 - val_accuracy: 1.0000\n",
      "Epoch 6/7\n",
      "718/718 [==============================] - 89s 124ms/step - loss: 2.6118e-04 - accuracy: 1.0000 - val_loss: 9.1413e-05 - val_accuracy: 1.0000\n",
      "Epoch 7/7\n",
      "718/718 [==============================] - 90s 125ms/step - loss: 2.2704e-04 - accuracy: 1.0000 - val_loss: 7.7609e-05 - val_accuracy: 1.0000\n",
      "CPU times: user 14min 43s, sys: 58.9 s, total: 15min 42s\n",
      "Wall time: 10min 26s\n"
     ]
    }
   ],
   "source": [
    "%%time\n",
    "\n",
    "hist = model.fit(X_train_cnt, Y_train, batch_size=32, epochs=7, validation_split=0.1)"
   ]
  },
  {
   "cell_type": "markdown",
   "metadata": {},
   "source": [
    "# Evaluaing Model on Test Data."
   ]
  },
  {
   "cell_type": "code",
   "execution_count": 12,
   "metadata": {},
   "outputs": [
    {
     "name": "stdout",
     "output_type": "stream",
     "text": [
      "200/200 [==============================] - 3s 15ms/step\n",
      "Test Accuracy :  1.0\n",
      "Test Loss: 7.828371250070631e-05\n",
      "Test accuracy: 1.0\n"
     ]
    }
   ],
   "source": [
    "loss, acc = model.evaluate(X_test_cnt, Y_test, batch_size=64)\n",
    "preds = model.predict_classes(X_test_cnt)\n",
    "\n",
    "print('Test Accuracy : ', accuracy_score(Y_test, preds))\n",
    "print('Test Loss:', loss)\n",
    "print('Test accuracy:', acc)"
   ]
  },
  {
   "cell_type": "markdown",
   "metadata": {},
   "source": [
    "# Training Model\n",
    "We'll be training model on train data and taking 10% of that data as validation data for doing evaluation of model performance after each epochs. We have set batch size as 32 samples and epochs as 7. Training is done on tfidf tokenized data."
   ]
  },
  {
   "cell_type": "code",
   "execution_count": 13,
   "metadata": {},
   "outputs": [
    {
     "name": "stdout",
     "output_type": "stream",
     "text": [
      "Train on 718 samples, validate on 80 samples\n",
      "Epoch 1/7\n",
      "718/718 [==============================] - 89s 124ms/step - loss: 2.0142e-04 - accuracy: 1.0000 - val_loss: 7.0165e-05 - val_accuracy: 1.0000\n",
      "Epoch 2/7\n",
      "718/718 [==============================] - 89s 125ms/step - loss: 1.8098e-04 - accuracy: 1.0000 - val_loss: 6.1783e-05 - val_accuracy: 1.0000\n",
      "Epoch 3/7\n",
      "718/718 [==============================] - 90s 126ms/step - loss: 1.5168e-04 - accuracy: 1.0000 - val_loss: 5.5504e-05 - val_accuracy: 1.0000\n",
      "Epoch 4/7\n",
      "718/718 [==============================] - 90s 125ms/step - loss: 1.4266e-04 - accuracy: 1.0000 - val_loss: 5.1476e-05 - val_accuracy: 1.0000\n",
      "Epoch 5/7\n",
      "718/718 [==============================] - 90s 126ms/step - loss: 1.3356e-04 - accuracy: 1.0000 - val_loss: 4.7427e-05 - val_accuracy: 1.0000\n",
      "Epoch 6/7\n",
      "718/718 [==============================] - 91s 126ms/step - loss: 1.2406e-04 - accuracy: 1.0000 - val_loss: 4.3852e-05 - val_accuracy: 1.0000\n",
      "Epoch 7/7\n",
      "718/718 [==============================] - 89s 124ms/step - loss: 1.1566e-04 - accuracy: 1.0000 - val_loss: 3.9355e-05 - val_accuracy: 1.0000\n",
      "CPU times: user 14min 45s, sys: 59.5 s, total: 15min 45s\n",
      "Wall time: 10min 28s\n"
     ]
    }
   ],
   "source": [
    "%%time\n",
    "\n",
    "hist = model.fit(X_train_tfidf, Y_train, batch_size=32, epochs=7, validation_split=0.1)"
   ]
  },
  {
   "cell_type": "markdown",
   "metadata": {},
   "source": [
    "# Evaluaing Model on Test Data."
   ]
  },
  {
   "cell_type": "code",
   "execution_count": 14,
   "metadata": {},
   "outputs": [
    {
     "name": "stdout",
     "output_type": "stream",
     "text": [
      "200/200 [==============================] - 3s 15ms/step\n",
      "Test Accuracy :  1.0\n",
      "Test Loss: 3.96868065581657e-05\n",
      "Test accuracy: 1.0\n"
     ]
    }
   ],
   "source": [
    "loss, acc = model.evaluate(X_test_tfidf, Y_test, batch_size=64)\n",
    "preds = model.predict_classes(X_test_tfidf)\n",
    "\n",
    "print('Test Accuracy : ', accuracy_score(Y_test, preds))\n",
    "print('Test Loss:', loss)\n",
    "print('Test accuracy:', acc)"
   ]
  },
  {
   "cell_type": "markdown",
   "metadata": {},
   "source": [
    "# Training Model\n",
    "We'll be training model on train data and taking 10% of that data as validation data for doing evaluation of model performance after each epochs. We have set batch size as 32 samples and epochs as 7. Training is done on freq tokenized data."
   ]
  },
  {
   "cell_type": "code",
   "execution_count": 15,
   "metadata": {},
   "outputs": [
    {
     "name": "stdout",
     "output_type": "stream",
     "text": [
      "Train on 718 samples, validate on 80 samples\n",
      "Epoch 1/7\n",
      "718/718 [==============================] - 88s 122ms/step - loss: 1.0271e-04 - accuracy: 1.0000 - val_loss: 3.8185e-05 - val_accuracy: 1.0000\n",
      "Epoch 2/7\n",
      "718/718 [==============================] - 88s 122ms/step - loss: 9.1787e-05 - accuracy: 1.0000 - val_loss: 3.3510e-05 - val_accuracy: 1.0000\n",
      "Epoch 3/7\n",
      "718/718 [==============================] - 88s 123ms/step - loss: 9.2461e-05 - accuracy: 1.0000 - val_loss: 3.1805e-05 - val_accuracy: 1.0000\n",
      "Epoch 4/7\n",
      "718/718 [==============================] - 88s 122ms/step - loss: 8.0230e-05 - accuracy: 1.0000 - val_loss: 2.9371e-05 - val_accuracy: 1.0000\n",
      "Epoch 5/7\n",
      "718/718 [==============================] - 87s 121ms/step - loss: 7.2945e-05 - accuracy: 1.0000 - val_loss: 2.7217e-05 - val_accuracy: 1.0000\n",
      "Epoch 6/7\n",
      "718/718 [==============================] - 88s 123ms/step - loss: 6.9534e-05 - accuracy: 1.0000 - val_loss: 2.5723e-05 - val_accuracy: 1.0000\n",
      "Epoch 7/7\n",
      "718/718 [==============================] - 88s 123ms/step - loss: 6.5793e-05 - accuracy: 1.0000 - val_loss: 2.4401e-05 - val_accuracy: 1.0000\n",
      "CPU times: user 14min 29s, sys: 57 s, total: 15min 26s\n",
      "Wall time: 10min 15s\n"
     ]
    }
   ],
   "source": [
    "%%time\n",
    "\n",
    "hist = model.fit(X_train_freq, Y_train, batch_size=32, epochs=7, validation_split=0.1)"
   ]
  },
  {
   "cell_type": "markdown",
   "metadata": {},
   "source": [
    "# Evaluaing Model on Test Data."
   ]
  },
  {
   "cell_type": "code",
   "execution_count": 16,
   "metadata": {},
   "outputs": [
    {
     "name": "stdout",
     "output_type": "stream",
     "text": [
      "200/200 [==============================] - 3s 15ms/step\n",
      "Test Accuracy :  1.0\n",
      "Test Loss: 2.456029615132138e-05\n",
      "Test accuracy: 1.0\n"
     ]
    }
   ],
   "source": [
    "loss, acc = model.evaluate(X_test_freq, Y_test, batch_size=64)\n",
    "preds = model.predict_classes(X_test_freq)\n",
    "\n",
    "print('Test Accuracy : ', accuracy_score(Y_test, preds))\n",
    "print('Test Loss:', loss)\n",
    "print('Test accuracy:', acc)"
   ]
  },
  {
   "cell_type": "markdown",
   "metadata": {},
   "source": [
    "# Densenet Model Creation"
   ]
  },
  {
   "cell_type": "code",
   "execution_count": 17,
   "metadata": {},
   "outputs": [
    {
     "name": "stdout",
     "output_type": "stream",
     "text": [
      "Build model...\n",
      "Model: \"sequential_2\"\n",
      "_________________________________________________________________\n",
      "Layer (type)                 Output Shape              Param #   \n",
      "=================================================================\n",
      "dense_2 (Dense)              (None, 256)               1281280   \n",
      "_________________________________________________________________\n",
      "dense_3 (Dense)              (None, 128)               32896     \n",
      "_________________________________________________________________\n",
      "dense_4 (Dense)              (None, 64)                8256      \n",
      "_________________________________________________________________\n",
      "dense_5 (Dense)              (None, 1)                 65        \n",
      "=================================================================\n",
      "Total params: 1,322,497\n",
      "Trainable params: 1,322,497\n",
      "Non-trainable params: 0\n",
      "_________________________________________________________________\n",
      "None\n"
     ]
    },
    {
     "data": {
      "image/png": "[encoded data removed]",
      "text/plain": [
       "<PIL.PngImagePlugin.PngImageFile image mode=RGB size=268x352 at 0x7F9D7832A240>"
      ]
     },
     "execution_count": 17,
     "metadata": {},
     "output_type": "execute_result"
    }
   ],
   "source": [
    "print('Build model...')\n",
    "dense_model = Sequential( [Dense(256, activation='relu', input_shape=(5004,)),\n",
    "                           Dense(128, activation='relu'),\n",
    "                           Dense(64,activation='relu'),\n",
    "                           Dense(1, activation='sigmoid')]\n",
    "                  )\n",
    "print(dense_model.summary())\n",
    "plot_model(model, to_file='dense_model.png')\n",
    "Image.open('dense_model.png')"
   ]
  },
  {
   "cell_type": "markdown",
   "metadata": {},
   "source": [
    "# Compile DenseNet"
   ]
  },
  {
   "cell_type": "code",
   "execution_count": 18,
   "metadata": {},
   "outputs": [],
   "source": [
    "# try using different optimizers and different optimizer configs\n",
    "dense_model.compile(loss='binary_crossentropy', optimizer='adam', metrics=['accuracy'])"
   ]
  },
  {
   "cell_type": "markdown",
   "metadata": {},
   "source": [
    "# Training Model\n",
    "We'll be training model on train data and taking 10% of that data as validation data for doing evaluation of model performance after each epochs. We have set batch size as 32 samples and epochs as 7. Training is done on bin tokenized data."
   ]
  },
  {
   "cell_type": "code",
   "execution_count": 19,
   "metadata": {},
   "outputs": [
    {
     "name": "stdout",
     "output_type": "stream",
     "text": [
      "Train on 718 samples, validate on 80 samples\n",
      "Epoch 1/5\n",
      "718/718 [==============================] - 1s 853us/step - loss: 0.4512 - accuracy: 0.9457 - val_loss: 0.0847 - val_accuracy: 1.0000\n",
      "Epoch 2/5\n",
      "718/718 [==============================] - 0s 479us/step - loss: 0.0168 - accuracy: 1.0000 - val_loss: 0.0015 - val_accuracy: 1.0000\n",
      "Epoch 3/5\n",
      "718/718 [==============================] - 0s 477us/step - loss: 2.1661e-04 - accuracy: 1.0000 - val_loss: 5.5915e-04 - val_accuracy: 1.0000\n",
      "Epoch 4/5\n",
      "718/718 [==============================] - 0s 495us/step - loss: 9.2049e-05 - accuracy: 1.0000 - val_loss: 4.4512e-04 - val_accuracy: 1.0000\n",
      "Epoch 5/5\n",
      "718/718 [==============================] - 0s 480us/step - loss: 7.4974e-05 - accuracy: 1.0000 - val_loss: 4.1012e-04 - val_accuracy: 1.0000\n",
      "CPU times: user 2.85 s, sys: 88 ms, total: 2.94 s\n",
      "Wall time: 2.76 s\n"
     ]
    }
   ],
   "source": [
    "%%time\n",
    "\n",
    "hist = dense_model.fit(X_train_bin, Y_train, batch_size=32, epochs=5, validation_split=0.1)"
   ]
  },
  {
   "cell_type": "markdown",
   "metadata": {},
   "source": [
    "# Evaluaing Model on Test Data."
   ]
  },
  {
   "cell_type": "code",
   "execution_count": 20,
   "metadata": {},
   "outputs": [
    {
     "name": "stdout",
     "output_type": "stream",
     "text": [
      "200/200 [==============================] - 0s 376us/step\n",
      "Test Accuracy :  1.0\n",
      "Test Loss: 0.0003397325378318783\n",
      "Test accuracy: 1.0\n"
     ]
    }
   ],
   "source": [
    "loss, acc = dense_model.evaluate(X_test_bin, Y_test, batch_size=64)\n",
    "preds = dense_model.predict_classes(X_test_bin)\n",
    "\n",
    "print('Test Accuracy : ', accuracy_score(Y_test, preds))\n",
    "print('Test Loss:', loss)\n",
    "print('Test accuracy:', acc)"
   ]
  },
  {
   "cell_type": "markdown",
   "metadata": {},
   "source": [
    "# Training Model\n",
    "We'll be training model on train data and taking 10% of that data as validation data for doing evaluation of model performance after each epochs. We have set batch size as 32 samples and epochs as 7. Training is done on tfidf count data."
   ]
  },
  {
   "cell_type": "code",
   "execution_count": 21,
   "metadata": {},
   "outputs": [
    {
     "name": "stdout",
     "output_type": "stream",
     "text": [
      "Train on 718 samples, validate on 80 samples\n",
      "Epoch 1/5\n",
      "718/718 [==============================] - 0s 532us/step - loss: 6.2313e-05 - accuracy: 1.0000 - val_loss: 4.2597e-04 - val_accuracy: 1.0000\n",
      "Epoch 2/5\n",
      "718/718 [==============================] - 0s 483us/step - loss: 5.4454e-05 - accuracy: 1.0000 - val_loss: 3.9870e-04 - val_accuracy: 1.0000\n",
      "Epoch 3/5\n",
      "718/718 [==============================] - 0s 477us/step - loss: 4.8055e-05 - accuracy: 1.0000 - val_loss: 3.7486e-04 - val_accuracy: 1.0000\n",
      "Epoch 4/5\n",
      "718/718 [==============================] - 0s 495us/step - loss: 4.2458e-05 - accuracy: 1.0000 - val_loss: 3.5483e-04 - val_accuracy: 1.0000\n",
      "Epoch 5/5\n",
      "718/718 [==============================] - 0s 478us/step - loss: 3.7757e-05 - accuracy: 1.0000 - val_loss: 3.3837e-04 - val_accuracy: 1.0000\n",
      "CPU times: user 1.86 s, sys: 100 ms, total: 1.96 s\n",
      "Wall time: 1.78 s\n"
     ]
    }
   ],
   "source": [
    "%%time\n",
    "\n",
    "hist = dense_model.fit(X_train_cnt, Y_train, batch_size=32, epochs=5, validation_split=0.1)"
   ]
  },
  {
   "cell_type": "markdown",
   "metadata": {},
   "source": [
    "# Evaluaing Model on Test Data."
   ]
  },
  {
   "cell_type": "code",
   "execution_count": 22,
   "metadata": {},
   "outputs": [
    {
     "name": "stdout",
     "output_type": "stream",
     "text": [
      "200/200 [==============================] - 0s 384us/step\n",
      "Test Accuracy :  1.0\n",
      "Test Loss: 0.0003550781092781108\n",
      "Test accuracy: 1.0\n"
     ]
    }
   ],
   "source": [
    "loss, acc = dense_model.evaluate(X_test_cnt, Y_test, batch_size=64)\n",
    "preds = dense_model.predict_classes(X_test_cnt)\n",
    "\n",
    "print('Test Accuracy : ', accuracy_score(Y_test, preds))\n",
    "print('Test Loss:', loss)\n",
    "print('Test accuracy:', acc)"
   ]
  },
  {
   "cell_type": "markdown",
   "metadata": {},
   "source": [
    "# Training Model\n",
    "We'll be training model on train data and taking 10% of that data as validation data for doing evaluation of model performance after each epochs. We have set batch size as 32 samples and epochs as 7. Training is done on tfidf tokenized data."
   ]
  },
  {
   "cell_type": "code",
   "execution_count": 23,
   "metadata": {},
   "outputs": [
    {
     "name": "stdout",
     "output_type": "stream",
     "text": [
      "Train on 718 samples, validate on 80 samples\n",
      "Epoch 1/5\n",
      "718/718 [==============================] - 0s 506us/step - loss: 1.5537e-07 - accuracy: 1.0000 - val_loss: 0.0034 - val_accuracy: 1.0000\n",
      "Epoch 2/5\n",
      "718/718 [==============================] - 0s 500us/step - loss: 1.2837e-07 - accuracy: 1.0000 - val_loss: 0.0034 - val_accuracy: 1.0000\n",
      "Epoch 3/5\n",
      "718/718 [==============================] - 0s 477us/step - loss: 1.1515e-07 - accuracy: 1.0000 - val_loss: 0.0034 - val_accuracy: 1.0000\n",
      "Epoch 4/5\n",
      "718/718 [==============================] - 0s 487us/step - loss: 1.0843e-07 - accuracy: 1.0000 - val_loss: 0.0035 - val_accuracy: 1.0000\n",
      "Epoch 5/5\n",
      "718/718 [==============================] - 0s 494us/step - loss: 1.0294e-07 - accuracy: 1.0000 - val_loss: 0.0035 - val_accuracy: 1.0000\n",
      "CPU times: user 1.88 s, sys: 88 ms, total: 1.97 s\n",
      "Wall time: 1.78 s\n"
     ]
    }
   ],
   "source": [
    "%%time\n",
    "\n",
    "hist = dense_model.fit(X_train_tfidf, Y_train, batch_size=32, epochs=5, validation_split=0.1)"
   ]
  },
  {
   "cell_type": "markdown",
   "metadata": {},
   "source": [
    "# Evaluaing Model on Test Data."
   ]
  },
  {
   "cell_type": "code",
   "execution_count": 24,
   "metadata": {},
   "outputs": [
    {
     "name": "stdout",
     "output_type": "stream",
     "text": [
      "200/200 [==============================] - 0s 376us/step\n",
      "Test Accuracy :  0.995\n",
      "Test Loss: 0.007596669144398032\n",
      "Test accuracy: 0.9950000047683716\n"
     ]
    }
   ],
   "source": [
    "loss, acc = dense_model.evaluate(X_test_tfidf, Y_test, batch_size=64)\n",
    "preds = dense_model.predict_classes(X_test_tfidf)\n",
    "\n",
    "print('Test Accuracy : ', accuracy_score(Y_test, preds))\n",
    "print('Test Loss:', loss)\n",
    "print('Test accuracy:', acc)"
   ]
  },
  {
   "cell_type": "markdown",
   "metadata": {},
   "source": [
    "# Training Model\n",
    "We'll be training model on train data and taking 10% of that data as validation data for doing evaluation of model performance after each epochs. We have set batch size as 32 samples and epochs as 7. Training is done on frequency tokenized data."
   ]
  },
  {
   "cell_type": "code",
   "execution_count": 25,
   "metadata": {},
   "outputs": [
    {
     "name": "stdout",
     "output_type": "stream",
     "text": [
      "Train on 718 samples, validate on 80 samples\n",
      "Epoch 1/5\n",
      "718/718 [==============================] - 0s 509us/step - loss: 0.0019 - accuracy: 1.0000 - val_loss: 5.1515e-04 - val_accuracy: 1.0000\n",
      "Epoch 2/5\n",
      "718/718 [==============================] - 0s 496us/step - loss: 2.2362e-04 - accuracy: 1.0000 - val_loss: 1.2804e-04 - val_accuracy: 1.0000\n",
      "Epoch 3/5\n",
      "718/718 [==============================] - 0s 473us/step - loss: 7.9961e-05 - accuracy: 1.0000 - val_loss: 7.1456e-05 - val_accuracy: 1.0000\n",
      "Epoch 4/5\n",
      "718/718 [==============================] - 0s 486us/step - loss: 4.9682e-05 - accuracy: 1.0000 - val_loss: 5.0267e-05 - val_accuracy: 1.0000\n",
      "Epoch 5/5\n",
      "718/718 [==============================] - 0s 501us/step - loss: 3.6109e-05 - accuracy: 1.0000 - val_loss: 3.8517e-05 - val_accuracy: 1.0000\n",
      "CPU times: user 1.87 s, sys: 96 ms, total: 1.97 s\n",
      "Wall time: 1.78 s\n"
     ]
    }
   ],
   "source": [
    "%%time\n",
    "\n",
    "hist = dense_model.fit(X_train_freq, Y_train, batch_size=32, epochs=5, validation_split=0.1)"
   ]
  },
  {
   "cell_type": "markdown",
   "metadata": {},
   "source": [
    "# Evaluaing Model on Test Data."
   ]
  },
  {
   "cell_type": "code",
   "execution_count": 26,
   "metadata": {},
   "outputs": [
    {
     "name": "stdout",
     "output_type": "stream",
     "text": [
      "200/200 [==============================] - 0s 374us/step\n",
      "Test Accuracy :  1.0\n",
      "Test Loss: 2.9342782363528384e-05\n",
      "Test accuracy: 1.0\n"
     ]
    }
   ],
   "source": [
    "loss, acc = dense_model.evaluate(X_test_freq, Y_test, batch_size=64)\n",
    "preds = dense_model.predict_classes(X_test_freq)\n",
    "\n",
    "print('Test Accuracy : ', accuracy_score(Y_test, preds))\n",
    "print('Test Loss:', loss)\n",
    "print('Test accuracy:', acc)"
   ]
  },
  {
   "cell_type": "code",
   "execution_count": null,
   "metadata": {},
   "outputs": [],
   "source": []
  },
  {
   "cell_type": "code",
   "execution_count": null,
   "metadata": {},
   "outputs": [],
   "source": []
  }
 ],
 "metadata": {
  "kernelspec": {
   "display_name": "Python 3",
   "language": "python",
   "name": "python3"
  },
  "language_info": {
   "codemirror_mode": {
    "name": "ipython",
    "version": 3
   },
   "file_extension": ".py",
   "mimetype": "text/x-python",
   "name": "python",
   "nbconvert_exporter": "python",
   "pygments_lexer": "ipython3",
   "version": "3.6.6"
  }
 },
 "nbformat": 4,
 "nbformat_minor": 1
}
