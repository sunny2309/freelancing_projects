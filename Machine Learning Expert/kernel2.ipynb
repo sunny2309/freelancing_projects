{
 "cells": [
  {
   "cell_type": "code",
   "execution_count": 1,
   "metadata": {},
   "outputs": [],
   "source": [
    "from sklearn.feature_extraction.text import TfidfVectorizer\n",
    "from sklearn.feature_extraction.text import CountVectorizer\n",
    "from sklearn.model_selection  import train_test_split\n",
    "from sklearn.naive_bayes import GaussianNB\n",
    "from sklearn.model_selection import learning_curve, GridSearchCV\n",
    "from sklearn import preprocessing, decomposition, model_selection, metrics, pipeline\n",
    "from sklearn.model_selection import GridSearchCV\n",
    "from sklearn.feature_extraction.text import TfidfVectorizer, CountVectorizer\n",
    "from sklearn.decomposition import TruncatedSVD\n",
    "from sklearn.linear_model import LogisticRegression\n",
    "from sklearn.model_selection import train_test_split\n",
    "from sklearn.naive_bayes import MultinomialNB\n",
    "from sklearn.linear_model import LogisticRegression\n",
    "from sklearn.ensemble import RandomForestClassifier\n",
    "from sklearn.model_selection import cross_val_score \n",
    "from sklearn.metrics import accuracy_score, confusion_matrix, log_loss, roc_auc_score, roc_curve\n",
    "from sklearn.svm import SVC\n",
    "from sklearn.pipeline import make_pipeline\n",
    "from sklearn.svm import LinearSVC\n",
    "\n",
    "import xgboost as xgb\n",
    "\n",
    "import nltk\n",
    "from nltk.corpus import stopwords\n",
    "from nltk.stem import PorterStemmer\n",
    "from nltk import word_tokenize\n",
    "from nltk.corpus import stopwords\n",
    "\n",
    "from textblob import TextBlob, Word, Blobber\n",
    "\n",
    "import pandas as pd\n",
    "import numpy as np\n",
    "import matplotlib.pyplot as plt\n",
    "import seaborn as sns\n",
    "\n",
    "import re\n",
    "from tqdm import tqdm\n",
    "from bs4 import BeautifulSoup\n",
    "import warnings\n",
    "import copy\n",
    "\n",
    "warnings.filterwarnings('ignore')\n",
    "stop_words = stopwords.words('english')\n",
    "pd.options.display.max_columns = 30\n",
    "%matplotlib inline\n",
    "\n",
    "from nltk.stem import PorterStemmer\n",
    "#from keras.preprocessing.text import Tokenizer\n",
    "\n",
    "#tokenizer = Tokenizer(num_words=5000)"
   ]
  },
  {
   "cell_type": "code",
   "execution_count": 2,
   "metadata": {},
   "outputs": [
    {
     "name": "stdout",
     "output_type": "stream",
     "text": [
      "README.md      load_train_data.py           requirements.txt\r\n",
      "\u001b[0m\u001b[01;34mdata_reviews\u001b[0m/  \u001b[01;34mpretrained_word_embeddings\u001b[0m/\r\n"
     ]
    }
   ],
   "source": [
    "%ls ../input/project/project/project/"
   ]
  },
  {
   "cell_type": "code",
   "execution_count": 3,
   "metadata": {},
   "outputs": [
    {
     "data": {
      "text/plain": [
       "'/kaggle/working'"
      ]
     },
     "execution_count": 3,
     "metadata": {},
     "output_type": "execute_result"
    }
   ],
   "source": [
    "###Change Working Directory###\n",
    "\n",
    "import os\n",
    "os.getcwd()\n",
    "#os.chdir('project/project') "
   ]
  },
  {
   "cell_type": "code",
   "execution_count": 4,
   "metadata": {},
   "outputs": [
    {
     "data": {
      "text/html": [
       "<div>\n",
       "<style scoped>\n",
       "    .dataframe tbody tr th:only-of-type {\n",
       "        vertical-align: middle;\n",
       "    }\n",
       "\n",
       "    .dataframe tbody tr th {\n",
       "        vertical-align: top;\n",
       "    }\n",
       "\n",
       "    .dataframe thead th {\n",
       "        text-align: right;\n",
       "    }\n",
       "</style>\n",
       "<table border=\"1\" class=\"dataframe\">\n",
       "  <thead>\n",
       "    <tr style=\"text-align: right;\">\n",
       "      <th></th>\n",
       "      <th>website_name</th>\n",
       "      <th>text</th>\n",
       "    </tr>\n",
       "  </thead>\n",
       "  <tbody>\n",
       "    <tr>\n",
       "      <th>0</th>\n",
       "      <td>amazon</td>\n",
       "      <td>It only recognizes the Phone as its storage de...</td>\n",
       "    </tr>\n",
       "    <tr>\n",
       "      <th>1</th>\n",
       "      <td>amazon</td>\n",
       "      <td>Disappointing accessory from a good manufacturer.</td>\n",
       "    </tr>\n",
       "    <tr>\n",
       "      <th>2</th>\n",
       "      <td>amazon</td>\n",
       "      <td>The one big drawback of the MP3 player is that...</td>\n",
       "    </tr>\n",
       "    <tr>\n",
       "      <th>3</th>\n",
       "      <td>amazon</td>\n",
       "      <td>This particular model would not work with my M...</td>\n",
       "    </tr>\n",
       "    <tr>\n",
       "      <th>4</th>\n",
       "      <td>amazon</td>\n",
       "      <td>If the two were seperated by a mere 5+ ft I st...</td>\n",
       "    </tr>\n",
       "  </tbody>\n",
       "</table>\n",
       "</div>"
      ],
      "text/plain": [
       "  website_name                                               text\n",
       "0       amazon  It only recognizes the Phone as its storage de...\n",
       "1       amazon  Disappointing accessory from a good manufacturer.\n",
       "2       amazon  The one big drawback of the MP3 player is that...\n",
       "3       amazon  This particular model would not work with my M...\n",
       "4       amazon  If the two were seperated by a mere 5+ ft I st..."
      ]
     },
     "execution_count": 4,
     "metadata": {},
     "output_type": "execute_result"
    }
   ],
   "source": [
    "x_test = pd.read_csv('../input/project/project/project/data_reviews/x_test.csv')\n",
    "x_test.head()"
   ]
  },
  {
   "cell_type": "code",
   "execution_count": 5,
   "metadata": {},
   "outputs": [
    {
     "data": {
      "text/html": [
       "<div>\n",
       "<style scoped>\n",
       "    .dataframe tbody tr th:only-of-type {\n",
       "        vertical-align: middle;\n",
       "    }\n",
       "\n",
       "    .dataframe tbody tr th {\n",
       "        vertical-align: top;\n",
       "    }\n",
       "\n",
       "    .dataframe thead th {\n",
       "        text-align: right;\n",
       "    }\n",
       "</style>\n",
       "<table border=\"1\" class=\"dataframe\">\n",
       "  <thead>\n",
       "    <tr style=\"text-align: right;\">\n",
       "      <th></th>\n",
       "      <th>website_name</th>\n",
       "      <th>text</th>\n",
       "    </tr>\n",
       "  </thead>\n",
       "  <tbody>\n",
       "    <tr>\n",
       "      <th>0</th>\n",
       "      <td>amazon</td>\n",
       "      <td>Oh and I forgot to also mention the weird colo...</td>\n",
       "    </tr>\n",
       "    <tr>\n",
       "      <th>1</th>\n",
       "      <td>amazon</td>\n",
       "      <td>THAT one didn't work either.</td>\n",
       "    </tr>\n",
       "    <tr>\n",
       "      <th>2</th>\n",
       "      <td>amazon</td>\n",
       "      <td>Waste of 13 bucks.</td>\n",
       "    </tr>\n",
       "    <tr>\n",
       "      <th>3</th>\n",
       "      <td>amazon</td>\n",
       "      <td>Product is useless, since it does not have eno...</td>\n",
       "    </tr>\n",
       "    <tr>\n",
       "      <th>4</th>\n",
       "      <td>amazon</td>\n",
       "      <td>None of the three sizes they sent with the hea...</td>\n",
       "    </tr>\n",
       "  </tbody>\n",
       "</table>\n",
       "</div>"
      ],
      "text/plain": [
       "  website_name                                               text\n",
       "0       amazon  Oh and I forgot to also mention the weird colo...\n",
       "1       amazon                       THAT one didn't work either.\n",
       "2       amazon                                 Waste of 13 bucks.\n",
       "3       amazon  Product is useless, since it does not have eno...\n",
       "4       amazon  None of the three sizes they sent with the hea..."
      ]
     },
     "execution_count": 5,
     "metadata": {},
     "output_type": "execute_result"
    }
   ],
   "source": [
    "x_train = pd.read_csv('../input/project/project/project/data_reviews/x_train.csv')\n",
    "x_train.head()"
   ]
  },
  {
   "cell_type": "code",
   "execution_count": 6,
   "metadata": {},
   "outputs": [
    {
     "data": {
      "text/html": [
       "<div>\n",
       "<style scoped>\n",
       "    .dataframe tbody tr th:only-of-type {\n",
       "        vertical-align: middle;\n",
       "    }\n",
       "\n",
       "    .dataframe tbody tr th {\n",
       "        vertical-align: top;\n",
       "    }\n",
       "\n",
       "    .dataframe thead th {\n",
       "        text-align: right;\n",
       "    }\n",
       "</style>\n",
       "<table border=\"1\" class=\"dataframe\">\n",
       "  <thead>\n",
       "    <tr style=\"text-align: right;\">\n",
       "      <th></th>\n",
       "      <th>is_positive_sentiment</th>\n",
       "    </tr>\n",
       "  </thead>\n",
       "  <tbody>\n",
       "    <tr>\n",
       "      <th>0</th>\n",
       "      <td>0</td>\n",
       "    </tr>\n",
       "    <tr>\n",
       "      <th>1</th>\n",
       "      <td>0</td>\n",
       "    </tr>\n",
       "    <tr>\n",
       "      <th>2</th>\n",
       "      <td>0</td>\n",
       "    </tr>\n",
       "    <tr>\n",
       "      <th>3</th>\n",
       "      <td>0</td>\n",
       "    </tr>\n",
       "    <tr>\n",
       "      <th>4</th>\n",
       "      <td>0</td>\n",
       "    </tr>\n",
       "  </tbody>\n",
       "</table>\n",
       "</div>"
      ],
      "text/plain": [
       "   is_positive_sentiment\n",
       "0                      0\n",
       "1                      0\n",
       "2                      0\n",
       "3                      0\n",
       "4                      0"
      ]
     },
     "execution_count": 6,
     "metadata": {},
     "output_type": "execute_result"
    }
   ],
   "source": [
    "y_train = pd.read_csv('../input/project/project/project/data_reviews/y_train.csv')\n",
    "y_train.head()"
   ]
  },
  {
   "cell_type": "code",
   "execution_count": 7,
   "metadata": {},
   "outputs": [],
   "source": [
    "###LOWER CASE############\n",
    "x_train[\"text\"] = (x_train[\"text\"].apply(lambda x: \" \".join(x.lower() for x in x.split())))\n",
    "x_test[\"text\"] = (x_test[\"text\"].apply(lambda x: \" \".join(x.lower() for x in x.split())))"
   ]
  },
  {
   "cell_type": "code",
   "execution_count": 8,
   "metadata": {},
   "outputs": [],
   "source": [
    "# Removing punctuation\n",
    "x_train[\"text\"] = x_train[\"text\"].str.replace('[^\\w\\s]','')\n",
    "x_test[\"text\"] = x_test[\"text\"].str.replace('[^\\w\\s]','')"
   ]
  },
  {
   "cell_type": "code",
   "execution_count": 9,
   "metadata": {},
   "outputs": [],
   "source": [
    "####lEMENTIZATIOO#############\n",
    "x_train[\"text\"]  = (x_train[\"text\"].apply(lambda x: \" \".join([Word(word).lemmatize() for word in x.split()])))\n",
    "x_test[\"text\"]  = (x_test[\"text\"].apply(lambda x: \" \".join([Word(word).lemmatize() for word in x.split()])))"
   ]
  },
  {
   "cell_type": "code",
   "execution_count": 10,
   "metadata": {},
   "outputs": [],
   "source": [
    "X_train_sentence, X_test_sentence, y_train_sentence, y_test_sentence = train_test_split( x_train['text'],y_train['is_positive_sentiment'],test_size=0.1, random_state = 0)"
   ]
  },
  {
   "cell_type": "code",
   "execution_count": 11,
   "metadata": {},
   "outputs": [
    {
     "name": "stderr",
     "output_type": "stream",
     "text": [
      "400000it [00:07, 54999.92it/s]"
     ]
    },
    {
     "name": "stdout",
     "output_type": "stream",
     "text": [
      "Found 400000 word vectors.\n"
     ]
    },
    {
     "name": "stderr",
     "output_type": "stream",
     "text": [
      "\n"
     ]
    }
   ],
   "source": [
    "embeddings_index = {}\n",
    "#f = open('pretrained_word_embeddings/glove.6B.300d.txt',encoding=\"utf8\")\n",
    "f = open('../input/project/project/project/pretrained_word_embeddings/glove.6B.50d.txt',encoding=\"utf8\")\n",
    "for line in tqdm(f):\n",
    "    values = line.split()\n",
    "    word = values[0]\n",
    "    coefs = np.asarray(values[1:], dtype='float32')\n",
    "    embeddings_index[word] = coefs\n",
    "f.close()\n",
    "\n",
    "print('Found %s word vectors.' % len(embeddings_index))"
   ]
  },
  {
   "cell_type": "code",
   "execution_count": 12,
   "metadata": {},
   "outputs": [],
   "source": [
    "def sent2vec(s,size):\n",
    "    words = str(s).lower()\n",
    "    words = word_tokenize(words)\n",
    "    words = [w for w in words if not w in stop_words]\n",
    "    words = [w for w in words if w.isalpha()]\n",
    "    M = []\n",
    "    for w in words:\n",
    "        try:\n",
    "            M.append(embeddings_index[w])\n",
    "        except:\n",
    "            continue\n",
    "    M = np.array(M)\n",
    "    v = M.sum(axis=0)\n",
    "    if type(v) != np.ndarray:\n",
    "        return list(np.zeros(size))\n",
    "    return list(v / np.sqrt((v ** 2).sum()))"
   ]
  },
  {
   "cell_type": "code",
   "execution_count": 13,
   "metadata": {},
   "outputs": [],
   "source": [
    "xtrain_glove = np.array([sent2vec(x,50) for x in X_train_sentence])\n",
    "xvalid_glove = np.array([sent2vec(x,50) for x in X_test_sentence])\n",
    "x_train_all = np.array([sent2vec(x,50) for x in x_train['text']])\n",
    "x_test_all = np.array([sent2vec(x,50) for x in x_test['text']])"
   ]
  },
  {
   "cell_type": "code",
   "execution_count": 14,
   "metadata": {},
   "outputs": [],
   "source": [
    "y_train_all = y_train['is_positive_sentiment'].values"
   ]
  },
  {
   "cell_type": "code",
   "execution_count": 15,
   "metadata": {},
   "outputs": [],
   "source": [
    "def multiclass_logloss(actual, predicted, eps=1e-15):\n",
    "    \"\"\"Multi class version of Logarithmic Loss metric.\n",
    "    :param actual: Array containing the actual target classes\n",
    "    :param predicted: Matrix with class predictions, one probability per class\n",
    "    Log loss, aka logistic loss or cross-entropy loss.\n",
    "    This is the loss function used in (multinomial) logistic regression and \n",
    "    extensions of it such as neural networks, defined as the negative log-likelihood of the true labels \n",
    "    given a probabilistic classifier’s predictions. The log loss is only defined for two or more labels.\n",
    "    Accuracy is the count of predictions where your predicted value equals the actual value. \n",
    "    Accuracy is not always a good indicator because of its yes or no nature.\n",
    "    Log Loss takes into account the uncertainty of your prediction based on how much it varies from the actual label. \n",
    "    This gives us a more nuanced view into the performance of our model.\n",
    "    \"\"\"\n",
    "    # Convert 'actual' to a binary array if it's not already:\n",
    "    if len(actual.shape) == 1:\n",
    "        actual2 = np.zeros((actual.shape[0], predicted.shape[1]))\n",
    "        for i, val in enumerate(actual):\n",
    "            actual2[i, val] = 1\n",
    "        actual = actual2\n",
    "\n",
    "    clip = np.clip(predicted, eps, 1 - eps)\n",
    "    rows = actual.shape[0]\n",
    "    vsota = np.sum(actual * np.log(clip))\n",
    "    return -1.0 / rows * vsota"
   ]
  },
  {
   "cell_type": "code",
   "execution_count": 16,
   "metadata": {},
   "outputs": [],
   "source": [
    "grids = {}\n",
    "accuracies = {}"
   ]
  },
  {
   "cell_type": "code",
   "execution_count": 17,
   "metadata": {},
   "outputs": [],
   "source": [
    "# Fitting a simple Logistic Regression on TFIDF#########\n",
    "def grid_search_best_params(model_name, pipeline, params, xtrain, ytrain, xvalid, yvalid, X, Y):\n",
    "    grid = GridSearchCV(pipeline, param_grid=params, cv=5, n_jobs=-1,refit='accuracy',scoring=['accuracy','neg_log_loss','roc_auc'])\n",
    "    grid.fit(X, Y)\n",
    "    predictions = grid.predict_proba(xvalid)\n",
    "    grids[model_name] = copy.deepcopy(grid)\n",
    "    #print (\"logloss: %0.3f \" % multiclass_logloss(yvalid, predictions))\n",
    "    y_pred_test = grid.predict(xvalid)\n",
    "    y_test_proba = grid.predict_proba(xvalid)\n",
    "    print(\"Log Loss for %s on Test with Embedding: %s\"%(model_name,log_loss(yvalid, y_pred_test)))\n",
    "    print(\"ROC AUC for %s on Test with Embedding: %s\"%(model_name,roc_auc_score(yvalid, y_test_proba.T[1])))\n",
    "    print(\"Accuracy for %s on Test with Embedding: %s\"%(model_name,accuracy_score(yvalid, y_pred_test)))\n",
    "    y_pred_train=grid.predict(xtrain)\n",
    "    y_train_proba = grid.predict_proba(xtrain)\n",
    "    print(\"Log Loss for %s on Training with Embedding: %s\"%(model_name,log_loss(ytrain, y_pred_train)))\n",
    "    print(\"ROC AUC for %s on Training with Embedding: %s\"%(model_name,roc_auc_score(ytrain, y_train_proba.T[1])))\n",
    "    print(\"Accuracy for %s on Training with Embedding: %s\"%(model_name, accuracy_score(ytrain,y_pred_train)))\n",
    "    print('Best Score : %.2f'%(grid.best_score_*100))\n",
    "    print('Best Paramerter Settings : ',grid.best_params_)\n",
    "    #print(\"ROC Area Under Curve in % : \",cross_val_score(pipeline_lr, X, Y, scoring=\"roc_auc\", cv=5)*100)\n",
    "    conf_mat = confusion_matrix(yvalid, y_pred_test)\n",
    "    fig, ax = plt.subplots(figsize=(10,10))\n",
    "    sns.heatmap(conf_mat, annot=True, fmt='d')\n",
    "    plt.ylabel('Actual')\n",
    "    plt.xlabel('Predicted')\n",
    "    plt.show()\n",
    "    accuracies = {'Train Accuracy':accuracy_score(ytrain,y_pred_train), \n",
    "                  'Test Accuracy':accuracy_score(yvalid, y_pred_test),\n",
    "                  'Best Accuracy': grid.best_score_,\n",
    "                  'Train Log Loss':log_loss(ytrain, y_pred_train), \n",
    "                  'Test Log Loss':log_loss(yvalid, y_pred_test),\n",
    "                  'Train ROC AUC': roc_auc_score(ytrain, y_train_proba.T[1]), \n",
    "                  'Test ROC AUC': roc_auc_score(yvalid, y_test_proba.T[1]),\n",
    "                  'Best Param Settings' :grid.best_params_}\n",
    "    return accuracies"
   ]
  },
  {
   "cell_type": "code",
   "execution_count": 18,
   "metadata": {},
   "outputs": [
    {
     "name": "stdout",
     "output_type": "stream",
     "text": [
      "Log Loss for LogisticRegression_Embedding on Test with Embedding: 7.62741307022155\n",
      "ROC AUC for LogisticRegression_Embedding on Test with Embedding: 0.8471883492439551\n",
      "Accuracy for LogisticRegression_Embedding on Test with Embedding: 0.7791666666666667\n",
      "Log Loss for LogisticRegression_Embedding on Training with Embedding: 7.403536933817075\n",
      "ROC AUC for LogisticRegression_Embedding on Training with Embedding: 0.8573439727834932\n",
      "Accuracy for LogisticRegression_Embedding on Training with Embedding: 0.7856481481481481\n",
      "Best Score : 77.21\n",
      "Best Paramerter Settings :  {'logisticregression__C': 10, 'logisticregression__penalty': 'l2'}\n"
     ]
    },
    {
     "data": {
      "image/png": "[encoded data removed]",
      "text/plain": [
       "<Figure size 720x720 with 2 Axes>"
      ]
     },
     "metadata": {},
     "output_type": "display_data"
    }
   ],
   "source": [
    "params_lr = {'logisticregression__C': [0.01, 0.1, 0.5,1, 10, 100],\n",
    "             'logisticregression__penalty': ['l1','l2'],\n",
    "          }\n",
    "lr = make_pipeline(LogisticRegression())\n",
    "\n",
    "accuracies['LogisticRegression(Embedding)'] = grid_search_best_params('LogisticRegression_Embedding', lr, params_lr,xtrain_glove,y_train_sentence,xvalid_glove,y_test_sentence,x_train_all,y_train_all)"
   ]
  },
  {
   "cell_type": "code",
   "execution_count": 19,
   "metadata": {},
   "outputs": [],
   "source": [
    "params_svc = {#'svc__kernel': ['rbf','poly','sigmoid'],\n",
    "                'svc__C': [0.01, 0.1, 0.5, 1, 10, 100, 10/x_train_all.shape[1]],\n",
    "                'svc__gamma' : [1/x_train_all.shape[1],'auto','scale'],\n",
    "                }\n",
    "svc = make_pipeline(SVC(probability=True))\n",
    "\n",
    "##accuracies['SVC(Embedding)'] = grid_search_best_params('SVC',svc, params_svc,xtrain_glove,y_train_sentence,xvalid_glove,y_test_sentence,x_train_all,y_train_all)"
   ]
  },
  {
   "cell_type": "code",
   "execution_count": 20,
   "metadata": {},
   "outputs": [],
   "source": [
    "params_nb = {\n",
    "            'multinomialnb__alpha': [0.1, .5, 1.0 , 10],\n",
    "            }\n",
    "nb = make_pipeline(MultinomialNB())\n",
    "\n",
    "#accuracies['NaiveBayes(Embedding)'] = grid_search_best_params('NaiveBayes',nb, params_nb,xtrain_glove,y_train_sentence,xvalid_glove,y_test_sentence,x_train_all,y_train_all)"
   ]
  },
  {
   "cell_type": "code",
   "execution_count": 21,
   "metadata": {},
   "outputs": [
    {
     "name": "stdout",
     "output_type": "stream",
     "text": [
      "Log Loss for RandomForest_Embedding on Test with Embedding: 9.992007221626413e-16\n",
      "ROC AUC for RandomForest_Embedding on Test with Embedding: 1.0\n",
      "Accuracy for RandomForest_Embedding on Test with Embedding: 1.0\n",
      "Log Loss for RandomForest_Embedding on Training with Embedding: 0.04797052277071027\n",
      "ROC AUC for RandomForest_Embedding on Training with Embedding: 0.9999957131258087\n",
      "Accuracy for RandomForest_Embedding on Training with Embedding: 0.9986111111111111\n",
      "Best Score : 76.75\n",
      "Best Paramerter Settings :  {'randomforestclassifier__bootstrap': False, 'randomforestclassifier__max_depth': None, 'randomforestclassifier__min_samples_leaf': 1, 'randomforestclassifier__n_estimators': 100}\n"
     ]
    },
    {
     "data": {
      "image/png": "[encoded data removed]",
      "text/plain": [
       "<Figure size 720x720 with 2 Axes>"
      ]
     },
     "metadata": {},
     "output_type": "display_data"
    }
   ],
   "source": [
    "sqrt_features = int(np.sqrt(x_train_all.shape[1]))\n",
    "params_rf = {'randomforestclassifier__n_estimators': [sqrt_features//2,sqrt_features,sqrt_features*2,sqrt_features*4,100, 200,500],\n",
    "             'randomforestclassifier__max_depth':[None,3,4,5],\n",
    "             'randomforestclassifier__min_samples_leaf': [0.1,0.2,0.3,0.4,0.5, 1],\n",
    "             'randomforestclassifier__bootstrap' : [True, False],\n",
    "            }\n",
    "rf = make_pipeline(RandomForestClassifier())\n",
    "\n",
    "accuracies['RandomForest(Embedding)'] = grid_search_best_params('RandomForest_Embedding',rf, params_rf,xtrain_glove,y_train_sentence,xvalid_glove,y_test_sentence,x_train_all,y_train_all)"
   ]
  },
  {
   "cell_type": "code",
   "execution_count": 22,
   "metadata": {},
   "outputs": [
    {
     "name": "stdout",
     "output_type": "stream",
     "text": [
      "Log Loss for ExtremeGradientBoosting_Embedding on Test with Embedding: 3.885668982578758\n",
      "ROC AUC for ExtremeGradientBoosting_Embedding on Test with Embedding: 0.9369381924604556\n",
      "Accuracy for ExtremeGradientBoosting_Embedding on Test with Embedding: 0.8875\n",
      "Log Loss for ExtremeGradientBoosting_Embedding on Training with Embedding: 4.749132469507598\n",
      "ROC AUC for ExtremeGradientBoosting_Embedding on Training with Embedding: 0.9368371956640841\n",
      "Accuracy for ExtremeGradientBoosting_Embedding on Training with Embedding: 0.8625\n",
      "Best Score : 75.62\n",
      "Best Paramerter Settings :  {'xgbclassifier__learning_rate': 0.1, 'xgbclassifier__max_depth': 2, 'xgbclassifier__n_estimators': 200}\n"
     ]
    },
    {
     "data": {
      "image/png": "[encoded data removed]",
      "text/plain": [
       "<Figure size 720x720 with 2 Axes>"
      ]
     },
     "metadata": {},
     "output_type": "display_data"
    }
   ],
   "source": [
    "sqrt_features = int(np.sqrt(x_train_all.shape[1]))\n",
    "params_xgb = {'xgbclassifier__n_estimators': [sqrt_features,sqrt_features*2, 100, 200 ],\n",
    "                'xgbclassifier__learning_rate': [0.001,0.01,0.1,0.3],\n",
    "                'xgbclassifier__max_depth' : [2, 3, 4, 5,],\n",
    "                }\n",
    "pipeline_xgb = make_pipeline(xgb.XGBClassifier())\n",
    "\n",
    "accuracies['ExtremeGradientBoosting(Embedding)'] = grid_search_best_params('ExtremeGradientBoosting_Embedding',pipeline_xgb, params_xgb,xtrain_glove,y_train_sentence,xvalid_glove,y_test_sentence,x_train_all,y_train_all)"
   ]
  },
  {
   "cell_type": "code",
   "execution_count": 23,
   "metadata": {},
   "outputs": [
    {
     "data": {
      "text/html": [
       "<div>\n",
       "<style scoped>\n",
       "    .dataframe tbody tr th:only-of-type {\n",
       "        vertical-align: middle;\n",
       "    }\n",
       "\n",
       "    .dataframe tbody tr th {\n",
       "        vertical-align: top;\n",
       "    }\n",
       "\n",
       "    .dataframe thead th {\n",
       "        text-align: right;\n",
       "    }\n",
       "</style>\n",
       "<table border=\"1\" class=\"dataframe\">\n",
       "  <thead>\n",
       "    <tr style=\"text-align: right;\">\n",
       "      <th></th>\n",
       "      <th>model_name</th>\n",
       "      <th>Best Accuracy</th>\n",
       "      <th>Best Param Settings</th>\n",
       "      <th>Test Accuracy</th>\n",
       "      <th>Test Log Loss</th>\n",
       "      <th>Test ROC AUC</th>\n",
       "      <th>Train Accuracy</th>\n",
       "      <th>Train Log Loss</th>\n",
       "      <th>Train ROC AUC</th>\n",
       "    </tr>\n",
       "  </thead>\n",
       "  <tbody>\n",
       "    <tr>\n",
       "      <th>0</th>\n",
       "      <td>LogisticRegression(Embedding)</td>\n",
       "      <td>0.772083</td>\n",
       "      <td>{'logisticregression__C': 10, 'logisticregress...</td>\n",
       "      <td>0.779167</td>\n",
       "      <td>7.62741</td>\n",
       "      <td>0.847188</td>\n",
       "      <td>0.785648</td>\n",
       "      <td>7.40354</td>\n",
       "      <td>0.857344</td>\n",
       "    </tr>\n",
       "    <tr>\n",
       "      <th>1</th>\n",
       "      <td>RandomForest(Embedding)</td>\n",
       "      <td>0.7675</td>\n",
       "      <td>{'randomforestclassifier__bootstrap': False, '...</td>\n",
       "      <td>1</td>\n",
       "      <td>9.99201e-16</td>\n",
       "      <td>1</td>\n",
       "      <td>0.998611</td>\n",
       "      <td>0.0479705</td>\n",
       "      <td>0.999996</td>\n",
       "    </tr>\n",
       "    <tr>\n",
       "      <th>2</th>\n",
       "      <td>ExtremeGradientBoosting(Embedding)</td>\n",
       "      <td>0.75625</td>\n",
       "      <td>{'xgbclassifier__learning_rate': 0.1, 'xgbclas...</td>\n",
       "      <td>0.8875</td>\n",
       "      <td>3.88567</td>\n",
       "      <td>0.936938</td>\n",
       "      <td>0.8625</td>\n",
       "      <td>4.74913</td>\n",
       "      <td>0.936837</td>\n",
       "    </tr>\n",
       "  </tbody>\n",
       "</table>\n",
       "</div>"
      ],
      "text/plain": [
       "                           model_name Best Accuracy  \\\n",
       "0       LogisticRegression(Embedding)      0.772083   \n",
       "1             RandomForest(Embedding)        0.7675   \n",
       "2  ExtremeGradientBoosting(Embedding)       0.75625   \n",
       "\n",
       "                                 Best Param Settings Test Accuracy  \\\n",
       "0  {'logisticregression__C': 10, 'logisticregress...      0.779167   \n",
       "1  {'randomforestclassifier__bootstrap': False, '...             1   \n",
       "2  {'xgbclassifier__learning_rate': 0.1, 'xgbclas...        0.8875   \n",
       "\n",
       "  Test Log Loss Test ROC AUC Train Accuracy Train Log Loss Train ROC AUC  \n",
       "0       7.62741     0.847188       0.785648        7.40354      0.857344  \n",
       "1   9.99201e-16            1       0.998611      0.0479705      0.999996  \n",
       "2       3.88567     0.936938         0.8625        4.74913      0.936837  "
      ]
     },
     "execution_count": 23,
     "metadata": {},
     "output_type": "execute_result"
    }
   ],
   "source": [
    "## We'll now use best parameters we found out above from grid search and plot model accuracy.\n",
    "df = pd.DataFrame(accuracies)\n",
    "df = df.transpose()\n",
    "df = df.reset_index()\n",
    "df = df.rename(columns={'index':'model_name'})\n",
    "df"
   ]
  },
  {
   "cell_type": "code",
   "execution_count": 24,
   "metadata": {},
   "outputs": [
    {
     "data": {
      "text/plain": [
       "<matplotlib.axes._subplots.AxesSubplot at 0x7f3d553ad4a8>"
      ]
     },
     "execution_count": 24,
     "metadata": {},
     "output_type": "execute_result"
    },
    {
     "data": {
      "image/png": "[encoded data removed]",
      "text/plain": [
       "<Figure size 576x432 with 1 Axes>"
      ]
     },
     "metadata": {},
     "output_type": "display_data"
    }
   ],
   "source": [
    "df.plot(x='model_name',y=['Train Accuracy', 'Test Accuracy','Best Accuracy'], kind='bar', figsize=(8,6))"
   ]
  },
  {
   "cell_type": "code",
   "execution_count": 25,
   "metadata": {},
   "outputs": [
    {
     "data": {
      "text/plain": [
       "<matplotlib.axes._subplots.AxesSubplot at 0x7f3d3e4e6a90>"
      ]
     },
     "execution_count": 25,
     "metadata": {},
     "output_type": "execute_result"
    },
    {
     "data": {
      "image/png": "[encoded data removed]",
      "text/plain": [
       "<Figure size 576x432 with 1 Axes>"
      ]
     },
     "metadata": {},
     "output_type": "display_data"
    }
   ],
   "source": [
    "df.plot(x='model_name',y=['Train Log Loss', 'Test Log Loss'], kind='bar', figsize=(8,6))"
   ]
  },
  {
   "cell_type": "code",
   "execution_count": 26,
   "metadata": {},
   "outputs": [
    {
     "data": {
      "text/plain": [
       "<matplotlib.axes._subplots.AxesSubplot at 0x7f3d3e4dcba8>"
      ]
     },
     "execution_count": 26,
     "metadata": {},
     "output_type": "execute_result"
    },
    {
     "data": {
      "image/png": "[encoded data removed]",
      "text/plain": [
       "<Figure size 576x432 with 1 Axes>"
      ]
     },
     "metadata": {},
     "output_type": "display_data"
    }
   ],
   "source": [
    "df.plot(x='model_name',y=['Train ROC AUC', 'Test ROC AUC'], kind='bar', figsize=(8,6))"
   ]
  },
  {
   "cell_type": "code",
   "execution_count": 27,
   "metadata": {},
   "outputs": [
    {
     "data": {
      "image/png": "[encoded data removed]",
      "text/plain": [
       "<Figure size 864x432 with 1 Axes>"
      ]
     },
     "metadata": {},
     "output_type": "display_data"
    }
   ],
   "source": [
    "## We'll now use best parameters we found out above from grid search and plot model accuracy.\n",
    "plt.figure(figsize=(12,6))\n",
    "CV=5\n",
    "cv_df = pd.DataFrame(index=range(CV * len(grids)))\n",
    "entries = []\n",
    "for model_name, model in grids.items():\n",
    "    #model_name = model.__class__.__name__\n",
    "    accuracies = df_lr = pd.DataFrame(model.cv_results_)\n",
    "    df_lr = df_lr[df_lr.params == model.best_params_]\n",
    "    #print(df_lr.columns)\n",
    "    accuracies = df_lr[['split0_test_accuracy','split1_test_accuracy','split2_test_accuracy','split3_test_accuracy','split4_test_accuracy','mean_test_accuracy']].values[0]\n",
    "    for fold_idx, accuracy in enumerate(accuracies):\n",
    "        entries.append((model_name, fold_idx, accuracy))\n",
    "cv_df = pd.DataFrame(entries, columns=['model_name', 'fold_idx', 'accuracy'])\n",
    "\n",
    "sns.boxplot(x='model_name', y='accuracy', data=cv_df)\n",
    "sns.stripplot(x='model_name', y='accuracy', data=cv_df, \n",
    "              size=8, jitter=True, edgecolor=\"gray\", linewidth=4)\n",
    "plt.show()"
   ]
  },
  {
   "cell_type": "code",
   "execution_count": 28,
   "metadata": {},
   "outputs": [
    {
     "data": {
      "image/png": "[encoded data removed]",
      "text/plain": [
       "<Figure size 864x432 with 1 Axes>"
      ]
     },
     "metadata": {},
     "output_type": "display_data"
    }
   ],
   "source": [
    "## We'll now use best parameters we found out above from grid search and plot model accuracy.\n",
    "plt.figure(figsize=(12,6))\n",
    "cv_df = pd.DataFrame(index=range(CV * len(grids)))\n",
    "entries = []\n",
    "for model_name, model in grids.items():\n",
    "    #model_name = model.__class__.__name__\n",
    "    df_lr = pd.DataFrame(model.cv_results_)\n",
    "    df_lr = df_lr[df_lr.params == model.best_params_]\n",
    "    #print(df_lr.columns)\n",
    "    losses = df_lr[['split0_test_neg_log_loss','split1_test_neg_log_loss','split2_test_neg_log_loss','split3_test_neg_log_loss','split4_test_neg_log_loss','mean_test_neg_log_loss']].values[0]\n",
    "    for fold_idx, loss in enumerate(losses):\n",
    "        entries.append((model_name, fold_idx, loss))\n",
    "cv_df = pd.DataFrame(entries, columns=['model_name', 'fold_idx', 'log_loss'])\n",
    "\n",
    "sns.boxplot(x='model_name', y='log_loss', data=cv_df)\n",
    "sns.stripplot(x='model_name', y='log_loss', data=cv_df, \n",
    "              size=8, jitter=True, edgecolor=\"gray\", linewidth=4)\n",
    "plt.show()"
   ]
  },
  {
   "cell_type": "code",
   "execution_count": 29,
   "metadata": {},
   "outputs": [
    {
     "data": {
      "image/png": "[encoded data removed]",
      "text/plain": [
       "<Figure size 864x432 with 1 Axes>"
      ]
     },
     "metadata": {},
     "output_type": "display_data"
    }
   ],
   "source": [
    "## We'll now use best parameters we found out above from grid search and plot model accuracy.\n",
    "plt.figure(figsize=(12,6))\n",
    "cv_df = pd.DataFrame(index=range(CV * len(grids)))\n",
    "entries = []\n",
    "for model_name, model in grids.items():\n",
    "    #model_name = model.__class__.__name__\n",
    "    df_lr = pd.DataFrame(model.cv_results_)\n",
    "    df_lr = df_lr[df_lr.params == model.best_params_]\n",
    "    #print(df_lr.columns)\n",
    "    roc_aucs = df_lr[['split0_test_roc_auc','split1_test_roc_auc','split2_test_roc_auc','split3_test_roc_auc','split4_test_roc_auc','mean_test_roc_auc']].values[0]\n",
    "    for fold_idx, roc_auc in enumerate(roc_aucs):\n",
    "        entries.append((model_name, fold_idx, roc_auc))\n",
    "cv_df = pd.DataFrame(entries, columns=['model_name', 'fold_idx', 'roc_auc'])\n",
    "\n",
    "sns.boxplot(x='model_name', y='roc_auc', data=cv_df)\n",
    "sns.stripplot(x='model_name', y='roc_auc', data=cv_df, \n",
    "              size=8, jitter=True, edgecolor=\"gray\", linewidth=4)\n",
    "plt.show()"
   ]
  },
  {
   "cell_type": "code",
   "execution_count": 30,
   "metadata": {},
   "outputs": [
    {
     "data": {
      "text/html": [
       "<div>\n",
       "<style scoped>\n",
       "    .dataframe tbody tr th:only-of-type {\n",
       "        vertical-align: middle;\n",
       "    }\n",
       "\n",
       "    .dataframe tbody tr th {\n",
       "        vertical-align: top;\n",
       "    }\n",
       "\n",
       "    .dataframe thead th {\n",
       "        text-align: right;\n",
       "    }\n",
       "</style>\n",
       "<table border=\"1\" class=\"dataframe\">\n",
       "  <thead>\n",
       "    <tr style=\"text-align: right;\">\n",
       "      <th></th>\n",
       "      <th>model_name</th>\n",
       "      <th>Best Accuracy</th>\n",
       "      <th>Best Param Settings</th>\n",
       "      <th>Test Accuracy</th>\n",
       "      <th>Test Log Loss</th>\n",
       "      <th>Test ROC AUC</th>\n",
       "      <th>Train Accuracy</th>\n",
       "      <th>Train Log Loss</th>\n",
       "      <th>Train ROC AUC</th>\n",
       "    </tr>\n",
       "  </thead>\n",
       "  <tbody>\n",
       "    <tr>\n",
       "      <th>0</th>\n",
       "      <td>LogisticRegression(Embedding)</td>\n",
       "      <td>0.772083</td>\n",
       "      <td>{'logisticregression__C': 10, 'logisticregress...</td>\n",
       "      <td>0.779167</td>\n",
       "      <td>7.62741</td>\n",
       "      <td>0.847188</td>\n",
       "      <td>0.785648</td>\n",
       "      <td>7.40354</td>\n",
       "      <td>0.857344</td>\n",
       "    </tr>\n",
       "    <tr>\n",
       "      <th>1</th>\n",
       "      <td>RandomForest(Embedding)</td>\n",
       "      <td>0.7675</td>\n",
       "      <td>{'randomforestclassifier__bootstrap': False, '...</td>\n",
       "      <td>1</td>\n",
       "      <td>9.99201e-16</td>\n",
       "      <td>1</td>\n",
       "      <td>0.998611</td>\n",
       "      <td>0.0479705</td>\n",
       "      <td>0.999996</td>\n",
       "    </tr>\n",
       "    <tr>\n",
       "      <th>2</th>\n",
       "      <td>ExtremeGradientBoosting(Embedding)</td>\n",
       "      <td>0.75625</td>\n",
       "      <td>{'xgbclassifier__learning_rate': 0.1, 'xgbclas...</td>\n",
       "      <td>0.8875</td>\n",
       "      <td>3.88567</td>\n",
       "      <td>0.936938</td>\n",
       "      <td>0.8625</td>\n",
       "      <td>4.74913</td>\n",
       "      <td>0.936837</td>\n",
       "    </tr>\n",
       "  </tbody>\n",
       "</table>\n",
       "</div>"
      ],
      "text/plain": [
       "                           model_name Best Accuracy  \\\n",
       "0       LogisticRegression(Embedding)      0.772083   \n",
       "1             RandomForest(Embedding)        0.7675   \n",
       "2  ExtremeGradientBoosting(Embedding)       0.75625   \n",
       "\n",
       "                                 Best Param Settings Test Accuracy  \\\n",
       "0  {'logisticregression__C': 10, 'logisticregress...      0.779167   \n",
       "1  {'randomforestclassifier__bootstrap': False, '...             1   \n",
       "2  {'xgbclassifier__learning_rate': 0.1, 'xgbclas...        0.8875   \n",
       "\n",
       "  Test Log Loss Test ROC AUC Train Accuracy Train Log Loss Train ROC AUC  \n",
       "0       7.62741     0.847188       0.785648        7.40354      0.857344  \n",
       "1   9.99201e-16            1       0.998611      0.0479705      0.999996  \n",
       "2       3.88567     0.936938         0.8625        4.74913      0.936837  "
      ]
     },
     "execution_count": 30,
     "metadata": {},
     "output_type": "execute_result"
    }
   ],
   "source": [
    "df"
   ]
  },
  {
   "cell_type": "code",
   "execution_count": 31,
   "metadata": {},
   "outputs": [
    {
     "name": "stdout",
     "output_type": "stream",
     "text": [
      "LogisticRegression_Embedding 5 Fold Log Loss(Error)\n",
      "[-0.47695084 -0.5329853  -0.49058553 -0.5382666  -0.46252993 -0.50026364]\n",
      "RandomForest_Embedding 5 Fold Log Loss(Error)\n",
      "[-0.6497776  -0.60496045 -0.51289699 -0.51859491 -0.59123254 -0.5754925 ]\n",
      "ExtremeGradientBoosting_Embedding 5 Fold Log Loss(Error)\n",
      "[-0.49949047 -0.535019   -0.50409459 -0.52697294 -0.48437403 -0.50999021]\n"
     ]
    }
   ],
   "source": [
    "for model_name, model in grids.items():\n",
    "    print(model_name + ' 5 Fold Log Loss(Error)')\n",
    "    df_lr = pd.DataFrame(model.cv_results_)\n",
    "    df_lr = df_lr[df_lr.params == model.best_params_]\n",
    "    errors = df_lr[['split0_test_neg_log_loss','split1_test_neg_log_loss','split2_test_neg_log_loss','split3_test_neg_log_loss','split4_test_neg_log_loss','mean_test_neg_log_loss']].values[0]\n",
    "    print(errors)"
   ]
  },
  {
   "cell_type": "code",
   "execution_count": 32,
   "metadata": {},
   "outputs": [
    {
     "name": "stdout",
     "output_type": "stream",
     "text": [
      "LogisticRegression_Embedding5 Fold ROC AUC\n",
      "[0.860625   0.81383681 0.84282986 0.8259375  0.86527778 0.84170139]\n",
      "RandomForest_Embedding5 Fold ROC AUC\n",
      "[0.85072049 0.81603299 0.84345486 0.83900174 0.8369184  0.83722569]\n",
      "ExtremeGradientBoosting_Embedding5 Fold ROC AUC\n",
      "[0.84144097 0.80824653 0.83348958 0.82814236 0.85005208 0.83227431]\n"
     ]
    }
   ],
   "source": [
    "for model_name, model in grids.items():\n",
    "    print(model_name + '5 Fold ROC AUC')\n",
    "    df_lr = pd.DataFrame(model.cv_results_)\n",
    "    df_lr = df_lr[df_lr.params == model.best_params_]\n",
    "    roc_aucs = df_lr[['split0_test_roc_auc','split1_test_roc_auc','split2_test_roc_auc','split3_test_roc_auc','split4_test_roc_auc','mean_test_roc_auc']].values[0]\n",
    "    print(roc_aucs)"
   ]
  },
  {
   "cell_type": "code",
   "execution_count": 33,
   "metadata": {},
   "outputs": [
    {
     "name": "stdout",
     "output_type": "stream",
     "text": [
      "LogisticRegression_Embedding 5 Fold Accuracies\n",
      "[0.79166667 0.72708333 0.7875     0.76458333 0.78958333 0.77208333]\n",
      "RandomForest_Embedding 5 Fold Accuracies\n",
      "[0.78333333 0.74375    0.76458333 0.77291667 0.77291667 0.7675    ]\n",
      "ExtremeGradientBoosting_Embedding 5 Fold Accuracies\n",
      "[0.76666667 0.73541667 0.75625    0.75208333 0.77083333 0.75625   ]\n"
     ]
    }
   ],
   "source": [
    "for model_name, model in grids.items():\n",
    "    print(model_name+' 5 Fold Accuracies')\n",
    "    df_lr = pd.DataFrame(model.cv_results_)\n",
    "    df_lr = df_lr[df_lr.params == model.best_params_]\n",
    "    accuracies = df_lr[['split0_test_accuracy','split1_test_accuracy','split2_test_accuracy','split3_test_accuracy','split4_test_accuracy','mean_test_accuracy']].values[0]\n",
    "    print(accuracies)"
   ]
  },
  {
   "cell_type": "code",
   "execution_count": 34,
   "metadata": {},
   "outputs": [
    {
     "name": "stdout",
     "output_type": "stream",
     "text": [
      "__notebook__.ipynb  __output__.json\r\n"
     ]
    }
   ],
   "source": [
    "%ls"
   ]
  },
  {
   "cell_type": "code",
   "execution_count": 35,
   "metadata": {},
   "outputs": [],
   "source": [
    "for model_name, grid in grids.items():\n",
    "    submission_predictions = grid.predict_proba(x_test_all)[:,1]\n",
    "    np.savetxt(\"yproba_part2_%s.txt\"%model_name, submission_predictions,newline='\\r\\n')\n",
    "    #print(display.HTML('<a href=\"yproba_part1_%s.txt\" target=\"_blank\">Y_TEST_PROBA_PART1_%s</a>'%(model_name,model_name)))"
   ]
  },
  {
   "cell_type": "code",
   "execution_count": 36,
   "metadata": {},
   "outputs": [
    {
     "name": "stdout",
     "output_type": "stream",
     "text": [
      "__notebook__.ipynb\r\n",
      "__output__.json\r\n",
      "yproba_part2_ExtremeGradientBoosting_Embedding.txt\r\n",
      "yproba_part2_LogisticRegression_Embedding.txt\r\n",
      "yproba_part2_RandomForest_Embedding.txt\r\n"
     ]
    }
   ],
   "source": [
    "%ls"
   ]
  },
  {
   "cell_type": "code",
   "execution_count": 37,
   "metadata": {},
   "outputs": [],
   "source": []
  }
 ],
 "metadata": {
  "anaconda-cloud": {},
  "kernelspec": {
   "display_name": "Python 3",
   "language": "python",
   "name": "python3"
  },
  "language_info": {
   "codemirror_mode": {
    "name": "ipython",
    "version": 3
   },
   "file_extension": ".py",
   "mimetype": "text/x-python",
   "name": "python",
   "nbconvert_exporter": "python",
   "pygments_lexer": "ipython3",
   "version": "3.7.2"
  }
 },
 "nbformat": 4,
 "nbformat_minor": 1
}
