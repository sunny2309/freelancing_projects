{
 "cells": [
  {
   "cell_type": "code",
   "execution_count": 1,
   "metadata": {
    "_cell_guid": "b1076dfc-b9ad-4769-8c92-a6c4dae69d19",
    "_uuid": "8f2839f25d086af736a60e9eeb907d3b93b6e0e5"
   },
   "outputs": [],
   "source": [
    "import sklearn\n",
    "from sklearn import datasets\n",
    "from sklearn import svm\n",
    "from sklearn.ensemble import RandomForestClassifier\n",
    "from sklearn.model_selection import train_test_split\n",
    "from sklearn.model_selection import GridSearchCV\n",
    "from sklearn.metrics import roc_curve, roc_auc_score\n",
    "from sklearn.model_selection import cross_val_score\n",
    "\n",
    "import numpy as np\n",
    "import pandas as pd\n",
    "import matplotlib.pyplot as plt\n",
    "\n",
    "import warnings\n",
    "warnings.filterwarnings('ignore')"
   ]
  },
  {
   "cell_type": "markdown",
   "metadata": {},
   "source": [
    "## Support Vector Machines and Kernels\n",
    "Consider using a Support Vector Machine binary classifier in practice with an RBF kernel,\n",
    "such as the `SVC' implementation in sklearn.\n",
    "For example, you could construct such a classifier as follows:\n",
    "\n",
    "    my_svm = svm.SVC(kernel='rbf', gamma=1.0, C=1.0)\n",
    "\n",
    "Throughout #1, you can assume a binary classification task with 𝑁 training examples, each\n",
    "with feature vector of size 𝐹 . Each feature is a numerical real value, and each feature has\n",
    "been separately normalized so the training set mean is 0 and variance is 1. You can guarantee\n",
    "that the maximum absolute value of any feature is at most 5"
   ]
  },
  {
   "cell_type": "code",
   "execution_count": 2,
   "metadata": {
    "_cell_guid": "79c7e3d0-c299-4dcb-8224-4455121ee9b0",
    "_uuid": "d629ff2d2480ee46fbb7e2d37f6b5fab8052498a"
   },
   "outputs": [
    {
     "data": {
      "text/plain": [
       "((1000, 30), (1000,))"
      ]
     },
     "execution_count": 2,
     "metadata": {},
     "output_type": "execute_result"
    }
   ],
   "source": [
    "X, Y = datasets.make_classification(n_samples=1000, n_features=30)\n",
    "X.shape, Y.shape,"
   ]
  },
  {
   "cell_type": "code",
   "execution_count": 3,
   "metadata": {},
   "outputs": [
    {
     "data": {
      "text/plain": [
       "((800, 30), (200, 30), (800,), (200,))"
      ]
     },
     "execution_count": 3,
     "metadata": {},
     "output_type": "execute_result"
    }
   ],
   "source": [
    "X_train, X_test, Y_train, Y_test = train_test_split(X, Y, train_size=0.8, test_size=0.2, stratify=Y)\n",
    "X_train.shape, X_test.shape, Y_train.shape, Y_test.shape"
   ]
  },
  {
   "cell_type": "code",
   "execution_count": 4,
   "metadata": {},
   "outputs": [
    {
     "data": {
      "text/plain": [
       "(0.96125, 0.945)"
      ]
     },
     "execution_count": 4,
     "metadata": {},
     "output_type": "execute_result"
    }
   ],
   "source": [
    "classifier = svm.SVC(gamma= 1/X.shape[1], C=10/X.shape[1])\n",
    "classifier.fit(X_train, Y_train)\n",
    "classifier.score(X_train, Y_train),classifier.score(X_test, Y_test),"
   ]
  },
  {
   "cell_type": "code",
   "execution_count": 5,
   "metadata": {},
   "outputs": [
    {
     "data": {
      "text/plain": [
       "(0.99875, 0.93)"
      ]
     },
     "execution_count": 5,
     "metadata": {},
     "output_type": "execute_result"
    }
   ],
   "source": [
    "classifier = svm.SVC(gamma= 3/X.shape[1], C=30/X.shape[1])\n",
    "classifier.fit(X_train, Y_train)\n",
    "classifier.score(X_train, Y_train),classifier.score(X_test, Y_test),"
   ]
  },
  {
   "cell_type": "code",
   "execution_count": 6,
   "metadata": {},
   "outputs": [
    {
     "data": {
      "text/plain": [
       "(0.93875, 0.94)"
      ]
     },
     "execution_count": 6,
     "metadata": {},
     "output_type": "execute_result"
    }
   ],
   "source": [
    "classifier = svm.SVC(gamma= 1/(2*X.shape[1]), C=10/(2*X.shape[1]))\n",
    "classifier.fit(X_train, Y_train)\n",
    "classifier.score(X_train, Y_train),classifier.score(X_test, Y_test),"
   ]
  },
  {
   "cell_type": "markdown",
   "metadata": {},
   "source": [
    "### 1a. Describe a setting of the hyperparameters gamma and C that is sure to overfit to any typical training set and achieve zero training error.\n",
    "Value of parameter setting gamma and C below mentione can lead to overfit data.\n",
    "\n",
    "**Gamma :** Value of parameter gamme with value (1/number_of_features) is generally give best result for RBF kernels. Any value of gamma greater than this results in model overfit to training data and giving 100 accuracy on it.\n",
    "\n",
    "**C :** Value of parameter 10* (1/number_of_features) is generally gives best result for RBF kernel. Any value greater than that generally overfits the data.\n",
    "\n",
    "In short value of gamma greater than (1/number_of_features) and parameter C greater than 10* (1/number_of_features) surely overfits model and give 100% accuracy."
   ]
  },
  {
   "cell_type": "markdown",
   "metadata": {},
   "source": [
    "### 1b. Describe a setting of the hyperparameters gamma and C that is sure to overfit to any typical training set and achieve zero training error.\n",
    "Value of parameter setting gamma and C below mentione can lead to overfit data.\n",
    "\n",
    "**Gamma :** Value of parameter gamme with value 1/number_of_features is generally give best result for RBF kernels. Any value of gamma less than this results in model underfits to training data and giving poor accuracy on it.\n",
    "\n",
    "**C :** Value of parameter 10* (1/number_of_features) is generally gives bets result for RBF kernel. Any value less than that generally underfits the data.\n",
    "\n",
    "In short value of gamme less than 1/number_of_features and parameter C less than 10* (1/number_of_features) surely underfits model and give quite poor accuracy."
   ]
  },
  {
   "cell_type": "markdown",
   "metadata": {},
   "source": [
    "### 1c. If you were performing grid search to find the SVM that generalized best to unseen data, what range of values for gamma, C would you recommend? Specify your answer with two lines of NumPy code (e.g. using a list like [1, 2, 3] or np.linspace or np.logspace). Also provide 1-2 sentences of justification. Assume that you can't afford more than 5 distinct values for each variable.\n",
    "\n",
    "**opt_C = 10/X.shape[1]**\n",
    "\n",
    "**C = np.linspace( opt_C - (opt_C/2), opt_C + (opt_C/2), num=5)**\n",
    "\n",
    "**opt_gamma = 1/X.shape[1]**\n",
    "\n",
    "**gamma = np.linspace( opt_gamma - (opt_gamma/2), opt_gamma + (opt_gamma/2), num=5)**"
   ]
  },
  {
   "cell_type": "code",
   "execution_count": 7,
   "metadata": {},
   "outputs": [
    {
     "name": "stdout",
     "output_type": "stream",
     "text": [
      "Gamma :  [0.01666667 0.025      0.03333333 0.04166667 0.05      ]\n",
      "C :  [0.16666667 0.25       0.33333333 0.41666667 0.5       ]\n"
     ]
    }
   ],
   "source": [
    "opt_C = 10/X.shape[1]\n",
    "C = np.linspace( opt_C - (opt_C/2), opt_C + (opt_C/2), num=5)\n",
    "opt_gamma = 1/X.shape[1]\n",
    "gamma = np.linspace( opt_gamma - (opt_gamma/2), opt_gamma + (opt_gamma/2), num=5)\n",
    "print('Gamma : ',gamma)\n",
    "print('C : ', C)"
   ]
  },
  {
   "cell_type": "code",
   "execution_count": 8,
   "metadata": {},
   "outputs": [
    {
     "name": "stdout",
     "output_type": "stream",
     "text": [
      "Fitting 2 folds for each of 25 candidates, totalling 50 fits\n"
     ]
    },
    {
     "name": "stderr",
     "output_type": "stream",
     "text": [
      "[Parallel(n_jobs=1)]: Using backend SequentialBackend with 1 concurrent workers.\n",
      "[Parallel(n_jobs=1)]: Done  50 out of  50 | elapsed:    2.1s finished\n"
     ]
    },
    {
     "data": {
      "text/plain": [
       "GridSearchCV(cv=2, error_score='raise-deprecating',\n",
       "       estimator=SVC(C=1.0, cache_size=200, class_weight=None, coef0=0.0,\n",
       "  decision_function_shape='ovr', degree=3, gamma='auto_deprecated',\n",
       "  kernel='rbf', max_iter=-1, probability=False, random_state=None,\n",
       "  shrinking=True, tol=0.001, verbose=False),\n",
       "       fit_params=None, iid='warn', n_jobs=None,\n",
       "       param_grid={'C': array([0.16667, 0.25   , 0.33333, 0.41667, 0.5    ]), 'gamma': array([0.01667, 0.025  , 0.03333, 0.04167, 0.05   ])},\n",
       "       pre_dispatch='2*n_jobs', refit=True, return_train_score='warn',\n",
       "       scoring=None, verbose=1)"
      ]
     },
     "execution_count": 8,
     "metadata": {},
     "output_type": "execute_result"
    }
   ],
   "source": [
    "param_grid = {'C': C, 'gamma': gamma}\n",
    "grid_svc = GridSearchCV(svm.SVC(kernel='rbf'), param_grid=param_grid, cv=2, verbose=1)\n",
    "grid_svc.fit(X, Y)"
   ]
  },
  {
   "cell_type": "code",
   "execution_count": 9,
   "metadata": {},
   "outputs": [
    {
     "name": "stdout",
     "output_type": "stream",
     "text": [
      "0.933\n"
     ]
    }
   ],
   "source": [
    "print(grid_svc.best_score_)"
   ]
  },
  {
   "cell_type": "code",
   "execution_count": 10,
   "metadata": {},
   "outputs": [
    {
     "name": "stdout",
     "output_type": "stream",
     "text": [
      "{'C': 0.5, 'gamma': 0.016666666666666666}\n"
     ]
    }
   ],
   "source": [
    "print(grid_svc.best_params_)"
   ]
  },
  {
   "cell_type": "code",
   "execution_count": 11,
   "metadata": {},
   "outputs": [
    {
     "data": {
      "text/html": [
       "<div>\n",
       "<style scoped>\n",
       "    .dataframe tbody tr th:only-of-type {\n",
       "        vertical-align: middle;\n",
       "    }\n",
       "\n",
       "    .dataframe tbody tr th {\n",
       "        vertical-align: top;\n",
       "    }\n",
       "\n",
       "    .dataframe thead th {\n",
       "        text-align: right;\n",
       "    }\n",
       "</style>\n",
       "<table border=\"1\" class=\"dataframe\">\n",
       "  <thead>\n",
       "    <tr style=\"text-align: right;\">\n",
       "      <th></th>\n",
       "      <th>param_C</th>\n",
       "      <th>param_gamma</th>\n",
       "      <th>mean_train_score</th>\n",
       "      <th>mean_test_score</th>\n",
       "    </tr>\n",
       "  </thead>\n",
       "  <tbody>\n",
       "    <tr>\n",
       "      <th>0</th>\n",
       "      <td>0.166667</td>\n",
       "      <td>0.0166667</td>\n",
       "      <td>0.936</td>\n",
       "      <td>0.925</td>\n",
       "    </tr>\n",
       "    <tr>\n",
       "      <th>1</th>\n",
       "      <td>0.166667</td>\n",
       "      <td>0.025</td>\n",
       "      <td>0.939</td>\n",
       "      <td>0.919</td>\n",
       "    </tr>\n",
       "    <tr>\n",
       "      <th>2</th>\n",
       "      <td>0.166667</td>\n",
       "      <td>0.0333333</td>\n",
       "      <td>0.941</td>\n",
       "      <td>0.914</td>\n",
       "    </tr>\n",
       "    <tr>\n",
       "      <th>3</th>\n",
       "      <td>0.166667</td>\n",
       "      <td>0.0416667</td>\n",
       "      <td>0.940</td>\n",
       "      <td>0.907</td>\n",
       "    </tr>\n",
       "    <tr>\n",
       "      <th>4</th>\n",
       "      <td>0.166667</td>\n",
       "      <td>0.05</td>\n",
       "      <td>0.941</td>\n",
       "      <td>0.901</td>\n",
       "    </tr>\n",
       "    <tr>\n",
       "      <th>5</th>\n",
       "      <td>0.25</td>\n",
       "      <td>0.0166667</td>\n",
       "      <td>0.951</td>\n",
       "      <td>0.928</td>\n",
       "    </tr>\n",
       "    <tr>\n",
       "      <th>6</th>\n",
       "      <td>0.25</td>\n",
       "      <td>0.025</td>\n",
       "      <td>0.953</td>\n",
       "      <td>0.926</td>\n",
       "    </tr>\n",
       "    <tr>\n",
       "      <th>7</th>\n",
       "      <td>0.25</td>\n",
       "      <td>0.0333333</td>\n",
       "      <td>0.955</td>\n",
       "      <td>0.924</td>\n",
       "    </tr>\n",
       "    <tr>\n",
       "      <th>8</th>\n",
       "      <td>0.25</td>\n",
       "      <td>0.0416667</td>\n",
       "      <td>0.960</td>\n",
       "      <td>0.917</td>\n",
       "    </tr>\n",
       "    <tr>\n",
       "      <th>9</th>\n",
       "      <td>0.25</td>\n",
       "      <td>0.05</td>\n",
       "      <td>0.964</td>\n",
       "      <td>0.909</td>\n",
       "    </tr>\n",
       "    <tr>\n",
       "      <th>10</th>\n",
       "      <td>0.333333</td>\n",
       "      <td>0.0166667</td>\n",
       "      <td>0.955</td>\n",
       "      <td>0.928</td>\n",
       "    </tr>\n",
       "    <tr>\n",
       "      <th>11</th>\n",
       "      <td>0.333333</td>\n",
       "      <td>0.025</td>\n",
       "      <td>0.961</td>\n",
       "      <td>0.925</td>\n",
       "    </tr>\n",
       "    <tr>\n",
       "      <th>12</th>\n",
       "      <td>0.333333</td>\n",
       "      <td>0.0333333</td>\n",
       "      <td>0.961</td>\n",
       "      <td>0.924</td>\n",
       "    </tr>\n",
       "    <tr>\n",
       "      <th>13</th>\n",
       "      <td>0.333333</td>\n",
       "      <td>0.0416667</td>\n",
       "      <td>0.966</td>\n",
       "      <td>0.925</td>\n",
       "    </tr>\n",
       "    <tr>\n",
       "      <th>14</th>\n",
       "      <td>0.333333</td>\n",
       "      <td>0.05</td>\n",
       "      <td>0.966</td>\n",
       "      <td>0.922</td>\n",
       "    </tr>\n",
       "    <tr>\n",
       "      <th>15</th>\n",
       "      <td>0.416667</td>\n",
       "      <td>0.0166667</td>\n",
       "      <td>0.960</td>\n",
       "      <td>0.929</td>\n",
       "    </tr>\n",
       "    <tr>\n",
       "      <th>16</th>\n",
       "      <td>0.416667</td>\n",
       "      <td>0.025</td>\n",
       "      <td>0.964</td>\n",
       "      <td>0.931</td>\n",
       "    </tr>\n",
       "    <tr>\n",
       "      <th>17</th>\n",
       "      <td>0.416667</td>\n",
       "      <td>0.0333333</td>\n",
       "      <td>0.964</td>\n",
       "      <td>0.929</td>\n",
       "    </tr>\n",
       "    <tr>\n",
       "      <th>18</th>\n",
       "      <td>0.416667</td>\n",
       "      <td>0.0416667</td>\n",
       "      <td>0.968</td>\n",
       "      <td>0.924</td>\n",
       "    </tr>\n",
       "    <tr>\n",
       "      <th>19</th>\n",
       "      <td>0.416667</td>\n",
       "      <td>0.05</td>\n",
       "      <td>0.971</td>\n",
       "      <td>0.922</td>\n",
       "    </tr>\n",
       "    <tr>\n",
       "      <th>20</th>\n",
       "      <td>0.5</td>\n",
       "      <td>0.0166667</td>\n",
       "      <td>0.963</td>\n",
       "      <td>0.933</td>\n",
       "    </tr>\n",
       "    <tr>\n",
       "      <th>21</th>\n",
       "      <td>0.5</td>\n",
       "      <td>0.025</td>\n",
       "      <td>0.965</td>\n",
       "      <td>0.933</td>\n",
       "    </tr>\n",
       "    <tr>\n",
       "      <th>22</th>\n",
       "      <td>0.5</td>\n",
       "      <td>0.0333333</td>\n",
       "      <td>0.968</td>\n",
       "      <td>0.931</td>\n",
       "    </tr>\n",
       "    <tr>\n",
       "      <th>23</th>\n",
       "      <td>0.5</td>\n",
       "      <td>0.0416667</td>\n",
       "      <td>0.975</td>\n",
       "      <td>0.930</td>\n",
       "    </tr>\n",
       "    <tr>\n",
       "      <th>24</th>\n",
       "      <td>0.5</td>\n",
       "      <td>0.05</td>\n",
       "      <td>0.979</td>\n",
       "      <td>0.924</td>\n",
       "    </tr>\n",
       "  </tbody>\n",
       "</table>\n",
       "</div>"
      ],
      "text/plain": [
       "     param_C param_gamma  mean_train_score  mean_test_score\n",
       "0   0.166667   0.0166667             0.936            0.925\n",
       "1   0.166667       0.025             0.939            0.919\n",
       "2   0.166667   0.0333333             0.941            0.914\n",
       "3   0.166667   0.0416667             0.940            0.907\n",
       "4   0.166667        0.05             0.941            0.901\n",
       "5       0.25   0.0166667             0.951            0.928\n",
       "6       0.25       0.025             0.953            0.926\n",
       "7       0.25   0.0333333             0.955            0.924\n",
       "8       0.25   0.0416667             0.960            0.917\n",
       "9       0.25        0.05             0.964            0.909\n",
       "10  0.333333   0.0166667             0.955            0.928\n",
       "11  0.333333       0.025             0.961            0.925\n",
       "12  0.333333   0.0333333             0.961            0.924\n",
       "13  0.333333   0.0416667             0.966            0.925\n",
       "14  0.333333        0.05             0.966            0.922\n",
       "15  0.416667   0.0166667             0.960            0.929\n",
       "16  0.416667       0.025             0.964            0.931\n",
       "17  0.416667   0.0333333             0.964            0.929\n",
       "18  0.416667   0.0416667             0.968            0.924\n",
       "19  0.416667        0.05             0.971            0.922\n",
       "20       0.5   0.0166667             0.963            0.933\n",
       "21       0.5       0.025             0.965            0.933\n",
       "22       0.5   0.0333333             0.968            0.931\n",
       "23       0.5   0.0416667             0.975            0.930\n",
       "24       0.5        0.05             0.979            0.924"
      ]
     },
     "execution_count": 11,
     "metadata": {},
     "output_type": "execute_result"
    }
   ],
   "source": [
    "cv_results = pd.DataFrame(grid_svc.cv_results_)\n",
    "cv_results[['param_C','param_gamma','mean_train_score','mean_test_score']]"
   ]
  },
  {
   "cell_type": "markdown",
   "metadata": {},
   "source": [
    "### 1d: Answer the following True/False questions, providing one sentence of explanation for each one\n",
    "* 1d(i): When used for binary classification, Support Vector Machines (SVMs) provide an estimate of the probability that a given feature vector 𝑥 𝑖 will have a positive label: **False. Default implementation of SVC in scikit-learn does not provides this probability. We need to set parameter probability to True when creating classifier. This for each sample model will output 2 probabilities. Probability of sample being positive and probability of it being negative.**\n",
    "* 1d(ii): An advantage of an SVM is that the optimal weight vector 𝑤 (a vector with one entry per feature) will typically be sparse : **False.**\n",
    "* 1d(iii): When choosing a kernel function 𝑘 , it should be the case that for any finite dataset of 𝑁 distinct examples, the 𝑁 ×𝑁 kernel matrix is invertible: **True. Because when using SVC, many times it happens that data is not clearly seprable in current feature space using hyperplanes. In this kind of scenarios, we transform data into new feature space (using kernel specified like RBF) where classifier can easily classify data. We need this kernel to be invertible to be able to get original feature space back by inverting it.We can inverse this transformation to get original feature space.**"
   ]
  },
  {
   "cell_type": "markdown",
   "metadata": {},
   "source": [
    "## 2: Random Forests with/without Bootstrap Aggregating(BAgging)\n",
    "Consider the RandomForestClassifier and implemented in sklearn as described in the link: https://scikitlearn.org/stable/modules/generated/sklearn.ensemble.RandomForestClassifier.html\n",
    "\n",
    "There are four key hyperparameters (using the sklearn notation):\n",
    "* n_estimators : Number of separate trees to estimate\n",
    "* max_features : Number of features to use at each split\n",
    "* min_samples_leaf : Number of samples to use at each leaf\n",
    "* bootstrap : boolean indicator of whether to perform BAgging or not\n",
    "\n",
    "Below, you can assume a binary classification task with 𝑁 training examples, each with\n",
    "feature vector of size 𝐹 ."
   ]
  },
  {
   "cell_type": "code",
   "execution_count": 12,
   "metadata": {},
   "outputs": [
    {
     "data": {
      "text/plain": [
       "(1.0, 0.95)"
      ]
     },
     "execution_count": 12,
     "metadata": {},
     "output_type": "execute_result"
    }
   ],
   "source": [
    "random_forest_classifier = RandomForestClassifier(bootstrap=False, max_features=2)\n",
    "random_forest_classifier.fit(X_train, Y_train)\n",
    "random_forest_classifier.score(X_train, Y_train),random_forest_classifier.score(X_test, Y_test)"
   ]
  },
  {
   "cell_type": "code",
   "execution_count": 13,
   "metadata": {},
   "outputs": [
    {
     "data": {
      "text/plain": [
       "(10, None, 1)"
      ]
     },
     "execution_count": 13,
     "metadata": {},
     "output_type": "execute_result"
    }
   ],
   "source": [
    "random_forest_classifier.n_estimators,random_forest_classifier.max_depth, random_forest_classifier.min_samples_leaf"
   ]
  },
  {
   "cell_type": "markdown",
   "metadata": {},
   "source": [
    "### 2a: Describe a setting of the hyperparameters n_estimators, max_features,and min_samples_leaf that is sure to overfit to any typical training set. You can assume no BAgging (bootstrap=False).\n",
    "\n",
    "Below are setting of parameters n_estimators, max_features and min_samples_leaf which always overfit training data.\n",
    "\n",
    "* **n_estimators :** Any value of n_estimator > sqrt(num_of_features) will result in overfitting of training data.\n",
    "* **max_features :** Any value of max_features > sqrt(num_of_features) will result in overfitting of training data.\n",
    "* **min_samples_leaf :** Any value of min_samples_leaf quite less than (num_of_training_samples/num_of_classes) will surely result in overfitting of training data."
   ]
  },
  {
   "cell_type": "markdown",
   "metadata": {},
   "source": [
    "### 2b: Describe a setting of the hyperparameters n_estimators, max_features,and min_samples_leaf that is sure to underfit to any typical training set. You can assume no BAgging (bootstrap=False).\n",
    "\n",
    "Below are setting of parameters n_estimators, max_features and min_samples_leaf which always underfit training data.\n",
    "\n",
    "* **n_estimators :** Any value of n_estimator quite less than sqrt(num_of_features) will result in underfitting of training data.\n",
    "* **max_features :** Any value of n_estimator < sqrt(num_of_features) will result in underfitting of training data. \n",
    "* **min_samples_leaf :** Any value of min_samples_leaf > (num_of_training_samples/num_of_classes) will surely result in underfitting of training data."
   ]
  },
  {
   "cell_type": "code",
   "execution_count": 14,
   "metadata": {},
   "outputs": [
    {
     "data": {
      "text/plain": [
       "(0.7625, 0.76)"
      ]
     },
     "execution_count": 14,
     "metadata": {},
     "output_type": "execute_result"
    }
   ],
   "source": [
    "random_forest_classifier = RandomForestClassifier(bootstrap=False, \\\n",
    "                                                  max_features=int(np.sqrt(X.shape[1])),\\\n",
    "                                                  n_estimators=int(np.sqrt(X.shape[0])),min_samples_leaf=0.5)\n",
    "random_forest_classifier.fit(X_train, Y_train)\n",
    "random_forest_classifier.score(X_train, Y_train),random_forest_classifier.score(X_test, Y_test)"
   ]
  },
  {
   "cell_type": "code",
   "execution_count": 15,
   "metadata": {},
   "outputs": [
    {
     "data": {
      "text/plain": [
       "(1.0, 0.975)"
      ]
     },
     "execution_count": 15,
     "metadata": {},
     "output_type": "execute_result"
    }
   ],
   "source": [
    "random_forest_classifier = RandomForestClassifier(bootstrap=False, \\\n",
    "                                                  max_features=int(np.sqrt(X.shape[1]))+1,\\\n",
    "                                                  n_estimators=int(np.sqrt(X.shape[0]))+10,min_samples_leaf=1)\n",
    "random_forest_classifier.fit(X_train, Y_train)\n",
    "random_forest_classifier.score(X_train, Y_train),random_forest_classifier.score(X_test, Y_test)"
   ]
  },
  {
   "cell_type": "code",
   "execution_count": 16,
   "metadata": {},
   "outputs": [
    {
     "data": {
      "text/plain": [
       "(0.9425, 0.97)"
      ]
     },
     "execution_count": 16,
     "metadata": {},
     "output_type": "execute_result"
    }
   ],
   "source": [
    "random_forest_classifier = RandomForestClassifier(bootstrap=False, \\\n",
    "                                                  max_features=int(np.sqrt(X.shape[1]))-2,\\\n",
    "                                                  n_estimators=int(np.sqrt(X.shape[0]))-20,min_samples_leaf=0.5)\n",
    "random_forest_classifier.fit(X_train, Y_train)\n",
    "random_forest_classifier.score(X_train, Y_train),random_forest_classifier.score(X_test, Y_test)"
   ]
  },
  {
   "cell_type": "markdown",
   "metadata": {},
   "source": [
    "### 2c: If you were performing grid search to find the RandomForest that generalized best to unseen data, what range of values for n_estimators, max_features, and min_samples_leaf would you recommend? Should we set bootstrap to True or False? Specify your answer with a few lines of NumPy code (e.g. using a list like [1, 2, 3] or np.linspace or np.logspace to set each variable). Include a sentence or two of justification. Assume that you can't afford more than 5 distinct values for each variable.\n",
    "\n",
    "When **n_estimators** and **max_features** are set to **square root of number of features**, they gives quite good results almost every other time. We'll be trying values around this values to get good results. **min_samples_leaf** is generally set to **(number_of_samples/ number_of_class)** to get good results. We'll try few other values around it to optimize model. It's generally good idea to set bootstrap = True as it'll try different samples fetching it randomly from dataset and fitting model which will results in well generalized model. We'll be setting both values **(True,False)** for bootstrap.\n",
    "\n",
    "**square_root = np.sqrt(X.shape[1])**\n",
    "\n",
    "**n_estimators_grid = np.linspace( square_root - (square_root/2),square_root + (square_root/2),num=5,dtype=np.int32)**\n",
    "\n",
    "**max_features_grid = np.linspace( square_root - (square_root/2),square_root + (square_root/2),num=5,dtype=np.int32)**\n",
    "\n",
    "**samples_per_class = X.shape[0] / len(np.unique(Y))**\n",
    "\n",
    "**min_samples_leaf_grid = np.linspace(samples_per_class-(samples_per_class/2), samples_per_class+(samples_per_class/2), num=5, dtype=np.int32)**\n",
    "\n",
    "**bootstrap_grid = [True, False]**"
   ]
  },
  {
   "cell_type": "code",
   "execution_count": 17,
   "metadata": {},
   "outputs": [
    {
     "name": "stdout",
     "output_type": "stream",
     "text": [
      "N Estimators :  [15 23 31 39 47]\n",
      "Max Features :  [2 4 5 6 8]\n",
      "Min Samples Leaf [0.2, 0.3, 0.4, 0.5, 1]\n"
     ]
    }
   ],
   "source": [
    "square_root_sample = np.sqrt(X.shape[0])\n",
    "n_estimators = np.linspace( square_root_sample - (square_root_sample/2),square_root_sample + (square_root_sample/2),num=5,dtype=np.int32)\n",
    "square_root_feature = np.sqrt(X.shape[1])\n",
    "max_features = np.linspace( square_root_feature - (square_root_feature/2),square_root_feature + (square_root_feature/2),num=5,dtype=np.int32)\n",
    "#samples_per_class = X.shape[0] / len(np.unique(Y))\n",
    "#min_samples_leaf = np.linspace(samples_per_class-(samples_per_class/2), samples_per_class+(samples_per_class/2), num=5, dtype=np.int32)\n",
    "min_samples_leaf = [0.2,0.3,0.4,0.5,1]\n",
    "print('N Estimators : ',n_estimators)\n",
    "print('Max Features : ',max_features)\n",
    "print('Min Samples Leaf',min_samples_leaf)"
   ]
  },
  {
   "cell_type": "code",
   "execution_count": 18,
   "metadata": {},
   "outputs": [
    {
     "name": "stdout",
     "output_type": "stream",
     "text": [
      "Fitting 2 folds for each of 250 candidates, totalling 500 fits\n"
     ]
    },
    {
     "name": "stderr",
     "output_type": "stream",
     "text": [
      "[Parallel(n_jobs=1)]: Using backend SequentialBackend with 1 concurrent workers.\n",
      "[Parallel(n_jobs=1)]: Done 500 out of 500 | elapsed:   23.4s finished\n"
     ]
    },
    {
     "data": {
      "text/plain": [
       "GridSearchCV(cv=2, error_score='raise-deprecating',\n",
       "       estimator=RandomForestClassifier(bootstrap=True, class_weight=None, criterion='gini',\n",
       "            max_depth=None, max_features='auto', max_leaf_nodes=None,\n",
       "            min_impurity_decrease=0.0, min_impurity_split=None,\n",
       "            min_samples_leaf=1, min_samples_split=2,\n",
       "            min_weight_fraction_leaf=0.0, n_estimators='warn', n_jobs=None,\n",
       "            oob_score=False, random_state=None, verbose=0,\n",
       "            warm_start=False),\n",
       "       fit_params=None, iid='warn', n_jobs=None,\n",
       "       param_grid={'n_estimators': array([15, 23, 31, 39, 47], dtype=int32), 'max_features': array([2, 4, 5, 6, 8], dtype=int32), 'min_samples_leaf': [0.2, 0.3, 0.4, 0.5, 1], 'bootstrap': [True, False]},\n",
       "       pre_dispatch='2*n_jobs', refit=True, return_train_score='warn',\n",
       "       scoring=None, verbose=1)"
      ]
     },
     "execution_count": 18,
     "metadata": {},
     "output_type": "execute_result"
    }
   ],
   "source": [
    "param_grid = {'n_estimators': n_estimators, 'max_features': max_features, 'min_samples_leaf': min_samples_leaf, 'bootstrap':[True,False]}\n",
    "grid_rf = GridSearchCV(RandomForestClassifier(), param_grid=param_grid, cv=2, verbose=1)\n",
    "grid_rf.fit(X, Y)"
   ]
  },
  {
   "cell_type": "code",
   "execution_count": 19,
   "metadata": {},
   "outputs": [
    {
     "name": "stdout",
     "output_type": "stream",
     "text": [
      "0.966\n"
     ]
    }
   ],
   "source": [
    "print(grid_rf.best_score_)"
   ]
  },
  {
   "cell_type": "code",
   "execution_count": 20,
   "metadata": {},
   "outputs": [
    {
     "name": "stdout",
     "output_type": "stream",
     "text": [
      "{'bootstrap': False, 'max_features': 5, 'min_samples_leaf': 1, 'n_estimators': 31}\n"
     ]
    }
   ],
   "source": [
    "print(grid_rf.best_params_)"
   ]
  },
  {
   "cell_type": "code",
   "execution_count": 21,
   "metadata": {},
   "outputs": [
    {
     "data": {
      "text/html": [
       "<div>\n",
       "<style scoped>\n",
       "    .dataframe tbody tr th:only-of-type {\n",
       "        vertical-align: middle;\n",
       "    }\n",
       "\n",
       "    .dataframe tbody tr th {\n",
       "        vertical-align: top;\n",
       "    }\n",
       "\n",
       "    .dataframe thead th {\n",
       "        text-align: right;\n",
       "    }\n",
       "</style>\n",
       "<table border=\"1\" class=\"dataframe\">\n",
       "  <thead>\n",
       "    <tr style=\"text-align: right;\">\n",
       "      <th></th>\n",
       "      <th>param_n_estimators</th>\n",
       "      <th>param_max_features</th>\n",
       "      <th>param_bootstrap</th>\n",
       "      <th>param_min_samples_leaf</th>\n",
       "      <th>mean_train_score</th>\n",
       "      <th>mean_test_score</th>\n",
       "    </tr>\n",
       "  </thead>\n",
       "  <tbody>\n",
       "    <tr>\n",
       "      <th>0</th>\n",
       "      <td>15</td>\n",
       "      <td>2</td>\n",
       "      <td>True</td>\n",
       "      <td>0.2</td>\n",
       "      <td>0.753</td>\n",
       "      <td>0.703</td>\n",
       "    </tr>\n",
       "    <tr>\n",
       "      <th>1</th>\n",
       "      <td>23</td>\n",
       "      <td>2</td>\n",
       "      <td>True</td>\n",
       "      <td>0.2</td>\n",
       "      <td>0.817</td>\n",
       "      <td>0.787</td>\n",
       "    </tr>\n",
       "    <tr>\n",
       "      <th>2</th>\n",
       "      <td>31</td>\n",
       "      <td>2</td>\n",
       "      <td>True</td>\n",
       "      <td>0.2</td>\n",
       "      <td>0.944</td>\n",
       "      <td>0.944</td>\n",
       "    </tr>\n",
       "    <tr>\n",
       "      <th>3</th>\n",
       "      <td>39</td>\n",
       "      <td>2</td>\n",
       "      <td>True</td>\n",
       "      <td>0.2</td>\n",
       "      <td>0.864</td>\n",
       "      <td>0.836</td>\n",
       "    </tr>\n",
       "    <tr>\n",
       "      <th>4</th>\n",
       "      <td>47</td>\n",
       "      <td>2</td>\n",
       "      <td>True</td>\n",
       "      <td>0.2</td>\n",
       "      <td>0.915</td>\n",
       "      <td>0.922</td>\n",
       "    </tr>\n",
       "    <tr>\n",
       "      <th>5</th>\n",
       "      <td>15</td>\n",
       "      <td>2</td>\n",
       "      <td>True</td>\n",
       "      <td>0.3</td>\n",
       "      <td>0.650</td>\n",
       "      <td>0.635</td>\n",
       "    </tr>\n",
       "    <tr>\n",
       "      <th>6</th>\n",
       "      <td>23</td>\n",
       "      <td>2</td>\n",
       "      <td>True</td>\n",
       "      <td>0.3</td>\n",
       "      <td>0.783</td>\n",
       "      <td>0.786</td>\n",
       "    </tr>\n",
       "    <tr>\n",
       "      <th>7</th>\n",
       "      <td>31</td>\n",
       "      <td>2</td>\n",
       "      <td>True</td>\n",
       "      <td>0.3</td>\n",
       "      <td>0.854</td>\n",
       "      <td>0.840</td>\n",
       "    </tr>\n",
       "    <tr>\n",
       "      <th>8</th>\n",
       "      <td>39</td>\n",
       "      <td>2</td>\n",
       "      <td>True</td>\n",
       "      <td>0.3</td>\n",
       "      <td>0.797</td>\n",
       "      <td>0.766</td>\n",
       "    </tr>\n",
       "    <tr>\n",
       "      <th>9</th>\n",
       "      <td>47</td>\n",
       "      <td>2</td>\n",
       "      <td>True</td>\n",
       "      <td>0.3</td>\n",
       "      <td>0.862</td>\n",
       "      <td>0.848</td>\n",
       "    </tr>\n",
       "    <tr>\n",
       "      <th>10</th>\n",
       "      <td>15</td>\n",
       "      <td>2</td>\n",
       "      <td>True</td>\n",
       "      <td>0.4</td>\n",
       "      <td>0.502</td>\n",
       "      <td>0.502</td>\n",
       "    </tr>\n",
       "    <tr>\n",
       "      <th>11</th>\n",
       "      <td>23</td>\n",
       "      <td>2</td>\n",
       "      <td>True</td>\n",
       "      <td>0.4</td>\n",
       "      <td>0.502</td>\n",
       "      <td>0.502</td>\n",
       "    </tr>\n",
       "    <tr>\n",
       "      <th>12</th>\n",
       "      <td>31</td>\n",
       "      <td>2</td>\n",
       "      <td>True</td>\n",
       "      <td>0.4</td>\n",
       "      <td>0.500</td>\n",
       "      <td>0.500</td>\n",
       "    </tr>\n",
       "    <tr>\n",
       "      <th>13</th>\n",
       "      <td>39</td>\n",
       "      <td>2</td>\n",
       "      <td>True</td>\n",
       "      <td>0.4</td>\n",
       "      <td>0.502</td>\n",
       "      <td>0.502</td>\n",
       "    </tr>\n",
       "    <tr>\n",
       "      <th>14</th>\n",
       "      <td>47</td>\n",
       "      <td>2</td>\n",
       "      <td>True</td>\n",
       "      <td>0.4</td>\n",
       "      <td>0.502</td>\n",
       "      <td>0.502</td>\n",
       "    </tr>\n",
       "    <tr>\n",
       "      <th>15</th>\n",
       "      <td>15</td>\n",
       "      <td>2</td>\n",
       "      <td>True</td>\n",
       "      <td>0.5</td>\n",
       "      <td>0.502</td>\n",
       "      <td>0.502</td>\n",
       "    </tr>\n",
       "    <tr>\n",
       "      <th>16</th>\n",
       "      <td>23</td>\n",
       "      <td>2</td>\n",
       "      <td>True</td>\n",
       "      <td>0.5</td>\n",
       "      <td>0.502</td>\n",
       "      <td>0.502</td>\n",
       "    </tr>\n",
       "    <tr>\n",
       "      <th>17</th>\n",
       "      <td>31</td>\n",
       "      <td>2</td>\n",
       "      <td>True</td>\n",
       "      <td>0.5</td>\n",
       "      <td>0.502</td>\n",
       "      <td>0.502</td>\n",
       "    </tr>\n",
       "    <tr>\n",
       "      <th>18</th>\n",
       "      <td>39</td>\n",
       "      <td>2</td>\n",
       "      <td>True</td>\n",
       "      <td>0.5</td>\n",
       "      <td>0.502</td>\n",
       "      <td>0.502</td>\n",
       "    </tr>\n",
       "    <tr>\n",
       "      <th>19</th>\n",
       "      <td>47</td>\n",
       "      <td>2</td>\n",
       "      <td>True</td>\n",
       "      <td>0.5</td>\n",
       "      <td>0.500</td>\n",
       "      <td>0.500</td>\n",
       "    </tr>\n",
       "    <tr>\n",
       "      <th>20</th>\n",
       "      <td>15</td>\n",
       "      <td>2</td>\n",
       "      <td>True</td>\n",
       "      <td>1</td>\n",
       "      <td>1.000</td>\n",
       "      <td>0.903</td>\n",
       "    </tr>\n",
       "    <tr>\n",
       "      <th>21</th>\n",
       "      <td>23</td>\n",
       "      <td>2</td>\n",
       "      <td>True</td>\n",
       "      <td>1</td>\n",
       "      <td>1.000</td>\n",
       "      <td>0.945</td>\n",
       "    </tr>\n",
       "    <tr>\n",
       "      <th>22</th>\n",
       "      <td>31</td>\n",
       "      <td>2</td>\n",
       "      <td>True</td>\n",
       "      <td>1</td>\n",
       "      <td>1.000</td>\n",
       "      <td>0.933</td>\n",
       "    </tr>\n",
       "    <tr>\n",
       "      <th>23</th>\n",
       "      <td>39</td>\n",
       "      <td>2</td>\n",
       "      <td>True</td>\n",
       "      <td>1</td>\n",
       "      <td>1.000</td>\n",
       "      <td>0.941</td>\n",
       "    </tr>\n",
       "    <tr>\n",
       "      <th>24</th>\n",
       "      <td>47</td>\n",
       "      <td>2</td>\n",
       "      <td>True</td>\n",
       "      <td>1</td>\n",
       "      <td>1.000</td>\n",
       "      <td>0.946</td>\n",
       "    </tr>\n",
       "    <tr>\n",
       "      <th>25</th>\n",
       "      <td>15</td>\n",
       "      <td>4</td>\n",
       "      <td>True</td>\n",
       "      <td>0.2</td>\n",
       "      <td>0.941</td>\n",
       "      <td>0.938</td>\n",
       "    </tr>\n",
       "    <tr>\n",
       "      <th>26</th>\n",
       "      <td>23</td>\n",
       "      <td>4</td>\n",
       "      <td>True</td>\n",
       "      <td>0.2</td>\n",
       "      <td>0.928</td>\n",
       "      <td>0.927</td>\n",
       "    </tr>\n",
       "    <tr>\n",
       "      <th>27</th>\n",
       "      <td>31</td>\n",
       "      <td>4</td>\n",
       "      <td>True</td>\n",
       "      <td>0.2</td>\n",
       "      <td>0.943</td>\n",
       "      <td>0.933</td>\n",
       "    </tr>\n",
       "    <tr>\n",
       "      <th>28</th>\n",
       "      <td>39</td>\n",
       "      <td>4</td>\n",
       "      <td>True</td>\n",
       "      <td>0.2</td>\n",
       "      <td>0.911</td>\n",
       "      <td>0.886</td>\n",
       "    </tr>\n",
       "    <tr>\n",
       "      <th>29</th>\n",
       "      <td>47</td>\n",
       "      <td>4</td>\n",
       "      <td>True</td>\n",
       "      <td>0.2</td>\n",
       "      <td>0.924</td>\n",
       "      <td>0.916</td>\n",
       "    </tr>\n",
       "    <tr>\n",
       "      <th>...</th>\n",
       "      <td>...</td>\n",
       "      <td>...</td>\n",
       "      <td>...</td>\n",
       "      <td>...</td>\n",
       "      <td>...</td>\n",
       "      <td>...</td>\n",
       "    </tr>\n",
       "    <tr>\n",
       "      <th>220</th>\n",
       "      <td>15</td>\n",
       "      <td>6</td>\n",
       "      <td>False</td>\n",
       "      <td>1</td>\n",
       "      <td>1.000</td>\n",
       "      <td>0.961</td>\n",
       "    </tr>\n",
       "    <tr>\n",
       "      <th>221</th>\n",
       "      <td>23</td>\n",
       "      <td>6</td>\n",
       "      <td>False</td>\n",
       "      <td>1</td>\n",
       "      <td>1.000</td>\n",
       "      <td>0.957</td>\n",
       "    </tr>\n",
       "    <tr>\n",
       "      <th>222</th>\n",
       "      <td>31</td>\n",
       "      <td>6</td>\n",
       "      <td>False</td>\n",
       "      <td>1</td>\n",
       "      <td>1.000</td>\n",
       "      <td>0.959</td>\n",
       "    </tr>\n",
       "    <tr>\n",
       "      <th>223</th>\n",
       "      <td>39</td>\n",
       "      <td>6</td>\n",
       "      <td>False</td>\n",
       "      <td>1</td>\n",
       "      <td>1.000</td>\n",
       "      <td>0.962</td>\n",
       "    </tr>\n",
       "    <tr>\n",
       "      <th>224</th>\n",
       "      <td>47</td>\n",
       "      <td>6</td>\n",
       "      <td>False</td>\n",
       "      <td>1</td>\n",
       "      <td>1.000</td>\n",
       "      <td>0.965</td>\n",
       "    </tr>\n",
       "    <tr>\n",
       "      <th>225</th>\n",
       "      <td>15</td>\n",
       "      <td>8</td>\n",
       "      <td>False</td>\n",
       "      <td>0.2</td>\n",
       "      <td>0.956</td>\n",
       "      <td>0.953</td>\n",
       "    </tr>\n",
       "    <tr>\n",
       "      <th>226</th>\n",
       "      <td>23</td>\n",
       "      <td>8</td>\n",
       "      <td>False</td>\n",
       "      <td>0.2</td>\n",
       "      <td>0.953</td>\n",
       "      <td>0.947</td>\n",
       "    </tr>\n",
       "    <tr>\n",
       "      <th>227</th>\n",
       "      <td>31</td>\n",
       "      <td>8</td>\n",
       "      <td>False</td>\n",
       "      <td>0.2</td>\n",
       "      <td>0.954</td>\n",
       "      <td>0.946</td>\n",
       "    </tr>\n",
       "    <tr>\n",
       "      <th>228</th>\n",
       "      <td>39</td>\n",
       "      <td>8</td>\n",
       "      <td>False</td>\n",
       "      <td>0.2</td>\n",
       "      <td>0.955</td>\n",
       "      <td>0.950</td>\n",
       "    </tr>\n",
       "    <tr>\n",
       "      <th>229</th>\n",
       "      <td>47</td>\n",
       "      <td>8</td>\n",
       "      <td>False</td>\n",
       "      <td>0.2</td>\n",
       "      <td>0.953</td>\n",
       "      <td>0.948</td>\n",
       "    </tr>\n",
       "    <tr>\n",
       "      <th>230</th>\n",
       "      <td>15</td>\n",
       "      <td>8</td>\n",
       "      <td>False</td>\n",
       "      <td>0.3</td>\n",
       "      <td>0.903</td>\n",
       "      <td>0.886</td>\n",
       "    </tr>\n",
       "    <tr>\n",
       "      <th>231</th>\n",
       "      <td>23</td>\n",
       "      <td>8</td>\n",
       "      <td>False</td>\n",
       "      <td>0.3</td>\n",
       "      <td>0.953</td>\n",
       "      <td>0.949</td>\n",
       "    </tr>\n",
       "    <tr>\n",
       "      <th>232</th>\n",
       "      <td>31</td>\n",
       "      <td>8</td>\n",
       "      <td>False</td>\n",
       "      <td>0.3</td>\n",
       "      <td>0.882</td>\n",
       "      <td>0.865</td>\n",
       "    </tr>\n",
       "    <tr>\n",
       "      <th>233</th>\n",
       "      <td>39</td>\n",
       "      <td>8</td>\n",
       "      <td>False</td>\n",
       "      <td>0.3</td>\n",
       "      <td>0.953</td>\n",
       "      <td>0.949</td>\n",
       "    </tr>\n",
       "    <tr>\n",
       "      <th>234</th>\n",
       "      <td>47</td>\n",
       "      <td>8</td>\n",
       "      <td>False</td>\n",
       "      <td>0.3</td>\n",
       "      <td>0.939</td>\n",
       "      <td>0.937</td>\n",
       "    </tr>\n",
       "    <tr>\n",
       "      <th>235</th>\n",
       "      <td>15</td>\n",
       "      <td>8</td>\n",
       "      <td>False</td>\n",
       "      <td>0.4</td>\n",
       "      <td>0.794</td>\n",
       "      <td>0.783</td>\n",
       "    </tr>\n",
       "    <tr>\n",
       "      <th>236</th>\n",
       "      <td>23</td>\n",
       "      <td>8</td>\n",
       "      <td>False</td>\n",
       "      <td>0.4</td>\n",
       "      <td>0.953</td>\n",
       "      <td>0.949</td>\n",
       "    </tr>\n",
       "    <tr>\n",
       "      <th>237</th>\n",
       "      <td>31</td>\n",
       "      <td>8</td>\n",
       "      <td>False</td>\n",
       "      <td>0.4</td>\n",
       "      <td>0.942</td>\n",
       "      <td>0.928</td>\n",
       "    </tr>\n",
       "    <tr>\n",
       "      <th>238</th>\n",
       "      <td>39</td>\n",
       "      <td>8</td>\n",
       "      <td>False</td>\n",
       "      <td>0.4</td>\n",
       "      <td>0.816</td>\n",
       "      <td>0.810</td>\n",
       "    </tr>\n",
       "    <tr>\n",
       "      <th>239</th>\n",
       "      <td>47</td>\n",
       "      <td>8</td>\n",
       "      <td>False</td>\n",
       "      <td>0.4</td>\n",
       "      <td>0.907</td>\n",
       "      <td>0.884</td>\n",
       "    </tr>\n",
       "    <tr>\n",
       "      <th>240</th>\n",
       "      <td>15</td>\n",
       "      <td>8</td>\n",
       "      <td>False</td>\n",
       "      <td>0.5</td>\n",
       "      <td>0.848</td>\n",
       "      <td>0.860</td>\n",
       "    </tr>\n",
       "    <tr>\n",
       "      <th>241</th>\n",
       "      <td>23</td>\n",
       "      <td>8</td>\n",
       "      <td>False</td>\n",
       "      <td>0.5</td>\n",
       "      <td>0.950</td>\n",
       "      <td>0.948</td>\n",
       "    </tr>\n",
       "    <tr>\n",
       "      <th>242</th>\n",
       "      <td>31</td>\n",
       "      <td>8</td>\n",
       "      <td>False</td>\n",
       "      <td>0.5</td>\n",
       "      <td>0.950</td>\n",
       "      <td>0.948</td>\n",
       "    </tr>\n",
       "    <tr>\n",
       "      <th>243</th>\n",
       "      <td>39</td>\n",
       "      <td>8</td>\n",
       "      <td>False</td>\n",
       "      <td>0.5</td>\n",
       "      <td>0.864</td>\n",
       "      <td>0.849</td>\n",
       "    </tr>\n",
       "    <tr>\n",
       "      <th>244</th>\n",
       "      <td>47</td>\n",
       "      <td>8</td>\n",
       "      <td>False</td>\n",
       "      <td>0.5</td>\n",
       "      <td>0.950</td>\n",
       "      <td>0.948</td>\n",
       "    </tr>\n",
       "    <tr>\n",
       "      <th>245</th>\n",
       "      <td>15</td>\n",
       "      <td>8</td>\n",
       "      <td>False</td>\n",
       "      <td>1</td>\n",
       "      <td>1.000</td>\n",
       "      <td>0.961</td>\n",
       "    </tr>\n",
       "    <tr>\n",
       "      <th>246</th>\n",
       "      <td>23</td>\n",
       "      <td>8</td>\n",
       "      <td>False</td>\n",
       "      <td>1</td>\n",
       "      <td>1.000</td>\n",
       "      <td>0.965</td>\n",
       "    </tr>\n",
       "    <tr>\n",
       "      <th>247</th>\n",
       "      <td>31</td>\n",
       "      <td>8</td>\n",
       "      <td>False</td>\n",
       "      <td>1</td>\n",
       "      <td>1.000</td>\n",
       "      <td>0.965</td>\n",
       "    </tr>\n",
       "    <tr>\n",
       "      <th>248</th>\n",
       "      <td>39</td>\n",
       "      <td>8</td>\n",
       "      <td>False</td>\n",
       "      <td>1</td>\n",
       "      <td>1.000</td>\n",
       "      <td>0.964</td>\n",
       "    </tr>\n",
       "    <tr>\n",
       "      <th>249</th>\n",
       "      <td>47</td>\n",
       "      <td>8</td>\n",
       "      <td>False</td>\n",
       "      <td>1</td>\n",
       "      <td>1.000</td>\n",
       "      <td>0.965</td>\n",
       "    </tr>\n",
       "  </tbody>\n",
       "</table>\n",
       "<p>250 rows × 6 columns</p>\n",
       "</div>"
      ],
      "text/plain": [
       "    param_n_estimators       ...       mean_test_score\n",
       "0                   15       ...                 0.703\n",
       "1                   23       ...                 0.787\n",
       "2                   31       ...                 0.944\n",
       "3                   39       ...                 0.836\n",
       "4                   47       ...                 0.922\n",
       "5                   15       ...                 0.635\n",
       "6                   23       ...                 0.786\n",
       "7                   31       ...                 0.840\n",
       "8                   39       ...                 0.766\n",
       "9                   47       ...                 0.848\n",
       "10                  15       ...                 0.502\n",
       "11                  23       ...                 0.502\n",
       "12                  31       ...                 0.500\n",
       "13                  39       ...                 0.502\n",
       "14                  47       ...                 0.502\n",
       "15                  15       ...                 0.502\n",
       "16                  23       ...                 0.502\n",
       "17                  31       ...                 0.502\n",
       "18                  39       ...                 0.502\n",
       "19                  47       ...                 0.500\n",
       "20                  15       ...                 0.903\n",
       "21                  23       ...                 0.945\n",
       "22                  31       ...                 0.933\n",
       "23                  39       ...                 0.941\n",
       "24                  47       ...                 0.946\n",
       "25                  15       ...                 0.938\n",
       "26                  23       ...                 0.927\n",
       "27                  31       ...                 0.933\n",
       "28                  39       ...                 0.886\n",
       "29                  47       ...                 0.916\n",
       "..                 ...       ...                   ...\n",
       "220                 15       ...                 0.961\n",
       "221                 23       ...                 0.957\n",
       "222                 31       ...                 0.959\n",
       "223                 39       ...                 0.962\n",
       "224                 47       ...                 0.965\n",
       "225                 15       ...                 0.953\n",
       "226                 23       ...                 0.947\n",
       "227                 31       ...                 0.946\n",
       "228                 39       ...                 0.950\n",
       "229                 47       ...                 0.948\n",
       "230                 15       ...                 0.886\n",
       "231                 23       ...                 0.949\n",
       "232                 31       ...                 0.865\n",
       "233                 39       ...                 0.949\n",
       "234                 47       ...                 0.937\n",
       "235                 15       ...                 0.783\n",
       "236                 23       ...                 0.949\n",
       "237                 31       ...                 0.928\n",
       "238                 39       ...                 0.810\n",
       "239                 47       ...                 0.884\n",
       "240                 15       ...                 0.860\n",
       "241                 23       ...                 0.948\n",
       "242                 31       ...                 0.948\n",
       "243                 39       ...                 0.849\n",
       "244                 47       ...                 0.948\n",
       "245                 15       ...                 0.961\n",
       "246                 23       ...                 0.965\n",
       "247                 31       ...                 0.965\n",
       "248                 39       ...                 0.964\n",
       "249                 47       ...                 0.965\n",
       "\n",
       "[250 rows x 6 columns]"
      ]
     },
     "execution_count": 21,
     "metadata": {},
     "output_type": "execute_result"
    }
   ],
   "source": [
    "cv_results = pd.DataFrame(grid_rf.cv_results_)\n",
    "cv_results[['param_n_estimators','param_max_features', 'param_bootstrap','param_min_samples_leaf','mean_train_score','mean_test_score']]"
   ]
  },
  {
   "cell_type": "markdown",
   "metadata": {},
   "source": [
    "### 2d: Answer the following True/False questions, providing one sentence of explanation for each one:\n",
    "* 2d(i): When used for binary classification, RandomForests (RFs) can provide an estimate of the probability that a given feature vector 𝑥 𝑖 will have a positive label: **True. RandomForestClassifier in scikit-learn provides `predict_proba()` which can return probability of results.It has 2 probabilities for each sample. Probability of result being positive and probabilitiy of result being negative.**\n",
    "* 2d(ii): With bootstrap aggregating enabled, random forests will almost always severely overfit the training data if the number of trees used (e.g. the n_estimators) is very large (say, over 500): **False. It depends on number of features present in dataset. If n_estimators is larger than number of features in dataset then it'll surely overfit data.**\n",
    "* 2d(iii): When fitting random forests, it is generally a good idea to allow each node of each tree to consider as many features as possible (e.g. max_features should be large) : **False. It'll result in overfitting of training data and will not generalize well.**\n",
    "* 2d(iv): Random forests only use randomness when creating many similar datasets via BAgging. No other step of the algorithm uses randomness : **False. Random forest uses random subset of features from all features at each possible split during learning process.**"
   ]
  },
  {
   "cell_type": "code",
   "execution_count": 22,
   "metadata": {},
   "outputs": [
    {
     "data": {
      "text/plain": [
       "(0.99375, 0.965)"
      ]
     },
     "execution_count": 22,
     "metadata": {},
     "output_type": "execute_result"
    }
   ],
   "source": [
    "random_forest_classifier = RandomForestClassifier()\n",
    "random_forest_classifier.fit(X_train, Y_train)\n",
    "random_forest_classifier.score(X_train, Y_train),random_forest_classifier.score(X_test, Y_test)"
   ]
  },
  {
   "cell_type": "markdown",
   "metadata": {},
   "source": [
    "### 3: ROC Curves Again\n",
    "ROC curves are commonly used in binary classifiers that produce probabilities. Here's a quick summary:\n",
    "\n",
    "Given any dataset's true binary labels and the model's predicted probabilities\n",
    "for each example , we can draw a ROC curve to characterize the performance of\n",
    "the model at all possible decision thresholds. Each point on the ROC curve gives the TPR\n",
    "(true positive rate) and FPR (false positive rate) at one specific threshold 𝜏τ used to create\n",
    "binary predictions at each example 𝑖 :\n",
    "* 3a: Can we apply ROC curves to binary classifiers that cannot easily produce probabilities but produce some real-valued scores for each example? How would we select the range of thresholds to evaluate? : **Yes, We can apply ROC Curves to binary classifiers that can not produce probabilities. We can start with some initial guess by analysing some positive/negative samples. We then move in both direction of that initial guess of threshold and try various thresholds (say for example if we guessed initial threshold as 5 then we should try threshold values like [1, 3, 5, 7, 9]). We can try different parameters and find out TPR and FPR for various threshold values and then plot TPR vs FPR(ROC). After plotting ROC curve, we select setting of threshold where plot of TPR vs FPR sits quite above TPR=FPR line and covers much of area of graph. More the area it cover better the accuracy. Ideally we should select threshold with maximal sum of True Positives and False Negatives**\n",
    "* 3b: Suppose you fit a classifier to data, and you observe a TPR of 0.3 and an FPR of 0.7. Your friend says that this is worse than a random classifier (if plotted on an ROC curve, would fall below the TPR=FPR diagonal line), and so you should throw this result away. Is there anything better you can do? Describe how to transform the predicted binary labels to reach better performance. What TPR and FPR would you expect to achieve? : **Yes. TPR of 0.3 and FPR of 0.7 will result on ROC curve below TPR=FPR diagonal line. If it falls above that line than it's better decision results. This will result in quite less accuracy of around 20-30% which is quite less than average 50%. We need to work towards increasing TPR and decreasing FPR. Currently our model is predicting most True as False and most False as True. One way to achieve best result with TPR - 0.3 and FPR - 0.7 is to flip results of current prediction. It means we need to predict False as True and True as False. This way model will perform best as now it'll be above TPR=FPR line. It's like you took mirror image of TPR-0.3 & FPR-0.7 based on line TPR=FPR.**"
   ]
  },
  {
   "cell_type": "code",
   "execution_count": 23,
   "metadata": {},
   "outputs": [
    {
     "data": {
      "text/plain": [
       "array([0.98336634, 0.98148515, 0.9876    , 0.98313131, 0.97454545])"
      ]
     },
     "execution_count": 23,
     "metadata": {},
     "output_type": "execute_result"
    }
   ],
   "source": [
    "cross_val_score(svm.SVC(), X, Y, scoring=\"roc_auc\",cv=5)"
   ]
  },
  {
   "cell_type": "code",
   "execution_count": 24,
   "metadata": {},
   "outputs": [
    {
     "data": {
      "image/png": "[encoded data removed]",
      "text/plain": [
       "<Figure size 1440x720 with 1 Axes>"
      ]
     },
     "metadata": {},
     "output_type": "display_data"
    }
   ],
   "source": [
    "plt.figure(figsize=(20,10))\n",
    "for g in gamma:\n",
    "    for c in C:\n",
    "        plt.xlabel(\"False Positive Rate\")\n",
    "        plt.ylabel(\"True Positive Rate (recall)\")\n",
    "        svc = svm.SVC(gamma=g, C=c, kernel='rbf').fit(X_train, Y_train)\n",
    "        decision_function = svc.decision_function(X_test)\n",
    "        fpr, tpr, _ = roc_curve(Y_test, decision_function)\n",
    "        acc = svc.score(X_test, Y_test)\n",
    "        auc = roc_auc_score(Y_test, svc.decision_function(X_test))\n",
    "        plt.plot(fpr, tpr, label=\"acc:%.2f auc:%.2f gamma:%.4f C:%.4f\" % (acc, auc,g,c), linewidth=3)\n",
    "plt.legend(loc=\"best\");"
   ]
  },
  {
   "cell_type": "code",
   "execution_count": 25,
   "metadata": {},
   "outputs": [],
   "source": [
    "#random_forest_classifier.predict_proba(X)"
   ]
  },
  {
   "cell_type": "code",
   "execution_count": 26,
   "metadata": {},
   "outputs": [],
   "source": []
  },
  {
   "cell_type": "code",
   "execution_count": 26,
   "metadata": {},
   "outputs": [],
   "source": []
  }
 ],
 "metadata": {
  "kernelspec": {
   "display_name": "Python 3",
   "language": "python",
   "name": "python3"
  },
  "language_info": {
   "codemirror_mode": {
    "name": "ipython",
    "version": 3
   },
   "file_extension": ".py",
   "mimetype": "text/x-python",
   "name": "python",
   "nbconvert_exporter": "python",
   "pygments_lexer": "ipython3",
   "version": "3.7.2"
  }
 },
 "nbformat": 4,
 "nbformat_minor": 1
}
