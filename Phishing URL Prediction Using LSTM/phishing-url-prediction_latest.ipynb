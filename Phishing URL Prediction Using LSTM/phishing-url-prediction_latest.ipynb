{
 "cells": [
  {
   "cell_type": "markdown",
   "metadata": {},
   "source": [
    "# Introduction\n",
    "We have recieved dataset containing information phishing URLs. Dataset contains list of URLs, URL has SSL, URL allows SQL injection, URL have cert ver, URL allows inp val and whether URL is UNSAFE or not. We'll be dividing dataset into train, validation and test sets. Train set will be used for training and validation set for validation of trained model. We'll then use test set for testing once whole model has completed training.\n",
    "\n",
    "We'll be trying LSTM and Dense Net for our purpose. We'll first tokenize data using various stratgies like count vectorizer, tfidf, frequency of words etc. We also have used first layer as embedding layer for our LSTM model to create embedding for words."
   ]
  },
  {
   "cell_type": "code",
   "execution_count": 1,
   "metadata": {
    "_cell_guid": "b1076dfc-b9ad-4769-8c92-a6c4dae69d19",
    "_uuid": "8f2839f25d086af736a60e9eeb907d3b93b6e0e5"
   },
   "outputs": [
    {
     "name": "stderr",
     "output_type": "stream",
     "text": [
      "Using TensorFlow backend.\n"
     ]
    }
   ],
   "source": [
    "import numpy as np # linear algebra\n",
    "import pandas as pd # data processing, CSV file I/O (e.g. pd.read_csv)\n",
    "from PIL import Image ## Library for loading images\n",
    "\n",
    "import keras\n",
    "from keras.models import Sequential\n",
    "from keras.layers import Dense, LSTM\n",
    "from keras.utils import plot_model\n",
    "\n",
    "import sklearn\n",
    "from sklearn.model_selection import train_test_split\n",
    "from sklearn.metrics import accuracy_score"
   ]
  },
  {
   "cell_type": "markdown",
   "metadata": {},
   "source": [
    "# Loading & Cleaning Data\n",
    "We have loaded data in pandas dataframe and then we remove all rows which has any NAN to avoid issues during training."
   ]
  },
  {
   "cell_type": "code",
   "execution_count": 2,
   "metadata": {
    "_cell_guid": "79c7e3d0-c299-4dcb-8224-4455121ee9b0",
    "_uuid": "d629ff2d2480ee46fbb7e2d37f6b5fab8052498a"
   },
   "outputs": [
    {
     "name": "stdout",
     "output_type": "stream",
     "text": [
      "(10000, 50)\n"
     ]
    },
    {
     "data": {
      "text/html": [
       "<div>\n",
       "<style scoped>\n",
       "    .dataframe tbody tr th:only-of-type {\n",
       "        vertical-align: middle;\n",
       "    }\n",
       "\n",
       "    .dataframe tbody tr th {\n",
       "        vertical-align: top;\n",
       "    }\n",
       "\n",
       "    .dataframe thead th {\n",
       "        text-align: right;\n",
       "    }\n",
       "</style>\n",
       "<table border=\"1\" class=\"dataframe\">\n",
       "  <thead>\n",
       "    <tr style=\"text-align: right;\">\n",
       "      <th></th>\n",
       "      <th>id</th>\n",
       "      <th>NumDots</th>\n",
       "      <th>SubdomainLevel</th>\n",
       "      <th>PathLevel</th>\n",
       "      <th>UrlLength</th>\n",
       "      <th>NumDash</th>\n",
       "      <th>NumDashInHostname</th>\n",
       "      <th>AtSymbol</th>\n",
       "      <th>TildeSymbol</th>\n",
       "      <th>NumUnderscore</th>\n",
       "      <th>...</th>\n",
       "      <th>IframeOrFrame</th>\n",
       "      <th>MissingTitle</th>\n",
       "      <th>ImagesOnlyInForm</th>\n",
       "      <th>SubdomainLevelRT</th>\n",
       "      <th>UrlLengthRT</th>\n",
       "      <th>PctExtResourceUrlsRT</th>\n",
       "      <th>AbnormalExtFormActionR</th>\n",
       "      <th>ExtMetaScriptLinkRT</th>\n",
       "      <th>PctExtNullSelfRedirectHyperlinksRT</th>\n",
       "      <th>CLASS_LABEL</th>\n",
       "    </tr>\n",
       "  </thead>\n",
       "  <tbody>\n",
       "    <tr>\n",
       "      <td>0</td>\n",
       "      <td>1</td>\n",
       "      <td>3</td>\n",
       "      <td>1</td>\n",
       "      <td>5</td>\n",
       "      <td>72</td>\n",
       "      <td>0</td>\n",
       "      <td>0</td>\n",
       "      <td>0</td>\n",
       "      <td>0</td>\n",
       "      <td>0</td>\n",
       "      <td>...</td>\n",
       "      <td>0</td>\n",
       "      <td>0</td>\n",
       "      <td>1</td>\n",
       "      <td>1</td>\n",
       "      <td>0</td>\n",
       "      <td>1</td>\n",
       "      <td>1</td>\n",
       "      <td>-1</td>\n",
       "      <td>1</td>\n",
       "      <td>1</td>\n",
       "    </tr>\n",
       "    <tr>\n",
       "      <td>1</td>\n",
       "      <td>2</td>\n",
       "      <td>3</td>\n",
       "      <td>1</td>\n",
       "      <td>3</td>\n",
       "      <td>144</td>\n",
       "      <td>0</td>\n",
       "      <td>0</td>\n",
       "      <td>0</td>\n",
       "      <td>0</td>\n",
       "      <td>2</td>\n",
       "      <td>...</td>\n",
       "      <td>0</td>\n",
       "      <td>0</td>\n",
       "      <td>0</td>\n",
       "      <td>1</td>\n",
       "      <td>-1</td>\n",
       "      <td>1</td>\n",
       "      <td>1</td>\n",
       "      <td>1</td>\n",
       "      <td>1</td>\n",
       "      <td>1</td>\n",
       "    </tr>\n",
       "    <tr>\n",
       "      <td>2</td>\n",
       "      <td>3</td>\n",
       "      <td>3</td>\n",
       "      <td>1</td>\n",
       "      <td>2</td>\n",
       "      <td>58</td>\n",
       "      <td>0</td>\n",
       "      <td>0</td>\n",
       "      <td>0</td>\n",
       "      <td>0</td>\n",
       "      <td>0</td>\n",
       "      <td>...</td>\n",
       "      <td>0</td>\n",
       "      <td>0</td>\n",
       "      <td>0</td>\n",
       "      <td>1</td>\n",
       "      <td>0</td>\n",
       "      <td>-1</td>\n",
       "      <td>1</td>\n",
       "      <td>-1</td>\n",
       "      <td>0</td>\n",
       "      <td>1</td>\n",
       "    </tr>\n",
       "    <tr>\n",
       "      <td>3</td>\n",
       "      <td>4</td>\n",
       "      <td>3</td>\n",
       "      <td>1</td>\n",
       "      <td>6</td>\n",
       "      <td>79</td>\n",
       "      <td>1</td>\n",
       "      <td>0</td>\n",
       "      <td>0</td>\n",
       "      <td>0</td>\n",
       "      <td>0</td>\n",
       "      <td>...</td>\n",
       "      <td>0</td>\n",
       "      <td>0</td>\n",
       "      <td>0</td>\n",
       "      <td>1</td>\n",
       "      <td>-1</td>\n",
       "      <td>1</td>\n",
       "      <td>1</td>\n",
       "      <td>1</td>\n",
       "      <td>-1</td>\n",
       "      <td>1</td>\n",
       "    </tr>\n",
       "    <tr>\n",
       "      <td>4</td>\n",
       "      <td>5</td>\n",
       "      <td>3</td>\n",
       "      <td>0</td>\n",
       "      <td>4</td>\n",
       "      <td>46</td>\n",
       "      <td>0</td>\n",
       "      <td>0</td>\n",
       "      <td>0</td>\n",
       "      <td>0</td>\n",
       "      <td>0</td>\n",
       "      <td>...</td>\n",
       "      <td>1</td>\n",
       "      <td>0</td>\n",
       "      <td>0</td>\n",
       "      <td>1</td>\n",
       "      <td>1</td>\n",
       "      <td>-1</td>\n",
       "      <td>0</td>\n",
       "      <td>-1</td>\n",
       "      <td>-1</td>\n",
       "      <td>1</td>\n",
       "    </tr>\n",
       "  </tbody>\n",
       "</table>\n",
       "<p>5 rows × 50 columns</p>\n",
       "</div>"
      ],
      "text/plain": [
       "   id  NumDots  SubdomainLevel  PathLevel  UrlLength  NumDash  \\\n",
       "0   1        3               1          5         72        0   \n",
       "1   2        3               1          3        144        0   \n",
       "2   3        3               1          2         58        0   \n",
       "3   4        3               1          6         79        1   \n",
       "4   5        3               0          4         46        0   \n",
       "\n",
       "   NumDashInHostname  AtSymbol  TildeSymbol  NumUnderscore  ...  \\\n",
       "0                  0         0            0              0  ...   \n",
       "1                  0         0            0              2  ...   \n",
       "2                  0         0            0              0  ...   \n",
       "3                  0         0            0              0  ...   \n",
       "4                  0         0            0              0  ...   \n",
       "\n",
       "   IframeOrFrame  MissingTitle  ImagesOnlyInForm  SubdomainLevelRT  \\\n",
       "0              0             0                 1                 1   \n",
       "1              0             0                 0                 1   \n",
       "2              0             0                 0                 1   \n",
       "3              0             0                 0                 1   \n",
       "4              1             0                 0                 1   \n",
       "\n",
       "   UrlLengthRT  PctExtResourceUrlsRT  AbnormalExtFormActionR  \\\n",
       "0            0                     1                       1   \n",
       "1           -1                     1                       1   \n",
       "2            0                    -1                       1   \n",
       "3           -1                     1                       1   \n",
       "4            1                    -1                       0   \n",
       "\n",
       "   ExtMetaScriptLinkRT  PctExtNullSelfRedirectHyperlinksRT  CLASS_LABEL  \n",
       "0                   -1                                   1            1  \n",
       "1                    1                                   1            1  \n",
       "2                   -1                                   0            1  \n",
       "3                    1                                  -1            1  \n",
       "4                   -1                                  -1            1  \n",
       "\n",
       "[5 rows x 50 columns]"
      ]
     },
     "execution_count": 2,
     "metadata": {},
     "output_type": "execute_result"
    }
   ],
   "source": [
    "df = pd.read_csv('/kaggle/input/phishing-latest/csv_result-Phishing_Legitimate_full.csv') ## Change here based on where is file on your local\n",
    "df = df.dropna() ## Here we are removing any rows which has NaNs. We can't train model with Nan values else it'll fail.\n",
    "print(df.shape)\n",
    "df.head() ## Printing first 5 columns of dataset"
   ]
  },
  {
   "cell_type": "code",
   "execution_count": 3,
   "metadata": {},
   "outputs": [
    {
     "data": {
      "text/html": [
       "<div>\n",
       "<style scoped>\n",
       "    .dataframe tbody tr th:only-of-type {\n",
       "        vertical-align: middle;\n",
       "    }\n",
       "\n",
       "    .dataframe tbody tr th {\n",
       "        vertical-align: top;\n",
       "    }\n",
       "\n",
       "    .dataframe thead th {\n",
       "        text-align: right;\n",
       "    }\n",
       "</style>\n",
       "<table border=\"1\" class=\"dataframe\">\n",
       "  <thead>\n",
       "    <tr style=\"text-align: right;\">\n",
       "      <th></th>\n",
       "      <th>id</th>\n",
       "      <th>NumDots</th>\n",
       "      <th>SubdomainLevel</th>\n",
       "      <th>PathLevel</th>\n",
       "      <th>UrlLength</th>\n",
       "      <th>NumDash</th>\n",
       "      <th>NumDashInHostname</th>\n",
       "      <th>AtSymbol</th>\n",
       "      <th>TildeSymbol</th>\n",
       "      <th>NumUnderscore</th>\n",
       "      <th>...</th>\n",
       "      <th>IframeOrFrame</th>\n",
       "      <th>MissingTitle</th>\n",
       "      <th>ImagesOnlyInForm</th>\n",
       "      <th>SubdomainLevelRT</th>\n",
       "      <th>UrlLengthRT</th>\n",
       "      <th>PctExtResourceUrlsRT</th>\n",
       "      <th>AbnormalExtFormActionR</th>\n",
       "      <th>ExtMetaScriptLinkRT</th>\n",
       "      <th>PctExtNullSelfRedirectHyperlinksRT</th>\n",
       "      <th>CLASS_LABEL</th>\n",
       "    </tr>\n",
       "  </thead>\n",
       "  <tbody>\n",
       "    <tr>\n",
       "      <td>9995</td>\n",
       "      <td>9996</td>\n",
       "      <td>3</td>\n",
       "      <td>1</td>\n",
       "      <td>1</td>\n",
       "      <td>50</td>\n",
       "      <td>0</td>\n",
       "      <td>0</td>\n",
       "      <td>0</td>\n",
       "      <td>0</td>\n",
       "      <td>0</td>\n",
       "      <td>...</td>\n",
       "      <td>0</td>\n",
       "      <td>0</td>\n",
       "      <td>0</td>\n",
       "      <td>1</td>\n",
       "      <td>1</td>\n",
       "      <td>-1</td>\n",
       "      <td>1</td>\n",
       "      <td>0</td>\n",
       "      <td>1</td>\n",
       "      <td>0</td>\n",
       "    </tr>\n",
       "    <tr>\n",
       "      <td>9996</td>\n",
       "      <td>9997</td>\n",
       "      <td>2</td>\n",
       "      <td>1</td>\n",
       "      <td>4</td>\n",
       "      <td>59</td>\n",
       "      <td>1</td>\n",
       "      <td>0</td>\n",
       "      <td>0</td>\n",
       "      <td>0</td>\n",
       "      <td>0</td>\n",
       "      <td>...</td>\n",
       "      <td>1</td>\n",
       "      <td>0</td>\n",
       "      <td>0</td>\n",
       "      <td>1</td>\n",
       "      <td>0</td>\n",
       "      <td>0</td>\n",
       "      <td>1</td>\n",
       "      <td>0</td>\n",
       "      <td>1</td>\n",
       "      <td>0</td>\n",
       "    </tr>\n",
       "    <tr>\n",
       "      <td>9997</td>\n",
       "      <td>9998</td>\n",
       "      <td>2</td>\n",
       "      <td>1</td>\n",
       "      <td>4</td>\n",
       "      <td>57</td>\n",
       "      <td>0</td>\n",
       "      <td>0</td>\n",
       "      <td>0</td>\n",
       "      <td>0</td>\n",
       "      <td>0</td>\n",
       "      <td>...</td>\n",
       "      <td>0</td>\n",
       "      <td>0</td>\n",
       "      <td>0</td>\n",
       "      <td>1</td>\n",
       "      <td>0</td>\n",
       "      <td>1</td>\n",
       "      <td>1</td>\n",
       "      <td>0</td>\n",
       "      <td>1</td>\n",
       "      <td>0</td>\n",
       "    </tr>\n",
       "    <tr>\n",
       "      <td>9998</td>\n",
       "      <td>9999</td>\n",
       "      <td>3</td>\n",
       "      <td>1</td>\n",
       "      <td>1</td>\n",
       "      <td>49</td>\n",
       "      <td>0</td>\n",
       "      <td>0</td>\n",
       "      <td>0</td>\n",
       "      <td>0</td>\n",
       "      <td>0</td>\n",
       "      <td>...</td>\n",
       "      <td>1</td>\n",
       "      <td>0</td>\n",
       "      <td>0</td>\n",
       "      <td>1</td>\n",
       "      <td>1</td>\n",
       "      <td>0</td>\n",
       "      <td>1</td>\n",
       "      <td>0</td>\n",
       "      <td>1</td>\n",
       "      <td>0</td>\n",
       "    </tr>\n",
       "    <tr>\n",
       "      <td>9999</td>\n",
       "      <td>10000</td>\n",
       "      <td>3</td>\n",
       "      <td>1</td>\n",
       "      <td>2</td>\n",
       "      <td>52</td>\n",
       "      <td>3</td>\n",
       "      <td>0</td>\n",
       "      <td>0</td>\n",
       "      <td>0</td>\n",
       "      <td>0</td>\n",
       "      <td>...</td>\n",
       "      <td>0</td>\n",
       "      <td>0</td>\n",
       "      <td>0</td>\n",
       "      <td>1</td>\n",
       "      <td>1</td>\n",
       "      <td>1</td>\n",
       "      <td>1</td>\n",
       "      <td>1</td>\n",
       "      <td>1</td>\n",
       "      <td>0</td>\n",
       "    </tr>\n",
       "  </tbody>\n",
       "</table>\n",
       "<p>5 rows × 50 columns</p>\n",
       "</div>"
      ],
      "text/plain": [
       "         id  NumDots  SubdomainLevel  PathLevel  UrlLength  NumDash  \\\n",
       "9995   9996        3               1          1         50        0   \n",
       "9996   9997        2               1          4         59        1   \n",
       "9997   9998        2               1          4         57        0   \n",
       "9998   9999        3               1          1         49        0   \n",
       "9999  10000        3               1          2         52        3   \n",
       "\n",
       "      NumDashInHostname  AtSymbol  TildeSymbol  NumUnderscore  ...  \\\n",
       "9995                  0         0            0              0  ...   \n",
       "9996                  0         0            0              0  ...   \n",
       "9997                  0         0            0              0  ...   \n",
       "9998                  0         0            0              0  ...   \n",
       "9999                  0         0            0              0  ...   \n",
       "\n",
       "      IframeOrFrame  MissingTitle  ImagesOnlyInForm  SubdomainLevelRT  \\\n",
       "9995              0             0                 0                 1   \n",
       "9996              1             0                 0                 1   \n",
       "9997              0             0                 0                 1   \n",
       "9998              1             0                 0                 1   \n",
       "9999              0             0                 0                 1   \n",
       "\n",
       "      UrlLengthRT  PctExtResourceUrlsRT  AbnormalExtFormActionR  \\\n",
       "9995            1                    -1                       1   \n",
       "9996            0                     0                       1   \n",
       "9997            0                     1                       1   \n",
       "9998            1                     0                       1   \n",
       "9999            1                     1                       1   \n",
       "\n",
       "      ExtMetaScriptLinkRT  PctExtNullSelfRedirectHyperlinksRT  CLASS_LABEL  \n",
       "9995                    0                                   1            0  \n",
       "9996                    0                                   1            0  \n",
       "9997                    0                                   1            0  \n",
       "9998                    0                                   1            0  \n",
       "9999                    1                                   1            0  \n",
       "\n",
       "[5 rows x 50 columns]"
      ]
     },
     "execution_count": 3,
     "metadata": {},
     "output_type": "execute_result"
    }
   ],
   "source": [
    "df.tail() ## Printing last 5 columns of dataset."
   ]
  },
  {
   "cell_type": "markdown",
   "metadata": {},
   "source": [
    "# Splitting Dataset into Train/Test Sets"
   ]
  },
  {
   "cell_type": "code",
   "execution_count": 4,
   "metadata": {},
   "outputs": [
    {
     "name": "stdout",
     "output_type": "stream",
     "text": [
      "Train/Test Sizes :  (8000, 48) (2000, 48) (8000, 1) (2000, 1)\n"
     ]
    }
   ],
   "source": [
    "df = df.dropna()\n",
    "X = df.drop(['id','CLASS_LABEL'], axis=1).values ## We are taking all columns except id and class_label as features of model.\n",
    "Y = df[['CLASS_LABEL']].values ## We are taking class label as target variable.\n",
    "\n",
    "## We are dividing dataset into train and test sets. Here random_state=123 refers to it'll produce same split each making it reproducible.\n",
    "X_train, X_test, Y_train, Y_test = train_test_split(X, Y, train_size=0.8, test_size=0.2, stratify=Y, random_state=123) \n",
    "print('Train/Test Sizes : ',X_train.shape, X_test.shape, Y_train.shape, Y_test.shape)\n"
   ]
  },
  {
   "cell_type": "markdown",
   "metadata": {},
   "source": [
    "# LSTM Model Creation\n",
    "Below we have defined our first LSTM model. Our model consist of 2 layers(LSTM & Dense). LSTM layers consist of 32 units. Here units generally refers to that many nodes in that layers. Dropout are introduced to prevent model from overfitting. Dropout of 0.2 ignores 20% of outputs and set them to 0 before giving it as input to next layer. Dense layer consist of 1 unit with activation function as sigmoid which will transfer LSTM’s output in range (0,1.0) which is probability of that sample. Probability >0.5 will predict output as 1 and <=0.5 will predict output as 0. \n",
    "\n",
    "LSTM layer’s units are used to store stateful information in it. We have kept 32 units which will help it store information. Due to 32 units, it requires 10,368 parameters which are calculated as follows. ((input_size + units + 1) * input_size) * 4 = ((48 + 32 + 1 )*32) * 4 = 10,386. Here parameters refers to that many weights will be trained for layer to store information.\n",
    "\n",
    "Dense layer is simple linear layer which has 33 parameter and single output. Sigmoid activation function transfers output of LSTM from shape of (batch_size,33) to (batch_size,1) which is 1 prediction for all samples of batch. Here Dense layer has 33 parameters because it takes as input 32 units of LSTM layer and 1 bias parameter. \n",
    "\n",
    "Total Parameters are LSTM + Dense = 10,386 + 33 = 10,401\n",
    "All parameters are trainable. We don’t have singel parameter which does not need training. We need to train all.\n",
    "\n",
    "Below we have printed summary of our model which shows layers and their shapes along with parameters that particular layer will train as well as whole model."
   ]
  },
  {
   "cell_type": "code",
   "execution_count": 5,
   "metadata": {},
   "outputs": [
    {
     "name": "stdout",
     "output_type": "stream",
     "text": [
      "Build model...\n",
      "Model: \"sequential_1\"\n",
      "_________________________________________________________________\n",
      "Layer (type)                 Output Shape              Param #   \n",
      "=================================================================\n",
      "lstm_1 (LSTM)                (None, 32)                10368     \n",
      "_________________________________________________________________\n",
      "dense_1 (Dense)              (None, 1)                 33        \n",
      "=================================================================\n",
      "Total params: 10,401\n",
      "Trainable params: 10,401\n",
      "Non-trainable params: 0\n",
      "_________________________________________________________________\n",
      "None\n"
     ]
    },
    {
     "data": {
      "image/png": "[encoded data removed]",
      "text/plain": [
       "<PIL.PngImagePlugin.PngImageFile image mode=RGBA size=219x255 at 0x7F502B75F4A8>"
      ]
     },
     "execution_count": 5,
     "metadata": {},
     "output_type": "execute_result"
    }
   ],
   "source": [
    "print('Build model...')\n",
    "model = Sequential([\n",
    "                    LSTM(32, dropout=0.2, recurrent_dropout=0.2, input_shape=(1,48)),\n",
    "                    Dense(1, activation='sigmoid')\n",
    "                   ])\n",
    "print(model.summary())\n",
    "plot_model(model, to_file='lstm_model.png')\n",
    "Image.open('lstm_model.png')"
   ]
  },
  {
   "cell_type": "markdown",
   "metadata": {},
   "source": [
    "# Compiling Model\n",
    "Compiling model involes initializing model with which optimizer to use, metrics on which to do evaluation and loss function to calculate loss function."
   ]
  },
  {
   "cell_type": "code",
   "execution_count": 6,
   "metadata": {},
   "outputs": [],
   "source": [
    "# try using different optimizers and different optimizer configs\n",
    "## Binary crossentropy is function which is loss function. Its used for binary problems. For problems with more than 2 class categorical_crossentropy is used.\n",
    "## Adam is optimizer like SGD but better than SGD in a sense that it adjusts learning rate on its own and keep on improving model performance\n",
    "## without user changing learnining rate each time and trying.\n",
    "## Metrics is accuracy which will be printed after each epoch for train and validation sets.\n",
    "model.compile(loss='binary_crossentropy', optimizer='adam', metrics=['accuracy'])"
   ]
  },
  {
   "cell_type": "markdown",
   "metadata": {},
   "source": [
    "# Training Model\n",
    "We'll be training model on train data and taking 10% of that data as validation data for doing evaluation of model performance after each epochs. We have set batch size as 32 samples and epochs as 7. We have reshaped train dataset from (8000,48) to (8000,1,48). We have created just one extra dimension in dataset because its requirement of LSTM model. It expects 3 dimensional data.  Here validation split of 0.1 refers to that 10% of training data will be used as validation set for evaluating model performance during training as well."
   ]
  },
  {
   "cell_type": "code",
   "execution_count": 7,
   "metadata": {},
   "outputs": [
    {
     "name": "stdout",
     "output_type": "stream",
     "text": [
      "Train on 7200 samples, validate on 800 samples\n",
      "Epoch 1/7\n",
      "7200/7200 [==============================] - 1s 167us/step - loss: 0.5982 - accuracy: 0.7039 - val_loss: 0.4657 - val_accuracy: 0.8263\n",
      "Epoch 2/7\n",
      "7200/7200 [==============================] - 1s 87us/step - loss: 0.4250 - accuracy: 0.8313 - val_loss: 0.2938 - val_accuracy: 0.8963\n",
      "Epoch 3/7\n",
      "7200/7200 [==============================] - 1s 88us/step - loss: 0.3287 - accuracy: 0.8692 - val_loss: 0.2354 - val_accuracy: 0.9200\n",
      "Epoch 4/7\n",
      "7200/7200 [==============================] - 1s 87us/step - loss: 0.2849 - accuracy: 0.8849 - val_loss: 0.2144 - val_accuracy: 0.9200\n",
      "Epoch 5/7\n",
      "7200/7200 [==============================] - 1s 87us/step - loss: 0.2696 - accuracy: 0.8918 - val_loss: 0.2039 - val_accuracy: 0.9187\n",
      "Epoch 6/7\n",
      "7200/7200 [==============================] - 1s 88us/step - loss: 0.2615 - accuracy: 0.8928 - val_loss: 0.1825 - val_accuracy: 0.9375\n",
      "Epoch 7/7\n",
      "7200/7200 [==============================] - 1s 88us/step - loss: 0.2550 - accuracy: 0.8961 - val_loss: 0.1796 - val_accuracy: 0.9325\n",
      "CPU times: user 10.1 s, sys: 2.37 s, total: 12.5 s\n",
      "Wall time: 5.9 s\n"
     ]
    }
   ],
   "source": [
    "%%time\n",
    "\n",
    "hist = model.fit(X_train.reshape((X_train.shape[0],1,X_train.shape[1])), Y_train, batch_size=32, epochs=7, validation_split=0.1)"
   ]
  },
  {
   "cell_type": "markdown",
   "metadata": {},
   "source": [
    "# Evaluaing Model on Test Data.\n",
    "Below we are evaluating model performance on test data after training. Please make a note that here also we have changed dimensions of test data to make it suitable for LSTM model."
   ]
  },
  {
   "cell_type": "code",
   "execution_count": 8,
   "metadata": {},
   "outputs": [
    {
     "name": "stdout",
     "output_type": "stream",
     "text": [
      "2000/2000 [==============================] - 0s 19us/step\n",
      "Test Accuracy :  0.9325\n",
      "Test Loss: 0.1879593227505684\n",
      "Test accuracy: 0.9325000047683716\n"
     ]
    }
   ],
   "source": [
    "loss, acc = model.evaluate(X_test.reshape((X_test.shape[0],1,X_test.shape[1])), Y_test, batch_size=64)\n",
    "preds = model.predict_classes(X_test.reshape((X_test.shape[0],1,X_test.shape[1])))\n",
    "\n",
    "print('Test Accuracy : ', accuracy_score(Y_test, preds))\n",
    "print('Test Loss:', loss)\n",
    "print('Test accuracy:', acc)"
   ]
  },
  {
   "cell_type": "markdown",
   "metadata": {},
   "source": [
    "# Densenet Model Creation\n",
    "Below we have defined out deep learning model which consists of only dense layers (linear layers). We have defined 4 dense layers with units 256,128,64 and 1. Here units generally refers to that many nodes in that layers. Input to first layer will be array of shape (batch_size, 48) and it’ll go through all layers. Each layer has activation function as relu (max(val, 0)) which removes negative outputs after each layer performs its operation. Output layer is Dense layer with sigmoid function which will transfer output between (0,1.0).  Each layers has parameters which are calculated as follows.\n",
    "\n",
    "Dense Layer 1 = (input_size * units) + biases = (48 * 256) + 256 = 12,544\n",
    "\n",
    "Dense Layer 2 = (256 * 128) + 128 = 32,896 ( Please make a note that here input is 256 from Dense Layer 1)\n",
    "\n",
    "Dense Layer 3 =  (128 * 64) + 64 = 8,256\n",
    "\n",
    "Dense Layer 4 =  (64 * 1) + 1 = 65\n"
   ]
  },
  {
   "cell_type": "code",
   "execution_count": 9,
   "metadata": {},
   "outputs": [
    {
     "name": "stdout",
     "output_type": "stream",
     "text": [
      "Build model...\n",
      "Model: \"sequential_2\"\n",
      "_________________________________________________________________\n",
      "Layer (type)                 Output Shape              Param #   \n",
      "=================================================================\n",
      "dense_2 (Dense)              (None, 256)               12544     \n",
      "_________________________________________________________________\n",
      "dense_3 (Dense)              (None, 128)               32896     \n",
      "_________________________________________________________________\n",
      "dense_4 (Dense)              (None, 64)                8256      \n",
      "_________________________________________________________________\n",
      "dense_5 (Dense)              (None, 1)                 65        \n",
      "=================================================================\n",
      "Total params: 53,761\n",
      "Trainable params: 53,761\n",
      "Non-trainable params: 0\n",
      "_________________________________________________________________\n",
      "None\n"
     ]
    },
    {
     "data": {
      "image/png": "[encoded data removed]",
      "text/plain": [
       "<PIL.PngImagePlugin.PngImageFile image mode=RGBA size=219x255 at 0x7F50286BC4A8>"
      ]
     },
     "execution_count": 9,
     "metadata": {},
     "output_type": "execute_result"
    }
   ],
   "source": [
    "print('Build model...')\n",
    "dense_model = Sequential( [Dense(256, activation='relu', input_shape=(48,)),\n",
    "                           Dense(128, activation='relu'),\n",
    "                           Dense(64,activation='relu'),\n",
    "                           Dense(1, activation='sigmoid')]\n",
    "                  )\n",
    "print(dense_model.summary())\n",
    "plot_model(model, to_file='dense_model.png')\n",
    "Image.open('dense_model.png')"
   ]
  },
  {
   "cell_type": "markdown",
   "metadata": {},
   "source": [
    "# Compile DenseNet"
   ]
  },
  {
   "cell_type": "code",
   "execution_count": 10,
   "metadata": {},
   "outputs": [],
   "source": [
    "# try using different optimizers and different optimizer configs\n",
    "# try using different optimizers and different optimizer configs\n",
    "## Binary crossentropy is function which is loss function. Its used for binary problems. For problems with more than 2 class categorical_crossentropy is used.\n",
    "## Adam is optimizer like SGD but better than SGD in a sense that it adjusts learning rate on its own and keep on improving model performance\n",
    "## without user changing learnining rate each time and trying.\n",
    "## Metrics is accuracy which will be printed after each epoch for train and validation sets.\n",
    "dense_model.compile(loss='binary_crossentropy', optimizer='adam', metrics=['accuracy'])"
   ]
  },
  {
   "cell_type": "markdown",
   "metadata": {},
   "source": [
    "# Training Model\n",
    "We'll be training model on train data and taking 10% of that data as validation data for doing evaluation of model performance after each epochs. We have set batch size as 32 samples and epochs as 5."
   ]
  },
  {
   "cell_type": "code",
   "execution_count": 11,
   "metadata": {},
   "outputs": [
    {
     "name": "stdout",
     "output_type": "stream",
     "text": [
      "Train on 7200 samples, validate on 800 samples\n",
      "Epoch 1/5\n",
      "7200/7200 [==============================] - 1s 108us/step - loss: 0.3742 - accuracy: 0.8383 - val_loss: 0.2090 - val_accuracy: 0.9275\n",
      "Epoch 2/5\n",
      "7200/7200 [==============================] - 1s 72us/step - loss: 0.1993 - accuracy: 0.9253 - val_loss: 0.1947 - val_accuracy: 0.9225\n",
      "Epoch 3/5\n",
      "7200/7200 [==============================] - 1s 73us/step - loss: 0.1767 - accuracy: 0.9353 - val_loss: 0.2109 - val_accuracy: 0.9162\n",
      "Epoch 4/5\n",
      "7200/7200 [==============================] - 1s 72us/step - loss: 0.1642 - accuracy: 0.9390 - val_loss: 0.1831 - val_accuracy: 0.9325\n",
      "Epoch 5/5\n",
      "7200/7200 [==============================] - 1s 73us/step - loss: 0.1467 - accuracy: 0.9456 - val_loss: 0.1981 - val_accuracy: 0.9250\n",
      "CPU times: user 6.09 s, sys: 1 s, total: 7.09 s\n",
      "Wall time: 3.83 s\n"
     ]
    }
   ],
   "source": [
    "%%time\n",
    "\n",
    "hist = dense_model.fit(X_train, Y_train, batch_size=32, epochs=5, validation_split=0.1)"
   ]
  },
  {
   "cell_type": "markdown",
   "metadata": {},
   "source": [
    "# Evaluaing Model on Test Data."
   ]
  },
  {
   "cell_type": "code",
   "execution_count": 12,
   "metadata": {},
   "outputs": [
    {
     "name": "stdout",
     "output_type": "stream",
     "text": [
      "2000/2000 [==============================] - 0s 16us/step\n",
      "Test Accuracy :  0.927\n",
      "Test Loss: 0.1945007069706917\n",
      "Test accuracy: 0.9269999861717224\n"
     ]
    }
   ],
   "source": [
    "loss, acc = dense_model.evaluate(X_test, Y_test, batch_size=64)\n",
    "preds = dense_model.predict_classes(X_test)\n",
    "\n",
    "print('Test Accuracy : ', accuracy_score(Y_test, preds))\n",
    "print('Test Loss:', loss)\n",
    "print('Test accuracy:', acc)"
   ]
  },
  {
   "cell_type": "code",
   "execution_count": null,
   "metadata": {},
   "outputs": [],
   "source": []
  },
  {
   "cell_type": "code",
   "execution_count": null,
   "metadata": {},
   "outputs": [],
   "source": []
  }
 ],
 "metadata": {
  "kernelspec": {
   "display_name": "Python 3",
   "language": "python",
   "name": "python3"
  },
  "language_info": {
   "codemirror_mode": {
    "name": "ipython",
    "version": 3
   },
   "file_extension": ".py",
   "mimetype": "text/x-python",
   "name": "python",
   "nbconvert_exporter": "python",
   "pygments_lexer": "ipython3",
   "version": "3.6.6"
  }
 },
 "nbformat": 4,
 "nbformat_minor": 1
}
