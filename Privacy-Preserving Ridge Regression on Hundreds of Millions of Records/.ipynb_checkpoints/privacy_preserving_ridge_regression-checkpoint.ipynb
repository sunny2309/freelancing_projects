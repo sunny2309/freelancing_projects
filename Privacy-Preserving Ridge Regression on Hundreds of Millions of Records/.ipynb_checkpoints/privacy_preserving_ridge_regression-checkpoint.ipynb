{
 "cells": [
  {
   "cell_type": "code",
   "execution_count": 127,
   "metadata": {},
   "outputs": [],
   "source": [
    "import numpy as np\n",
    "import matplotlib.pyplot as plt\n",
    "import pandas as pd\n",
    "import scipy\n",
    "import math\n",
    "import phe\n",
    "import sklearn\n",
    "from sklearn.model_selection import train_test_split\n",
    "from sklearn.preprocessing import  StandardScaler\n",
    "from phe import paillier\n",
    "import bitstring\n",
    "from bitstring import Bits\n",
    "from secrets import token_hex\n",
    "import copy\n",
    "from Crypto.Cipher import DES\n",
    "import pickle\n",
    "\n",
    "%matplotlib inline"
   ]
  },
  {
   "cell_type": "code",
   "execution_count": 27,
   "metadata": {
    "code_folding": [
     0
    ]
   },
   "outputs": [],
   "source": [
    "def cholesky_decomposition(A):\n",
    "    d = A.shape[0]\n",
    "    L = A.copy()\n",
    "    #L = np.zeros(A.shape)\n",
    "    for i in range(d-1):\n",
    "        for j in range(i+1,d):\n",
    "            L[i][j] = 0.0\n",
    "    for j in range(d):\n",
    "        for k in range(j-1):\n",
    "            for i in range(j,d):\n",
    "                L[i][j] -= (L[i][k]*L[j][k])\n",
    "        L[j][j] = math.sqrt(L[j][j])\n",
    "        for k in range(j+1,d):\n",
    "            L[k][j] /= L[j][j]\n",
    "    for i in range(d-1):\n",
    "        for j in range(i+1,d):\n",
    "            L[i][j] = 0.0\n",
    "    return L"
   ]
  },
  {
   "cell_type": "code",
   "execution_count": 28,
   "metadata": {
    "code_folding": [
     0
    ]
   },
   "outputs": [],
   "source": [
    "A = np.array([[ 6,  3,  4,  8],\n",
    "       [ 3,  6,  5,  1],\n",
    "       [ 4,  5, 10,  7],\n",
    "       [ 8,  1,  7, 25]],dtype=np.float32)"
   ]
  },
  {
   "cell_type": "code",
   "execution_count": 29,
   "metadata": {},
   "outputs": [],
   "source": [
    "L = cholesky_decomposition(A)"
   ]
  },
  {
   "cell_type": "code",
   "execution_count": 2,
   "metadata": {},
   "outputs": [],
   "source": [
    "#L"
   ]
  },
  {
   "cell_type": "code",
   "execution_count": 3,
   "metadata": {},
   "outputs": [],
   "source": [
    "#np.dot(L,L.T)"
   ]
  },
  {
   "cell_type": "code",
   "execution_count": 32,
   "metadata": {},
   "outputs": [],
   "source": [
    "A = np.array([[ 6,  3,  4,  8],\n",
    "       [ 3,  6,  5,  1],\n",
    "       [ 4,  5, 10,  7],\n",
    "       [ 8,  1,  7, 25]],dtype=np.float32)"
   ]
  },
  {
   "cell_type": "code",
   "execution_count": 33,
   "metadata": {},
   "outputs": [],
   "source": [
    "L2 = np.linalg.cholesky(A)"
   ]
  },
  {
   "cell_type": "code",
   "execution_count": 4,
   "metadata": {},
   "outputs": [],
   "source": [
    "#L2"
   ]
  },
  {
   "cell_type": "code",
   "execution_count": 5,
   "metadata": {},
   "outputs": [],
   "source": [
    "#np.dot(L2,L2.T)"
   ]
  },
  {
   "cell_type": "code",
   "execution_count": 6,
   "metadata": {},
   "outputs": [],
   "source": [
    "#A"
   ]
  },
  {
   "cell_type": "code",
   "execution_count": 37,
   "metadata": {
    "code_folding": [
     0
    ]
   },
   "outputs": [],
   "source": [
    "def cholesky(A):\n",
    "    \"\"\"Performs a Cholesky decomposition of A, which must \n",
    "    be a symmetric and positive definite matrix. The function\n",
    "    returns the lower variant triangular matrix, L.\"\"\"\n",
    "    n = len(A)\n",
    "\n",
    "    # Create zero matrix for L\n",
    "    L = np.zeros(A.shape)\n",
    "\n",
    "    # Perform the Cholesky decomposition\n",
    "    for i in range(n):\n",
    "        for k in range(i+1):\n",
    "            tmp_sum = sum(L[i][j] * L[k][j] for j in range(k))\n",
    "            \n",
    "            if (i == k): # Diagonal elements\n",
    "                # LaTeX: l_{kk} = \\sqrt{ a_{kk} - \\sum^{k-1}_{j=1} l^2_{kj}}\n",
    "                L[i][k] = np.sqrt(A[i][i] - tmp_sum)\n",
    "            else:\n",
    "                # LaTeX: l_{ik} = \\frac{1}{l_{kk}} \\left( a_{ik} - \\sum^{k-1}_{j=1} l_{ij} l_{kj} \\right)\n",
    "                L[i][k] = (1.0 / L[k][k] * (A[i][k] - tmp_sum))\n",
    "    return L"
   ]
  },
  {
   "cell_type": "code",
   "execution_count": 7,
   "metadata": {},
   "outputs": [],
   "source": [
    "#cholesky(A)"
   ]
  },
  {
   "cell_type": "code",
   "execution_count": 39,
   "metadata": {
    "code_folding": [
     0
    ]
   },
   "outputs": [],
   "source": [
    "def square_root(x):\n",
    "    e = [pow(4,i) for i in range(int(x)) if pow(4,i)<=x][-1]\n",
    "    r = 0\n",
    "    #print(e)\n",
    "    while e != 0:\n",
    "        if x >= r+e:\n",
    "            x -= (r+e)\n",
    "            r = (r >> 1) +e\n",
    "        else:\n",
    "            r = (r >> 1)\n",
    "        e = (e >> 2)\n",
    "    return r"
   ]
  },
  {
   "cell_type": "code",
   "execution_count": 8,
   "metadata": {},
   "outputs": [],
   "source": [
    "#square_root(100)"
   ]
  },
  {
   "cell_type": "code",
   "execution_count": 41,
   "metadata": {
    "code_folding": [
     0
    ]
   },
   "outputs": [],
   "source": [
    "def poc_bitstring_class():\n",
    "    binary = np.array(list(bin(255))[2:],dtype=np.bool)\n",
    "    b = bitstring.Bits(float=1.23,length=32)\n",
    "    print(b.bin)\n",
    "    b = bitstring.Bits(float=-1.23,length=32)\n",
    "    print(b.bin)\n",
    "    \n",
    "    a = bitstring.Bits(float=1.0,length=32)\n",
    "    b = bitstring.Bits(float=-1.0,length=32)\n",
    "    print(a.bin, b.bin,a.bin[:9])\n",
    "    \n",
    "    a = bitstring.Bits(float=1000.2090990909090909,length=32)\n",
    "    b = bitstring.Bits(float=-127.0,length=32)\n",
    "    print(a.bin, b.bin)\n",
    "    \n",
    "    a = bitstring.Bits(int=1,length=32)\n",
    "    b = bitstring.Bits(int=-1,length=32)\n",
    "    print(a.bin, b.bin)"
   ]
  },
  {
   "cell_type": "code",
   "execution_count": 9,
   "metadata": {},
   "outputs": [],
   "source": [
    "#poc_bitstring_class()"
   ]
  },
  {
   "cell_type": "code",
   "execution_count": 43,
   "metadata": {
    "code_folding": [
     0
    ]
   },
   "outputs": [],
   "source": [
    "def poc_paillier_encryption_scheme():\n",
    "    pub,priv = paillier.generate_paillier_keypair()\n",
    "    n = pub.encrypt(1.25)\n",
    "    m = pub.encrypt(1.25)\n",
    "    print(priv.decrypt(m+n))"
   ]
  },
  {
   "cell_type": "code",
   "execution_count": 10,
   "metadata": {},
   "outputs": [],
   "source": [
    "#poc_paillier_encryption_scheme()"
   ]
  },
  {
   "cell_type": "code",
   "execution_count": 45,
   "metadata": {
    "code_folding": [
     0
    ]
   },
   "outputs": [],
   "source": [
    "def poc_encryption_des():\n",
    "    a = token_hex(4)\n",
    "    b = token_hex(4)\n",
    "    c = token_hex(4)\n",
    "    \n",
    "    print('Original Values : ')\n",
    "    print('A : [ %s ], B : [ %s ], C : [ %s ]'%(a,b,c))\n",
    "    print('--------------------------------------')\n",
    "    print('First Encrypt with A and then B')\n",
    "    des_in = DES.new(b, DES.MODE_ECB)\n",
    "    des_in2 = DES.new(a,DES.MODE_ECB)\n",
    "    c_cipher = des_in2.encrypt(des_in.encrypt(c))\n",
    "    c_decrypted = des_in.decrypt(des_in2.decrypt(c_cipher))\n",
    "    print('C Encrypted with A & B [ %s ]'%c_cipher)\n",
    "    print('C Original : [ %s ], C Decrypted [ %s ]'%(c, c_decrypted))\n",
    "    \n",
    "    print('--------------------------------------')\n",
    "    print('First Encrypt with B and then A')\n",
    "    des_in = DES.new(b, DES.MODE_ECB)\n",
    "    des_in2 = DES.new(a,DES.MODE_ECB)\n",
    "    c_cipher = des_in.encrypt(des_in2.encrypt(c))\n",
    "    c_decrypted = des_in2.decrypt(des_in.decrypt(c_cipher))\n",
    "    print('C Encrypted with A & B [ %s ]'%c_cipher)\n",
    "    print('C Original : [ %s ], C Decrypted [ %s ]'%(c, c_decrypted))\n",
    "    \n",
    "    print('--------------------------------------')\n",
    "    print('First Encrypt with B and then B')\n",
    "    des_in = DES.new(b, DES.MODE_ECB)\n",
    "    c_cipher = des_in.encrypt(des_in.encrypt(c))\n",
    "    c_decrypted = des_in.decrypt(des_in.decrypt(c_cipher))\n",
    "    print('C Encrypted with A & B [ %s ]'%c_cipher)\n",
    "    print('C Original : [ %s ], C Decrypted [ %s ]'%(c, c_decrypted))\n",
    "    \n",
    "    print('--------------------------------------')\n",
    "    print('First Encrypt with A and then A')\n",
    "    des_in2 = DES.new(a,DES.MODE_ECB)\n",
    "    c_cipher = des_in2.encrypt(des_in2.encrypt(c))\n",
    "    c_decrypted = des_in2.decrypt(des_in2.decrypt(c_cipher))\n",
    "    print('C Encrypted with A & B [ %s ]'%c_cipher)\n",
    "    print('C Original : [ %s ], C Decrypted [ %s ]'%(c, c_decrypted))"
   ]
  },
  {
   "cell_type": "code",
   "execution_count": 11,
   "metadata": {},
   "outputs": [],
   "source": [
    "#poc_encryption_des()"
   ]
  },
  {
   "cell_type": "code",
   "execution_count": 49,
   "metadata": {
    "code_folding": [
     0
    ]
   },
   "outputs": [],
   "source": [
    "##xt = np.zeros(user.temp.shape,dtype=np.object)\n",
    "#for i in range(user.temp.shape[0]):\n",
    "#    for j in range(user.temp.shape[1]):\n",
    "#        b = Bits(float=user.temp[i][j],length=64)\n",
    "#        print(b.bin)"
   ]
  },
  {
   "cell_type": "code",
   "execution_count": 128,
   "metadata": {
    "code_folding": [
     0,
     7,
     33,
     40,
     55
    ]
   },
   "outputs": [],
   "source": [
    "def compute_twos_complement(binary):\n",
    "    out = ''\n",
    "    for i in binary:\n",
    "        out += '1' if i=='0' else '0'\n",
    "    #print(out)\n",
    "    return Add()(out,((len(binary)-1)*'0')+'1')\n",
    "        \n",
    "def float_to_bin(num,size=24):\n",
    "    twos_complement = True if num<0 else False\n",
    "    int_p,frac_p = str(num).split('.')\n",
    "    frac_p = float('0.'+frac_p)\n",
    "    int_b = bin(int(int_p))[2:]\n",
    "    frac_b = '.'\n",
    "    for i in range(8):\n",
    "        #print(frac_p)\n",
    "        frac_p = frac_p*2\n",
    "        t_i, t_f = str(frac_p).split('.')\n",
    "        frac_b += t_i\n",
    "        if t_i == '1':\n",
    "            frac_p -= 1.\n",
    "        #print(frac_p)\n",
    "    out = int_b+frac_b\n",
    "    out = out.replace('.','')\n",
    "    #print(out)\n",
    "    out = out[:-4]  ## Need to change to -8 in future\n",
    "    out += '11111100'\n",
    "    out = out.zfill(size)\n",
    "    if twos_complement:\n",
    "        temp_out = compute_twos_complement(out[:size-8])\n",
    "    out = temp_out+out[size-8:] if twos_complement else out\n",
    "    #print(out)\n",
    "    return out\n",
    "\n",
    "def int_to_bin(num):\n",
    "    twos_complement = True if num<0 else False\n",
    "    int_b = bin(int(num))[2:]\n",
    "    if twos_complement:\n",
    "        int_b = compute_twos_complement(int_b)\n",
    "    return int_b\n",
    "\n",
    "def bin_to_float(binary):\n",
    "    int_p , frac_p = binary[:len(binary)-8], binary[len(binary)-8:]\n",
    "    int_part = 0.0\n",
    "    for i,j in enumerate(reversed(int_p[1:])):\n",
    "        int_part += (int(j) * pow(2, i))\n",
    "    #print(int_part)\n",
    "    int_part -= int(binary[0])*pow(2,len(binary)-9) ## 15\n",
    "    #print(int_part)\n",
    "    pow_part = 0.0\n",
    "    for i,j in enumerate(reversed(frac_p[1:])):\n",
    "        pow_part += (int(j) * pow(2, i))\n",
    "    pow_part -= pow(2,7)\n",
    "    #print(pow_part)\n",
    "    return int_part*pow(2,pow_part)\n",
    "\n",
    "def bin_to_int(binary):\n",
    "    int_part = 0\n",
    "    for i,j in enumerate(reversed(binary[1:])):\n",
    "        int_part += (int(j) * pow(2, i))\n",
    "    int_part -= int(binary[0])*pow(2,len(binary)-1)\n",
    "    return int_part"
   ]
  },
  {
   "cell_type": "code",
   "execution_count": 129,
   "metadata": {
    "code_folding": [
     0,
     3,
     7,
     11,
     15,
     19,
     23,
     28,
     51,
     58,
     72,
     89,
     111,
     112,
     115,
     119,
     123
    ]
   },
   "outputs": [],
   "source": [
    "class Gate(object):\n",
    "    pass\n",
    "\n",
    "class LeftShift(Gate):\n",
    "    def __call__(self,a,n):\n",
    "        return a[n:] + '0' * n\n",
    "\n",
    "class RightShift(Gate):\n",
    "    def __call__(self,a,n):\n",
    "        return '0' * n + a[:-n]\n",
    "\n",
    "class And(Gate):\n",
    "    def __call__(self,a,b):\n",
    "        return a and b\n",
    "\n",
    "class Or(Gate):\n",
    "    def __call__(self,a,b):\n",
    "        return a or b\n",
    "\n",
    "class Xor(Gate):\n",
    "    def __call__(self,a,b):\n",
    "        return 0 if (a==1 and b==1) or (a==0 and b==0) else 1\n",
    "\n",
    "class Not(Gate):\n",
    "    def __call__(self,a):\n",
    "        t = {0:1,1:0}\n",
    "        return t[a]\n",
    "                \n",
    "class Add(Gate):\n",
    "    \n",
    "    def add(self,a,b,carry):\n",
    "        #xor = Xor()\n",
    "        #and_g = And()\n",
    "        #or_g = Or()\n",
    "        o1 = Xor()(a,b)\n",
    "        o2 = And()(a,b)\n",
    "        add = Xor()(carry,o1)\n",
    "        o4 = And()(carry,o1)\n",
    "        cary = Or()(o4,o2)\n",
    "        return str(add), cary\n",
    "    \n",
    "    def __call__(self,a,b):\n",
    "        carry = 0\n",
    "        out = ''\n",
    "        for idx,i in reversed(list(enumerate(zip(a[:16],b[:16])))):\n",
    "            o,carry = self.add(int(i[0]),int(i[1]),carry)\n",
    "            out += o\n",
    "        #print(out)\n",
    "        out = ''.join(reversed(out))\n",
    "        return out + a[16:]\n",
    "\n",
    "class Subtract(Gate):\n",
    "    \n",
    "    def __call__(self,a,b):\n",
    "        b2 = compute_twos_complement(b[:16])\n",
    "        b2 = b2 + b[16:]\n",
    "        return Add()(a,b2)\n",
    "\n",
    "class Multiplication(Gate):\n",
    "\n",
    "    def __call__(self,a,b):\n",
    "        s = '0'*16\n",
    "        m = copy.copy(a[:16])\n",
    "        for i in reversed(b[:16]):\n",
    "            if int(i) != 0:     # when digit is one, add the intermediary product\n",
    "                s = Add()(s, m)\n",
    "            m = LeftShift()(m, 1)  # shift one per digit in b\n",
    "        #exponent = Add()(a[16:],b[16:])\n",
    "        s = RightShift()(s,4) ## Shifting left by 4 places to get exponent back to 2^-4\n",
    "\n",
    "        return s+a[16:]\n",
    "        \n",
    "class Division(Gate):\n",
    "    \n",
    "    def __call__(self,a, b):\n",
    "        reminder,reminder_prev = Subtract()(a[:16], b[:16]), copy.copy(a[:16])\n",
    "        quotient = Add()('0'*len(a[:16]), ((len(a[:16])-1)*'0')+'1')\n",
    "        while '1' in reminder:\n",
    "            reminder_prev = copy.copy(reminder)\n",
    "            reminder = Subtract()(reminder, b[:16])\n",
    "            #print(bin_to_int(reminder))\n",
    "            #quotient = Add()(quotient, '00000001')\n",
    "            if (bin_to_int(reminder) < 0 and bin_to_int(reminder_prev) > 0) or \\\n",
    "                (bin_to_int(reminder) > 0 and bin_to_int(reminder_prev) < 0):\n",
    "                break\n",
    "            quotient = Add()(quotient, ((len(a[:16])-1)*'0')+'1')\n",
    "        quotient = LeftShift()(quotient,4)\n",
    "        return quotient+a[16:]\n",
    "    \n",
    "class Sqrt(Gate):\n",
    "    \n",
    "    def __call__(self,x):\n",
    "        num = copy.copy(x[:16])\n",
    "        xx = bin_to_int(x[:16])\n",
    "        #e = [i for i in range(int(xx)) if pow(4,i)<=xx][-1]\n",
    "        e = [i for i in range(int(xx)) if pow(4,i)<=xx]\n",
    "        #e = e[-1] if e else 0\n",
    "        e = int_to_bin(pow(4,e[-1])) if e else '0'*len(num)\n",
    "        if len(e) < len(num):\n",
    "            e = PadZerosLeft()(e,len(num) - len(e))\n",
    "        r = '0'*len(e)\n",
    "        while '1' in e:\n",
    "            if GreaterThanEqualTo()(num, Add()(r,e)):\n",
    "                num = Subtract()(num, Add()(r,e))\n",
    "                r = Add()(RightShift()(r, 1), e)\n",
    "            else:\n",
    "                r = RightShift()(r, 1)\n",
    "            e = RightShift()(e, 2)\n",
    "        r = LeftShift()(r,2)\n",
    "        return r + x[16:]\n",
    "    \n",
    "class GreaterThanEqualTo(Gate):\n",
    "    def __call__(self,a,b):\n",
    "        return bin_to_int(a) >= bin_to_int(b)\n",
    "    \n",
    "class PadZerosLeft(Gate):\n",
    "    def __call__(self,a,n):\n",
    "        return n*'0' + a \n",
    "\n",
    "class PadZerosRight(Gate):\n",
    "    def __call__(self,a,n):\n",
    "        return a + n*'0'\n",
    "    \n",
    "class GarbledCircuit(object):\n",
    "    def __init__(A,b):\n",
    "        self.A = A\n",
    "        self.b = b\n",
    "        \n",
    "    def generate_beta(self):\n",
    "        pass"
   ]
  },
  {
   "cell_type": "code",
   "execution_count": 128,
   "metadata": {
    "code_folding": [
     0
    ]
   },
   "outputs": [],
   "source": [
    "def poc_AddSubtractDivMultiSqrt():\n",
    "    add = Add()\n",
    "    print(add('010','011'))\n",
    "    print(Add()('010','011'))\n",
    "    print(Subtract()('010','001'))\n",
    "    print(Subtract()('111','010'))\n",
    "    print(Add()('111','010'))\n",
    "    print(bin_to_float(Add()(float_to_bin(1.5),float_to_bin(1.5))))\n",
    "    print(bin_to_float(float_to_bin(1.5)))\n",
    "    print(bin_to_float(float_to_bin(1.8)))\n",
    "    print(compute_twos_complement('0001'))\n",
    "    print(Multiplication()('1110','0001'))\n",
    "    print(Sqrt()('00010000'))\n",
    "    print(Sqrt()('00010000'))\n",
    "    print(Sqrt()('000100'))\n",
    "    print(Sqrt()('00100000'))\n",
    "    print(Sqrt()('0101'))\n",
    "    print(Division()('00000111','00000011')) \n",
    "    print(Division()('10000000','10000000'))\n",
    "    print(Division()('10000000','00000001'))\n",
    "    print(Division()('00000001','11111111')) ## Wrong\n",
    "    #print(Subtract()('10000000','00000001'))"
   ]
  },
  {
   "cell_type": "code",
   "execution_count": 56,
   "metadata": {
    "code_folding": []
   },
   "outputs": [],
   "source": [
    "#poc_AddSubtractDivMultiSqrt()"
   ]
  },
  {
   "cell_type": "code",
   "execution_count": 57,
   "metadata": {},
   "outputs": [
    {
     "data": {
      "text/plain": [
       "'https://www.electrical4u.com/2s-complement-arithmetic/'"
      ]
     },
     "execution_count": 57,
     "metadata": {},
     "output_type": "execute_result"
    }
   ],
   "source": [
    "'https://www.electrical4u.com/2s-complement-arithmetic/'"
   ]
  },
  {
   "cell_type": "code",
   "execution_count": 132,
   "metadata": {
    "code_folding": [
     0
    ]
   },
   "outputs": [],
   "source": [
    "def cholesky_decomposition_binary(A):\n",
    "    d = A.shape[0]\n",
    "    L = A.copy()\n",
    "    #L = np.zeros(A.shape)\n",
    "    for i in range(d-1):\n",
    "        for j in range(i+1,d):\n",
    "            L[i][j] = '0'*24\n",
    "    for j in range(d):\n",
    "        for k in range(j-1):\n",
    "            for i in range(j,d):\n",
    "                out = Multiplication()(L[i][k], L[j][k])\n",
    "                L[i][j] = Subtract()(L[i][j], out) ## Need to bring -4 as exponent\n",
    "        L[j][j] = Sqrt()(L[j][j]) ## Need to bring -4 as exponent\n",
    "        for k in range(j+1,d):\n",
    "            L[k][j] = Division()(L[k][j],L[j][j]) ## Need to bring -4 as exponent\n",
    "    return L"
   ]
  },
  {
   "cell_type": "code",
   "execution_count": 16,
   "metadata": {
    "code_folding": [
     0
    ]
   },
   "outputs": [],
   "source": [
    "#A2 = np.empty(A.shape,dtype=np.object)\n",
    "#for i in range(A.shape[0]):\n",
    "#    for j in range(A.shape[1]):\n",
    "#        A2[i][j] = float_to_bin(A[i][j])"
   ]
  },
  {
   "cell_type": "code",
   "execution_count": 60,
   "metadata": {},
   "outputs": [],
   "source": [
    "#A2"
   ]
  },
  {
   "cell_type": "code",
   "execution_count": 61,
   "metadata": {
    "code_folding": [
     0
    ]
   },
   "outputs": [],
   "source": [
    "#A3 = np.empty(A2.shape,dtype=np.object)\n",
    "#for i in range(A2.shape[0]):\n",
    "#    for j in range(A2.shape[1]):\n",
    "#        A3[i][j] = bin_to_float(A2[i][j])"
   ]
  },
  {
   "cell_type": "code",
   "execution_count": 62,
   "metadata": {},
   "outputs": [],
   "source": [
    "#A,A3"
   ]
  },
  {
   "cell_type": "code",
   "execution_count": 130,
   "metadata": {},
   "outputs": [
    {
     "name": "stdout",
     "output_type": "stream",
     "text": [
      "CPU times: user 192 µs, sys: 0 ns, total: 192 µs\n",
      "Wall time: 199 µs\n",
      "48 96 144\n",
      "CPU times: user 690 µs, sys: 0 ns, total: 690 µs\n",
      "Wall time: 701 µs\n",
      "96 48 -48\n",
      "CPU times: user 432 µs, sys: 0 ns, total: 432 µs\n",
      "Wall time: 434 µs\n",
      "6.0 3.0 18.0\n",
      "CPU times: user 1.03 ms, sys: 0 ns, total: 1.03 ms\n",
      "Wall time: 1.04 ms\n",
      "6.0 3.0 2.0\n",
      "CPU times: user 2.26 ms, sys: 0 ns, total: 2.26 ms\n",
      "Wall time: 2.27 ms\n",
      "6.0 2.25\n"
     ]
    }
   ],
   "source": [
    "%time ans = Add()('000000000110000011111100', '000000000011000011111100')\n",
    "print(bin_to_int('0000000000110000'),bin_to_int('0000000001100000'),bin_to_int(ans[:16]))\n",
    "\n",
    "%time ans = Subtract()(compute_twos_complement('000000000110000011111100'), compute_twos_complement('000000000011000011111100'))\n",
    "print(bin_to_int('0000000001100000'),bin_to_int('0000000000110000'),bin_to_int(ans[:16]))\n",
    "\n",
    "%time ans = Multiplication()('000000000110000011111100', '000000000011000011111100')\n",
    "print(bin_to_float('000000000110000011111100'),bin_to_float('000000000011000011111100'),bin_to_float(ans))\n",
    "\n",
    "%time ans = Division()('000000000110000011111100', '000000000011000011111100')\n",
    "print(bin_to_float('000000000110000011111100'),bin_to_float('000000000011000011111100'),bin_to_float(ans))\n",
    "\n",
    "%time ans = Sqrt()('000000000110000011111100')\n",
    "print(bin_to_float('000000000110000011111100'),bin_to_float(ans))"
   ]
  },
  {
   "cell_type": "code",
   "execution_count": 134,
   "metadata": {},
   "outputs": [],
   "source": [
    "#%time L2 = cholesky_decomposition_binary(A2)"
   ]
  },
  {
   "cell_type": "code",
   "execution_count": 69,
   "metadata": {},
   "outputs": [],
   "source": [
    "L3 = np.empty(L2.shape,dtype=np.object)\n",
    "for i in range(L2.shape[0]):\n",
    "    for j in range(L2.shape[1]):\n",
    "        L3[i][j] = bin_to_float(L2[i][j])"
   ]
  },
  {
   "cell_type": "code",
   "execution_count": 17,
   "metadata": {},
   "outputs": [],
   "source": [
    "#L3,cholesky(A),cholesky_decomposition(A)"
   ]
  },
  {
   "cell_type": "code",
   "execution_count": 71,
   "metadata": {},
   "outputs": [
    {
     "data": {
      "text/plain": [
       "(array([[5.0625, 2.25, 2.25, 6.75],\n",
       "        [2.25, 6.0625, 5.5, 2050.5],\n",
       "        [2.25, 5.5, 14.0, 1826.0],\n",
       "        [6.75, 2050.5, 1826.0, 828110.0]], dtype=object),\n",
       " array([[ 6.,  3.,  4.,  8.],\n",
       "        [ 3.,  6.,  5.,  1.],\n",
       "        [ 4.,  5., 10.,  7.],\n",
       "        [ 8.,  1.,  7., 25.]], dtype=float32))"
      ]
     },
     "execution_count": 71,
     "metadata": {},
     "output_type": "execute_result"
    }
   ],
   "source": [
    "np.dot(L3,L3.T), A"
   ]
  },
  {
   "cell_type": "code",
   "execution_count": 72,
   "metadata": {
    "code_folding": [
     0
    ]
   },
   "outputs": [],
   "source": [
    "def back_substitution_lower_np(L,Y):\n",
    "    beta = np.empty(Y.shape,dtype=np.float32)\n",
    "    beta[0] = Y[0] / L[0][0]\n",
    "    for i in range(1,len(beta)):\n",
    "        s = 0.0\n",
    "        for j in range(i):\n",
    "            mul = L[i][j] * beta[j]\n",
    "            # print(i,j,L[i][j],beta[j],mul)\n",
    "            s += mul\n",
    "        #print(Y[i] / s)\n",
    "        beta[i] = Y[i] / s\n",
    "    return beta"
   ]
  },
  {
   "cell_type": "code",
   "execution_count": 73,
   "metadata": {
    "code_folding": [
     0
    ]
   },
   "outputs": [],
   "source": [
    "def back_substitution_garbled(L,Y):\n",
    "    beta = np.empty(Y.shape,dtype=np.float32)\n",
    "    beta[0] = Divide()(Y[0], L[0][0])\n",
    "    for i in range(1,len(beta)):\n",
    "        s = '0'*16 + '00000000'\n",
    "        for j in range(i):\n",
    "            mul = Multiplication()(L[i][j], beta[j])\n",
    "            s = Add()(s, mul)\n",
    "        beta[i] = Divide()(Y[i], s)\n",
    "    return beta"
   ]
  },
  {
   "cell_type": "code",
   "execution_count": 74,
   "metadata": {},
   "outputs": [
    {
     "name": "stdout",
     "output_type": "stream",
     "text": [
      "CPU times: user 464 µs, sys: 32 µs, total: 496 µs\n",
      "Wall time: 502 µs\n"
     ]
    },
    {
     "data": {
      "text/plain": [
       "array([ 0.4082483 ,  3.9999998 ,  0.47441927, -1.1203607 ], dtype=float32)"
      ]
     },
     "execution_count": 74,
     "metadata": {},
     "output_type": "execute_result"
    }
   ],
   "source": [
    "%time back_substitution_lower_np(cholesky(A),np.array([1.,2.,3.,4.]))"
   ]
  },
  {
   "cell_type": "code",
   "execution_count": 151,
   "metadata": {
    "code_folding": [
     0,
     9,
     20,
     27,
     33,
     37,
     43,
     49,
     73,
     97,
     123,
     141,
     190,
     198,
     215,
     236,
     271
    ]
   },
   "outputs": [],
   "source": [
    "def bin_to_int_garbled(binary,wire_labels):\n",
    "    wl = dict(zip(wire_labels.values(),wire_labels.keys()))\n",
    "    b2 = ''.join([wl[i].split('_')[-1] for i in binary])\n",
    "    int_part = 0\n",
    "    for i,j in enumerate(reversed(b2[1:])):\n",
    "        int_part += (int(j) * pow(2, i))\n",
    "    int_part -= int(wl[binary[0]].split('_')[-1])*pow(2,len(binary)-1)\n",
    "    return int_part\n",
    "\n",
    "def compute_twos_complement_garbled(binary,wire_labels={}):\n",
    "    wl = dict(zip(wire_labels.values(),wire_labels.keys()))\n",
    "    out = []\n",
    "    for i in binary:\n",
    "        out += [wire_labels['B_1']] if '0' in wl[i] else [wire_labels['B_0']]\n",
    "    #print(out)\n",
    "    out = GarbledAdd()(((len(binary)-1)*[wire_labels['A_0']])+[wire_labels['A_1']], out, wire_labels)\n",
    "    wl = dict(zip(wire_labels.values(),wire_labels.keys()))\n",
    "    out = [wire_labels[wl[i].replace('C','B')] for i in out]\n",
    "    return out\n",
    "\n",
    "class GarbledLeftShift(Gate):\n",
    "    def __call__(self,a, n, wire_labels={}, garbled_table=[]):\n",
    "        #print(a,wire_labels)\n",
    "        wl = dict(zip(wire_labels.values(), wire_labels.keys()))\n",
    "        val =  [j for j in [wl[i] for i in list(set(a))] if '0' in j][0]\n",
    "        return a[n:] + [wire_labels[val]] * n\n",
    "\n",
    "class GarbledRightShift(Gate):\n",
    "    def __call__(self,a, n, wire_labels={}, garbled_table=[]):\n",
    "        wl = dict(zip(wire_labels.values(), wire_labels.keys()))\n",
    "        val =  [j for j in [wl[i] for i in list(set(a))] if '0' in j][0]\n",
    "        return [wire_labels[val]] * n + a[:-n]\n",
    "\n",
    "class GarbledGreaterThanEqualTo(Gate):\n",
    "    def __call__(self,a, b, wire_labels):\n",
    "        return bin_to_int_garbled(a, wire_labels) >= bin_to_int_garbled(b, wire_labels)\n",
    "    \n",
    "class GarbledPadZerosLeft(Gate):\n",
    "    def __call__(self,a, n, wire_labels={}, garbled_table=[]):\n",
    "        wl = dict(zip(wire_labels.values(), wire_labels.keys()))\n",
    "        val =  [j for j in [wl[i] for i in list(set(a))] if '0' in j][0]\n",
    "        return [wire_labels[val]] * n + a \n",
    "\n",
    "class GarbledPadZerosRight(Gate):\n",
    "    def __call__(self,a, n, wire_labels={}, garbled_table=[]):\n",
    "        wl = dict(zip(wire_labels.values(), wire_labels.keys()))\n",
    "        val =  [j for j in [wl[i] for i in list(set(a))] if '0' in j][0]\n",
    "        return a + [wire_labels[val]] * n\n",
    "    \n",
    "class GarbledAnd(Gate):\n",
    "    def __call__(self,a,b,wire_labels={},garbled_table=[]):\n",
    "        \n",
    "        des_b_0 = DES.new(wire_labels['B_0'], DES.MODE_ECB)\n",
    "        des_a_0 = DES.new(wire_labels['A_0'], DES.MODE_ECB)\n",
    "        des_b_1 = DES.new(wire_labels['B_1'], DES.MODE_ECB)\n",
    "        des_a_1 = DES.new(wire_labels['A_1'], DES.MODE_ECB)\n",
    "        ## 0 AND 0 = 0\n",
    "        \n",
    "        garbled_table.append(des_a_0.encrypt(des_b_0.encrypt(wire_labels['C_0'])))\n",
    "        garbled_table.append(des_a_0.encrypt(des_b_1.encrypt(wire_labels['C_0'])))\n",
    "        garbled_table.append(des_a_1.encrypt(des_b_0.encrypt(wire_labels['C_0'])))\n",
    "        garbled_table.append(des_a_1.encrypt(des_b_1.encrypt(wire_labels['C_1'])))\n",
    "        \n",
    "        des_in = DES.new(b, DES.MODE_ECB)\n",
    "        des_out = DES.new(a, DES.MODE_ECB)\n",
    "        for g in garbled_table:\n",
    "            try:\n",
    "                deciphered = des_in.decrypt(des_out.decrypt(g)).decode()\n",
    "            except UnicodeDecodeError:\n",
    "                continue\n",
    "            if deciphered in [ wire_labels['C_0'], wire_labels['C_1'] ]:\n",
    "                return g\n",
    "        \n",
    "class GarbledOr(Gate):\n",
    "    def __call__(self,a,b,wire_labels={},garbled_table=[]):\n",
    "        \n",
    "        des_b_0 = DES.new(wire_labels['B_0'], DES.MODE_ECB)\n",
    "        des_a_0 = DES.new(wire_labels['A_0'], DES.MODE_ECB)\n",
    "        des_b_1 = DES.new(wire_labels['B_1'], DES.MODE_ECB)\n",
    "        des_a_1 = DES.new(wire_labels['A_1'], DES.MODE_ECB)\n",
    "        ## 0 AND 0 = 0\n",
    "        \n",
    "        garbled_table.append(des_a_0.encrypt(des_b_0.encrypt(wire_labels['C_0'])))\n",
    "        garbled_table.append(des_a_0.encrypt(des_b_1.encrypt(wire_labels['C_1'])))\n",
    "        garbled_table.append(des_a_1.encrypt(des_b_0.encrypt(wire_labels['C_1'])))\n",
    "        garbled_table.append(des_a_1.encrypt(des_b_1.encrypt(wire_labels['C_1'])))\n",
    "        \n",
    "        des_in = DES.new(b, DES.MODE_ECB)\n",
    "        des_out = DES.new(a, DES.MODE_ECB)\n",
    "        for g in garbled_table:\n",
    "            try:\n",
    "                deciphered = des_in.decrypt(des_out.decrypt(g)).decode()\n",
    "            except UnicodeDecodeError:\n",
    "                continue\n",
    "            if deciphered in [ wire_labels['C_0'], wire_labels['C_1'] ]:\n",
    "                return g\n",
    "\n",
    "class GarbledXor(Gate):\n",
    "    def __call__(self,a,b,wire_labels={},garbled_table=[]):\n",
    "        \n",
    "        des_b_0 = DES.new(wire_labels['B_0'], DES.MODE_ECB)\n",
    "        des_a_0 = DES.new(wire_labels['A_0'], DES.MODE_ECB)\n",
    "        des_b_1 = DES.new(wire_labels['B_1'], DES.MODE_ECB)\n",
    "        des_a_1 = DES.new(wire_labels['A_1'], DES.MODE_ECB)\n",
    "        ## 0 AND 0 = 0\n",
    "        \n",
    "        garbled_table.append(des_a_0.encrypt(des_b_0.encrypt(wire_labels['C_0'])))\n",
    "        garbled_table.append(des_a_0.encrypt(des_b_1.encrypt(wire_labels['C_1'])))\n",
    "        garbled_table.append(des_a_1.encrypt(des_b_0.encrypt(wire_labels['C_1'])))\n",
    "        garbled_table.append(des_a_1.encrypt(des_b_1.encrypt(wire_labels['C_0'])))\n",
    "        #print(garbled_table)\n",
    "        des_1 = DES.new(a, DES.MODE_ECB)\n",
    "        des_2 = DES.new(b, DES.MODE_ECB)\n",
    "        for g in garbled_table:\n",
    "            try:\n",
    "                deciphered = des_2.decrypt(des_1.decrypt(g)).decode()\n",
    "            except UnicodeDecodeError:\n",
    "                continue\n",
    "            #print(deciphered)\n",
    "            #print([ wire_labels['C_0'], wire_labels['C_1'] ])\n",
    "            if deciphered in [ wire_labels['C_0'], wire_labels['C_1'] ]:\n",
    "                return g\n",
    "        \n",
    "class GarbledNot(Gate):\n",
    "    def __call__(self,b,wire_labels={},garbled_table=[]):\n",
    "        \n",
    "        des_a_0 = DES.new(wire_labels['A_0'], DES.MODE_ECB)\n",
    "        des_a_1 = DES.new(wire_labels['A_1'], DES.MODE_ECB)\n",
    "        \n",
    "        garbled_table.append(des_a_0.encrypt(wire_labels['C_1']))\n",
    "        garbled_table.append(des_a_1.encrypt(wire_labels['C_0']))\n",
    "        \n",
    "        des = DES.new(b, DES.MODE_ECB)\n",
    "        for g in garbled_table:\n",
    "            try:\n",
    "                deciphered = des.decrypt(g).decode()\n",
    "            except UnicodeDecodeError:\n",
    "                continue\n",
    "            if deciphered in [ wire_labels['C_0'], wire_labels['C_1'] ]:\n",
    "                return g\n",
    "            \n",
    "class GarbledAdd(Gate):\n",
    "    \n",
    "    def add(self,a,b,carry,wire_labels):\n",
    "        wl = dict(zip(wire_labels.values(), wire_labels.keys()))\n",
    "        \n",
    "        des_in = DES.new(b, DES.MODE_ECB)\n",
    "        des_out = DES.new(a, DES.MODE_ECB)\n",
    "        \n",
    "        o1 = GarbledXor()(a,b,wire_labels)\n",
    "        #print(a,b,o1)\n",
    "        o1 = des_in.decrypt(des_out.decrypt(o1)).decode()\n",
    "        \n",
    "        o2 = GarbledAnd()(a,b,wire_labels)\n",
    "        o2 = des_in.decrypt(des_out.decrypt(o2)).decode()\n",
    "        \n",
    "        o1 = wire_labels[wl[o1].replace('C','B')]\n",
    "        \n",
    "        des_in = DES.new(o1, DES.MODE_ECB)\n",
    "        des_out = DES.new(carry, DES.MODE_ECB)\n",
    "        \n",
    "        add = GarbledXor()(carry,o1,wire_labels)\n",
    "        add = des_in.decrypt(des_out.decrypt(add)).decode()\n",
    "        \n",
    "        o4 = GarbledAnd()(carry,o1,wire_labels)\n",
    "        o4 = des_in.decrypt(des_out.decrypt(o4)).decode()\n",
    "        \n",
    "        o4 = wire_labels[wl[o4].replace('C', 'A')]\n",
    "        o2 = wire_labels[wl[o2].replace('C', 'B')]\n",
    "        \n",
    "        des_in = DES.new(o2, DES.MODE_ECB)\n",
    "        des_out = DES.new(o4, DES.MODE_ECB)\n",
    "        \n",
    "        cary = GarbledOr()(o4, o2, wire_labels)\n",
    "        cary = des_in.decrypt(des_out.decrypt(cary)).decode()\n",
    "        \n",
    "        cary = wire_labels[wl[cary].replace('C', 'A')]\n",
    "        return str(add), cary\n",
    "    \n",
    "    def __call__(self,a, b, wire_labels={}):\n",
    "        wl = dict(zip(wire_labels.values(),wire_labels.keys()))\n",
    "        carry = wire_labels['A_0']\n",
    "        out = []\n",
    "        for idx,i in reversed(list(enumerate(zip(a[:16],b[:16])))):\n",
    "            o,carry = self.add(i[0], i[1], carry, wire_labels)\n",
    "            out.append(o)\n",
    "        #print(out)\n",
    "        out = list(reversed(out))\n",
    "        return out + [ wire_labels[wl[i].replace('A','C')] for i in a[16:]]\n",
    "\n",
    "class GarbledSubtract(Gate):\n",
    "    \n",
    "    def __call__(self,a,b, wire_labels={}):\n",
    "        b2 = compute_twos_complement_garbled(b[:16],wire_labels)\n",
    "        #print(b2,b[16:])\n",
    "        b2 = list(b2) + list(b[16:])\n",
    "        return GarbledAdd()(a,b2,wire_labels)\n",
    "\n",
    "class GarbledMultiplication(Gate):\n",
    "\n",
    "    def __call__(self,a,b, wire_labels={}):\n",
    "        wl = dict(zip(wire_labels.values(),wire_labels.keys()))\n",
    "        s = [wire_labels['B_0']]*16\n",
    "        m = copy.copy(a[:16])\n",
    "        for i in reversed(b[:16]):\n",
    "            #print(m,s)\n",
    "            if '1' in wl[i]:     # when digit is one, add the intermediary product\n",
    "                s = GarbledAdd()(m, s, wire_labels)\n",
    "                s = [ wire_labels[wl[i].replace('C','B')] for i in s]\n",
    "            m = GarbledLeftShift()(m, 1, wire_labels)  # shift one per digit in b\n",
    "        #exponent = Add()(a[16:],b[16:])\n",
    "        s = [ wire_labels[wl[i].replace('B','C')] for i in s]\n",
    "        s = GarbledRightShift()(s,4,wire_labels) ## Shifting left by 4 places to get exponent back to 2^-4\n",
    "        return s+[ wire_labels[wl[val].replace('B', 'C')] for val in b[16:]]\n",
    "        \n",
    "class GarbledDivision(Gate):\n",
    "    \n",
    "    def __call__(self,a, b,wire_labels={}):\n",
    "        wl = dict(zip(wire_labels.values(),wire_labels.keys()))\n",
    "        reminder,reminder_prev = GarbledSubtract()(a[:16], b[:16], wire_labels), copy.copy(a[:16])\n",
    "        quotient = GarbledAdd()([wire_labels['A_0']]*16, ([wire_labels['B_0']] * 15)+[wire_labels['B_1']], wire_labels)\n",
    "        reminder = [ wire_labels[wl[val].replace('C', 'A')] for val in reminder]\n",
    "        while wire_labels['A_1'] in reminder:\n",
    "            reminder_prev = copy.copy(reminder)\n",
    "            reminder = GarbledSubtract()(reminder, b[:16], wire_labels)\n",
    "            reminder = [ wire_labels[wl[val].replace('C', 'A')] for val in reminder]\n",
    "            #print(bin_to_int(reminder))\n",
    "            #quotient = Add()(quotient, '00000001')\n",
    "            if (bin_to_int_garbled(reminder,wire_labels) < 0 and bin_to_int_garbled(reminder_prev,wire_labels) > 0) or \\\n",
    "                (bin_to_int_garbled(reminder,wire_labels) > 0 and bin_to_int_garbled(reminder_prev,wire_labels) < 0):\n",
    "                break\n",
    "            quotient = [ wire_labels[wl[val].replace('C', 'A')] for val in quotient]\n",
    "            quotient = GarbledAdd()(quotient, ([wire_labels['B_0']] * 15)+[wire_labels['B_1']], wire_labels)\n",
    "        quotient = GarbledLeftShift()(quotient,4, wire_labels)\n",
    "        return quotient+[ wire_labels[wl[val].replace('A', 'C')] for val in a[16:]]\n",
    "    \n",
    "class GarbledSqrt(Gate):\n",
    "    \n",
    "    def __call__(self,x,wire_labels={}):\n",
    "        wl = dict(zip(wire_labels.values(), wire_labels.keys()))\n",
    "        num = copy.copy(x[:16])\n",
    "        xx = bin_to_int_garbled(x[:16],wire_labels)\n",
    "        #e = [i for i in range(int(xx)) if pow(4,i)<=xx][-1]\n",
    "        e = [i for i in range(int(xx)) if pow(4,i)<=xx]\n",
    "        #e = e[-1] if e else 0\n",
    "        e = int_to_bin(pow(4,e[-1])) if e else '0'*len(num)\n",
    "        e = [wire_labels['B_'+str(i)] for i in e]\n",
    "        if len(e) < len(num):\n",
    "            e = GarbledPadZerosLeft()(e,len(num) - len(e),wire_labels)\n",
    "        r = [ wire_labels['A_0'] ]*len(e)\n",
    "        while wire_labels['B_1'] in e:\n",
    "            #temp = Add()(r, e, wire_labels)\n",
    "            #temp = [ wire_labels[wl[i].replace('C','A')] for i in temp]\n",
    "            #print(r,e)\n",
    "            if GarbledGreaterThanEqualTo()(num, GarbledAdd()(r, e, wire_labels), wire_labels):\n",
    "                #print('IF')\n",
    "                out = GarbledAdd()(r, e, wire_labels)\n",
    "                out = [ wire_labels[wl[i].replace('C','B')] for i in out]\n",
    "                num = GarbledSubtract()(num, out,wire_labels)\n",
    "                num = [ wire_labels[wl[i].replace('C','A')] for i in num]\n",
    "                r = GarbledAdd()(GarbledRightShift()(r, 1, wire_labels), e, wire_labels)\n",
    "                #print(r)\n",
    "                r = [ wire_labels[wl[i].replace('C','A')] for i in r]\n",
    "                #print(r)\n",
    "            else:\n",
    "                #print('ELSE')\n",
    "                r = GarbledRightShift()(r, 1, wire_labels)\n",
    "            e = GarbledRightShift()(e, 2, wire_labels)\n",
    "        r = GarbledLeftShift()(r,2, wire_labels)\n",
    "        return r + [ wire_labels[wl[i].replace('A','C')] for i in x[16:] ]\n",
    "    \n",
    "class GarbledCircuit(object):\n",
    "    def __init__(A,b):\n",
    "        self.A = A\n",
    "        self.b = b\n",
    "        \n",
    "    def generate_beta(self):\n",
    "        pass"
   ]
  },
  {
   "cell_type": "code",
   "execution_count": 152,
   "metadata": {},
   "outputs": [
    {
     "name": "stdout",
     "output_type": "stream",
     "text": [
      "CPU times: user 22.4 ms, sys: 4 µs, total: 22.4 ms\n",
      "Wall time: 21.5 ms\n",
      "48 96 144\n",
      "CPU times: user 44.5 ms, sys: 0 ns, total: 44.5 ms\n",
      "Wall time: 43.8 ms\n",
      "48 96 48\n",
      "CPU times: user 64 ms, sys: 0 ns, total: 64 ms\n",
      "Wall time: 63.6 ms\n",
      "48 96 145\n",
      "CPU times: user 40.5 ms, sys: 4 ms, total: 44.5 ms\n",
      "Wall time: 43.9 ms\n",
      "6.0 3.0 18.0\n",
      "CPU times: user 131 ms, sys: 3.99 ms, total: 135 ms\n",
      "Wall time: 134 ms\n",
      "6.0 3.0 2.0\n",
      "CPU times: user 253 ms, sys: 1e+03 ns, total: 253 ms\n",
      "Wall time: 252 ms\n",
      "6.0 3.0 2.25\n"
     ]
    }
   ],
   "source": [
    "wire_labels = {}\n",
    "wire_labels['A_0'] = token_hex(4)\n",
    "wire_labels['A_1'] = token_hex(4)\n",
    "wire_labels['B_0'] = token_hex(4)\n",
    "wire_labels['B_1'] = token_hex(4)\n",
    "wire_labels['C_0'] = token_hex(4)\n",
    "wire_labels['C_1'] = token_hex(4)\n",
    "a = '000000000110000011111100'\n",
    "b = '000000000011000011111100'\n",
    "a1 = [wire_labels['A_'+i] for i in a]\n",
    "b1 = [wire_labels['B_'+i] for i in b]\n",
    "\n",
    "%time ans = GarbledAdd()(a1, b1,wire_labels)\n",
    "#print(bin_to_int('0000000000110000'),bin_to_int('0000000001100000'),bin_to_int(ans[:16]))\n",
    "wl = dict(zip(wire_labels.values(),wire_labels.keys()))\n",
    "''.join([wl[i].split('_')[-1] for i in ans])\n",
    "print(bin_to_int('0000000000110000'),bin_to_int('0000000001100000'),bin_to_int(''.join([wl[i].split('_')[-1] for i in ans])[:16]))\n",
    "\n",
    "%time ans = GarbledSubtract()(a1, b1,wire_labels)\n",
    "print(bin_to_int('0000000000110000'),bin_to_int('0000000001100000'),bin_to_int(''.join([wl[i].split('_')[-1] for i in ans])[:16]))\n",
    "\n",
    "%time ans = GarbledSubtract()(a1, compute_twos_complement_garbled(b1,wire_labels),wire_labels)\n",
    "print(bin_to_int('0000000000110000'),bin_to_int('0000000001100000'),bin_to_int(''.join([wl[i].split('_')[-1] for i in ans])[:16]))\n",
    "\n",
    "%time ans = GarbledMultiplication()(a1, b1,wire_labels)\n",
    "print(bin_to_float('000000000110000011111100'),bin_to_float('000000000011000011111100'),bin_to_float(''.join([wl[i].split('_')[-1] for i in ans])))\n",
    "\n",
    "%time ans = GarbledDivision()(a1, b1,wire_labels)\n",
    "print(bin_to_float('000000000110000011111100'),bin_to_float('000000000011000011111100'),bin_to_float(''.join([wl[i].split('_')[-1] for i in ans])))\n",
    "\n",
    "%time ans = GarbledSqrt()(a1,wire_labels)\n",
    "print(bin_to_float('000000000110000011111100'),bin_to_float('000000000011000011111100'),bin_to_float(''.join([wl[i].split('_')[-1] for i in ans])))\n"
   ]
  },
  {
   "cell_type": "code",
   "execution_count": 153,
   "metadata": {
    "code_folding": [
     0
    ]
   },
   "outputs": [],
   "source": [
    "class User(object):\n",
    "    def __init__(self):\n",
    "        df = pd.read_csv('auto-mpg.csv')\n",
    "        df = df[df['horsepower'] != '?']\n",
    "        cols = df.columns.tolist()\n",
    "        cols.remove('mpg')\n",
    "        cols.remove('car name')\n",
    "        self.X = df[cols].values.astype(np.float32)\n",
    "        self.y = df['mpg'].values.astype(np.float32)\n",
    "        self.X_train,self.X_test,self.y_train,self.y_test = train_test_split(self.X,self.y,train_size=.8,test_size=.2)\n",
    "        sc = StandardScaler()\n",
    "        self.X_train = sc.fit_transform(self.X_train)\n",
    "        self.X_test = sc.transform(self.X_test)\n",
    "        self.X_train = np.around(self.X_train,2)\n",
    "        self.X_test = np.around(self.X_test,2)\n",
    "        #self.temp = np.around(np.dot(self.X_train.T,self.X_train),2)\n",
    "        #print(np.around(np.dot(self.X_train.T,self.X_train),2))\n",
    "    \n",
    "    def paillier_encrypt(self, A_i, b_i, precision=2):\n",
    "        A_i_enc = np.zeros(A_i.shape,dtype=np.object)\n",
    "        for i in range(A_i.shape[0]):\n",
    "            for j in range(A_i.shape[1]):\n",
    "                #print(A_i[i][j])\n",
    "                A_i_enc[i][j] = self.public_key.encrypt(A_i[i][j],precision=precision)\n",
    "                \n",
    "        b_i_enc = np.zeros(b_i.shape,dtype=np.object)\n",
    "        for i in range(b_i.shape[0]):\n",
    "            b_i_enc[i] = self.public_key.encrypt(b_i[i],precision=precision)\n",
    "        \n",
    "        return A_i_enc, b_i_enc\n",
    "    \n",
    "    def calculate(self):\n",
    "        self.c = []\n",
    "        #print(self.X_train.shape,self.y_train.shape)\n",
    "        for x_i,y_i in zip(self.X_train,self.y_train):\n",
    "            #print(x_i, y_i)\n",
    "            A_i = np.dot(x_i.reshape(len(x_i), 1), x_i.reshape(len(x_i), 1).T)\n",
    "            b_i = x_i * y_i\n",
    "            #print(A_i.shape, b_i.shape)\n",
    "            c_i = self.paillier_encrypt(A_i, b_i, precision=2)\n",
    "            self.c.append(c_i)\n",
    "        #c_mu = self.paillier_encrypt(self.mu_A, self.mu_b, precision=2)\n",
    "        #self.c.append(c_mu)\n",
    "        return self.c"
   ]
  },
  {
   "cell_type": "code",
   "execution_count": 154,
   "metadata": {
    "code_folding": [
     0
    ]
   },
   "outputs": [],
   "source": [
    "class CSP(object):\n",
    "    def __init__(self):\n",
    "        self.public_key, self.private_key = paillier.generate_paillier_keypair()\n",
    "        self.mu_Af, self.mu_bf = np.random.randn(7,7), np.random.randn(7)\n",
    "    \n",
    "    def paillier_decrypt(self,c_i,precision=2):\n",
    "        #c = user.calculate_and_send_to_evaluater()\n",
    "        A_hat, b_hat = np.empty(c_i[0].shape, dtype=np.object), np.empty(c_i[1].shape, dtype=np.object)\n",
    "        for i in range(c_i[0].shape[0]):\n",
    "            for j in range(c_i[0].shape[0]):\n",
    "                A_hat[i][j] = self.private_key.decrypt(c_i[0][i][j])\n",
    "\n",
    "        for j in range(c_i[1].shape[0]):\n",
    "                b_hat[j] = self.private_key.decrypt(c_i[1][j])\n",
    "        \n",
    "        return A_hat, b_hat\n",
    "    \n",
    "    def garble_input(self):\n",
    "        wire_labels = {}\n",
    "        wire_labels['A_0'] = token_hex(4)\n",
    "        wire_labels['A_1'] = token_hex(4)\n",
    "        wire_labels['B_0'] = token_hex(4)\n",
    "        wire_labels['B_1'] = token_hex(4)\n",
    "        wire_labels['C_0'] = token_hex(4)\n",
    "        wire_labels['C_1'] = token_hex(4)\n",
    "        \n",
    "        #self.c_i = self.sock.receive()\n",
    "        \n",
    "        #self.A_hat_f, self.b_hat_f = self.paillier_decrypt(self.c_i)\n",
    "        \n",
    "        self.A_hat_b = np.empty(self.A_hat_f.shape, dtype = np.object)\n",
    "        self.b_hat_b = np.empty(self.b_hat_f.shape, dtype = np.object)\n",
    "        self.mu_A_b = np.empty(self.A_hat_f.shape, dtype = np.object)\n",
    "        self.mu_b_b = np.empty(self.b_hat_f.shape, dtype = np.object)\n",
    "        #self.mu_A, self.mu_b = np.empty(self.mu_Af.shape,dtype=np.object), np.empty(self.mu_bf.shape,dtype=np.object)\n",
    "        for i in range(self.A_hat_f.shape[0]):\n",
    "            for j in range(self.A_hat_f.shape[1]):\n",
    "                self.A_hat_b[i][j] = float_to_bin(self.A_hat_f[i][j])\n",
    "        \n",
    "        for i in range(self.b_hat_f.shape[0]):\n",
    "            self.b_hat_b[i] = float_to_bin(self.b_hat_f[i])\n",
    "        \n",
    "        for i in range(self.mu_Af.shape[0]):\n",
    "            for j in range(self.mu_Af.shape[1]):\n",
    "                self.mu_A_b[i][j] = float_to_bin(self.mu_Af[i][j])\n",
    "        \n",
    "        for i in range(self.mu_bf.shape[0]):\n",
    "            self.mu_b_b[i] = float_to_bin(self.mu_bf[i])\n",
    "        \n",
    "        A_hat_garbled = np.empty(self.A_hat_b.shape + (24,),dtype = np.object)\n",
    "        b_hat_garbled = np.empty(self.b_hat_b.shape + (24,),dtype = np.object)\n",
    "        mu_A_garbled = np.empty(self.A_hat_b.shape + (24,),dtype = np.object)\n",
    "        mu_b_garbled = np.empty(self.b_hat_b.shape + (24,),dtype = np.object)\n",
    "        \n",
    "        for i in range(self.A_hat_b.shape[0]):\n",
    "            for j in range(self.A_hat_b.shape[1]):\n",
    "                A_hat_garbled[i][j] = np.array([(wire_labels['A_0'] if k=='0' else wire_labels['A_1']) for k in self.A_hat_b[i][j]])\n",
    "        \n",
    "        for i in range(self.b_hat_b.shape[0]):\n",
    "            b_hat_garbled[i] = np.array([(wire_labels['A_0'] if k=='0' else wire_labels['A_1']) for k in self.b_hat_b[i]])\n",
    "            \n",
    "        for i in range(self.A_hat_b.shape[0]):\n",
    "            for j in range(self.A_hat_b.shape[1]):\n",
    "                mu_A_garbled[i][j] = np.array([(wire_labels['B_0'] if k=='0' else wire_labels['B_1']) for k in self.mu_A_b[i][j]])\n",
    "        \n",
    "        for i in range(self.b_hat_b.shape[0]):\n",
    "            mu_b_garbled[i] = np.array([(wire_labels['B_0'] if k=='0' else wire_labels['B_1']) for k in self.mu_b_b[i]])\n",
    "        \n",
    "        \n",
    "        #return self.send_to_evaluator(A_hat_garbled,b_hat_garbled,mu_A_garbled,mu_b_garbled,wire_labels,mu_Af,mu_bf)\n",
    "        return {\n",
    "            'A_HAT_GARBLED':A_hat_garbled,\n",
    "            'B_HAT_GARBLED': b_hat_garbled,\n",
    "            'MU_A_GARBLED' : mu_A_garbled,\n",
    "            'MU_B_GARBLED' : mu_b_garbled,\n",
    "            'WIRE_LABELS'  : wire_labels,\n",
    "            'PUBLIC KEY'   : self.public_key,\n",
    "            'MU_AF'        : self.mu_Af,\n",
    "            'MU_BF'        : self.mu_bf\n",
    "         }\n",
    "        \n",
    "    def send_to_evaluator(self,A_hat_garbled,b_hat_garbled,mu_A_garbled,mu_b_garbled,wire_labels,mu_Af,mu_bf):\n",
    "        return {\n",
    "            'A_HAT_GARBLED':A_hat_garbled,\n",
    "            'B_HAT_GARBLED': b_hat_garbled,\n",
    "            'MU_A_GARBLED' : mu_A_garbled,\n",
    "            'MU_B_GARBLED' : mu_b_garbled,\n",
    "            'WIRE_LABELS'  : wire_labels,\n",
    "            'PUBLIC KEY'   : self.public_key,\n",
    "            'MU_AF'        : mu_Af,\n",
    "            'MU_BF'        : mu_bf\n",
    "        }"
   ]
  },
  {
   "cell_type": "code",
   "execution_count": 199,
   "metadata": {
    "code_folding": []
   },
   "outputs": [],
   "source": [
    "class Evaluator(object):\n",
    "    def __init__(self):\n",
    "        #self.A_hat = \n",
    "        pass\n",
    "    \n",
    "    def receive_c_hat_values(self):\n",
    "        pass    \n",
    "    \n",
    "    def calculate_c_hat(self):\n",
    "        As,bs = zip(*self.c)\n",
    "        c_final = sum(As),sum(bs)\n",
    "        c_final = c_final[0]+self.mu_Af,c_final[1]+self.mu_bf\n",
    "        return c_final\n",
    "    \n",
    "    def send_c_hat_to_csp_for_decryption(self):\n",
    "        pass\n",
    "    \n",
    "    def convert_to_float(self,a,two_dimension=True):\n",
    "        out = np.empty(a.shape[:-1],dtype=np.float)\n",
    "        wl = dict(zip(self.wire_labels.values(),self.wire_labels.keys()))\n",
    "        if two_dimension:\n",
    "            for i in range(a.shape[0]):\n",
    "                for j in range(a.shape[1]):\n",
    "                    out[i][j] = bin_to_float(''.join([ wl[k].split('_')[-1] for k in a[i][j] ]))\n",
    "        else:\n",
    "            for i in range(a.shape[0]):\n",
    "                out[i] = bin_to_float(''.join([ wl[k].split('_')[-1] for k in a[i] ]))\n",
    "                \n",
    "        return out\n",
    "    \n",
    "    def calculate_A_b(self):\n",
    "        ## Subtract mu_A and mu_B from A_hat and b_hat\n",
    "        self.A_garbled = np.empty(self.A_hat_garbled.shape,dtype=np.object)\n",
    "        self.b_garbled = np.empty(self.b_hat_garbled.shape,dtype=np.object)\n",
    "        #print(self.A_hat_garbled.shape,self.b_hat_garbled.shape,self.mu_A_garbled.shape,self.mu_b_garbled.shape)\n",
    "        for i in range(self.A_hat_garbled.shape[0]):\n",
    "            for j in range(self.A_hat_garbled.shape[1]):\n",
    "                print(i,j)\n",
    "                #print(self.A_hat_garbled[i][j],self.mu_A_garbled[i][j])\n",
    "                self.A_garbled[i][j] = np.array(GarbledSubtract()(self.A_hat_garbled[i][j],self.mu_A_garbled[i][j],self.wire_labels))\n",
    "        \n",
    "        for i in range(self.b_hat_garbled.shape[0]):\n",
    "            print(i)\n",
    "            self.b_garbled[i] = np.array(GarbledSubtract()(self.b_hat_garbled[i],self.mu_b_garbled[i], self.wire_labels))\n",
    "        \n",
    "        A = self.convert_to_float(self.A_garbled)\n",
    "        b = self.convert_to_float(self.b_garbled,False)\n",
    "        print('A',A.shape,A)\n",
    "        print('B',b.shape,b)\n",
    "        \n",
    "    def calculate_L(self):\n",
    "        ## Get L using A with algo cholesky\n",
    "        wl = dict(zip(self.wire_labels.values(), self.wire_labels.keys()))\n",
    "        self.d = self.A_garbled.shape[0]\n",
    "        self.L = self.A_garbled.copy()\n",
    "        for i in range(self.d):\n",
    "            for j in range(self.d):\n",
    "                self.L[i][j] = np.array([self.wire_labels[wl[i].replace('C','A')] for i in self.L[i][j]])\n",
    "        #L = np.zeros(A.shape)\n",
    "        for i in range(self.d-1):\n",
    "            for j in range(i+1,self.d):\n",
    "                self.L[i][j] = self.wire_labels['A_0']*24\n",
    "        for j in range(self.d):\n",
    "            print(j)\n",
    "            for k in range(j-1):\n",
    "                for i in range(j,self.d):\n",
    "                    ljk = np.array([self.wire_labels[wl[i].replace('A','B')] for i in self.L[j][k]])\n",
    "                    out = GarbledMultiplication()(self.L[i][k], self.L[j][k],self.wire_labels)\n",
    "                    out = np.array([self.wire_labels[wl[i].replace('C','B')] for i in out])\n",
    "                    self.L[i][j] = GarbledSubtract()(self.L[i][j], out, self.wire_labels) ## Need to bring -4 as exponent\n",
    "                    self.L[i][j] = np.array([self.wire_labels[wl[i].replace('C','A')] for i in self.L[i][j]])\n",
    "        \n",
    "            self.L[j][j] = GarbledSqrt()(self.L[j][j],self.wire_labels) ## Need to bring -4 as exponent\n",
    "            self.L[j][j] = np.array([self.wire_labels[wl[i].replace('C','A')] for i in self.L[j][j]])\n",
    "            \n",
    "            for k in range(j+1,self.d):\n",
    "                ljj = np.array([self.wire_labels[wl[i].replace('A','B')] for i in self.L[j][j]])\n",
    "                self.L[k][j] = GarbledDivision()(self.L[k][j], ljj, self.wire_labels) ## Need to bring -4 as exponent\n",
    "                self.L[k][j] = np.array([self.wire_labels[wl[i].replace('C','A')] for i in self.L[k][j]])\n",
    "                \n",
    "        LF = self.convert_to_float(self.L)\n",
    "        print(LF.shape,LF)\n",
    "        \n",
    "    def calculate_Y(self):\n",
    "        \n",
    "        ## Use back substitution algo to get individual values of Y    : L.T * Y = b\n",
    "        LT = self.L.transpose(1,0,2)\n",
    "        self.Y  = np.empty(self.b_garbled.shape,dtype=np.object)\n",
    "        self.Y[d-1] = GarbledDivision()(self.b_garbled[d-1], LT[d-1][d-1], self.wire_labels)\n",
    "        self.Y[d-1] = np.array([self.wire_labels[wl[i].replace('C','B')] for i in self.Y[d-1]])\n",
    "        for i in reversed(range(self.d-1)):\n",
    "            print(i)\n",
    "            s = [ self.wire_labels['A_0'] ] * 24\n",
    "            for j in range(i+1,self.d):\n",
    "                temp_lij = np.array([self.wire_labels[wl[i].replace('C','A')] for i in LT[i][j]])\n",
    "                mul = GarbledMultiplication()(temp_lij, self.Y[j], self.wire_labels)\n",
    "                mul = np.array([self.wire_labels[wl[i].replace('C','B')] for i in mul])\n",
    "                \n",
    "                s = GarbledAdd()(s, mul, self.wire_labels)\n",
    "                s = np.array([self.wire_labels[wl[i].replace('C','A')] for i in s])\n",
    "                \n",
    "            s = np.array([self.wire_labels[wl[i].replace('A','B')] for i in s])\n",
    "            bi = np.array([self.wire_labels[wl[i].replace('C','A')] for i in self.b_garbled[i]])\n",
    "            self.Y[i] = GarbledDivision()(bi, s, self.wire_labels)\n",
    "            self.Y[i] = np.array([self.wire_labels[wl[i].replace('C','B')] for i in self.Y[i]])\n",
    "        \n",
    "        YF = self.convert_to_float(self.Y,False)\n",
    "        print(YF.shape,YF)\n",
    "        \n",
    "    \n",
    "    def calculate_beta(self):\n",
    "        ## Use back substitution algo to get individual values of beta : L*beta = Y\n",
    "        \n",
    "        beta = np.empty(self.Y.shape,dtype=np.float32)\n",
    "        beta[0] = GarbledDivision()(self.Y[0], self.L[0][0], self.wire_labels)\n",
    "        beta[0] = np.array([self.wire_labels[wl[i].replace('C','B')] for i in beta[0]])\n",
    "        for i in range(1,len(beta)):\n",
    "            print(i)\n",
    "            s = [ self.wire_labels['A_0'] ] * 24\n",
    "            for j in range(i):\n",
    "                temp_lij = np.array([self.wire_labels[wl[i].replace('C','A')] for i in self.L[i][j]])\n",
    "                mul = GarbledMultiplication()(temp_lij, beta[j], self.wire_labels)\n",
    "                mul = np.array([self.wire_labels[wl[i].replace('C','B')] for i in mul])\n",
    "                \n",
    "                s = GarbledAdd()(s, mul, self.wire_labels)\n",
    "                s = np.array([self.wire_labels[wl[i].replace('C','A')] for i in s])\n",
    "                \n",
    "            s = np.array([self.wire_labels[wl[i].replace('A','B')] for i in s])\n",
    "            yi = np.array([self.wire_labels[wl[i].replace('B','A')] for i in self.Y[i]])\n",
    "            beta[i] = GarbledDivision()(yi, s, self.wire_labels)\n",
    "        \n",
    "        B = self.convert_to_float(beta)\n",
    "        print(B.shape,B)\n",
    "        return beta, self.wire_labels"
   ]
  },
  {
   "cell_type": "code",
   "execution_count": 200,
   "metadata": {},
   "outputs": [],
   "source": [
    "user = User()"
   ]
  },
  {
   "cell_type": "code",
   "execution_count": 201,
   "metadata": {},
   "outputs": [],
   "source": [
    "csp = CSP()"
   ]
  },
  {
   "cell_type": "code",
   "execution_count": 202,
   "metadata": {},
   "outputs": [],
   "source": [
    "evaluator = Evaluator()"
   ]
  },
  {
   "cell_type": "code",
   "execution_count": 203,
   "metadata": {},
   "outputs": [],
   "source": [
    "#user.public_key = csp.public_key\n",
    "#%time c = user.calculate()"
   ]
  },
  {
   "cell_type": "code",
   "execution_count": 204,
   "metadata": {},
   "outputs": [],
   "source": [
    "#evaluator.c = c\n",
    "\n",
    "evaluator.mu_Af = csp.mu_Af\n",
    "evaluator.mu_bf = csp.mu_bf\n",
    "#%time c_final = evaluator.calculate_c_hat()"
   ]
  },
  {
   "cell_type": "code",
   "execution_count": 205,
   "metadata": {},
   "outputs": [
    {
     "name": "stdout",
     "output_type": "stream",
     "text": [
      "CPU times: user 23.2 ms, sys: 0 ns, total: 23.2 ms\n",
      "Wall time: 23.8 ms\n"
     ]
    }
   ],
   "source": [
    "#csp.c_i = c_final\n",
    "csp.A_hat_f = np.dot(user.X_train.T,user.X_train)\n",
    "csp.b_hat_f = np.dot(user.X_train.T, user.y_train)\n",
    "%time d = csp.garble_input()"
   ]
  },
  {
   "cell_type": "code",
   "execution_count": 206,
   "metadata": {},
   "outputs": [
    {
     "name": "stdout",
     "output_type": "stream",
     "text": [
      "(7, 7, 24)\n",
      "(7, 24)\n",
      "(7, 7, 24)\n",
      "(7, 24)\n"
     ]
    }
   ],
   "source": [
    "evaluator.A_hat_garbled = d['A_HAT_GARBLED']\n",
    "evaluator.b_hat_garbled = d['B_HAT_GARBLED']\n",
    "evaluator.mu_A_garbled = d['MU_A_GARBLED']\n",
    "evaluator.mu_b_garbled = d['MU_B_GARBLED']\n",
    "evaluator.wire_labels = d['WIRE_LABELS']\n",
    "\n",
    "print(evaluator.A_hat_garbled.shape)\n",
    "print(evaluator.b_hat_garbled.shape)\n",
    "print(evaluator.mu_A_garbled.shape)\n",
    "print(evaluator.mu_b_garbled.shape)\n"
   ]
  },
  {
   "cell_type": "code",
   "execution_count": 207,
   "metadata": {},
   "outputs": [],
   "source": [
    "#evaluator.A_hat_garbled[0][0],evaluator.b_hat_garbled[0],evaluator.mu_A_garbled[0][0],evaluator.mu_b_garbled[0]"
   ]
  },
  {
   "cell_type": "code",
   "execution_count": 208,
   "metadata": {},
   "outputs": [
    {
     "data": {
      "text/plain": [
       "{'A_0': '6961a237',\n",
       " 'A_1': '5b8b9ac8',\n",
       " 'B_0': 'b6a08300',\n",
       " 'B_1': 'cbf5cbb5',\n",
       " 'C_0': 'cf8ac7fb',\n",
       " 'C_1': 'd8d14027'}"
      ]
     },
     "execution_count": 208,
     "metadata": {},
     "output_type": "execute_result"
    }
   ],
   "source": [
    "evaluator.wire_labels"
   ]
  },
  {
   "cell_type": "code",
   "execution_count": 210,
   "metadata": {},
   "outputs": [
    {
     "name": "stdout",
     "output_type": "stream",
     "text": [
      "0 0\n",
      "0 1\n",
      "0 2\n",
      "0 3\n",
      "0 4\n",
      "0 5\n",
      "0 6\n",
      "1 0\n",
      "1 1\n",
      "1 2\n",
      "1 3\n",
      "1 4\n",
      "1 5\n",
      "1 6\n",
      "2 0\n",
      "2 1\n",
      "2 2\n",
      "2 3\n",
      "2 4\n",
      "2 5\n",
      "2 6\n",
      "3 0\n",
      "3 1\n",
      "3 2\n",
      "3 3\n",
      "3 4\n",
      "3 5\n",
      "3 6\n",
      "4 0\n",
      "4 1\n",
      "4 2\n",
      "4 3\n",
      "4 4\n",
      "4 5\n",
      "4 6\n",
      "5 0\n",
      "5 1\n",
      "5 2\n",
      "5 3\n",
      "5 4\n",
      "5 5\n",
      "5 6\n",
      "6 0\n"
     ]
    },
    {
     "ename": "KeyboardInterrupt",
     "evalue": "",
     "output_type": "error",
     "traceback": [
      "\u001b[0;31m---------------------------------------------------------------------------\u001b[0m",
      "\u001b[0;31mUnicodeDecodeError\u001b[0m                        Traceback (most recent call last)",
      "\u001b[0;32m<ipython-input-151-d0696e938ec0>\u001b[0m in \u001b[0;36m__call__\u001b[0;34m(self, a, b, wire_labels, garbled_table)\u001b[0m\n\u001b[1;32m    115\u001b[0m             \u001b[0;32mtry\u001b[0m\u001b[0;34m:\u001b[0m\u001b[0;34m\u001b[0m\u001b[0m\n\u001b[0;32m--> 116\u001b[0;31m                 \u001b[0mdeciphered\u001b[0m \u001b[0;34m=\u001b[0m \u001b[0mdes_2\u001b[0m\u001b[0;34m.\u001b[0m\u001b[0mdecrypt\u001b[0m\u001b[0;34m(\u001b[0m\u001b[0mdes_1\u001b[0m\u001b[0;34m.\u001b[0m\u001b[0mdecrypt\u001b[0m\u001b[0;34m(\u001b[0m\u001b[0mg\u001b[0m\u001b[0;34m)\u001b[0m\u001b[0;34m)\u001b[0m\u001b[0;34m.\u001b[0m\u001b[0mdecode\u001b[0m\u001b[0;34m(\u001b[0m\u001b[0;34m)\u001b[0m\u001b[0;34m\u001b[0m\u001b[0m\n\u001b[0m\u001b[1;32m    117\u001b[0m             \u001b[0;32mexcept\u001b[0m \u001b[0mUnicodeDecodeError\u001b[0m\u001b[0;34m:\u001b[0m\u001b[0;34m\u001b[0m\u001b[0m\n",
      "\u001b[0;31mUnicodeDecodeError\u001b[0m: 'utf-8' codec can't decode byte 0x88 in position 0: invalid start byte",
      "\nDuring handling of the above exception, another exception occurred:\n",
      "\u001b[0;31mKeyboardInterrupt\u001b[0m                         Traceback (most recent call last)",
      "\u001b[0;32m<timed eval>\u001b[0m in \u001b[0;36m<module>\u001b[0;34m()\u001b[0m\n",
      "\u001b[0;32m<ipython-input-199-25fd26893cd3>\u001b[0m in \u001b[0;36mcalculate_A_b\u001b[0;34m(self)\u001b[0m\n\u001b[1;32m     38\u001b[0m                 \u001b[0mprint\u001b[0m\u001b[0;34m(\u001b[0m\u001b[0mi\u001b[0m\u001b[0;34m,\u001b[0m\u001b[0mj\u001b[0m\u001b[0;34m)\u001b[0m\u001b[0;34m\u001b[0m\u001b[0m\n\u001b[1;32m     39\u001b[0m                 \u001b[0;31m#print(self.A_hat_garbled[i][j],self.mu_A_garbled[i][j])\u001b[0m\u001b[0;34m\u001b[0m\u001b[0;34m\u001b[0m\u001b[0m\n\u001b[0;32m---> 40\u001b[0;31m                 \u001b[0mself\u001b[0m\u001b[0;34m.\u001b[0m\u001b[0mA_garbled\u001b[0m\u001b[0;34m[\u001b[0m\u001b[0mi\u001b[0m\u001b[0;34m]\u001b[0m\u001b[0;34m[\u001b[0m\u001b[0mj\u001b[0m\u001b[0;34m]\u001b[0m \u001b[0;34m=\u001b[0m \u001b[0mnp\u001b[0m\u001b[0;34m.\u001b[0m\u001b[0marray\u001b[0m\u001b[0;34m(\u001b[0m\u001b[0mGarbledSubtract\u001b[0m\u001b[0;34m(\u001b[0m\u001b[0;34m)\u001b[0m\u001b[0;34m(\u001b[0m\u001b[0mself\u001b[0m\u001b[0;34m.\u001b[0m\u001b[0mA_hat_garbled\u001b[0m\u001b[0;34m[\u001b[0m\u001b[0mi\u001b[0m\u001b[0;34m]\u001b[0m\u001b[0;34m[\u001b[0m\u001b[0mj\u001b[0m\u001b[0;34m]\u001b[0m\u001b[0;34m,\u001b[0m\u001b[0mself\u001b[0m\u001b[0;34m.\u001b[0m\u001b[0mmu_A_garbled\u001b[0m\u001b[0;34m[\u001b[0m\u001b[0mi\u001b[0m\u001b[0;34m]\u001b[0m\u001b[0;34m[\u001b[0m\u001b[0mj\u001b[0m\u001b[0;34m]\u001b[0m\u001b[0;34m,\u001b[0m\u001b[0mself\u001b[0m\u001b[0;34m.\u001b[0m\u001b[0mwire_labels\u001b[0m\u001b[0;34m)\u001b[0m\u001b[0;34m)\u001b[0m\u001b[0;34m\u001b[0m\u001b[0m\n\u001b[0m\u001b[1;32m     41\u001b[0m \u001b[0;34m\u001b[0m\u001b[0m\n\u001b[1;32m     42\u001b[0m         \u001b[0;32mfor\u001b[0m \u001b[0mi\u001b[0m \u001b[0;32min\u001b[0m \u001b[0mrange\u001b[0m\u001b[0;34m(\u001b[0m\u001b[0mself\u001b[0m\u001b[0;34m.\u001b[0m\u001b[0mb_hat_garbled\u001b[0m\u001b[0;34m.\u001b[0m\u001b[0mshape\u001b[0m\u001b[0;34m[\u001b[0m\u001b[0;36m0\u001b[0m\u001b[0;34m]\u001b[0m\u001b[0;34m)\u001b[0m\u001b[0;34m:\u001b[0m\u001b[0;34m\u001b[0m\u001b[0m\n",
      "\u001b[0;32m<ipython-input-151-d0696e938ec0>\u001b[0m in \u001b[0;36m__call__\u001b[0;34m(self, a, b, wire_labels)\u001b[0m\n\u001b[1;32m    195\u001b[0m         \u001b[0;31m#print(b2,b[16:])\u001b[0m\u001b[0;34m\u001b[0m\u001b[0;34m\u001b[0m\u001b[0m\n\u001b[1;32m    196\u001b[0m         \u001b[0mb2\u001b[0m \u001b[0;34m=\u001b[0m \u001b[0mlist\u001b[0m\u001b[0;34m(\u001b[0m\u001b[0mb2\u001b[0m\u001b[0;34m)\u001b[0m \u001b[0;34m+\u001b[0m \u001b[0mlist\u001b[0m\u001b[0;34m(\u001b[0m\u001b[0mb\u001b[0m\u001b[0;34m[\u001b[0m\u001b[0;36m16\u001b[0m\u001b[0;34m:\u001b[0m\u001b[0;34m]\u001b[0m\u001b[0;34m)\u001b[0m\u001b[0;34m\u001b[0m\u001b[0m\n\u001b[0;32m--> 197\u001b[0;31m         \u001b[0;32mreturn\u001b[0m \u001b[0mGarbledAdd\u001b[0m\u001b[0;34m(\u001b[0m\u001b[0;34m)\u001b[0m\u001b[0;34m(\u001b[0m\u001b[0ma\u001b[0m\u001b[0;34m,\u001b[0m\u001b[0mb2\u001b[0m\u001b[0;34m,\u001b[0m\u001b[0mwire_labels\u001b[0m\u001b[0;34m)\u001b[0m\u001b[0;34m\u001b[0m\u001b[0m\n\u001b[0m\u001b[1;32m    198\u001b[0m \u001b[0;34m\u001b[0m\u001b[0m\n\u001b[1;32m    199\u001b[0m \u001b[0;32mclass\u001b[0m \u001b[0mGarbledMultiplication\u001b[0m\u001b[0;34m(\u001b[0m\u001b[0mGate\u001b[0m\u001b[0;34m)\u001b[0m\u001b[0;34m:\u001b[0m\u001b[0;34m\u001b[0m\u001b[0m\n",
      "\u001b[0;32m<ipython-input-151-d0696e938ec0>\u001b[0m in \u001b[0;36m__call__\u001b[0;34m(self, a, b, wire_labels)\u001b[0m\n\u001b[1;32m    183\u001b[0m         \u001b[0mout\u001b[0m \u001b[0;34m=\u001b[0m \u001b[0;34m[\u001b[0m\u001b[0;34m]\u001b[0m\u001b[0;34m\u001b[0m\u001b[0m\n\u001b[1;32m    184\u001b[0m         \u001b[0;32mfor\u001b[0m \u001b[0midx\u001b[0m\u001b[0;34m,\u001b[0m\u001b[0mi\u001b[0m \u001b[0;32min\u001b[0m \u001b[0mreversed\u001b[0m\u001b[0;34m(\u001b[0m\u001b[0mlist\u001b[0m\u001b[0;34m(\u001b[0m\u001b[0menumerate\u001b[0m\u001b[0;34m(\u001b[0m\u001b[0mzip\u001b[0m\u001b[0;34m(\u001b[0m\u001b[0ma\u001b[0m\u001b[0;34m[\u001b[0m\u001b[0;34m:\u001b[0m\u001b[0;36m16\u001b[0m\u001b[0;34m]\u001b[0m\u001b[0;34m,\u001b[0m\u001b[0mb\u001b[0m\u001b[0;34m[\u001b[0m\u001b[0;34m:\u001b[0m\u001b[0;36m16\u001b[0m\u001b[0;34m]\u001b[0m\u001b[0;34m)\u001b[0m\u001b[0;34m)\u001b[0m\u001b[0;34m)\u001b[0m\u001b[0;34m)\u001b[0m\u001b[0;34m:\u001b[0m\u001b[0;34m\u001b[0m\u001b[0m\n\u001b[0;32m--> 185\u001b[0;31m             \u001b[0mo\u001b[0m\u001b[0;34m,\u001b[0m\u001b[0mcarry\u001b[0m \u001b[0;34m=\u001b[0m \u001b[0mself\u001b[0m\u001b[0;34m.\u001b[0m\u001b[0madd\u001b[0m\u001b[0;34m(\u001b[0m\u001b[0mi\u001b[0m\u001b[0;34m[\u001b[0m\u001b[0;36m0\u001b[0m\u001b[0;34m]\u001b[0m\u001b[0;34m,\u001b[0m \u001b[0mi\u001b[0m\u001b[0;34m[\u001b[0m\u001b[0;36m1\u001b[0m\u001b[0;34m]\u001b[0m\u001b[0;34m,\u001b[0m \u001b[0mcarry\u001b[0m\u001b[0;34m,\u001b[0m \u001b[0mwire_labels\u001b[0m\u001b[0;34m)\u001b[0m\u001b[0;34m\u001b[0m\u001b[0m\n\u001b[0m\u001b[1;32m    186\u001b[0m             \u001b[0mout\u001b[0m\u001b[0;34m.\u001b[0m\u001b[0mappend\u001b[0m\u001b[0;34m(\u001b[0m\u001b[0mo\u001b[0m\u001b[0;34m)\u001b[0m\u001b[0;34m\u001b[0m\u001b[0m\n\u001b[1;32m    187\u001b[0m         \u001b[0;31m#print(out)\u001b[0m\u001b[0;34m\u001b[0m\u001b[0;34m\u001b[0m\u001b[0m\n",
      "\u001b[0;32m<ipython-input-151-d0696e938ec0>\u001b[0m in \u001b[0;36madd\u001b[0;34m(self, a, b, carry, wire_labels)\u001b[0m\n\u001b[1;32m    160\u001b[0m         \u001b[0mdes_out\u001b[0m \u001b[0;34m=\u001b[0m \u001b[0mDES\u001b[0m\u001b[0;34m.\u001b[0m\u001b[0mnew\u001b[0m\u001b[0;34m(\u001b[0m\u001b[0mcarry\u001b[0m\u001b[0;34m,\u001b[0m \u001b[0mDES\u001b[0m\u001b[0;34m.\u001b[0m\u001b[0mMODE_ECB\u001b[0m\u001b[0;34m)\u001b[0m\u001b[0;34m\u001b[0m\u001b[0m\n\u001b[1;32m    161\u001b[0m \u001b[0;34m\u001b[0m\u001b[0m\n\u001b[0;32m--> 162\u001b[0;31m         \u001b[0madd\u001b[0m \u001b[0;34m=\u001b[0m \u001b[0mGarbledXor\u001b[0m\u001b[0;34m(\u001b[0m\u001b[0;34m)\u001b[0m\u001b[0;34m(\u001b[0m\u001b[0mcarry\u001b[0m\u001b[0;34m,\u001b[0m\u001b[0mo1\u001b[0m\u001b[0;34m,\u001b[0m\u001b[0mwire_labels\u001b[0m\u001b[0;34m)\u001b[0m\u001b[0;34m\u001b[0m\u001b[0m\n\u001b[0m\u001b[1;32m    163\u001b[0m         \u001b[0madd\u001b[0m \u001b[0;34m=\u001b[0m \u001b[0mdes_in\u001b[0m\u001b[0;34m.\u001b[0m\u001b[0mdecrypt\u001b[0m\u001b[0;34m(\u001b[0m\u001b[0mdes_out\u001b[0m\u001b[0;34m.\u001b[0m\u001b[0mdecrypt\u001b[0m\u001b[0;34m(\u001b[0m\u001b[0madd\u001b[0m\u001b[0;34m)\u001b[0m\u001b[0;34m)\u001b[0m\u001b[0;34m.\u001b[0m\u001b[0mdecode\u001b[0m\u001b[0;34m(\u001b[0m\u001b[0;34m)\u001b[0m\u001b[0;34m\u001b[0m\u001b[0m\n\u001b[1;32m    164\u001b[0m \u001b[0;34m\u001b[0m\u001b[0m\n",
      "\u001b[0;32m<ipython-input-151-d0696e938ec0>\u001b[0m in \u001b[0;36m__call__\u001b[0;34m(self, a, b, wire_labels, garbled_table)\u001b[0m\n\u001b[1;32m    114\u001b[0m         \u001b[0;32mfor\u001b[0m \u001b[0mg\u001b[0m \u001b[0;32min\u001b[0m \u001b[0mgarbled_table\u001b[0m\u001b[0;34m:\u001b[0m\u001b[0;34m\u001b[0m\u001b[0m\n\u001b[1;32m    115\u001b[0m             \u001b[0;32mtry\u001b[0m\u001b[0;34m:\u001b[0m\u001b[0;34m\u001b[0m\u001b[0m\n\u001b[0;32m--> 116\u001b[0;31m                 \u001b[0mdeciphered\u001b[0m \u001b[0;34m=\u001b[0m \u001b[0mdes_2\u001b[0m\u001b[0;34m.\u001b[0m\u001b[0mdecrypt\u001b[0m\u001b[0;34m(\u001b[0m\u001b[0mdes_1\u001b[0m\u001b[0;34m.\u001b[0m\u001b[0mdecrypt\u001b[0m\u001b[0;34m(\u001b[0m\u001b[0mg\u001b[0m\u001b[0;34m)\u001b[0m\u001b[0;34m)\u001b[0m\u001b[0;34m.\u001b[0m\u001b[0mdecode\u001b[0m\u001b[0;34m(\u001b[0m\u001b[0;34m)\u001b[0m\u001b[0;34m\u001b[0m\u001b[0m\n\u001b[0m\u001b[1;32m    117\u001b[0m             \u001b[0;32mexcept\u001b[0m \u001b[0mUnicodeDecodeError\u001b[0m\u001b[0;34m:\u001b[0m\u001b[0;34m\u001b[0m\u001b[0m\n\u001b[1;32m    118\u001b[0m                 \u001b[0;32mcontinue\u001b[0m\u001b[0;34m\u001b[0m\u001b[0m\n",
      "\u001b[0;31mKeyboardInterrupt\u001b[0m: "
     ]
    }
   ],
   "source": [
    "%time evaluator.calculate_A_b()"
   ]
  },
  {
   "cell_type": "code",
   "execution_count": null,
   "metadata": {},
   "outputs": [],
   "source": [
    "%time evaluator.calculate_L()"
   ]
  },
  {
   "cell_type": "code",
   "execution_count": null,
   "metadata": {},
   "outputs": [],
   "source": [
    "%time evaluator.calculate_Y()"
   ]
  },
  {
   "cell_type": "code",
   "execution_count": null,
   "metadata": {},
   "outputs": [],
   "source": [
    "%time evaluator.calculate_beta()"
   ]
  },
  {
   "cell_type": "code",
   "execution_count": null,
   "metadata": {},
   "outputs": [],
   "source": []
  },
  {
   "cell_type": "code",
   "execution_count": null,
   "metadata": {},
   "outputs": [],
   "source": []
  },
  {
   "cell_type": "code",
   "execution_count": null,
   "metadata": {},
   "outputs": [],
   "source": []
  },
  {
   "cell_type": "code",
   "execution_count": null,
   "metadata": {},
   "outputs": [],
   "source": []
  },
  {
   "cell_type": "code",
   "execution_count": null,
   "metadata": {},
   "outputs": [],
   "source": []
  },
  {
   "cell_type": "code",
   "execution_count": null,
   "metadata": {},
   "outputs": [],
   "source": []
  },
  {
   "cell_type": "code",
   "execution_count": null,
   "metadata": {},
   "outputs": [],
   "source": []
  },
  {
   "cell_type": "code",
   "execution_count": null,
   "metadata": {},
   "outputs": [],
   "source": []
  }
 ],
 "metadata": {
  "kernelspec": {
   "display_name": "Python 3",
   "language": "python",
   "name": "python3"
  },
  "language_info": {
   "codemirror_mode": {
    "name": "ipython",
    "version": 3
   },
   "file_extension": ".py",
   "mimetype": "text/x-python",
   "name": "python",
   "nbconvert_exporter": "python",
   "pygments_lexer": "ipython3",
   "version": "3.6.5"
  }
 },
 "nbformat": 4,
 "nbformat_minor": 2
}
