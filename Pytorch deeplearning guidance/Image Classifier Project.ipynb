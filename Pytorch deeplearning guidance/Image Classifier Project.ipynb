{
 "cells": [
  {
   "cell_type": "markdown",
   "metadata": {},
   "source": [
    "# Developing an AI application\n",
    "\n",
    "Going forward, AI algorithms will be incorporated into more and more everyday applications. For example, you might want to include an image classifier in a smart phone app. To do this, you'd use a deep learning model trained on hundreds of thousands of images as part of the overall application architecture. A large part of software development in the future will be using these types of models as common parts of applications. \n",
    "\n",
    "In this project, you'll train an image classifier to recognize different species of flowers. You can imagine using something like this in a phone app that tells you the name of the flower your camera is looking at. In practice you'd train this classifier, then export it for use in your application. We'll be using [this dataset](http://www.robots.ox.ac.uk/~vgg/data/flowers/102/index.html) of 102 flower categories, you can see a few examples below. \n",
    "\n",
    "<img src='assets/Flowers.png' width=500px>\n",
    "\n",
    "The project is broken down into multiple steps:\n",
    "\n",
    "* Load and preprocess the image dataset\n",
    "* Train the image classifier on your dataset\n",
    "* Use the trained classifier to predict image content\n",
    "\n",
    "We'll lead you through each part which you'll implement in Python.\n",
    "\n",
    "When you've completed this project, you'll have an application that can be trained on any set of labeled images. Here your network will be learning about flowers and end up as a command line application. But, what you do with your new skills depends on your imagination and effort in building a dataset. For example, imagine an app where you take a picture of a car, it tells you what the make and model is, then looks up information about it. Go build your own dataset and make something new.\n",
    "\n",
    "First up is importing the packages you'll need. It's good practice to keep all the imports at the beginning of your code. As you work through this notebook and find you need to import a package, make sure to add the import up here."
   ]
  },
  {
   "cell_type": "code",
   "execution_count": 2,
   "metadata": {},
   "outputs": [
    {
     "name": "stderr",
     "output_type": "stream",
     "text": [
      "/home/sunny/anaconda2/envs/p3/lib/python3.6/site-packages/h5py/__init__.py:36: FutureWarning: Conversion of the second argument of issubdtype from `float` to `np.floating` is deprecated. In future, it will be treated as `np.float64 == np.dtype(float).type`.\n",
      "  from ._conv import register_converters as _register_converters\n",
      "Using Theano backend.\n"
     ]
    }
   ],
   "source": [
    "# Imports here\n",
    "import numpy as np\n",
    "import pandas as pd\n",
    "import matplotlib.pyplot as plt\n",
    "from scipy.io import loadmat\n",
    "import os\n",
    "import sys\n",
    "import json\n",
    "from collections import Counter,OrderedDict\n",
    "import random\n",
    "import time\n",
    "from PIL import Image\n",
    "\n",
    "## Scikit Learn Imports.........\n",
    "from sklearn.neural_network import MLPClassifier\n",
    "from sklearn.model_selection import train_test_split\n",
    "from sklearn.metrics import confusion_matrix,log_loss\n",
    "from sklearn.preprocessing import MinMaxScaler, StandardScaler, RobustScaler\n",
    "from sklearn.neighbors import KNeighborsClassifier\n",
    "from sklearn.linear_model import LogisticRegression\n",
    "from sklearn.metrics import confusion_matrix,precision_recall_fscore_support\n",
    "from sklearn.utils import class_weight\n",
    "\n",
    "## Keras Imports...........\n",
    "import keras\n",
    "import keras.backend as K\n",
    "from keras.layers import Dense,Flatten,Dropout,BatchNormalization,Input,Lambda,Merge,Conv1D\n",
    "from keras.models import Sequential,Model\n",
    "from keras.utils.np_utils import to_categorical\n",
    "from keras.optimizers import Adam,SGD,RMSprop\n",
    "from collections import Counter\n",
    "\n",
    "%matplotlib inline\n",
    "%config InlineBackend.figure_format = 'retina'\n",
    "plt.rcParams['figure.figsize'] = 15,8\n",
    "\n",
    "import torch\n",
    "import torch.nn as nn\n",
    "import torch.nn.functional as F\n",
    "import torch.optim as optim\n",
    "import torchvision\n",
    "from torch.utils.data import Dataset, DataLoader\n",
    "from torchvision import transforms, utils\n",
    "from torchvision import datasets, transforms, models\n",
    "from torch.autograd import Variable"
   ]
  },
  {
   "cell_type": "markdown",
   "metadata": {},
   "source": [
    "## Load the data\n",
    "\n",
    "Here you'll use `torchvision` to load the data ([documentation](http://pytorch.org/docs/0.3.0/torchvision/index.html)). The data should be included alongside this notebook, otherwise you can [download it here](https://s3.amazonaws.com/content.udacity-data.com/nd089/flower_data.tar.gz). The dataset is split into three parts, training, validation, and testing. For the training, you'll want to apply transformations such as random scaling, cropping, and flipping. This will help the network generalize leading to better performance. You'll also need to make sure the input data is resized to 224x224 pixels as required by the pre-trained networks.\n",
    "\n",
    "The validation and testing sets are used to measure the model's performance on data it hasn't seen yet. For this you don't want any scaling or rotation transformations, but you'll need to resize then crop the images to the appropriate size.\n",
    "\n",
    "The pre-trained networks you'll use were trained on the ImageNet dataset where each color channel was normalized separately. For all three sets you'll need to normalize the means and standard deviations of the images to what the network expects. For the means, it's `[0.485, 0.456, 0.406]` and for the standard deviations `[0.229, 0.224, 0.225]`, calculated from the ImageNet images.  These values will shift each color channel to be centered at 0 and range from -1 to 1.\n",
    " "
   ]
  },
  {
   "cell_type": "code",
   "execution_count": 8,
   "metadata": {},
   "outputs": [
    {
     "name": "stdout",
     "output_type": "stream",
     "text": [
      "Total images : 8189\n"
     ]
    }
   ],
   "source": [
    "## Readinf flower names and file names\n",
    "data_dir = os.path.join(os.getcwd(),'jpg')\n",
    "train_dir = os.path.join(data_dir,'train')\n",
    "valid_dir = os.path.join(data_dir,'valid')\n",
    "test_dir = os.path.join(data_dir,'test')\n",
    "\n",
    "with open('cat_to_name.json', 'r') as f:\n",
    "    cat_to_name = json.load(f)\n",
    "#print(cat_to_name)\n",
    "labels = loadmat('imagelabels.mat')\n",
    "labels = labels['labels'][0]\n",
    "print('Total images : %d' % len(labels))\n",
    "\n",
    "files = list(os.walk(data_dir))[0][2]\n",
    "#print(files)\n",
    "files = sorted(files)"
   ]
  },
  {
   "cell_type": "code",
   "execution_count": 3,
   "metadata": {},
   "outputs": [],
   "source": [
    "#%ls\n",
    "## Renaming files with proper flower names.....\n",
    "\n",
    "for file in files:\n",
    "    file_idx = int(file.split('_')[1].split('.')[0])\n",
    "    try:\n",
    "        flower_name = cat_to_name[str(labels[file_idx])].replace(' ','_')\n",
    "        file_new = file.replace('image',flower_name)\n",
    "        #print(file)\n",
    "        os.rename(os.path.join(data_dir,file),os.path.join(data_dir,file_new))\n",
    "    except IndexError:\n",
    "        os.remove(os.path.join(data_dir,file))\n",
    "        print('No Image name found for image index : %d. Deleting File....' % file_idx)\n",
    "train_dir = data_dir + '/train'\n",
    "valid_dir = data_dir + '/valid'\n",
    "test_dir = data_dir + '/test'\n",
    "#print(type(labels))\n",
    "#print(labels)"
   ]
  },
  {
   "cell_type": "code",
   "execution_count": 4,
   "metadata": {},
   "outputs": [
    {
     "ename": "FileExistsError",
     "evalue": "[Errno 17] File exists: '/home/sunny/Desktop/Python/jupyter_notebooks/freelancing_projects/Pytorch deeplearning guidance/aipnd-project/jpg/train'",
     "output_type": "error",
     "traceback": [
      "\u001b[0;31m---------------------------------------------------------------------------\u001b[0m",
      "\u001b[0;31mFileExistsError\u001b[0m                           Traceback (most recent call last)",
      "\u001b[0;32m<ipython-input-4-602032552ee2>\u001b[0m in \u001b[0;36m<module>\u001b[0;34m()\u001b[0m\n\u001b[1;32m      3\u001b[0m \u001b[0mtrain_dir\u001b[0m \u001b[0;34m=\u001b[0m \u001b[0mos\u001b[0m\u001b[0;34m.\u001b[0m\u001b[0mpath\u001b[0m\u001b[0;34m.\u001b[0m\u001b[0mjoin\u001b[0m\u001b[0;34m(\u001b[0m\u001b[0mdata_dir\u001b[0m\u001b[0;34m,\u001b[0m\u001b[0;34m'train'\u001b[0m\u001b[0;34m)\u001b[0m\u001b[0;34m\u001b[0m\u001b[0m\n\u001b[1;32m      4\u001b[0m \u001b[0;31m#print(train_dir)\u001b[0m\u001b[0;34m\u001b[0m\u001b[0;34m\u001b[0m\u001b[0m\n\u001b[0;32m----> 5\u001b[0;31m \u001b[0mos\u001b[0m\u001b[0;34m.\u001b[0m\u001b[0mmkdir\u001b[0m\u001b[0;34m(\u001b[0m\u001b[0mtrain_dir\u001b[0m\u001b[0;34m)\u001b[0m\u001b[0;34m\u001b[0m\u001b[0m\n\u001b[0m\u001b[1;32m      6\u001b[0m \u001b[0;32mfor\u001b[0m \u001b[0mflower_name\u001b[0m \u001b[0;32min\u001b[0m \u001b[0mcat_to_name\u001b[0m\u001b[0;34m.\u001b[0m\u001b[0mvalues\u001b[0m\u001b[0;34m(\u001b[0m\u001b[0;34m)\u001b[0m\u001b[0;34m:\u001b[0m\u001b[0;34m\u001b[0m\u001b[0m\n\u001b[1;32m      7\u001b[0m     \u001b[0;31m#print(flower)\u001b[0m\u001b[0;34m\u001b[0m\u001b[0;34m\u001b[0m\u001b[0m\n",
      "\u001b[0;31mFileExistsError\u001b[0m: [Errno 17] File exists: '/home/sunny/Desktop/Python/jupyter_notebooks/freelancing_projects/Pytorch deeplearning guidance/aipnd-project/jpg/train'"
     ]
    }
   ],
   "source": [
    "## Moving flowers to thrie folders.....\n",
    "files = list(os.walk(data_dir))[0][2]\n",
    "\n",
    "if not os.path.exists(train_dir):\n",
    "    os.mkdir(train_dir)\n",
    "    \n",
    "for flower_name in cat_to_name.values():\n",
    "    new_flower_name = flower_name.replace(' ','_')\n",
    "    same_flowers = [file for file in files if new_flower_name == file[:-10]]\n",
    "    new_dir = os.path.join(train_dir,new_flower_name)\n",
    "    #print('Creating directory : %s' % new_dir)\n",
    "    if not os.path.exists(new_dir):\n",
    "        os.mkdir(new_dir)\n",
    "    if same_flowers:\n",
    "        for flower in same_flowers:\n",
    "            os.rename(os.path.join(data_dir,flower),os.path.join(new_dir,flower))"
   ]
  },
  {
   "cell_type": "code",
   "execution_count": null,
   "metadata": {},
   "outputs": [],
   "source": [
    "#print(data_dir)\n",
    "if not os.path.exists(valid_dir):\n",
    "    os.mkdir(valid_dir)\n",
    "    \n",
    "if not os.path.exists(test_dir):\n",
    "    os.mkdir(test_dir)\n",
    "    \n",
    "folder_list = list(os.walk(train_dir))[0][1]\n",
    "\n",
    "## Moving 10% files from train folder to valid folder by shuffling images\n",
    "for folder in folder_list:\n",
    "    full_path = os.path.join(train_dir,folder)\n",
    "    valid_path = full_path.replace('train','valid')\n",
    "    if not os.path.exists(valid_path):\n",
    "        os.mkdir(valid_path)\n",
    "    files = os.listdir(full_path)\n",
    "    random.shuffle(files)\n",
    "    for i in range(int(len(files)*.1)):\n",
    "        os.rename(os.path.join(full_path,files[i]), os.path.join(valid_path,files[i]))\n",
    "\n",
    "## Moving 10% files from train folder to test folder by shuffling images\n",
    "for folder in folder_list:\n",
    "    full_path = os.path.join(train_dir,folder)\n",
    "    test_path = full_path.replace('train','test')\n",
    "    if not os.path.exists(test_path):\n",
    "        os.mkdir(test_path)\n",
    "    files = os.listdir(full_path)\n",
    "    random.shuffle(files)\n",
    "    for i in range(int(len(files)*.1)):\n",
    "        os.rename(os.path.join(full_path,files[i]), os.path.join(test_path,files[i]))"
   ]
  },
  {
   "cell_type": "code",
   "execution_count": 9,
   "metadata": {},
   "outputs": [],
   "source": [
    "train_transforms = transforms.Compose([transforms.RandomResizedCrop(224),\n",
    "                                     transforms.RandomHorizontalFlip(),\n",
    "                                     transforms.RandomVerticalFlip(),\n",
    "                                     #transforms.RandomRotation(), ## Need to find out rotation param\n",
    "                                     transforms.ToTensor(),\n",
    "                                     transforms.Normalize(mean=[0.485, 0.456, 0.406], std=[0.229, 0.224, 0.225])])\n",
    "    \n",
    "valid_transforms = transforms.Compose([transforms.RandomResizedCrop(224),\n",
    "                                     transforms.ToTensor(),\n",
    "                                     transforms.Normalize(mean=[0.485, 0.456, 0.406],std=[0.229, 0.224, 0.225])])\n",
    "\n",
    "test_transforms = transforms.Compose([transforms.RandomResizedCrop(224),\n",
    "                                     transforms.ToTensor(),\n",
    "                                     transforms.Normalize(mean=[0.485, 0.456, 0.406],std=[0.229, 0.224, 0.225])])\n",
    "\n",
    "#transforms.CenterCrop((224,224))\n",
    "train_dataset = torchvision.datasets.ImageFolder(train_dir,transform=train_transforms)\n",
    "valid_dataset = torchvision.datasets.ImageFolder(valid_dir,transform=valid_transforms)\n",
    "test_dataset  = torchvision.datasets.ImageFolder(test_dir,transform=test_transforms)\n",
    "\n",
    "#loader = train_dataset.loader\n",
    "train_loader = torch.utils.data.DataLoader(train_dataset,\n",
    "                                          batch_size=16,\n",
    "                                          shuffle=True)\n",
    "valid_loader = torch.utils.data.DataLoader(valid_dataset) #,\n",
    "                                          #batch_size=16,\n",
    "                                          #shuffle=True)\n",
    "test_loader = torch.utils.data.DataLoader(test_dataset) #,\n",
    "                                          #batch_size=16,\n",
    "                                          #shuffle=True)"
   ]
  },
  {
   "cell_type": "code",
   "execution_count": 33,
   "metadata": {},
   "outputs": [
    {
     "data": {
      "text/plain": [
       "(True, True, True)"
      ]
     },
     "execution_count": 33,
     "metadata": {},
     "output_type": "execute_result"
    }
   ],
   "source": [
    "train_dataset.class_to_idx == valid_dataset.class_to_idx, train_dataset.class_to_idx == test_dataset.class_to_idx, test_dataset.class_to_idx == valid_dataset.class_to_idx"
   ]
  },
  {
   "cell_type": "code",
   "execution_count": 34,
   "metadata": {},
   "outputs": [
    {
     "data": {
      "text/plain": [
       "{'alpine_sea_holly': 0,\n",
       " 'anthurium': 1,\n",
       " 'artichoke': 2,\n",
       " 'azalea': 3,\n",
       " 'ball_moss': 4,\n",
       " 'balloon_flower': 5,\n",
       " 'barbeton_daisy': 6,\n",
       " 'bearded_iris': 7,\n",
       " 'bee_balm': 8,\n",
       " 'bird_of_paradise': 9,\n",
       " 'bishop_of_llandaff': 10,\n",
       " 'black-eyed_susan': 11,\n",
       " 'blackberry_lily': 12,\n",
       " 'blanket_flower': 13,\n",
       " 'bolero_deep_blue': 14,\n",
       " 'bougainvillea': 15,\n",
       " 'bromelia': 16,\n",
       " 'buttercup': 17,\n",
       " 'californian_poppy': 18,\n",
       " 'camellia': 19,\n",
       " 'canna_lily': 20,\n",
       " 'canterbury_bells': 21,\n",
       " 'cape_flower': 22,\n",
       " 'carnation': 23,\n",
       " 'cautleya_spicata': 24,\n",
       " 'clematis': 25,\n",
       " \"colt's_foot\": 26,\n",
       " 'columbine': 27,\n",
       " 'common_dandelion': 28,\n",
       " 'corn_poppy': 29,\n",
       " 'cyclamen': 30,\n",
       " 'daffodil': 31,\n",
       " 'desert-rose': 32,\n",
       " 'english_marigold': 33,\n",
       " 'fire_lily': 34,\n",
       " 'foxglove': 35,\n",
       " 'frangipani': 36,\n",
       " 'fritillary': 37,\n",
       " 'garden_phlox': 38,\n",
       " 'gaura': 39,\n",
       " 'gazania': 40,\n",
       " 'geranium': 41,\n",
       " 'giant_white_arum_lily': 42,\n",
       " 'globe-flower': 43,\n",
       " 'globe_thistle': 44,\n",
       " 'grape_hyacinth': 45,\n",
       " 'great_masterwort': 46,\n",
       " 'hard-leaved_pocket_orchid': 47,\n",
       " 'hibiscus': 48,\n",
       " 'hippeastrum': 49,\n",
       " 'japanese_anemone': 50,\n",
       " 'king_protea': 51,\n",
       " 'lenten_rose': 52,\n",
       " 'lotus_lotus': 53,\n",
       " 'love_in_the_mist': 54,\n",
       " 'magnolia': 55,\n",
       " 'mallow': 56,\n",
       " 'marigold': 57,\n",
       " 'mexican_aster': 58,\n",
       " 'mexican_petunia': 59,\n",
       " 'monkshood': 60,\n",
       " 'moon_orchid': 61,\n",
       " 'morning_glory': 62,\n",
       " 'orange_dahlia': 63,\n",
       " 'osteospermum': 64,\n",
       " 'oxeye_daisy': 65,\n",
       " 'passion_flower': 66,\n",
       " 'pelargonium': 67,\n",
       " 'peruvian_lily': 68,\n",
       " 'petunia': 69,\n",
       " 'pincushion_flower': 70,\n",
       " 'pink-yellow_dahlia': 71,\n",
       " 'pink_primrose': 72,\n",
       " 'poinsettia': 73,\n",
       " 'primula': 74,\n",
       " 'prince_of_wales_feathers': 75,\n",
       " 'purple_coneflower': 76,\n",
       " 'red_ginger': 77,\n",
       " 'rose': 78,\n",
       " 'ruby-lipped_cattleya': 79,\n",
       " 'siam_tulip': 80,\n",
       " 'silverbush': 81,\n",
       " 'snapdragon': 82,\n",
       " 'spear_thistle': 83,\n",
       " 'spring_crocus': 84,\n",
       " 'stemless_gentian': 85,\n",
       " 'sunflower': 86,\n",
       " 'sweet_pea': 87,\n",
       " 'sweet_william': 88,\n",
       " 'sword_lily': 89,\n",
       " 'thorn_apple': 90,\n",
       " 'tiger_lily': 91,\n",
       " 'toad_lily': 92,\n",
       " 'tree_mallow': 93,\n",
       " 'tree_poppy': 94,\n",
       " 'trumpet_creeper': 95,\n",
       " 'wallflower': 96,\n",
       " 'water_lily': 97,\n",
       " 'watercress': 98,\n",
       " 'wild_pansy': 99,\n",
       " 'windflower': 100,\n",
       " 'yellow_iris': 101}"
      ]
     },
     "execution_count": 34,
     "metadata": {},
     "output_type": "execute_result"
    }
   ],
   "source": [
    "train_dataset.class_to_idx"
   ]
  },
  {
   "cell_type": "code",
   "execution_count": 10,
   "metadata": {},
   "outputs": [
    {
     "name": "stdout",
     "output_type": "stream",
     "text": [
      "torch.Size([16, 3, 224, 224]) torch.Size([16])\n",
      "torch.Size([1, 3, 224, 224]) torch.Size([1])\n",
      "torch.Size([1, 3, 224, 224]) torch.Size([1])\n"
     ]
    }
   ],
   "source": [
    "# Testing loaders\n",
    "for images,labels in train_loader:\n",
    "    print(images.shape,labels.shape)\n",
    "    break\n",
    "for images,labels in valid_loader:\n",
    "    print(images.shape,labels.shape)\n",
    "    break\n",
    "for images,labels in test_loader:\n",
    "    print(images.shape,labels.shape)\n",
    "    break"
   ]
  },
  {
   "cell_type": "code",
   "execution_count": 12,
   "metadata": {},
   "outputs": [
    {
     "data": {
      "text/plain": [
       "(381, 6092, 630, 1466)"
      ]
     },
     "execution_count": 12,
     "metadata": {},
     "output_type": "execute_result"
    }
   ],
   "source": [
    "# TODO: Define your transforms for the training, validation, and testing sets\n",
    "#data_transforms = \n",
    "\n",
    "# TODO: Load the datasets with ImageFolder\n",
    "#image_datasets = \n",
    "\n",
    "# TODO: Using the image datasets and the trainforms, define the dataloaders\n",
    "#dataloaders =\n",
    "len(train_loader),len(train_loader.dataset),len(test_loader.dataset), len(valid_loader.dataset)"
   ]
  },
  {
   "cell_type": "markdown",
   "metadata": {},
   "source": [
    "### Label mapping\n",
    "\n",
    "You'll also need to load in a mapping from category label to category name. You can find this in the file `cat_to_name.json`. It's a JSON object which you can read in with the [`json` module](https://docs.python.org/2/library/json.html). This will give you a dictionary mapping the integer encoded categories to the actual names of the flowers."
   ]
  },
  {
   "cell_type": "code",
   "execution_count": 13,
   "metadata": {},
   "outputs": [],
   "source": [
    "#import json\n",
    "\n",
    "#with open('cat_to_name.json', 'r') as f:\n",
    "#    cat_to_name = json.load(f)\n",
    "device = torch.device('cuda' if torch.cuda.is_available() else 'cpu')\n",
    "print(device)"
   ]
  },
  {
   "cell_type": "markdown",
   "metadata": {},
   "source": [
    "# Building and training the classifier\n",
    "\n",
    "Now that the data is ready, it's time to build and train the classifier. As usual, you should use one of the pretrained models from `torchvision.models` to get the image features. Build and train a new feed-forward classifier using those features.\n",
    "\n",
    "We're going to leave this part up to you. If you want to talk through it with someone, chat with your fellow students! You can also ask questions on the forums or join the instructors in office hours.\n",
    "\n",
    "Refer to [the rubric](https://review.udacity.com/#!/rubrics/1663/view) for guidance on successfully completing this section. Things you'll need to do:\n",
    "\n",
    "* Load a [pre-trained network](http://pytorch.org/docs/master/torchvision/models.html) (If you need a starting point, the VGG networks work great and are straightforward to use)\n",
    "* Define a new, untrained feed-forward network as a classifier, using ReLU activations and dropout\n",
    "* Train the classifier layers using backpropagation using the pre-trained network to get the features\n",
    "* Track the loss and accuracy on the validation set to determine the best hyperparameters\n",
    "\n",
    "We've left a cell open for you below, but use as many as you need. Our advice is to break the problem up into smaller parts you can run separately. Check that each part is doing what you expect, then move on to the next. You'll likely find that as you work through each part, you'll need to go back and modify your previous code. This is totally normal!\n",
    "\n",
    "When training make sure you're updating only the weights of the feed-forward network. You should be able to get the validation accuracy above 70% if you build everything right. Make sure to try different hyperparameters (learning rate, units in the classifier, epochs, etc) to find the best model. Save those hyperparameters to use as default values in the next part of the project."
   ]
  },
  {
   "cell_type": "code",
   "execution_count": 14,
   "metadata": {},
   "outputs": [],
   "source": [
    "'''\n",
    "resnet18 = models.resnet18(pretrained=True)\n",
    "alexnet = models.alexnet(pretrained=True)\n",
    "'''\n",
    "#vgg16 = models.vgg16_bn(pretrained=True).to(device)\n",
    "vgg16 = models.vgg16(pretrained=True).to(device)"
   ]
  },
  {
   "cell_type": "code",
   "execution_count": 20,
   "metadata": {},
   "outputs": [],
   "source": [
    "# TODO: Build and train your network\n",
    "# Freeze parameters\n",
    "for param in vgg16.parameters():\n",
    "    param.requires_grad = False\n",
    "\n",
    "classifier = nn.Sequential(OrderedDict([\n",
    "                          ('fc1', nn.Linear(in_features=25088, out_features=4096)),\n",
    "                          ('dropout1',nn.Dropout(0.15)),\n",
    "                          ('relu1', nn.ReLU()),\n",
    "                          ('fc2', nn.Linear(in_features=4096, out_features=512)),\n",
    "                          ('dropout2', nn.Dropout(0.15)),\n",
    "                          ('relu2', nn.ReLU()),\n",
    "                          ('fc3', nn.Linear(in_features=512, out_features=102)),\n",
    "                          ('output', nn.LogSoftmax(dim=1))\n",
    "                          ]))\n",
    "vgg16.classifier = classifier\n",
    "vgg16.classifier = vgg16.classifier.to(device)\n",
    "for param in vgg16.classifier.parameters():\n",
    "    param.requires_grad = True"
   ]
  },
  {
   "cell_type": "code",
   "execution_count": 21,
   "metadata": {},
   "outputs": [
    {
     "name": "stdout",
     "output_type": "stream",
     "text": [
      "Sequential(\n",
      "  (0): Linear(in_features=25088, out_features=4096, bias=True)\n",
      "  (1): ReLU(inplace)\n",
      "  (2): Dropout(p=0.5)\n",
      "  (3): Linear(in_features=4096, out_features=4096, bias=True)\n",
      "  (4): ReLU(inplace)\n",
      "  (5): Dropout(p=0.5)\n",
      "  (6): Linear(in_features=4096, out_features=1000, bias=True)\n",
      ")\n",
      "Sequential(\n",
      "  (0): Linear(in_features=25088, out_features=4096, bias=True)\n",
      "  (1): ReLU(inplace)\n",
      "  (2): Dropout(p=0.5)\n",
      "  (3): Linear(in_features=4096, out_features=4096, bias=True)\n",
      "  (4): ReLU(inplace)\n",
      "  (5): Dropout(p=0.5)\n",
      "  (6): Linear(in_features=4096, out_features=1000, bias=True)\n",
      "  (7): Linear(in_features=1000, out_features=102, bias=True)\n",
      "  (8): Softmax()\n",
      ")\n"
     ]
    }
   ],
   "source": [
    "print(vgg16.classifier)\n",
    "#for param in vgg16.parameters():\n",
    "#    print(param.requires_grad)"
   ]
  },
  {
   "cell_type": "code",
   "execution_count": 22,
   "metadata": {},
   "outputs": [],
   "source": [
    "# training network\n",
    "start = time.time()\n",
    "criterion = nn.CrossEntropyLoss().to(device)\n",
    "optimizer = optim.SGD(vgg16.classifier.parameters(), lr=0.01, momentum=0.9)\n",
    "\n",
    "## We are maintaining list of learning rate and epochs for that particular learning rate which we'll loop through.\n",
    "epochs_list = [(0.01,8),(0.001,5),(0.0001,5),(0.00001,5),(0.000001,5)]\n",
    "print_every =40\n",
    "steps =0\n",
    "## We call this method vgg16.train() which will activate BatchNormalization and Dropout layer which will be activated only during \n",
    "## training phase and needs to be frozen during evaluate/test phase.\n",
    "\n",
    "vgg16.train()\n",
    "\n",
    "for lr, epochs in epochs_list:\n",
    "    optimizer.lr = lr\n",
    "    for e in range(epochs):\n",
    "        running_loss = 0\n",
    "        correct = 0\n",
    "        for images, labels in trainloader:\n",
    "            steps += 1\n",
    "            #input data\n",
    "            images, labels = Variable(images), Variable(labels)   \n",
    "            images, labels = images.to(device), labels.to(device) ## We call to(device) to transfer tensors between CPU and GPU\n",
    "            #clear gradients calculated in previous step\n",
    "            optimizer.zero_grad()       \n",
    "            #forward +backward\n",
    "            outputs = vgg16.forward(images)\n",
    "            loss = criterion(outputs, labels)\n",
    "            loss.backward()    \n",
    "            #renew parameter updated according to new gradients and learning rate.\n",
    "            optimizer.step()  \n",
    "            _,preds = torch.max(outputs.data, 1)\n",
    "            ## We caculate from this particular batch how many were caculated/guessed correctly by model.\n",
    "            correct += (labels == preds).sum()\n",
    "\n",
    "            #print out \n",
    "            running_loss += loss.item()\n",
    "            \n",
    "            ## We print loss at every 40 batches to check whether it's decresing or not. Ideally it should decrease.\n",
    "            if steps % print_every == 0:\n",
    "                print(\"Epoch: {}/{}.. \".format(e+1, epochs),\n",
    "                      \"Training Loss: {:4f}\".format(running_loss/print_every))\n",
    "                running_loss = 0\n",
    "        print('Accuracy at %d epoch & Learning Rate : %f is %f %%' % (e+1, lr,float(correct) *100 / len(trainloader.dataset)))\n",
    "\n",
    "    print('Finished Training in time : %f seconds' % (time.time() - start))"
   ]
  },
  {
   "cell_type": "code",
   "execution_count": null,
   "metadata": {},
   "outputs": [
    {
     "name": "stderr",
     "output_type": "stream",
     "text": [
      "/home/sunny/anaconda2/envs/p3/lib/python3.6/site-packages/ipykernel_launcher.py:14: UserWarning: invalid index of a 0-dim tensor. This will be an error in PyTorch 0.5. Use tensor.item() to convert a 0-dim tensor to a Python number\n",
      "  \n"
     ]
    },
    {
     "name": "stdout",
     "output_type": "stream",
     "text": [
      "Loss : tensor(4.6417) | Correct : 0\n",
      "Loss : tensor(9.1584) | Correct : 2\n",
      "Loss : tensor(13.7375) | Correct : 3\n",
      "Loss : tensor(18.3167) | Correct : 4\n",
      "Loss : tensor(22.9584) | Correct : 4\n",
      "Loss : tensor(27.6001) | Correct : 4\n"
     ]
    }
   ],
   "source": []
  },
  {
   "cell_type": "markdown",
   "metadata": {},
   "source": [
    "## Testing your network\n",
    "\n",
    "It's good practice to test your trained network on test data, images the network has never seen either in training or validation. This will give you a good estimate for the model's performance on completely new images. Run the test images through the network and measure the accuracy, the same way you did validation. You should be able to reach around 70% accuracy on the test set if the model has been trained well."
   ]
  },
  {
   "cell_type": "code",
   "execution_count": null,
   "metadata": {},
   "outputs": [],
   "source": [
    "# TODO: Do validation on the test set\n",
    "## We are doing below evaluation on Validation Dataset generated above.\n",
    "## We need to call vgg16.eval() method to put model in evaluation mode which will freeze BatchNormalization and Dropout layer \n",
    "## which does not need to be active during evaluation phase.They only need to be active during training time.\n",
    "vgg16.eval()\n",
    "\n",
    "## We need to use torch.no_grad() whenever we are evaluating mode as during this time we doe need to calculate gradients of\n",
    "## various parameters which we generally do during training time as we need to update this parameters during training but\n",
    "## not during test/evaluate time.\n",
    "with torch.no_grad():\n",
    "    correct = 0\n",
    "    total = 0\n",
    "    for data in validloader:\n",
    "        images, labels = data\n",
    "        images, labels = images.to(device), labels.to(device)\n",
    "        outputs = vgg16(Variable(images))\n",
    "        _, predicted = torch.max(outputs.data, 1)\n",
    "        total += labels.size(0)\n",
    "        correct += (predicted == labels).sum()\n",
    "    print('Accuracy of the network on the %d valid images: %d %%' % \n",
    "          (len(validloader.dataset), 100 * correct / total))\n",
    "\n",
    "\n",
    "with torch.no_grad():\n",
    "    correct = 0\n",
    "    total = 0\n",
    "    for data in testloader:\n",
    "        images, labels = data\n",
    "        images, labels = images.to(device), labels.to(device)\n",
    "        outputs = vgg16(Variable(images))\n",
    "        _, predicted = torch.max(outputs.data, 1)\n",
    "        total += labels.size(0)\n",
    "        correct += (predicted == labels).sum()\n",
    "    print('Accuracy of the network on the %d test images: %d %%' % \n",
    "          (len(testloader.dataset), 100 * correct / total ))"
   ]
  },
  {
   "cell_type": "markdown",
   "metadata": {},
   "source": [
    "## Save the checkpoint\n",
    "\n",
    "Now that your network is trained, save the model so you can load it later for making predictions. You probably want to save other things such as the mapping of classes to indices which you get from one of the image datasets: `image_datasets['train'].class_to_idx`. You can attach this to the model as an attribute which makes inference easier later on.\n",
    "\n",
    "```model.class_to_idx = image_datasets['train'].class_to_idx```\n",
    "\n",
    "Remember that you'll want to completely rebuild the model later so you can use it for inference. Make sure to include any information you need in the checkpoint. If you want to load the model and keep training, you'll want to save the number of epochs as well as the optimizer state, `optimizer.state_dict`. You'll likely want to use this trained model in the next part of the project, so best to save it now."
   ]
  },
  {
   "cell_type": "code",
   "execution_count": 25,
   "metadata": {},
   "outputs": [],
   "source": [
    "#%ls\n",
    "#%rm checkpoint_88.pth\n",
    "%ls"
   ]
  },
  {
   "cell_type": "code",
   "execution_count": 35,
   "metadata": {},
   "outputs": [
    {
     "data": {
      "text/plain": [
       "(odict_keys(['features.0.weight', 'features.0.bias', 'features.1.weight', 'features.1.bias', 'features.1.running_mean', 'features.1.running_var', 'features.3.weight', 'features.3.bias', 'features.4.weight', 'features.4.bias', 'features.4.running_mean', 'features.4.running_var', 'features.7.weight', 'features.7.bias', 'features.8.weight', 'features.8.bias', 'features.8.running_mean', 'features.8.running_var', 'features.10.weight', 'features.10.bias', 'features.11.weight', 'features.11.bias', 'features.11.running_mean', 'features.11.running_var', 'features.14.weight', 'features.14.bias', 'features.15.weight', 'features.15.bias', 'features.15.running_mean', 'features.15.running_var', 'features.17.weight', 'features.17.bias', 'features.18.weight', 'features.18.bias', 'features.18.running_mean', 'features.18.running_var', 'features.20.weight', 'features.20.bias', 'features.21.weight', 'features.21.bias', 'features.21.running_mean', 'features.21.running_var', 'features.24.weight', 'features.24.bias', 'features.25.weight', 'features.25.bias', 'features.25.running_mean', 'features.25.running_var', 'features.27.weight', 'features.27.bias', 'features.28.weight', 'features.28.bias', 'features.28.running_mean', 'features.28.running_var', 'features.30.weight', 'features.30.bias', 'features.31.weight', 'features.31.bias', 'features.31.running_mean', 'features.31.running_var', 'features.34.weight', 'features.34.bias', 'features.35.weight', 'features.35.bias', 'features.35.running_mean', 'features.35.running_var', 'features.37.weight', 'features.37.bias', 'features.38.weight', 'features.38.bias', 'features.38.running_mean', 'features.38.running_var', 'features.40.weight', 'features.40.bias', 'features.41.weight', 'features.41.bias', 'features.41.running_mean', 'features.41.running_var', 'classifier.0.weight', 'classifier.0.bias', 'classifier.3.weight', 'classifier.3.bias', 'classifier.6.weight', 'classifier.6.bias', 'classifier.7.weight', 'classifier.7.bias']),\n",
       " dict_keys(['state', 'param_groups']),\n",
       " odict_keys([]))"
      ]
     },
     "execution_count": 35,
     "metadata": {},
     "output_type": "execute_result"
    }
   ],
   "source": [
    "# TODO: Save the checkpoint \n",
    "vgg16.class_to_idx = train_data.class_to_idx\n",
    "\n",
    "model_state_dict = vgg16.state_dict()\n",
    "optimizer_state_dict = optimizer.state_dict()\n",
    "loss_state_dict = criterion.state_dict()\n",
    "\n",
    "checkpoint_dict = {\n",
    "    'epochs': epochs,\n",
    "    'model_dict': model_state_dict,\n",
    "    'optimizer' : optimizer_state_dict,\n",
    "    'loss' : loss_state_dict,\n",
    "    'class_to_idx' : train_data.class_to_idx,\n",
    "}\n",
    "torch.save(checkpoint_dict, 'vgg_91.pth')"
   ]
  },
  {
   "cell_type": "markdown",
   "metadata": {},
   "source": [
    "## Loading the checkpoint\n",
    "\n",
    "At this point it's good to write a function that can load a checkpoint and rebuild the model. That way you can come back to this project and keep working on it without having to retrain the network."
   ]
  },
  {
   "cell_type": "code",
   "execution_count": null,
   "metadata": {},
   "outputs": [],
   "source": [
    "# TODO: Write a function that loads a checkpoint and rebuilds the model\n",
    "\n",
    "def load_checkpoint(filepath):\n",
    "    checkpoint = torch.load(filepath)\n",
    "    reloaded_model = models.vgg16(pretrained=False).to(device)\n",
    "    classifier = nn.Sequential(OrderedDict([\n",
    "                          ('fc1', nn.Linear(in_features=25088, out_features=4096)),\n",
    "                          ('dropout1',nn.Dropout(0.15)),\n",
    "                          ('relu1', nn.ReLU()),\n",
    "                          ('fc2', nn.Linear(in_features=4096, out_features=512)),\n",
    "                          ('dropout2', nn.Dropout(0.15)),\n",
    "                          ('relu2', nn.ReLU()),\n",
    "                          ('fc3', nn.Linear(in_features=512, out_features=102)),\n",
    "                          ('output', nn.LogSoftmax(dim=1))\n",
    "                          ]))\n",
    "    reloaded_model.classifier = classifier\n",
    "    reloaded_model.load_state_dict(checkpoint['model_dict'])\n",
    "    criterion = nn.CrossEntropyLoss().to(device)\n",
    "    optimizer = optim.SGD(reloaded_model.classifier.parameters(), lr=0.01, momentum=0.9)\n",
    "    optimizer.load_state_dict(checkpoint['optimizer'])\n",
    "    criterion.load_state_dict(checkpoint['loss'])\n",
    "    reloaded_model = reloaded_model.to(device)\n",
    "    return reloaded_model,optimizer,criterion,checkpoint['class_to_idx']\n",
    "\n",
    "model, optimizer, loss, class_to_idx = load_checkpoint('vgg_91.pth')\n",
    "#print(model)"
   ]
  },
  {
   "cell_type": "code",
   "execution_count": null,
   "metadata": {},
   "outputs": [],
   "source": [
    "print(device)"
   ]
  },
  {
   "cell_type": "code",
   "execution_count": null,
   "metadata": {},
   "outputs": [],
   "source": [
    "## Testing Reloaded model with test dataset to check it's accuracy and check whether weights are loaded proerly or not.\n",
    "with torch.no_grad():\n",
    "    correct = 0\n",
    "    total = 0\n",
    "    for data in testloader:\n",
    "        images, labels = data\n",
    "        images, labels = images.to(device), labels.to(device)\n",
    "        outputs = model.forward(Variable(images))\n",
    "        _, predicted = torch.max(outputs.data, 1)\n",
    "        total += labels.size(0)\n",
    "        correct += (predicted == labels).sum()\n",
    "    print('Accuracy of the network on the %d test images: %d %%' % \n",
    "          (len(testloader.dataset), 100 * correct / total ))"
   ]
  },
  {
   "cell_type": "markdown",
   "metadata": {},
   "source": [
    "# Inference for classification\n",
    "\n",
    "Now you'll write a function to use a trained network for inference. That is, you'll pass an image into the network and predict the class of the flower in the image. Write a function called `predict` that takes an image and a model, then returns the top $K$ most likely classes along with the probabilities. It should look like \n",
    "\n",
    "```python\n",
    "probs, classes = predict(image_path, model)\n",
    "print(probs)\n",
    "print(classes)\n",
    "> [ 0.01558163  0.01541934  0.01452626  0.01443549  0.01407339]\n",
    "> ['70', '3', '45', '62', '55']\n",
    "```\n",
    "\n",
    "First you'll need to handle processing the input image such that it can be used in your network. \n",
    "\n",
    "## Image Preprocessing\n",
    "\n",
    "You'll want to use `PIL` to load the image ([documentation](https://pillow.readthedocs.io/en/latest/reference/Image.html)). It's best to write a function that preprocesses the image so it can be used as input for the model. This function should process the images in the same manner used for training. \n",
    "\n",
    "First, resize the images where the shortest side is 256 pixels, keeping the aspect ratio. This can be done with the [`thumbnail`](http://pillow.readthedocs.io/en/3.1.x/reference/Image.html#PIL.Image.Image.thumbnail) or [`resize`](http://pillow.readthedocs.io/en/3.1.x/reference/Image.html#PIL.Image.Image.thumbnail) methods. Then you'll need to crop out the center 224x224 portion of the image.\n",
    "\n",
    "Color channels of images are typically encoded as integers 0-255, but the model expected floats 0-1. You'll need to convert the values. It's easiest with a Numpy array, which you can get from a PIL image like so `np_image = np.array(pil_image)`.\n",
    "\n",
    "As before, the network expects the images to be normalized in a specific way. For the means, it's `[0.485, 0.456, 0.406]` and for the standard deviations `[0.229, 0.224, 0.225]`. You'll want to subtract the means from each color channel, then divide by the standard deviation. \n",
    "\n",
    "And finally, PyTorch expects the color channel to be the first dimension but it's the third dimension in the PIL image and Numpy array. You can reorder dimensions using [`ndarray.transpose`](https://docs.scipy.org/doc/numpy-1.13.0/reference/generated/numpy.ndarray.transpose.html). The color channel needs to be first and retain the order of the other two dimensions."
   ]
  },
  {
   "cell_type": "code",
   "execution_count": null,
   "metadata": {},
   "outputs": [],
   "source": [
    "# TODO: Process a PIL image for use in a PyTorch model\n",
    "def process_image(image,normalize=True):\n",
    "    ''' Scales, crops, and normalizes a PIL image for a PyTorch model,\n",
    "        returns an Numpy array\n",
    "    '''\n",
    "    img = Image.open(image)\n",
    "    img = img.convert('RGB')\n",
    "    img = np.array(img.resize((256,256)).crop((16,16,240,240)))\n",
    "    to_tensor = transforms.ToTensor()\n",
    "    img = to_tensor(img)\n",
    "    img = img.numpy()\n",
    "    #print(img)\n",
    "    img = img.transpose((1,2,0))\n",
    "    mean = np.array([0.485,0.456,0.406])\n",
    "    std = np.array([0.229,0.224,0.225])\n",
    "    if normalize:\n",
    "        img = ((img - mean) / std)\n",
    "    img = img.transpose((2,0,1))\n",
    "    \n",
    "    #print(img.shape)\n",
    "    img = torch.tensor(img,dtype=torch.float32)\n",
    "    #print(img)\n",
    "    \n",
    "    #img = img.type(torch.float32)\n",
    "    #print(img.size())\n",
    "    return img"
   ]
  },
  {
   "cell_type": "code",
   "execution_count": null,
   "metadata": {},
   "outputs": [],
   "source": [
    "img = Image.open('flowers/valid/1/image_06739.jpg')\n",
    "img"
   ]
  },
  {
   "cell_type": "markdown",
   "metadata": {},
   "source": [
    "To check your work, the function below converts a PyTorch tensor and displays it in the notebook. If your `process_image` function works, running the output through this function should return the original image (except for the cropped out portions)."
   ]
  },
  {
   "cell_type": "code",
   "execution_count": null,
   "metadata": {},
   "outputs": [],
   "source": [
    "def imshow(image, ax=None, title=None):\n",
    "    \"\"\"Imshow for Tensor.\"\"\"\n",
    "    if ax is None:\n",
    "        fig, ax = plt.subplots()\n",
    "    \n",
    "    # PyTorch tensors assume the color channel is the first dimension\n",
    "    # but matplotlib assumes is the third dimension\n",
    "    img = image.numpy()\n",
    "    img = img.transpose((1, 2, 0))\n",
    "    # Undo preprocessing\n",
    "    mean = np.array([0.485, 0.456, 0.406])\n",
    "    std = np.array([0.229, 0.224, 0.225])\n",
    "    img = std * img + mean\n",
    "    # Image needs to be clipped between 0 and 1 or it looks like noise when displayed\n",
    "    img = np.clip(img, 0, 1)\n",
    "    \n",
    "    ax.imshow(img)\n",
    "    \n",
    "    return ax"
   ]
  },
  {
   "cell_type": "code",
   "execution_count": null,
   "metadata": {},
   "outputs": [],
   "source": [
    "#%ls flowers/valid/1/image_06739.jpg\n",
    "imshow(process_image('flowers/valid/1/image_06739.jpg'))\n",
    "#imshow(process_image('flowers/valid/1/image_06739.jpg',normalize=False))"
   ]
  },
  {
   "cell_type": "markdown",
   "metadata": {},
   "source": [
    "## Class Prediction\n",
    "\n",
    "Once you can get images in the correct format, it's time to write a function for making predictions with your model. A common practice is to predict the top 5 or so (usually called top-$K$) most probable classes. You'll want to calculate the class probabilities then find the $K$ largest values.\n",
    "\n",
    "To get the top $K$ largest values in a tensor use [`x.topk(k)`](http://pytorch.org/docs/master/torch.html#torch.topk). This method returns both the highest `k` probabilities and the indices of those probabilities corresponding to the classes. You need to convert from these indices to the actual class labels using `class_to_idx` which hopefully you added to the model or from an `ImageFolder` you used to load the data ([see here](#Save-the-checkpoint)). Make sure to invert the dictionary so you get a mapping from index to class as well.\n",
    "\n",
    "Again, this method should take a path to an image and a model checkpoint, then return the probabilities and classes.\n",
    "\n",
    "```python\n",
    "probs, classes = predict(image_path, model)\n",
    "print(probs)\n",
    "print(classes)\n",
    "> [ 0.01558163  0.01541934  0.01452626  0.01443549  0.01407339]\n",
    "> ['70', '3', '45', '62', '55']\n",
    "```"
   ]
  },
  {
   "cell_type": "code",
   "execution_count": null,
   "metadata": {},
   "outputs": [],
   "source": [
    "def predict(image_path, model, topk=5):\n",
    "    ''' Predict the class (or classes) of an image using a trained deep learning model.\n",
    "    '''\n",
    "    # TODO: Implement the code to predict the class from an image file\n",
    "    with torch.no_grad():\n",
    "        #img = Image.open(image_path)\n",
    "        #img = test_transforms(img)\n",
    "        img = process_image(image_path)\n",
    "        #print(len(img.size()))\n",
    "        output = model.forward(img.unsqueeze(0).to(device) if len(img.size())==3 else img.to(device))\n",
    "        top_5_probs,classes = output.topk(topk)\n",
    "        return top_5_probs, classes\n"
   ]
  },
  {
   "cell_type": "code",
   "execution_count": null,
   "metadata": {},
   "outputs": [],
   "source": [
    "predict('flowers/valid/1/image_06739.jpg',model.cuda())\n",
    "#img = process_image('flowers/valid/1/image_06739.jpg')\n",
    "#img.transpose(1,2).size()"
   ]
  },
  {
   "cell_type": "markdown",
   "metadata": {},
   "source": [
    "## Sanity Checking\n",
    "\n",
    "Now that you can use a trained model for predictions, check to make sure it makes sense. Even if the testing accuracy is high, it's always good to check that there aren't obvious bugs. Use `matplotlib` to plot the probabilities for the top 5 classes as a bar graph, along with the input image. It should look like this:\n",
    "\n",
    "<img src='assets/inference_example.png' width=300px>\n",
    "\n",
    "You can convert from the class integer encoding to actual flower names with the `cat_to_name.json` file (should have been loaded earlier in the notebook). To show a PyTorch tensor as an image, use the `imshow` function defined above."
   ]
  },
  {
   "cell_type": "code",
   "execution_count": null,
   "metadata": {},
   "outputs": [],
   "source": [
    "# TODO: Display an image along with the top 5 classes\n",
    "#print(images.size())\n",
    "flower = 'flowers/valid/1/image_06739.jpg'\n",
    "plt.subplot(121)\n",
    "#probs, idxs = predict(flower,model.cuda())\n",
    "#print(probs, idxs)\n",
    "class_to_idx2 = dict(zip(class_to_idx.values(),class_to_idx.keys()))\n",
    "#names = [cat_to_name[class_to_idx2[i.item()]] for i in idxs.data[0]]\n",
    "#print(names)\n",
    "plt.imshow(Image.open(flower))\n",
    "#img = Image.open(flower)\n",
    "#trans_image = train_transforms(img)\n",
    "probs2, idx2 = predict(flower,model)\n",
    "#probs2, idx2 = output.topk(5)\n",
    "#print(probs2,idx2)\n",
    "names = [cat_to_name[class_to_idx2[i.item()]] for i in idx2.data[0]]\n",
    "probs = probs2.data[0].cpu().numpy()\n",
    "probs = np.exp(probs)\n",
    "#print(probs)\n",
    "#print(names)\n",
    "#print(cat_to_name.values())\n",
    "#\n",
    "\n",
    "plt.subplot(122)\n",
    "plt.barh(names,probs)"
   ]
  },
  {
   "cell_type": "code",
   "execution_count": null,
   "metadata": {},
   "outputs": [],
   "source": [
    "dataiter = iter(testloader)\n",
    "images, labels = dataiter.next()\n",
    "imshow(torchvision.utils.make_grid(images))"
   ]
  }
 ],
 "metadata": {
  "kernelspec": {
   "display_name": "Python 3",
   "language": "python",
   "name": "python3"
  },
  "language_info": {
   "codemirror_mode": {
    "name": "ipython",
    "version": 3
   },
   "file_extension": ".py",
   "mimetype": "text/x-python",
   "name": "python",
   "nbconvert_exporter": "python",
   "pygments_lexer": "ipython3",
   "version": "3.6.5"
  }
 },
 "nbformat": 4,
 "nbformat_minor": 2
}
