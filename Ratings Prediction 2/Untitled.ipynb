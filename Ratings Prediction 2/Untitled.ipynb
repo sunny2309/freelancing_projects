{
 "cells": [
  {
   "cell_type": "code",
   "execution_count": 1,
   "metadata": {},
   "outputs": [],
   "source": [
    "import pandas as pd"
   ]
  },
  {
   "cell_type": "code",
   "execution_count": null,
   "metadata": {},
   "outputs": [],
   "source": [
    "df = pd.read_csv('datasets/training_large.csv', names = ['user_id','item_id','rating','time'])\n",
    "df.shape"
   ]
  },
  {
   "cell_type": "code",
   "execution_count": 1,
   "metadata": {},
   "outputs": [],
   "source": [
    "import numpy as np"
   ]
  },
  {
   "cell_type": "code",
   "execution_count": 3,
   "metadata": {},
   "outputs": [],
   "source": [
    "a = np.random.randn(10,5)"
   ]
  },
  {
   "cell_type": "code",
   "execution_count": 6,
   "metadata": {},
   "outputs": [
    {
     "data": {
      "text/plain": [
       "(5,)"
      ]
     },
     "execution_count": 6,
     "metadata": {},
     "output_type": "execute_result"
    }
   ],
   "source": [
    "a.mean(axis=0).shape"
   ]
  },
  {
   "cell_type": "code",
   "execution_count": 7,
   "metadata": {},
   "outputs": [],
   "source": [
    "b = a.mean(axis=0)"
   ]
  },
  {
   "cell_type": "code",
   "execution_count": 8,
   "metadata": {},
   "outputs": [
    {
     "data": {
      "text/plain": [
       "array([0.12475313, 0.39197217, 0.35619374, 0.15832918, 0.04865102])"
      ]
     },
     "execution_count": 8,
     "metadata": {},
     "output_type": "execute_result"
    }
   ],
   "source": [
    "b"
   ]
  },
  {
   "cell_type": "code",
   "execution_count": 10,
   "metadata": {},
   "outputs": [
    {
     "data": {
      "text/plain": [
       "array([[0.12475313, 0.39197217, 0.35619374, 0.15832918, 0.04865102],\n",
       "       [0.12475313, 0.39197217, 0.35619374, 0.15832918, 0.04865102],\n",
       "       [0.12475313, 0.39197217, 0.35619374, 0.15832918, 0.04865102],\n",
       "       [0.12475313, 0.39197217, 0.35619374, 0.15832918, 0.04865102],\n",
       "       [0.12475313, 0.39197217, 0.35619374, 0.15832918, 0.04865102],\n",
       "       [0.12475313, 0.39197217, 0.35619374, 0.15832918, 0.04865102],\n",
       "       [0.12475313, 0.39197217, 0.35619374, 0.15832918, 0.04865102],\n",
       "       [0.12475313, 0.39197217, 0.35619374, 0.15832918, 0.04865102],\n",
       "       [0.12475313, 0.39197217, 0.35619374, 0.15832918, 0.04865102],\n",
       "       [0.12475313, 0.39197217, 0.35619374, 0.15832918, 0.04865102]])"
      ]
     },
     "execution_count": 10,
     "metadata": {},
     "output_type": "execute_result"
    }
   ],
   "source": [
    "np.zeros((10,5)) + b"
   ]
  },
  {
   "cell_type": "code",
   "execution_count": null,
   "metadata": {},
   "outputs": [],
   "source": []
  }
 ],
 "metadata": {
  "kernelspec": {
   "display_name": "Python 3",
   "language": "python",
   "name": "python3"
  },
  "language_info": {
   "codemirror_mode": {
    "name": "ipython",
    "version": 3
   },
   "file_extension": ".py",
   "mimetype": "text/x-python",
   "name": "python",
   "nbconvert_exporter": "python",
   "pygments_lexer": "ipython3",
   "version": "3.7.2"
  }
 },
 "nbformat": 4,
 "nbformat_minor": 2
}
