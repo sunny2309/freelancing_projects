{
 "cells": [
  {
   "cell_type": "code",
   "execution_count": 1,
   "metadata": {},
   "outputs": [],
   "source": [
    "import phe\n",
    "from phe import paillier\n",
    "import numpy as np\n",
    "import random\n",
    "from numba import jit\n",
    "import sympy"
   ]
  },
  {
   "cell_type": "code",
   "execution_count": null,
   "metadata": {},
   "outputs": [],
   "source": []
  },
  {
   "cell_type": "code",
   "execution_count": 26,
   "metadata": {},
   "outputs": [],
   "source": [
    "size_of_n = 512\n",
    "pub, priv = paillier.generate_paillier_keypair(n_length=size_of_n)\n",
    "p = priv.p\n",
    "q = priv.q\n",
    "\n",
    "while sympy.primetest.isprime(2*p +1)!= True:\n",
    "    pub, priv = paillier.generate_paillier_keypair(n_length=size_of_n)\n",
    "    p = priv.p\n",
    "while sympy.primetest.isprime(2*q +1)!= True:\n",
    "    pub, priv = paillier.generate_paillier_keypair(n_length=size_of_n)\n",
    "    q = priv.q"
   ]
  },
  {
   "cell_type": "code",
   "execution_count": 29,
   "metadata": {},
   "outputs": [
    {
     "data": {
      "text/plain": [
       "(True, True, True, True)"
      ]
     },
     "execution_count": 29,
     "metadata": {},
     "output_type": "execute_result"
    }
   ],
   "source": [
    "sympy.primetest.isprime(p),sympy.primetest.isprime(q),sympy.primetest.isprime((2*p)+1),sympy.primetest.isprime((2*q)+1)"
   ]
  },
  {
   "cell_type": "code",
   "execution_count": 32,
   "metadata": {},
   "outputs": [],
   "source": [
    "p1 = (2*p) + 1\n",
    "q1 = (2*q) + 1\n",
    "n = p * q\n",
    "s = 1\n",
    "ns = pow(n,s)\n",
    "nSPlusOne = pow(n,s+1)\n",
    "nPlusOne = n + 1\n",
    "nSquare = n*n\n",
    "\n",
    "\n",
    "m = p1 * q1\n",
    "nm = n*m\n",
    "l = 5 # Number of shares of private key\n",
    "w = 2 # The minimum of decryption servers needed to make a correct decryption.\n",
    "delta = factorial(l)\n",
    "rnd = random.randint(1,1e50)\n",
    "combineSharesConstant = sympy.mod_inverse((4*delta*delta)%ns, ns)\n",
    "d = m * sympy.mod_inverse(m, n)\n",
    "ais = [d]\n",
    "for i in range(1, w):\n",
    "    ais.append(random.randint(0,nm-1))"
   ]
  },
  {
   "cell_type": "code",
   "execution_count": null,
   "metadata": {},
   "outputs": [],
   "source": []
  },
  {
   "cell_type": "code",
   "execution_count": null,
   "metadata": {},
   "outputs": [],
   "source": []
  },
  {
   "cell_type": "code",
   "execution_count": null,
   "metadata": {},
   "outputs": [],
   "source": []
  },
  {
   "cell_type": "code",
   "execution_count": null,
   "metadata": {},
   "outputs": [],
   "source": []
  }
 ],
 "metadata": {
  "kernelspec": {
   "display_name": "Python 3",
   "language": "python",
   "name": "python3"
  },
  "language_info": {
   "codemirror_mode": {
    "name": "ipython",
    "version": 3
   },
   "file_extension": ".py",
   "mimetype": "text/x-python",
   "name": "python",
   "nbconvert_exporter": "python",
   "pygments_lexer": "ipython3",
   "version": "3.6.5"
  }
 },
 "nbformat": 4,
 "nbformat_minor": 2
}
