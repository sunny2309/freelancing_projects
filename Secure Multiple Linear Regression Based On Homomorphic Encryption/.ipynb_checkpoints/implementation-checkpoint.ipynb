{
 "cells": [
  {
   "cell_type": "code",
   "execution_count": 1,
   "metadata": {},
   "outputs": [],
   "source": [
    "import phe\n",
    "from phe import paillier\n",
    "import math\n",
    "import numpy as np\n",
    "import pandas as pd\n",
    "import matplotlib.pyplot as plt\n",
    "import random\n",
    "\n",
    "%matplotlib inline"
   ]
  },
  {
   "cell_type": "code",
   "execution_count": 2,
   "metadata": {},
   "outputs": [
    {
     "data": {
      "text/html": [
       "<div>\n",
       "<style scoped>\n",
       "    .dataframe tbody tr th:only-of-type {\n",
       "        vertical-align: middle;\n",
       "    }\n",
       "\n",
       "    .dataframe tbody tr th {\n",
       "        vertical-align: top;\n",
       "    }\n",
       "\n",
       "    .dataframe thead th {\n",
       "        text-align: right;\n",
       "    }\n",
       "</style>\n",
       "<table border=\"1\" class=\"dataframe\">\n",
       "  <thead>\n",
       "    <tr style=\"text-align: right;\">\n",
       "      <th></th>\n",
       "      <th>mpg</th>\n",
       "      <th>cylinders</th>\n",
       "      <th>displacement</th>\n",
       "      <th>horsepower</th>\n",
       "      <th>weight</th>\n",
       "      <th>acceleration</th>\n",
       "      <th>model year</th>\n",
       "      <th>origin</th>\n",
       "      <th>car name</th>\n",
       "    </tr>\n",
       "  </thead>\n",
       "  <tbody>\n",
       "    <tr>\n",
       "      <th>0</th>\n",
       "      <td>18.0</td>\n",
       "      <td>8</td>\n",
       "      <td>307.0</td>\n",
       "      <td>130</td>\n",
       "      <td>3504</td>\n",
       "      <td>12.0</td>\n",
       "      <td>70</td>\n",
       "      <td>1</td>\n",
       "      <td>chevrolet chevelle malibu</td>\n",
       "    </tr>\n",
       "    <tr>\n",
       "      <th>1</th>\n",
       "      <td>15.0</td>\n",
       "      <td>8</td>\n",
       "      <td>350.0</td>\n",
       "      <td>165</td>\n",
       "      <td>3693</td>\n",
       "      <td>11.5</td>\n",
       "      <td>70</td>\n",
       "      <td>1</td>\n",
       "      <td>buick skylark 320</td>\n",
       "    </tr>\n",
       "    <tr>\n",
       "      <th>2</th>\n",
       "      <td>18.0</td>\n",
       "      <td>8</td>\n",
       "      <td>318.0</td>\n",
       "      <td>150</td>\n",
       "      <td>3436</td>\n",
       "      <td>11.0</td>\n",
       "      <td>70</td>\n",
       "      <td>1</td>\n",
       "      <td>plymouth satellite</td>\n",
       "    </tr>\n",
       "    <tr>\n",
       "      <th>3</th>\n",
       "      <td>16.0</td>\n",
       "      <td>8</td>\n",
       "      <td>304.0</td>\n",
       "      <td>150</td>\n",
       "      <td>3433</td>\n",
       "      <td>12.0</td>\n",
       "      <td>70</td>\n",
       "      <td>1</td>\n",
       "      <td>amc rebel sst</td>\n",
       "    </tr>\n",
       "    <tr>\n",
       "      <th>4</th>\n",
       "      <td>17.0</td>\n",
       "      <td>8</td>\n",
       "      <td>302.0</td>\n",
       "      <td>140</td>\n",
       "      <td>3449</td>\n",
       "      <td>10.5</td>\n",
       "      <td>70</td>\n",
       "      <td>1</td>\n",
       "      <td>ford torino</td>\n",
       "    </tr>\n",
       "  </tbody>\n",
       "</table>\n",
       "</div>"
      ],
      "text/plain": [
       "    mpg  cylinders  displacement horsepower  weight  acceleration  model year  \\\n",
       "0  18.0          8         307.0        130    3504          12.0          70   \n",
       "1  15.0          8         350.0        165    3693          11.5          70   \n",
       "2  18.0          8         318.0        150    3436          11.0          70   \n",
       "3  16.0          8         304.0        150    3433          12.0          70   \n",
       "4  17.0          8         302.0        140    3449          10.5          70   \n",
       "\n",
       "   origin                   car name  \n",
       "0       1  chevrolet chevelle malibu  \n",
       "1       1          buick skylark 320  \n",
       "2       1         plymouth satellite  \n",
       "3       1              amc rebel sst  \n",
       "4       1                ford torino  "
      ]
     },
     "execution_count": 2,
     "metadata": {},
     "output_type": "execute_result"
    }
   ],
   "source": [
    "df = pd.read_csv('auto-mpg.csv')\n",
    "df = df[df.horsepower != '?']\n",
    "df.head()"
   ]
  },
  {
   "cell_type": "code",
   "execution_count": 3,
   "metadata": {},
   "outputs": [
    {
     "data": {
      "text/plain": [
       "((196, 7), (196,), (196, 7), (196,))"
      ]
     },
     "execution_count": 3,
     "metadata": {},
     "output_type": "execute_result"
    }
   ],
   "source": [
    "X = df[['cylinders','displacement','horsepower','weight','acceleration','model year','origin']].values.astype(np.float32)\n",
    "Y = df['mpg'].values.astype(np.float32)\n",
    "X1 = X[:int(X.shape[0]/2),:]\n",
    "X2 = X[int(X.shape[0]/2):,:]\n",
    "Y1 = Y[:int(X.shape[0]/2)]\n",
    "Y2 = Y[int(X.shape[0]/2):]\n",
    "X1.shape, Y1.shape, X2.shape, Y2.shape"
   ]
  },
  {
   "cell_type": "code",
   "execution_count": 4,
   "metadata": {},
   "outputs": [],
   "source": [
    "X1 = np.vstack((X1, np.zeros((X.shape[0] - X1.shape[0],X.shape[1]))))\n",
    "X2 = np.vstack((np.zeros((X.shape[0] - X2.shape[0],X.shape[1])), X2))\n",
    "Y1 = np.concatenate((Y1, np.zeros(Y.shape[0] - Y1.shape[0])))\n",
    "Y2 = np.concatenate((np.zeros(Y.shape[0] - Y2.shape[0]), Y2))\n",
    "X1T = X1.T\n",
    "X2T = X2.T"
   ]
  },
  {
   "cell_type": "code",
   "execution_count": 5,
   "metadata": {},
   "outputs": [
    {
     "data": {
      "text/plain": [
       "((392, 7), (392, 7), (7, 392), (7, 392), (392,), (392,))"
      ]
     },
     "execution_count": 5,
     "metadata": {},
     "output_type": "execute_result"
    }
   ],
   "source": [
    "X1.shape, X2.shape, X1.T.shape, X2.T.shape, Y1.shape, Y2.shape"
   ]
  },
  {
   "cell_type": "code",
   "execution_count": 6,
   "metadata": {},
   "outputs": [
    {
     "data": {
      "text/plain": [
       "array([[1.28750000e+04, 4.83375000e+05, 2.45728000e+05, 6.89538400e+06,\n",
       "        3.24075000e+04, 1.62127000e+05, 3.07600000e+03],\n",
       "       [4.83375000e+05, 1.90976342e+07, 9.37464700e+06, 2.59345480e+08,\n",
       "        1.12301190e+06, 5.73462100e+06, 9.98925000e+04],\n",
       "       [2.45728000e+05, 9.37464700e+06, 4.85752400e+06, 1.32989885e+08,\n",
       "        6.07832300e+05, 3.08843300e+06, 5.90440000e+04],\n",
       "       [6.89538400e+06, 2.59345480e+08, 1.32989885e+08, 3.75757549e+09,\n",
       "        1.77581036e+07, 8.83061810e+07, 1.68364300e+06],\n",
       "       [3.24075000e+04, 1.12301190e+06, 6.07832300e+05, 1.77581036e+07,\n",
       "        9.76569002e+04, 4.64036500e+05, 9.78940000e+03],\n",
       "       [1.62127000e+05, 5.73462100e+06, 3.08843300e+06, 8.83061810e+07,\n",
       "        4.64036500e+05, 2.26828200e+06, 4.71660000e+04],\n",
       "       [3.07600000e+03, 9.98925000e+04, 5.90440000e+04, 1.68364300e+06,\n",
       "        9.78940000e+03, 4.71660000e+04, 1.22800000e+03]])"
      ]
     },
     "execution_count": 6,
     "metadata": {},
     "output_type": "execute_result"
    }
   ],
   "source": [
    "np.dot(X1T, X1) + np.dot(X1T, X2) + np.dot(X2T, X1) + np.dot(X2T, X2)"
   ]
  },
  {
   "cell_type": "code",
   "execution_count": 7,
   "metadata": {},
   "outputs": [
    {
     "data": {
      "text/plain": [
       "array([[1.2875000e+04, 4.8337500e+05, 2.4572800e+05, 6.8953840e+06,\n",
       "        3.2407502e+04, 1.6212700e+05, 3.0760000e+03],\n",
       "       [4.8337500e+05, 1.9097636e+07, 9.3746470e+06, 2.5934547e+08,\n",
       "        1.1230119e+06, 5.7346210e+06, 9.9892500e+04],\n",
       "       [2.4572800e+05, 9.3746470e+06, 4.8575240e+06, 1.3298987e+08,\n",
       "        6.0783225e+05, 3.0884330e+06, 5.9044000e+04],\n",
       "       [6.8953840e+06, 2.5934547e+08, 1.3298987e+08, 3.7575764e+09,\n",
       "        1.7758104e+07, 8.8306184e+07, 1.6836430e+06],\n",
       "       [3.2407502e+04, 1.1230119e+06, 6.0783225e+05, 1.7758104e+07,\n",
       "        9.7656891e+04, 4.6403650e+05, 9.7893994e+03],\n",
       "       [1.6212700e+05, 5.7346210e+06, 3.0884330e+06, 8.8306184e+07,\n",
       "        4.6403650e+05, 2.2682820e+06, 4.7166000e+04],\n",
       "       [3.0760000e+03, 9.9892500e+04, 5.9044000e+04, 1.6836430e+06,\n",
       "        9.7893994e+03, 4.7166000e+04, 1.2280000e+03]], dtype=float32)"
      ]
     },
     "execution_count": 7,
     "metadata": {},
     "output_type": "execute_result"
    }
   ],
   "source": [
    "np.dot(X.T, X)"
   ]
  },
  {
   "cell_type": "code",
   "execution_count": 8,
   "metadata": {},
   "outputs": [
    {
     "data": {
      "text/plain": [
       "array([4.62435000e+04, 1.52968590e+06, 8.68718800e+05, 2.52090614e+07,\n",
       "       1.46401390e+05, 7.04839600e+05, 1.58790000e+04])"
      ]
     },
     "execution_count": 8,
     "metadata": {},
     "output_type": "execute_result"
    }
   ],
   "source": [
    "np.dot(X1T, Y1) + np.dot(X1T, Y2) + np.dot(X2T, Y1) + np.dot(X2T, Y2)"
   ]
  },
  {
   "cell_type": "code",
   "execution_count": 9,
   "metadata": {},
   "outputs": [
    {
     "data": {
      "text/plain": [
       "array([4.6243512e+04, 1.5296858e+06, 8.6871875e+05, 2.5209068e+07,\n",
       "       1.4640141e+05, 7.0483962e+05, 1.5879000e+04], dtype=float32)"
      ]
     },
     "execution_count": 9,
     "metadata": {},
     "output_type": "execute_result"
    }
   ],
   "source": [
    "np.dot(X.T, Y)"
   ]
  },
  {
   "cell_type": "code",
   "execution_count": 56,
   "metadata": {},
   "outputs": [],
   "source": [
    "pub, priv = paillier.generate_paillier_keypair(n_length = 1024)"
   ]
  },
  {
   "cell_type": "code",
   "execution_count": 57,
   "metadata": {},
   "outputs": [],
   "source": [
    "n, g = pub.n, pub.g"
   ]
  },
  {
   "cell_type": "code",
   "execution_count": 85,
   "metadata": {},
   "outputs": [
    {
     "data": {
      "text/plain": [
       "(106016361815138288985745431835414457741657704478396045020571829806005589477138129043284119859455397482956886157445065051573235120920964127369698514157174161474679380027044744135029218487757311339336665570764826732607355833759168557717677515544469371682885043740888613470565885908065216090754520796665691964967,\n",
       " 106016361815138288985745431835414457741657704478396045020571829806005589477138129043284119859455397482956886157445065051573235120920964127369698514157174161474679380027044744135029218487757311339336665570764826732607355833759168557717677515544469371682885043740888613470565885908065216090754520796665691964968)"
      ]
     },
     "execution_count": 85,
     "metadata": {},
     "output_type": "execute_result"
    }
   ],
   "source": [
    "n, g"
   ]
  },
  {
   "cell_type": "code",
   "execution_count": 86,
   "metadata": {},
   "outputs": [],
   "source": [
    "p, q, hp, hq, psquare, qsquare = priv.p, priv.q, priv.hp, priv.hq, priv.psquare, priv.qsquare"
   ]
  },
  {
   "cell_type": "code",
   "execution_count": 87,
   "metadata": {},
   "outputs": [],
   "source": [
    "def gcd(x, y):\n",
    "    while(y):\n",
    "        x, y = y, x % y\n",
    "    return x\n",
    "\n",
    "def lcm2(x, y):\n",
    "    lcm = (x*y)//gcd(x,y)\n",
    "    return lcm\n",
    "\n",
    "Lx = lambda x: (x-1) / n"
   ]
  },
  {
   "cell_type": "code",
   "execution_count": 88,
   "metadata": {},
   "outputs": [],
   "source": [
    "lmbda2 = lcm2(p-1, q-1)"
   ]
  },
  {
   "cell_type": "code",
   "execution_count": 89,
   "metadata": {},
   "outputs": [],
   "source": [
    "temp = pow(g,lmbda2, pub.nsquare)\n",
    "mu = (1 / priv.l_function(temp, n) ) % n\n",
    "mu = (1 / Lx(temp) ) % n"
   ]
  },
  {
   "cell_type": "code",
   "execution_count": 90,
   "metadata": {},
   "outputs": [],
   "source": [
    "m = 456"
   ]
  },
  {
   "cell_type": "code",
   "execution_count": 91,
   "metadata": {},
   "outputs": [],
   "source": [
    "def enc(m):\n",
    "    r = random.randint(1, n-1) ## randint give values in [a,b] hence 1 to n-1 is put to avoid 0 and n \n",
    "    r = pub.get_random_lt_n()\n",
    "    c = pow(g,m) * (pow(r,n,pub.nsquare))\n",
    "    return c"
   ]
  },
  {
   "cell_type": "code",
   "execution_count": 92,
   "metadata": {},
   "outputs": [],
   "source": [
    "c = enc(m)"
   ]
  },
  {
   "cell_type": "code",
   "execution_count": 93,
   "metadata": {},
   "outputs": [
    {
     "data": {
      "text/plain": [
       "2.0"
      ]
     },
     "execution_count": 93,
     "metadata": {},
     "output_type": "execute_result"
    }
   ],
   "source": [
    "priv.l_function((pow(c,lmbda2,pub.nsquare)), n) * (mu % n)"
   ]
  },
  {
   "cell_type": "code",
   "execution_count": 104,
   "metadata": {},
   "outputs": [],
   "source": [
    "enc_num = pub.encrypt(m * 1.0)"
   ]
  },
  {
   "cell_type": "code",
   "execution_count": 105,
   "metadata": {},
   "outputs": [],
   "source": [
    "enc_num = enc_num * 10"
   ]
  },
  {
   "cell_type": "code",
   "execution_count": 107,
   "metadata": {},
   "outputs": [
    {
     "data": {
      "text/plain": [
       "4560.0"
      ]
     },
     "execution_count": 107,
     "metadata": {},
     "output_type": "execute_result"
    }
   ],
   "source": [
    "priv.decrypt(enc_num)"
   ]
  },
  {
   "cell_type": "code",
   "execution_count": 262,
   "metadata": {},
   "outputs": [],
   "source": [
    "class User(object):\n",
    "    def __init__(self,df , X_columns, Y_column,total_size,start,end):\n",
    "        X = df[X_columns].values.astype(np.float32)\n",
    "        Y = df[Y_column].values.astype(np.float32)\n",
    "        print(X.dtype,Y.dtype)\n",
    "        if start == 0:\n",
    "            X = np.vstack((X, np.zeros((total_size-end, X.shape[1]))))\n",
    "            Y = np.concatenate((Y, np.zeros(total_size - end)))\n",
    "        elif end == total_size:\n",
    "            X = np.vstack((np.zeros((start, X.shape[1])), X))\n",
    "            Y = np.concatenate((np.zeros(start), Y))\n",
    "        else:\n",
    "            X = np.vstack((np.zeros((start-1,X.shape[1])), X, np.zeros((total_size-end,X.shape[1]))))\n",
    "            Y = np.concatenate((np.zeros((start-1,)), Y, np.zeros((total_size-end,))))\n",
    "        print(X.shape, Y.shape)\n",
    "        print(X)\n",
    "        print(Y)\n",
    "        \n",
    "    \n",
    "    def sendEncryptedXYtoGetParts(self):\n",
    "        pass\n",
    "    \n",
    "    @staticmethod\n",
    "    def calculate_number_inverse(c):\n",
    "        pass\n",
    "    \n",
    "    @staticmethod\n",
    "    def calculate_matrix_inverse(A):\n",
    "        #A = self.decrypt_matrix(A)\n",
    "        c = np.trace(A)\n",
    "        I = np.eye(A.shape[0])\n",
    "        #c_inv = calculate_number_inverse(c)\n",
    "        c_inv = 1 / c\n",
    "        A0 = c_inv * I\n",
    "        M0 = c_inv * A\n",
    "        A = 2*A0 - np.dot(A0, M0)\n",
    "        M = 2*M0 - M0 ** 2\n",
    "        for i in range(1,50):\n",
    "            A =2*A - np.dot(A, M)\n",
    "            M = 2*M - M ** 2\n",
    "        print(A)"
   ]
  },
  {
   "cell_type": "code",
   "execution_count": 263,
   "metadata": {},
   "outputs": [],
   "source": [
    "no_of_users = 3"
   ]
  },
  {
   "cell_type": "code",
   "execution_count": 264,
   "metadata": {},
   "outputs": [],
   "source": [
    "part_per_user = int(df.shape[0] / no_of_users)"
   ]
  },
  {
   "cell_type": "code",
   "execution_count": 265,
   "metadata": {},
   "outputs": [
    {
     "name": "stdout",
     "output_type": "stream",
     "text": [
      "0 130\n",
      "130 260\n",
      "260 390\n",
      "392\n"
     ]
    }
   ],
   "source": [
    "user_shares = []\n",
    "start = 0\n",
    "end = part_per_user\n",
    "for i in range(no_of_users):\n",
    "    print(start, end)\n",
    "    if i == no_of_users-1:\n",
    "        user_shares.append(df.iloc[start:,:])\n",
    "        end = df.shape[0]\n",
    "        print(end)\n",
    "        continue\n",
    "    user_shares.append(df.iloc[start:end, :])\n",
    "    start = end\n",
    "    end += part_per_user"
   ]
  },
  {
   "cell_type": "code",
   "execution_count": 266,
   "metadata": {},
   "outputs": [
    {
     "data": {
      "text/plain": [
       "((130, 9), (130, 9), (132, 9))"
      ]
     },
     "execution_count": 266,
     "metadata": {},
     "output_type": "execute_result"
    }
   ],
   "source": [
    "user_shares[0].shape, user_shares[1].shape,user_shares[2].shape"
   ]
  },
  {
   "cell_type": "code",
   "execution_count": 267,
   "metadata": {},
   "outputs": [
    {
     "data": {
      "text/plain": [
       "array([[0, 1, 2],\n",
       "       [3, 4, 5],\n",
       "       [6, 7, 8]])"
      ]
     },
     "execution_count": 267,
     "metadata": {},
     "output_type": "execute_result"
    }
   ],
   "source": [
    "np.arange(9).reshape(3,3)"
   ]
  },
  {
   "cell_type": "code",
   "execution_count": 307,
   "metadata": {},
   "outputs": [
    {
     "ename": "SyntaxError",
     "evalue": "invalid syntax (<ipython-input-307-b2729ceff35d>, line 14)",
     "output_type": "error",
     "traceback": [
      "\u001b[0;36m  File \u001b[0;32m\"<ipython-input-307-b2729ceff35d>\"\u001b[0;36m, line \u001b[0;32m14\u001b[0m\n\u001b[0;31m    if np.allclose(M, np.eye(A.shape[0]),rtol = 0.0001,atol=0.0001)\u001b[0m\n\u001b[0m                                                                   ^\u001b[0m\n\u001b[0;31mSyntaxError\u001b[0m\u001b[0;31m:\u001b[0m invalid syntax\n"
     ]
    }
   ],
   "source": [
    "def calculate_matrix_inverse(A):\n",
    "        #A = self.decrypt_matrix(A)\n",
    "        c = np.trace(A)\n",
    "        I = np.eye(A.shape[0])\n",
    "        #c_inv = calculate_number_inverse(c)\n",
    "        c_inv = 1 / c\n",
    "        A0 = c_inv * I\n",
    "        M0 = c_inv * A\n",
    "        A = 2*A0 - A0*M0#np.dot(A0, M0)\n",
    "        M = 2*M0 - (M0 ** 2)\n",
    "        for i in range(1,50):\n",
    "            A =2*A - A*M #np.dot(A, M)\n",
    "            M = 2*M - (M ** 2)\n",
    "            if np.allclose(M, np.eye(A.shape[0]),rtol = 0.0001,atol=0.0001):\n",
    "                break\n",
    "        print(A)"
   ]
  },
  {
   "cell_type": "code",
   "execution_count": 293,
   "metadata": {},
   "outputs": [
    {
     "name": "stdout",
     "output_type": "stream",
     "text": [
      "[[-1. -0.]\n",
      " [-0. -1.]]\n"
     ]
    }
   ],
   "source": [
    "calculate_matrix_inverse(np.array([[-1, 1.5], [1,-1]]))"
   ]
  },
  {
   "cell_type": "code",
   "execution_count": 294,
   "metadata": {},
   "outputs": [
    {
     "data": {
      "text/plain": [
       "array([[2., 3.],\n",
       "       [2., 2.]])"
      ]
     },
     "execution_count": 294,
     "metadata": {},
     "output_type": "execute_result"
    }
   ],
   "source": [
    "np.linalg.inv(np.array([[-1, 1.5], [1,-1]]))"
   ]
  },
  {
   "cell_type": "code",
   "execution_count": 298,
   "metadata": {},
   "outputs": [],
   "source": [
    "a = np.abs(np.array([1.0001,2.00001]) - np.array([1.,2.]))"
   ]
  },
  {
   "cell_type": "code",
   "execution_count": 303,
   "metadata": {},
   "outputs": [
    {
     "data": {
      "text/plain": [
       "array([ True,  True])"
      ]
     },
     "execution_count": 303,
     "metadata": {},
     "output_type": "execute_result"
    }
   ],
   "source": [
    "a<0.001"
   ]
  },
  {
   "cell_type": "code",
   "execution_count": 306,
   "metadata": {},
   "outputs": [
    {
     "data": {
      "text/plain": [
       "True"
      ]
     },
     "execution_count": 306,
     "metadata": {},
     "output_type": "execute_result"
    }
   ],
   "source": [
    "np.allclose(np.array([1.0001,2.00001]) , np.array([1.,2.]),atol=0.0001,rtol=0.0001)"
   ]
  },
  {
   "cell_type": "code",
   "execution_count": null,
   "metadata": {},
   "outputs": [],
   "source": []
  }
 ],
 "metadata": {
  "kernelspec": {
   "display_name": "Python 3",
   "language": "python",
   "name": "python3"
  },
  "language_info": {
   "codemirror_mode": {
    "name": "ipython",
    "version": 3
   },
   "file_extension": ".py",
   "mimetype": "text/x-python",
   "name": "python",
   "nbconvert_exporter": "python",
   "pygments_lexer": "ipython3",
   "version": "3.6.5"
  }
 },
 "nbformat": 4,
 "nbformat_minor": 2
}
