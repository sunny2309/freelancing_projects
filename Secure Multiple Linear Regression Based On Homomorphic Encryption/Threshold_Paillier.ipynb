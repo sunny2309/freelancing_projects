{
  "cells": [
    {
      "metadata": {
        "_uuid": "8f2839f25d086af736a60e9eeb907d3b93b6e0e5",
        "_cell_guid": "b1076dfc-b9ad-4769-8c92-a6c4dae69d19",
        "trusted": true
      },
      "cell_type": "code",
      "source": "!pip install phe\nimport phe\nfrom phe import paillier\nimport numpy as np\nimport random\nfrom numba import jit\nimport sympy\nimport math",
      "execution_count": 1,
      "outputs": [
        {
          "output_type": "stream",
          "text": "Collecting phe\n  Downloading https://files.pythonhosted.org/packages/32/0e/568e97b014eb14e794a1258a341361e9da351dc6240c63b89e1541e3341c/phe-1.4.0.tar.gz\nBuilding wheels for collected packages: phe\n  Running setup.py bdist_wheel for phe ... \u001b[?25ldone\n\u001b[?25h  Stored in directory: /tmp/.cache/pip/wheels/f8/dc/36/dcb6bf0f1b9907e7b710ace63e64d08e7022340909315fdea4\nSuccessfully built phe\nInstalling collected packages: phe\nSuccessfully installed phe-1.4.0\n",
          "name": "stdout"
        }
      ]
    },
    {
      "metadata": {
        "trusted": true,
        "_uuid": "36b35521c38833a8911c6a76dddb4bddb3113c4e"
      },
      "cell_type": "code",
      "source": "class ThresholdPaillier(object):\n    def __init__(self,size_of_n):\n        #size_of_n = 1024\n        pub, priv = paillier.generate_paillier_keypair(n_length=size_of_n)\n        self.p1 = priv.p\n        self.q1 = priv.q\n\n        while sympy.primetest.isprime(2*self.p1 +1)!= True:\n            pub, priv = paillier.generate_paillier_keypair(n_length=size_of_n)\n            self.p1 = priv.p\n        while sympy.primetest.isprime(2*self.q1 +1)!= True:\n            pub, priv = paillier.generate_paillier_keypair(n_length=size_of_n)\n            self.q1 = priv.q\n        \n        self.p = (2*self.p1) + 1\n        self.q = (2*self.q1) + 1\n        print(sympy.primetest.isprime(self.p),sympy.primetest.isprime(self.q),sympy.primetest.isprime(self.p1),sympy.primetest.isprime(self.q1))\n        self.n = self.p * self.q\n        self.s = 1\n        self.ns = pow(self.n, self.s)\n        self.nSPlusOne = pow(self.n,self.s+1)\n        self.nPlusOne = self.n + 1\n        self.nSquare = self.n*self.n\n\n        self.m = self.p1 * self.q1\n        self.nm = self.n*self.m\n        self.l = 5 # Number of shares of private key\n        self.w = 2 # The minimum of decryption servers needed to make a correct decryption.\n        self.delta = self.factorial(self.l)\n        self.rnd = random.randint(1,1e50)\n        self.combineSharesConstant = sympy.mod_inverse((4*self.delta*self.delta)%self.n, self.n)\n        self.d = self.m * sympy.mod_inverse(self.m, self.n)\n        \n        self.ais = [self.d]\n        for i in range(1, self.w):\n            self.ais.append(random.randint(0,self.nm-1))\n            \n        self.r = random.randint(1,self. p) ## Need to change upper limit from p to one in paper\n        while math.gcd(self.r,self.n) != 1:\n            self.r = random.randint(0, self.p)\n        self.v = (self.r*self.r) % self.nSquare\n        \n        self.si = [0] * self.l\n        self.viarray = [0] * self.l\n\n        for i in range(self.l):\n            self.si[i] = 0\n            X = i + 1\n            for j in range(self.w):\n                self.si[i] += self.ais[j] * pow(X, j)\n            self.si[i] = self.si[i] % self.nm\n            self.viarray[i] = pow(self.v, self.si[i] * self.delta, self.nSquare)\n        \n        self.priv_keys = []\n        for i in range(self.l):\n            self.priv_keys.append(ThresholdPaillierPrivateKey(self.n, self.l, self.combineSharesConstant, self.w, \\\n                                            self.v, self.viarray, self.si[i], i+1, self.r, self.delta, self.nSPlusOne))\n        self.pub_key = ThresholdPaillierPublicKey(self.n, self.nSPlusOne, self.r, self.ns, self.w,\\\n                                                 self.delta, self.combineSharesConstant)\n        \n    def factorial(self, n):\n        fact = 1\n        for i in range(1,n+1):\n            fact *= i\n        return fact\n\n    def computeGCD(self, x, y): \n       while(y): \n           x, y = y, x % y \n       return x \n        \nclass PartialShare(object):\n    def __init__(self, share, server_id):\n        self.share = share\n        self.server_id =server_id\n    \nclass ThresholdPaillierPrivateKey(object):\n    def __init__(self,n, l,combineSharesConstant, w, v, viarray, si, server_id, r, delta, nSPlusOne):\n        self.n = n\n        self.l = l\n        self.combineSharesConstant = combineSharesConstant\n        self.w = w\n        self.v = v\n        self.viarray = viarray\n        self.si = si\n        self.server_id = server_id\n        self.r = r\n        self.delta = delta\n        self.nSPlusOne = nSPlusOne\n        \n    def partialDecrypt(self, c):\n        return PartialShare(pow(c.c, self.si*2*self.delta, self.nSPlusOne), self.server_id)\n    \nclass ThresholdPaillierPublicKey(object):\n    def __init__(self,n, nSPlusOne, r, ns, w, delta, combineSharesConstant):\n        self.n = n\n        self.nSPlusOne = nSPlusOne\n        self.r = r\n        self.ns =ns    \n        self.w = w\n        self.delta = delta\n        self.combineSharesConstant = combineSharesConstant\n        \n    def encrypt(self, msg):\n        msg = msg % self.nSPlusOne if msg < 0 else msg\n        c = (pow(self.n+1, msg, self.nSPlusOne) * pow(self.r, self.ns, self.nSPlusOne)) % self.nSPlusOne\n        return EncryptedNumber(c, self.nSPlusOne, self.n)\n    \nclass EncryptedNumber(object):\n    def __init__(self, c, nSPlusOne, n):\n        self.c = c\n        self.nSPlusOne = nSPlusOne\n        self.n = n\n    \n    def __mul__(self, cons):\n        if cons < 0:\n            return EncryptedNumber(pow(sympy.mod_inverse(self.c, self.nSPlusOne), -cons, self.nSPlusOne), self.nSPlusOne, self.n)\n        else:\n            return EncryptedNumber(pow(self.c, cons, self.nSPlusOne), self.nSPlusOne, self.n)\n    \n    def __add__(self, c2):\n        return EncryptedNumber((self.c * c2.c) % self.nSPlusOne, self.nSPlusOne, self.n)\n\ndef combineShares(shrs, w, delta, combineSharesConstant, nSPlusOne, n, ns):\n        cprime = 1\n        for i in range(w):\n            ld = delta\n            for iprime in range(w):\n                if i != iprime:\n                    if shrs[i].server_id != shrs[iprime].server_id:\n                        ld = (ld * -shrs[iprime].server_id) // (shrs[i].server_id - shrs[iprime].server_id)\n            #print(ld)\n            shr = sympy.mod_inverse(shrs[i].share, nSPlusOne) if ld < 0 else shrs[i].share\n            ld = -1*ld if ld <1 else ld\n            temp = pow(shr, 2 * ld, nSPlusOne) \n            cprime = (cprime * temp) % nSPlusOne\n        L = (cprime - 1) // n\n        result = (L * combineSharesConstant) % n\n        return result - ns if result > (ns // 2) else result",
      "execution_count": 226,
      "outputs": []
    },
    {
      "metadata": {
        "trusted": true,
        "_uuid": "8dc379546b4292ab403fb4de40e143a47b553b73"
      },
      "cell_type": "code",
      "source": "tp = ThresholdPaillier(1024)",
      "execution_count": 227,
      "outputs": [
        {
          "output_type": "stream",
          "text": "True True True True\n",
          "name": "stdout"
        }
      ]
    },
    {
      "metadata": {
        "trusted": true,
        "_uuid": "5618948a2822fc8408b797cca8cf345b196f556f"
      },
      "cell_type": "code",
      "source": "priv_keys = tp.priv_keys\npub_key = tp.pub_key",
      "execution_count": 228,
      "outputs": []
    },
    {
      "metadata": {
        "trusted": true,
        "_uuid": "6971ca4a4e701888dd08f5d860316d08cf756e6a"
      },
      "cell_type": "code",
      "source": "c = pub_key.encrypt(123456789123456789123456789123456789123456789)\n\nshare1 = priv_keys[0].partialDecrypt(c)\nshare2 = priv_keys[1].partialDecrypt(c)\nprint(combineShares([share1, share2], pub_key.w, pub_key.delta, pub_key.combineSharesConstant, pub_key.nSPlusOne, pub_key.n, pub_key.ns))\n\nshare1 = priv_keys[0].partialDecrypt(c)\nshare2 = priv_keys[3].partialDecrypt(c)\nprint(combineShares([share1, share2], pub_key.w, pub_key.delta, pub_key.combineSharesConstant, pub_key.nSPlusOne, pub_key.n, pub_key.ns))\n\nshare1 = priv_keys[2].partialDecrypt(c)\nshare2 = priv_keys[3].partialDecrypt(c)\nprint(combineShares([share1, share2], pub_key.w, pub_key.delta, pub_key.combineSharesConstant, pub_key.nSPlusOne, pub_key.n, pub_key.ns))\n\nc2 = pub_key.encrypt(-102)\nshare1 = priv_keys[2].partialDecrypt(c2)\nshare2 = priv_keys[3].partialDecrypt(c2)\nprint(combineShares([share1, share2], pub_key.w, pub_key.delta, pub_key.combineSharesConstant, pub_key.nSPlusOne, pub_key.n, pub_key.ns))\n\nc1 = pub_key.encrypt(10)\nc2 = c1 * -4\nshare1 = priv_keys[2].partialDecrypt(c2)\nshare2 = priv_keys[3].partialDecrypt(c2)\nprint('10 x -4 = %d' %combineShares([share1, share2], pub_key.w, pub_key.delta, pub_key.combineSharesConstant, pub_key.nSPlusOne, pub_key.n, pub_key.ns))\n\nc1 = pub_key.encrypt(-4)\nc2 = c1 * 30\nshare1 = priv_keys[2].partialDecrypt(c2)\nshare2 = priv_keys[3].partialDecrypt(c2)\nprint('-4 x 30 = %d'%combineShares([share1, share2], pub_key.w, pub_key.delta, pub_key.combineSharesConstant, pub_key.nSPlusOne, pub_key.n, pub_key.ns))\n\nc1 = pub_key.encrypt(-10)\nc2 = c1 * -7\nshare1 = priv_keys[2].partialDecrypt(c2)\nshare2 = priv_keys[3].partialDecrypt(c2)\nprint('-10 x -7 = %d'%combineShares([share1, share2], pub_key.w, pub_key.delta, pub_key.combineSharesConstant, pub_key.nSPlusOne, pub_key.n, pub_key.ns))\n\nc1 = pub_key.encrypt(10)\nc2 = c1 * 4\nshare1 = priv_keys[2].partialDecrypt(c2)\nshare2 = priv_keys[3].partialDecrypt(c2)\nprint('10 x 4 = %d'%combineShares([share1, share2], pub_key.w, pub_key.delta, pub_key.combineSharesConstant, pub_key.nSPlusOne, pub_key.n, pub_key.ns))\n\nc1 = pub_key.encrypt(-10)\nc2 = pub_key.encrypt(102)\nc3 = c1 + c2\nshare1 = priv_keys[2].partialDecrypt(c3)\nshare2 = priv_keys[3].partialDecrypt(c3)\nprint('-10 + 102 = %d'%combineShares([share1, share2], pub_key.w, pub_key.delta, pub_key.combineSharesConstant, pub_key.nSPlusOne, pub_key.n, pub_key.ns))\n\nc1 = pub_key.encrypt(-10)\nc2 = pub_key.encrypt(-72)\nc3 = c1 + c2\nshare1 = priv_keys[2].partialDecrypt(c3)\nshare2 = priv_keys[3].partialDecrypt(c3)\nprint('-10 + -72 = %d'%combineShares([share1, share2], pub_key.w, pub_key.delta, pub_key.combineSharesConstant, pub_key.nSPlusOne, pub_key.n, pub_key.ns))\n\nc1 = pub_key.encrypt(10)\nc2 = pub_key.encrypt(-67)\nc3 = c1 + c2\nshare1 = priv_keys[2].partialDecrypt(c3)\nshare2 = priv_keys[3].partialDecrypt(c3)\nprint('10 + -67 = %d'%combineShares([share1, share2], pub_key.w, pub_key.delta, pub_key.combineSharesConstant, pub_key.nSPlusOne, pub_key.n, pub_key.ns))\n\nc1 = pub_key.encrypt(10)\nc2 = pub_key.encrypt(2)\nc3 = c1 + c2\nshare1 = priv_keys[2].partialDecrypt(c3)\nshare2 = priv_keys[3].partialDecrypt(c3)\nprint('10 + 2 = %d'%combineShares([share1, share2], pub_key.w, pub_key.delta, pub_key.combineSharesConstant, pub_key.nSPlusOne, pub_key.n, pub_key.ns))",
      "execution_count": 229,
      "outputs": [
        {
          "output_type": "stream",
          "text": "123456789123456789123456789123456789123456789\n123456789123456789123456789123456789123456789\n123456789123456789123456789123456789123456789\n-102\n10 x -4 = -40\n-4 x 30 = -120\n-10 x -7 = 70\n10 x 4 = 40\n-10 + 102 = 92\n-10 + -72 = -82\n10 + -67 = -57\n10 + 2 = 12\n",
          "name": "stdout"
        }
      ]
    },
    {
      "metadata": {
        "trusted": true,
        "_uuid": "cd0c8ac995b3ae4850dc69e8962bc2fc2f51f574"
      },
      "cell_type": "code",
      "source": "",
      "execution_count": null,
      "outputs": []
    },
    {
      "metadata": {
        "trusted": true,
        "_uuid": "b588a4cc6928ac526d891b0dfa986c8a4d8bd489"
      },
      "cell_type": "code",
      "source": "",
      "execution_count": null,
      "outputs": []
    }
  ],
  "metadata": {
    "kernelspec": {
      "display_name": "Python 3",
      "language": "python",
      "name": "python3"
    },
    "language_info": {
      "name": "python",
      "version": "3.6.6",
      "mimetype": "text/x-python",
      "codemirror_mode": {
        "name": "ipython",
        "version": 3
      },
      "pygments_lexer": "ipython3",
      "nbconvert_exporter": "python",
      "file_extension": ".py"
    }
  },
  "nbformat": 4,
  "nbformat_minor": 1
}