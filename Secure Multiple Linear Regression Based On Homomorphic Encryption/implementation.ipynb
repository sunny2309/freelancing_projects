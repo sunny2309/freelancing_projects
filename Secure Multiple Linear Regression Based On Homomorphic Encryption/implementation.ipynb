{
 "cells": [
  {
   "cell_type": "code",
   "execution_count": 1,
   "metadata": {},
   "outputs": [],
   "source": [
    "import phe\n",
    "from phe import paillier\n",
    "import math\n",
    "import numpy as np\n",
    "import pandas as pd\n",
    "import matplotlib.pyplot as plt\n",
    "import random\n",
    "import sys\n",
    "\n",
    "%matplotlib inline"
   ]
  },
  {
   "cell_type": "code",
   "execution_count": 58,
   "metadata": {},
   "outputs": [
    {
     "data": {
      "text/html": [
       "<div>\n",
       "<style scoped>\n",
       "    .dataframe tbody tr th:only-of-type {\n",
       "        vertical-align: middle;\n",
       "    }\n",
       "\n",
       "    .dataframe tbody tr th {\n",
       "        vertical-align: top;\n",
       "    }\n",
       "\n",
       "    .dataframe thead th {\n",
       "        text-align: right;\n",
       "    }\n",
       "</style>\n",
       "<table border=\"1\" class=\"dataframe\">\n",
       "  <thead>\n",
       "    <tr style=\"text-align: right;\">\n",
       "      <th></th>\n",
       "      <th>mpg</th>\n",
       "      <th>cylinders</th>\n",
       "      <th>displacement</th>\n",
       "      <th>horsepower</th>\n",
       "      <th>weight</th>\n",
       "      <th>acceleration</th>\n",
       "      <th>model year</th>\n",
       "      <th>origin</th>\n",
       "      <th>car name</th>\n",
       "    </tr>\n",
       "  </thead>\n",
       "  <tbody>\n",
       "    <tr>\n",
       "      <th>0</th>\n",
       "      <td>18.0</td>\n",
       "      <td>8</td>\n",
       "      <td>307.0</td>\n",
       "      <td>130</td>\n",
       "      <td>3504</td>\n",
       "      <td>12.0</td>\n",
       "      <td>70</td>\n",
       "      <td>1</td>\n",
       "      <td>chevrolet chevelle malibu</td>\n",
       "    </tr>\n",
       "    <tr>\n",
       "      <th>1</th>\n",
       "      <td>15.0</td>\n",
       "      <td>8</td>\n",
       "      <td>350.0</td>\n",
       "      <td>165</td>\n",
       "      <td>3693</td>\n",
       "      <td>11.5</td>\n",
       "      <td>70</td>\n",
       "      <td>1</td>\n",
       "      <td>buick skylark 320</td>\n",
       "    </tr>\n",
       "    <tr>\n",
       "      <th>2</th>\n",
       "      <td>18.0</td>\n",
       "      <td>8</td>\n",
       "      <td>318.0</td>\n",
       "      <td>150</td>\n",
       "      <td>3436</td>\n",
       "      <td>11.0</td>\n",
       "      <td>70</td>\n",
       "      <td>1</td>\n",
       "      <td>plymouth satellite</td>\n",
       "    </tr>\n",
       "    <tr>\n",
       "      <th>3</th>\n",
       "      <td>16.0</td>\n",
       "      <td>8</td>\n",
       "      <td>304.0</td>\n",
       "      <td>150</td>\n",
       "      <td>3433</td>\n",
       "      <td>12.0</td>\n",
       "      <td>70</td>\n",
       "      <td>1</td>\n",
       "      <td>amc rebel sst</td>\n",
       "    </tr>\n",
       "    <tr>\n",
       "      <th>4</th>\n",
       "      <td>17.0</td>\n",
       "      <td>8</td>\n",
       "      <td>302.0</td>\n",
       "      <td>140</td>\n",
       "      <td>3449</td>\n",
       "      <td>10.5</td>\n",
       "      <td>70</td>\n",
       "      <td>1</td>\n",
       "      <td>ford torino</td>\n",
       "    </tr>\n",
       "  </tbody>\n",
       "</table>\n",
       "</div>"
      ],
      "text/plain": [
       "    mpg  cylinders  displacement horsepower  weight  acceleration  model year  \\\n",
       "0  18.0          8         307.0        130    3504          12.0          70   \n",
       "1  15.0          8         350.0        165    3693          11.5          70   \n",
       "2  18.0          8         318.0        150    3436          11.0          70   \n",
       "3  16.0          8         304.0        150    3433          12.0          70   \n",
       "4  17.0          8         302.0        140    3449          10.5          70   \n",
       "\n",
       "   origin                   car name  \n",
       "0       1  chevrolet chevelle malibu  \n",
       "1       1          buick skylark 320  \n",
       "2       1         plymouth satellite  \n",
       "3       1              amc rebel sst  \n",
       "4       1                ford torino  "
      ]
     },
     "execution_count": 58,
     "metadata": {},
     "output_type": "execute_result"
    }
   ],
   "source": [
    "df = pd.read_csv('auto-mpg.csv')\n",
    "df = df[df.horsepower != '?']\n",
    "df.head()"
   ]
  },
  {
   "cell_type": "code",
   "execution_count": 59,
   "metadata": {},
   "outputs": [],
   "source": [
    "X = df[['cylinders','displacement','horsepower','weight','acceleration','model year','origin']].values.astype(np.float32)\n",
    "Y = df['mpg'].values.astype(np.float32)"
   ]
  },
  {
   "cell_type": "code",
   "execution_count": null,
   "metadata": {},
   "outputs": [],
   "source": []
  },
  {
   "cell_type": "code",
   "execution_count": null,
   "metadata": {},
   "outputs": [],
   "source": []
  },
  {
   "cell_type": "code",
   "execution_count": 60,
   "metadata": {},
   "outputs": [],
   "source": [
    "#np.dot(X1T, X1) + np.dot(X1T, X2) + np.dot(X2T, X1) + np.dot(X2T, X2)"
   ]
  },
  {
   "cell_type": "code",
   "execution_count": 61,
   "metadata": {},
   "outputs": [],
   "source": [
    "#np.dot(X.T, X)"
   ]
  },
  {
   "cell_type": "code",
   "execution_count": 62,
   "metadata": {},
   "outputs": [],
   "source": [
    "#np.dot(X1T, Y1) + np.dot(X1T, Y2) + np.dot(X2T, Y1) + np.dot(X2T, Y2)"
   ]
  },
  {
   "cell_type": "code",
   "execution_count": 63,
   "metadata": {},
   "outputs": [
    {
     "data": {
      "text/plain": [
       "(0.004987531172069825,\n",
       " 0.004987531172069825,\n",
       " 2.642768506316362e-10,\n",
       " 2.642768506316362e-10)"
      ]
     },
     "execution_count": 63,
     "metadata": {},
     "output_type": "execute_result"
    }
   ],
   "source": [
    "#np.dot(X.T, Y)\n",
    "def calculate_number_inverse(c):\n",
    "    x = random.choice(np.linspace(0, 2/c, 11)[1:])\n",
    "    for i in range(15):\n",
    "        x = x * (2 - c * x)\n",
    "    return x\n",
    "\n",
    "calculate_number_inverse(200.5), 1/ 200.5, calculate_number_inverse(2175848264.6200633+1608062424.53014), 1 / (2175848264.6200633+1608062424.53014)"
   ]
  },
  {
   "cell_type": "code",
   "execution_count": 64,
   "metadata": {
    "code_folding": [
     5
    ]
   },
   "outputs": [
    {
     "name": "stdout",
     "output_type": "stream",
     "text": [
      "0 196\n",
      "196 392\n",
      "392\n"
     ]
    },
    {
     "data": {
      "text/plain": [
       "((196, 9), (196, 9))"
      ]
     },
     "execution_count": 64,
     "metadata": {},
     "output_type": "execute_result"
    }
   ],
   "source": [
    "no_of_users = 2\n",
    "part_per_user = int(df.shape[0] / no_of_users)\n",
    "user_shares = []\n",
    "start = 0\n",
    "end = part_per_user\n",
    "for i in range(no_of_users):\n",
    "    print(start, end)\n",
    "    if i == no_of_users-1:\n",
    "        end = df.shape[0]\n",
    "        user_shares.append((start, end, df.iloc[start:,:]))\n",
    "        print(end)\n",
    "        continue\n",
    "    user_shares.append((start,end, df.iloc[start:end, :]))\n",
    "    start = end\n",
    "    end += part_per_user\n",
    "user_shares[0][2].shape, user_shares[1][2].shape,"
   ]
  },
  {
   "cell_type": "code",
   "execution_count": 112,
   "metadata": {
    "code_folding": [
     39,
     63,
     70
    ]
   },
   "outputs": [],
   "source": [
    "X_COLUMNS = ['cylinders','displacement','horsepower','weight','acceleration','model year','origin']\n",
    "Y_COLUMN = 'mpg'\n",
    "class User(object):\n",
    "    def __init__(self,df, X_columns, Y_column,total_size,start,end, pub):\n",
    "        X = df[X_columns].values.astype(np.float32)\n",
    "        Y = df[Y_column].values.astype(np.float32)\n",
    "        self.pub_key = pub\n",
    "        M = pow(2,64)\n",
    "        Integer = np.vectorize(int)\n",
    "        Float = np.vectorize(float)\n",
    "        FixedPoint = np.vectorize(lambda x: x/ M if x <= pub.n else (x - pub.n) / M)\n",
    "        \n",
    "        print(X.dtype,Y.dtype)\n",
    "        if start == 0:\n",
    "            x_zeros = np.zeros((total_size-end, X.shape[1]))\n",
    "            y_zeros = np.zeros(total_size - end)\n",
    "            self.X = np.vstack((Integer(X*M), Integer(x_zeros*M)))\n",
    "            self.Y = np.concatenate((Integer(Y*M), Integer(y_zeros*M)))\n",
    "        elif end == total_size:\n",
    "            x_zeros = np.zeros((start, X.shape[1]))\n",
    "            y_zeros = np.zeros(start)\n",
    "            self.X = np.vstack((Integer(x_zeros*M), Integer(X*M)))\n",
    "            self.Y = np.concatenate((Integer(y_zeros*M), Integer(Y*M)))\n",
    "        else:\n",
    "            x_zeros1 = np.zeros((start-1,X.shape[1]))\n",
    "            x_zeros2 = np.zeros((total_size-end,X.shape[1]))\n",
    "            y_zeros1 = np.zeros((start-1,))\n",
    "            y_zeros2 = np.zeros((total_size-end,))\n",
    "            self.X = np.vstack((Integer(x_zeros1*M), Integer(X*M), Integer(x_zeros_2*M)))\n",
    "            self.Y = np.concatenate((Integer(y_zeros1*M), Integer(Y*M), Integer(y_zeros2*M)))\n",
    "        print(self.X.shape, self.Y.shape)\n",
    "        \n",
    "        self.XT = self.X.T\n",
    "        self.X_enc = self.encrypt(self.X)\n",
    "        self.X_enc_T = self.X_enc.T\n",
    "        self.Y_enc = self.encrypt(self.Y)\n",
    "        #self.encrypt()\n",
    "        #print(X)\n",
    "        #print(Y)\n",
    "    def encrypt(self,X):\n",
    "        X_new = np.empty(X.shape,dtype=np.object)\n",
    "        if len(X.shape) == 2:\n",
    "            for i in range(X.shape[0]):\n",
    "                for j in range(X.shape[1]):\n",
    "                    X_new[i][j] = self.pub_key.encrypt(X[i][j],precision=1e-15)\n",
    "        else:\n",
    "            for i in range(X.shape[0]):\n",
    "                X_new[i] = self.pub_key.encrypt(X[i], precision=1e-15)\n",
    "                \n",
    "        return X_new\n",
    "    \n",
    "    def decrypt(self,X,priv_key):  \n",
    "        X_new = np.empty(X.shape,dtype=np.object)\n",
    "        if len(X.shape) == 2:\n",
    "            for i in range(X.shape[0]):\n",
    "                for j in range(X.shape[1]):\n",
    "                    X_new[i][j] = priv_key.decrypt(X[i][j])\n",
    "        else:\n",
    "            for i in range(X.shape[0]):\n",
    "                X_new[i] = priv_key.decrypt(X[i])\n",
    "        return X_new\n",
    "    \n",
    "    @staticmethod\n",
    "    def calculate_number_inverse(c):\n",
    "        x = random.choice(np.linspace(0, 2/c, 11)[1:])\n",
    "        for i in range(10):\n",
    "            x *= (2 - c * x)\n",
    "        return x\n",
    "    \n",
    "    @staticmethod\n",
    "    def calculate_matrix_inverse(A):\n",
    "        c = np.trace(A)\n",
    "        I = np.eye(A.shape[0])\n",
    "        #c_inv = calculate_number_inverse(c)\n",
    "        c_inv = 1 / c\n",
    "        print(c, c_inv)\n",
    "        X0 = c_inv * I\n",
    "        M0 = c_inv * A\n",
    "        print(X0, M0)\n",
    "        X = (2 * X0) - np.dot(X0, M0)\n",
    "        M = (2 * M0) - np.dot(M0, M0)\n",
    "        print(X, M)\n",
    "        for i in range(1,50):\n",
    "            X = (2 * X) - np.dot(X, M)\n",
    "            M = (2 * M) - np.dot(M, M)\n",
    "            #if np.allclose(M, np.eye(A.shape[0]), rtol = 0.001, atol = 0.001, equal_nan=True):\n",
    "            #    break\n",
    "        print(M, X)"
   ]
  },
  {
   "cell_type": "code",
   "execution_count": null,
   "metadata": {},
   "outputs": [],
   "source": []
  },
  {
   "cell_type": "code",
   "execution_count": 113,
   "metadata": {},
   "outputs": [
    {
     "name": "stdout",
     "output_type": "stream",
     "text": [
      "float32 float32\n",
      "(392, 7) (392,)\n",
      "float32 float32\n",
      "(392, 7) (392,)\n",
      "CPU times: user 43.3 s, sys: 5.55 s, total: 48.9 s\n",
      "Wall time: 48.9 s\n"
     ]
    }
   ],
   "source": [
    "%%time\n",
    "pub, priv = paillier.generate_paillier_keypair(n_length = 1024)\n",
    "user1 = User(user_shares[0][2], \n",
    "             X_COLUMNS,\n",
    "             Y_COLUMN,\n",
    "             Y.shape[0],\n",
    "             user_shares[0][0],\n",
    "             user_shares[0][1],\n",
    "             pub\n",
    "            )\n",
    "user2 = User(user_shares[1][2], \n",
    "             X_COLUMNS,\n",
    "             Y_COLUMN,\n",
    "             Y.shape[0],\n",
    "             user_shares[1][0],\n",
    "             user_shares[1][1],\n",
    "             pub\n",
    "            )"
   ]
  },
  {
   "cell_type": "code",
   "execution_count": 120,
   "metadata": {
    "code_folding": [],
    "scrolled": true
   },
   "outputs": [
    {
     "name": "stdout",
     "output_type": "stream",
     "text": [
      "CPU times: user 34.6 s, sys: 92.3 ms, total: 34.7 s\n",
      "Wall time: 34.7 s\n"
     ]
    }
   ],
   "source": [
    "%%time\n",
    "\n",
    "## Calculate XT*X shares\n",
    "A1 = np.dot(user1.XT,user1.X)\n",
    "A2 = np.dot(user2.XT,user2.X)\n",
    "\n",
    "A_part1 = np.empty((user1.X.shape[1],user1.X.shape[1]),dtype=np.object)\n",
    "A_part2 = np.empty((user2.X.shape[1],user2.X.shape[1]),dtype=np.float32)\n",
    "temp = np.dot(user1.X_enc_T, user2.X) + np.dot(user2.XT, user1.X_enc)\n",
    "\n",
    "for i in range(temp.shape[0]):\n",
    "    for j in range(temp.shape[1]):\n",
    "        r = random.randint(0,1000)\n",
    "        A_part1[i][j] = temp[i][j] - r\n",
    "        A_part2[i][j] = r\n",
    "\n",
    "A_part1 = user1.decrypt(A_part1,priv)\n",
    "A1 = A1 + A_part1\n",
    "A2 = A2 + A_part2\n",
    "\n",
    "A1_enc = user1.encrypt(A1)"
   ]
  },
  {
   "cell_type": "code",
   "execution_count": 221,
   "metadata": {
    "code_folding": [
     16
    ]
   },
   "outputs": [
    {
     "name": "stdout",
     "output_type": "stream",
     "text": [
      "CPU times: user 4.84 s, sys: 12 ms, total: 4.86 s\n",
      "Wall time: 4.87 s\n"
     ]
    }
   ],
   "source": [
    "%%time\n",
    "\n",
    "## Calculate XT*Y shares\n",
    "B1 = np.dot(user1.XT, user1.Y)\n",
    "B2 = np.dot(user2.XT, user2.Y)\n",
    "\n",
    "B_part1 = np.empty(user1.XT.shape[0],dtype=np.object)\n",
    "B_part2 = np.empty(user1.XT.shape[0],dtype=np.float32)\n",
    "temp = np.dot(user1.X_enc_T, user2.Y) + np.dot(user2.XT, user1.Y_enc)\n",
    "\n",
    "for i in range(temp.shape[0]):\n",
    "    r = B2[i] / 2\n",
    "    B_part1[i] = temp[i] - r\n",
    "    B_part2[i] = r\n",
    "    \n",
    "B_part1 = user1.decrypt(B_part1,priv)\n",
    "B1 = B1 + B_part1\n",
    "B2 = B2 + B_part2"
   ]
  },
  {
   "cell_type": "code",
   "execution_count": 163,
   "metadata": {},
   "outputs": [],
   "source": [
    "#np.dot(user1.XT, user2.Y) + np.dot(user2.XT, user1.Y)"
   ]
  },
  {
   "cell_type": "code",
   "execution_count": 222,
   "metadata": {},
   "outputs": [
    {
     "data": {
      "text/plain": [
       "array([4.62435000e+04, 1.52968590e+06, 8.68718800e+05, 2.52090614e+07,\n",
       "       1.46401390e+05, 7.04839600e+05, 1.58790000e+04])"
      ]
     },
     "execution_count": 222,
     "metadata": {},
     "output_type": "execute_result"
    }
   ],
   "source": [
    "B1 + B2"
   ]
  },
  {
   "cell_type": "code",
   "execution_count": 220,
   "metadata": {},
   "outputs": [
    {
     "data": {
      "text/plain": [
       "array([4.6243512e+04, 1.5296858e+06, 8.6871875e+05, 2.5209068e+07,\n",
       "       1.4640141e+05, 7.0483962e+05, 1.5879000e+04], dtype=float32)"
      ]
     },
     "execution_count": 220,
     "metadata": {},
     "output_type": "execute_result"
    }
   ],
   "source": [
    "np.dot(X.T,Y)"
   ]
  },
  {
   "cell_type": "code",
   "execution_count": 193,
   "metadata": {},
   "outputs": [
    {
     "data": {
      "text/plain": [
       "array([[1.28750000e+04, 4.83375000e+05, 2.45728000e+05, 6.89538400e+06,\n",
       "        3.24075000e+04, 1.62127000e+05, 3.07600000e+03],\n",
       "       [4.83375000e+05, 1.90976342e+07, 9.37464700e+06, 2.59345480e+08,\n",
       "        1.12301190e+06, 5.73462100e+06, 9.98925000e+04],\n",
       "       [2.45728000e+05, 9.37464700e+06, 4.85752400e+06, 1.32989885e+08,\n",
       "        6.07832300e+05, 3.08843300e+06, 5.90440000e+04],\n",
       "       [6.89538400e+06, 2.59345480e+08, 1.32989885e+08, 3.75757549e+09,\n",
       "        1.77581036e+07, 8.83061810e+07, 1.68364300e+06],\n",
       "       [3.24075000e+04, 1.12301190e+06, 6.07832300e+05, 1.77581036e+07,\n",
       "        9.76569002e+04, 4.64036500e+05, 9.78940000e+03],\n",
       "       [1.62127000e+05, 5.73462100e+06, 3.08843300e+06, 8.83061810e+07,\n",
       "        4.64036500e+05, 2.26828200e+06, 4.71660000e+04],\n",
       "       [3.07600000e+03, 9.98925000e+04, 5.90440000e+04, 1.68364300e+06,\n",
       "        9.78940000e+03, 4.71660000e+04, 1.22800000e+03]])"
      ]
     },
     "execution_count": 193,
     "metadata": {},
     "output_type": "execute_result"
    }
   ],
   "source": [
    "A1+A2"
   ]
  },
  {
   "cell_type": "code",
   "execution_count": 125,
   "metadata": {
    "scrolled": true
   },
   "outputs": [
    {
     "data": {
      "text/plain": [
       "array([[1.2875000e+04, 4.8337500e+05, 2.4572800e+05, 6.8953840e+06,\n",
       "        3.2407502e+04, 1.6212700e+05, 3.0760000e+03],\n",
       "       [4.8337500e+05, 1.9097636e+07, 9.3746470e+06, 2.5934547e+08,\n",
       "        1.1230119e+06, 5.7346210e+06, 9.9892500e+04],\n",
       "       [2.4572800e+05, 9.3746470e+06, 4.8575240e+06, 1.3298987e+08,\n",
       "        6.0783225e+05, 3.0884330e+06, 5.9044000e+04],\n",
       "       [6.8953840e+06, 2.5934547e+08, 1.3298987e+08, 3.7575764e+09,\n",
       "        1.7758104e+07, 8.8306184e+07, 1.6836430e+06],\n",
       "       [3.2407502e+04, 1.1230119e+06, 6.0783225e+05, 1.7758104e+07,\n",
       "        9.7656891e+04, 4.6403650e+05, 9.7893994e+03],\n",
       "       [1.6212700e+05, 5.7346210e+06, 3.0884330e+06, 8.8306184e+07,\n",
       "        4.6403650e+05, 2.2682820e+06, 4.7166000e+04],\n",
       "       [3.0760000e+03, 9.9892500e+04, 5.9044000e+04, 1.6836430e+06,\n",
       "        9.7893994e+03, 4.7166000e+04, 1.2280000e+03]], dtype=float32)"
      ]
     },
     "execution_count": 125,
     "metadata": {},
     "output_type": "execute_result"
    }
   ],
   "source": [
    "np.dot(X.T,X)"
   ]
  },
  {
   "cell_type": "code",
   "execution_count": 126,
   "metadata": {},
   "outputs": [
    {
     "data": {
      "text/plain": [
       "(2175849137.6200633,\n",
       " 1608061551.53014,\n",
       " 2.642768506316362e-10,\n",
       " 2.642767993080802e-10,\n",
       " 3783910689.150203,\n",
       " 3783911400.0,\n",
       " False)"
      ]
     },
     "execution_count": 126,
     "metadata": {},
     "output_type": "execute_result"
    }
   ],
   "source": [
    "ca1, ca2 = np.trace(A1), np.trace(A2)\n",
    "ca1,ca2, 1 / (ca1+ca2), 1 / np.trace(np.dot(X.T,X)), ca1+ca2, np.trace(np.dot(X.T,X)), (ca1+ca2) == np.trace(np.dot(X.T,X))"
   ]
  },
  {
   "cell_type": "code",
   "execution_count": 147,
   "metadata": {},
   "outputs": [
    {
     "name": "stdout",
     "output_type": "stream",
     "text": [
      "2.9469982052434803e-10\n",
      "CPU times: user 1.37 s, sys: 19.9 ms, total: 1.39 s\n",
      "Wall time: 1.39 s\n"
     ]
    }
   ],
   "source": [
    "%%time\n",
    "xa1 = random.choice(np.linspace(0, 2/ca1, 11)[1:])\n",
    "xa2 = random.choice(np.linspace(0, 2/ca2, 11)[1:])\n",
    "xa1,xa2 = 1e-12, 1e-12\n",
    "ca1_enc = pub.encrypt(ca1, precision=1e-15)\n",
    "xa1_enc = pub.encrypt(xa1, precision=1e-15)\n",
    "xa1_sq_enc = pub.encrypt(xa1*xa1, precision=1e-15)\n",
    "ca1xa1_enc = pub.encrypt(ca1*xa1, precision=1e-15)\n",
    "#print(xa1,xa2)\n",
    "for i in range(10):\n",
    "    xa1 = 2*xa1 - (ca1*xa1*xa1)\n",
    "    xa2 = 2*xa2 - (ca2*xa2*xa2)\n",
    "    temp = (2*ca1xa1_enc*xa2) + (ca1_enc*xa2*xa2) + (ca2*xa1_sq_enc) + (2*ca2*xa1_enc*xa2)\n",
    "    r = xa2 / 4\n",
    "    a1 = temp - r\n",
    "    a2 = r\n",
    "    a1 = priv.decrypt(a1)\n",
    "    xa1 -= a1\n",
    "    xa2 -= a2\n",
    "    xa1_enc = pub.encrypt(xa1, precision=1e-15)\n",
    "    xa1_sq_enc = pub.encrypt(xa1*xa1, precision=1e-15)\n",
    "    ca1xa1_enc = pub.encrypt(ca1*xa1, precision=1e-15)\n",
    "\n",
    "print(xa1+xa2)\n",
    "cinv_a1, cinv_a2 = xa1,xa2"
   ]
  },
  {
   "cell_type": "code",
   "execution_count": 148,
   "metadata": {
    "code_folding": [
     0
    ]
   },
   "outputs": [],
   "source": [
    "#xa1 = random.choice(np.linspace(0, 2/ca1, 11)[1:])\n",
    "#xa2 = random.choice(np.linspace(0, 2/ca2, 11)[1:])\n",
    "#xa1,xa2 = 1e-12, 1e-12\n",
    "#print(xa1,xa2)\n",
    "#for i in range(50):\n",
    "#    xa1 = 2*xa1 - (ca1*xa1*xa1)\n",
    "#    xa2 = 2*xa2 - (ca2*xa2*xa2)\n",
    "#    temp = (2*ca1*xa1*xa2) + (ca1*xa2*xa2) + (ca2*xa1*xa1) + (2*ca2*xa1*xa2)\n",
    "#    print(temp)\n",
    "#    r = xa2 / 2 #random.choice(np.linspace(0, 2/ca2,11)[1:])\n",
    "#    a1 = temp - r\n",
    "#    a2 = r\n",
    "#    print(a1,a2)\n",
    "#    xa1 -= a1\n",
    "#    xa2 -= a2\n",
    "#    print(xa1, xa2)\n",
    "\n",
    "#print(xa1+xa2)\n",
    "#cinv_a1, cinv_a2 = xa1,xa2"
   ]
  },
  {
   "cell_type": "code",
   "execution_count": 149,
   "metadata": {},
   "outputs": [
    {
     "data": {
      "text/plain": [
       "(2.41931715157794e-10, 5.2768105366554025e-11, 2.419318079205368e-10)"
      ]
     },
     "execution_count": 149,
     "metadata": {},
     "output_type": "execute_result"
    }
   ],
   "source": [
    "#cinv_a1, cinv_a2 = 1 / (2*(ca1+ca2)), 1 / (2*(ca1+ca2))\n",
    "cinv_a1, cinv_a2, priv.decrypt(pub.encrypt(cinv_a1,precision=1e-15))"
   ]
  },
  {
   "cell_type": "code",
   "execution_count": 170,
   "metadata": {
    "code_folding": [
     8,
     16,
     37,
     50,
     60
    ]
   },
   "outputs": [
    {
     "name": "stdout",
     "output_type": "stream",
     "text": [
      "CPU times: user 3min 33s, sys: 2.83 s, total: 3min 36s\n",
      "Wall time: 3min 36s\n"
     ]
    }
   ],
   "source": [
    "%%time\n",
    "\n",
    "X01 = cinv_a1 * np.eye(user1.X.shape[1])\n",
    "X02 = cinv_a2 * np.eye(user2.X.shape[1])\n",
    "M01 = cinv_a1 * A1\n",
    "M02 = cinv_a2 * A2\n",
    "cinv_a1_enc = pub.encrypt(cinv_a1,precision=1e-15)\n",
    "temp = np.empty(X01.shape,dtype=np.object)\n",
    "for i in range(temp.shape[0]):\n",
    "    for j in range(temp.shape[1]):\n",
    "        temp[i][j] = cinv_a1_enc * A2[i][j]\n",
    "\n",
    "temp += (A1_enc * cinv_a2)\n",
    "M0_part1 = np.empty(A1.shape,dtype=np.object)\n",
    "M0_part2 = np.empty(A2.shape,dtype=np.float32)\n",
    "\n",
    "for i in range(temp.shape[0]):\n",
    "    for j in range(temp.shape[1]):\n",
    "        r = M02[i][j] / 2\n",
    "        M0_part1[i][j] = temp[i][j] - r\n",
    "        M0_part2[i][j] = r\n",
    "\n",
    "M0_part1 = user1.decrypt(M0_part1, priv)\n",
    "M01 += M0_part1\n",
    "M02 += M0_part2\n",
    "#print(X01+X02, M01+M02)\n",
    "X1 = 2*X01 - np.dot(X01, M01)\n",
    "X2 = 2*X02 - np.dot(X02, M02)\n",
    "M1 = 2*M01 - np.dot(M01, M01)\n",
    "M2 = 2*M02 - np.dot(M02, M02)\n",
    "\n",
    "X01_enc = user1.encrypt(X01)\n",
    "M01_enc = user1.encrypt(M01)\n",
    "temp = np.dot(X01_enc, M02) + np.dot(X02, M01_enc)\n",
    "X1_part = np.empty(X1.shape,dtype=np.object)\n",
    "X2_part = np.empty(X2.shape,dtype=np.float32)\n",
    "\n",
    "for i in range(temp.shape[0]):\n",
    "    for j in range(temp.shape[1]):\n",
    "        r = X2[i][j] / 2\n",
    "        X1_part[i][j] = temp[i][j] - r\n",
    "        X2_part[i][j] = r\n",
    "\n",
    "X1 -= user1.decrypt(X1_part, priv)\n",
    "X2 -= X2_part\n",
    "\n",
    "temp = np.dot(M01_enc, M02) * 2\n",
    "M1_part = np.empty(M1.shape,dtype=np.object)\n",
    "M2_part = np.empty(M2.shape,dtype=np.float32)\n",
    "\n",
    "for i in range(temp.shape[0]):\n",
    "    for j in range(temp.shape[1]):\n",
    "        r = M2[i][j] / 2\n",
    "        M1_part[i][j] = temp[i][j] - r\n",
    "        M2_part[i][j] = r\n",
    "\n",
    "M1 -= user1.decrypt(M1_part, priv)\n",
    "M2 -= M2_part\n",
    "#print(X1+X2, M1+M2)\n",
    "\n",
    "for i in range(30):\n",
    "    X1_enc = user1.encrypt(X1)\n",
    "    M1_enc = user1.encrypt(M1)\n",
    "    X1 = 2*X1 - np.dot(X1, M1)\n",
    "    X2 = 2*X2 - np.dot(X2, M2)\n",
    "    temp = np.dot(X1_enc, M2) + np.dot(X2, M1_enc)\n",
    "    X1_part = np.empty(X1.shape,dtype=np.object)\n",
    "    X2_part = np.empty(X2.shape,dtype=np.float32)\n",
    "\n",
    "    for i in range(temp.shape[0]):\n",
    "        for j in range(temp.shape[1]):\n",
    "            r = X2[i][j] / 2\n",
    "            X1_part[i][j] = temp[i][j] - r\n",
    "            X2_part[i][j] = r\n",
    "\n",
    "    X1 -= user1.decrypt(X1_part, priv)\n",
    "    X2 -= X2_part\n",
    "    M1 = 2*M1 - np.dot(M1, M1)\n",
    "    M2 = 2*M2 - np.dot(M2, M2)\n",
    "    temp = np.dot(M1_enc, M2) * 2\n",
    "    M1_part = np.empty(M1.shape,dtype=np.object)\n",
    "    M2_part = np.empty(M2.shape,dtype=np.float32)\n",
    "\n",
    "    for i in range(temp.shape[0]):\n",
    "        for j in range(temp.shape[1]):\n",
    "            r = M2[i][j] / 2\n",
    "            M1_part[i][j] = temp[i][j] - r\n",
    "            M2_part[i][j] = r\n",
    "\n",
    "    M1 -= user1.decrypt(M1_part, priv)\n",
    "    M2 -= M2_part\n",
    "    \n",
    "A1_inv, A2_inv = X1, X2"
   ]
  },
  {
   "cell_type": "code",
   "execution_count": 198,
   "metadata": {},
   "outputs": [
    {
     "data": {
      "text/plain": [
       "(array([[ 9.14176246e-03, -1.42853291e-04,  1.76228804e-05,\n",
       "         -1.75101134e-06, -7.87048444e-05, -2.09820975e-04,\n",
       "         -9.64202094e-04],\n",
       "        [-1.42829330e-04,  5.07422096e-06, -2.45013762e-06,\n",
       "         -1.81025536e-07,  8.94589711e-06,  4.47894663e-06,\n",
       "          6.13591682e-05],\n",
       "        [ 1.76328459e-05, -2.44993218e-06,  1.37630256e-05,\n",
       "         -2.95863157e-07,  5.19226754e-05, -1.05792460e-05,\n",
       "         -9.87120105e-05],\n",
       "        [-1.82546703e-06, -1.76279953e-07, -3.07643352e-07,\n",
       "          3.86327925e-08, -2.36597086e-06, -6.06041231e-09,\n",
       "          1.87400309e-06],\n",
       "        [-7.87198311e-05,  8.95072965e-06,  5.19282918e-05,\n",
       "         -2.24041958e-06,  7.11436924e-04, -1.39360143e-04,\n",
       "         -1.47758965e-04],\n",
       "        [-2.09814749e-04,  4.47822028e-06, -1.05806516e-05,\n",
       "         -4.67745230e-08, -1.39364008e-04,  5.06872598e-05,\n",
       "         -1.39319502e-04],\n",
       "        [-9.64259989e-04,  6.13706388e-05, -9.87229484e-05,\n",
       "          2.02355220e-06, -1.47807570e-04, -1.39311340e-04,\n",
       "          6.89463251e-03]]),\n",
       " array([[ 9.14237648e-03, -1.42847333e-04,  1.77888487e-05,\n",
       "         -1.80728762e-06, -7.75250373e-05, -2.10293758e-04,\n",
       "         -9.62893013e-04],\n",
       "        [-1.42847333e-04,  5.07437244e-06, -2.45027331e-06,\n",
       "         -1.76428472e-07,  8.94068580e-06,  4.48104629e-06,\n",
       "          6.13568191e-05],\n",
       "        [ 1.77888487e-05, -2.45027331e-06,  1.38077685e-05,\n",
       "         -3.03421956e-07,  5.22447444e-05, -1.07070318e-05,\n",
       "         -9.83738209e-05],\n",
       "        [-1.80728762e-06, -1.76428472e-07, -3.03421956e-07,\n",
       "          3.71112243e-08, -2.33526271e-06, -1.83462525e-08,\n",
       "          1.90751371e-06],\n",
       "        [-7.75250373e-05,  8.94068580e-06,  5.22447444e-05,\n",
       "         -2.33526271e-06,  7.13720277e-04, -1.40272881e-04,\n",
       "         -1.45287602e-04],\n",
       "        [-2.10293758e-04,  4.48104629e-06, -1.07070318e-05,\n",
       "         -1.83462525e-08, -1.40272881e-04,  5.10496611e-05,\n",
       "         -1.40314296e-04],\n",
       "        [-9.62893013e-04,  6.13568191e-05, -9.83738209e-05,\n",
       "          1.90751371e-06, -1.45287602e-04, -1.40314296e-04,\n",
       "          6.89733494e-03]], dtype=float32))"
      ]
     },
     "execution_count": 198,
     "metadata": {},
     "output_type": "execute_result"
    }
   ],
   "source": [
    "A1_inv+A2_inv, np.linalg.inv(np.dot(X.T,X))"
   ]
  },
  {
   "cell_type": "code",
   "execution_count": 227,
   "metadata": {},
   "outputs": [
    {
     "name": "stdout",
     "output_type": "stream",
     "text": [
      "CPU times: user 2.09 s, sys: 71.8 ms, total: 2.16 s\n",
      "Wall time: 2.16 s\n"
     ]
    }
   ],
   "source": [
    "%%time\n",
    "\n",
    "beta1 = np.dot(A1_inv, B1)\n",
    "beta2 = np.dot(A2_inv, B2)\n",
    "#print(beta1.shape,beta2.shape)\n",
    "A1_inv_enc = user1.encrypt(A1_inv)\n",
    "B1_enc = user1.encrypt(B1)\n",
    "temp = np.dot(A1_inv_enc, B2) + np.dot(A2_inv, B1_enc)\n",
    "#print(temp.shape)\n",
    "beta_part1 = np.empty(beta1.shape,dtype=np.object)\n",
    "beta_part2 = np.empty(beta2.shape,dtype=np.float32)\n",
    "\n",
    "for i in range(temp.shape[0]):\n",
    "    r = beta2[i] / 2\n",
    "    beta_part1[i] = temp[i] - r\n",
    "    beta_part2[i] = r\n",
    "    \n",
    "beta1 += user1.decrypt(beta_part1,priv)\n",
    "beta2 += beta_part2"
   ]
  },
  {
   "cell_type": "code",
   "execution_count": 228,
   "metadata": {},
   "outputs": [
    {
     "data": {
      "text/plain": [
       "(array([ 0.67120674, -0.09397539,  0.14297666,  0.03167619,  2.26627548,\n",
       "        -0.11200166,  4.18490103]),\n",
       " array([-0.70539665,  0.02186924, -0.03956068, -0.00603187, -0.07965064,\n",
       "         0.58360624,  1.3099518 ], dtype=float32))"
      ]
     },
     "execution_count": 228,
     "metadata": {},
     "output_type": "execute_result"
    }
   ],
   "source": [
    "beta1+beta2, np.dot(np.linalg.inv(np.dot(X.T,X)),np.dot(X.T,Y))"
   ]
  },
  {
   "cell_type": "code",
   "execution_count": 159,
   "metadata": {},
   "outputs": [],
   "source": []
  },
  {
   "cell_type": "code",
   "execution_count": 160,
   "metadata": {},
   "outputs": [],
   "source": [
    "INV = np.random.randint(500,50000,size=9).reshape(3,3)\n",
    "INV = np.array([[4.5,7.8],[2.3,6.1]])"
   ]
  },
  {
   "cell_type": "code",
   "execution_count": 161,
   "metadata": {},
   "outputs": [
    {
     "data": {
      "text/plain": [
       "array([[ 0.64143007, -0.82018927],\n",
       "       [-0.24185068,  0.47318612]])"
      ]
     },
     "execution_count": 161,
     "metadata": {},
     "output_type": "execute_result"
    }
   ],
   "source": [
    "np.linalg.inv(INV)"
   ]
  },
  {
   "cell_type": "code",
   "execution_count": 162,
   "metadata": {},
   "outputs": [
    {
     "name": "stdout",
     "output_type": "stream",
     "text": [
      "10.6 0.09433962264150944\n",
      "[[0.09433962 0.        ]\n",
      " [0.         0.09433962]] [[0.4245283  0.73584906]\n",
      " [0.21698113 0.5754717 ]]\n",
      "[[ 0.14862941 -0.06941972]\n",
      " [-0.02046992  0.13438946]] [[0.50916696 0.73584906]\n",
      " [0.21698113 0.66011036]]\n",
      "[[1. 0.]\n",
      " [0. 1.]] [[ 0.64143007 -0.82018927]\n",
      " [-0.24185068  0.47318612]]\n"
     ]
    }
   ],
   "source": [
    "calculate_matrix_inverse(INV)"
   ]
  },
  {
   "cell_type": "code",
   "execution_count": 163,
   "metadata": {},
   "outputs": [
    {
     "data": {
      "text/plain": [
       "array([[ 9.14241146e-03, -1.42848138e-04,  1.77914008e-05,\n",
       "        -1.80735848e-06, -7.75064333e-05, -2.10298271e-04,\n",
       "        -9.62914694e-04],\n",
       "       [-1.42848138e-04,  5.07443810e-06, -2.45024184e-06,\n",
       "        -1.76435712e-07,  8.94098435e-06,  4.48111092e-06,\n",
       "         6.13570421e-05],\n",
       "       [ 1.77914008e-05, -2.45024184e-06,  1.38078894e-05,\n",
       "        -3.03436484e-07,  5.22451696e-05, -1.07069538e-05,\n",
       "        -9.83750430e-05],\n",
       "       [-1.80735848e-06, -1.76435712e-07, -3.03436484e-07,\n",
       "         3.71128039e-08, -2.33535849e-06, -1.83463299e-08,\n",
       "         1.90758288e-06],\n",
       "       [-7.75064333e-05,  8.94098435e-06,  5.22451696e-05,\n",
       "        -2.33535849e-06,  7.13720854e-04, -1.40271797e-04,\n",
       "        -1.45293693e-04],\n",
       "       [-2.10298271e-04,  4.48111092e-06, -1.07069538e-05,\n",
       "        -1.83463299e-08, -1.40271797e-04,  5.10494778e-05,\n",
       "        -1.40313337e-04],\n",
       "       [-9.62914694e-04,  6.13570421e-05, -9.83750430e-05,\n",
       "         1.90758288e-06, -1.45293693e-04, -1.40313337e-04,\n",
       "         6.89734662e-03]])"
      ]
     },
     "execution_count": 163,
     "metadata": {},
     "output_type": "execute_result"
    }
   ],
   "source": [
    "np.linalg.inv(A1+A2)"
   ]
  },
  {
   "cell_type": "code",
   "execution_count": 164,
   "metadata": {},
   "outputs": [
    {
     "name": "stdout",
     "output_type": "stream",
     "text": [
      "3783910689.150203 2.642768506316362e-10\n",
      "[[2.64276851e-10 0.00000000e+00 0.00000000e+00 0.00000000e+00\n",
      "  0.00000000e+00 0.00000000e+00 0.00000000e+00]\n",
      " [0.00000000e+00 2.64276851e-10 0.00000000e+00 0.00000000e+00\n",
      "  0.00000000e+00 0.00000000e+00 0.00000000e+00]\n",
      " [0.00000000e+00 0.00000000e+00 2.64276851e-10 0.00000000e+00\n",
      "  0.00000000e+00 0.00000000e+00 0.00000000e+00]\n",
      " [0.00000000e+00 0.00000000e+00 0.00000000e+00 2.64276851e-10\n",
      "  0.00000000e+00 0.00000000e+00 0.00000000e+00]\n",
      " [0.00000000e+00 0.00000000e+00 0.00000000e+00 0.00000000e+00\n",
      "  2.64276851e-10 0.00000000e+00 0.00000000e+00]\n",
      " [0.00000000e+00 0.00000000e+00 0.00000000e+00 0.00000000e+00\n",
      "  0.00000000e+00 2.64276851e-10 0.00000000e+00]\n",
      " [0.00000000e+00 0.00000000e+00 0.00000000e+00 0.00000000e+00\n",
      "  0.00000000e+00 0.00000000e+00 2.64276851e-10]] [[3.40256445e-06 1.27744823e-04 6.49402220e-05 1.82229037e-03\n",
      "  8.56455204e-06 4.28464130e-05 8.12915593e-07]\n",
      " [1.27744823e-04 5.04706263e-03 2.47750218e-03 6.85390067e-02\n",
      "  2.96786048e-04 1.51552758e-03 2.63992753e-05]\n",
      " [6.49402220e-05 2.47750218e-03 1.28373114e-03 3.51461480e-02\n",
      "  1.60636006e-04 8.16201347e-04 1.56039624e-05]\n",
      " [1.82229037e-03 6.85390067e-02 3.51461480e-02 9.93040216e-01\n",
      "  4.69305570e-03 2.33372794e-02 4.44947870e-04]\n",
      " [8.56455204e-06 2.96786048e-04 1.60636006e-04 4.69305570e-03\n",
      "  2.58084580e-05 1.22634105e-04 2.58711180e-06]\n",
      " [4.28464130e-05 1.51552758e-03 8.16201347e-04 2.33372794e-02\n",
      "  1.22634105e-04 5.99454423e-04 1.24648819e-05]\n",
      " [8.12915593e-07 2.63992753e-05 1.56039624e-05 4.44947870e-04\n",
      "  2.58711180e-06 1.24648819e-05 3.24531973e-07]]\n",
      "[[ 5.28552802e-10 -3.37599994e-14 -1.71621973e-14 -4.81589159e-13\n",
      "  -2.26341284e-15 -1.13233151e-14 -2.14834773e-16]\n",
      " [-3.37599994e-14  5.27219879e-10 -6.54746475e-13 -1.81132728e-11\n",
      "  -7.84336822e-14 -4.00518855e-13 -6.97671734e-15]\n",
      " [-1.71621973e-14 -6.54746475e-13  5.28214441e-10 -9.28831330e-12\n",
      "  -4.24523778e-14 -2.15703121e-13 -4.12376603e-15]\n",
      " [-4.81589159e-13 -1.81132728e-11 -9.28831330e-12  2.66116160e-10\n",
      "  -1.24026598e-12 -6.16750270e-12 -1.17589422e-13]\n",
      " [-2.26341284e-15 -7.84336822e-14 -4.24523778e-14 -1.24026598e-12\n",
      "   5.28546881e-10 -3.24093550e-14 -6.83713759e-16]\n",
      " [-1.13233151e-14 -4.00518855e-13 -2.15703121e-13 -6.16750270e-12\n",
      "  -3.24093550e-14  5.28395279e-10 -3.29417974e-15]\n",
      " [-2.14834773e-16 -6.97671734e-15 -4.12376603e-15 -1.17589422e-13\n",
      "  -6.83713759e-16 -3.29417974e-15  5.28553615e-10]] [[3.46192934e-06 1.29718115e-04 6.53975224e-05 1.82288854e-03\n",
      "  8.52314257e-06 4.28920307e-05 8.10062010e-07]\n",
      " [1.29718115e-04 5.36251705e-03 2.52914439e-03 6.85460224e-02\n",
      "  2.69824170e-04 1.42091941e-03 2.21105968e-05]\n",
      " [6.53975224e-05 2.52914439e-03 1.32372814e-03 3.51559067e-02\n",
      "  1.55282844e-04 8.06872760e-04 1.54736382e-05]\n",
      " [1.82288854e-03 6.85460224e-02 3.51559067e-02 9.93448542e-01\n",
      "  4.69673137e-03 2.33524939e-02 4.45382148e-04]\n",
      " [8.52314257e-06 2.69824170e-04 1.55282844e-04 4.69673137e-03\n",
      "  2.94624732e-05 1.35087081e-04 3.07411378e-06]\n",
      " [4.28920307e-05 1.42091941e-03 8.06872760e-04 2.33524939e-02\n",
      "  1.35087081e-04 6.50940852e-04 1.44853180e-05]\n",
      " [8.10062010e-07 2.21105968e-05 1.54736382e-05 4.45382148e-04\n",
      "  3.07411378e-06 1.44853180e-05 4.49982101e-07]]\n",
      "[[1. 0. 0. 0. 0. 0. 0.]\n",
      " [0. 1. 0. 0. 0. 0. 0.]\n",
      " [0. 0. 1. 0. 0. 0. 0.]\n",
      " [0. 0. 0. 1. 0. 0. 0.]\n",
      " [0. 0. 0. 0. 1. 0. 0.]\n",
      " [0. 0. 0. 0. 0. 1. 0.]\n",
      " [0. 0. 0. 0. 0. 0. 1.]] [[ 9.14241146e-03 -1.42848138e-04  1.77914008e-05 -1.80735848e-06\n",
      "  -7.75064333e-05 -2.10298271e-04 -9.62914694e-04]\n",
      " [-1.42848138e-04  5.07443810e-06 -2.45024184e-06 -1.76435712e-07\n",
      "   8.94098435e-06  4.48111092e-06  6.13570421e-05]\n",
      " [ 1.77914008e-05 -2.45024184e-06  1.38078894e-05 -3.03436484e-07\n",
      "   5.22451696e-05 -1.07069538e-05 -9.83750430e-05]\n",
      " [-1.80735848e-06 -1.76435712e-07 -3.03436484e-07  3.71128039e-08\n",
      "  -2.33535849e-06 -1.83463299e-08  1.90758288e-06]\n",
      " [-7.75064333e-05  8.94098435e-06  5.22451696e-05 -2.33535849e-06\n",
      "   7.13720854e-04 -1.40271797e-04 -1.45293693e-04]\n",
      " [-2.10298271e-04  4.48111092e-06 -1.07069538e-05 -1.83463299e-08\n",
      "  -1.40271797e-04  5.10494778e-05 -1.40313337e-04]\n",
      " [-9.62914694e-04  6.13570421e-05 -9.83750430e-05  1.90758288e-06\n",
      "  -1.45293693e-04 -1.40313337e-04  6.89734662e-03]]\n"
     ]
    }
   ],
   "source": [
    "calculate_matrix_inverse(A1+A2)"
   ]
  },
  {
   "cell_type": "code",
   "execution_count": null,
   "metadata": {},
   "outputs": [],
   "source": []
  },
  {
   "cell_type": "code",
   "execution_count": null,
   "metadata": {},
   "outputs": [],
   "source": [
    "\n",
    "\n"
   ]
  },
  {
   "cell_type": "code",
   "execution_count": 25,
   "metadata": {
    "code_folding": []
   },
   "outputs": [],
   "source": [
    "class PaillierSymmetric(object):\n",
    "    \n",
    "    class PaillierNumber(object):\n",
    "        def __init__(self,cipher, nsquare):\n",
    "            self.cipher = cipher\n",
    "            self.nsquare = nsquare\n",
    "\n",
    "        def __mul__(self,c2):\n",
    "            return pow(self.cipher,c2, self.nsquare) if isinstance(c2,int) else None\n",
    "\n",
    "        def __add__(self,c2):\n",
    "            return (self.cipher * c2.cipher) % (self.nsquare)\n",
    "\n",
    "    def __init__(self,pub,priv):\n",
    "        \n",
    "        self.n, self.g = pub.n, pub.g\n",
    "        self.p, self.q = priv.p, priv.q\n",
    "        self.nsquare = pub.nsquare\n",
    "        self.gLambda = PaillierSymmetric.lcm(self.p-1,self.q-1)\n",
    "        self.r = pub.get_random_lt_n()\n",
    "        self.l = (pow(self.g, self.gLambda, self.nsquare)-1)//self.n\n",
    "        self.gMu = PaillierSymmetric.inverse_of(self.l, self.n)\n",
    "        \n",
    "        if (PaillierSymmetric.gcd(self.g,self.nsquare)==1):\n",
    "            print(\"g is relatively prime to n*n\")\n",
    "        else:\n",
    "            print(\"WARNING: g is NOT relatively prime to n*n. Will not work!!!\")\n",
    "        \n",
    "    @staticmethod\n",
    "    def gcd(x, y):\n",
    "        while(y):\n",
    "            x, y = y, x % y\n",
    "        return x\n",
    "\n",
    "    @staticmethod\n",
    "    def lcm(x, y):\n",
    "        lcm = (x*y)//PaillierSymmetric.gcd(x,y)\n",
    "        return lcm\n",
    "        \n",
    "    @staticmethod\n",
    "    def extended_euclidean_algorithm(a, b):\n",
    "        \"\"\"\n",
    "        Returns a three-tuple (gcd, x, y) such that\n",
    "        a * x + b * y == gcd, where gcd is the greatest\n",
    "        common divisor of a and b.\n",
    "\n",
    "        This function implements the extended Euclidean\n",
    "        algorithm and runs in O(log b) in the worst case.\n",
    "        \"\"\"\n",
    "        s, old_s = 0, 1\n",
    "        t, old_t = 1, 0\n",
    "        r, old_r = b, a\n",
    "\n",
    "        while r != 0:\n",
    "            quotient = old_r // r\n",
    "            old_r, r = r, old_r - quotient * r\n",
    "            old_s, s = s, old_s - quotient * s\n",
    "            old_t, t = t, old_t - quotient * t\n",
    "\n",
    "        return old_r, old_s, old_t\n",
    "\n",
    "    @staticmethod\n",
    "    def inverse_of(n, p):\n",
    "        \"\"\"\n",
    "        Returns the multiplicative inverse of\n",
    "        n modulo p.\n",
    "\n",
    "        This function returns an integer m such that\n",
    "        (n * m) % p == 1.\n",
    "        \"\"\"\n",
    "        gcd, x, y = PaillierSymmetric.extended_euclidean_algorithm(n, p)\n",
    "        assert (n * x + p * y) % p == gcd\n",
    "\n",
    "        if gcd != 1:\n",
    "            # Either n is 0, or p is not a prime number.\n",
    "            raise ValueError(\n",
    "                '{} has no multiplicative inverse '\n",
    "                'modulo {}'.format(n, p))\n",
    "        else:\n",
    "            return x % p\n",
    "    \n",
    "    def encrypt(self,m):\n",
    "        k1 = pow(self.g, m, self.nsquare)\n",
    "        k2 = pow(self.r, self.n, self.nsquare)\n",
    "        cipher = (k1 * k2) % self.nsquare\n",
    "        return self.PaillierNumber(cipher,self.nsquare)\n",
    "    \n",
    "    def decrypt(self,cipher):\n",
    "        l = (pow(cipher, self.gLambda, self.nsquare)-1) // self.n\n",
    "        mess= (l * self.gMu) % self.n\n",
    "\n",
    "        return mess"
   ]
  },
  {
   "cell_type": "code",
   "execution_count": 26,
   "metadata": {},
   "outputs": [
    {
     "name": "stdout",
     "output_type": "stream",
     "text": [
      "g is relatively prime to n*n\n"
     ]
    }
   ],
   "source": [
    "pub, priv = paillier.generate_paillier_keypair(n_length = 16)\n",
    "pal = PaillierSymmetric(pub,priv)"
   ]
  },
  {
   "cell_type": "code",
   "execution_count": 27,
   "metadata": {},
   "outputs": [],
   "source": [
    "pn = pal.encrypt(100)\n",
    "pal.decrypt(pn * 10),pal.decrypt(pn + pal.encrypt(12))"
   ]
  },
  {
   "cell_type": "code",
   "execution_count": 46,
   "metadata": {},
   "outputs": [
    {
     "name": "stdout",
     "output_type": "stream",
     "text": [
      "True\n"
     ]
    }
   ],
   "source": []
  },
  {
   "cell_type": "code",
   "execution_count": 160,
   "metadata": {},
   "outputs": [],
   "source": []
  },
  {
   "cell_type": "code",
   "execution_count": 2,
   "metadata": {},
   "outputs": [],
   "source": [
    "p,q = 123.4, -123.4\n",
    "M = pow(2,64)\n",
    "P = pow(2,128)\n",
    "pub, priv = paillier.generate_paillier_keypair(n_length = 1024)"
   ]
  },
  {
   "cell_type": "code",
   "execution_count": 4,
   "metadata": {},
   "outputs": [
    {
     "data": {
      "text/plain": [
       "(1.85389777940781e+21, 1.85389777940781e+21)"
      ]
     },
     "execution_count": 4,
     "metadata": {},
     "output_type": "execute_result"
    }
   ],
   "source": [
    "t = 100.5 * M * M\n",
    "t_enc = pub.encrypt(t)\n",
    "t_enc = t_enc/M\n",
    "priv.decrypt(t_enc), 100.5 * M"
   ]
  },
  {
   "cell_type": "code",
   "execution_count": 177,
   "metadata": {},
   "outputs": [],
   "source": [
    "p = (p*M) % pub.n\n",
    "q = (q*M) % pub.n"
   ]
  },
  {
   "cell_type": "code",
   "execution_count": 178,
   "metadata": {},
   "outputs": [],
   "source": [
    "if p <= (pub.n//2):\n",
    "    actual = p / M\n",
    "else:\n",
    "    actual = (p - pub.n) / M\n",
    "if q <= (pub.n//2):\n",
    "    actual1 = q / M\n",
    "else:\n",
    "    actual1 = (q - pub.n) / M"
   ]
  },
  {
   "cell_type": "code",
   "execution_count": 183,
   "metadata": {},
   "outputs": [
    {
     "data": {
      "text/plain": [
       "(123.4, 0.0, 2.2763282186957588e+21, 1.0468509597936034e+308)"
      ]
     },
     "execution_count": 183,
     "metadata": {},
     "output_type": "execute_result"
    }
   ],
   "source": [
    "actual, actual1, p, q"
   ]
  },
  {
   "cell_type": "code",
   "execution_count": 179,
   "metadata": {},
   "outputs": [],
   "source": [
    "import sympy"
   ]
  },
  {
   "cell_type": "code",
   "execution_count": 278,
   "metadata": {},
   "outputs": [],
   "source": [
    "mat = sympy.Matrix([123.4, -123.4])\n",
    "mat = (mat * M) \n",
    "mat = mat.applyfunc(lambda x: int(x))\n",
    "mat = mat.applyfunc(lambda x: x % pub.n)\n",
    "mat = np.array(mat)\n",
    "#mat = mat.applyfunc(lambda x: float(x))\n",
    "#mat = mat.applyfunc(lambda x: pub.encrypt(float(x)))\n",
    "#mat = mat.applyfunc(lambda x: x if x <= (pub.n//2) else x - pub.n)\n",
    "#sys.maxsize, (mat / M).applyfunc(lambda x: float(x))"
   ]
  },
  {
   "cell_type": "code",
   "execution_count": 284,
   "metadata": {},
   "outputs": [
    {
     "data": {
      "text/plain": [
       "-123.4"
      ]
     },
     "execution_count": 284,
     "metadata": {},
     "output_type": "execute_result"
    }
   ],
   "source": [
    "((int(-123.4 * M) % pub.n) - pub.n) / M"
   ]
  },
  {
   "cell_type": "code",
   "execution_count": 300,
   "metadata": {},
   "outputs": [],
   "source": [
    "a = np.array([100])\n"
   ]
  },
  {
   "cell_type": "code",
   "execution_count": 314,
   "metadata": {},
   "outputs": [],
   "source": [
    "mat = np.array([123.4,-123.4])\n",
    "mat = Integer(mat * M)"
   ]
  },
  {
   "cell_type": "code",
   "execution_count": 316,
   "metadata": {},
   "outputs": [],
   "source": [
    "mat2 = mat * pub.encrypt(100)"
   ]
  },
  {
   "cell_type": "code",
   "execution_count": 318,
   "metadata": {},
   "outputs": [
    {
     "data": {
      "text/plain": [
       "True"
      ]
     },
     "execution_count": 318,
     "metadata": {},
     "output_type": "execute_result"
    }
   ],
   "source": [
    "priv.decrypt(mat2[0]) == mat[0]*100"
   ]
  },
  {
   "cell_type": "code",
   "execution_count": 213,
   "metadata": {},
   "outputs": [
    {
     "data": {
      "text/plain": [
       "(9.223372036854776e+18, 9223372036854775808, 18446744073709551616)"
      ]
     },
     "execution_count": 213,
     "metadata": {},
     "output_type": "execute_result"
    }
   ],
   "source": [
    "M/2, M//2, M"
   ]
  },
  {
   "cell_type": "code",
   "execution_count": 116,
   "metadata": {},
   "outputs": [
    {
     "name": "stdout",
     "output_type": "stream",
     "text": [
      "p in Zn : 4381135474107082717090948070684015722496000\n",
      "-7.412124328369188e+18\n",
      "2.3750182994901048e+23\n",
      "25318890731013799855908098671233718094 178233915661981956403249281712803562835\n",
      "4380957240191420735134544821402302918933165 178233915661981956403249281712803562835\n"
     ]
    }
   ],
   "source": [
    "pub, priv = paillier.generate_paillier_keypair(n_length = 1024)\n",
    "n = pub.n\n",
    "M = pow(2,64)\n",
    "P = pow(2,128)\n",
    "p = 12875.0 * M*M\n",
    "#p = int(p)\n",
    "print('p in Zn : %d'%p)\n",
    "r1 = random.randint(P,n-1) % P\n",
    "#r1 = (P+100)\n",
    "enc_p = pub.encrypt(p)\n",
    "enc_s = enc_p - r1\n",
    "s1 = priv.decrypt(enc_s)\n",
    "s1 = s1 % n\n",
    "p1 = (s1-n) % P\n",
    "p2 = r1\n",
    "if ((p1+p2) % P) > (P//2):\n",
    "    print((((p1+p2) % P) - P )/ M)\n",
    "else:\n",
    "    print((((p1+p2) % P) )/ M)\n",
    "\n",
    "if ((r1+s1) % n) > (n//2):\n",
    "    print( (((s1+r1)%n) - n ) / M)\n",
    "else:\n",
    "     print((((s1+r1)%n) ) / M)\n",
    "print(p1, p2)\n",
    "print(s1,r1)"
   ]
  },
  {
   "cell_type": "code",
   "execution_count": 57,
   "metadata": {},
   "outputs": [
    {
     "name": "stdout",
     "output_type": "stream",
     "text": [
      "-4\n"
     ]
    },
    {
     "data": {
      "text/plain": [
       "1000000000000.0"
      ]
     },
     "execution_count": 57,
     "metadata": {},
     "output_type": "execute_result"
    }
   ],
   "source": [
    "e = pub.encrypt(100.0e10)\n",
    "print(e.exponent)\n",
    "#e.decrease_exponent_to(-5)\n",
    "priv.decrypt(e)"
   ]
  },
  {
   "cell_type": "code",
   "execution_count": 144,
   "metadata": {},
   "outputs": [
    {
     "name": "stdout",
     "output_type": "stream",
     "text": [
      "M Inverse : 95687638821090459218389035864570166557581259063903487374595258871870562515777704346229837067887015615052715519503382396574333597750870490783591899469317016338341399223378476178317419825345136872525600189297507754793956592906895487418259711400856715481844506705199573290493538699914775138658306958491949061034\n",
      "1\n"
     ]
    }
   ],
   "source": [
    "\n",
    "M_inv = pow((n+1)//2,64, n)\n",
    "print('M Inverse : %d'%M_inv)\n",
    "print((M_inv * M) % n)\n",
    "enc_p1 = pub.encrypt(p1)\n",
    "p_hat = enc_p1 + p2 - enc_p\n",
    "p_hat_m = (M_inv%P) * p_hat\n",
    "r2 = (random.randint(0, n-1)) % n\n",
    "s2 = (priv.decrypt(p_hat_m) - r2)\n",
    "p11 = ((p1 * M_inv) - s2) % n \n",
    "p22 = ((p2 * M_inv) - r2) %n"
   ]
  },
  {
   "cell_type": "code",
   "execution_count": 145,
   "metadata": {},
   "outputs": [
    {
     "data": {
      "text/plain": [
       "13392865204938341414691010368251945777874997716961118842305683422961705225979609151674134857040843462844131500229942589559075966417388068675280506881582578880867599842412103498384860459044711117306336134897036881372716430533344736718866034536038270827799463359135383590072761718921126622934986431892214071073"
      ]
     },
     "execution_count": 145,
     "metadata": {},
     "output_type": "execute_result"
    }
   ],
   "source": [
    "((p11 + p22) % n)"
   ]
  },
  {
   "cell_type": "code",
   "execution_count": 119,
   "metadata": {},
   "outputs": [
    {
     "name": "stdout",
     "output_type": "stream",
     "text": [
      "float32 float32\n",
      "(392, 7) (392,)\n",
      "float32 float32\n",
      "(392, 7) (392,)\n",
      "CPU times: user 42.7 s, sys: 5.49 s, total: 48.2 s\n",
      "Wall time: 48.2 s\n"
     ]
    }
   ],
   "source": [
    "%%time\n",
    "pub, priv = paillier.generate_paillier_keypair(n_length = 1024)\n",
    "user1 = User(user_shares[0][2], \n",
    "             X_COLUMNS,\n",
    "             Y_COLUMN,\n",
    "             Y.shape[0],\n",
    "             user_shares[0][0],\n",
    "             user_shares[0][1],\n",
    "             pub\n",
    "            )\n",
    "user2 = User(user_shares[1][2], \n",
    "             X_COLUMNS,\n",
    "             Y_COLUMN,\n",
    "             Y.shape[0],\n",
    "             user_shares[1][0],\n",
    "             user_shares[1][1],\n",
    "             pub\n",
    "            )"
   ]
  },
  {
   "cell_type": "code",
   "execution_count": 160,
   "metadata": {},
   "outputs": [
    {
     "name": "stdout",
     "output_type": "stream",
     "text": [
      "[[232478456920231087043069682477975994368\n",
      "  242402424981493359946272113537832714240\n",
      "  150712105294677134349843515500065193984\n",
      "  29283228592544673518940100031401689088\n",
      "  76231245833066108982240854594721677312\n",
      "  63432981992580001933705313198800896000\n",
      "  120850385213826666017026243040253050880]\n",
      " [124331164660601225314615385765688901632\n",
      "  224265972675809862100977286893675741184\n",
      "  108602304301812029978153921151789694976\n",
      "  252719132739107942698942557774839545856\n",
      "  65353392221146139429801266738699960320\n",
      "  260519888140413286794913127899162738688\n",
      "  319473649585460309830218440249408749568]\n",
      " [30698981560908249511112407547079819264\n",
      "  73406264362106209881559037545140977664\n",
      "  266254084881199984699514792626909872128\n",
      "  46387773721311085451846031608421285888\n",
      "  88477972360454561667314622706376245248\n",
      "  23370716859117805695528135049273671680\n",
      "  66895434921696442838946254983230652416]\n",
      " [258460263295792326963867324590388674560\n",
      "  286939147030014762363537675575179083776\n",
      "  87916999610033130375150564100500619264\n",
      "  191647197910354385057825823226421313536\n",
      "  275606091737967700826328798186327506944\n",
      "  103109202368647054382630493534080204800\n",
      "  111457663732737846289468707035225784320]\n",
      " [233084201461106207167371850400516800512\n",
      "  49283463490540533276203540199237484544\n",
      "  213773719299251001505971021914486865920\n",
      "  329108772713445109365517306711171399680\n",
      "  304631795560823533228974473789210361856\n",
      "  12022430200006172751286367579447230464\n",
      "  331929125700045700569220642268027813888]\n",
      " [102003363605760206691164035920844292096\n",
      "  85081553549822014283253876638015815680\n",
      "  295644791671665387101066239735905648640\n",
      "  253114181437941050759777222097184489472\n",
      "  203137276494373182522810793782019096576\n",
      "  16771839473701590895776820162491056128\n",
      "  55072088548066111068317283948177653760]\n",
      " [183200568263641401629028521415471529984\n",
      "  293245993455405333169246063347632177152\n",
      "  79469548736767731433513395358655315968\n",
      "  86434584168488180352592584197609095168\n",
      "  15367511197828261917367932249245220864\n",
      "  187310032063762982923598973103341830144\n",
      "  61661339676286793142785815769012764672]] [[107803910000707622442117309165542921399\n",
      "  97879941939454024936266027351123372379\n",
      "  189570261626265873125607208989812098028\n",
      "  310999138328520988316810814457502196484\n",
      "  264051121087872939905078752842902323261\n",
      "  276849384928361451477841631429367281871\n",
      "  219431981707111843138671354091956047567]\n",
      " [215951202260346150374444715883713452259\n",
      "  116016394245480897414064180757727300901\n",
      "  231680062619299350460754882341059730909\n",
      "  87563234186614595594961746370748285343\n",
      "  274928974699813042843881549533880642329\n",
      "  79762478780630963094719612531666046707\n",
      "  20808717335479997387231477669417313675]\n",
      " [309583385360034739159566359813109463170\n",
      "  266876102559005183319092190230376615916\n",
      "  74028282039828082070669859819636079780\n",
      "  293894593202080595764471843929163023739\n",
      "  251804394560495116473945971071628578143\n",
      "  316911650061877640696912150416624751207\n",
      "  273386931999243116955756610954313168007]\n",
      " [81822103625273337334915305505800720014\n",
      "  53343219895707783366335057394578256595\n",
      "  252365367313358560870553248872541143478\n",
      "  148635169079899102567415788528374069774\n",
      "  64676275183298346082627188581233035276\n",
      "  237173164553920361457914908560929485040\n",
      "  228824703188231691241949260361708348761]\n",
      " [107198165459832859342593247113837127038\n",
      "  290998903430418657841578812947948068581\n",
      "  126508647621698672059738837365577303482\n",
      "  11173594207820933622725182090747784449\n",
      "  35650571360116733074250365076651102971\n",
      "  328259936720940842849689974717552418184\n",
      "  8353241220892943414286431953234809351]\n",
      " [238279003315181250050772399151351284867\n",
      "  255200813371222223001756208236647136291\n",
      "  44637575249330045875809514258982493702\n",
      "  87168185484626378651922355159328824108\n",
      "  137145090426573847906885079145418991035\n",
      "  323510527447278698779807701982391690008\n",
      "  285210278372873225068300396256473483402]\n",
      " [157081798657297114850368829894647435614\n",
      "  47036373465534970289762654812784527350\n",
      "  260812818184171811203384507360109115514\n",
      "  253847782752481357463025144776777460848\n",
      "  324914855723110398341040126114136704683\n",
      "  152972334857176353701486508703981105918\n",
      "  278621027244651698685041174174008195072]]\n"
     ]
    }
   ],
   "source": [
    "## Calculate XT*X shares\n",
    "A1 = np.dot(user1.XT,user1.X)//M\n",
    "A1_enc = user1.encrypt(A1)\n",
    "#print(user1.decrypt(A1_enc,priv))\n",
    "A2 = np.dot(user2.XT,user2.X)//M\n",
    "A_part1 = np.empty((user1.X.shape[1],user1.X.shape[1]),dtype=np.object)\n",
    "A_part2 = np.empty((user2.X.shape[1],user2.X.shape[1]),dtype=np.object)\n",
    "temp = (np.dot(user1.X_enc_T, user2.X) + np.dot(user2.XT, user1.X_enc))\n",
    "#print(user1.decrypt(temp,priv))\n",
    "temp = A1_enc\n",
    "temp += A2\n",
    "#print(user1.decrypt(temp,priv)/M)\n",
    "for i in range(temp.shape[0]):\n",
    "    for j in range(temp.shape[1]):\n",
    "        r = random.randint(P,pub.n-1) % P\n",
    "        A_part1[i][j] = temp[i][j] - r\n",
    "        A_part2[i][j] = r\n",
    "\n",
    "A_part1 = user1.decrypt(A_part1,priv)\n",
    "A_part1 = np.vectorize(int)(A_part1)\n",
    "A_part1 = A_part1 % pub.n  \n",
    "A_part1 = (A_part1 - pub.n) % P\n",
    "print(A_part1, A_part2)"
   ]
  },
  {
   "cell_type": "code",
   "execution_count": 161,
   "metadata": {},
   "outputs": [
    {
     "data": {
      "text/plain": [
       "array([[13336.869173289178, 483631.1019378393, 246331.3882363241,\n",
       "        6895437.583350615, 31735.89564970204, 162085.41520335258,\n",
       "        2476.985792567129],\n",
       "       [483132.72249469726, 19098007.228763767, 9373848.02668991,\n",
       "        259345216.22967592, 1123168.9573737544, 5734693.65842727,\n",
       "        99950.10869903163],\n",
       "       [245311.97950587337, 9374539.842132965, 4857404.9952668,\n",
       "        132989200.86605494, 607948.906385577, 3089050.774379776,\n",
       "        59432.24039308953],\n",
       "       [6895571.104567463, 259345619.3343322, 132989744.56015605,\n",
       "        3757574989.1090717, 17758334.168480925, 88305685.31020012,\n",
       "        1684528.6040286631],\n",
       "       [32691.221175966195, 1123648.3969703324, 607700.865283244,\n",
       "        17758121.626176316, 97732.14411321812, 463612.30835979566,\n",
       "        9786.01598989321],\n",
       "       [162265.9559793907, 5734010.360463945, 3088323.515169269,\n",
       "        88306421.00394212, 464416.17485631, 2267403.5072414633,\n",
       "        47307.71130047355],\n",
       "       [2874.0043517726913, 99746.36319333476, 58502.11392227931,\n",
       "        1684544.0105286092, 10668.280140092878, 47334.19119305789,\n",
       "        1537.6400447240171]], dtype=object)"
      ]
     },
     "execution_count": 161,
     "metadata": {},
     "output_type": "execute_result"
    }
   ],
   "source": [
    "((A_part1+A_part2)%P)/(M)\n",
    "#(A2+A1)/M\n",
    "#A_part1"
   ]
  },
  {
   "cell_type": "code",
   "execution_count": 146,
   "metadata": {},
   "outputs": [],
   "source": [
    "#np.dot(user1.XT,user1.X), np.dot(user2.XT,user2.X)"
   ]
  },
  {
   "cell_type": "code",
   "execution_count": 147,
   "metadata": {},
   "outputs": [],
   "source": [
    "#np.dot(user1.XT,user2.X)+np.dot(user2.XT,user1.X)"
   ]
  },
  {
   "cell_type": "code",
   "execution_count": null,
   "metadata": {},
   "outputs": [],
   "source": []
  },
  {
   "cell_type": "code",
   "execution_count": null,
   "metadata": {},
   "outputs": [],
   "source": []
  },
  {
   "cell_type": "code",
   "execution_count": null,
   "metadata": {},
   "outputs": [],
   "source": []
  },
  {
   "cell_type": "code",
   "execution_count": null,
   "metadata": {},
   "outputs": [],
   "source": []
  },
  {
   "cell_type": "code",
   "execution_count": null,
   "metadata": {},
   "outputs": [],
   "source": []
  },
  {
   "cell_type": "code",
   "execution_count": null,
   "metadata": {},
   "outputs": [],
   "source": []
  },
  {
   "cell_type": "code",
   "execution_count": null,
   "metadata": {},
   "outputs": [],
   "source": []
  },
  {
   "cell_type": "code",
   "execution_count": null,
   "metadata": {},
   "outputs": [],
   "source": []
  },
  {
   "cell_type": "code",
   "execution_count": null,
   "metadata": {},
   "outputs": [],
   "source": []
  },
  {
   "cell_type": "code",
   "execution_count": null,
   "metadata": {},
   "outputs": [],
   "source": []
  },
  {
   "cell_type": "code",
   "execution_count": null,
   "metadata": {},
   "outputs": [],
   "source": []
  },
  {
   "cell_type": "code",
   "execution_count": null,
   "metadata": {},
   "outputs": [],
   "source": []
  },
  {
   "cell_type": "code",
   "execution_count": null,
   "metadata": {},
   "outputs": [],
   "source": []
  },
  {
   "cell_type": "code",
   "execution_count": null,
   "metadata": {},
   "outputs": [],
   "source": []
  },
  {
   "cell_type": "code",
   "execution_count": null,
   "metadata": {},
   "outputs": [],
   "source": []
  },
  {
   "cell_type": "code",
   "execution_count": null,
   "metadata": {},
   "outputs": [],
   "source": []
  },
  {
   "cell_type": "code",
   "execution_count": 164,
   "metadata": {},
   "outputs": [
    {
     "data": {
      "text/plain": [
       "18446744.07370955"
      ]
     },
     "execution_count": 164,
     "metadata": {},
     "output_type": "execute_result"
    }
   ],
   "source": []
  },
  {
   "cell_type": "code",
   "execution_count": null,
   "metadata": {},
   "outputs": [],
   "source": []
  }
 ],
 "metadata": {
  "kernelspec": {
   "display_name": "Python 3",
   "language": "python",
   "name": "python3"
  },
  "language_info": {
   "codemirror_mode": {
    "name": "ipython",
    "version": 3
   },
   "file_extension": ".py",
   "mimetype": "text/x-python",
   "name": "python",
   "nbconvert_exporter": "python",
   "pygments_lexer": "ipython3",
   "version": "3.6.5"
  }
 },
 "nbformat": 4,
 "nbformat_minor": 2
}
