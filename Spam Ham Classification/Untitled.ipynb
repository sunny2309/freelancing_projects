{
 "cells": [
  {
   "cell_type": "code",
   "execution_count": 28,
   "metadata": {},
   "outputs": [
    {
     "name": "stdout",
     "output_type": "stream",
     "text": [
      "/home/sunny/Downloads/requirements/requirements/datasets-part1/trec07p/full\n"
     ]
    }
   ],
   "source": [
    "%cd Downloads/requirements/requirements/datasets-part1/trec07p/full/"
   ]
  },
  {
   "cell_type": "code",
   "execution_count": 29,
   "metadata": {},
   "outputs": [
    {
     "name": "stdout",
     "output_type": "stream",
     "text": [
      "index\r\n"
     ]
    }
   ],
   "source": [
    "%ls"
   ]
  },
  {
   "cell_type": "code",
   "execution_count": 43,
   "metadata": {},
   "outputs": [],
   "source": [
    "import pandas as pd\n",
    "import numpy as np\n",
    "import random\n",
    "import shutil\n",
    "import os"
   ]
  },
  {
   "cell_type": "code",
   "execution_count": 32,
   "metadata": {},
   "outputs": [],
   "source": [
    "index_data = np.loadtxt('index',dtype=np.str0)"
   ]
  },
  {
   "cell_type": "code",
   "execution_count": 33,
   "metadata": {},
   "outputs": [
    {
     "data": {
      "text/plain": [
       "(50199, 25220, 75419)"
      ]
     },
     "execution_count": 33,
     "metadata": {},
     "output_type": "execute_result"
    }
   ],
   "source": [
    "len(index_data[index_data[:,0] == 'spam']), len(index_data[index_data[:,0] == 'ham']),len(index_data) "
   ]
  },
  {
   "cell_type": "code",
   "execution_count": 40,
   "metadata": {},
   "outputs": [],
   "source": [
    "ham_index = index_data[index_data[:,0] == 'ham']\n",
    "spam_index = index_data[index_data[:,0] == 'spam']\n",
    "np.random.shuffle(ham_index)\n",
    "np.random.shuffle(spam_index)"
   ]
  },
  {
   "cell_type": "code",
   "execution_count": 48,
   "metadata": {},
   "outputs": [],
   "source": [
    "os.makedirs('../train/h')\n",
    "os.makedirs('../train/s')\n",
    "os.makedirs('../test/h')\n",
    "os.makedirs('../test/s')\n",
    "\n",
    "for ham in ham_index[:int(len(ham_index)*0.80)]:\n",
    "    src = ham[1]\n",
    "    dest= ham[1].replace('data','train/h')\n",
    "    #print(dest)\n",
    "    shutil.copyfile(src, dest)\n",
    "\n",
    "for ham in ham_index[int(len(ham_index)*0.80):]:\n",
    "    src = ham[1]\n",
    "    dest= ham[1].replace('data','test/h')\n",
    "    #print(dest)\n",
    "    shutil.copyfile(src, dest)\n",
    "    \n",
    "for spam in spam_index[:int(len(spam_index)*0.80)]:\n",
    "    src = spam[1]\n",
    "    dest= spam[1].replace('data','train/s')\n",
    "    #print(dest)\n",
    "    shutil.copyfile(src, dest)\n",
    "\n",
    "for spam in spam_index[int(len(spam_index)*0.80):]:\n",
    "    src = spam[1]\n",
    "    dest= spam[1].replace('data','test/s')\n",
    "    #print(dest)\n",
    "    shutil.copyfile(src, dest)\n"
   ]
  },
  {
   "cell_type": "code",
   "execution_count": null,
   "metadata": {},
   "outputs": [],
   "source": []
  },
  {
   "cell_type": "code",
   "execution_count": null,
   "metadata": {},
   "outputs": [],
   "source": []
  }
 ],
 "metadata": {
  "kernelspec": {
   "display_name": "Python 3",
   "language": "python",
   "name": "python3"
  },
  "language_info": {
   "codemirror_mode": {
    "name": "ipython",
    "version": 3
   },
   "file_extension": ".py",
   "mimetype": "text/x-python",
   "name": "python",
   "nbconvert_exporter": "python",
   "pygments_lexer": "ipython3",
   "version": "3.7.2"
  }
 },
 "nbformat": 4,
 "nbformat_minor": 2
}
