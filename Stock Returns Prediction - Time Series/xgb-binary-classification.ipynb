{
 "cells": [
  {
   "cell_type": "markdown",
   "metadata": {},
   "source": [
    "# Introduction\n",
    "We have received finance data about stocks opening, closing prices and other 15 features on which prices are dependent. We'll try to fit various models to this data to check whether returns are positive or not. We have tried 2 versions of Dense Net and 2 versions of LSTMs for predicting whether returns are positive or not."
   ]
  },
  {
   "cell_type": "code",
   "execution_count": 1,
   "metadata": {},
   "outputs": [
    {
     "name": "stderr",
     "output_type": "stream",
     "text": [
      "Using TensorFlow backend.\n"
     ]
    }
   ],
   "source": [
    "import pandas as pd\n",
    "import numpy as np\n",
    "import math\n",
    "from collections import Counter\n",
    "import copy\n",
    "\n",
    "import sklearn\n",
    "from sklearn.metrics import classification_report,confusion_matrix, accuracy_score, mean_squared_error, r2_score\n",
    "from sklearn.datasets import fetch_openml\n",
    "from sklearn.model_selection import train_test_split\n",
    "from sklearn.feature_selection import f_classif, f_regression\n",
    "from sklearn.preprocessing import LabelEncoder, MinMaxScaler\n",
    "\n",
    "import xgboost as xgb\n",
    "\n",
    "import keras\n",
    "from keras.models import Sequential\n",
    "from keras.layers import Dense, LSTM, Dropout, BatchNormalization\n",
    "from keras.utils import np_utils\n",
    "from keras.utils import plot_model\n",
    "\n",
    "from PIL import Image\n",
    "import matplotlib.pyplot as plt\n",
    "\n",
    "import warnings\n",
    "warnings.filterwarnings('ignore')\n",
    "\n",
    "pd.set_option('precision', 3)\n",
    "np.set_printoptions(precision=3)\n",
    "\n",
    "%matplotlib inline"
   ]
  },
  {
   "cell_type": "markdown",
   "metadata": {},
   "source": [
    "# Loading & Cleaning Data\n",
    "Loading data involved loading data from CSV file wheareas cleaning data refers to handling of NAs. We also have introduced new columns like returns which is percentage change in closing price and label which is 1 if return is positive else 0."
   ]
  },
  {
   "cell_type": "code",
   "execution_count": 2,
   "metadata": {},
   "outputs": [
    {
     "data": {
      "text/html": [
       "<div>\n",
       "<style scoped>\n",
       "    .dataframe tbody tr th:only-of-type {\n",
       "        vertical-align: middle;\n",
       "    }\n",
       "\n",
       "    .dataframe tbody tr th {\n",
       "        vertical-align: top;\n",
       "    }\n",
       "\n",
       "    .dataframe thead th {\n",
       "        text-align: right;\n",
       "    }\n",
       "</style>\n",
       "<table border=\"1\" class=\"dataframe\">\n",
       "  <thead>\n",
       "    <tr style=\"text-align: right;\">\n",
       "      <th></th>\n",
       "      <th>Open</th>\n",
       "      <th>High</th>\n",
       "      <th>Low</th>\n",
       "      <th>Close</th>\n",
       "      <th>Volume</th>\n",
       "      <th>feature1</th>\n",
       "      <th>feature2</th>\n",
       "      <th>feature3</th>\n",
       "      <th>feature4</th>\n",
       "      <th>feature5</th>\n",
       "      <th>...</th>\n",
       "      <th>feature8</th>\n",
       "      <th>feature9</th>\n",
       "      <th>feature10</th>\n",
       "      <th>feature11</th>\n",
       "      <th>feature12</th>\n",
       "      <th>feature13</th>\n",
       "      <th>feature14</th>\n",
       "      <th>feature15</th>\n",
       "      <th>ret_final</th>\n",
       "      <th>label</th>\n",
       "    </tr>\n",
       "    <tr>\n",
       "      <th>Time</th>\n",
       "      <th></th>\n",
       "      <th></th>\n",
       "      <th></th>\n",
       "      <th></th>\n",
       "      <th></th>\n",
       "      <th></th>\n",
       "      <th></th>\n",
       "      <th></th>\n",
       "      <th></th>\n",
       "      <th></th>\n",
       "      <th></th>\n",
       "      <th></th>\n",
       "      <th></th>\n",
       "      <th></th>\n",
       "      <th></th>\n",
       "      <th></th>\n",
       "      <th></th>\n",
       "      <th></th>\n",
       "      <th></th>\n",
       "      <th></th>\n",
       "      <th></th>\n",
       "    </tr>\n",
       "  </thead>\n",
       "  <tbody>\n",
       "    <tr>\n",
       "      <td>2008-10-15</td>\n",
       "      <td>14.83</td>\n",
       "      <td>15.29</td>\n",
       "      <td>13.98</td>\n",
       "      <td>13.99</td>\n",
       "      <td>387619900</td>\n",
       "      <td>0.0</td>\n",
       "      <td>-0.641</td>\n",
       "      <td>0.0</td>\n",
       "      <td>0.0</td>\n",
       "      <td>0.0</td>\n",
       "      <td>...</td>\n",
       "      <td>0.0</td>\n",
       "      <td>0.0</td>\n",
       "      <td>0.0</td>\n",
       "      <td>0.0</td>\n",
       "      <td>0.0</td>\n",
       "      <td>0.0</td>\n",
       "      <td>0.0</td>\n",
       "      <td>0.0</td>\n",
       "      <td>0.000</td>\n",
       "      <td>0</td>\n",
       "    </tr>\n",
       "    <tr>\n",
       "      <td>2008-10-16</td>\n",
       "      <td>14.25</td>\n",
       "      <td>14.86</td>\n",
       "      <td>13.11</td>\n",
       "      <td>14.56</td>\n",
       "      <td>480128000</td>\n",
       "      <td>0.0</td>\n",
       "      <td>0.177</td>\n",
       "      <td>0.0</td>\n",
       "      <td>0.0</td>\n",
       "      <td>0.0</td>\n",
       "      <td>...</td>\n",
       "      <td>0.0</td>\n",
       "      <td>0.0</td>\n",
       "      <td>0.0</td>\n",
       "      <td>0.0</td>\n",
       "      <td>0.0</td>\n",
       "      <td>0.0</td>\n",
       "      <td>0.0</td>\n",
       "      <td>0.0</td>\n",
       "      <td>0.041</td>\n",
       "      <td>1</td>\n",
       "    </tr>\n",
       "    <tr>\n",
       "      <td>2008-10-17</td>\n",
       "      <td>14.21</td>\n",
       "      <td>14.58</td>\n",
       "      <td>13.86</td>\n",
       "      <td>13.91</td>\n",
       "      <td>433964800</td>\n",
       "      <td>0.0</td>\n",
       "      <td>-0.417</td>\n",
       "      <td>0.0</td>\n",
       "      <td>0.0</td>\n",
       "      <td>0.0</td>\n",
       "      <td>...</td>\n",
       "      <td>0.0</td>\n",
       "      <td>0.0</td>\n",
       "      <td>0.0</td>\n",
       "      <td>0.0</td>\n",
       "      <td>0.0</td>\n",
       "      <td>0.0</td>\n",
       "      <td>0.0</td>\n",
       "      <td>0.0</td>\n",
       "      <td>-0.045</td>\n",
       "      <td>0</td>\n",
       "    </tr>\n",
       "    <tr>\n",
       "      <td>2008-10-20</td>\n",
       "      <td>14.26</td>\n",
       "      <td>14.29</td>\n",
       "      <td>13.38</td>\n",
       "      <td>14.06</td>\n",
       "      <td>383539500</td>\n",
       "      <td>0.0</td>\n",
       "      <td>-0.220</td>\n",
       "      <td>0.0</td>\n",
       "      <td>0.0</td>\n",
       "      <td>0.0</td>\n",
       "      <td>...</td>\n",
       "      <td>0.0</td>\n",
       "      <td>0.0</td>\n",
       "      <td>0.0</td>\n",
       "      <td>0.0</td>\n",
       "      <td>0.0</td>\n",
       "      <td>0.0</td>\n",
       "      <td>0.0</td>\n",
       "      <td>0.0</td>\n",
       "      <td>0.011</td>\n",
       "      <td>1</td>\n",
       "    </tr>\n",
       "    <tr>\n",
       "      <td>2008-10-21</td>\n",
       "      <td>13.86</td>\n",
       "      <td>13.99</td>\n",
       "      <td>13.00</td>\n",
       "      <td>13.07</td>\n",
       "      <td>446705000</td>\n",
       "      <td>0.0</td>\n",
       "      <td>-0.798</td>\n",
       "      <td>0.0</td>\n",
       "      <td>0.0</td>\n",
       "      <td>0.0</td>\n",
       "      <td>...</td>\n",
       "      <td>0.0</td>\n",
       "      <td>0.0</td>\n",
       "      <td>0.0</td>\n",
       "      <td>0.0</td>\n",
       "      <td>0.0</td>\n",
       "      <td>0.0</td>\n",
       "      <td>0.0</td>\n",
       "      <td>0.0</td>\n",
       "      <td>-0.070</td>\n",
       "      <td>0</td>\n",
       "    </tr>\n",
       "  </tbody>\n",
       "</table>\n",
       "<p>5 rows × 22 columns</p>\n",
       "</div>"
      ],
      "text/plain": [
       "             Open   High    Low  Close     Volume  feature1  feature2  \\\n",
       "Time                                                                    \n",
       "2008-10-15  14.83  15.29  13.98  13.99  387619900       0.0    -0.641   \n",
       "2008-10-16  14.25  14.86  13.11  14.56  480128000       0.0     0.177   \n",
       "2008-10-17  14.21  14.58  13.86  13.91  433964800       0.0    -0.417   \n",
       "2008-10-20  14.26  14.29  13.38  14.06  383539500       0.0    -0.220   \n",
       "2008-10-21  13.86  13.99  13.00  13.07  446705000       0.0    -0.798   \n",
       "\n",
       "            feature3  feature4  feature5  ...  feature8  feature9  feature10  \\\n",
       "Time                                      ...                                  \n",
       "2008-10-15       0.0       0.0       0.0  ...       0.0       0.0        0.0   \n",
       "2008-10-16       0.0       0.0       0.0  ...       0.0       0.0        0.0   \n",
       "2008-10-17       0.0       0.0       0.0  ...       0.0       0.0        0.0   \n",
       "2008-10-20       0.0       0.0       0.0  ...       0.0       0.0        0.0   \n",
       "2008-10-21       0.0       0.0       0.0  ...       0.0       0.0        0.0   \n",
       "\n",
       "            feature11  feature12  feature13  feature14  feature15  ret_final  \\\n",
       "Time                                                                           \n",
       "2008-10-15        0.0        0.0        0.0        0.0        0.0      0.000   \n",
       "2008-10-16        0.0        0.0        0.0        0.0        0.0      0.041   \n",
       "2008-10-17        0.0        0.0        0.0        0.0        0.0     -0.045   \n",
       "2008-10-20        0.0        0.0        0.0        0.0        0.0      0.011   \n",
       "2008-10-21        0.0        0.0        0.0        0.0        0.0     -0.070   \n",
       "\n",
       "            label  \n",
       "Time               \n",
       "2008-10-15      0  \n",
       "2008-10-16      1  \n",
       "2008-10-17      0  \n",
       "2008-10-20      1  \n",
       "2008-10-21      0  \n",
       "\n",
       "[5 rows x 22 columns]"
      ]
     },
     "execution_count": 2,
     "metadata": {},
     "output_type": "execute_result"
    }
   ],
   "source": [
    "data=pd.read_csv('/kaggle/input/input_data.csv')\n",
    "data['Time'] = pd.to_datetime(data['Time'].values, format='%m/%d/%Y')\n",
    "data = data.set_index('Time')\n",
    "## Calculate % Change of Closing Price\n",
    "#data['ret_final']=(data['Close'].shift(-1)-data['Close'])/data['Close']\n",
    "data['ret_final'] = data.Close.pct_change()\n",
    "data['label'] = [(1 if j>0 else 0) for j in data.ret_final]\n",
    "data = data.fillna(0)\n",
    "data.head()"
   ]
  },
  {
   "cell_type": "markdown",
   "metadata": {},
   "source": [
    "## P-value For Label, Returns and Close Price\n",
    "Below we have plotted p-value and f-classif/f-regression values. Lower p-values generally indicates that that feature has high relation with target variable. Higher p-values incdicates that feature has less relation with target. You can compare this graph with above one."
   ]
  },
  {
   "cell_type": "code",
   "execution_count": 3,
   "metadata": {},
   "outputs": [
    {
     "data": {
      "image/png": "[encoded data removed]",
      "text/plain": [
       "<Figure size 1296x360 with 2 Axes>"
      ]
     },
     "metadata": {},
     "output_type": "display_data"
    }
   ],
   "source": [
    "X = data[['feature1', 'feature2', 'feature3', 'feature4', 'feature5', 'feature6', 'feature7', 'feature8', 'feature9', 'feature10', 'feature11', 'feature12', 'feature13', 'feature14', 'feature15']]\n",
    "X = MinMaxScaler().fit_transform(X)\n",
    "Y = data['label'].values\n",
    "\n",
    "F_classif, p_value_classif = f_classif(X, Y)\n",
    "\n",
    "with plt.style.context(('seaborn', 'ggplot')):\n",
    "    plt.figure(figsize=(18,5))\n",
    "    plt.subplot(121)\n",
    "    plt.plot(p_value_classif, 'o', c = 'tab:green')\n",
    "    plt.xticks(range(X.shape[1]), ['feature' +str(i) for i in range(1, X.shape[1]+1)], rotation='vertical')\n",
    "    plt.title('P Values Of Classification')\n",
    "    plt.subplot(122)\n",
    "    plt.plot(F_classif, 'o', c = 'tab:red')\n",
    "    plt.xticks(range(X.shape[1]), ['feature' +str(i) for i in range(1, X.shape[1]+1)], rotation='vertical')\n",
    "    plt.title('F Values Of Classification');"
   ]
  },
  {
   "cell_type": "markdown",
   "metadata": {},
   "source": [
    "# Dividing Data Into Train/Test Sets\n",
    "We have selected 15 features are our main features for prediction and label column as predicting column. We'll divide dataset into `90%` for training and `10%` for test."
   ]
  },
  {
   "cell_type": "code",
   "execution_count": 4,
   "metadata": {},
   "outputs": [
    {
     "name": "stdout",
     "output_type": "stream",
     "text": [
      "Train/Test Sizes :  (2480, 15) (276, 15) (2480,) (276,)\n",
      "Actual Return Sizes :  (276,)\n"
     ]
    }
   ],
   "source": [
    "X = data[['feature1', 'feature2', 'feature3', 'feature4', 'feature5', 'feature6', 'feature7', 'feature8', 'feature9', 'feature10', 'feature11', 'feature12', 'feature13', 'feature14', 'feature15']]\n",
    "X = MinMaxScaler().fit_transform(X)\n",
    "Y = data['label'].values\n",
    "ret_vals = data['ret_final'].values\n",
    "\n",
    "X_train, X_test, Y_train, Y_test = train_test_split(X, Y, train_size=0.9, test_size=0.1, shuffle=False)\n",
    "\n",
    "actual_rets_test = ret_vals[X_train.shape[0]:]\n",
    "\n",
    "print('Train/Test Sizes : ', X_train.shape, X_test.shape, Y_train.shape, Y_test.shape)\n",
    "print('Actual Return Sizes : ', actual_rets_test.shape)"
   ]
  },
  {
   "cell_type": "markdown",
   "metadata": {},
   "source": [
    "### Visualisation Generic Functions\n",
    "Below we have designed 2 function which will help up print various results.\n",
    "\n",
    "1. `plot_confusion_matrix` - Plots confusion matrix given actual values and predictions\n",
    "2. `plot_loss_and_accuracy` - Plots train/val loss and train/val accuracy for classification task and train/val MSE for regression task."
   ]
  },
  {
   "cell_type": "code",
   "execution_count": 5,
   "metadata": {},
   "outputs": [],
   "source": [
    "def plot_confusion_matrix(actuals, preds):\n",
    "    conf_mat = confusion_matrix(Y_test, preds)\n",
    "    with plt.style.context(('seaborn', 'ggplot')):\n",
    "        fig = plt.figure(figsize=(10,10))\n",
    "        plt.matshow(conf_mat, cmap=plt.cm.Blues, fignum=1)\n",
    "        plt.xticks(range(2), range(2), rotation='vertical')\n",
    "        plt.yticks(range(2), range(2))\n",
    "        plt.grid(None)\n",
    "        plt.ylabel('Actual')\n",
    "        plt.xlabel('Prediction')\n",
    "        plt.colorbar();\n",
    "        for i in range(conf_mat.shape[0]):\n",
    "            for j in range(conf_mat.shape[1]):\n",
    "                plt.text(j, i, str(conf_mat[i, j]), horizontalalignment='center', verticalalignment='center', fontsize=12, color='red')\n",
    "                \n",
    "def plot_loss_and_accuracy(hist, prob_type='classification'):\n",
    "    with plt.style.context(('seaborn', 'ggplot')):\n",
    "        plt.figure(figsize=(15,5))\n",
    "        plt.subplot(121)\n",
    "        plt.plot(hist.history['loss'], label='Train Loss')\n",
    "        plt.plot(hist.history['val_loss'], label='Val Loss')\n",
    "        plt.xlabel('Epochs')\n",
    "        plt.ylabel('Loss')\n",
    "        plt.legend(loc='best')\n",
    "        \n",
    "        if prob_type=='classification':\n",
    "            plt.subplot(122)\n",
    "            plt.plot(hist.history['accuracy'], label='Train Accuracy')\n",
    "            plt.plot(hist.history['val_accuracy'], label='Val Accuracy')\n",
    "            plt.xlabel('Epochs')\n",
    "            plt.ylabel('Accuracy')\n",
    "            plt.legend(loc='best')\n",
    "        elif prob_type=='regression':\n",
    "            plt.subplot(122)\n",
    "            plt.plot(hist.history['mse'], label='Train MSE')\n",
    "            plt.plot(hist.history['val_mse'], label='Val MSE')\n",
    "            plt.xlabel('Epochs')\n",
    "            plt.ylabel('MSE')\n",
    "            plt.legend(loc='best')"
   ]
  },
  {
   "cell_type": "markdown",
   "metadata": {},
   "source": [
    "# XGB Booster"
   ]
  },
  {
   "cell_type": "markdown",
   "metadata": {},
   "source": [
    "## Fitting Model"
   ]
  },
  {
   "cell_type": "code",
   "execution_count": 6,
   "metadata": {},
   "outputs": [],
   "source": [
    "dtotal = xgb.DMatrix(data=X, label=Y)\n",
    "dtrain = xgb.DMatrix(data=X_train, label=Y_train)\n",
    "dtest = xgb.DMatrix(data=X_test, label=Y_test)\n",
    "\n",
    "params = {\n",
    "    'n_estimators':200,\n",
    "    'verbosity':1,\n",
    "    'max_depth': 10,\n",
    "    'eta': 0.3,\n",
    "    'objective': 'multi:softprob',  # error evaluation for multiclass training\n",
    "    'num_class': len(set(Y)),\n",
    "}\n",
    "num_round = 20 \n",
    "bst = xgb.train(params, dtrain, num_round)"
   ]
  },
  {
   "cell_type": "markdown",
   "metadata": {},
   "source": [
    "## Performance Evaluation on Test Data"
   ]
  },
  {
   "cell_type": "code",
   "execution_count": 7,
   "metadata": {},
   "outputs": [
    {
     "name": "stdout",
     "output_type": "stream",
     "text": [
      "Accuracy : 0.844\n"
     ]
    }
   ],
   "source": [
    "predictions = bst.predict(dtest)\n",
    "predictions = np.asarray([np.argmax(line) for line in predictions])\n",
    "print('Accuracy : %.3f'%accuracy_score(Y_test, predictions))"
   ]
  },
  {
   "cell_type": "code",
   "execution_count": 8,
   "metadata": {},
   "outputs": [
    {
     "name": "stdout",
     "output_type": "stream",
     "text": [
      "Accuracy : 0.984\n"
     ]
    }
   ],
   "source": [
    "predictions_full = bst.predict(dtotal)\n",
    "predictions_full = np.asarray([np.argmax(line) for line in predictions_full])\n",
    "print('Accuracy : %.3f'%accuracy_score(Y, predictions_full))"
   ]
  },
  {
   "cell_type": "code",
   "execution_count": 9,
   "metadata": {},
   "outputs": [],
   "source": [
    "probs = bst.predict(dtotal)\n",
    "#print(softmax_vals[:,i].shape)\n",
    "df1 = copy.deepcopy(data)\n",
    "df1['Preds'] = predictions_full\n",
    "for col in ['0','1']:\n",
    "    df1[col + '_probs'] = probs[:,int(col)]"
   ]
  },
  {
   "cell_type": "markdown",
   "metadata": {},
   "source": [
    "## Printing/Plotting Classification Metrics"
   ]
  },
  {
   "cell_type": "code",
   "execution_count": 10,
   "metadata": {},
   "outputs": [
    {
     "name": "stdout",
     "output_type": "stream",
     "text": [
      "Classification Report : \n",
      "               precision    recall  f1-score   support\n",
      "\n",
      "           0       0.82      0.85      0.83       127\n",
      "           1       0.87      0.84      0.85       149\n",
      "\n",
      "    accuracy                           0.84       276\n",
      "   macro avg       0.84      0.84      0.84       276\n",
      "weighted avg       0.85      0.84      0.84       276\n",
      "\n",
      "Confusion Matrix : \n",
      " [[108  19]\n",
      " [ 24 125]]\n"
     ]
    },
    {
     "data": {
      "image/png": "[encoded data removed]",
      "text/plain": [
       "<Figure size 720x720 with 2 Axes>"
      ]
     },
     "metadata": {},
     "output_type": "display_data"
    }
   ],
   "source": [
    "results = []\n",
    "def print_plot_metrics(model_name, actual_rets_test, Y_test, predictions):\n",
    "    print('Classification Report : \\n',classification_report(Y_test, predictions))\n",
    "    print('Confusion Matrix : \\n', confusion_matrix(Y_test, predictions))\n",
    "    plot_confusion_matrix(Y_test, predictions)\n",
    "\n",
    "print_plot_metrics('XGBClassifier', actual_rets_test, Y_test, predictions)"
   ]
  },
  {
   "cell_type": "markdown",
   "metadata": {},
   "source": [
    "# XGB Classifier"
   ]
  },
  {
   "cell_type": "code",
   "execution_count": 11,
   "metadata": {},
   "outputs": [],
   "source": [
    "xgb_classif = xgb.XGBRFClassifier(n_estimators=500, max_depth=5, objective='binary:logistic', verbosity=1)"
   ]
  },
  {
   "cell_type": "markdown",
   "metadata": {},
   "source": [
    "## Fitting Model"
   ]
  },
  {
   "cell_type": "code",
   "execution_count": 12,
   "metadata": {},
   "outputs": [
    {
     "data": {
      "text/plain": [
       "XGBRFClassifier(base_score=0.5, colsample_bylevel=1, colsample_bynode=0.8,\n",
       "                colsample_bytree=1, gamma=0, learning_rate=1, max_delta_step=0,\n",
       "                max_depth=5, min_child_weight=1, missing=None, n_estimators=500,\n",
       "                n_jobs=1, nthread=None, objective='binary:logistic',\n",
       "                random_state=0, reg_alpha=0, reg_lambda=1, scale_pos_weight=1,\n",
       "                seed=None, silent=None, subsample=0.8, verbosity=1)"
      ]
     },
     "execution_count": 12,
     "metadata": {},
     "output_type": "execute_result"
    }
   ],
   "source": [
    "xgb_classif.fit(X_train, Y_train)"
   ]
  },
  {
   "cell_type": "markdown",
   "metadata": {},
   "source": [
    "## Performance Evaluation on Test Data"
   ]
  },
  {
   "cell_type": "code",
   "execution_count": 13,
   "metadata": {},
   "outputs": [
    {
     "name": "stdout",
     "output_type": "stream",
     "text": [
      "Accuracy : 0.826\n"
     ]
    }
   ],
   "source": [
    "predictions = xgb_classif.predict(X_test)\n",
    "print('Accuracy : %.3f'%accuracy_score(Y_test, predictions))"
   ]
  },
  {
   "cell_type": "code",
   "execution_count": 14,
   "metadata": {},
   "outputs": [
    {
     "name": "stdout",
     "output_type": "stream",
     "text": [
      "Accuracy : 0.863\n"
     ]
    }
   ],
   "source": [
    "predictions_full = xgb_classif.predict(X)\n",
    "print('Accuracy : %.3f'%accuracy_score(Y, predictions_full))"
   ]
  },
  {
   "cell_type": "code",
   "execution_count": 15,
   "metadata": {},
   "outputs": [],
   "source": [
    "probs = xgb_classif.predict_proba(X)\n",
    "#print(softmax_vals[:,i].shape)\n",
    "df2 = copy.deepcopy(data)\n",
    "df2['Preds'] = predictions_full\n",
    "for col in ['0','1']:\n",
    "    df2[col + '_probs'] = probs[:,int(col)]"
   ]
  },
  {
   "cell_type": "markdown",
   "metadata": {},
   "source": [
    "## Printing/Plotting Classification Metrics"
   ]
  },
  {
   "cell_type": "code",
   "execution_count": 16,
   "metadata": {},
   "outputs": [
    {
     "name": "stdout",
     "output_type": "stream",
     "text": [
      "Classification Report : \n",
      "               precision    recall  f1-score   support\n",
      "\n",
      "           0       0.81      0.82      0.81       127\n",
      "           1       0.84      0.83      0.84       149\n",
      "\n",
      "    accuracy                           0.83       276\n",
      "   macro avg       0.82      0.83      0.83       276\n",
      "weighted avg       0.83      0.83      0.83       276\n",
      "\n",
      "Confusion Matrix : \n",
      " [[104  23]\n",
      " [ 25 124]]\n"
     ]
    },
    {
     "data": {
      "image/png": "[encoded data removed]",
      "text/plain": [
       "<Figure size 720x720 with 2 Axes>"
      ]
     },
     "metadata": {},
     "output_type": "display_data"
    }
   ],
   "source": [
    "print_plot_metrics('XGB', actual_rets_test, Y_test, predictions)"
   ]
  },
  {
   "cell_type": "markdown",
   "metadata": {},
   "source": [
    "# XGB RF Classifier"
   ]
  },
  {
   "cell_type": "code",
   "execution_count": 17,
   "metadata": {},
   "outputs": [],
   "source": [
    "xgb_rfclassif = xgb.XGBRFClassifier(n_estimators=250, max_depth=15, objective='binary:logistic', verbosity=1)"
   ]
  },
  {
   "cell_type": "markdown",
   "metadata": {},
   "source": [
    "## Fitting Model"
   ]
  },
  {
   "cell_type": "code",
   "execution_count": 18,
   "metadata": {},
   "outputs": [
    {
     "data": {
      "text/plain": [
       "XGBRFClassifier(base_score=0.5, colsample_bylevel=1, colsample_bynode=0.8,\n",
       "                colsample_bytree=1, gamma=0, learning_rate=1, max_delta_step=0,\n",
       "                max_depth=15, min_child_weight=1, missing=None,\n",
       "                n_estimators=250, n_jobs=1, nthread=None,\n",
       "                objective='binary:logistic', random_state=0, reg_alpha=0,\n",
       "                reg_lambda=1, scale_pos_weight=1, seed=None, silent=None,\n",
       "                subsample=0.8, verbosity=1)"
      ]
     },
     "execution_count": 18,
     "metadata": {},
     "output_type": "execute_result"
    }
   ],
   "source": [
    "xgb_rfclassif.fit(X_train, Y_train)"
   ]
  },
  {
   "cell_type": "markdown",
   "metadata": {},
   "source": [
    "## Performance Evaluation on Test Data"
   ]
  },
  {
   "cell_type": "code",
   "execution_count": 19,
   "metadata": {},
   "outputs": [
    {
     "name": "stdout",
     "output_type": "stream",
     "text": [
      "Accuracy : 0.819\n"
     ]
    }
   ],
   "source": [
    "predictions = xgb_rfclassif.predict(X_test)\n",
    "print('Accuracy : %.3f'%accuracy_score(Y_test, predictions))"
   ]
  },
  {
   "cell_type": "code",
   "execution_count": 20,
   "metadata": {},
   "outputs": [
    {
     "name": "stdout",
     "output_type": "stream",
     "text": [
      "Accuracy : 0.930\n"
     ]
    }
   ],
   "source": [
    "predictions_full = xgb_rfclassif.predict(X)\n",
    "print('Accuracy : %.3f'%accuracy_score(Y, predictions_full))"
   ]
  },
  {
   "cell_type": "code",
   "execution_count": 21,
   "metadata": {},
   "outputs": [],
   "source": [
    "probs = xgb_rfclassif.predict_proba(X)\n",
    "#print(softmax_vals[:,i].shape)\n",
    "df3 = copy.deepcopy(data)\n",
    "df3['Preds'] = predictions_full\n",
    "for col in ['0','1']:\n",
    "    df3[col + '_probs'] = probs[:,int(col)]"
   ]
  },
  {
   "cell_type": "markdown",
   "metadata": {},
   "source": [
    "## Printing/Plotting Classification Metrics"
   ]
  },
  {
   "cell_type": "code",
   "execution_count": 22,
   "metadata": {},
   "outputs": [
    {
     "name": "stdout",
     "output_type": "stream",
     "text": [
      "Classification Report : \n",
      "               precision    recall  f1-score   support\n",
      "\n",
      "           0       0.79      0.83      0.81       127\n",
      "           1       0.85      0.81      0.83       149\n",
      "\n",
      "    accuracy                           0.82       276\n",
      "   macro avg       0.82      0.82      0.82       276\n",
      "weighted avg       0.82      0.82      0.82       276\n",
      "\n",
      "Confusion Matrix : \n",
      " [[106  21]\n",
      " [ 29 120]]\n"
     ]
    },
    {
     "data": {
      "image/png": "[encoded data removed]",
      "text/plain": [
       "<Figure size 720x720 with 2 Axes>"
      ]
     },
     "metadata": {},
     "output_type": "display_data"
    }
   ],
   "source": [
    "print_plot_metrics('XGBRFClassifier', actual_rets_test, Y_test, predictions)"
   ]
  },
  {
   "cell_type": "code",
   "execution_count": 23,
   "metadata": {},
   "outputs": [],
   "source": [
    "with pd.ExcelWriter('Final_Output.xlsx') as writer:\n",
    "    for sheet_name, df in [('XGB',df1), ('XGBClassifier',df2), ('XGBRFClassifier',df3)]:\n",
    "        df.to_excel(writer, sheet_name= sheet_name)"
   ]
  },
  {
   "cell_type": "code",
   "execution_count": 24,
   "metadata": {},
   "outputs": [
    {
     "data": {
      "text/html": [
       "<a href='Final_Output.xlsx' target='_blank'>Final_Output.xlsx</a><br>"
      ],
      "text/plain": [
       "/kaggle/working/Final_Output.xlsx"
      ]
     },
     "execution_count": 24,
     "metadata": {},
     "output_type": "execute_result"
    }
   ],
   "source": [
    "from IPython.display import FileLink\n",
    "FileLink('Final_Output.xlsx')"
   ]
  },
  {
   "cell_type": "code",
   "execution_count": null,
   "metadata": {},
   "outputs": [],
   "source": []
  }
 ],
 "metadata": {
  "kernelspec": {
   "display_name": "Python 3",
   "language": "python",
   "name": "python3"
  },
  "language_info": {
   "codemirror_mode": {
    "name": "ipython",
    "version": 3
   },
   "file_extension": ".py",
   "mimetype": "text/x-python",
   "name": "python",
   "nbconvert_exporter": "python",
   "pygments_lexer": "ipython3",
   "version": "3.6.6"
  }
 },
 "nbformat": 4,
 "nbformat_minor": 1
}
