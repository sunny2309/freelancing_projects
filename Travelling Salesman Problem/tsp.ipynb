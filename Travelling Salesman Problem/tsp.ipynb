{
 "cells": [
  {
   "cell_type": "code",
   "execution_count": 1,
   "metadata": {},
   "outputs": [],
   "source": [
    "import pandas as pd\n",
    "import numpy as np\n",
    "import matplotlib.pyplot as plt\n",
    "from math import sin, cos, sqrt, atan2, radians\n",
    "\n",
    "from ortools.constraint_solver import routing_enums_pb2\n",
    "from ortools.constraint_solver import pywrapcp"
   ]
  },
  {
   "cell_type": "markdown",
   "metadata": {},
   "source": [
    "### Loading File"
   ]
  },
  {
   "cell_type": "code",
   "execution_count": 16,
   "metadata": {},
   "outputs": [
    {
     "data": {
      "text/html": [
       "<div>\n",
       "<style scoped>\n",
       "    .dataframe tbody tr th:only-of-type {\n",
       "        vertical-align: middle;\n",
       "    }\n",
       "\n",
       "    .dataframe tbody tr th {\n",
       "        vertical-align: top;\n",
       "    }\n",
       "\n",
       "    .dataframe thead th {\n",
       "        text-align: right;\n",
       "    }\n",
       "</style>\n",
       "<table border=\"1\" class=\"dataframe\">\n",
       "  <thead>\n",
       "    <tr style=\"text-align: right;\">\n",
       "      <th></th>\n",
       "      <th>Loc</th>\n",
       "      <th>Lat</th>\n",
       "      <th>Lon</th>\n",
       "    </tr>\n",
       "  </thead>\n",
       "  <tbody>\n",
       "    <tr>\n",
       "      <th>0</th>\n",
       "      <td>1</td>\n",
       "      <td>24748.3333</td>\n",
       "      <td>50840.0000</td>\n",
       "    </tr>\n",
       "    <tr>\n",
       "      <th>1</th>\n",
       "      <td>2</td>\n",
       "      <td>24758.8889</td>\n",
       "      <td>51211.9444</td>\n",
       "    </tr>\n",
       "    <tr>\n",
       "      <th>2</th>\n",
       "      <td>3</td>\n",
       "      <td>24827.2222</td>\n",
       "      <td>51394.7222</td>\n",
       "    </tr>\n",
       "    <tr>\n",
       "      <th>3</th>\n",
       "      <td>4</td>\n",
       "      <td>24904.4444</td>\n",
       "      <td>51175.0000</td>\n",
       "    </tr>\n",
       "    <tr>\n",
       "      <th>4</th>\n",
       "      <td>5</td>\n",
       "      <td>24996.1111</td>\n",
       "      <td>51548.8889</td>\n",
       "    </tr>\n",
       "  </tbody>\n",
       "</table>\n",
       "</div>"
      ],
      "text/plain": [
       "   Loc         Lat         Lon\n",
       "0    1  24748.3333  50840.0000\n",
       "1    2  24758.8889  51211.9444\n",
       "2    3  24827.2222  51394.7222\n",
       "3    4  24904.4444  51175.0000\n",
       "4    5  24996.1111  51548.8889"
      ]
     },
     "execution_count": 16,
     "metadata": {},
     "output_type": "execute_result"
    }
   ],
   "source": [
    "df = pd.read_csv('HW3_qatar_tsp.txt',skiprows=7, skipfooter=1, sep='\\s',engine='python', names = ['Loc','Lat','Lon'])\n",
    "df.head()"
   ]
  },
  {
   "cell_type": "code",
   "execution_count": 17,
   "metadata": {},
   "outputs": [
    {
     "data": {
      "text/html": [
       "<div>\n",
       "<style scoped>\n",
       "    .dataframe tbody tr th:only-of-type {\n",
       "        vertical-align: middle;\n",
       "    }\n",
       "\n",
       "    .dataframe tbody tr th {\n",
       "        vertical-align: top;\n",
       "    }\n",
       "\n",
       "    .dataframe thead th {\n",
       "        text-align: right;\n",
       "    }\n",
       "</style>\n",
       "<table border=\"1\" class=\"dataframe\">\n",
       "  <thead>\n",
       "    <tr style=\"text-align: right;\">\n",
       "      <th></th>\n",
       "      <th>Loc</th>\n",
       "      <th>Lat</th>\n",
       "      <th>Lon</th>\n",
       "    </tr>\n",
       "  </thead>\n",
       "  <tbody>\n",
       "    <tr>\n",
       "      <th>0</th>\n",
       "      <td>1</td>\n",
       "      <td>24.748333</td>\n",
       "      <td>50.840000</td>\n",
       "    </tr>\n",
       "    <tr>\n",
       "      <th>1</th>\n",
       "      <td>2</td>\n",
       "      <td>24.758889</td>\n",
       "      <td>51.211944</td>\n",
       "    </tr>\n",
       "    <tr>\n",
       "      <th>2</th>\n",
       "      <td>3</td>\n",
       "      <td>24.827222</td>\n",
       "      <td>51.394722</td>\n",
       "    </tr>\n",
       "    <tr>\n",
       "      <th>3</th>\n",
       "      <td>4</td>\n",
       "      <td>24.904444</td>\n",
       "      <td>51.175000</td>\n",
       "    </tr>\n",
       "    <tr>\n",
       "      <th>4</th>\n",
       "      <td>5</td>\n",
       "      <td>24.996111</td>\n",
       "      <td>51.548889</td>\n",
       "    </tr>\n",
       "  </tbody>\n",
       "</table>\n",
       "</div>"
      ],
      "text/plain": [
       "   Loc        Lat        Lon\n",
       "0    1  24.748333  50.840000\n",
       "1    2  24.758889  51.211944\n",
       "2    3  24.827222  51.394722\n",
       "3    4  24.904444  51.175000\n",
       "4    5  24.996111  51.548889"
      ]
     },
     "execution_count": 17,
     "metadata": {},
     "output_type": "execute_result"
    }
   ],
   "source": [
    "df['Lat'] = df['Lat']/1000.0\n",
    "df['Lon'] = df['Lon']/1000.0\n",
    "df.head()"
   ]
  },
  {
   "cell_type": "markdown",
   "metadata": {},
   "source": [
    "## 2b\n",
    "### Function to find out distance between two points based on latitude and longitude"
   ]
  },
  {
   "cell_type": "code",
   "execution_count": 18,
   "metadata": {},
   "outputs": [
    {
     "name": "stdout",
     "output_type": "stream",
     "text": [
      "Result: 278.54558935106695\n",
      "Should be: 278.546 km\n"
     ]
    }
   ],
   "source": [
    "R = 6373.0 # approximate radius of earth in km\n",
    "\n",
    "def get_distance(la1,lo1,la2,lo2):\n",
    "    lat1 = radians(la1)\n",
    "    lon1 = radians(lo1)\n",
    "    lat2 = radians(la2)\n",
    "    lon2 = radians(lo2)\n",
    "\n",
    "    dlon = lon2 - lon1\n",
    "    dlat = lat2 - lat1\n",
    "\n",
    "    a = sin(dlat / 2)**2 + cos(lat1) * cos(lat2) * sin(dlon / 2)**2\n",
    "    c = 2 * atan2(sqrt(a), sqrt(1 - a))\n",
    "\n",
    "    distance = R * c\n",
    "    return distance\n",
    "\n",
    "print(\"Result:\", get_distance(52.2296756, 21.0122287, 52.406374, 16.9251681))\n",
    "print(\"Should be:\", 278.546, \"km\")"
   ]
  },
  {
   "cell_type": "markdown",
   "metadata": {},
   "source": [
    "### Creating distance matrix\n",
    "Distance matrix keeps distance between eah point in dataset."
   ]
  },
  {
   "cell_type": "code",
   "execution_count": 19,
   "metadata": {},
   "outputs": [],
   "source": [
    "dist_matrix = []\n",
    "for i in df['Loc'].values:\n",
    "    arr1 = []\n",
    "    la1,lo1 = df.iloc[i-1]['Lat'],df.iloc[i-1]['Lon']\n",
    "    for j in df['Loc'].values:\n",
    "        la2,lo2 = df.iloc[j-1]['Lat'],df.iloc[j-1]['Lon']\n",
    "        distance = get_distance(la1,lo1,la2,lo2)\n",
    "        arr1.append(distance)\n",
    "    dist_matrix.append(arr1)"
   ]
  },
  {
   "cell_type": "markdown",
   "metadata": {},
   "source": [
    "### Actual Logic which uses OR Tools to find out best path and prints it.\n",
    "Code is inspired from OR Tools documentation."
   ]
  },
  {
   "cell_type": "code",
   "execution_count": 20,
   "metadata": {},
   "outputs": [
    {
     "name": "stdout",
     "output_type": "stream",
     "text": [
      "Objective: 953 kms\n",
      "Route for vehicle 0:\n",
      " 0 -> 5 -> 7 -> 15 -> 12 -> 22 -> 24 -> 70 -> 81 -> 61 -> 58 -> 35 -> 62 -> 19 -> 64 -> 84 -> 85 -> 97 -> 89 -> 88 -> 93 -> 98 -> 100 -> 103 -> 110 -> 129 -> 133 -> 131 -> 126 -> 124 -> 125 -> 113 -> 112 -> 108 -> 101 -> 86 -> 79 -> 75 -> 77 -> 74 -> 71 -> 73 -> 68 -> 59 -> 32 -> 44 -> 56 -> 63 -> 69 -> 76 -> 78 -> 80 -> 82 -> 87 -> 91 -> 96 -> 94 -> 95 -> 92 -> 90 -> 102 -> 105 -> 104 -> 107 -> 106 -> 117 -> 121 -> 118 -> 136 -> 139 -> 144 -> 155 -> 160 -> 162 -> 168 -> 175 -> 181 -> 193 -> 189 -> 191 -> 190 -> 188 -> 187 -> 192 -> 184 -> 170 -> 165 -> 159 -> 161 -> 157 -> 158 -> 164 -> 167 -> 166 -> 169 -> 179 -> 177 -> 176 -> 180 -> 183 -> 186 -> 185 -> 182 -> 174 -> 172 -> 173 -> 178 -> 171 -> 163 -> 148 -> 145 -> 141 -> 137 -> 138 -> 143 -> 149 -> 153 -> 156 -> 152 -> 151 -> 140 -> 146 -> 150 -> 154 -> 147 -> 142 -> 135 -> 130 -> 128 -> 134 -> 132 -> 127 -> 123 -> 122 -> 119 -> 120 -> 116 -> 115 -> 114 -> 111 -> 109 -> 99 -> 83 -> 67 -> 65 -> 72 -> 66 -> 60 -> 47 -> 51 -> 45 -> 42 -> 40 -> 37 -> 39 -> 33 -> 34 -> 30 -> 31 -> 29 -> 41 -> 43 -> 48 -> 49 -> 54 -> 53 -> 52 -> 55 -> 57 -> 46 -> 50 -> 38 -> 36 -> 26 -> 21 -> 28 -> 27 -> 17 -> 20 -> 23 -> 25 -> 16 -> 13 -> 10 -> 6 -> 8 -> 9 -> 11 -> 18 -> 14 -> 4 -> 2 -> 1 -> 3 -> 0\n",
      "\n"
     ]
    }
   ],
   "source": [
    "def create_data_model():\n",
    "    \"\"\"Stores the data for the problem.\"\"\"\n",
    "    data = {}\n",
    "    data['distance_matrix'] = dist_matrix # yapf: disable\n",
    "    data['num_vehicles'] = 1\n",
    "    data['depot'] = 0\n",
    "    return data\n",
    "\n",
    "\n",
    "def print_solution(manager, routing, assignment):\n",
    "    \"\"\"Prints assignment on console.\"\"\"\n",
    "    print('Objective: {} kms'.format(assignment.ObjectiveValue()))\n",
    "    index = routing.Start(0)\n",
    "    plan_output = 'Route for vehicle 0:\\n'\n",
    "    route_distance = 0\n",
    "    while not routing.IsEnd(index):\n",
    "        plan_output += ' {} ->'.format(manager.IndexToNode(index))\n",
    "        previous_index = index\n",
    "        index = assignment.Value(routing.NextVar(index))\n",
    "        route_distance += routing.GetArcCostForVehicle(previous_index, index, 0)\n",
    "    plan_output += ' {}\\n'.format(manager.IndexToNode(index))\n",
    "    print(plan_output)\n",
    "    plan_output += 'Route distance: {}kms\\n'.format(route_distance)\n",
    "\n",
    "\n",
    "def main():\n",
    "    \"\"\"Entry point of the program.\"\"\"\n",
    "    # Instantiate the data problem.\n",
    "    data = create_data_model()\n",
    "\n",
    "    # Create the routing index manager.\n",
    "    manager = pywrapcp.RoutingIndexManager(\n",
    "        len(data['distance_matrix']), data['num_vehicles'], data['depot'])\n",
    "\n",
    "    # Create Routing Model.\n",
    "    routing = pywrapcp.RoutingModel(manager)\n",
    "\n",
    "\n",
    "    def distance_callback(from_index, to_index):\n",
    "        \"\"\"Returns the distance between the two nodes.\"\"\"\n",
    "        # Convert from routing variable Index to distance matrix NodeIndex.\n",
    "        from_node = manager.IndexToNode(from_index)\n",
    "        to_node = manager.IndexToNode(to_index)\n",
    "        return data['distance_matrix'][from_node][to_node]\n",
    "\n",
    "    transit_callback_index = routing.RegisterTransitCallback(distance_callback)\n",
    "\n",
    "    # Define cost of each arc.\n",
    "    routing.SetArcCostEvaluatorOfAllVehicles(transit_callback_index)\n",
    "\n",
    "    # Setting first solution heuristic.\n",
    "    search_parameters = pywrapcp.DefaultRoutingSearchParameters()\n",
    "    search_parameters.first_solution_strategy = (\n",
    "        routing_enums_pb2.FirstSolutionStrategy.PATH_CHEAPEST_ARC)\n",
    "\n",
    "    # Solve the problem.\n",
    "    assignment = routing.SolveWithParameters(search_parameters)\n",
    "\n",
    "    # Print solution on console.\n",
    "    if assignment:\n",
    "        print_solution(manager, routing, assignment)\n",
    "    return assignment\n",
    "\n",
    "if __name__ == '__main__':\n",
    "    assignment=main()"
   ]
  },
  {
   "cell_type": "markdown",
   "metadata": {},
   "source": [
    "## 2d\n",
    "### Storing path generated above in array and using it for plotting\n",
    "Please make a note og distance found is 953 kms"
   ]
  },
  {
   "cell_type": "code",
   "execution_count": 21,
   "metadata": {},
   "outputs": [],
   "source": [
    "points = np.array([ 0 , 5 , 7 , 15 , 12 , 22 , 24 , 70 , 81 , 61 , 58 , 35 , 62 , 19 , 64 , 84 , 85 , 97 , 89 , 88 ,\n",
    "                   93 , 98 , 100 , 103 , 110 , 129 , 133 , 131 , 126 , 124 , 125 , 113 , 112 , 108 , 101 , 86 , 79 ,\n",
    "                   75 , 77 , 74 , 71 , 73 , 68 , 59 , 32 , 44 , 56 , 63 , 69 , 76 , 78 , 80 , 82 , 87 , 91 , 96 ,\n",
    "                   94 , 95 , 92 , 90 , 102 , 105 , 104 , 107 , 106 , 117 , 121 , 118 , 136 , 139 , 144 , 155 , 160 ,\n",
    "                   162 , 168 , 175 , 181 , 193 , 189 , 191 , 190 , 188 , 187 , 192 , 184 , 170 , 165 , 159 , 161 ,\n",
    "                   157 , 158 , 164 , 167 , 166 , 169 , 179 , 177 , 176 , 180 , 183 , 186 , 185 , 182 , 174 , 172 ,\n",
    "                   173 , 178 , 171 , 163 , 148 , 145 , 141 , 137 , 138 , 143 , 149 , 153 , 156 , 152 , 151 , 140 , 146 ,\n",
    "                   150 , 154 , 147 , 142 , 135 , 130 , 128 , 134 , 132 , 127 , 123 , 122 , 119 , 120 , 116 , 115 ,\n",
    "                   114 , 111 , 109 , 99 , 83 , 67 , 65 , 72 , 66 , 60 , 47 , 51 , 45 , 42 , 40 , 37 , 39 , 33 , 34 ,\n",
    "                   30 , 31 , 29 , 41 , 43 , 48 , 49 , 54 , 53 , 52 , 55 , 57 , 46 , 50 , 38 , 36 , 26 , 21 ,\n",
    "                   28 , 27 , 17 , 20 , 23 , 25 , 16 , 13 , 10 , 6 , 8 , 9 , 11 , 18 , 14 , 4 , 2 , 1 , 3 , 0])\n",
    "#points = points + 1"
   ]
  },
  {
   "cell_type": "code",
   "execution_count": 22,
   "metadata": {},
   "outputs": [],
   "source": [
    "lon_lat = df[['Lat','Lon']].values[points]"
   ]
  },
  {
   "cell_type": "code",
   "execution_count": 29,
   "metadata": {},
   "outputs": [
    {
     "data": {
      "text/plain": [
       "([], <a list of 0 Text yticklabel objects>)"
      ]
     },
     "execution_count": 29,
     "metadata": {},
     "output_type": "execute_result"
    },
    {
     "data": {
      "image/png": "[encoded data removed]",
      "text/plain": [
       "<Figure size 432x720 with 1 Axes>"
      ]
     },
     "metadata": {},
     "output_type": "display_data"
    }
   ],
   "source": [
    "plt.figure(figsize = (6,10))\n",
    "plt.plot(lon_lat.T[1],lon_lat.T[0], c='red');\n",
    "plt.xticks([])\n",
    "plt.yticks([])"
   ]
  },
  {
   "cell_type": "code",
   "execution_count": null,
   "metadata": {},
   "outputs": [],
   "source": []
  },
  {
   "cell_type": "code",
   "execution_count": null,
   "metadata": {},
   "outputs": [],
   "source": []
  },
  {
   "cell_type": "code",
   "execution_count": null,
   "metadata": {},
   "outputs": [],
   "source": []
  },
  {
   "cell_type": "code",
   "execution_count": null,
   "metadata": {},
   "outputs": [],
   "source": []
  },
  {
   "cell_type": "code",
   "execution_count": null,
   "metadata": {},
   "outputs": [],
   "source": []
  },
  {
   "cell_type": "code",
   "execution_count": null,
   "metadata": {},
   "outputs": [],
   "source": []
  },
  {
   "cell_type": "code",
   "execution_count": null,
   "metadata": {},
   "outputs": [],
   "source": []
  },
  {
   "cell_type": "code",
   "execution_count": null,
   "metadata": {},
   "outputs": [],
   "source": []
  }
 ],
 "metadata": {
  "kernelspec": {
   "display_name": "Python 3",
   "language": "python",
   "name": "python3"
  },
  "language_info": {
   "codemirror_mode": {
    "name": "ipython",
    "version": 3
   },
   "file_extension": ".py",
   "mimetype": "text/x-python",
   "name": "python",
   "nbconvert_exporter": "python",
   "pygments_lexer": "ipython3",
   "version": "3.7.2"
  }
 },
 "nbformat": 4,
 "nbformat_minor": 2
}
