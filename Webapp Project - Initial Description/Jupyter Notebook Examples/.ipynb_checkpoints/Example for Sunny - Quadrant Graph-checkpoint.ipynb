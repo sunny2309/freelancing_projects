{
 "cells": [
  {
   "cell_type": "code",
   "execution_count": 1,
   "metadata": {},
   "outputs": [],
   "source": [
    "import pandas as pd\n",
    "import numpy as np\n",
    "\n",
    "%matplotlib inline\n",
    "\n",
    "import matplotlib.pyplot as plt\n",
    "from matplotlib.patches import Rectangle\n",
    "import matplotlib.cm as cm\n",
    "\n"
   ]
  },
  {
   "cell_type": "code",
   "execution_count": 6,
   "metadata": {},
   "outputs": [],
   "source": [
    "df_output = pd.read_csv('quadrant_data.csv')\n",
    "\n",
    "lookback = 10\n",
    "\n",
    "df_output = df_output.iloc[0:lookback]"
   ]
  },
  {
   "cell_type": "code",
   "execution_count": 7,
   "metadata": {},
   "outputs": [],
   "source": [
    "\n",
    "\n",
    "# Q1 ticker list (new)\n",
    "ticker_list = ['JNK', 'LQD','CWB','ITA','HYG','PBS','PSP','PRF','IWS','RSP',\n",
    "               'XLB','IWP','IAI','IWR','SPXL','ITOT','IHI','PRFZ','JKE','RPV','XLG']\n",
    "   \n",
    "\n",
    "\n",
    "ticker_dict = {\n",
    "    'JNK' : 'Junk Bonds',\n",
    "    'LQD' : 'Corporate Bonds',\n",
    "    'CWB' : 'Convertible Securities',\n",
    "    'ITA' : 'Aerospace & Defense',\n",
    "    'HYG' : 'High Yield Bonds',\n",
    "    'PBS' : 'Dynamic Media',\n",
    "    'PSP' : 'Private Equity',\n",
    "    'PRF' : 'FTSE 1000',\n",
    "    'IWS' : 'MidCap Value',\n",
    "    'RSP' : 'Eql Weight SP500',\n",
    "    'XLB' : 'Materials',\n",
    "    'IWP' : 'MidCap Growth',\n",
    "    'IAI' : 'Broker Dealers',\n",
    "    'IWR' : 'MidCap Index',\n",
    "    'SPXL' : 'Levered 3x SP500',\n",
    "    'ITOT' : 'SP1500',\n",
    "    'IHI' : 'Medical Devices',\n",
    "    'PRFZ' : 'Preferred Stock',\n",
    "    'JKE' : 'LargeCap Growth',\n",
    "    'RPV' : 'SP Pure Value',\n",
    "    'XLG' : 'Top-50 SP500'\n",
    "}\n",
    "\n",
    "\n",
    "\n"
   ]
  },
  {
   "cell_type": "code",
   "execution_count": null,
   "metadata": {},
   "outputs": [],
   "source": []
  },
  {
   "cell_type": "code",
   "execution_count": null,
   "metadata": {},
   "outputs": [],
   "source": []
  },
  {
   "cell_type": "code",
   "execution_count": 2,
   "metadata": {},
   "outputs": [
    {
     "ename": "NameError",
     "evalue": "name 'ticker_list' is not defined",
     "output_type": "error",
     "traceback": [
      "\u001b[0;31m---------------------------------------------------------------------------\u001b[0m",
      "\u001b[0;31mNameError\u001b[0m                                 Traceback (most recent call last)",
      "\u001b[0;32m<ipython-input-2-e82eda479c81>\u001b[0m in \u001b[0;36m<module>\u001b[0;34m\u001b[0m\n\u001b[1;32m      3\u001b[0m \u001b[0;31m# Create a list of lists for each available color in the color spectrum\u001b[0m\u001b[0;34m\u001b[0m\u001b[0;34m\u001b[0m\u001b[0;34m\u001b[0m\u001b[0m\n\u001b[1;32m      4\u001b[0m \u001b[0mcolormap\u001b[0m \u001b[0;34m=\u001b[0m \u001b[0mplt\u001b[0m\u001b[0;34m.\u001b[0m\u001b[0mcm\u001b[0m\u001b[0;34m.\u001b[0m\u001b[0mgist_ncar\u001b[0m \u001b[0;31m#nipy_spectral, Set1,Paired\u001b[0m\u001b[0;34m\u001b[0m\u001b[0;34m\u001b[0m\u001b[0m\n\u001b[0;32m----> 5\u001b[0;31m \u001b[0mcolorst\u001b[0m \u001b[0;34m=\u001b[0m \u001b[0;34m[\u001b[0m\u001b[0mcolormap\u001b[0m\u001b[0;34m(\u001b[0m\u001b[0mi\u001b[0m\u001b[0;34m)\u001b[0m \u001b[0;32mfor\u001b[0m \u001b[0mi\u001b[0m \u001b[0;32min\u001b[0m \u001b[0mnp\u001b[0m\u001b[0;34m.\u001b[0m\u001b[0mlinspace\u001b[0m\u001b[0;34m(\u001b[0m\u001b[0;36m0.01\u001b[0m\u001b[0;34m,\u001b[0m \u001b[0;36m.9\u001b[0m\u001b[0;34m,\u001b[0m\u001b[0mlen\u001b[0m\u001b[0;34m(\u001b[0m\u001b[0mticker_list\u001b[0m\u001b[0;34m)\u001b[0m\u001b[0;34m)\u001b[0m\u001b[0;34m]\u001b[0m\u001b[0;34m\u001b[0m\u001b[0;34m\u001b[0m\u001b[0m\n\u001b[0m\u001b[1;32m      6\u001b[0m \u001b[0;34m\u001b[0m\u001b[0m\n\u001b[1;32m      7\u001b[0m \u001b[0mmax_x\u001b[0m \u001b[0;34m=\u001b[0m \u001b[0mnp\u001b[0m\u001b[0;34m.\u001b[0m\u001b[0mnan\u001b[0m\u001b[0;34m\u001b[0m\u001b[0;34m\u001b[0m\u001b[0m\n",
      "\u001b[0;31mNameError\u001b[0m: name 'ticker_list' is not defined"
     ]
    },
    {
     "data": {
      "text/plain": [
       "<Figure size 1440x720 with 0 Axes>"
      ]
     },
     "metadata": {},
     "output_type": "display_data"
    }
   ],
   "source": [
    "plt.figure(figsize = (20, 10))\n",
    "\n",
    "# Create a list of lists for each available color in the color spectrum\n",
    "colormap = plt.cm.gist_ncar #nipy_spectral, Set1,Paired  \n",
    "colorst = [colormap(i) for i in np.linspace(0.01, .9,len(ticker_list))]  \n",
    "\n",
    "max_x = np.nan\n",
    "min_x = np.nan\n",
    "max_y = np.nan\n",
    "min_y = np.nan\n",
    "\n",
    "color_count = 0\n",
    "\n",
    "for ticker in ticker_list:\n",
    "    \n",
    "    # Plot each of the two variables as x and y\n",
    "    var_x = df_output[ticker+'_value1']\n",
    "    var_y = df_output[ticker+'_gmean']   \n",
    "    \n",
    "    # Plot the line and rotate through the colors list\n",
    "    plt.plot(var_x, var_y, '-o', label = ticker, color = colorst[color_count])\n",
    "\n",
    "    color_count += 1\n",
    "    \n",
    "    # Find the max/min of x and y for all the tickers\n",
    "    max_x_temp = var_x.max()\n",
    "    min_x_temp = var_x.min()\n",
    "    \n",
    "    max_y_temp = var_y.max()\n",
    "    min_y_temp = var_y.min()   \n",
    "    \n",
    "    if str(max_x) == 'nan':\n",
    "        max_x = max_x_temp\n",
    "    if str(min_x) == 'nan':\n",
    "        min_x = min_x_temp\n",
    "        \n",
    "    if str(max_y) == 'nan':\n",
    "        max_y = max_y_temp\n",
    "    if str(min_y) == 'nan':\n",
    "        min_y = min_y_temp\n",
    "    \n",
    "    if max_x_temp > max_x:\n",
    "        max_x = max_x_temp\n",
    "    if min_x_temp < min_x:\n",
    "        min_x = min_x_temp\n",
    "        \n",
    "    if max_y_temp > max_y:\n",
    "        max_y = max_y_temp\n",
    "    if min_y_temp < min_y:\n",
    "        min_y = min_y_temp\n",
    "\n",
    "    x = df_output[ticker+'_value1']\n",
    "    y = df_output[ticker+'_gmean']\n",
    "    # calculate position and direction vectors:\n",
    "    x0 = x.iloc[range(len(x)-1)].values\n",
    "    x1 = x.iloc[range(1,len(x))].values\n",
    "    y0 = y.iloc[range(len(y)-1)].values\n",
    "    y1 = y.iloc[range(1,len(y))].values\n",
    "    xpos = (x0+x1)/2\n",
    "    ypos = (y0+y1)/2\n",
    "    xdir = x1-x0\n",
    "    ydir = y1-y0\n",
    "    # plot arrow on each line:\n",
    "    for X,Y,dX,dY in zip(xpos, ypos, xdir, ydir):\n",
    "        plt.annotate(\"\", xytext=(X,Y),xy=(X+0.001*dX,Y+0.001*dY), \n",
    "        arrowprops=dict(arrowstyle=\"->\", color='k'), size = 10)\n",
    "\n",
    "\n",
    "plt.margins(0, 0)\n",
    "# Add rectangle overlays to act as a background\n",
    "## Tuple defines the lower left point of the rectangle fyi\n",
    "plt.gca().add_patch(Rectangle((min_x,min_y),0 - min_x,100 - min_y, linewidth=1, edgecolor='r', facecolor='red', alpha = .075))\n",
    "plt.gca().add_patch(Rectangle((min_x,100),0 - min_x,max_y - 100, linewidth=1, edgecolor='r', facecolor='yellow', alpha = .075))\n",
    "plt.gca().add_patch(Rectangle((0,100), ((max_x - min_x) - abs(min_x)), max_y - 100, linewidth=1, edgecolor='r', facecolor='green', alpha = .075))\n",
    "plt.gca().add_patch(Rectangle((0,min_y), ((max_x - min_x) - abs(min_x)), 100 - min_y, linewidth=1, edgecolor='r', facecolor='yellow', alpha = .075))\n",
    "\n",
    "plt.text(max_x-.05, max_y-.5, 'Expansion', color = 'gray', verticalalignment='top', horizontalalignment='right', fontsize = 17)\n",
    "plt.text(max_x-.05, min_y, 'Consolidation', color = 'gray', verticalalignment='bottom', horizontalalignment='right', fontsize = 17)\n",
    "plt.text(min_x+.05, min_y, 'Contraction', color = 'gray', verticalalignment='bottom', horizontalalignment='left', fontsize = 17)\n",
    "plt.text(min_x+.05, max_y-.5, 'Reflation', color = 'gray', verticalalignment='top', horizontalalignment='left', fontsize = 17)\n",
    "\n",
    "plt.title('CSI Quadrant 1: Historical Best ETFs', fontsize = 25)\n",
    "plt.xlabel('Strength vs. S&P 500  -------------->', fontsize = 20)\n",
    "plt.ylabel('Momentun of Strength  -------------->', fontsize = 20)\n",
    "\n",
    "plt.legend(loc='center left', bbox_to_anchor=(1.01, 0.5))\n",
    "plt.show()\n",
    "\n"
   ]
  },
  {
   "cell_type": "code",
   "execution_count": null,
   "metadata": {},
   "outputs": [],
   "source": []
  },
  {
   "cell_type": "code",
   "execution_count": null,
   "metadata": {},
   "outputs": [],
   "source": []
  }
 ],
 "metadata": {
  "kernelspec": {
   "display_name": "Python 3",
   "language": "python",
   "name": "python3"
  },
  "language_info": {
   "codemirror_mode": {
    "name": "ipython",
    "version": 3
   },
   "file_extension": ".py",
   "mimetype": "text/x-python",
   "name": "python",
   "nbconvert_exporter": "python",
   "pygments_lexer": "ipython3",
   "version": "3.7.3"
  }
 },
 "nbformat": 4,
 "nbformat_minor": 2
}
