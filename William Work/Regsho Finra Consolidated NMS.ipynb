{
 "cells": [
  {
   "cell_type": "code",
   "execution_count": 30,
   "metadata": {},
   "outputs": [],
   "source": [
    "import requests\n",
    "from bs4 import BeautifulSoup\n",
    "import pandas as pd"
   ]
  },
  {
   "cell_type": "code",
   "execution_count": 31,
   "metadata": {},
   "outputs": [],
   "source": [
    "months = [\"February\", \"March\", \"April\", \"May\", \"June\", \"July\", \"August\", \"September\", \"October\", \"November\",\n",
    "          \"December\", \"January\",]\n",
    "\n",
    "total_data = []\n",
    "\n",
    "for month in months:\n",
    "    response = requests.get(\"http://regsho.finra.org/regsho-{}.html\".format(month))\n",
    "\n",
    "    soup = BeautifulSoup(response.text,\"html\")\n",
    "\n",
    "    all_lists = soup.find_all(\"ul\")\n",
    "    finra_consolidated_nms = all_lists[0]\n",
    "\n",
    "    for link in finra_consolidated_nms.find_all(\"a\"):\n",
    "        total_data.append((\"{}, {}-{}\".format(link.getText(), month, \"2021\" if month == \"January\" else \"2020\"), \n",
    "                           link.get(\"href\")))"
   ]
  },
  {
   "cell_type": "code",
   "execution_count": 32,
   "metadata": {},
   "outputs": [],
   "source": [
    "df = pd.DataFrame(total_data, columns=[\"Date\", \"Link\"])"
   ]
  },
  {
   "cell_type": "code",
   "execution_count": 33,
   "metadata": {},
   "outputs": [
    {
     "data": {
      "text/html": [
       "<div>\n",
       "<style scoped>\n",
       "    .dataframe tbody tr th:only-of-type {\n",
       "        vertical-align: middle;\n",
       "    }\n",
       "\n",
       "    .dataframe tbody tr th {\n",
       "        vertical-align: top;\n",
       "    }\n",
       "\n",
       "    .dataframe thead th {\n",
       "        text-align: right;\n",
       "    }\n",
       "</style>\n",
       "<table border=\"1\" class=\"dataframe\">\n",
       "  <thead>\n",
       "    <tr style=\"text-align: right;\">\n",
       "      <th></th>\n",
       "      <th>Date</th>\n",
       "      <th>Link</th>\n",
       "    </tr>\n",
       "  </thead>\n",
       "  <tbody>\n",
       "    <tr>\n",
       "      <td>0</td>\n",
       "      <td>Friday 28th, February-2020</td>\n",
       "      <td>http://regsho.finra.org/CNMSshvol20200228.txt</td>\n",
       "    </tr>\n",
       "    <tr>\n",
       "      <td>1</td>\n",
       "      <td>Thursday 27th, February-2020</td>\n",
       "      <td>http://regsho.finra.org/CNMSshvol20200227.txt</td>\n",
       "    </tr>\n",
       "    <tr>\n",
       "      <td>2</td>\n",
       "      <td>Wednesday 26th, February-2020</td>\n",
       "      <td>http://regsho.finra.org/CNMSshvol20200226.txt</td>\n",
       "    </tr>\n",
       "    <tr>\n",
       "      <td>3</td>\n",
       "      <td>Tuesday 25th, February-2020</td>\n",
       "      <td>http://regsho.finra.org/CNMSshvol20200225.txt</td>\n",
       "    </tr>\n",
       "    <tr>\n",
       "      <td>4</td>\n",
       "      <td>Monday 24th, February-2020</td>\n",
       "      <td>http://regsho.finra.org/CNMSshvol20200224.txt</td>\n",
       "    </tr>\n",
       "  </tbody>\n",
       "</table>\n",
       "</div>"
      ],
      "text/plain": [
       "                            Date  \\\n",
       "0     Friday 28th, February-2020   \n",
       "1   Thursday 27th, February-2020   \n",
       "2  Wednesday 26th, February-2020   \n",
       "3    Tuesday 25th, February-2020   \n",
       "4     Monday 24th, February-2020   \n",
       "\n",
       "                                            Link  \n",
       "0  http://regsho.finra.org/CNMSshvol20200228.txt  \n",
       "1  http://regsho.finra.org/CNMSshvol20200227.txt  \n",
       "2  http://regsho.finra.org/CNMSshvol20200226.txt  \n",
       "3  http://regsho.finra.org/CNMSshvol20200225.txt  \n",
       "4  http://regsho.finra.org/CNMSshvol20200224.txt  "
      ]
     },
     "execution_count": 33,
     "metadata": {},
     "output_type": "execute_result"
    }
   ],
   "source": [
    "df.head()"
   ]
  },
  {
   "cell_type": "code",
   "execution_count": 34,
   "metadata": {},
   "outputs": [
    {
     "data": {
      "text/html": [
       "<div>\n",
       "<style scoped>\n",
       "    .dataframe tbody tr th:only-of-type {\n",
       "        vertical-align: middle;\n",
       "    }\n",
       "\n",
       "    .dataframe tbody tr th {\n",
       "        vertical-align: top;\n",
       "    }\n",
       "\n",
       "    .dataframe thead th {\n",
       "        text-align: right;\n",
       "    }\n",
       "</style>\n",
       "<table border=\"1\" class=\"dataframe\">\n",
       "  <thead>\n",
       "    <tr style=\"text-align: right;\">\n",
       "      <th></th>\n",
       "      <th>Date</th>\n",
       "      <th>Link</th>\n",
       "    </tr>\n",
       "  </thead>\n",
       "  <tbody>\n",
       "    <tr>\n",
       "      <td>245</td>\n",
       "      <td>Friday 8th, January-2021</td>\n",
       "      <td>http://regsho.finra.org/CNMSshvol20210108.txt</td>\n",
       "    </tr>\n",
       "    <tr>\n",
       "      <td>246</td>\n",
       "      <td>Thursday 7th, January-2021</td>\n",
       "      <td>http://regsho.finra.org/CNMSshvol20210107.txt</td>\n",
       "    </tr>\n",
       "    <tr>\n",
       "      <td>247</td>\n",
       "      <td>Wednesday 6th, January-2021</td>\n",
       "      <td>http://regsho.finra.org/CNMSshvol20210106.txt</td>\n",
       "    </tr>\n",
       "    <tr>\n",
       "      <td>248</td>\n",
       "      <td>Tuesday 5th, January-2021</td>\n",
       "      <td>http://regsho.finra.org/CNMSshvol20210105.txt</td>\n",
       "    </tr>\n",
       "    <tr>\n",
       "      <td>249</td>\n",
       "      <td>Monday 4th, January-2021</td>\n",
       "      <td>http://regsho.finra.org/CNMSshvol20210104.txt</td>\n",
       "    </tr>\n",
       "  </tbody>\n",
       "</table>\n",
       "</div>"
      ],
      "text/plain": [
       "                            Date  \\\n",
       "245     Friday 8th, January-2021   \n",
       "246   Thursday 7th, January-2021   \n",
       "247  Wednesday 6th, January-2021   \n",
       "248    Tuesday 5th, January-2021   \n",
       "249     Monday 4th, January-2021   \n",
       "\n",
       "                                              Link  \n",
       "245  http://regsho.finra.org/CNMSshvol20210108.txt  \n",
       "246  http://regsho.finra.org/CNMSshvol20210107.txt  \n",
       "247  http://regsho.finra.org/CNMSshvol20210106.txt  \n",
       "248  http://regsho.finra.org/CNMSshvol20210105.txt  \n",
       "249  http://regsho.finra.org/CNMSshvol20210104.txt  "
      ]
     },
     "execution_count": 34,
     "metadata": {},
     "output_type": "execute_result"
    }
   ],
   "source": [
    "df.tail()"
   ]
  },
  {
   "cell_type": "code",
   "execution_count": 35,
   "metadata": {},
   "outputs": [],
   "source": [
    "df.to_csv(\"regsho_finra_links.csv\")"
   ]
  },
  {
   "cell_type": "code",
   "execution_count": null,
   "metadata": {},
   "outputs": [],
   "source": []
  }
 ],
 "metadata": {
  "kernelspec": {
   "display_name": "Python 3",
   "language": "python",
   "name": "python3"
  },
  "language_info": {
   "codemirror_mode": {
    "name": "ipython",
    "version": 3
   },
   "file_extension": ".py",
   "mimetype": "text/x-python",
   "name": "python",
   "nbconvert_exporter": "python",
   "pygments_lexer": "ipython3",
   "version": "3.7.3"
  }
 },
 "nbformat": 4,
 "nbformat_minor": 2
}
