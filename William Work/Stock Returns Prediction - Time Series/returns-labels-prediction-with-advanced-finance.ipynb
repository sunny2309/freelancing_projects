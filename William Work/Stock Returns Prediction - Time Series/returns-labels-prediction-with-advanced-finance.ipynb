{
 "cells": [
  {
   "cell_type": "markdown",
   "metadata": {},
   "source": [
    "# Introduction\n",
    "We have received finance data about stocks opening, closing prices and other 15 features on which prices are dependent. We'll try to fit various models to this data to check whether returns are positive or not. We have tried 2 versions of Dense Net and 2 versions of LSTMs for predicting whether returns are positive or not."
   ]
  },
  {
   "cell_type": "code",
   "execution_count": 1,
   "metadata": {},
   "outputs": [
    {
     "name": "stderr",
     "output_type": "stream",
     "text": [
      "Using TensorFlow backend.\n"
     ]
    }
   ],
   "source": [
    "import pandas as pd\n",
    "import numpy as np\n",
    "import math\n",
    "\n",
    "import sklearn\n",
    "from sklearn.metrics import classification_report,confusion_matrix, accuracy_score, mean_squared_error, r2_score\n",
    "from sklearn.datasets import fetch_openml\n",
    "from sklearn.model_selection import train_test_split\n",
    "from sklearn.feature_selection import f_classif, f_regression\n",
    "\n",
    "from imblearn.over_sampling import SMOTE\n",
    "import xgboost as xgb\n",
    "\n",
    "import keras\n",
    "from keras.models import Sequential\n",
    "from keras.layers import Dense, LSTM, Dropout\n",
    "from keras.utils import plot_model\n",
    "\n",
    "from PIL import Image\n",
    "import matplotlib.pyplot as plt\n",
    "\n",
    "import warnings\n",
    "import copy\n",
    "from collections import Counter\n",
    "\n",
    "warnings.filterwarnings('ignore')\n",
    "\n",
    "pd.set_option('precision', 3)\n",
    "np.set_printoptions(precision=3)\n",
    "\n",
    "%matplotlib inline"
   ]
  },
  {
   "cell_type": "markdown",
   "metadata": {},
   "source": [
    "# Loading & Cleaning Data\n",
    "Loading data involved loading data from CSV file wheareas cleaning data refers to handling of NAs. We also have introduced new columns like returns which is percentage change in closing price and label which is 1 if return is positive else 0."
   ]
  },
  {
   "cell_type": "code",
   "execution_count": 2,
   "metadata": {},
   "outputs": [
    {
     "data": {
      "text/html": [
       "<div>\n",
       "<style scoped>\n",
       "    .dataframe tbody tr th:only-of-type {\n",
       "        vertical-align: middle;\n",
       "    }\n",
       "\n",
       "    .dataframe tbody tr th {\n",
       "        vertical-align: top;\n",
       "    }\n",
       "\n",
       "    .dataframe thead th {\n",
       "        text-align: right;\n",
       "    }\n",
       "</style>\n",
       "<table border=\"1\" class=\"dataframe\">\n",
       "  <thead>\n",
       "    <tr style=\"text-align: right;\">\n",
       "      <th></th>\n",
       "      <th>Open</th>\n",
       "      <th>High</th>\n",
       "      <th>Low</th>\n",
       "      <th>Close</th>\n",
       "      <th>Volume</th>\n",
       "      <th>feature1</th>\n",
       "      <th>feature2</th>\n",
       "      <th>feature3</th>\n",
       "      <th>feature4</th>\n",
       "      <th>feature5</th>\n",
       "      <th>feature6</th>\n",
       "      <th>feature7</th>\n",
       "      <th>feature8</th>\n",
       "      <th>feature9</th>\n",
       "      <th>feature10</th>\n",
       "      <th>feature11</th>\n",
       "      <th>feature12</th>\n",
       "      <th>feature13</th>\n",
       "      <th>feature14</th>\n",
       "      <th>feature15</th>\n",
       "    </tr>\n",
       "    <tr>\n",
       "      <th>Time</th>\n",
       "      <th></th>\n",
       "      <th></th>\n",
       "      <th></th>\n",
       "      <th></th>\n",
       "      <th></th>\n",
       "      <th></th>\n",
       "      <th></th>\n",
       "      <th></th>\n",
       "      <th></th>\n",
       "      <th></th>\n",
       "      <th></th>\n",
       "      <th></th>\n",
       "      <th></th>\n",
       "      <th></th>\n",
       "      <th></th>\n",
       "      <th></th>\n",
       "      <th></th>\n",
       "      <th></th>\n",
       "      <th></th>\n",
       "      <th></th>\n",
       "    </tr>\n",
       "  </thead>\n",
       "  <tbody>\n",
       "    <tr>\n",
       "      <td>2008-10-15</td>\n",
       "      <td>14.83</td>\n",
       "      <td>15.29</td>\n",
       "      <td>13.98</td>\n",
       "      <td>13.99</td>\n",
       "      <td>387619900</td>\n",
       "      <td>0.0</td>\n",
       "      <td>-0.641</td>\n",
       "      <td>0.0</td>\n",
       "      <td>0.0</td>\n",
       "      <td>0.0</td>\n",
       "      <td>0.0</td>\n",
       "      <td>0.0</td>\n",
       "      <td>0.0</td>\n",
       "      <td>0.0</td>\n",
       "      <td>0.0</td>\n",
       "      <td>0.0</td>\n",
       "      <td>0.0</td>\n",
       "      <td>0.0</td>\n",
       "      <td>0.0</td>\n",
       "      <td>0.0</td>\n",
       "    </tr>\n",
       "    <tr>\n",
       "      <td>2008-10-16</td>\n",
       "      <td>14.25</td>\n",
       "      <td>14.86</td>\n",
       "      <td>13.11</td>\n",
       "      <td>14.56</td>\n",
       "      <td>480128000</td>\n",
       "      <td>0.0</td>\n",
       "      <td>0.177</td>\n",
       "      <td>0.0</td>\n",
       "      <td>0.0</td>\n",
       "      <td>0.0</td>\n",
       "      <td>0.0</td>\n",
       "      <td>0.0</td>\n",
       "      <td>0.0</td>\n",
       "      <td>0.0</td>\n",
       "      <td>0.0</td>\n",
       "      <td>0.0</td>\n",
       "      <td>0.0</td>\n",
       "      <td>0.0</td>\n",
       "      <td>0.0</td>\n",
       "      <td>0.0</td>\n",
       "    </tr>\n",
       "    <tr>\n",
       "      <td>2008-10-17</td>\n",
       "      <td>14.21</td>\n",
       "      <td>14.58</td>\n",
       "      <td>13.86</td>\n",
       "      <td>13.91</td>\n",
       "      <td>433964800</td>\n",
       "      <td>0.0</td>\n",
       "      <td>-0.417</td>\n",
       "      <td>0.0</td>\n",
       "      <td>0.0</td>\n",
       "      <td>0.0</td>\n",
       "      <td>0.0</td>\n",
       "      <td>0.0</td>\n",
       "      <td>0.0</td>\n",
       "      <td>0.0</td>\n",
       "      <td>0.0</td>\n",
       "      <td>0.0</td>\n",
       "      <td>0.0</td>\n",
       "      <td>0.0</td>\n",
       "      <td>0.0</td>\n",
       "      <td>0.0</td>\n",
       "    </tr>\n",
       "    <tr>\n",
       "      <td>2008-10-20</td>\n",
       "      <td>14.26</td>\n",
       "      <td>14.29</td>\n",
       "      <td>13.38</td>\n",
       "      <td>14.06</td>\n",
       "      <td>383539500</td>\n",
       "      <td>0.0</td>\n",
       "      <td>-0.220</td>\n",
       "      <td>0.0</td>\n",
       "      <td>0.0</td>\n",
       "      <td>0.0</td>\n",
       "      <td>0.0</td>\n",
       "      <td>0.0</td>\n",
       "      <td>0.0</td>\n",
       "      <td>0.0</td>\n",
       "      <td>0.0</td>\n",
       "      <td>0.0</td>\n",
       "      <td>0.0</td>\n",
       "      <td>0.0</td>\n",
       "      <td>0.0</td>\n",
       "      <td>0.0</td>\n",
       "    </tr>\n",
       "    <tr>\n",
       "      <td>2008-10-21</td>\n",
       "      <td>13.86</td>\n",
       "      <td>13.99</td>\n",
       "      <td>13.00</td>\n",
       "      <td>13.07</td>\n",
       "      <td>446705000</td>\n",
       "      <td>0.0</td>\n",
       "      <td>-0.798</td>\n",
       "      <td>0.0</td>\n",
       "      <td>0.0</td>\n",
       "      <td>0.0</td>\n",
       "      <td>0.0</td>\n",
       "      <td>0.0</td>\n",
       "      <td>0.0</td>\n",
       "      <td>0.0</td>\n",
       "      <td>0.0</td>\n",
       "      <td>0.0</td>\n",
       "      <td>0.0</td>\n",
       "      <td>0.0</td>\n",
       "      <td>0.0</td>\n",
       "      <td>0.0</td>\n",
       "    </tr>\n",
       "  </tbody>\n",
       "</table>\n",
       "</div>"
      ],
      "text/plain": [
       "             Open   High    Low  Close     Volume  feature1  feature2  \\\n",
       "Time                                                                    \n",
       "2008-10-15  14.83  15.29  13.98  13.99  387619900       0.0    -0.641   \n",
       "2008-10-16  14.25  14.86  13.11  14.56  480128000       0.0     0.177   \n",
       "2008-10-17  14.21  14.58  13.86  13.91  433964800       0.0    -0.417   \n",
       "2008-10-20  14.26  14.29  13.38  14.06  383539500       0.0    -0.220   \n",
       "2008-10-21  13.86  13.99  13.00  13.07  446705000       0.0    -0.798   \n",
       "\n",
       "            feature3  feature4  feature5  feature6  feature7  feature8  \\\n",
       "Time                                                                     \n",
       "2008-10-15       0.0       0.0       0.0       0.0       0.0       0.0   \n",
       "2008-10-16       0.0       0.0       0.0       0.0       0.0       0.0   \n",
       "2008-10-17       0.0       0.0       0.0       0.0       0.0       0.0   \n",
       "2008-10-20       0.0       0.0       0.0       0.0       0.0       0.0   \n",
       "2008-10-21       0.0       0.0       0.0       0.0       0.0       0.0   \n",
       "\n",
       "            feature9  feature10  feature11  feature12  feature13  feature14  \\\n",
       "Time                                                                          \n",
       "2008-10-15       0.0        0.0        0.0        0.0        0.0        0.0   \n",
       "2008-10-16       0.0        0.0        0.0        0.0        0.0        0.0   \n",
       "2008-10-17       0.0        0.0        0.0        0.0        0.0        0.0   \n",
       "2008-10-20       0.0        0.0        0.0        0.0        0.0        0.0   \n",
       "2008-10-21       0.0        0.0        0.0        0.0        0.0        0.0   \n",
       "\n",
       "            feature15  \n",
       "Time                   \n",
       "2008-10-15        0.0  \n",
       "2008-10-16        0.0  \n",
       "2008-10-17        0.0  \n",
       "2008-10-20        0.0  \n",
       "2008-10-21        0.0  "
      ]
     },
     "execution_count": 2,
     "metadata": {},
     "output_type": "execute_result"
    }
   ],
   "source": [
    "data=pd.read_csv('/kaggle/input/input_data.csv')\n",
    "data['Time'] = pd.to_datetime(data['Time'].values, format='%m/%d/%Y')\n",
    "data = data.set_index('Time')\n",
    "data = data.fillna(0)\n",
    "data.head()"
   ]
  },
  {
   "cell_type": "code",
   "execution_count": 3,
   "metadata": {},
   "outputs": [],
   "source": [
    "def get_vol(prices, span=100, delta=pd.Timedelta(days=4)):\n",
    "    # 1. compute returns of the form p[t]/p[t-1] - 1\n",
    "    # 1.1 find the timestamps of p[t-1] values\n",
    "    df0 = prices.index.searchsorted(prices.index - delta)\n",
    "    df0 = df0[df0 > 0]\n",
    "    # 1.2 align timestamps of p[t-1] to timestamps of p[t]\n",
    "    df0 = pd.Series(prices.index[df0-1], index=prices.index[prices.shape[0]-df0.shape[0] : ])\n",
    "    # 1.3 get values by timestamps, then compute returns\n",
    "    df0 = prices.loc[df0.index] / prices.loc[df0.values].values - 1\n",
    "    # 2. estimate rolling standard deviation\n",
    "    df0 = df0.ewm(span=span).std()\n",
    "    return df0\n",
    "\n",
    "def get_horizons(prices, delta=pd.Timedelta(days=1)):\n",
    "    t1 = prices.index.searchsorted(prices.index + delta)\n",
    "    t1 = t1[t1 < prices.shape[0]]\n",
    "    t1 = prices.index[t1]\n",
    "    t1 = pd.Series(t1, index=prices.index[:t1.shape[0]])\n",
    "    return t1\n",
    "\n",
    "def get_touches(prices, events, factors=[1, 1]):\n",
    "    '''\n",
    "    events: pd dataframe with columns\n",
    "    t1: timestamp of the next horizon\n",
    "    threshold: unit height of top and bottom barriers\n",
    "    side: the side of each bet\n",
    "    factors: multipliers of the threshold to set the height of \n",
    "           top/bottom barriers\n",
    "    '''\n",
    "    out = events[['t1']].copy(deep=True)\n",
    "    if factors[0] > 0: thresh_uppr = factors[0] * events['threshold']\n",
    "    else: thresh_uppr = pd.Series(index=events.index) # no uppr thresh\n",
    "    if factors[1] > 0: thresh_lwr = -factors[1] * events['threshold']\n",
    "    else: thresh_lwr = pd.Series(index=events.index)  # no lwr thresh\n",
    "    for loc, t1 in events['t1'].iteritems():\n",
    "        df0=prices[loc:t1]                              # path prices\n",
    "        df0=(df0 / prices[loc] - 1) * events.side[loc]  # path returns\n",
    "        out.loc[loc, 'stop_loss'] = df0[df0 < thresh_lwr[loc]].index.min()  # earliest stop loss\n",
    "        out.loc[loc, 'take_profit'] = df0[df0 > thresh_uppr[loc]].index.min() # earliest take profit\n",
    "    return out\n",
    "\n",
    "def get_labels(touches):\n",
    "    out = touches.copy(deep=True)\n",
    "    # pandas df.min() ignores NaN values\n",
    "    first_touch = touches[['stop_loss', 'take_profit']].min(axis=1)\n",
    "    for loc, t in first_touch.iteritems():\n",
    "        if pd.isnull(t):\n",
    "            out.loc[loc, 'label'] = 0\n",
    "        elif t == touches.loc[loc, 'stop_loss']: \n",
    "            out.loc[loc, 'label'] = -1\n",
    "        else:\n",
    "            out.loc[loc, 'label'] = 1\n",
    "    return out"
   ]
  },
  {
   "cell_type": "code",
   "execution_count": 4,
   "metadata": {},
   "outputs": [],
   "source": [
    "data_latest = data.assign(threshold=get_vol(data.Close)).dropna()\n",
    "data_latest = data_latest.assign(t1=get_horizons(data_latest)).dropna()\n",
    "events = data_latest[['t1', 'threshold']] \n",
    "events = events.assign(side=pd.Series(1., events.index)) # long only\n",
    "touches = get_touches(data_latest.Close, events, [1,1])\n",
    "touches = get_labels(touches)\n",
    "data_latest = data_latest.assign(label=touches.label)"
   ]
  },
  {
   "cell_type": "code",
   "execution_count": 5,
   "metadata": {},
   "outputs": [
    {
     "data": {
      "text/html": [
       "<div>\n",
       "<style scoped>\n",
       "    .dataframe tbody tr th:only-of-type {\n",
       "        vertical-align: middle;\n",
       "    }\n",
       "\n",
       "    .dataframe tbody tr th {\n",
       "        vertical-align: top;\n",
       "    }\n",
       "\n",
       "    .dataframe thead th {\n",
       "        text-align: right;\n",
       "    }\n",
       "</style>\n",
       "<table border=\"1\" class=\"dataframe\">\n",
       "  <thead>\n",
       "    <tr style=\"text-align: right;\">\n",
       "      <th></th>\n",
       "      <th>Open</th>\n",
       "      <th>High</th>\n",
       "      <th>Low</th>\n",
       "      <th>Close</th>\n",
       "      <th>Volume</th>\n",
       "      <th>feature1</th>\n",
       "      <th>feature2</th>\n",
       "      <th>feature3</th>\n",
       "      <th>feature4</th>\n",
       "      <th>feature5</th>\n",
       "      <th>...</th>\n",
       "      <th>feature9</th>\n",
       "      <th>feature10</th>\n",
       "      <th>feature11</th>\n",
       "      <th>feature12</th>\n",
       "      <th>feature13</th>\n",
       "      <th>feature14</th>\n",
       "      <th>feature15</th>\n",
       "      <th>threshold</th>\n",
       "      <th>t1</th>\n",
       "      <th>label</th>\n",
       "    </tr>\n",
       "    <tr>\n",
       "      <th>Time</th>\n",
       "      <th></th>\n",
       "      <th></th>\n",
       "      <th></th>\n",
       "      <th></th>\n",
       "      <th></th>\n",
       "      <th></th>\n",
       "      <th></th>\n",
       "      <th></th>\n",
       "      <th></th>\n",
       "      <th></th>\n",
       "      <th></th>\n",
       "      <th></th>\n",
       "      <th></th>\n",
       "      <th></th>\n",
       "      <th></th>\n",
       "      <th></th>\n",
       "      <th></th>\n",
       "      <th></th>\n",
       "      <th></th>\n",
       "      <th></th>\n",
       "      <th></th>\n",
       "    </tr>\n",
       "  </thead>\n",
       "  <tbody>\n",
       "    <tr>\n",
       "      <td>2008-10-21</td>\n",
       "      <td>13.86</td>\n",
       "      <td>13.99</td>\n",
       "      <td>13.00</td>\n",
       "      <td>13.07</td>\n",
       "      <td>446705000</td>\n",
       "      <td>0.0</td>\n",
       "      <td>-0.798</td>\n",
       "      <td>0.0</td>\n",
       "      <td>0.0</td>\n",
       "      <td>0.0</td>\n",
       "      <td>...</td>\n",
       "      <td>0.0</td>\n",
       "      <td>0.0</td>\n",
       "      <td>0.0</td>\n",
       "      <td>0.0</td>\n",
       "      <td>0.0</td>\n",
       "      <td>0.0</td>\n",
       "      <td>0.0</td>\n",
       "      <td>0.076</td>\n",
       "      <td>2008-10-22</td>\n",
       "      <td>0</td>\n",
       "    </tr>\n",
       "    <tr>\n",
       "      <td>2008-10-22</td>\n",
       "      <td>13.91</td>\n",
       "      <td>14.46</td>\n",
       "      <td>13.28</td>\n",
       "      <td>13.84</td>\n",
       "      <td>536549400</td>\n",
       "      <td>0.0</td>\n",
       "      <td>-0.059</td>\n",
       "      <td>0.0</td>\n",
       "      <td>0.0</td>\n",
       "      <td>0.0</td>\n",
       "      <td>...</td>\n",
       "      <td>0.0</td>\n",
       "      <td>0.0</td>\n",
       "      <td>0.0</td>\n",
       "      <td>0.0</td>\n",
       "      <td>0.0</td>\n",
       "      <td>0.0</td>\n",
       "      <td>0.0</td>\n",
       "      <td>0.059</td>\n",
       "      <td>2008-10-23</td>\n",
       "      <td>0</td>\n",
       "    </tr>\n",
       "    <tr>\n",
       "      <td>2008-10-23</td>\n",
       "      <td>13.83</td>\n",
       "      <td>14.18</td>\n",
       "      <td>13.13</td>\n",
       "      <td>14.03</td>\n",
       "      <td>415305400</td>\n",
       "      <td>0.0</td>\n",
       "      <td>0.190</td>\n",
       "      <td>0.0</td>\n",
       "      <td>0.0</td>\n",
       "      <td>0.0</td>\n",
       "      <td>...</td>\n",
       "      <td>0.0</td>\n",
       "      <td>0.0</td>\n",
       "      <td>0.0</td>\n",
       "      <td>0.0</td>\n",
       "      <td>0.0</td>\n",
       "      <td>0.0</td>\n",
       "      <td>0.0</td>\n",
       "      <td>0.053</td>\n",
       "      <td>2008-10-24</td>\n",
       "      <td>0</td>\n",
       "    </tr>\n",
       "    <tr>\n",
       "      <td>2008-10-24</td>\n",
       "      <td>12.89</td>\n",
       "      <td>13.99</td>\n",
       "      <td>12.87</td>\n",
       "      <td>13.77</td>\n",
       "      <td>391752400</td>\n",
       "      <td>0.0</td>\n",
       "      <td>0.786</td>\n",
       "      <td>0.0</td>\n",
       "      <td>0.0</td>\n",
       "      <td>0.0</td>\n",
       "      <td>...</td>\n",
       "      <td>0.0</td>\n",
       "      <td>0.0</td>\n",
       "      <td>0.0</td>\n",
       "      <td>0.0</td>\n",
       "      <td>0.0</td>\n",
       "      <td>0.0</td>\n",
       "      <td>0.0</td>\n",
       "      <td>0.046</td>\n",
       "      <td>2008-10-27</td>\n",
       "      <td>0</td>\n",
       "    </tr>\n",
       "    <tr>\n",
       "      <td>2008-10-27</td>\n",
       "      <td>13.62</td>\n",
       "      <td>13.95</td>\n",
       "      <td>13.12</td>\n",
       "      <td>13.16</td>\n",
       "      <td>297031300</td>\n",
       "      <td>0.0</td>\n",
       "      <td>-0.554</td>\n",
       "      <td>0.0</td>\n",
       "      <td>0.0</td>\n",
       "      <td>0.0</td>\n",
       "      <td>...</td>\n",
       "      <td>0.0</td>\n",
       "      <td>0.0</td>\n",
       "      <td>0.0</td>\n",
       "      <td>0.0</td>\n",
       "      <td>0.0</td>\n",
       "      <td>0.0</td>\n",
       "      <td>0.0</td>\n",
       "      <td>0.043</td>\n",
       "      <td>2008-10-28</td>\n",
       "      <td>1</td>\n",
       "    </tr>\n",
       "  </tbody>\n",
       "</table>\n",
       "<p>5 rows × 23 columns</p>\n",
       "</div>"
      ],
      "text/plain": [
       "             Open   High    Low  Close     Volume  feature1  feature2  \\\n",
       "Time                                                                    \n",
       "2008-10-21  13.86  13.99  13.00  13.07  446705000       0.0    -0.798   \n",
       "2008-10-22  13.91  14.46  13.28  13.84  536549400       0.0    -0.059   \n",
       "2008-10-23  13.83  14.18  13.13  14.03  415305400       0.0     0.190   \n",
       "2008-10-24  12.89  13.99  12.87  13.77  391752400       0.0     0.786   \n",
       "2008-10-27  13.62  13.95  13.12  13.16  297031300       0.0    -0.554   \n",
       "\n",
       "            feature3  feature4  feature5  ...  feature9  feature10  feature11  \\\n",
       "Time                                      ...                                   \n",
       "2008-10-21       0.0       0.0       0.0  ...       0.0        0.0        0.0   \n",
       "2008-10-22       0.0       0.0       0.0  ...       0.0        0.0        0.0   \n",
       "2008-10-23       0.0       0.0       0.0  ...       0.0        0.0        0.0   \n",
       "2008-10-24       0.0       0.0       0.0  ...       0.0        0.0        0.0   \n",
       "2008-10-27       0.0       0.0       0.0  ...       0.0        0.0        0.0   \n",
       "\n",
       "            feature12  feature13  feature14  feature15  threshold         t1  \\\n",
       "Time                                                                           \n",
       "2008-10-21        0.0        0.0        0.0        0.0      0.076 2008-10-22   \n",
       "2008-10-22        0.0        0.0        0.0        0.0      0.059 2008-10-23   \n",
       "2008-10-23        0.0        0.0        0.0        0.0      0.053 2008-10-24   \n",
       "2008-10-24        0.0        0.0        0.0        0.0      0.046 2008-10-27   \n",
       "2008-10-27        0.0        0.0        0.0        0.0      0.043 2008-10-28   \n",
       "\n",
       "            label  \n",
       "Time               \n",
       "2008-10-21      0  \n",
       "2008-10-22      0  \n",
       "2008-10-23      0  \n",
       "2008-10-24      0  \n",
       "2008-10-27      1  \n",
       "\n",
       "[5 rows x 23 columns]"
      ]
     },
     "execution_count": 5,
     "metadata": {},
     "output_type": "execute_result"
    }
   ],
   "source": [
    "## We have originally 3 labels. 1 - take the long bet, -1 -  take the short bet, 0 - don't take the bet.\n",
    "## Turning labels into 1 and 0. 1 - trade(positive), 0 - no-trade(negative)\n",
    "data_latest['label'] = [0 if i==0 else 1for i in data_latest.label] \n",
    "data_latest.head()"
   ]
  },
  {
   "cell_type": "code",
   "execution_count": 6,
   "metadata": {},
   "outputs": [
    {
     "data": {
      "text/plain": [
       "(array([0, 1]), Counter({0: 2575, 1: 176}))"
      ]
     },
     "execution_count": 6,
     "metadata": {},
     "output_type": "execute_result"
    }
   ],
   "source": [
    "data_latest.label.unique(), Counter(data_latest.label.values)"
   ]
  },
  {
   "cell_type": "markdown",
   "metadata": {},
   "source": [
    "## Correlation Between Features and Label/Returns/Close Price/Open Price\n",
    "\n",
    "Below we have found out correlation between all feaatures and label, returns, close price and open price. We'll use this correlation for plotting purpose below."
   ]
  },
  {
   "cell_type": "code",
   "execution_count": 7,
   "metadata": {},
   "outputs": [],
   "source": [
    "corr_between_features_and_label = data_latest[['feature1', 'feature2', 'feature3', 'feature4', 'feature5', 'feature6', 'feature7', 'feature8', 'feature9', 'feature10', 'feature11', 'feature12', 'feature13', 'feature14', 'feature15','label']].corr()"
   ]
  },
  {
   "cell_type": "code",
   "execution_count": 8,
   "metadata": {},
   "outputs": [
    {
     "data": {
      "text/html": [
       "<div>\n",
       "<style scoped>\n",
       "    .dataframe tbody tr th:only-of-type {\n",
       "        vertical-align: middle;\n",
       "    }\n",
       "\n",
       "    .dataframe tbody tr th {\n",
       "        vertical-align: top;\n",
       "    }\n",
       "\n",
       "    .dataframe thead th {\n",
       "        text-align: right;\n",
       "    }\n",
       "</style>\n",
       "<table border=\"1\" class=\"dataframe\">\n",
       "  <thead>\n",
       "    <tr style=\"text-align: right;\">\n",
       "      <th></th>\n",
       "      <th>feature1</th>\n",
       "      <th>feature2</th>\n",
       "      <th>feature3</th>\n",
       "      <th>feature4</th>\n",
       "      <th>feature5</th>\n",
       "      <th>feature6</th>\n",
       "      <th>feature7</th>\n",
       "      <th>feature8</th>\n",
       "      <th>feature9</th>\n",
       "      <th>feature10</th>\n",
       "      <th>feature11</th>\n",
       "      <th>feature12</th>\n",
       "      <th>feature13</th>\n",
       "      <th>feature14</th>\n",
       "      <th>feature15</th>\n",
       "      <th>label</th>\n",
       "    </tr>\n",
       "  </thead>\n",
       "  <tbody>\n",
       "    <tr>\n",
       "      <td>feature1</td>\n",
       "      <td>1.000</td>\n",
       "      <td>0.404</td>\n",
       "      <td>0.112</td>\n",
       "      <td>0.786</td>\n",
       "      <td>0.793</td>\n",
       "      <td>-0.170</td>\n",
       "      <td>-0.173</td>\n",
       "      <td>-0.126</td>\n",
       "      <td>0.474</td>\n",
       "      <td>0.531</td>\n",
       "      <td>0.474</td>\n",
       "      <td>0.718</td>\n",
       "      <td>0.355</td>\n",
       "      <td>0.303</td>\n",
       "      <td>0.256</td>\n",
       "      <td>-0.118</td>\n",
       "    </tr>\n",
       "    <tr>\n",
       "      <td>feature2</td>\n",
       "      <td>0.404</td>\n",
       "      <td>1.000</td>\n",
       "      <td>0.014</td>\n",
       "      <td>0.281</td>\n",
       "      <td>0.353</td>\n",
       "      <td>-0.012</td>\n",
       "      <td>-0.002</td>\n",
       "      <td>-0.010</td>\n",
       "      <td>0.069</td>\n",
       "      <td>0.102</td>\n",
       "      <td>0.069</td>\n",
       "      <td>0.172</td>\n",
       "      <td>0.088</td>\n",
       "      <td>0.113</td>\n",
       "      <td>0.050</td>\n",
       "      <td>-0.045</td>\n",
       "    </tr>\n",
       "    <tr>\n",
       "      <td>feature3</td>\n",
       "      <td>0.112</td>\n",
       "      <td>0.014</td>\n",
       "      <td>1.000</td>\n",
       "      <td>0.305</td>\n",
       "      <td>-0.052</td>\n",
       "      <td>0.142</td>\n",
       "      <td>0.161</td>\n",
       "      <td>0.114</td>\n",
       "      <td>0.377</td>\n",
       "      <td>0.371</td>\n",
       "      <td>0.377</td>\n",
       "      <td>0.052</td>\n",
       "      <td>0.168</td>\n",
       "      <td>0.030</td>\n",
       "      <td>0.163</td>\n",
       "      <td>0.031</td>\n",
       "    </tr>\n",
       "    <tr>\n",
       "      <td>feature4</td>\n",
       "      <td>0.786</td>\n",
       "      <td>0.281</td>\n",
       "      <td>0.305</td>\n",
       "      <td>1.000</td>\n",
       "      <td>0.571</td>\n",
       "      <td>-0.228</td>\n",
       "      <td>-0.111</td>\n",
       "      <td>-0.200</td>\n",
       "      <td>0.812</td>\n",
       "      <td>0.849</td>\n",
       "      <td>0.812</td>\n",
       "      <td>0.563</td>\n",
       "      <td>0.419</td>\n",
       "      <td>0.208</td>\n",
       "      <td>0.359</td>\n",
       "      <td>-0.139</td>\n",
       "    </tr>\n",
       "    <tr>\n",
       "      <td>feature5</td>\n",
       "      <td>0.793</td>\n",
       "      <td>0.353</td>\n",
       "      <td>-0.052</td>\n",
       "      <td>0.571</td>\n",
       "      <td>1.000</td>\n",
       "      <td>-0.052</td>\n",
       "      <td>-0.260</td>\n",
       "      <td>0.011</td>\n",
       "      <td>0.060</td>\n",
       "      <td>0.133</td>\n",
       "      <td>0.060</td>\n",
       "      <td>0.792</td>\n",
       "      <td>0.182</td>\n",
       "      <td>0.339</td>\n",
       "      <td>0.065</td>\n",
       "      <td>-0.122</td>\n",
       "    </tr>\n",
       "    <tr>\n",
       "      <td>feature6</td>\n",
       "      <td>-0.170</td>\n",
       "      <td>-0.012</td>\n",
       "      <td>0.142</td>\n",
       "      <td>-0.228</td>\n",
       "      <td>-0.052</td>\n",
       "      <td>1.000</td>\n",
       "      <td>0.208</td>\n",
       "      <td>0.968</td>\n",
       "      <td>-0.288</td>\n",
       "      <td>-0.291</td>\n",
       "      <td>-0.288</td>\n",
       "      <td>-0.054</td>\n",
       "      <td>-0.161</td>\n",
       "      <td>0.007</td>\n",
       "      <td>-0.169</td>\n",
       "      <td>0.092</td>\n",
       "    </tr>\n",
       "    <tr>\n",
       "      <td>feature7</td>\n",
       "      <td>-0.173</td>\n",
       "      <td>-0.002</td>\n",
       "      <td>0.161</td>\n",
       "      <td>-0.111</td>\n",
       "      <td>-0.260</td>\n",
       "      <td>0.208</td>\n",
       "      <td>1.000</td>\n",
       "      <td>-0.035</td>\n",
       "      <td>0.014</td>\n",
       "      <td>-0.002</td>\n",
       "      <td>0.014</td>\n",
       "      <td>-0.301</td>\n",
       "      <td>-0.178</td>\n",
       "      <td>-0.115</td>\n",
       "      <td>-0.142</td>\n",
       "      <td>0.132</td>\n",
       "    </tr>\n",
       "    <tr>\n",
       "      <td>feature8</td>\n",
       "      <td>-0.126</td>\n",
       "      <td>-0.010</td>\n",
       "      <td>0.114</td>\n",
       "      <td>-0.200</td>\n",
       "      <td>0.011</td>\n",
       "      <td>0.968</td>\n",
       "      <td>-0.035</td>\n",
       "      <td>1.000</td>\n",
       "      <td>-0.292</td>\n",
       "      <td>-0.291</td>\n",
       "      <td>-0.292</td>\n",
       "      <td>0.020</td>\n",
       "      <td>-0.114</td>\n",
       "      <td>0.035</td>\n",
       "      <td>-0.131</td>\n",
       "      <td>0.061</td>\n",
       "    </tr>\n",
       "    <tr>\n",
       "      <td>feature9</td>\n",
       "      <td>0.474</td>\n",
       "      <td>0.069</td>\n",
       "      <td>0.377</td>\n",
       "      <td>0.812</td>\n",
       "      <td>0.060</td>\n",
       "      <td>-0.288</td>\n",
       "      <td>0.014</td>\n",
       "      <td>-0.292</td>\n",
       "      <td>1.000</td>\n",
       "      <td>0.996</td>\n",
       "      <td>1.000</td>\n",
       "      <td>0.213</td>\n",
       "      <td>0.410</td>\n",
       "      <td>0.035</td>\n",
       "      <td>0.413</td>\n",
       "      <td>-0.074</td>\n",
       "    </tr>\n",
       "    <tr>\n",
       "      <td>feature10</td>\n",
       "      <td>0.531</td>\n",
       "      <td>0.102</td>\n",
       "      <td>0.371</td>\n",
       "      <td>0.849</td>\n",
       "      <td>0.133</td>\n",
       "      <td>-0.291</td>\n",
       "      <td>-0.002</td>\n",
       "      <td>-0.291</td>\n",
       "      <td>0.996</td>\n",
       "      <td>1.000</td>\n",
       "      <td>0.996</td>\n",
       "      <td>0.268</td>\n",
       "      <td>0.421</td>\n",
       "      <td>0.061</td>\n",
       "      <td>0.414</td>\n",
       "      <td>-0.081</td>\n",
       "    </tr>\n",
       "    <tr>\n",
       "      <td>feature11</td>\n",
       "      <td>0.474</td>\n",
       "      <td>0.069</td>\n",
       "      <td>0.377</td>\n",
       "      <td>0.812</td>\n",
       "      <td>0.060</td>\n",
       "      <td>-0.288</td>\n",
       "      <td>0.014</td>\n",
       "      <td>-0.292</td>\n",
       "      <td>1.000</td>\n",
       "      <td>0.996</td>\n",
       "      <td>1.000</td>\n",
       "      <td>0.213</td>\n",
       "      <td>0.410</td>\n",
       "      <td>0.035</td>\n",
       "      <td>0.413</td>\n",
       "      <td>-0.074</td>\n",
       "    </tr>\n",
       "    <tr>\n",
       "      <td>feature12</td>\n",
       "      <td>0.718</td>\n",
       "      <td>0.172</td>\n",
       "      <td>0.052</td>\n",
       "      <td>0.563</td>\n",
       "      <td>0.792</td>\n",
       "      <td>-0.054</td>\n",
       "      <td>-0.301</td>\n",
       "      <td>0.020</td>\n",
       "      <td>0.213</td>\n",
       "      <td>0.268</td>\n",
       "      <td>0.213</td>\n",
       "      <td>1.000</td>\n",
       "      <td>0.269</td>\n",
       "      <td>0.293</td>\n",
       "      <td>0.172</td>\n",
       "      <td>-0.108</td>\n",
       "    </tr>\n",
       "    <tr>\n",
       "      <td>feature13</td>\n",
       "      <td>0.355</td>\n",
       "      <td>0.088</td>\n",
       "      <td>0.168</td>\n",
       "      <td>0.419</td>\n",
       "      <td>0.182</td>\n",
       "      <td>-0.161</td>\n",
       "      <td>-0.178</td>\n",
       "      <td>-0.114</td>\n",
       "      <td>0.410</td>\n",
       "      <td>0.421</td>\n",
       "      <td>0.410</td>\n",
       "      <td>0.269</td>\n",
       "      <td>1.000</td>\n",
       "      <td>0.275</td>\n",
       "      <td>0.936</td>\n",
       "      <td>-0.058</td>\n",
       "    </tr>\n",
       "    <tr>\n",
       "      <td>feature14</td>\n",
       "      <td>0.303</td>\n",
       "      <td>0.113</td>\n",
       "      <td>0.030</td>\n",
       "      <td>0.208</td>\n",
       "      <td>0.339</td>\n",
       "      <td>0.007</td>\n",
       "      <td>-0.115</td>\n",
       "      <td>0.035</td>\n",
       "      <td>0.035</td>\n",
       "      <td>0.061</td>\n",
       "      <td>0.035</td>\n",
       "      <td>0.293</td>\n",
       "      <td>0.275</td>\n",
       "      <td>1.000</td>\n",
       "      <td>-0.081</td>\n",
       "      <td>-0.046</td>\n",
       "    </tr>\n",
       "    <tr>\n",
       "      <td>feature15</td>\n",
       "      <td>0.256</td>\n",
       "      <td>0.050</td>\n",
       "      <td>0.163</td>\n",
       "      <td>0.359</td>\n",
       "      <td>0.065</td>\n",
       "      <td>-0.169</td>\n",
       "      <td>-0.142</td>\n",
       "      <td>-0.131</td>\n",
       "      <td>0.413</td>\n",
       "      <td>0.414</td>\n",
       "      <td>0.413</td>\n",
       "      <td>0.172</td>\n",
       "      <td>0.936</td>\n",
       "      <td>-0.081</td>\n",
       "      <td>1.000</td>\n",
       "      <td>-0.044</td>\n",
       "    </tr>\n",
       "    <tr>\n",
       "      <td>label</td>\n",
       "      <td>-0.118</td>\n",
       "      <td>-0.045</td>\n",
       "      <td>0.031</td>\n",
       "      <td>-0.139</td>\n",
       "      <td>-0.122</td>\n",
       "      <td>0.092</td>\n",
       "      <td>0.132</td>\n",
       "      <td>0.061</td>\n",
       "      <td>-0.074</td>\n",
       "      <td>-0.081</td>\n",
       "      <td>-0.074</td>\n",
       "      <td>-0.108</td>\n",
       "      <td>-0.058</td>\n",
       "      <td>-0.046</td>\n",
       "      <td>-0.044</td>\n",
       "      <td>1.000</td>\n",
       "    </tr>\n",
       "  </tbody>\n",
       "</table>\n",
       "</div>"
      ],
      "text/plain": [
       "           feature1  feature2  feature3  feature4  feature5  feature6  \\\n",
       "feature1      1.000     0.404     0.112     0.786     0.793    -0.170   \n",
       "feature2      0.404     1.000     0.014     0.281     0.353    -0.012   \n",
       "feature3      0.112     0.014     1.000     0.305    -0.052     0.142   \n",
       "feature4      0.786     0.281     0.305     1.000     0.571    -0.228   \n",
       "feature5      0.793     0.353    -0.052     0.571     1.000    -0.052   \n",
       "feature6     -0.170    -0.012     0.142    -0.228    -0.052     1.000   \n",
       "feature7     -0.173    -0.002     0.161    -0.111    -0.260     0.208   \n",
       "feature8     -0.126    -0.010     0.114    -0.200     0.011     0.968   \n",
       "feature9      0.474     0.069     0.377     0.812     0.060    -0.288   \n",
       "feature10     0.531     0.102     0.371     0.849     0.133    -0.291   \n",
       "feature11     0.474     0.069     0.377     0.812     0.060    -0.288   \n",
       "feature12     0.718     0.172     0.052     0.563     0.792    -0.054   \n",
       "feature13     0.355     0.088     0.168     0.419     0.182    -0.161   \n",
       "feature14     0.303     0.113     0.030     0.208     0.339     0.007   \n",
       "feature15     0.256     0.050     0.163     0.359     0.065    -0.169   \n",
       "label        -0.118    -0.045     0.031    -0.139    -0.122     0.092   \n",
       "\n",
       "           feature7  feature8  feature9  feature10  feature11  feature12  \\\n",
       "feature1     -0.173    -0.126     0.474      0.531      0.474      0.718   \n",
       "feature2     -0.002    -0.010     0.069      0.102      0.069      0.172   \n",
       "feature3      0.161     0.114     0.377      0.371      0.377      0.052   \n",
       "feature4     -0.111    -0.200     0.812      0.849      0.812      0.563   \n",
       "feature5     -0.260     0.011     0.060      0.133      0.060      0.792   \n",
       "feature6      0.208     0.968    -0.288     -0.291     -0.288     -0.054   \n",
       "feature7      1.000    -0.035     0.014     -0.002      0.014     -0.301   \n",
       "feature8     -0.035     1.000    -0.292     -0.291     -0.292      0.020   \n",
       "feature9      0.014    -0.292     1.000      0.996      1.000      0.213   \n",
       "feature10    -0.002    -0.291     0.996      1.000      0.996      0.268   \n",
       "feature11     0.014    -0.292     1.000      0.996      1.000      0.213   \n",
       "feature12    -0.301     0.020     0.213      0.268      0.213      1.000   \n",
       "feature13    -0.178    -0.114     0.410      0.421      0.410      0.269   \n",
       "feature14    -0.115     0.035     0.035      0.061      0.035      0.293   \n",
       "feature15    -0.142    -0.131     0.413      0.414      0.413      0.172   \n",
       "label         0.132     0.061    -0.074     -0.081     -0.074     -0.108   \n",
       "\n",
       "           feature13  feature14  feature15  label  \n",
       "feature1       0.355      0.303      0.256 -0.118  \n",
       "feature2       0.088      0.113      0.050 -0.045  \n",
       "feature3       0.168      0.030      0.163  0.031  \n",
       "feature4       0.419      0.208      0.359 -0.139  \n",
       "feature5       0.182      0.339      0.065 -0.122  \n",
       "feature6      -0.161      0.007     -0.169  0.092  \n",
       "feature7      -0.178     -0.115     -0.142  0.132  \n",
       "feature8      -0.114      0.035     -0.131  0.061  \n",
       "feature9       0.410      0.035      0.413 -0.074  \n",
       "feature10      0.421      0.061      0.414 -0.081  \n",
       "feature11      0.410      0.035      0.413 -0.074  \n",
       "feature12      0.269      0.293      0.172 -0.108  \n",
       "feature13      1.000      0.275      0.936 -0.058  \n",
       "feature14      0.275      1.000     -0.081 -0.046  \n",
       "feature15      0.936     -0.081      1.000 -0.044  \n",
       "label         -0.058     -0.046     -0.044  1.000  "
      ]
     },
     "execution_count": 8,
     "metadata": {},
     "output_type": "execute_result"
    }
   ],
   "source": [
    "corr_between_features_and_label"
   ]
  },
  {
   "cell_type": "markdown",
   "metadata": {},
   "source": [
    "Below bar charts show correlation value (Positive/Negative) between features and label, returns, close price and open price."
   ]
  },
  {
   "cell_type": "code",
   "execution_count": 9,
   "metadata": {},
   "outputs": [
    {
     "data": {
      "image/png": "[encoded data removed]",
      "text/plain": [
       "<Figure size 720x432 with 1 Axes>"
      ]
     },
     "metadata": {},
     "output_type": "display_data"
    }
   ],
   "source": [
    "with plt.style.context(('seaborn', 'ggplot')):\n",
    "    fig = plt.figure(figsize=(10, 6))\n",
    "    corr_between_features_and_label.loc['label',].drop('label').plot(kind='bar', width=0.8, title='Correlation between features and labels')\n",
    "    plt.tight_layout()"
   ]
  },
  {
   "cell_type": "markdown",
   "metadata": {},
   "source": [
    "Below heatmaps shows correlation between various features and label, returns and close price."
   ]
  },
  {
   "cell_type": "code",
   "execution_count": 10,
   "metadata": {},
   "outputs": [
    {
     "data": {
      "image/png": "[encoded data removed]",
      "text/plain": [
       "<Figure size 576x576 with 2 Axes>"
      ]
     },
     "metadata": {},
     "output_type": "display_data"
    }
   ],
   "source": [
    "def plot_correlation_matrix(df, titl):\n",
    "    plt.imshow(df.values, cmap=plt.cm.Blues)\n",
    "    plt.xticks(range(df.shape[0]), df.columns, rotation='vertical')\n",
    "    plt.yticks(range(df.shape[0]), df.columns)\n",
    "    plt.title(titl)\n",
    "    plt.colorbar()\n",
    "    plt.grid(None)\n",
    "    for i in range(0,df.shape[0]):\n",
    "        for j in range(0, df.shape[0]):\n",
    "            if df.values[i, j] < 0:\n",
    "                plt.text(i-0.4, j+0.1, '%.1f'%df.values[i, j], color='tab:red', fontsize=10);\n",
    "            else:\n",
    "                plt.text(i-0.3, j+0.1, '%.1f'%df.values[i, j], color='tab:red', fontsize=10);\n",
    "                \n",
    "plt.rcParams['xtick.bottom'] = plt.rcParams['xtick.labelbottom'] = False\n",
    "plt.rcParams['xtick.top'] = plt.rcParams['xtick.labeltop'] = True\n",
    "\n",
    "with plt.style.context(('seaborn', 'ggplot')):\n",
    "    fig = plt.figure(figsize=(8, 8))\n",
    "    plot_correlation_matrix(corr_between_features_and_label, 'Correlation between All Features and Label')\n",
    "    plt.tight_layout()\n",
    "    \n",
    "plt.rcParams['xtick.bottom'] = plt.rcParams['xtick.labelbottom'] = True\n",
    "plt.rcParams['xtick.top'] = plt.rcParams['xtick.labeltop'] = False"
   ]
  },
  {
   "cell_type": "markdown",
   "metadata": {},
   "source": [
    "## P-value For Label, Returns and Close Price\n",
    "Below we have plotted p-value and f-classif/f-regression values. Lower p-values generally indicates that that feature has high relation with target variable."
   ]
  },
  {
   "cell_type": "code",
   "execution_count": 11,
   "metadata": {},
   "outputs": [
    {
     "data": {
      "image/png": "[encoded data removed]",
      "text/plain": [
       "<Figure size 1080x360 with 2 Axes>"
      ]
     },
     "metadata": {},
     "output_type": "display_data"
    }
   ],
   "source": [
    "X = data_latest[['feature1', 'feature2', 'feature3', 'feature4', 'feature5', 'feature6', 'feature7', 'feature8', 'feature9', 'feature10', 'feature11', 'feature12', 'feature13', 'feature14', 'feature15']]\n",
    "Y = data_latest['label'].values\n",
    "\n",
    "F_classif, p_value_classif = f_classif(X, Y)\n",
    "\n",
    "with plt.style.context(('seaborn', 'ggplot')):\n",
    "    plt.figure(figsize=(15,5))\n",
    "    plt.subplot(121)\n",
    "    plt.plot(p_value_classif, 'o', c = 'tab:green')\n",
    "    plt.xticks(range(X.shape[1]), ['feature' +str(i) for i in range(1, X.shape[1]+1)], rotation='vertical')\n",
    "    plt.title('P Values Of Classification')\n",
    "    plt.subplot(122)\n",
    "    plt.plot(F_classif, 'o', c = 'tab:red')\n",
    "    plt.xticks(range(X.shape[1]), ['feature' +str(i) for i in range(1, X.shape[1]+1)], rotation='vertical')\n",
    "    plt.title('F Values Of Classification');\n",
    "    plt.tight_layout()    "
   ]
  },
  {
   "cell_type": "markdown",
   "metadata": {},
   "source": [
    "# Dividing Data Into Train/Test Sets\n",
    "We have selected 15 features are our main features for prediction and label column as predicting column. We'll divide dataset into `90%` for training and `10%` for test."
   ]
  },
  {
   "cell_type": "code",
   "execution_count": 12,
   "metadata": {},
   "outputs": [
    {
     "name": "stdout",
     "output_type": "stream",
     "text": [
      "Train/Test Sizes :  (2475, 15) (276, 15) (2475,) (276,)\n",
      "Train/Test Sizes :  (4650, 15) (276, 15) (4650,) (276,)\n"
     ]
    }
   ],
   "source": [
    "X = data_latest[['feature1', 'feature2', 'feature3', 'feature4', 'feature5', 'feature6', 'feature7', 'feature8', 'feature9', 'feature10', 'feature11', 'feature12', 'feature13', 'feature14', 'feature15']].values\n",
    "Y = data_latest['label'].values\n",
    "\n",
    "X_train, X_test, Y_train, Y_test = train_test_split(X, Y, train_size=0.9, test_size=0.1, shuffle=False)\n",
    "\n",
    "print('Train/Test Sizes : ', X_train.shape, X_test.shape, Y_train.shape, Y_test.shape)\n",
    "sm = SMOTE()\n",
    "X_train, Y_train = sm.fit_sample(X_train, Y_train)\n",
    "\n",
    "print('Train/Test Sizes : ', X_train.shape, X_test.shape, Y_train.shape, Y_test.shape)"
   ]
  },
  {
   "cell_type": "code",
   "execution_count": 13,
   "metadata": {},
   "outputs": [
    {
     "data": {
      "text/plain": [
       "(Counter({0: 2325, 1: 2325}), Counter({0: 250, 1: 26}))"
      ]
     },
     "execution_count": 13,
     "metadata": {},
     "output_type": "execute_result"
    }
   ],
   "source": [
    "Counter(Y_train), Counter(Y_test)"
   ]
  },
  {
   "cell_type": "markdown",
   "metadata": {},
   "source": [
    "### Visualisation Generic Functions\n",
    "Below we have designed 2 function which will help up print various results.\n",
    "\n",
    "1. `plot_confusion_matrix` - Plots confusion matrix given actual values and predictions\n",
    "2. `plot_loss_and_accuracy` - Plots train/val loss and train/val accuracy for classification task and train/val MSE for regression task."
   ]
  },
  {
   "cell_type": "code",
   "execution_count": 14,
   "metadata": {},
   "outputs": [],
   "source": [
    "def plot_confusion_matrix(actuals, preds):\n",
    "    conf_mat = confusion_matrix(Y_test, predictions)\n",
    "    with plt.style.context(('seaborn', 'ggplot')):\n",
    "        fig = plt.figure(figsize=(5,5))\n",
    "        plt.matshow(conf_mat, cmap=plt.cm.Blues, fignum=1)\n",
    "        plt.grid(None)\n",
    "        plt.xticks([0,1], [0, 1])\n",
    "        plt.yticks([0,1], [0, 1])\n",
    "        plt.ylabel('Actual')\n",
    "        plt.xlabel('Prediction')\n",
    "        plt.colorbar();\n",
    "        for i in range(conf_mat.shape[0]):\n",
    "            for j in range(conf_mat.shape[1]):\n",
    "                plt.text(j, i, str(conf_mat[i, j]), horizontalalignment='center', verticalalignment='center', fontsize=12, color='red')\n",
    "                \n",
    "def plot_loss_and_accuracy(hist, prob_type='classification'):\n",
    "    with plt.style.context(('seaborn', 'ggplot')):\n",
    "        plt.figure(figsize=(15,5))\n",
    "        plt.subplot(121)\n",
    "        plt.plot(hist.history['loss'], label='Train Loss')\n",
    "        plt.plot(hist.history['val_loss'], label='Val Loss')\n",
    "        plt.xlabel('Epochs')\n",
    "        plt.ylabel('Loss')\n",
    "        plt.legend(loc='best')\n",
    "        \n",
    "        if prob_type=='classification':\n",
    "            plt.subplot(122)\n",
    "            plt.plot(hist.history['accuracy'], label='Train Accuracy')\n",
    "            plt.plot(hist.history['val_accuracy'], label='Val Accuracy')\n",
    "            plt.xlabel('Epochs')\n",
    "            plt.ylabel('Accuracy')\n",
    "            plt.legend(loc='best')\n",
    "        elif prob_type=='regression':\n",
    "            plt.subplot(122)\n",
    "            plt.plot(hist.history['mse'], label='Train MSE')\n",
    "            plt.plot(hist.history['val_mse'], label='Val MSE')\n",
    "            plt.xlabel('Epochs')\n",
    "            plt.ylabel('MSE')\n",
    "            plt.legend(loc='best')"
   ]
  },
  {
   "cell_type": "markdown",
   "metadata": {},
   "source": [
    "# DenseNet v1\n",
    "Below dense model consist of 4 dense layers with dimensions 128, 64,32,1 respectively. For internal layers we have selected activation function as relu. Last layer has activation function as sigmoid because its classification problem."
   ]
  },
  {
   "cell_type": "code",
   "execution_count": 15,
   "metadata": {},
   "outputs": [
    {
     "name": "stdout",
     "output_type": "stream",
     "text": [
      "Model: \"sequential_1\"\n",
      "_________________________________________________________________\n",
      "Layer (type)                 Output Shape              Param #   \n",
      "=================================================================\n",
      "dense_1 (Dense)              (None, 128)               2048      \n",
      "_________________________________________________________________\n",
      "dense_2 (Dense)              (None, 64)                8256      \n",
      "_________________________________________________________________\n",
      "dense_3 (Dense)              (None, 32)                2080      \n",
      "_________________________________________________________________\n",
      "dense_4 (Dense)              (None, 1)                 33        \n",
      "=================================================================\n",
      "Total params: 12,417\n",
      "Trainable params: 12,417\n",
      "Non-trainable params: 0\n",
      "_________________________________________________________________\n",
      "None\n"
     ]
    }
   ],
   "source": [
    "dense_model1 = Sequential([ Dense(128, activation='relu', input_shape=(X_train.shape[1],)),\n",
    "                     Dense(64,  activation='relu'),\n",
    "                     Dense(32,  activation='relu'),\n",
    "                     Dense(1,   activation='sigmoid')])\n",
    "\n",
    "print(dense_model1.summary())"
   ]
  },
  {
   "cell_type": "markdown",
   "metadata": {},
   "source": [
    "## Compiling Model\n",
    "Compiling Model involves setting optimizers to use, loss and evaluation metrics."
   ]
  },
  {
   "cell_type": "code",
   "execution_count": 16,
   "metadata": {},
   "outputs": [],
   "source": [
    "dense_model1.compile('adam', loss='binary_crossentropy', metrics = ['accuracy'])"
   ]
  },
  {
   "cell_type": "markdown",
   "metadata": {},
   "source": [
    "## Fitting Model\n",
    "Below we are fitting model with batch size of 4 for 25 epochs. We'll use 10% of train data as validation data for evaluation of performance during training."
   ]
  },
  {
   "cell_type": "code",
   "execution_count": 17,
   "metadata": {},
   "outputs": [
    {
     "name": "stdout",
     "output_type": "stream",
     "text": [
      "Train on 4185 samples, validate on 465 samples\n",
      "Epoch 1/10\n",
      "4185/4185 [==============================] - 3s 597us/step - loss: 0.6846 - accuracy: 0.6041 - val_loss: 0.7190 - val_accuracy: 0.4624\n",
      "Epoch 2/10\n",
      "4185/4185 [==============================] - 2s 501us/step - loss: 0.6527 - accuracy: 0.6327 - val_loss: 0.8393 - val_accuracy: 0.3699\n",
      "Epoch 3/10\n",
      "4185/4185 [==============================] - 2s 500us/step - loss: 0.6397 - accuracy: 0.6397 - val_loss: 1.0498 - val_accuracy: 0.0688\n",
      "Epoch 4/10\n",
      "4185/4185 [==============================] - 2s 502us/step - loss: 0.6326 - accuracy: 0.6375 - val_loss: 0.7388 - val_accuracy: 0.4624\n",
      "Epoch 5/10\n",
      "4185/4185 [==============================] - 2s 500us/step - loss: 0.6155 - accuracy: 0.6566 - val_loss: 0.7410 - val_accuracy: 0.4731\n",
      "Epoch 6/10\n",
      "4185/4185 [==============================] - 2s 552us/step - loss: 0.5811 - accuracy: 0.6786 - val_loss: 0.5425 - val_accuracy: 0.7892\n",
      "Epoch 7/10\n",
      "4185/4185 [==============================] - 2s 510us/step - loss: 0.5470 - accuracy: 0.7039 - val_loss: 0.6371 - val_accuracy: 0.6538\n",
      "Epoch 8/10\n",
      "4185/4185 [==============================] - 2s 500us/step - loss: 0.5244 - accuracy: 0.7140 - val_loss: 0.5196 - val_accuracy: 0.8129\n",
      "Epoch 9/10\n",
      "4185/4185 [==============================] - 2s 490us/step - loss: 0.4952 - accuracy: 0.7498 - val_loss: 0.4893 - val_accuracy: 0.8215\n",
      "Epoch 10/10\n",
      "4185/4185 [==============================] - 2s 494us/step - loss: 0.4732 - accuracy: 0.7665 - val_loss: 0.4979 - val_accuracy: 0.8151\n"
     ]
    }
   ],
   "source": [
    "history = dense_model1.fit(X_train, Y_train, batch_size=4, epochs=10, validation_split=0.1, use_multiprocessing=True);"
   ]
  },
  {
   "cell_type": "markdown",
   "metadata": {},
   "source": [
    "## Visualizing Training Stage Results"
   ]
  },
  {
   "cell_type": "code",
   "execution_count": 18,
   "metadata": {},
   "outputs": [
    {
     "data": {
      "image/png": "[encoded data removed]",
      "text/plain": [
       "<Figure size 1080x360 with 2 Axes>"
      ]
     },
     "metadata": {},
     "output_type": "display_data"
    }
   ],
   "source": [
    "plot_loss_and_accuracy(history)"
   ]
  },
  {
   "cell_type": "markdown",
   "metadata": {},
   "source": [
    "## Performance Evaluation on Test Data"
   ]
  },
  {
   "cell_type": "code",
   "execution_count": 19,
   "metadata": {},
   "outputs": [
    {
     "name": "stdout",
     "output_type": "stream",
     "text": [
      "Accuracy : 0.591\n"
     ]
    }
   ],
   "source": [
    "predictions = dense_model1.predict_classes(X_test)\n",
    "print('Accuracy : %.3f'%accuracy_score(Y_test, predictions))"
   ]
  },
  {
   "cell_type": "code",
   "execution_count": 20,
   "metadata": {},
   "outputs": [
    {
     "name": "stdout",
     "output_type": "stream",
     "text": [
      "Accuracy : 0.726\n"
     ]
    }
   ],
   "source": [
    "predictions_full = dense_model1.predict_classes(X)\n",
    "print('Accuracy : %.3f'%accuracy_score(Y, predictions_full))"
   ]
  },
  {
   "cell_type": "code",
   "execution_count": 21,
   "metadata": {},
   "outputs": [],
   "source": [
    "softmax_vals = dense_model1.predict_proba(X)\n",
    "df1 = copy.deepcopy(data_latest)\n",
    "df1['Preds'] = predictions_full\n",
    "zero_prob, one_prob = [], []\n",
    "for val in softmax_vals:\n",
    "    if val[0] <= 0.5:\n",
    "        zero_prob.append(1-val[0])\n",
    "        one_prob.append(val[0])\n",
    "    else:\n",
    "        one_prob.append(val[0])\n",
    "        zero_prob.append(1-val[0])\n",
    "\n",
    "df1['0_prob'] = zero_prob\n",
    "df1['1_prob'] = one_prob"
   ]
  },
  {
   "cell_type": "markdown",
   "metadata": {},
   "source": [
    "## Printing/Plotting Classification Metrics"
   ]
  },
  {
   "cell_type": "code",
   "execution_count": 22,
   "metadata": {},
   "outputs": [
    {
     "name": "stdout",
     "output_type": "stream",
     "text": [
      "Classification Report : \n",
      "               precision    recall  f1-score   support\n",
      "\n",
      "           0       0.94      0.59      0.72       250\n",
      "           1       0.13      0.62      0.22        26\n",
      "\n",
      "    accuracy                           0.59       276\n",
      "   macro avg       0.54      0.60      0.47       276\n",
      "weighted avg       0.86      0.59      0.68       276\n",
      "\n",
      "Confusion Matrix : \n",
      " [[147 103]\n",
      " [ 10  16]]\n"
     ]
    },
    {
     "data": {
      "image/png": "[encoded data removed]",
      "text/plain": [
       "<Figure size 360x360 with 2 Axes>"
      ]
     },
     "metadata": {},
     "output_type": "display_data"
    }
   ],
   "source": [
    "results = []\n",
    "def print_plot_metrics(model_name, actual_rets_test, Y_test, predictions):\n",
    "    print('Classification Report : \\n',classification_report(Y_test, predictions))\n",
    "    print('Confusion Matrix : \\n', confusion_matrix(Y_test, predictions))\n",
    "    plot_confusion_matrix(Y_test, predictions)\n",
    "\n",
    "print_plot_metrics('DenseNetv1', None, Y_test, predictions)"
   ]
  },
  {
   "cell_type": "markdown",
   "metadata": {},
   "source": [
    "## Visualising Weights\n",
    "Below we are visualising average weights of first layer which has same shape as that of number of features."
   ]
  },
  {
   "cell_type": "code",
   "execution_count": 23,
   "metadata": {},
   "outputs": [
    {
     "name": "stdout",
     "output_type": "stream",
     "text": [
      "Layer : Dense : Weights : (15, 128)\n",
      "Layer : Dense : Bias : (128,)\n",
      "Layer : Dense : Weights : (128, 64)\n",
      "Layer : Dense : Bias : (64,)\n",
      "Layer : Dense : Weights : (64, 32)\n",
      "Layer : Dense : Bias : (32,)\n",
      "Layer : Dense : Weights : (32, 1)\n",
      "Layer : Dense : Bias : (1,)\n"
     ]
    },
    {
     "data": {
      "image/png": "[encoded data removed]",
      "text/plain": [
       "<Figure size 576x396 with 1 Axes>"
      ]
     },
     "metadata": {},
     "output_type": "display_data"
    }
   ],
   "source": [
    "def print_weights_per_layer(model):\n",
    "    weights = model.get_weights()\n",
    "    layers = [layer for layer in model.layers if layer.__class__.__name__ != 'Dropout']\n",
    "\n",
    "    i = 0\n",
    "    for layer in layers:\n",
    "        if layer.__class__.__name__ =='Dense':\n",
    "            print('Layer : %s : Weights : %s'%(layer.__class__.__name__, weights[i].shape))\n",
    "            print('Layer : %s : Bias : %s'%(layer.__class__.__name__, weights[i+1].shape))\n",
    "            i = i+2\n",
    "        else:\n",
    "            print('Layer : %s : Weights : %s'%(layer.__class__.__name__, weights[i].shape))\n",
    "            i = i+1\n",
    "\n",
    "print_weights_per_layer(dense_model1)\n",
    "\n",
    "dense_weights = dense_model1.get_weights()\n",
    "important_weights = dense_weights[0].mean(axis=1)\n",
    "\n",
    "with plt.style.context(('seaborn','ggplot')):\n",
    "    plt.bar(x=['feature'+str(i) for i in range(1,16)], height=important_weights, width=0.8)\n",
    "    plt.xticks(rotation='vertical')"
   ]
  },
  {
   "cell_type": "markdown",
   "metadata": {},
   "source": [
    "# DenseNet v2\n",
    "Below we have deisigned another dense net model which has 6 layers of shapes 512,256,128,64,32 and 1 respectively. We have used relu as activation function for internal layers and sigmoid for last layer. We also have used Dropout of 20% this time between each layer to see whether it help improve performance."
   ]
  },
  {
   "cell_type": "code",
   "execution_count": 24,
   "metadata": {},
   "outputs": [
    {
     "name": "stdout",
     "output_type": "stream",
     "text": [
      "Model: \"sequential_2\"\n",
      "_________________________________________________________________\n",
      "Layer (type)                 Output Shape              Param #   \n",
      "=================================================================\n",
      "dense_5 (Dense)              (None, 512)               8192      \n",
      "_________________________________________________________________\n",
      "dropout_1 (Dropout)          (None, 512)               0         \n",
      "_________________________________________________________________\n",
      "dense_6 (Dense)              (None, 256)               131328    \n",
      "_________________________________________________________________\n",
      "dropout_2 (Dropout)          (None, 256)               0         \n",
      "_________________________________________________________________\n",
      "dense_7 (Dense)              (None, 128)               32896     \n",
      "_________________________________________________________________\n",
      "dropout_3 (Dropout)          (None, 128)               0         \n",
      "_________________________________________________________________\n",
      "dense_8 (Dense)              (None, 64)                8256      \n",
      "_________________________________________________________________\n",
      "dropout_4 (Dropout)          (None, 64)                0         \n",
      "_________________________________________________________________\n",
      "dense_9 (Dense)              (None, 32)                2080      \n",
      "_________________________________________________________________\n",
      "dropout_5 (Dropout)          (None, 32)                0         \n",
      "_________________________________________________________________\n",
      "dense_10 (Dense)             (None, 1)                 33        \n",
      "=================================================================\n",
      "Total params: 182,785\n",
      "Trainable params: 182,785\n",
      "Non-trainable params: 0\n",
      "_________________________________________________________________\n",
      "None\n"
     ]
    }
   ],
   "source": [
    "dense_model2 = Sequential([ \n",
    "                     Dense(512, activation='relu', input_shape=(X_train.shape[1],)),\n",
    "                     Dropout(0.5),\n",
    "                     Dense(256,  activation='relu'),\n",
    "                     Dropout(0.5),\n",
    "                     Dense(128,  activation='relu'),\n",
    "                     Dropout(0.5),\n",
    "                     Dense(64,  activation='relu'),\n",
    "                     Dropout(0.5),\n",
    "                     Dense(32,  activation='relu'),\n",
    "                     Dropout(0.5),\n",
    "                     Dense(1,   activation='sigmoid')])\n",
    "\n",
    "print(dense_model2.summary())"
   ]
  },
  {
   "cell_type": "markdown",
   "metadata": {},
   "source": [
    "## Compiling Model"
   ]
  },
  {
   "cell_type": "code",
   "execution_count": 25,
   "metadata": {},
   "outputs": [],
   "source": [
    "dense_model2.compile('adam', loss='binary_crossentropy', metrics = ['accuracy'])"
   ]
  },
  {
   "cell_type": "markdown",
   "metadata": {},
   "source": [
    "## Fitting Model"
   ]
  },
  {
   "cell_type": "code",
   "execution_count": 26,
   "metadata": {},
   "outputs": [
    {
     "name": "stdout",
     "output_type": "stream",
     "text": [
      "Train on 4185 samples, validate on 465 samples\n",
      "Epoch 1/10\n",
      "4185/4185 [==============================] - 6s 1ms/step - loss: 1.1949 - accuracy: 0.5159 - val_loss: 0.7357 - val_accuracy: 0.0000e+00\n",
      "Epoch 2/10\n",
      "4185/4185 [==============================] - 5s 1ms/step - loss: 0.7180 - accuracy: 0.5269 - val_loss: 0.7402 - val_accuracy: 0.0000e+00\n",
      "Epoch 3/10\n",
      "4185/4185 [==============================] - 5s 1ms/step - loss: 0.6994 - accuracy: 0.5458 - val_loss: 0.7632 - val_accuracy: 0.0000e+00\n",
      "Epoch 4/10\n",
      "4185/4185 [==============================] - 5s 1ms/step - loss: 0.6909 - accuracy: 0.5553 - val_loss: 0.7642 - val_accuracy: 0.0000e+00\n",
      "Epoch 5/10\n",
      "4185/4185 [==============================] - 5s 1ms/step - loss: 0.6903 - accuracy: 0.5584 - val_loss: 0.7679 - val_accuracy: 0.0000e+00\n",
      "Epoch 6/10\n",
      "4185/4185 [==============================] - 5s 1ms/step - loss: 0.6854 - accuracy: 0.5603 - val_loss: 0.7377 - val_accuracy: 0.0022\n",
      "Epoch 7/10\n",
      "4185/4185 [==============================] - 5s 1ms/step - loss: 0.6854 - accuracy: 0.5706 - val_loss: 0.8034 - val_accuracy: 0.1032\n",
      "Epoch 8/10\n",
      "4185/4185 [==============================] - 5s 1ms/step - loss: 0.6850 - accuracy: 0.5654 - val_loss: 0.8098 - val_accuracy: 0.0000e+00\n",
      "Epoch 9/10\n",
      "4185/4185 [==============================] - 5s 1ms/step - loss: 0.6839 - accuracy: 0.5687 - val_loss: 0.7623 - val_accuracy: 0.0000e+00\n",
      "Epoch 10/10\n",
      "4185/4185 [==============================] - 5s 1ms/step - loss: 0.6791 - accuracy: 0.5728 - val_loss: 0.7475 - val_accuracy: 0.1806\n"
     ]
    }
   ],
   "source": [
    "history = dense_model2.fit(X_train, Y_train, batch_size=4, epochs=10, validation_split=0.1, use_multiprocessing=True);"
   ]
  },
  {
   "cell_type": "markdown",
   "metadata": {},
   "source": [
    "## Visualising Training Stage Results"
   ]
  },
  {
   "cell_type": "code",
   "execution_count": 27,
   "metadata": {},
   "outputs": [
    {
     "data": {
      "image/png": "[encoded data removed]",
      "text/plain": [
       "<Figure size 1080x360 with 2 Axes>"
      ]
     },
     "metadata": {},
     "output_type": "display_data"
    }
   ],
   "source": [
    "plot_loss_and_accuracy(history)"
   ]
  },
  {
   "cell_type": "markdown",
   "metadata": {},
   "source": [
    "## Performance Evaluation on Test Data"
   ]
  },
  {
   "cell_type": "code",
   "execution_count": 28,
   "metadata": {},
   "outputs": [
    {
     "name": "stdout",
     "output_type": "stream",
     "text": [
      "Accuracy : 0.793\n"
     ]
    }
   ],
   "source": [
    "predictions = dense_model2.predict_classes(X_test)\n",
    "print('Accuracy : %.3f'%accuracy_score(Y_test, predictions))"
   ]
  },
  {
   "cell_type": "code",
   "execution_count": 29,
   "metadata": {},
   "outputs": [
    {
     "name": "stdout",
     "output_type": "stream",
     "text": [
      "Accuracy : 0.895\n"
     ]
    }
   ],
   "source": [
    "predictions_full = dense_model2.predict_classes(X)\n",
    "print('Accuracy : %.3f'%accuracy_score(Y, predictions_full))"
   ]
  },
  {
   "cell_type": "code",
   "execution_count": 30,
   "metadata": {},
   "outputs": [],
   "source": [
    "softmax_vals = dense_model2.predict_proba(X)\n",
    "df2 = copy.deepcopy(data_latest)\n",
    "df2['Preds'] = predictions_full\n",
    "zero_prob, one_prob = [], []\n",
    "for val in softmax_vals:\n",
    "    if val[0] <= 0.5:\n",
    "        zero_prob.append(1-val[0])\n",
    "        one_prob.append(val[0])\n",
    "    else:\n",
    "        one_prob.append(val[0])\n",
    "        zero_prob.append(1-val[0])\n",
    "\n",
    "df2['0_prob'] = zero_prob\n",
    "df2['1_prob'] = one_prob"
   ]
  },
  {
   "cell_type": "markdown",
   "metadata": {},
   "source": [
    "## Printing/Plotting Classification Metrics"
   ]
  },
  {
   "cell_type": "code",
   "execution_count": 31,
   "metadata": {},
   "outputs": [
    {
     "name": "stdout",
     "output_type": "stream",
     "text": [
      "Classification Report : \n",
      "               precision    recall  f1-score   support\n",
      "\n",
      "           0       0.92      0.85      0.88       250\n",
      "           1       0.16      0.27      0.20        26\n",
      "\n",
      "    accuracy                           0.79       276\n",
      "   macro avg       0.54      0.56      0.54       276\n",
      "weighted avg       0.85      0.79      0.82       276\n",
      "\n",
      "Confusion Matrix : \n",
      " [[212  38]\n",
      " [ 19   7]]\n"
     ]
    },
    {
     "data": {
      "image/png": "[encoded data removed]",
      "text/plain": [
       "<Figure size 360x360 with 2 Axes>"
      ]
     },
     "metadata": {},
     "output_type": "display_data"
    }
   ],
   "source": [
    "print_plot_metrics('DenseNetv2', None, Y_test, predictions)"
   ]
  },
  {
   "cell_type": "code",
   "execution_count": 32,
   "metadata": {},
   "outputs": [
    {
     "name": "stdout",
     "output_type": "stream",
     "text": [
      "Layer : Dense : Weights : (15, 512)\n",
      "Layer : Dense : Bias : (512,)\n",
      "Layer : Dense : Weights : (512, 256)\n",
      "Layer : Dense : Bias : (256,)\n",
      "Layer : Dense : Weights : (256, 128)\n",
      "Layer : Dense : Bias : (128,)\n",
      "Layer : Dense : Weights : (128, 64)\n",
      "Layer : Dense : Bias : (64,)\n",
      "Layer : Dense : Weights : (64, 32)\n",
      "Layer : Dense : Bias : (32,)\n",
      "Layer : Dense : Weights : (32, 1)\n",
      "Layer : Dense : Bias : (1,)\n"
     ]
    },
    {
     "data": {
      "image/png": "[encoded data removed]",
      "text/plain": [
       "<Figure size 576x396 with 1 Axes>"
      ]
     },
     "metadata": {},
     "output_type": "display_data"
    }
   ],
   "source": [
    "print_weights_per_layer(dense_model2)\n",
    "\n",
    "dense_weights = dense_model2.get_weights()\n",
    "important_weights = dense_weights[0].mean(axis=1)\n",
    "\n",
    "with plt.style.context(('seaborn','ggplot')):\n",
    "    plt.bar(x=['feature'+str(i) for i in range(1,16)], height=important_weights, width=0.8)\n",
    "    plt.xticks(rotation='vertical')"
   ]
  },
  {
   "cell_type": "markdown",
   "metadata": {},
   "source": [
    "# XGB Booster\n",
    "### Fitting Model"
   ]
  },
  {
   "cell_type": "code",
   "execution_count": 33,
   "metadata": {},
   "outputs": [],
   "source": [
    "dtotal = xgb.DMatrix(data=X, label=Y)\n",
    "dtrain = xgb.DMatrix(data=X_train, label=Y_train)\n",
    "dtest = xgb.DMatrix(data=X_test, label=Y_test)\n",
    "\n",
    "params = {\n",
    "    'n_estimators':250,\n",
    "    'verbosity':1,\n",
    "    'max_depth': 8,\n",
    "    'eta': 0.3,\n",
    "    'objective': 'multi:softprob',  # error evaluation for multiclass training\n",
    "    'num_class': len(set(Y)),\n",
    "}\n",
    "num_round = 20 \n",
    "bst = xgb.train(params, dtrain, num_round)"
   ]
  },
  {
   "cell_type": "markdown",
   "metadata": {},
   "source": [
    "### Performance Evaluation on Test Data"
   ]
  },
  {
   "cell_type": "code",
   "execution_count": 34,
   "metadata": {},
   "outputs": [
    {
     "name": "stdout",
     "output_type": "stream",
     "text": [
      "Accuracy : 0.873\n"
     ]
    }
   ],
   "source": [
    "predictions = bst.predict(dtest)\n",
    "predictions = np.asarray([np.argmax(line) for line in predictions])\n",
    "print('Accuracy : %.3f'%accuracy_score(Y_test, predictions))"
   ]
  },
  {
   "cell_type": "code",
   "execution_count": 35,
   "metadata": {},
   "outputs": [
    {
     "name": "stdout",
     "output_type": "stream",
     "text": [
      "Accuracy : 0.975\n"
     ]
    }
   ],
   "source": [
    "predictions_full = bst.predict(dtotal)\n",
    "predictions_full = np.asarray([np.argmax(line) for line in predictions_full])\n",
    "print('Accuracy : %.3f'%accuracy_score(Y, predictions_full))"
   ]
  },
  {
   "cell_type": "code",
   "execution_count": 36,
   "metadata": {},
   "outputs": [],
   "source": [
    "probs = bst.predict(dtotal)\n",
    "#print(softmax_vals[:,i].shape)\n",
    "df3 = copy.deepcopy(data_latest)\n",
    "df3['Preds'] = predictions_full\n",
    "for col in ['0','1']:\n",
    "    df3[col + '_probs'] = probs[:,int(col)]"
   ]
  },
  {
   "cell_type": "markdown",
   "metadata": {},
   "source": [
    "### Printing/Plotting Classification Metrics"
   ]
  },
  {
   "cell_type": "code",
   "execution_count": 37,
   "metadata": {},
   "outputs": [
    {
     "name": "stdout",
     "output_type": "stream",
     "text": [
      "Classification Report : \n",
      "               precision    recall  f1-score   support\n",
      "\n",
      "           0       0.92      0.95      0.93       250\n",
      "           1       0.24      0.15      0.19        26\n",
      "\n",
      "    accuracy                           0.87       276\n",
      "   macro avg       0.58      0.55      0.56       276\n",
      "weighted avg       0.85      0.87      0.86       276\n",
      "\n",
      "Confusion Matrix : \n",
      " [[237  13]\n",
      " [ 22   4]]\n"
     ]
    },
    {
     "data": {
      "image/png": "[encoded data removed]",
      "text/plain": [
       "<Figure size 360x360 with 2 Axes>"
      ]
     },
     "metadata": {},
     "output_type": "display_data"
    }
   ],
   "source": [
    "def print_plot_metrics(model_name, actual_rets_test, Y_test, predictions):\n",
    "    print('Classification Report : \\n',classification_report(Y_test, predictions))\n",
    "    print('Confusion Matrix : \\n', confusion_matrix(Y_test, predictions))\n",
    "    plot_confusion_matrix(Y_test, predictions)\n",
    "\n",
    "print_plot_metrics('XGBClassifier', None, Y_test, predictions)"
   ]
  },
  {
   "cell_type": "markdown",
   "metadata": {},
   "source": [
    "# XGB Classifier"
   ]
  },
  {
   "cell_type": "code",
   "execution_count": 38,
   "metadata": {},
   "outputs": [],
   "source": [
    "xgb_classif = xgb.XGBRFClassifier(n_estimators=250, max_depth=8, objective='binary:logistic', verbosity=1)"
   ]
  },
  {
   "cell_type": "markdown",
   "metadata": {},
   "source": [
    "### Fitting Model"
   ]
  },
  {
   "cell_type": "code",
   "execution_count": 39,
   "metadata": {},
   "outputs": [
    {
     "data": {
      "text/plain": [
       "XGBRFClassifier(base_score=0.5, colsample_bylevel=1, colsample_bynode=0.8,\n",
       "                colsample_bytree=1, gamma=0, learning_rate=1, max_delta_step=0,\n",
       "                max_depth=8, min_child_weight=1, missing=None, n_estimators=250,\n",
       "                n_jobs=1, nthread=None, objective='binary:logistic',\n",
       "                random_state=0, reg_alpha=0, reg_lambda=1, scale_pos_weight=1,\n",
       "                seed=None, silent=None, subsample=0.8, verbosity=1)"
      ]
     },
     "execution_count": 39,
     "metadata": {},
     "output_type": "execute_result"
    }
   ],
   "source": [
    "xgb_classif.fit(X_train, Y_train)"
   ]
  },
  {
   "cell_type": "markdown",
   "metadata": {},
   "source": [
    "### Performance Evaluation on Test Data"
   ]
  },
  {
   "cell_type": "code",
   "execution_count": 40,
   "metadata": {},
   "outputs": [
    {
     "name": "stdout",
     "output_type": "stream",
     "text": [
      "Accuracy : 0.790\n"
     ]
    }
   ],
   "source": [
    "predictions = xgb_classif.predict(X_test)\n",
    "print('Accuracy : %.3f'%accuracy_score(Y_test, predictions))"
   ]
  },
  {
   "cell_type": "code",
   "execution_count": 41,
   "metadata": {},
   "outputs": [
    {
     "name": "stdout",
     "output_type": "stream",
     "text": [
      "Accuracy : 0.858\n"
     ]
    }
   ],
   "source": [
    "predictions_full = xgb_classif.predict(X)\n",
    "print('Accuracy : %.3f'%accuracy_score(Y, predictions_full))"
   ]
  },
  {
   "cell_type": "code",
   "execution_count": 42,
   "metadata": {},
   "outputs": [],
   "source": [
    "probs = xgb_classif.predict_proba(X)\n",
    "#print(softmax_vals[:,i].shape)\n",
    "df4 = copy.deepcopy(data_latest)\n",
    "df4['Preds'] = predictions_full\n",
    "for col in ['0','1']:\n",
    "    df4[col + '_probs'] = probs[:,int(col)]"
   ]
  },
  {
   "cell_type": "markdown",
   "metadata": {},
   "source": [
    "### Printing/Plotting Classification Metrics"
   ]
  },
  {
   "cell_type": "code",
   "execution_count": 43,
   "metadata": {},
   "outputs": [
    {
     "name": "stdout",
     "output_type": "stream",
     "text": [
      "Classification Report : \n",
      "               precision    recall  f1-score   support\n",
      "\n",
      "           0       0.92      0.84      0.88       250\n",
      "           1       0.15      0.27      0.19        26\n",
      "\n",
      "    accuracy                           0.79       276\n",
      "   macro avg       0.53      0.56      0.54       276\n",
      "weighted avg       0.85      0.79      0.81       276\n",
      "\n",
      "Confusion Matrix : \n",
      " [[211  39]\n",
      " [ 19   7]]\n"
     ]
    },
    {
     "data": {
      "image/png": "[encoded data removed]",
      "text/plain": [
       "<Figure size 360x360 with 2 Axes>"
      ]
     },
     "metadata": {},
     "output_type": "display_data"
    }
   ],
   "source": [
    "print_plot_metrics('XGB', None, Y_test, predictions)"
   ]
  },
  {
   "cell_type": "markdown",
   "metadata": {},
   "source": [
    "# XGB RF Classifier"
   ]
  },
  {
   "cell_type": "code",
   "execution_count": 44,
   "metadata": {},
   "outputs": [],
   "source": [
    "xgb_rfclassif = xgb.XGBRFClassifier(n_estimators=300, max_depth=8, objective='binary:logistic', verbosity=1)"
   ]
  },
  {
   "cell_type": "markdown",
   "metadata": {},
   "source": [
    "### Fitting Model"
   ]
  },
  {
   "cell_type": "code",
   "execution_count": 45,
   "metadata": {},
   "outputs": [
    {
     "data": {
      "text/plain": [
       "XGBRFClassifier(base_score=0.5, colsample_bylevel=1, colsample_bynode=0.8,\n",
       "                colsample_bytree=1, gamma=0, learning_rate=1, max_delta_step=0,\n",
       "                max_depth=8, min_child_weight=1, missing=None, n_estimators=300,\n",
       "                n_jobs=1, nthread=None, objective='binary:logistic',\n",
       "                random_state=0, reg_alpha=0, reg_lambda=1, scale_pos_weight=1,\n",
       "                seed=None, silent=None, subsample=0.8, verbosity=1)"
      ]
     },
     "execution_count": 45,
     "metadata": {},
     "output_type": "execute_result"
    }
   ],
   "source": [
    "xgb_rfclassif.fit(X_train, Y_train)"
   ]
  },
  {
   "cell_type": "markdown",
   "metadata": {},
   "source": [
    "### Performance Evaluation on Test Data"
   ]
  },
  {
   "cell_type": "code",
   "execution_count": 46,
   "metadata": {},
   "outputs": [
    {
     "name": "stdout",
     "output_type": "stream",
     "text": [
      "Accuracy : 0.804\n"
     ]
    }
   ],
   "source": [
    "predictions = xgb_rfclassif.predict(X_test)\n",
    "print('Accuracy : %.3f'%accuracy_score(Y_test, predictions))"
   ]
  },
  {
   "cell_type": "code",
   "execution_count": 47,
   "metadata": {},
   "outputs": [
    {
     "name": "stdout",
     "output_type": "stream",
     "text": [
      "Accuracy : 0.858\n"
     ]
    }
   ],
   "source": [
    "predictions_full = xgb_rfclassif.predict(X)\n",
    "print('Accuracy : %.3f'%accuracy_score(Y, predictions_full))"
   ]
  },
  {
   "cell_type": "code",
   "execution_count": 48,
   "metadata": {},
   "outputs": [],
   "source": [
    "probs = xgb_rfclassif.predict_proba(X)\n",
    "#print(softmax_vals[:,i].shape)\n",
    "df5 = copy.deepcopy(data_latest)\n",
    "df5['Preds'] = predictions_full\n",
    "for col in ['0','1']:\n",
    "    df5[col + '_probs'] = probs[:,int(col)]"
   ]
  },
  {
   "cell_type": "markdown",
   "metadata": {},
   "source": [
    "### Printing/Plotting Classification Metrics"
   ]
  },
  {
   "cell_type": "code",
   "execution_count": 49,
   "metadata": {},
   "outputs": [
    {
     "name": "stdout",
     "output_type": "stream",
     "text": [
      "Classification Report : \n",
      "               precision    recall  f1-score   support\n",
      "\n",
      "           0       0.92      0.86      0.89       250\n",
      "           1       0.17      0.27      0.21        26\n",
      "\n",
      "    accuracy                           0.80       276\n",
      "   macro avg       0.54      0.56      0.55       276\n",
      "weighted avg       0.85      0.80      0.82       276\n",
      "\n",
      "Confusion Matrix : \n",
      " [[215  35]\n",
      " [ 19   7]]\n"
     ]
    },
    {
     "data": {
      "image/png": "[encoded data removed]",
      "text/plain": [
       "<Figure size 360x360 with 2 Axes>"
      ]
     },
     "metadata": {},
     "output_type": "display_data"
    }
   ],
   "source": [
    "print_plot_metrics('XGBRFClassifier', None, Y_test, predictions)"
   ]
  },
  {
   "cell_type": "markdown",
   "metadata": {},
   "source": [
    "# Time Series Approach With LSTM (Classification) v1\n",
    "\n",
    "Below we are preparing data for LSTM. We are taking look back size of 50 so that we'll look at 50 previous sample to predict current one. We are organizing our dataset in that format so that it can be fed into LSTM."
   ]
  },
  {
   "cell_type": "code",
   "execution_count": 50,
   "metadata": {},
   "outputs": [
    {
     "name": "stdout",
     "output_type": "stream",
     "text": [
      "Actual Data Size :  (2751, 15) (2751,)\n",
      "Train/Test Sizes :  (2475, 15) (276, 15) (2475,) (276,)\n",
      "Modified Data Size :  (2701, 50, 15) (2701,)\n",
      "Train/Test Sizes Modified (2425, 50, 15) (2425,) (226, 50, 15) (226,)\n"
     ]
    }
   ],
   "source": [
    "def prepare_dataset(features,labels, look_back=1):\n",
    "    X, Y = [], []\n",
    "    for i in range(len(features)-look_back):\n",
    "        a = features[i:(i+look_back), :]\n",
    "        X.append(a)\n",
    "        Y.append(labels[i + look_back])\n",
    "    return np.array(X), np.array(Y)\n",
    "\n",
    "X = data_latest[['feature1', 'feature2', 'feature3', 'feature4', 'feature5', 'feature6', 'feature7', 'feature8', 'feature9', 'feature10', 'feature11', 'feature12', 'feature13', 'feature14', 'feature15']].values\n",
    "Y = data_latest['label'].values\n",
    "\n",
    "X_train, X_test, Y_train, Y_test = train_test_split(X, Y, train_size=0.9, test_size=0.1, shuffle=False)\n",
    "\n",
    "print('Actual Data Size : ', X.shape, Y.shape)\n",
    "print('Train/Test Sizes : ', X_train.shape, X_test.shape, Y_train.shape, Y_test.shape)\n",
    "\n",
    "# split into input and outputs\n",
    "look_back = 50\n",
    "X_train, Y_train = prepare_dataset(X_train, Y_train, look_back)\n",
    "X_test, Y_test = prepare_dataset(X_test, Y_test, look_back)\n",
    "\n",
    "X_new, Y_new = prepare_dataset(X, Y, look_back)\n",
    "print('Modified Data Size : ', X_new.shape, Y_new.shape)\n",
    "print('Train/Test Sizes Modified', X_train.shape, Y_train.shape, X_test.shape, Y_test.shape)"
   ]
  },
  {
   "cell_type": "markdown",
   "metadata": {},
   "source": [
    "Below we have defined LSTM network of only 50 units. This parameter can be tweaked to check whether it improves performance further in future. My guess is that if we increase its value further then it'll performance. Output layer is again sigmoid."
   ]
  },
  {
   "cell_type": "code",
   "execution_count": 51,
   "metadata": {},
   "outputs": [
    {
     "name": "stdout",
     "output_type": "stream",
     "text": [
      "Model: \"sequential_3\"\n",
      "_________________________________________________________________\n",
      "Layer (type)                 Output Shape              Param #   \n",
      "=================================================================\n",
      "lstm_1 (LSTM)                (None, 50)                13200     \n",
      "_________________________________________________________________\n",
      "dropout_6 (Dropout)          (None, 50)                0         \n",
      "_________________________________________________________________\n",
      "dense_11 (Dense)             (None, 1)                 51        \n",
      "=================================================================\n",
      "Total params: 13,251\n",
      "Trainable params: 13,251\n",
      "Non-trainable params: 0\n",
      "_________________________________________________________________\n",
      "None\n"
     ]
    }
   ],
   "source": [
    "lstm_classif = Sequential([\n",
    "                        LSTM(50, input_shape=(X_train.shape[1], X_train.shape[2])),\n",
    "                        Dropout(0.2),\n",
    "                        Dense(1, activation='sigmoid')                        \n",
    "                        ])\n",
    "\n",
    "print(lstm_classif.summary())"
   ]
  },
  {
   "cell_type": "markdown",
   "metadata": {},
   "source": [
    "## Compiling Model"
   ]
  },
  {
   "cell_type": "code",
   "execution_count": 52,
   "metadata": {},
   "outputs": [],
   "source": [
    "lstm_classif.compile(loss='binary_crossentropy', optimizer='adam', metrics=['accuracy'])"
   ]
  },
  {
   "cell_type": "markdown",
   "metadata": {},
   "source": [
    "## Fitting Model"
   ]
  },
  {
   "cell_type": "code",
   "execution_count": 53,
   "metadata": {},
   "outputs": [
    {
     "name": "stdout",
     "output_type": "stream",
     "text": [
      "Train on 2425 samples, validate on 226 samples\n",
      "Epoch 1/8\n",
      "2425/2425 [==============================] - 10s 4ms/step - loss: 0.2932 - accuracy: 0.9006 - val_loss: 0.3088 - val_accuracy: 0.9027\n",
      "Epoch 2/8\n",
      "2425/2425 [==============================] - 9s 4ms/step - loss: 0.2329 - accuracy: 0.9402 - val_loss: 0.3100 - val_accuracy: 0.9027\n",
      "Epoch 3/8\n",
      "2425/2425 [==============================] - 9s 4ms/step - loss: 0.2214 - accuracy: 0.9402 - val_loss: 0.3079 - val_accuracy: 0.9027\n",
      "Epoch 4/8\n",
      "2425/2425 [==============================] - 9s 4ms/step - loss: 0.2241 - accuracy: 0.9402 - val_loss: 0.3064 - val_accuracy: 0.9027\n",
      "Epoch 5/8\n",
      "2425/2425 [==============================] - 9s 4ms/step - loss: 0.2272 - accuracy: 0.9402 - val_loss: 0.3090 - val_accuracy: 0.9027\n",
      "Epoch 6/8\n",
      "2425/2425 [==============================] - 9s 4ms/step - loss: 0.2216 - accuracy: 0.9402 - val_loss: 0.3095 - val_accuracy: 0.9027\n",
      "Epoch 7/8\n",
      "2425/2425 [==============================] - 9s 4ms/step - loss: 0.2222 - accuracy: 0.9402 - val_loss: 0.3050 - val_accuracy: 0.9027\n",
      "Epoch 8/8\n",
      "2425/2425 [==============================] - 9s 4ms/step - loss: 0.2196 - accuracy: 0.9402 - val_loss: 0.3044 - val_accuracy: 0.9027\n"
     ]
    }
   ],
   "source": [
    "history = lstm_classif.fit(X_train, Y_train, epochs=8, batch_size=8, validation_data=(X_test, Y_test), verbose=1, shuffle=False)"
   ]
  },
  {
   "cell_type": "markdown",
   "metadata": {},
   "source": [
    "## Visualizing Training Stage Results"
   ]
  },
  {
   "cell_type": "code",
   "execution_count": 54,
   "metadata": {},
   "outputs": [
    {
     "data": {
      "image/png": "[encoded data removed]",
      "text/plain": [
       "<Figure size 1080x360 with 2 Axes>"
      ]
     },
     "metadata": {},
     "output_type": "display_data"
    }
   ],
   "source": [
    "plot_loss_and_accuracy(history)"
   ]
  },
  {
   "cell_type": "markdown",
   "metadata": {},
   "source": [
    "## Performance Evaluation on Test Data"
   ]
  },
  {
   "cell_type": "code",
   "execution_count": 55,
   "metadata": {},
   "outputs": [
    {
     "name": "stdout",
     "output_type": "stream",
     "text": [
      "Accuracy : 0.903\n"
     ]
    }
   ],
   "source": [
    "predictions = lstm_classif.predict_classes(X_test)\n",
    "print('Accuracy : %.3f'%accuracy_score(Y_test, predictions))"
   ]
  },
  {
   "cell_type": "code",
   "execution_count": 56,
   "metadata": {},
   "outputs": [
    {
     "name": "stdout",
     "output_type": "stream",
     "text": [
      "Accuracy : 0.937\n"
     ]
    }
   ],
   "source": [
    "predictions_full = lstm_classif.predict_classes(X_new)\n",
    "print('Accuracy : %.3f'%accuracy_score(Y_new, predictions_full))"
   ]
  },
  {
   "cell_type": "code",
   "execution_count": 57,
   "metadata": {},
   "outputs": [],
   "source": [
    "softmax_vals = lstm_classif.predict_proba(X_new)\n",
    "df6 = copy.deepcopy(data_latest)\n",
    "df6['Preds'] = np.hstack(([0]*look_back, predictions_full.flatten()))\n",
    "zero_prob, one_prob = [], []\n",
    "for val in softmax_vals:\n",
    "    if val[0] <= 0.5:\n",
    "        zero_prob.append(1-val[0])\n",
    "        one_prob.append(val[0])\n",
    "    else:\n",
    "        one_prob.append(val[0])\n",
    "        zero_prob.append(1-val[0])\n",
    "\n",
    "df6['0_prob'] = np.hstack(([0]*look_back, zero_prob))\n",
    "df6['1_prob'] = np.hstack(([0]*look_back, one_prob))"
   ]
  },
  {
   "cell_type": "markdown",
   "metadata": {},
   "source": [
    "## Printing/Plotting Classification Metrics"
   ]
  },
  {
   "cell_type": "code",
   "execution_count": 58,
   "metadata": {},
   "outputs": [
    {
     "name": "stdout",
     "output_type": "stream",
     "text": [
      "Classification Report : \n",
      "               precision    recall  f1-score   support\n",
      "\n",
      "           0       0.90      1.00      0.95       204\n",
      "           1       0.00      0.00      0.00        22\n",
      "\n",
      "    accuracy                           0.90       226\n",
      "   macro avg       0.45      0.50      0.47       226\n",
      "weighted avg       0.81      0.90      0.86       226\n",
      "\n",
      "Confusion Matrix : \n",
      " [[204   0]\n",
      " [ 22   0]]\n"
     ]
    },
    {
     "data": {
      "image/png": "[encoded data removed]",
      "text/plain": [
       "<Figure size 360x360 with 2 Axes>"
      ]
     },
     "metadata": {},
     "output_type": "display_data"
    }
   ],
   "source": [
    "print_plot_metrics('LSTMv1', None, Y_test, predictions)"
   ]
  },
  {
   "cell_type": "markdown",
   "metadata": {},
   "source": [
    "## Visualising Weights"
   ]
  },
  {
   "cell_type": "code",
   "execution_count": 59,
   "metadata": {},
   "outputs": [
    {
     "name": "stdout",
     "output_type": "stream",
     "text": [
      "Layer : LSTM : Weights : (15, 200)\n",
      "Layer : Dense : Weights : (50, 200)\n",
      "Layer : Dense : Bias : (200,)\n"
     ]
    },
    {
     "data": {
      "image/png": "[encoded data removed]",
      "text/plain": [
       "<Figure size 576x396 with 1 Axes>"
      ]
     },
     "metadata": {},
     "output_type": "display_data"
    }
   ],
   "source": [
    "print_weights_per_layer(lstm_classif)\n",
    "\n",
    "lstm_weights = lstm_classif.get_weights()\n",
    "important_weights = lstm_weights[0].mean(axis=1)\n",
    "\n",
    "with plt.style.context(('seaborn','ggplot')):\n",
    "    plt.bar(x=['feature'+str(i) for i in range(1,16)], height=important_weights, width=0.8)\n",
    "    plt.xticks(rotation='vertical')"
   ]
  },
  {
   "cell_type": "markdown",
   "metadata": {},
   "source": [
    "# Time Series Approach With LSTM (Classification) v2\n",
    "Below we have defined another LSTM model which has 3 LSTM layers of all same unit sizes of 30. Last layer is again sigmoid layer."
   ]
  },
  {
   "cell_type": "code",
   "execution_count": 60,
   "metadata": {},
   "outputs": [
    {
     "name": "stdout",
     "output_type": "stream",
     "text": [
      "Model: \"sequential_4\"\n",
      "_________________________________________________________________\n",
      "Layer (type)                 Output Shape              Param #   \n",
      "=================================================================\n",
      "lstm_2 (LSTM)                (None, 50, 30)            5520      \n",
      "_________________________________________________________________\n",
      "lstm_3 (LSTM)                (None, 50, 30)            7320      \n",
      "_________________________________________________________________\n",
      "lstm_4 (LSTM)                (None, 30)                7320      \n",
      "_________________________________________________________________\n",
      "dense_12 (Dense)             (None, 1)                 31        \n",
      "=================================================================\n",
      "Total params: 20,191\n",
      "Trainable params: 20,191\n",
      "Non-trainable params: 0\n",
      "_________________________________________________________________\n",
      "None\n"
     ]
    }
   ],
   "source": [
    "lstm_classif = Sequential([\n",
    "                LSTM(units=30, return_sequences= True, input_shape=(X_train.shape[1],X_train.shape[2])),\n",
    "                LSTM(units=30, return_sequences=True),\n",
    "                LSTM(units=30),\n",
    "                Dense(1, activation='sigmoid')\n",
    "                ])\n",
    "\n",
    "print(lstm_classif.summary())"
   ]
  },
  {
   "cell_type": "markdown",
   "metadata": {},
   "source": [
    "## Compiling Model"
   ]
  },
  {
   "cell_type": "code",
   "execution_count": 61,
   "metadata": {},
   "outputs": [],
   "source": [
    "lstm_classif.compile(loss='binary_crossentropy', optimizer='adam', metrics=['accuracy'])"
   ]
  },
  {
   "cell_type": "markdown",
   "metadata": {},
   "source": [
    "## Fitting Model"
   ]
  },
  {
   "cell_type": "code",
   "execution_count": 62,
   "metadata": {},
   "outputs": [
    {
     "name": "stdout",
     "output_type": "stream",
     "text": [
      "Train on 2425 samples, validate on 226 samples\n",
      "Epoch 1/8\n",
      "2425/2425 [==============================] - 26s 11ms/step - loss: 0.2446 - accuracy: 0.9402 - val_loss: 0.3209 - val_accuracy: 0.9027\n",
      "Epoch 2/8\n",
      "2425/2425 [==============================] - 25s 10ms/step - loss: 0.2277 - accuracy: 0.9402 - val_loss: 0.3174 - val_accuracy: 0.9027\n",
      "Epoch 3/8\n",
      "2425/2425 [==============================] - 24s 10ms/step - loss: 0.2263 - accuracy: 0.9402 - val_loss: 0.3142 - val_accuracy: 0.9027\n",
      "Epoch 4/8\n",
      "2425/2425 [==============================] - 25s 10ms/step - loss: 0.2253 - accuracy: 0.9402 - val_loss: 0.3135 - val_accuracy: 0.9027\n",
      "Epoch 5/8\n",
      "2425/2425 [==============================] - 26s 11ms/step - loss: 0.2240 - accuracy: 0.9402 - val_loss: 0.3128 - val_accuracy: 0.9027\n",
      "Epoch 6/8\n",
      "2425/2425 [==============================] - 24s 10ms/step - loss: 0.2236 - accuracy: 0.9402 - val_loss: 0.3131 - val_accuracy: 0.9027\n",
      "Epoch 7/8\n",
      "2425/2425 [==============================] - 24s 10ms/step - loss: 0.2224 - accuracy: 0.9402 - val_loss: 0.3129 - val_accuracy: 0.9027\n",
      "Epoch 8/8\n",
      "2425/2425 [==============================] - 24s 10ms/step - loss: 0.2220 - accuracy: 0.9402 - val_loss: 0.3128 - val_accuracy: 0.9027\n"
     ]
    }
   ],
   "source": [
    "history = lstm_classif.fit(X_train, Y_train, epochs=8, batch_size=8, validation_data=(X_test, Y_test), verbose=1, shuffle=False)"
   ]
  },
  {
   "cell_type": "markdown",
   "metadata": {},
   "source": [
    "## Visualizing Training Stage Results"
   ]
  },
  {
   "cell_type": "code",
   "execution_count": 63,
   "metadata": {},
   "outputs": [
    {
     "data": {
      "image/png": "[encoded data removed]",
      "text/plain": [
       "<Figure size 1080x360 with 2 Axes>"
      ]
     },
     "metadata": {},
     "output_type": "display_data"
    }
   ],
   "source": [
    "plot_loss_and_accuracy(history)"
   ]
  },
  {
   "cell_type": "markdown",
   "metadata": {},
   "source": [
    "## Performance Evaluation on Test Data"
   ]
  },
  {
   "cell_type": "code",
   "execution_count": 64,
   "metadata": {},
   "outputs": [
    {
     "name": "stdout",
     "output_type": "stream",
     "text": [
      "Accuracy : 0.903\n"
     ]
    }
   ],
   "source": [
    "predictions = lstm_classif.predict_classes(X_test)\n",
    "print('Accuracy : %.3f'%accuracy_score(Y_test, predictions))"
   ]
  },
  {
   "cell_type": "code",
   "execution_count": 65,
   "metadata": {},
   "outputs": [
    {
     "name": "stdout",
     "output_type": "stream",
     "text": [
      "Accuracy : 0.937\n"
     ]
    }
   ],
   "source": [
    "predictions_full = lstm_classif.predict_classes(X_new)\n",
    "print('Accuracy : %.3f'%accuracy_score(Y_new, predictions_full))"
   ]
  },
  {
   "cell_type": "code",
   "execution_count": 66,
   "metadata": {},
   "outputs": [],
   "source": [
    "softmax_vals = lstm_classif.predict_proba(X_new)\n",
    "df7 = copy.deepcopy(data_latest)\n",
    "df7['Preds'] = np.hstack(([0]*look_back, predictions_full.flatten()))\n",
    "zero_prob, one_prob = [], []\n",
    "for val in softmax_vals:\n",
    "    if val[0] <= 0.5:\n",
    "        zero_prob.append(1-val[0])\n",
    "        one_prob.append(val[0])\n",
    "    else:\n",
    "        one_prob.append(val[0])\n",
    "        zero_prob.append(1-val[0])\n",
    "\n",
    "df7['0_prob'] = np.hstack(([0]*look_back, zero_prob))\n",
    "df7['1_prob'] = np.hstack(([0]*look_back, one_prob))"
   ]
  },
  {
   "cell_type": "markdown",
   "metadata": {},
   "source": [
    "## Printing/Plotting Classification Metrics"
   ]
  },
  {
   "cell_type": "code",
   "execution_count": 67,
   "metadata": {},
   "outputs": [
    {
     "name": "stdout",
     "output_type": "stream",
     "text": [
      "Classification Report : \n",
      "               precision    recall  f1-score   support\n",
      "\n",
      "           0       0.90      1.00      0.95       204\n",
      "           1       0.00      0.00      0.00        22\n",
      "\n",
      "    accuracy                           0.90       226\n",
      "   macro avg       0.45      0.50      0.47       226\n",
      "weighted avg       0.81      0.90      0.86       226\n",
      "\n",
      "Confusion Matrix : \n",
      " [[204   0]\n",
      " [ 22   0]]\n"
     ]
    },
    {
     "data": {
      "image/png": "[encoded data removed]",
      "text/plain": [
       "<Figure size 360x360 with 2 Axes>"
      ]
     },
     "metadata": {},
     "output_type": "display_data"
    }
   ],
   "source": [
    "print_plot_metrics('LSTMv2' , None, Y_test, predictions)"
   ]
  },
  {
   "cell_type": "markdown",
   "metadata": {},
   "source": [
    "## Visualising Weights"
   ]
  },
  {
   "cell_type": "code",
   "execution_count": 68,
   "metadata": {},
   "outputs": [
    {
     "name": "stdout",
     "output_type": "stream",
     "text": [
      "Layer : LSTM : Weights : (15, 120)\n",
      "Layer : LSTM : Weights : (30, 120)\n",
      "Layer : LSTM : Weights : (120,)\n",
      "Layer : Dense : Weights : (30, 120)\n",
      "Layer : Dense : Bias : (30, 120)\n"
     ]
    },
    {
     "data": {
      "image/png": "[encoded data removed]",
      "text/plain": [
       "<Figure size 576x396 with 1 Axes>"
      ]
     },
     "metadata": {},
     "output_type": "display_data"
    }
   ],
   "source": [
    "print_weights_per_layer(lstm_classif)\n",
    "\n",
    "lstm_weights = lstm_classif.get_weights()\n",
    "important_weights = lstm_weights[0].mean(axis=1)\n",
    "\n",
    "with plt.style.context(('seaborn','ggplot')):\n",
    "    plt.bar(x=['feature'+str(i) for i in range(1,16)], height=important_weights, width=0.8)\n",
    "    plt.xticks(rotation='vertical')"
   ]
  },
  {
   "cell_type": "code",
   "execution_count": 69,
   "metadata": {},
   "outputs": [],
   "source": [
    "with pd.ExcelWriter('Final_Output.xlsx') as writer:\n",
    "    for sheet_name, df in [('DenseNetv1',df1), ('DenseNetv2',df2), ('XGBooster', df3), ('XGBClassif', df4), ('XGBRFClassif', df5), ('LSTMv1', df6), ('LSTMv2', df7)]:\n",
    "        df.to_excel(writer, sheet_name= sheet_name)"
   ]
  },
  {
   "cell_type": "code",
   "execution_count": 70,
   "metadata": {},
   "outputs": [
    {
     "data": {
      "text/html": [
       "<a href='Final_Output.xlsx' target='_blank'>Final_Output.xlsx</a><br>"
      ],
      "text/plain": [
       "/kaggle/working/Final_Output.xlsx"
      ]
     },
     "execution_count": 70,
     "metadata": {},
     "output_type": "execute_result"
    }
   ],
   "source": [
    "from IPython.display import FileLink\n",
    "FileLink('Final_Output.xlsx')"
   ]
  },
  {
   "cell_type": "code",
   "execution_count": null,
   "metadata": {},
   "outputs": [],
   "source": []
  }
 ],
 "metadata": {
  "kernelspec": {
   "display_name": "Python 3",
   "language": "python",
   "name": "python3"
  },
  "language_info": {
   "codemirror_mode": {
    "name": "ipython",
    "version": 3
   },
   "file_extension": ".py",
   "mimetype": "text/x-python",
   "name": "python",
   "nbconvert_exporter": "python",
   "pygments_lexer": "ipython3",
   "version": "3.6.6"
  }
 },
 "nbformat": 4,
 "nbformat_minor": 1
}
