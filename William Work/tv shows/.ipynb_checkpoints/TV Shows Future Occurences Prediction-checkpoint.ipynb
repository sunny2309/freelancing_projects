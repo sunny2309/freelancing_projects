{
 "cells": [
  {
   "cell_type": "code",
   "execution_count": 1,
   "metadata": {},
   "outputs": [],
   "source": [
    "import pandas as pd\n",
    "import numpy as np\n",
    "\n",
    "import statsmodels\n",
    "from statsmodels.tsa.stattools import adfuller\n",
    "from statsmodels.tsa.seasonal import seasonal_decompose\n",
    "from statsmodels.graphics.tsaplots import plot_acf, plot_pacf\n",
    "from statsmodels.tsa.arima.model import ARIMA\n",
    "from statsmodels.tsa.statespace.sarimax import SARIMAX\n",
    "\n",
    "from scipy import stats\n",
    "\n",
    "from sklearn.metrics import mean_squared_error\n",
    "\n",
    "import warnings\n",
    "warnings.filterwarnings(\"ignore\")\n",
    "\n",
    "import matplotlib.pyplot as plt"
   ]
  },
  {
   "cell_type": "markdown",
   "metadata": {},
   "source": [
    "## Loading Data"
   ]
  },
  {
   "cell_type": "code",
   "execution_count": 2,
   "metadata": {},
   "outputs": [
    {
     "name": "stdout",
     "output_type": "stream",
     "text": [
      "Dateset Size :  (986, 5)\n"
     ]
    },
    {
     "data": {
      "text/html": [
       "<div>\n",
       "<style scoped>\n",
       "    .dataframe tbody tr th:only-of-type {\n",
       "        vertical-align: middle;\n",
       "    }\n",
       "\n",
       "    .dataframe tbody tr th {\n",
       "        vertical-align: top;\n",
       "    }\n",
       "\n",
       "    .dataframe thead th {\n",
       "        text-align: right;\n",
       "    }\n",
       "</style>\n",
       "<table border=\"1\" class=\"dataframe\">\n",
       "  <thead>\n",
       "    <tr style=\"text-align: right;\">\n",
       "      <th></th>\n",
       "      <th>Unnamed: 0</th>\n",
       "      <th>imdb_id</th>\n",
       "      <th>production_co</th>\n",
       "      <th>genre</th>\n",
       "      <th>occurences</th>\n",
       "    </tr>\n",
       "    <tr>\n",
       "      <th>date</th>\n",
       "      <th></th>\n",
       "      <th></th>\n",
       "      <th></th>\n",
       "      <th></th>\n",
       "      <th></th>\n",
       "    </tr>\n",
       "  </thead>\n",
       "  <tbody>\n",
       "    <tr>\n",
       "      <td>2017-12-01</td>\n",
       "      <td>0</td>\n",
       "      <td>tt5753856</td>\n",
       "      <td>Netflix</td>\n",
       "      <td>Crime</td>\n",
       "      <td>622</td>\n",
       "    </tr>\n",
       "    <tr>\n",
       "      <td>2017-12-02</td>\n",
       "      <td>1</td>\n",
       "      <td>tt5753856</td>\n",
       "      <td>Netflix</td>\n",
       "      <td>Crime</td>\n",
       "      <td>1396</td>\n",
       "    </tr>\n",
       "    <tr>\n",
       "      <td>2017-12-03</td>\n",
       "      <td>2</td>\n",
       "      <td>tt5753856</td>\n",
       "      <td>Netflix</td>\n",
       "      <td>Crime</td>\n",
       "      <td>2854</td>\n",
       "    </tr>\n",
       "    <tr>\n",
       "      <td>2017-12-04</td>\n",
       "      <td>4</td>\n",
       "      <td>tt5753856</td>\n",
       "      <td>Netflix</td>\n",
       "      <td>Crime</td>\n",
       "      <td>3822</td>\n",
       "    </tr>\n",
       "    <tr>\n",
       "      <td>2017-12-05</td>\n",
       "      <td>3</td>\n",
       "      <td>tt5753856</td>\n",
       "      <td>Netflix</td>\n",
       "      <td>Crime</td>\n",
       "      <td>19062</td>\n",
       "    </tr>\n",
       "  </tbody>\n",
       "</table>\n",
       "</div>"
      ],
      "text/plain": [
       "            Unnamed: 0    imdb_id production_co  genre  occurences\n",
       "date                                                              \n",
       "2017-12-01           0  tt5753856       Netflix  Crime         622\n",
       "2017-12-02           1  tt5753856       Netflix  Crime        1396\n",
       "2017-12-03           2  tt5753856       Netflix  Crime        2854\n",
       "2017-12-04           4  tt5753856       Netflix  Crime        3822\n",
       "2017-12-05           3  tt5753856       Netflix  Crime       19062"
      ]
     },
     "execution_count": 2,
     "metadata": {},
     "output_type": "execute_result"
    }
   ],
   "source": [
    "dark = pd.read_csv(\"tv_show_data/dark.csv\")\n",
    "dark[\"date\"] = pd.to_datetime(dark[\"date\"])\n",
    "dark = dark.sort_values(by=\"date\")\n",
    "dark= dark.set_index(\"date\")\n",
    "print(\"Dateset Size : \",dark.shape)\n",
    "\n",
    "dark.head()"
   ]
  },
  {
   "cell_type": "code",
   "execution_count": 3,
   "metadata": {},
   "outputs": [
    {
     "name": "stdout",
     "output_type": "stream",
     "text": [
      "Dateset Size :  (1153, 5)\n"
     ]
    },
    {
     "data": {
      "text/html": [
       "<div>\n",
       "<style scoped>\n",
       "    .dataframe tbody tr th:only-of-type {\n",
       "        vertical-align: middle;\n",
       "    }\n",
       "\n",
       "    .dataframe tbody tr th {\n",
       "        vertical-align: top;\n",
       "    }\n",
       "\n",
       "    .dataframe thead th {\n",
       "        text-align: right;\n",
       "    }\n",
       "</style>\n",
       "<table border=\"1\" class=\"dataframe\">\n",
       "  <thead>\n",
       "    <tr style=\"text-align: right;\">\n",
       "      <th></th>\n",
       "      <th>Unnamed: 0</th>\n",
       "      <th>imdb_id</th>\n",
       "      <th>production_co</th>\n",
       "      <th>genre</th>\n",
       "      <th>occurences</th>\n",
       "    </tr>\n",
       "    <tr>\n",
       "      <th>date</th>\n",
       "      <th></th>\n",
       "      <th></th>\n",
       "      <th></th>\n",
       "      <th></th>\n",
       "      <th></th>\n",
       "    </tr>\n",
       "  </thead>\n",
       "  <tbody>\n",
       "    <tr>\n",
       "      <td>2017-06-13</td>\n",
       "      <td>0</td>\n",
       "      <td>tt6468322</td>\n",
       "      <td>Netflix</td>\n",
       "      <td>Action</td>\n",
       "      <td>2223</td>\n",
       "    </tr>\n",
       "    <tr>\n",
       "      <td>2017-06-14</td>\n",
       "      <td>1</td>\n",
       "      <td>tt6468322</td>\n",
       "      <td>Netflix</td>\n",
       "      <td>Action</td>\n",
       "      <td>2614</td>\n",
       "    </tr>\n",
       "    <tr>\n",
       "      <td>2017-06-15</td>\n",
       "      <td>2</td>\n",
       "      <td>tt6468322</td>\n",
       "      <td>Netflix</td>\n",
       "      <td>Action</td>\n",
       "      <td>3559</td>\n",
       "    </tr>\n",
       "    <tr>\n",
       "      <td>2017-06-16</td>\n",
       "      <td>3</td>\n",
       "      <td>tt6468322</td>\n",
       "      <td>Netflix</td>\n",
       "      <td>Action</td>\n",
       "      <td>3701</td>\n",
       "    </tr>\n",
       "    <tr>\n",
       "      <td>2017-06-17</td>\n",
       "      <td>4</td>\n",
       "      <td>tt6468322</td>\n",
       "      <td>Netflix</td>\n",
       "      <td>Action</td>\n",
       "      <td>3809</td>\n",
       "    </tr>\n",
       "  </tbody>\n",
       "</table>\n",
       "</div>"
      ],
      "text/plain": [
       "            Unnamed: 0    imdb_id production_co   genre  occurences\n",
       "date                                                               \n",
       "2017-06-13           0  tt6468322       Netflix  Action        2223\n",
       "2017-06-14           1  tt6468322       Netflix  Action        2614\n",
       "2017-06-15           2  tt6468322       Netflix  Action        3559\n",
       "2017-06-16           3  tt6468322       Netflix  Action        3701\n",
       "2017-06-17           4  tt6468322       Netflix  Action        3809"
      ]
     },
     "execution_count": 3,
     "metadata": {},
     "output_type": "execute_result"
    }
   ],
   "source": [
    "money_heist = pd.read_csv(\"tv_show_data/money_heist.csv\")\n",
    "money_heist[\"date\"] = pd.to_datetime(money_heist[\"date\"])\n",
    "money_heist = money_heist.sort_values(by=\"date\")\n",
    "money_heist= money_heist.set_index(\"date\")\n",
    "print(\"Dateset Size : \",money_heist.shape)\n",
    "\n",
    "money_heist.head()"
   ]
  },
  {
   "cell_type": "code",
   "execution_count": 4,
   "metadata": {},
   "outputs": [
    {
     "name": "stdout",
     "output_type": "stream",
     "text": [
      "Dateset Size :  (1228, 5)\n"
     ]
    },
    {
     "data": {
      "text/html": [
       "<div>\n",
       "<style scoped>\n",
       "    .dataframe tbody tr th:only-of-type {\n",
       "        vertical-align: middle;\n",
       "    }\n",
       "\n",
       "    .dataframe tbody tr th {\n",
       "        vertical-align: top;\n",
       "    }\n",
       "\n",
       "    .dataframe thead th {\n",
       "        text-align: right;\n",
       "    }\n",
       "</style>\n",
       "<table border=\"1\" class=\"dataframe\">\n",
       "  <thead>\n",
       "    <tr style=\"text-align: right;\">\n",
       "      <th></th>\n",
       "      <th>Unnamed: 0</th>\n",
       "      <th>imdb_id</th>\n",
       "      <th>production_co</th>\n",
       "      <th>genre</th>\n",
       "      <th>occurences</th>\n",
       "    </tr>\n",
       "    <tr>\n",
       "      <th>date</th>\n",
       "      <th></th>\n",
       "      <th></th>\n",
       "      <th></th>\n",
       "      <th></th>\n",
       "      <th></th>\n",
       "    </tr>\n",
       "  </thead>\n",
       "  <tbody>\n",
       "    <tr>\n",
       "      <td>2017-04-01</td>\n",
       "      <td>0</td>\n",
       "      <td>tt0092455</td>\n",
       "      <td>Syndication</td>\n",
       "      <td>Action</td>\n",
       "      <td>439</td>\n",
       "    </tr>\n",
       "    <tr>\n",
       "      <td>2017-04-01</td>\n",
       "      <td>3</td>\n",
       "      <td>tt0092455</td>\n",
       "      <td>Syndication</td>\n",
       "      <td>Action</td>\n",
       "      <td>439</td>\n",
       "    </tr>\n",
       "    <tr>\n",
       "      <td>2017-04-02</td>\n",
       "      <td>2</td>\n",
       "      <td>tt0092455</td>\n",
       "      <td>Syndication</td>\n",
       "      <td>Action</td>\n",
       "      <td>599</td>\n",
       "    </tr>\n",
       "    <tr>\n",
       "      <td>2017-04-03</td>\n",
       "      <td>1</td>\n",
       "      <td>tt0092455</td>\n",
       "      <td>Syndication</td>\n",
       "      <td>Action</td>\n",
       "      <td>627</td>\n",
       "    </tr>\n",
       "    <tr>\n",
       "      <td>2017-04-04</td>\n",
       "      <td>4</td>\n",
       "      <td>tt0092455</td>\n",
       "      <td>Syndication</td>\n",
       "      <td>Action</td>\n",
       "      <td>554</td>\n",
       "    </tr>\n",
       "  </tbody>\n",
       "</table>\n",
       "</div>"
      ],
      "text/plain": [
       "            Unnamed: 0    imdb_id production_co   genre  occurences\n",
       "date                                                               \n",
       "2017-04-01           0  tt0092455   Syndication  Action         439\n",
       "2017-04-01           3  tt0092455   Syndication  Action         439\n",
       "2017-04-02           2  tt0092455   Syndication  Action         599\n",
       "2017-04-03           1  tt0092455   Syndication  Action         627\n",
       "2017-04-04           4  tt0092455   Syndication  Action         554"
      ]
     },
     "execution_count": 4,
     "metadata": {},
     "output_type": "execute_result"
    }
   ],
   "source": [
    "star_trek = pd.read_csv(\"tv_show_data/star_trek.csv\")\n",
    "star_trek[\"date\"] = pd.to_datetime(star_trek[\"date\"])\n",
    "star_trek = star_trek.sort_values(by=\"date\")\n",
    "star_trek= star_trek.set_index(\"date\")\n",
    "print(\"Dateset Size : \",star_trek.shape)\n",
    "\n",
    "star_trek.head()"
   ]
  },
  {
   "cell_type": "code",
   "execution_count": 5,
   "metadata": {},
   "outputs": [
    {
     "name": "stdout",
     "output_type": "stream",
     "text": [
      "Dateset Size :  (1228, 5)\n"
     ]
    },
    {
     "data": {
      "text/html": [
       "<div>\n",
       "<style scoped>\n",
       "    .dataframe tbody tr th:only-of-type {\n",
       "        vertical-align: middle;\n",
       "    }\n",
       "\n",
       "    .dataframe tbody tr th {\n",
       "        vertical-align: top;\n",
       "    }\n",
       "\n",
       "    .dataframe thead th {\n",
       "        text-align: right;\n",
       "    }\n",
       "</style>\n",
       "<table border=\"1\" class=\"dataframe\">\n",
       "  <thead>\n",
       "    <tr style=\"text-align: right;\">\n",
       "      <th></th>\n",
       "      <th>Unnamed: 0</th>\n",
       "      <th>imdb_id</th>\n",
       "      <th>production_co</th>\n",
       "      <th>genre</th>\n",
       "      <th>occurences</th>\n",
       "    </tr>\n",
       "    <tr>\n",
       "      <th>date</th>\n",
       "      <th></th>\n",
       "      <th></th>\n",
       "      <th></th>\n",
       "      <th></th>\n",
       "      <th></th>\n",
       "    </tr>\n",
       "  </thead>\n",
       "  <tbody>\n",
       "    <tr>\n",
       "      <td>2017-04-01</td>\n",
       "      <td>0</td>\n",
       "      <td>tt0386676</td>\n",
       "      <td>NBC Universal</td>\n",
       "      <td>Comedy</td>\n",
       "      <td>4220</td>\n",
       "    </tr>\n",
       "    <tr>\n",
       "      <td>2017-04-01</td>\n",
       "      <td>3</td>\n",
       "      <td>tt0386676</td>\n",
       "      <td>NBC Universal</td>\n",
       "      <td>Comedy</td>\n",
       "      <td>4220</td>\n",
       "    </tr>\n",
       "    <tr>\n",
       "      <td>2017-04-02</td>\n",
       "      <td>2</td>\n",
       "      <td>tt0386676</td>\n",
       "      <td>NBC Universal</td>\n",
       "      <td>Comedy</td>\n",
       "      <td>4933</td>\n",
       "    </tr>\n",
       "    <tr>\n",
       "      <td>2017-04-03</td>\n",
       "      <td>1</td>\n",
       "      <td>tt0386676</td>\n",
       "      <td>NBC Universal</td>\n",
       "      <td>Comedy</td>\n",
       "      <td>4484</td>\n",
       "    </tr>\n",
       "    <tr>\n",
       "      <td>2017-04-04</td>\n",
       "      <td>4</td>\n",
       "      <td>tt0386676</td>\n",
       "      <td>NBC Universal</td>\n",
       "      <td>Comedy</td>\n",
       "      <td>3634</td>\n",
       "    </tr>\n",
       "  </tbody>\n",
       "</table>\n",
       "</div>"
      ],
      "text/plain": [
       "            Unnamed: 0    imdb_id  production_co   genre  occurences\n",
       "date                                                                \n",
       "2017-04-01           0  tt0386676  NBC Universal  Comedy        4220\n",
       "2017-04-01           3  tt0386676  NBC Universal  Comedy        4220\n",
       "2017-04-02           2  tt0386676  NBC Universal  Comedy        4933\n",
       "2017-04-03           1  tt0386676  NBC Universal  Comedy        4484\n",
       "2017-04-04           4  tt0386676  NBC Universal  Comedy        3634"
      ]
     },
     "execution_count": 5,
     "metadata": {},
     "output_type": "execute_result"
    }
   ],
   "source": [
    "the_office = pd.read_csv(\"tv_show_data/the_office.csv\")\n",
    "the_office[\"date\"] = pd.to_datetime(the_office[\"date\"])\n",
    "the_office = the_office.sort_values(by=\"date\")\n",
    "the_office= the_office.set_index(\"date\")\n",
    "print(\"Dateset Size : \",the_office.shape)\n",
    "\n",
    "the_office.head()"
   ]
  },
  {
   "cell_type": "markdown",
   "metadata": {},
   "source": [
    "## Visualizing Data & Basic Stats\n",
    "\n",
    "### 1. Dark"
   ]
  },
  {
   "cell_type": "code",
   "execution_count": 6,
   "metadata": {},
   "outputs": [
    {
     "data": {
      "image/png": "[encoded data removed]",
      "text/plain": [
       "<Figure size 864x432 with 1 Axes>"
      ]
     },
     "metadata": {},
     "output_type": "display_data"
    }
   ],
   "source": [
    "with plt.style.context(\"ggplot\"):\n",
    "    dark.plot(y=\"occurences\", figsize=(12,6));"
   ]
  },
  {
   "cell_type": "code",
   "execution_count": 7,
   "metadata": {},
   "outputs": [
    {
     "data": {
      "image/png": "[encoded data removed]",
      "text/plain": [
       "<Figure size 1080x360 with 2 Axes>"
      ]
     },
     "metadata": {
      "needs_background": "light"
     },
     "output_type": "display_data"
    }
   ],
   "source": [
    "fig = plt.figure(figsize=(15,5))\n",
    "ax1 = fig.add_subplot(121)\n",
    "plot_acf(dark[\"occurences\"], ax=ax1);\n",
    "ax2 = fig.add_subplot(122)\n",
    "plot_pacf(dark[\"occurences\"], ax=ax2);"
   ]
  },
  {
   "cell_type": "code",
   "execution_count": 8,
   "metadata": {},
   "outputs": [
    {
     "data": {
      "image/png": "[encoded data removed]",
      "text/plain": [
       "<Figure size 720x432 with 4 Axes>"
      ]
     },
     "metadata": {
      "needs_background": "light"
     },
     "output_type": "display_data"
    }
   ],
   "source": [
    "decompose = seasonal_decompose(dark[\"occurences\"],  period=1)\n",
    "\n",
    "fig = decompose.plot();\n",
    "fig.set_figwidth(10);fig.set_figheight(6);"
   ]
  },
  {
   "cell_type": "code",
   "execution_count": 9,
   "metadata": {},
   "outputs": [],
   "source": [
    "def test_stationarity(df):\n",
    "    adf, p_value, usedlag, n_obs, critical_vals, icbest = adfuller(df)\n",
    "\n",
    "    print(\"1. ADF : \",adf)\n",
    "    print(\"2. P-Value : \", p_value)\n",
    "    print(\"2. P-Value : %.3f\"%(p_value))\n",
    "    print(\"3. Num Of Lags : \", usedlag)\n",
    "    print(\"4. Num Of Observations Used For ADF Regression and Critical Values Calculation :\", n_obs)\n",
    "    print(\"5. Critical Values :\")\n",
    "    for key, val in critical_vals.items():\n",
    "        print(\"\\t\",key, \": \", val)"
   ]
  },
  {
   "cell_type": "code",
   "execution_count": 10,
   "metadata": {},
   "outputs": [
    {
     "name": "stdout",
     "output_type": "stream",
     "text": [
      "1. ADF :  -2.633754609071489\n",
      "2. P-Value :  0.08621959994176975\n",
      "2. P-Value : 0.086\n",
      "3. Num Of Lags :  10\n",
      "4. Num Of Observations Used For ADF Regression and Critical Values Calculation : 975\n",
      "5. Critical Values :\n",
      "\t 1% :  -3.43707471791689\n",
      "\t 5% :  -2.8645089073679597\n",
      "\t 10% :  -2.5683508010519396\n"
     ]
    }
   ],
   "source": [
    "test_stationarity(dark[[\"occurences\"]])"
   ]
  },
  {
   "cell_type": "code",
   "execution_count": 11,
   "metadata": {},
   "outputs": [
    {
     "name": "stdout",
     "output_type": "stream",
     "text": [
      "Statistics = 870.370, p=0.000\n",
      "CSI1 : Data looks non-Gaussian (reject null hypothesis)\n"
     ]
    }
   ],
   "source": [
    "stat,p = stats.normaltest(dark[[\"occurences\"]])\n",
    "print(\"Statistics = %.3f, p=%.3f\" % (stat,p))\n",
    "alpha = 0.05\n",
    "if p> alpha:\n",
    "    print('CSI1 : Data looks Gaussian (fail to reject null hypothesis)')\n",
    "else:\n",
    "    print('CSI1 : Data looks non-Gaussian (reject null hypothesis)')"
   ]
  },
  {
   "cell_type": "code",
   "execution_count": 12,
   "metadata": {},
   "outputs": [
    {
     "data": {
      "text/plain": [
       "count       986.000000\n",
       "mean      26554.911765\n",
       "std       38548.061207\n",
       "min         622.000000\n",
       "25%        8275.750000\n",
       "50%       13604.000000\n",
       "75%       27237.250000\n",
       "max      402367.000000\n",
       "Name: occurences, dtype: float64"
      ]
     },
     "execution_count": 12,
     "metadata": {},
     "output_type": "execute_result"
    },
    {
     "data": {
      "image/png": "[encoded data removed]",
      "text/plain": [
       "<Figure size 1008x432 with 2 Axes>"
      ]
     },
     "metadata": {},
     "output_type": "display_data"
    }
   ],
   "source": [
    "with plt.style.context((\"ggplot\")):\n",
    "    plt.figure(figsize=(14,6))\n",
    "    plt.subplot(1,2,1)\n",
    "    dark['occurences'].hist(bins=50)\n",
    "    plt.title('occurences')\n",
    "    plt.subplot(1,2,2)\n",
    "    stats.probplot(dark['occurences'], plot=plt);\n",
    "\n",
    "dark.occurences.describe().T"
   ]
  },
  {
   "cell_type": "markdown",
   "metadata": {},
   "source": [
    "### 2. Money Heist"
   ]
  },
  {
   "cell_type": "code",
   "execution_count": 13,
   "metadata": {},
   "outputs": [
    {
     "data": {
      "image/png": "[encoded data removed]",
      "text/plain": [
       "<Figure size 864x432 with 1 Axes>"
      ]
     },
     "metadata": {},
     "output_type": "display_data"
    }
   ],
   "source": [
    "with plt.style.context(\"ggplot\"):\n",
    "    money_heist.plot(y=\"occurences\", figsize=(12,6));"
   ]
  },
  {
   "cell_type": "code",
   "execution_count": 14,
   "metadata": {},
   "outputs": [
    {
     "data": {
      "image/png": "[encoded data removed]",
      "text/plain": [
       "<Figure size 1080x360 with 2 Axes>"
      ]
     },
     "metadata": {
      "needs_background": "light"
     },
     "output_type": "display_data"
    }
   ],
   "source": [
    "fig = plt.figure(figsize=(15,5))\n",
    "ax1 = fig.add_subplot(121)\n",
    "plot_acf(money_heist[\"occurences\"], ax=ax1);\n",
    "ax2 = fig.add_subplot(122)\n",
    "plot_pacf(money_heist[\"occurences\"], ax=ax2);"
   ]
  },
  {
   "cell_type": "code",
   "execution_count": 15,
   "metadata": {},
   "outputs": [
    {
     "data": {
      "image/png": "[encoded data removed]",
      "text/plain": [
       "<Figure size 720x432 with 4 Axes>"
      ]
     },
     "metadata": {
      "needs_background": "light"
     },
     "output_type": "display_data"
    }
   ],
   "source": [
    "decompose = seasonal_decompose(money_heist[\"occurences\"],  period=1)\n",
    "\n",
    "fig = decompose.plot();\n",
    "fig.set_figwidth(10);fig.set_figheight(6);"
   ]
  },
  {
   "cell_type": "code",
   "execution_count": 16,
   "metadata": {},
   "outputs": [
    {
     "name": "stdout",
     "output_type": "stream",
     "text": [
      "1. ADF :  -3.4442486682341267\n",
      "2. P-Value :  0.009539806538783538\n",
      "2. P-Value : 0.010\n",
      "3. Num Of Lags :  15\n",
      "4. Num Of Observations Used For ADF Regression and Critical Values Calculation : 1137\n",
      "5. Critical Values :\n",
      "\t 1% :  -3.436114401808766\n",
      "\t 5% :  -2.8640853428381092\n",
      "\t 10% :  -2.568125207156112\n"
     ]
    }
   ],
   "source": [
    "test_stationarity(money_heist[[\"occurences\"]])"
   ]
  },
  {
   "cell_type": "code",
   "execution_count": 17,
   "metadata": {},
   "outputs": [
    {
     "name": "stdout",
     "output_type": "stream",
     "text": [
      "Statistics = 917.375, p=0.000\n",
      "CSI1 : Data looks non-Gaussian (reject null hypothesis)\n"
     ]
    }
   ],
   "source": [
    "stat,p = stats.normaltest(money_heist[[\"occurences\"]])\n",
    "print(\"Statistics = %.3f, p=%.3f\" % (stat,p))\n",
    "alpha = 0.05\n",
    "if p> alpha:\n",
    "    print('CSI1 : Data looks Gaussian (fail to reject null hypothesis)')\n",
    "else:\n",
    "    print('CSI1 : Data looks non-Gaussian (reject null hypothesis)')"
   ]
  },
  {
   "cell_type": "code",
   "execution_count": 18,
   "metadata": {},
   "outputs": [
    {
     "data": {
      "text/plain": [
       "count      1153.000000\n",
       "mean      72429.615785\n",
       "std       76245.556098\n",
       "min         234.000000\n",
       "25%       38799.000000\n",
       "50%       55248.000000\n",
       "75%       73509.000000\n",
       "max      900732.000000\n",
       "Name: occurences, dtype: float64"
      ]
     },
     "execution_count": 18,
     "metadata": {},
     "output_type": "execute_result"
    },
    {
     "data": {
      "image/png": "[encoded data removed]",
      "text/plain": [
       "<Figure size 1008x432 with 2 Axes>"
      ]
     },
     "metadata": {},
     "output_type": "display_data"
    }
   ],
   "source": [
    "with plt.style.context((\"ggplot\")):\n",
    "    plt.figure(figsize=(14,6))\n",
    "    plt.subplot(1,2,1)\n",
    "    money_heist['occurences'].hist(bins=50)\n",
    "    plt.title('occurences')\n",
    "    plt.subplot(1,2,2)\n",
    "    stats.probplot(money_heist['occurences'], plot=plt);\n",
    "\n",
    "money_heist.occurences.describe().T"
   ]
  },
  {
   "cell_type": "markdown",
   "metadata": {},
   "source": [
    "### 3. Star Trek"
   ]
  },
  {
   "cell_type": "code",
   "execution_count": 19,
   "metadata": {},
   "outputs": [
    {
     "data": {
      "image/png": "[encoded data removed]",
      "text/plain": [
       "<Figure size 864x432 with 1 Axes>"
      ]
     },
     "metadata": {},
     "output_type": "display_data"
    }
   ],
   "source": [
    "with plt.style.context(\"ggplot\"):\n",
    "    star_trek.plot(y=\"occurences\", figsize=(12,6));"
   ]
  },
  {
   "cell_type": "code",
   "execution_count": 20,
   "metadata": {},
   "outputs": [
    {
     "data": {
      "image/png": "[encoded data removed]",
      "text/plain": [
       "<Figure size 1080x360 with 2 Axes>"
      ]
     },
     "metadata": {
      "needs_background": "light"
     },
     "output_type": "display_data"
    }
   ],
   "source": [
    "fig = plt.figure(figsize=(15,5))\n",
    "ax1 = fig.add_subplot(121)\n",
    "plot_acf(star_trek[\"occurences\"], ax=ax1);\n",
    "ax2 = fig.add_subplot(122)\n",
    "plot_pacf(star_trek[\"occurences\"], ax=ax2);"
   ]
  },
  {
   "cell_type": "code",
   "execution_count": 21,
   "metadata": {},
   "outputs": [
    {
     "data": {
      "image/png": "[encoded data removed]",
      "text/plain": [
       "<Figure size 720x432 with 4 Axes>"
      ]
     },
     "metadata": {
      "needs_background": "light"
     },
     "output_type": "display_data"
    }
   ],
   "source": [
    "decompose = seasonal_decompose(star_trek[\"occurences\"],  period=1)\n",
    "\n",
    "fig = decompose.plot();\n",
    "fig.set_figwidth(10);fig.set_figheight(6);"
   ]
  },
  {
   "cell_type": "code",
   "execution_count": 22,
   "metadata": {},
   "outputs": [
    {
     "name": "stdout",
     "output_type": "stream",
     "text": [
      "1. ADF :  -2.1249074324567925\n",
      "2. P-Value :  0.23461784547505554\n",
      "2. P-Value : 0.235\n",
      "3. Num Of Lags :  11\n",
      "4. Num Of Observations Used For ADF Regression and Critical Values Calculation : 1216\n",
      "5. Critical Values :\n",
      "\t 1% :  -3.435739110194116\n",
      "\t 5% :  -2.863919777127088\n",
      "\t 10% :  -2.5680370312770515\n"
     ]
    }
   ],
   "source": [
    "test_stationarity(star_trek[[\"occurences\"]])"
   ]
  },
  {
   "cell_type": "code",
   "execution_count": 23,
   "metadata": {},
   "outputs": [
    {
     "name": "stdout",
     "output_type": "stream",
     "text": [
      "Statistics = 3.296, p=0.192\n",
      "CSI1 : Data looks Gaussian (fail to reject null hypothesis)\n"
     ]
    }
   ],
   "source": [
    "stat,p = stats.normaltest(star_trek[[\"occurences\"]])\n",
    "print(\"Statistics = %.3f, p=%.3f\" % (stat,p))\n",
    "alpha = 0.05\n",
    "if p> alpha:\n",
    "    print('CSI1 : Data looks Gaussian (fail to reject null hypothesis)')\n",
    "else:\n",
    "    print('CSI1 : Data looks non-Gaussian (reject null hypothesis)')"
   ]
  },
  {
   "cell_type": "code",
   "execution_count": 24,
   "metadata": {},
   "outputs": [
    {
     "data": {
      "text/plain": [
       "count    1228.000000\n",
       "mean     1585.905537\n",
       "std       620.778207\n",
       "min        78.000000\n",
       "25%      1337.750000\n",
       "50%      1611.000000\n",
       "75%      1873.250000\n",
       "max      3774.000000\n",
       "Name: occurences, dtype: float64"
      ]
     },
     "execution_count": 24,
     "metadata": {},
     "output_type": "execute_result"
    },
    {
     "data": {
      "image/png": "[encoded data removed]",
      "text/plain": [
       "<Figure size 1008x432 with 2 Axes>"
      ]
     },
     "metadata": {},
     "output_type": "display_data"
    }
   ],
   "source": [
    "with plt.style.context((\"ggplot\")):\n",
    "    plt.figure(figsize=(14,6))\n",
    "    plt.subplot(1,2,1)\n",
    "    star_trek['occurences'].hist(bins=50)\n",
    "    plt.title('occurences')\n",
    "    plt.subplot(1,2,2)\n",
    "    stats.probplot(star_trek['occurences'], plot=plt);\n",
    "\n",
    "star_trek.occurences.describe().T"
   ]
  },
  {
   "cell_type": "markdown",
   "metadata": {},
   "source": [
    "### 4. The Office"
   ]
  },
  {
   "cell_type": "code",
   "execution_count": 25,
   "metadata": {},
   "outputs": [
    {
     "data": {
      "image/png": "[encoded data removed]",
      "text/plain": [
       "<Figure size 864x432 with 1 Axes>"
      ]
     },
     "metadata": {},
     "output_type": "display_data"
    }
   ],
   "source": [
    "with plt.style.context(\"ggplot\"):\n",
    "    the_office.plot(y=\"occurences\", figsize=(12,6));"
   ]
  },
  {
   "cell_type": "code",
   "execution_count": 26,
   "metadata": {},
   "outputs": [
    {
     "data": {
      "image/png": "[encoded data removed]",
      "text/plain": [
       "<Figure size 1080x360 with 2 Axes>"
      ]
     },
     "metadata": {
      "needs_background": "light"
     },
     "output_type": "display_data"
    }
   ],
   "source": [
    "fig = plt.figure(figsize=(15,5))\n",
    "ax1 = fig.add_subplot(121)\n",
    "plot_acf(the_office[\"occurences\"], ax=ax1);\n",
    "ax2 = fig.add_subplot(122)\n",
    "plot_pacf(the_office[\"occurences\"], ax=ax2);"
   ]
  },
  {
   "cell_type": "code",
   "execution_count": 27,
   "metadata": {},
   "outputs": [
    {
     "data": {
      "image/png": "[encoded data removed]",
      "text/plain": [
       "<Figure size 720x432 with 4 Axes>"
      ]
     },
     "metadata": {
      "needs_background": "light"
     },
     "output_type": "display_data"
    }
   ],
   "source": [
    "decompose = seasonal_decompose(the_office[\"occurences\"],  period=1)\n",
    "\n",
    "fig = decompose.plot();\n",
    "fig.set_figwidth(10);fig.set_figheight(6);"
   ]
  },
  {
   "cell_type": "code",
   "execution_count": 28,
   "metadata": {},
   "outputs": [
    {
     "name": "stdout",
     "output_type": "stream",
     "text": [
      "1. ADF :  0.15897334722028028\n",
      "2. P-Value :  0.9698643492160596\n",
      "2. P-Value : 0.970\n",
      "3. Num Of Lags :  20\n",
      "4. Num Of Observations Used For ADF Regression and Critical Values Calculation : 1207\n",
      "5. Critical Values :\n",
      "\t 1% :  -3.43577938005948\n",
      "\t 5% :  -2.863937543790164\n",
      "\t 10% :  -2.568046493171221\n"
     ]
    }
   ],
   "source": [
    "test_stationarity(the_office[[\"occurences\"]])"
   ]
  },
  {
   "cell_type": "code",
   "execution_count": 29,
   "metadata": {},
   "outputs": [
    {
     "name": "stdout",
     "output_type": "stream",
     "text": [
      "Statistics = 107.480, p=0.000\n",
      "CSI1 : Data looks non-Gaussian (reject null hypothesis)\n"
     ]
    }
   ],
   "source": [
    "stat,p = stats.normaltest(the_office[[\"occurences\"]])\n",
    "print(\"Statistics = %.3f, p=%.3f\" % (stat,p))\n",
    "alpha = 0.05\n",
    "if p> alpha:\n",
    "    print('CSI1 : Data looks Gaussian (fail to reject null hypothesis)')\n",
    "else:\n",
    "    print('CSI1 : Data looks non-Gaussian (reject null hypothesis)')"
   ]
  },
  {
   "cell_type": "code",
   "execution_count": 30,
   "metadata": {},
   "outputs": [
    {
     "data": {
      "text/plain": [
       "count     1228.000000\n",
       "mean     15788.056189\n",
       "std       9421.264499\n",
       "min       1712.000000\n",
       "25%       7995.750000\n",
       "50%      12872.500000\n",
       "75%      22063.750000\n",
       "max      40242.000000\n",
       "Name: occurences, dtype: float64"
      ]
     },
     "execution_count": 30,
     "metadata": {},
     "output_type": "execute_result"
    },
    {
     "data": {
      "image/png": "[encoded data removed]",
      "text/plain": [
       "<Figure size 1008x432 with 2 Axes>"
      ]
     },
     "metadata": {},
     "output_type": "display_data"
    }
   ],
   "source": [
    "with plt.style.context((\"ggplot\")):\n",
    "    plt.figure(figsize=(14,6))\n",
    "    plt.subplot(1,2,1)\n",
    "    the_office['occurences'].hist(bins=50)\n",
    "    plt.title('occurences')\n",
    "    plt.subplot(1,2,2)\n",
    "    stats.probplot(the_office['occurences'], plot=plt);\n",
    "\n",
    "the_office.occurences.describe().T"
   ]
  },
  {
   "cell_type": "code",
   "execution_count": 31,
   "metadata": {},
   "outputs": [
    {
     "name": "stdout",
     "output_type": "stream",
     "text": [
      "Kurtosis of normal distribution (The Office) :  [-0.48295892]\n",
      "Kurtosis of normal distribution (Money Heist) :  [21.07355709]\n",
      "Kurtosis of normal distribution (Star Trek) :  [0.24014507]\n",
      "Kurtosis of normal distribution (Dark) :  [21.70272936]\n"
     ]
    }
   ],
   "source": [
    "print(\"Kurtosis of normal distribution (The Office) : \", stats.kurtosis(the_office[[\"occurences\"]]))\n",
    "print(\"Kurtosis of normal distribution (Money Heist) : \", stats.kurtosis(money_heist[[\"occurences\"]]))\n",
    "print(\"Kurtosis of normal distribution (Star Trek) : \", stats.kurtosis(star_trek[[\"occurences\"]]))\n",
    "print(\"Kurtosis of normal distribution (Dark) : \", stats.kurtosis(dark[[\"occurences\"]]))"
   ]
  },
  {
   "cell_type": "code",
   "execution_count": 32,
   "metadata": {},
   "outputs": [
    {
     "name": "stdout",
     "output_type": "stream",
     "text": [
      "Kurtosis of normal distribution (The Office) :  [0.71678784]\n",
      "Kurtosis of normal distribution (Money Heist) :  [3.50016638]\n",
      "Kurtosis of normal distribution (Star Trek) :  [-0.0517547]\n",
      "Kurtosis of normal distribution (Dark) :  [4.09730483]\n"
     ]
    }
   ],
   "source": [
    "print(\"Kurtosis of normal distribution (The Office) : \", stats.skew(the_office[[\"occurences\"]]))\n",
    "print(\"Kurtosis of normal distribution (Money Heist) : \", stats.skew(money_heist[[\"occurences\"]]))\n",
    "print(\"Kurtosis of normal distribution (Star Trek) : \", stats.skew(star_trek[[\"occurences\"]]))\n",
    "print(\"Kurtosis of normal distribution (Dark) : \", stats.skew(dark[[\"occurences\"]]))"
   ]
  },
  {
   "cell_type": "markdown",
   "metadata": {},
   "source": [
    "# ARIMA"
   ]
  },
  {
   "cell_type": "markdown",
   "metadata": {},
   "source": [
    "## The Office"
   ]
  },
  {
   "cell_type": "code",
   "execution_count": 33,
   "metadata": {},
   "outputs": [
    {
     "data": {
      "text/plain": [
       "((1223, 1), (5, 1))"
      ]
     },
     "execution_count": 33,
     "metadata": {},
     "output_type": "execute_result"
    }
   ],
   "source": [
    "future_pred_cnt = 5\n",
    "\n",
    "X_train, X_test = the_office[[\"occurences\"]][:-future_pred_cnt], the_office[[\"occurences\"]][-future_pred_cnt:] \n",
    "\n",
    "X_train.shape, X_test.shape"
   ]
  },
  {
   "cell_type": "code",
   "execution_count": 34,
   "metadata": {},
   "outputs": [
    {
     "name": "stdout",
     "output_type": "stream",
     "text": [
      "1. ADF :  -10.589130621260425\n",
      "2. P-Value :  6.597451441515709e-19\n",
      "2. P-Value : 0.000\n",
      "3. Num Of Lags :  19\n",
      "4. Num Of Observations Used For ADF Regression and Critical Values Calculation : 1202\n",
      "5. Critical Values :\n",
      "\t 1% :  -3.43580201334162\n",
      "\t 5% :  -2.8639475292642795\n",
      "\t 10% :  -2.5680518110968684\n"
     ]
    }
   ],
   "source": [
    "X_train_diff = X_train.diff().dropna()\n",
    "\n",
    "test_stationarity(X_train_diff)"
   ]
  },
  {
   "cell_type": "code",
   "execution_count": 35,
   "metadata": {},
   "outputs": [],
   "source": [
    "def invert_transformation(X_train, pred):\n",
    "    forecast = pred.copy()\n",
    "    columns = X_train.columns\n",
    "    for col in columns:\n",
    "        forecast[str(col)+'_pred'] = X_train[col].iloc[-1] + forecast[str(col)+'_pred'].cumsum()\n",
    "    return forecast\n",
    "\n",
    "def try_arima(X_train_diff, X_test, ar_range, i_range, ma_range, trends):\n",
    "    ar, i, ma, trend, least_mse = None, None, None, None, 1e9\n",
    "\n",
    "    for j in ar_range:\n",
    "        for k in i_range:\n",
    "            for l in ma_range:\n",
    "                for t in trends:\n",
    "                    try:\n",
    "                        model = ARIMA(X_train_diff, order=(j, k, l), trend=t)\n",
    "                        model_fit = model.fit()\n",
    "                        preds = model_fit.forecast(steps=future_pred_cnt)\n",
    "                        preds = (pd.DataFrame(preds, columns=X_test.columns + '_pred'))\n",
    "                        actual_preds = invert_transformation(X_train, preds)\n",
    "                        mse = mean_squared_error(actual_preds.values, X_test.values)\n",
    "                        if mse < least_mse:\n",
    "                            least_mse = mse\n",
    "                            ar, i, ma, trend = j, k, l, t\n",
    "                    except:\n",
    "                        #print(\"Error: Param Settings : %d, %d, %d, %s\"%(j, k, l, t))\n",
    "                        continue\n",
    "    return least_mse, ar, i, ma, trend"
   ]
  },
  {
   "cell_type": "code",
   "execution_count": 36,
   "metadata": {},
   "outputs": [
    {
     "name": "stdout",
     "output_type": "stream",
     "text": [
      "Least MSE 739097.9 with Param Settings : (AR : 3, I : 1, MA : 0, Trend : ct)\n",
      "CPU times: user 15min 12s, sys: 7min 20s, total: 22min 32s\n",
      "Wall time: 5min 49s\n"
     ]
    }
   ],
   "source": [
    "%%time\n",
    "\n",
    "least_mse, ar, i, ma, trend = try_arima(X_train_diff, X_test, range(1,7), range(2), range(7), [\"n\", \"c\", \"t\", \"ct\"])\n",
    "\n",
    "print(\"Least MSE %.1f with Param Settings : (AR : %d, I : %d, MA : %d, Trend : %s)\"%(least_mse, ar, i, ma, trend))"
   ]
  },
  {
   "cell_type": "code",
   "execution_count": 37,
   "metadata": {},
   "outputs": [],
   "source": [
    "def make_predictions(X_train_diff, ar, i, ma, trend):\n",
    "    model = ARIMA(X_train_diff, order=(ar, i, ma), trend=trend)\n",
    "    model_fit = model.fit()\n",
    "    \n",
    "    pred = model_fit.forecast(steps=future_pred_cnt)\n",
    "    pred = (pd.DataFrame(pred, columns=X_test.columns + '_pred'))\n",
    "\n",
    "    actual_pred = invert_transformation(X_train, pred)\n",
    "    actual_pred.index = X_test.index.values\n",
    "    actual_pred.index.name = \"date\"\n",
    "\n",
    "    return actual_pred"
   ]
  },
  {
   "cell_type": "code",
   "execution_count": 38,
   "metadata": {},
   "outputs": [],
   "source": [
    "def combine_results(actual_pred, X_test):\n",
    "    combine = pd.concat([actual_pred['occurences_pred'], X_test['occurences']], axis=1)\n",
    "    combine['accuracy'] = round(combine.apply(lambda row: row.occurences_pred /row.occurences *100, axis = 1),2)\n",
    "    combine['accuracy'] = pd.Series([\"{0:.2f}%\".format(val) for val in combine['accuracy']],index = combine.index)\n",
    "    combine = combine.round(decimals=2).reset_index()\n",
    "    #combine = combine.sort_values(by='date', ascending=False)\n",
    "    return combine"
   ]
  },
  {
   "cell_type": "code",
   "execution_count": 39,
   "metadata": {},
   "outputs": [
    {
     "data": {
      "text/html": [
       "<div>\n",
       "<style scoped>\n",
       "    .dataframe tbody tr th:only-of-type {\n",
       "        vertical-align: middle;\n",
       "    }\n",
       "\n",
       "    .dataframe tbody tr th {\n",
       "        vertical-align: top;\n",
       "    }\n",
       "\n",
       "    .dataframe thead th {\n",
       "        text-align: right;\n",
       "    }\n",
       "</style>\n",
       "<table border=\"1\" class=\"dataframe\">\n",
       "  <thead>\n",
       "    <tr style=\"text-align: right;\">\n",
       "      <th></th>\n",
       "      <th>occurences_pred</th>\n",
       "    </tr>\n",
       "    <tr>\n",
       "      <th>date</th>\n",
       "      <th></th>\n",
       "    </tr>\n",
       "  </thead>\n",
       "  <tbody>\n",
       "    <tr>\n",
       "      <td>2020-08-22</td>\n",
       "      <td>34410.822193</td>\n",
       "    </tr>\n",
       "    <tr>\n",
       "      <td>2020-08-23</td>\n",
       "      <td>35428.531744</td>\n",
       "    </tr>\n",
       "    <tr>\n",
       "      <td>2020-08-24</td>\n",
       "      <td>36708.199574</td>\n",
       "    </tr>\n",
       "    <tr>\n",
       "      <td>2020-08-25</td>\n",
       "      <td>37059.850546</td>\n",
       "    </tr>\n",
       "    <tr>\n",
       "      <td>2020-08-26</td>\n",
       "      <td>37893.727307</td>\n",
       "    </tr>\n",
       "  </tbody>\n",
       "</table>\n",
       "</div>"
      ],
      "text/plain": [
       "            occurences_pred\n",
       "date                       \n",
       "2020-08-22     34410.822193\n",
       "2020-08-23     35428.531744\n",
       "2020-08-24     36708.199574\n",
       "2020-08-25     37059.850546\n",
       "2020-08-26     37893.727307"
      ]
     },
     "execution_count": 39,
     "metadata": {},
     "output_type": "execute_result"
    }
   ],
   "source": [
    "actual_pred = make_predictions(X_train_diff, ar, i, ma, trend)\n",
    "\n",
    "actual_pred"
   ]
  },
  {
   "cell_type": "code",
   "execution_count": 40,
   "metadata": {},
   "outputs": [
    {
     "data": {
      "text/html": [
       "<div>\n",
       "<style scoped>\n",
       "    .dataframe tbody tr th:only-of-type {\n",
       "        vertical-align: middle;\n",
       "    }\n",
       "\n",
       "    .dataframe tbody tr th {\n",
       "        vertical-align: top;\n",
       "    }\n",
       "\n",
       "    .dataframe thead th {\n",
       "        text-align: right;\n",
       "    }\n",
       "</style>\n",
       "<table border=\"1\" class=\"dataframe\">\n",
       "  <thead>\n",
       "    <tr style=\"text-align: right;\">\n",
       "      <th></th>\n",
       "      <th>date</th>\n",
       "      <th>occurences_pred</th>\n",
       "      <th>occurences</th>\n",
       "      <th>accuracy</th>\n",
       "    </tr>\n",
       "  </thead>\n",
       "  <tbody>\n",
       "    <tr>\n",
       "      <td>0</td>\n",
       "      <td>2020-08-22</td>\n",
       "      <td>34410.82</td>\n",
       "      <td>34042</td>\n",
       "      <td>101.08%</td>\n",
       "    </tr>\n",
       "    <tr>\n",
       "      <td>1</td>\n",
       "      <td>2020-08-23</td>\n",
       "      <td>35428.53</td>\n",
       "      <td>35654</td>\n",
       "      <td>99.37%</td>\n",
       "    </tr>\n",
       "    <tr>\n",
       "      <td>2</td>\n",
       "      <td>2020-08-24</td>\n",
       "      <td>36708.20</td>\n",
       "      <td>36339</td>\n",
       "      <td>101.02%</td>\n",
       "    </tr>\n",
       "    <tr>\n",
       "      <td>3</td>\n",
       "      <td>2020-08-25</td>\n",
       "      <td>37059.85</td>\n",
       "      <td>35706</td>\n",
       "      <td>103.79%</td>\n",
       "    </tr>\n",
       "    <tr>\n",
       "      <td>4</td>\n",
       "      <td>2020-08-26</td>\n",
       "      <td>37893.73</td>\n",
       "      <td>36653</td>\n",
       "      <td>103.39%</td>\n",
       "    </tr>\n",
       "  </tbody>\n",
       "</table>\n",
       "</div>"
      ],
      "text/plain": [
       "        date  occurences_pred  occurences accuracy\n",
       "0 2020-08-22         34410.82       34042  101.08%\n",
       "1 2020-08-23         35428.53       35654   99.37%\n",
       "2 2020-08-24         36708.20       36339  101.02%\n",
       "3 2020-08-25         37059.85       35706  103.79%\n",
       "4 2020-08-26         37893.73       36653  103.39%"
      ]
     },
     "execution_count": 40,
     "metadata": {},
     "output_type": "execute_result"
    }
   ],
   "source": [
    "combined_results = combine_results(actual_pred, X_test)\n",
    "\n",
    "combined_results"
   ]
  },
  {
   "cell_type": "code",
   "execution_count": 41,
   "metadata": {},
   "outputs": [],
   "source": [
    "#with plt.style.context(\"ggplot\"):\n",
    "#    combined_results.plot(y=[\"occurences\", \"occurences_pred\"])"
   ]
  },
  {
   "cell_type": "markdown",
   "metadata": {},
   "source": [
    "## Start Trek"
   ]
  },
  {
   "cell_type": "code",
   "execution_count": 42,
   "metadata": {},
   "outputs": [
    {
     "data": {
      "text/plain": [
       "((1223, 1), (5, 1))"
      ]
     },
     "execution_count": 42,
     "metadata": {},
     "output_type": "execute_result"
    }
   ],
   "source": [
    "future_pred_cnt = 5\n",
    "\n",
    "X_train, X_test = star_trek[[\"occurences\"]][:-future_pred_cnt], star_trek[[\"occurences\"]][-future_pred_cnt:] \n",
    "\n",
    "X_train.shape, X_test.shape"
   ]
  },
  {
   "cell_type": "code",
   "execution_count": 43,
   "metadata": {},
   "outputs": [
    {
     "name": "stdout",
     "output_type": "stream",
     "text": [
      "1. ADF :  -14.891625834885964\n",
      "2. P-Value :  1.5541921104047747e-27\n",
      "2. P-Value : 0.000\n",
      "3. Num Of Lags :  10\n",
      "4. Num Of Observations Used For ADF Regression and Critical Values Calculation : 1211\n",
      "5. Critical Values :\n",
      "\t 1% :  -3.435761408287299\n",
      "\t 5% :  -2.863929614852828\n",
      "\t 10% :  -2.568042270495956\n"
     ]
    }
   ],
   "source": [
    "X_train_diff = X_train.diff().dropna()\n",
    "\n",
    "test_stationarity(X_train_diff)"
   ]
  },
  {
   "cell_type": "code",
   "execution_count": 44,
   "metadata": {},
   "outputs": [
    {
     "name": "stdout",
     "output_type": "stream",
     "text": [
      "Least MSE 32300.7 with Param Settings : (AR : 1, I : 1, MA : 0, Trend : ct)\n",
      "CPU times: user 16min 13s, sys: 7min 39s, total: 23min 52s\n",
      "Wall time: 6min 6s\n"
     ]
    }
   ],
   "source": [
    "%%time\n",
    "\n",
    "least_mse, ar, i, ma, trend = try_arima(X_train_diff, X_test, range(1,7), range(2), range(7), [\"n\", \"c\", \"t\", \"ct\"])\n",
    "\n",
    "print(\"Least MSE %.1f with Param Settings : (AR : %d, I : %d, MA : %d, Trend : %s)\"%(least_mse, ar, i, ma, trend))"
   ]
  },
  {
   "cell_type": "code",
   "execution_count": 45,
   "metadata": {},
   "outputs": [
    {
     "data": {
      "text/html": [
       "<div>\n",
       "<style scoped>\n",
       "    .dataframe tbody tr th:only-of-type {\n",
       "        vertical-align: middle;\n",
       "    }\n",
       "\n",
       "    .dataframe tbody tr th {\n",
       "        vertical-align: top;\n",
       "    }\n",
       "\n",
       "    .dataframe thead th {\n",
       "        text-align: right;\n",
       "    }\n",
       "</style>\n",
       "<table border=\"1\" class=\"dataframe\">\n",
       "  <thead>\n",
       "    <tr style=\"text-align: right;\">\n",
       "      <th></th>\n",
       "      <th>occurences_pred</th>\n",
       "    </tr>\n",
       "    <tr>\n",
       "      <th>date</th>\n",
       "      <th></th>\n",
       "    </tr>\n",
       "  </thead>\n",
       "  <tbody>\n",
       "    <tr>\n",
       "      <td>2020-08-22</td>\n",
       "      <td>2380.486035</td>\n",
       "    </tr>\n",
       "    <tr>\n",
       "      <td>2020-08-23</td>\n",
       "      <td>2276.672205</td>\n",
       "    </tr>\n",
       "    <tr>\n",
       "      <td>2020-08-24</td>\n",
       "      <td>2415.922047</td>\n",
       "    </tr>\n",
       "    <tr>\n",
       "      <td>2020-08-25</td>\n",
       "      <td>2413.176361</td>\n",
       "    </tr>\n",
       "    <tr>\n",
       "      <td>2020-08-26</td>\n",
       "      <td>2492.963880</td>\n",
       "    </tr>\n",
       "  </tbody>\n",
       "</table>\n",
       "</div>"
      ],
      "text/plain": [
       "            occurences_pred\n",
       "date                       \n",
       "2020-08-22      2380.486035\n",
       "2020-08-23      2276.672205\n",
       "2020-08-24      2415.922047\n",
       "2020-08-25      2413.176361\n",
       "2020-08-26      2492.963880"
      ]
     },
     "execution_count": 45,
     "metadata": {},
     "output_type": "execute_result"
    }
   ],
   "source": [
    "actual_pred = make_predictions(X_train_diff, ar, i, ma, trend)\n",
    "\n",
    "actual_pred"
   ]
  },
  {
   "cell_type": "code",
   "execution_count": 46,
   "metadata": {},
   "outputs": [
    {
     "data": {
      "text/html": [
       "<div>\n",
       "<style scoped>\n",
       "    .dataframe tbody tr th:only-of-type {\n",
       "        vertical-align: middle;\n",
       "    }\n",
       "\n",
       "    .dataframe tbody tr th {\n",
       "        vertical-align: top;\n",
       "    }\n",
       "\n",
       "    .dataframe thead th {\n",
       "        text-align: right;\n",
       "    }\n",
       "</style>\n",
       "<table border=\"1\" class=\"dataframe\">\n",
       "  <thead>\n",
       "    <tr style=\"text-align: right;\">\n",
       "      <th></th>\n",
       "      <th>date</th>\n",
       "      <th>occurences_pred</th>\n",
       "      <th>occurences</th>\n",
       "      <th>accuracy</th>\n",
       "    </tr>\n",
       "  </thead>\n",
       "  <tbody>\n",
       "    <tr>\n",
       "      <td>0</td>\n",
       "      <td>2020-08-22</td>\n",
       "      <td>2380.49</td>\n",
       "      <td>2648</td>\n",
       "      <td>89.90%</td>\n",
       "    </tr>\n",
       "    <tr>\n",
       "      <td>1</td>\n",
       "      <td>2020-08-23</td>\n",
       "      <td>2276.67</td>\n",
       "      <td>2356</td>\n",
       "      <td>96.63%</td>\n",
       "    </tr>\n",
       "    <tr>\n",
       "      <td>2</td>\n",
       "      <td>2020-08-24</td>\n",
       "      <td>2415.92</td>\n",
       "      <td>2623</td>\n",
       "      <td>92.11%</td>\n",
       "    </tr>\n",
       "    <tr>\n",
       "      <td>3</td>\n",
       "      <td>2020-08-25</td>\n",
       "      <td>2413.18</td>\n",
       "      <td>2257</td>\n",
       "      <td>106.92%</td>\n",
       "    </tr>\n",
       "    <tr>\n",
       "      <td>4</td>\n",
       "      <td>2020-08-26</td>\n",
       "      <td>2492.96</td>\n",
       "      <td>2365</td>\n",
       "      <td>105.41%</td>\n",
       "    </tr>\n",
       "  </tbody>\n",
       "</table>\n",
       "</div>"
      ],
      "text/plain": [
       "        date  occurences_pred  occurences accuracy\n",
       "0 2020-08-22          2380.49        2648   89.90%\n",
       "1 2020-08-23          2276.67        2356   96.63%\n",
       "2 2020-08-24          2415.92        2623   92.11%\n",
       "3 2020-08-25          2413.18        2257  106.92%\n",
       "4 2020-08-26          2492.96        2365  105.41%"
      ]
     },
     "execution_count": 46,
     "metadata": {},
     "output_type": "execute_result"
    }
   ],
   "source": [
    "combined_results = combine_results(actual_pred, X_test)\n",
    "\n",
    "combined_results"
   ]
  },
  {
   "cell_type": "markdown",
   "metadata": {},
   "source": [
    "## Money Heist"
   ]
  },
  {
   "cell_type": "code",
   "execution_count": 47,
   "metadata": {},
   "outputs": [
    {
     "data": {
      "text/plain": [
       "((1148, 1), (5, 1))"
      ]
     },
     "execution_count": 47,
     "metadata": {},
     "output_type": "execute_result"
    }
   ],
   "source": [
    "future_pred_cnt = 5\n",
    "\n",
    "X_train, X_test = money_heist[[\"occurences\"]][:-future_pred_cnt], money_heist[[\"occurences\"]][-future_pred_cnt:] \n",
    "\n",
    "X_train.shape, X_test.shape"
   ]
  },
  {
   "cell_type": "code",
   "execution_count": 48,
   "metadata": {},
   "outputs": [
    {
     "name": "stdout",
     "output_type": "stream",
     "text": [
      "1. ADF :  -9.999727891007765\n",
      "2. P-Value :  1.8982961610986916e-17\n",
      "2. P-Value : 0.000\n",
      "3. Num Of Lags :  17\n",
      "4. Num Of Observations Used For ADF Regression and Critical Values Calculation : 1129\n",
      "5. Critical Values :\n",
      "\t 1% :  -3.436155341313321\n",
      "\t 5% :  -2.8641034026875123\n",
      "\t 10% :  -2.568134825546958\n"
     ]
    }
   ],
   "source": [
    "X_train_diff = X_train.diff().dropna()\n",
    "\n",
    "test_stationarity(X_train_diff)"
   ]
  },
  {
   "cell_type": "code",
   "execution_count": 49,
   "metadata": {},
   "outputs": [
    {
     "name": "stdout",
     "output_type": "stream",
     "text": [
      "Least MSE 20913882.5 with Param Settings : (AR : 1, I : 0, MA : 0, Trend : ct)\n",
      "CPU times: user 11min 42s, sys: 8min 15s, total: 19min 58s\n",
      "Wall time: 5min 10s\n"
     ]
    }
   ],
   "source": [
    "%%time\n",
    "\n",
    "least_mse, ar, i, ma, trend = try_arima(X_train_diff, X_test, range(1,7), range(2), range(7), [\"n\", \"c\", \"t\", \"ct\"])\n",
    "\n",
    "print(\"Least MSE %.1f with Param Settings : (AR : %d, I : %d, MA : %d, Trend : %s)\"%(least_mse, ar, i, ma, trend))"
   ]
  },
  {
   "cell_type": "code",
   "execution_count": 50,
   "metadata": {},
   "outputs": [
    {
     "data": {
      "text/html": [
       "<div>\n",
       "<style scoped>\n",
       "    .dataframe tbody tr th:only-of-type {\n",
       "        vertical-align: middle;\n",
       "    }\n",
       "\n",
       "    .dataframe tbody tr th {\n",
       "        vertical-align: top;\n",
       "    }\n",
       "\n",
       "    .dataframe thead th {\n",
       "        text-align: right;\n",
       "    }\n",
       "</style>\n",
       "<table border=\"1\" class=\"dataframe\">\n",
       "  <thead>\n",
       "    <tr style=\"text-align: right;\">\n",
       "      <th></th>\n",
       "      <th>occurences_pred</th>\n",
       "    </tr>\n",
       "    <tr>\n",
       "      <th>date</th>\n",
       "      <th></th>\n",
       "    </tr>\n",
       "  </thead>\n",
       "  <tbody>\n",
       "    <tr>\n",
       "      <td>2020-08-22</td>\n",
       "      <td>116439.513028</td>\n",
       "    </tr>\n",
       "    <tr>\n",
       "      <td>2020-08-23</td>\n",
       "      <td>116601.002349</td>\n",
       "    </tr>\n",
       "    <tr>\n",
       "      <td>2020-08-24</td>\n",
       "      <td>116767.450069</td>\n",
       "    </tr>\n",
       "    <tr>\n",
       "      <td>2020-08-25</td>\n",
       "      <td>116934.326700</td>\n",
       "    </tr>\n",
       "    <tr>\n",
       "      <td>2020-08-26</td>\n",
       "      <td>117101.143968</td>\n",
       "    </tr>\n",
       "  </tbody>\n",
       "</table>\n",
       "</div>"
      ],
      "text/plain": [
       "            occurences_pred\n",
       "date                       \n",
       "2020-08-22    116439.513028\n",
       "2020-08-23    116601.002349\n",
       "2020-08-24    116767.450069\n",
       "2020-08-25    116934.326700\n",
       "2020-08-26    117101.143968"
      ]
     },
     "execution_count": 50,
     "metadata": {},
     "output_type": "execute_result"
    }
   ],
   "source": [
    "actual_pred = make_predictions(X_train_diff, ar, i, ma, trend)\n",
    "\n",
    "actual_pred"
   ]
  },
  {
   "cell_type": "code",
   "execution_count": 51,
   "metadata": {},
   "outputs": [
    {
     "data": {
      "text/html": [
       "<div>\n",
       "<style scoped>\n",
       "    .dataframe tbody tr th:only-of-type {\n",
       "        vertical-align: middle;\n",
       "    }\n",
       "\n",
       "    .dataframe tbody tr th {\n",
       "        vertical-align: top;\n",
       "    }\n",
       "\n",
       "    .dataframe thead th {\n",
       "        text-align: right;\n",
       "    }\n",
       "</style>\n",
       "<table border=\"1\" class=\"dataframe\">\n",
       "  <thead>\n",
       "    <tr style=\"text-align: right;\">\n",
       "      <th></th>\n",
       "      <th>date</th>\n",
       "      <th>occurences_pred</th>\n",
       "      <th>occurences</th>\n",
       "      <th>accuracy</th>\n",
       "    </tr>\n",
       "  </thead>\n",
       "  <tbody>\n",
       "    <tr>\n",
       "      <td>0</td>\n",
       "      <td>2020-08-22</td>\n",
       "      <td>116439.51</td>\n",
       "      <td>108160</td>\n",
       "      <td>107.65%</td>\n",
       "    </tr>\n",
       "    <tr>\n",
       "      <td>1</td>\n",
       "      <td>2020-08-23</td>\n",
       "      <td>116601.00</td>\n",
       "      <td>114744</td>\n",
       "      <td>101.62%</td>\n",
       "    </tr>\n",
       "    <tr>\n",
       "      <td>2</td>\n",
       "      <td>2020-08-24</td>\n",
       "      <td>116767.45</td>\n",
       "      <td>117925</td>\n",
       "      <td>99.02%</td>\n",
       "    </tr>\n",
       "    <tr>\n",
       "      <td>3</td>\n",
       "      <td>2020-08-25</td>\n",
       "      <td>116934.33</td>\n",
       "      <td>117788</td>\n",
       "      <td>99.28%</td>\n",
       "    </tr>\n",
       "    <tr>\n",
       "      <td>4</td>\n",
       "      <td>2020-08-26</td>\n",
       "      <td>117101.14</td>\n",
       "      <td>122624</td>\n",
       "      <td>95.50%</td>\n",
       "    </tr>\n",
       "  </tbody>\n",
       "</table>\n",
       "</div>"
      ],
      "text/plain": [
       "        date  occurences_pred  occurences accuracy\n",
       "0 2020-08-22        116439.51      108160  107.65%\n",
       "1 2020-08-23        116601.00      114744  101.62%\n",
       "2 2020-08-24        116767.45      117925   99.02%\n",
       "3 2020-08-25        116934.33      117788   99.28%\n",
       "4 2020-08-26        117101.14      122624   95.50%"
      ]
     },
     "execution_count": 51,
     "metadata": {},
     "output_type": "execute_result"
    }
   ],
   "source": [
    "combined_results = combine_results(actual_pred, X_test)\n",
    "\n",
    "combined_results"
   ]
  },
  {
   "cell_type": "markdown",
   "metadata": {},
   "source": [
    "## Dark"
   ]
  },
  {
   "cell_type": "code",
   "execution_count": 52,
   "metadata": {},
   "outputs": [
    {
     "data": {
      "text/plain": [
       "((981, 1), (5, 1))"
      ]
     },
     "execution_count": 52,
     "metadata": {},
     "output_type": "execute_result"
    }
   ],
   "source": [
    "future_pred_cnt = 5\n",
    "\n",
    "X_train, X_test = dark[[\"occurences\"]][:-future_pred_cnt], dark[[\"occurences\"]][-future_pred_cnt:] \n",
    "\n",
    "X_train.shape, X_test.shape"
   ]
  },
  {
   "cell_type": "code",
   "execution_count": 53,
   "metadata": {},
   "outputs": [
    {
     "name": "stdout",
     "output_type": "stream",
     "text": [
      "1. ADF :  -12.299615264902352\n",
      "2. P-Value :  7.50187346600036e-23\n",
      "2. P-Value : 0.000\n",
      "3. Num Of Lags :  9\n",
      "4. Num Of Observations Used For ADF Regression and Critical Values Calculation : 970\n",
      "5. Critical Values :\n",
      "\t 1% :  -3.437109473790722\n",
      "\t 5% :  -2.8645242345396436\n",
      "\t 10% :  -2.568358964820916\n"
     ]
    }
   ],
   "source": [
    "X_train_diff = X_train.diff().dropna()\n",
    "\n",
    "test_stationarity(X_train_diff)"
   ]
  },
  {
   "cell_type": "code",
   "execution_count": 54,
   "metadata": {},
   "outputs": [
    {
     "name": "stdout",
     "output_type": "stream",
     "text": [
      "Least MSE 55392197.0 with Param Settings : (AR : 1, I : 1, MA : 0, Trend : ct)\n",
      "CPU times: user 12min 50s, sys: 6min 53s, total: 19min 43s\n",
      "Wall time: 5min 9s\n"
     ]
    }
   ],
   "source": [
    "%%time\n",
    "\n",
    "least_mse, ar, i, ma, trend = try_arima(X_train_diff, X_test, range(1,7), range(2), range(7), [\"n\", \"c\", \"t\", \"ct\"])\n",
    "\n",
    "print(\"Least MSE %.1f with Param Settings : (AR : %d, I : %d, MA : %d, Trend : %s)\"%(least_mse, ar, i, ma, trend))"
   ]
  },
  {
   "cell_type": "code",
   "execution_count": 55,
   "metadata": {},
   "outputs": [
    {
     "data": {
      "text/html": [
       "<div>\n",
       "<style scoped>\n",
       "    .dataframe tbody tr th:only-of-type {\n",
       "        vertical-align: middle;\n",
       "    }\n",
       "\n",
       "    .dataframe tbody tr th {\n",
       "        vertical-align: top;\n",
       "    }\n",
       "\n",
       "    .dataframe thead th {\n",
       "        text-align: right;\n",
       "    }\n",
       "</style>\n",
       "<table border=\"1\" class=\"dataframe\">\n",
       "  <thead>\n",
       "    <tr style=\"text-align: right;\">\n",
       "      <th></th>\n",
       "      <th>occurences_pred</th>\n",
       "    </tr>\n",
       "    <tr>\n",
       "      <th>date</th>\n",
       "      <th></th>\n",
       "    </tr>\n",
       "  </thead>\n",
       "  <tbody>\n",
       "    <tr>\n",
       "      <td>2020-08-22</td>\n",
       "      <td>97227.969464</td>\n",
       "    </tr>\n",
       "    <tr>\n",
       "      <td>2020-08-23</td>\n",
       "      <td>100102.264497</td>\n",
       "    </tr>\n",
       "    <tr>\n",
       "      <td>2020-08-24</td>\n",
       "      <td>102991.942334</td>\n",
       "    </tr>\n",
       "    <tr>\n",
       "      <td>2020-08-25</td>\n",
       "      <td>105867.428727</td>\n",
       "    </tr>\n",
       "    <tr>\n",
       "      <td>2020-08-26</td>\n",
       "      <td>108731.869202</td>\n",
       "    </tr>\n",
       "  </tbody>\n",
       "</table>\n",
       "</div>"
      ],
      "text/plain": [
       "            occurences_pred\n",
       "date                       \n",
       "2020-08-22     97227.969464\n",
       "2020-08-23    100102.264497\n",
       "2020-08-24    102991.942334\n",
       "2020-08-25    105867.428727\n",
       "2020-08-26    108731.869202"
      ]
     },
     "execution_count": 55,
     "metadata": {},
     "output_type": "execute_result"
    }
   ],
   "source": [
    "actual_pred = make_predictions(X_train_diff, ar, i, ma, trend)\n",
    "\n",
    "actual_pred"
   ]
  },
  {
   "cell_type": "code",
   "execution_count": 56,
   "metadata": {},
   "outputs": [
    {
     "data": {
      "text/html": [
       "<div>\n",
       "<style scoped>\n",
       "    .dataframe tbody tr th:only-of-type {\n",
       "        vertical-align: middle;\n",
       "    }\n",
       "\n",
       "    .dataframe tbody tr th {\n",
       "        vertical-align: top;\n",
       "    }\n",
       "\n",
       "    .dataframe thead th {\n",
       "        text-align: right;\n",
       "    }\n",
       "</style>\n",
       "<table border=\"1\" class=\"dataframe\">\n",
       "  <thead>\n",
       "    <tr style=\"text-align: right;\">\n",
       "      <th></th>\n",
       "      <th>date</th>\n",
       "      <th>occurences_pred</th>\n",
       "      <th>occurences</th>\n",
       "      <th>accuracy</th>\n",
       "    </tr>\n",
       "  </thead>\n",
       "  <tbody>\n",
       "    <tr>\n",
       "      <td>0</td>\n",
       "      <td>2020-08-22</td>\n",
       "      <td>97227.97</td>\n",
       "      <td>100155</td>\n",
       "      <td>97.08%</td>\n",
       "    </tr>\n",
       "    <tr>\n",
       "      <td>1</td>\n",
       "      <td>2020-08-23</td>\n",
       "      <td>100102.26</td>\n",
       "      <td>100853</td>\n",
       "      <td>99.26%</td>\n",
       "    </tr>\n",
       "    <tr>\n",
       "      <td>2</td>\n",
       "      <td>2020-08-24</td>\n",
       "      <td>102991.94</td>\n",
       "      <td>104010</td>\n",
       "      <td>99.02%</td>\n",
       "    </tr>\n",
       "    <tr>\n",
       "      <td>3</td>\n",
       "      <td>2020-08-25</td>\n",
       "      <td>105867.43</td>\n",
       "      <td>94127</td>\n",
       "      <td>112.47%</td>\n",
       "    </tr>\n",
       "    <tr>\n",
       "      <td>4</td>\n",
       "      <td>2020-08-26</td>\n",
       "      <td>108731.87</td>\n",
       "      <td>97376</td>\n",
       "      <td>111.66%</td>\n",
       "    </tr>\n",
       "  </tbody>\n",
       "</table>\n",
       "</div>"
      ],
      "text/plain": [
       "        date  occurences_pred  occurences accuracy\n",
       "0 2020-08-22         97227.97      100155   97.08%\n",
       "1 2020-08-23        100102.26      100853   99.26%\n",
       "2 2020-08-24        102991.94      104010   99.02%\n",
       "3 2020-08-25        105867.43       94127  112.47%\n",
       "4 2020-08-26        108731.87       97376  111.66%"
      ]
     },
     "execution_count": 56,
     "metadata": {},
     "output_type": "execute_result"
    }
   ],
   "source": [
    "combined_results = combine_results(actual_pred, X_test)\n",
    "\n",
    "combined_results"
   ]
  },
  {
   "cell_type": "markdown",
   "metadata": {},
   "source": [
    "# SARIMA"
   ]
  },
  {
   "cell_type": "markdown",
   "metadata": {},
   "source": [
    "## The Office"
   ]
  },
  {
   "cell_type": "code",
   "execution_count": 57,
   "metadata": {},
   "outputs": [
    {
     "data": {
      "text/plain": [
       "((1223, 1), (5, 1))"
      ]
     },
     "execution_count": 57,
     "metadata": {},
     "output_type": "execute_result"
    }
   ],
   "source": [
    "future_pred_cnt = 5\n",
    "\n",
    "X_train, X_test = the_office[[\"occurences\"]][:-future_pred_cnt], the_office[[\"occurences\"]][-future_pred_cnt:] \n",
    "\n",
    "X_train.shape, X_test.shape"
   ]
  },
  {
   "cell_type": "code",
   "execution_count": 58,
   "metadata": {},
   "outputs": [
    {
     "name": "stdout",
     "output_type": "stream",
     "text": [
      "1. ADF :  -10.589130621260425\n",
      "2. P-Value :  6.597451441515709e-19\n",
      "2. P-Value : 0.000\n",
      "3. Num Of Lags :  19\n",
      "4. Num Of Observations Used For ADF Regression and Critical Values Calculation : 1202\n",
      "5. Critical Values :\n",
      "\t 1% :  -3.43580201334162\n",
      "\t 5% :  -2.8639475292642795\n",
      "\t 10% :  -2.5680518110968684\n"
     ]
    }
   ],
   "source": [
    "X_train_diff = X_train.diff().dropna()\n",
    "\n",
    "test_stationarity(X_train_diff)"
   ]
  },
  {
   "cell_type": "code",
   "execution_count": 59,
   "metadata": {},
   "outputs": [],
   "source": [
    "def try_sarima(X_train_diff, X_test, ar_range, i_range, ma_range, s_range, trends):\n",
    "    p_m, d_m, q_m, P_m,D_m,Q_m, seasonal, trend, least_mse = None, None, None, None, None, None, None, None, 1e9\n",
    "\n",
    "    for p in ar_range:\n",
    "        for d in i_range:\n",
    "            for q in ma_range:\n",
    "                for P in ar_range:\n",
    "                    for D in i_range:\n",
    "                        for Q in ma_range:\n",
    "                            for s in s_range:\n",
    "                                for t in trends:\n",
    "                                    try:\n",
    "                                        model = SARIMAX(X_train_diff, order=(p,d,q), seasonal_order=(P, D, Q, s), trend=t)\n",
    "                                        model_fit = model.fit()\n",
    "                                        preds = model_fit.forecast(steps=future_pred_cnt)\n",
    "                                        preds = (pd.DataFrame(preds, columns=X_test.columns + '_pred'))\n",
    "                                        actual_preds = invert_transformation(X_train, preds)\n",
    "                                        mse = mean_squared_error(actual_preds.values, X_test.values)\n",
    "                                        if mse < least_mse:\n",
    "                                            least_mse = mse\n",
    "                                            p_m, d_m, q_m, P_m, D_m, Q_m, seasonal, trend = p, d, q, P, D, Q, s, t\n",
    "                                    except Exception as e:\n",
    "                                        #print(e)\n",
    "                                        #print(\"Error: Param Settings : (%d, %d, %d), (%d, %d, %d, %d), %s\"%(p, d, q, P, D, Q, s, t))\n",
    "                                        continue\n",
    "    return least_mse, p_m, d_m, q_m, P_m, D_m, Q_m, seasonal, trend"
   ]
  },
  {
   "cell_type": "code",
   "execution_count": 60,
   "metadata": {
    "scrolled": true
   },
   "outputs": [
    {
     "name": "stdout",
     "output_type": "stream",
     "text": [
      "Least MSE 283512.0 with Param Settings : ((p : 2, d : 1, q : 2), (P : 2, D : 1, Q : 2, Seasonal : 3), Trend : ct)\n",
      "CPU times: user 42min 37s, sys: 20min 31s, total: 1h 3min 8s\n",
      "Wall time: 16min 21s\n"
     ]
    }
   ],
   "source": [
    "%%time\n",
    "\n",
    "least_mse, p, d, q, P, D, Q, s, trend = try_sarima(X_train_diff, X_test, range(1,3), range(2), range(3), range(2, 4), [\"n\", \"c\", \"t\", \"ct\"])\n",
    "\n",
    "print(\"Least MSE %.1f with Param Settings : ((p : %d, d : %d, q : %d), (P : %d, D : %d, Q : %d, Seasonal : %d), Trend : %s)\"%(least_mse, p, d, q, P, D, Q, s, trend))"
   ]
  },
  {
   "cell_type": "code",
   "execution_count": 61,
   "metadata": {},
   "outputs": [],
   "source": [
    "def make_predictions(X_train_diff, p, d, q, P, D, Q, s, trend):\n",
    "    model = ARIMA(X_train_diff, order=(p, d, q), seasonal_order=(P, D, Q, s), trend=trend)\n",
    "    model_fit = model.fit()\n",
    "    pred = model_fit.forecast(steps=future_pred_cnt)\n",
    "    pred = (pd.DataFrame(pred, columns=X_test.columns + '_pred'))\n",
    "\n",
    "    actual_pred = invert_transformation(X_train, pred)\n",
    "    actual_pred.index = X_test.index.values\n",
    "    actual_pred.index.name = \"date\"\n",
    "\n",
    "    return actual_pred"
   ]
  },
  {
   "cell_type": "code",
   "execution_count": 62,
   "metadata": {},
   "outputs": [
    {
     "data": {
      "text/html": [
       "<div>\n",
       "<style scoped>\n",
       "    .dataframe tbody tr th:only-of-type {\n",
       "        vertical-align: middle;\n",
       "    }\n",
       "\n",
       "    .dataframe tbody tr th {\n",
       "        vertical-align: top;\n",
       "    }\n",
       "\n",
       "    .dataframe thead th {\n",
       "        text-align: right;\n",
       "    }\n",
       "</style>\n",
       "<table border=\"1\" class=\"dataframe\">\n",
       "  <thead>\n",
       "    <tr style=\"text-align: right;\">\n",
       "      <th></th>\n",
       "      <th>occurences_pred</th>\n",
       "    </tr>\n",
       "    <tr>\n",
       "      <th>date</th>\n",
       "      <th></th>\n",
       "    </tr>\n",
       "  </thead>\n",
       "  <tbody>\n",
       "    <tr>\n",
       "      <td>2020-08-22</td>\n",
       "      <td>34108.453670</td>\n",
       "    </tr>\n",
       "    <tr>\n",
       "      <td>2020-08-23</td>\n",
       "      <td>34772.177158</td>\n",
       "    </tr>\n",
       "    <tr>\n",
       "      <td>2020-08-24</td>\n",
       "      <td>34697.971407</td>\n",
       "    </tr>\n",
       "    <tr>\n",
       "      <td>2020-08-25</td>\n",
       "      <td>34580.158744</td>\n",
       "    </tr>\n",
       "    <tr>\n",
       "      <td>2020-08-26</td>\n",
       "      <td>35025.778602</td>\n",
       "    </tr>\n",
       "  </tbody>\n",
       "</table>\n",
       "</div>"
      ],
      "text/plain": [
       "            occurences_pred\n",
       "date                       \n",
       "2020-08-22     34108.453670\n",
       "2020-08-23     34772.177158\n",
       "2020-08-24     34697.971407\n",
       "2020-08-25     34580.158744\n",
       "2020-08-26     35025.778602"
      ]
     },
     "execution_count": 62,
     "metadata": {},
     "output_type": "execute_result"
    }
   ],
   "source": [
    "actual_pred = make_predictions(X_train_diff, p, d, q, P, D, Q, s, trend)\n",
    "\n",
    "actual_pred"
   ]
  },
  {
   "cell_type": "code",
   "execution_count": 63,
   "metadata": {},
   "outputs": [
    {
     "data": {
      "text/html": [
       "<div>\n",
       "<style scoped>\n",
       "    .dataframe tbody tr th:only-of-type {\n",
       "        vertical-align: middle;\n",
       "    }\n",
       "\n",
       "    .dataframe tbody tr th {\n",
       "        vertical-align: top;\n",
       "    }\n",
       "\n",
       "    .dataframe thead th {\n",
       "        text-align: right;\n",
       "    }\n",
       "</style>\n",
       "<table border=\"1\" class=\"dataframe\">\n",
       "  <thead>\n",
       "    <tr style=\"text-align: right;\">\n",
       "      <th></th>\n",
       "      <th>date</th>\n",
       "      <th>occurences_pred</th>\n",
       "      <th>occurences</th>\n",
       "      <th>accuracy</th>\n",
       "    </tr>\n",
       "  </thead>\n",
       "  <tbody>\n",
       "    <tr>\n",
       "      <td>0</td>\n",
       "      <td>2020-08-22</td>\n",
       "      <td>34108.45</td>\n",
       "      <td>34042</td>\n",
       "      <td>100.20%</td>\n",
       "    </tr>\n",
       "    <tr>\n",
       "      <td>1</td>\n",
       "      <td>2020-08-23</td>\n",
       "      <td>34772.18</td>\n",
       "      <td>35654</td>\n",
       "      <td>97.53%</td>\n",
       "    </tr>\n",
       "    <tr>\n",
       "      <td>2</td>\n",
       "      <td>2020-08-24</td>\n",
       "      <td>34697.97</td>\n",
       "      <td>36339</td>\n",
       "      <td>95.48%</td>\n",
       "    </tr>\n",
       "    <tr>\n",
       "      <td>3</td>\n",
       "      <td>2020-08-25</td>\n",
       "      <td>34580.16</td>\n",
       "      <td>35706</td>\n",
       "      <td>96.85%</td>\n",
       "    </tr>\n",
       "    <tr>\n",
       "      <td>4</td>\n",
       "      <td>2020-08-26</td>\n",
       "      <td>35025.78</td>\n",
       "      <td>36653</td>\n",
       "      <td>95.56%</td>\n",
       "    </tr>\n",
       "  </tbody>\n",
       "</table>\n",
       "</div>"
      ],
      "text/plain": [
       "        date  occurences_pred  occurences accuracy\n",
       "0 2020-08-22         34108.45       34042  100.20%\n",
       "1 2020-08-23         34772.18       35654   97.53%\n",
       "2 2020-08-24         34697.97       36339   95.48%\n",
       "3 2020-08-25         34580.16       35706   96.85%\n",
       "4 2020-08-26         35025.78       36653   95.56%"
      ]
     },
     "execution_count": 63,
     "metadata": {},
     "output_type": "execute_result"
    }
   ],
   "source": [
    "combined_results = combine_results(actual_pred, X_test)\n",
    "\n",
    "combined_results"
   ]
  },
  {
   "cell_type": "markdown",
   "metadata": {},
   "source": [
    "## Start Trek"
   ]
  },
  {
   "cell_type": "code",
   "execution_count": 64,
   "metadata": {},
   "outputs": [
    {
     "data": {
      "text/plain": [
       "((1223, 1), (5, 1))"
      ]
     },
     "execution_count": 64,
     "metadata": {},
     "output_type": "execute_result"
    }
   ],
   "source": [
    "future_pred_cnt = 5\n",
    "\n",
    "X_train, X_test = star_trek[[\"occurences\"]][:-future_pred_cnt], star_trek[[\"occurences\"]][-future_pred_cnt:] \n",
    "\n",
    "X_train.shape, X_test.shape"
   ]
  },
  {
   "cell_type": "code",
   "execution_count": 65,
   "metadata": {},
   "outputs": [
    {
     "name": "stdout",
     "output_type": "stream",
     "text": [
      "1. ADF :  -14.891625834885964\n",
      "2. P-Value :  1.5541921104047747e-27\n",
      "2. P-Value : 0.000\n",
      "3. Num Of Lags :  10\n",
      "4. Num Of Observations Used For ADF Regression and Critical Values Calculation : 1211\n",
      "5. Critical Values :\n",
      "\t 1% :  -3.435761408287299\n",
      "\t 5% :  -2.863929614852828\n",
      "\t 10% :  -2.568042270495956\n"
     ]
    }
   ],
   "source": [
    "X_train_diff = X_train.diff().dropna()\n",
    "\n",
    "test_stationarity(X_train_diff)"
   ]
  },
  {
   "cell_type": "code",
   "execution_count": 66,
   "metadata": {},
   "outputs": [
    {
     "name": "stdout",
     "output_type": "stream",
     "text": [
      "Least MSE 45710.8 with Param Settings : ((p : 1, d : 0, q : 1), (P : 1, D : 1, Q : 0, Seasonal : 2), Trend : n)\n",
      "CPU times: user 43min 22s, sys: 21min 29s, total: 1h 4min 51s\n",
      "Wall time: 16min 26s\n"
     ]
    }
   ],
   "source": [
    "%%time\n",
    "\n",
    "least_mse, p, d, q, P, D, Q, s, trend = try_sarima(X_train_diff, X_test, range(1,3), range(2), range(3), range(2, 4), [\"n\", \"c\", \"t\", \"ct\"])\n",
    "\n",
    "print(\"Least MSE %.1f with Param Settings : ((p : %d, d : %d, q : %d), (P : %d, D : %d, Q : %d, Seasonal : %d), Trend : %s)\"%(least_mse, p, d, q, P, D, Q, s, trend))"
   ]
  },
  {
   "cell_type": "code",
   "execution_count": 67,
   "metadata": {},
   "outputs": [
    {
     "data": {
      "text/html": [
       "<div>\n",
       "<style scoped>\n",
       "    .dataframe tbody tr th:only-of-type {\n",
       "        vertical-align: middle;\n",
       "    }\n",
       "\n",
       "    .dataframe tbody tr th {\n",
       "        vertical-align: top;\n",
       "    }\n",
       "\n",
       "    .dataframe thead th {\n",
       "        text-align: right;\n",
       "    }\n",
       "</style>\n",
       "<table border=\"1\" class=\"dataframe\">\n",
       "  <thead>\n",
       "    <tr style=\"text-align: right;\">\n",
       "      <th></th>\n",
       "      <th>occurences_pred</th>\n",
       "    </tr>\n",
       "    <tr>\n",
       "      <th>date</th>\n",
       "      <th></th>\n",
       "    </tr>\n",
       "  </thead>\n",
       "  <tbody>\n",
       "    <tr>\n",
       "      <td>2020-08-22</td>\n",
       "      <td>2386.930331</td>\n",
       "    </tr>\n",
       "    <tr>\n",
       "      <td>2020-08-23</td>\n",
       "      <td>2038.858086</td>\n",
       "    </tr>\n",
       "    <tr>\n",
       "      <td>2020-08-24</td>\n",
       "      <td>2524.132668</td>\n",
       "    </tr>\n",
       "    <tr>\n",
       "      <td>2020-08-25</td>\n",
       "      <td>2054.550251</td>\n",
       "    </tr>\n",
       "    <tr>\n",
       "      <td>2020-08-26</td>\n",
       "      <td>2460.167950</td>\n",
       "    </tr>\n",
       "  </tbody>\n",
       "</table>\n",
       "</div>"
      ],
      "text/plain": [
       "            occurences_pred\n",
       "date                       \n",
       "2020-08-22      2386.930331\n",
       "2020-08-23      2038.858086\n",
       "2020-08-24      2524.132668\n",
       "2020-08-25      2054.550251\n",
       "2020-08-26      2460.167950"
      ]
     },
     "execution_count": 67,
     "metadata": {},
     "output_type": "execute_result"
    }
   ],
   "source": [
    "actual_pred = make_predictions(X_train_diff, p, d, q, P, D, Q, s, trend)\n",
    "\n",
    "actual_pred"
   ]
  },
  {
   "cell_type": "code",
   "execution_count": 68,
   "metadata": {},
   "outputs": [
    {
     "data": {
      "text/html": [
       "<div>\n",
       "<style scoped>\n",
       "    .dataframe tbody tr th:only-of-type {\n",
       "        vertical-align: middle;\n",
       "    }\n",
       "\n",
       "    .dataframe tbody tr th {\n",
       "        vertical-align: top;\n",
       "    }\n",
       "\n",
       "    .dataframe thead th {\n",
       "        text-align: right;\n",
       "    }\n",
       "</style>\n",
       "<table border=\"1\" class=\"dataframe\">\n",
       "  <thead>\n",
       "    <tr style=\"text-align: right;\">\n",
       "      <th></th>\n",
       "      <th>date</th>\n",
       "      <th>occurences_pred</th>\n",
       "      <th>occurences</th>\n",
       "      <th>accuracy</th>\n",
       "    </tr>\n",
       "  </thead>\n",
       "  <tbody>\n",
       "    <tr>\n",
       "      <td>0</td>\n",
       "      <td>2020-08-22</td>\n",
       "      <td>2386.93</td>\n",
       "      <td>2648</td>\n",
       "      <td>90.14%</td>\n",
       "    </tr>\n",
       "    <tr>\n",
       "      <td>1</td>\n",
       "      <td>2020-08-23</td>\n",
       "      <td>2038.86</td>\n",
       "      <td>2356</td>\n",
       "      <td>86.54%</td>\n",
       "    </tr>\n",
       "    <tr>\n",
       "      <td>2</td>\n",
       "      <td>2020-08-24</td>\n",
       "      <td>2524.13</td>\n",
       "      <td>2623</td>\n",
       "      <td>96.23%</td>\n",
       "    </tr>\n",
       "    <tr>\n",
       "      <td>3</td>\n",
       "      <td>2020-08-25</td>\n",
       "      <td>2054.55</td>\n",
       "      <td>2257</td>\n",
       "      <td>91.03%</td>\n",
       "    </tr>\n",
       "    <tr>\n",
       "      <td>4</td>\n",
       "      <td>2020-08-26</td>\n",
       "      <td>2460.17</td>\n",
       "      <td>2365</td>\n",
       "      <td>104.02%</td>\n",
       "    </tr>\n",
       "  </tbody>\n",
       "</table>\n",
       "</div>"
      ],
      "text/plain": [
       "        date  occurences_pred  occurences accuracy\n",
       "0 2020-08-22          2386.93        2648   90.14%\n",
       "1 2020-08-23          2038.86        2356   86.54%\n",
       "2 2020-08-24          2524.13        2623   96.23%\n",
       "3 2020-08-25          2054.55        2257   91.03%\n",
       "4 2020-08-26          2460.17        2365  104.02%"
      ]
     },
     "execution_count": 68,
     "metadata": {},
     "output_type": "execute_result"
    }
   ],
   "source": [
    "combined_results = combine_results(actual_pred, X_test)\n",
    "\n",
    "combined_results"
   ]
  },
  {
   "cell_type": "markdown",
   "metadata": {},
   "source": [
    "## Money Heist"
   ]
  },
  {
   "cell_type": "code",
   "execution_count": 69,
   "metadata": {},
   "outputs": [
    {
     "data": {
      "text/plain": [
       "((1148, 1), (5, 1))"
      ]
     },
     "execution_count": 69,
     "metadata": {},
     "output_type": "execute_result"
    }
   ],
   "source": [
    "future_pred_cnt = 5\n",
    "\n",
    "X_train, X_test = money_heist[[\"occurences\"]][:-future_pred_cnt], money_heist[[\"occurences\"]][-future_pred_cnt:] \n",
    "\n",
    "X_train.shape, X_test.shape"
   ]
  },
  {
   "cell_type": "code",
   "execution_count": 70,
   "metadata": {},
   "outputs": [
    {
     "name": "stdout",
     "output_type": "stream",
     "text": [
      "1. ADF :  -9.999727891007765\n",
      "2. P-Value :  1.8982961610986916e-17\n",
      "2. P-Value : 0.000\n",
      "3. Num Of Lags :  17\n",
      "4. Num Of Observations Used For ADF Regression and Critical Values Calculation : 1129\n",
      "5. Critical Values :\n",
      "\t 1% :  -3.436155341313321\n",
      "\t 5% :  -2.8641034026875123\n",
      "\t 10% :  -2.568134825546958\n"
     ]
    }
   ],
   "source": [
    "X_train_diff = X_train.diff().dropna()\n",
    "\n",
    "test_stationarity(X_train_diff)"
   ]
  },
  {
   "cell_type": "code",
   "execution_count": 71,
   "metadata": {
    "scrolled": true
   },
   "outputs": [
    {
     "name": "stdout",
     "output_type": "stream",
     "text": [
      "Least MSE 19603023.5 with Param Settings : ((p : 1, d : 1, q : 0), (P : 1, D : 0, Q : 2, Seasonal : 2), Trend : n)\n",
      "CPU times: user 25min 22s, sys: 18min 45s, total: 44min 8s\n",
      "Wall time: 11min 11s\n"
     ]
    }
   ],
   "source": [
    "%%time\n",
    "\n",
    "least_mse, p, d, q, P, D, Q, s, trend = try_sarima(X_train_diff, X_test, range(1,3), range(2), range(3), range(2, 4), [\"n\", \"c\", \"t\", \"ct\"])\n",
    "\n",
    "print(\"Least MSE %.1f with Param Settings : ((p : %d, d : %d, q : %d), (P : %d, D : %d, Q : %d, Seasonal : %d), Trend : %s)\"%(least_mse, p, d, q, P, D, Q, s, trend))"
   ]
  },
  {
   "cell_type": "code",
   "execution_count": 72,
   "metadata": {},
   "outputs": [
    {
     "data": {
      "text/html": [
       "<div>\n",
       "<style scoped>\n",
       "    .dataframe tbody tr th:only-of-type {\n",
       "        vertical-align: middle;\n",
       "    }\n",
       "\n",
       "    .dataframe tbody tr th {\n",
       "        vertical-align: top;\n",
       "    }\n",
       "\n",
       "    .dataframe thead th {\n",
       "        text-align: right;\n",
       "    }\n",
       "</style>\n",
       "<table border=\"1\" class=\"dataframe\">\n",
       "  <thead>\n",
       "    <tr style=\"text-align: right;\">\n",
       "      <th></th>\n",
       "      <th>occurences_pred</th>\n",
       "    </tr>\n",
       "    <tr>\n",
       "      <th>date</th>\n",
       "      <th></th>\n",
       "    </tr>\n",
       "  </thead>\n",
       "  <tbody>\n",
       "    <tr>\n",
       "      <td>2020-08-22</td>\n",
       "      <td>115930.750091</td>\n",
       "    </tr>\n",
       "    <tr>\n",
       "      <td>2020-08-23</td>\n",
       "      <td>116894.594676</td>\n",
       "    </tr>\n",
       "    <tr>\n",
       "      <td>2020-08-24</td>\n",
       "      <td>116534.818744</td>\n",
       "    </tr>\n",
       "    <tr>\n",
       "      <td>2020-08-25</td>\n",
       "      <td>117394.735570</td>\n",
       "    </tr>\n",
       "    <tr>\n",
       "      <td>2020-08-26</td>\n",
       "      <td>117063.582541</td>\n",
       "    </tr>\n",
       "  </tbody>\n",
       "</table>\n",
       "</div>"
      ],
      "text/plain": [
       "            occurences_pred\n",
       "date                       \n",
       "2020-08-22    115930.750091\n",
       "2020-08-23    116894.594676\n",
       "2020-08-24    116534.818744\n",
       "2020-08-25    117394.735570\n",
       "2020-08-26    117063.582541"
      ]
     },
     "execution_count": 72,
     "metadata": {},
     "output_type": "execute_result"
    }
   ],
   "source": [
    "actual_pred = make_predictions(X_train_diff, p, d, q, P, D, Q, s, trend)\n",
    "\n",
    "actual_pred"
   ]
  },
  {
   "cell_type": "code",
   "execution_count": 73,
   "metadata": {},
   "outputs": [
    {
     "data": {
      "text/html": [
       "<div>\n",
       "<style scoped>\n",
       "    .dataframe tbody tr th:only-of-type {\n",
       "        vertical-align: middle;\n",
       "    }\n",
       "\n",
       "    .dataframe tbody tr th {\n",
       "        vertical-align: top;\n",
       "    }\n",
       "\n",
       "    .dataframe thead th {\n",
       "        text-align: right;\n",
       "    }\n",
       "</style>\n",
       "<table border=\"1\" class=\"dataframe\">\n",
       "  <thead>\n",
       "    <tr style=\"text-align: right;\">\n",
       "      <th></th>\n",
       "      <th>date</th>\n",
       "      <th>occurences_pred</th>\n",
       "      <th>occurences</th>\n",
       "      <th>accuracy</th>\n",
       "    </tr>\n",
       "  </thead>\n",
       "  <tbody>\n",
       "    <tr>\n",
       "      <td>0</td>\n",
       "      <td>2020-08-22</td>\n",
       "      <td>115930.75</td>\n",
       "      <td>108160</td>\n",
       "      <td>107.18%</td>\n",
       "    </tr>\n",
       "    <tr>\n",
       "      <td>1</td>\n",
       "      <td>2020-08-23</td>\n",
       "      <td>116894.59</td>\n",
       "      <td>114744</td>\n",
       "      <td>101.87%</td>\n",
       "    </tr>\n",
       "    <tr>\n",
       "      <td>2</td>\n",
       "      <td>2020-08-24</td>\n",
       "      <td>116534.82</td>\n",
       "      <td>117925</td>\n",
       "      <td>98.82%</td>\n",
       "    </tr>\n",
       "    <tr>\n",
       "      <td>3</td>\n",
       "      <td>2020-08-25</td>\n",
       "      <td>117394.74</td>\n",
       "      <td>117788</td>\n",
       "      <td>99.67%</td>\n",
       "    </tr>\n",
       "    <tr>\n",
       "      <td>4</td>\n",
       "      <td>2020-08-26</td>\n",
       "      <td>117063.58</td>\n",
       "      <td>122624</td>\n",
       "      <td>95.47%</td>\n",
       "    </tr>\n",
       "  </tbody>\n",
       "</table>\n",
       "</div>"
      ],
      "text/plain": [
       "        date  occurences_pred  occurences accuracy\n",
       "0 2020-08-22        115930.75      108160  107.18%\n",
       "1 2020-08-23        116894.59      114744  101.87%\n",
       "2 2020-08-24        116534.82      117925   98.82%\n",
       "3 2020-08-25        117394.74      117788   99.67%\n",
       "4 2020-08-26        117063.58      122624   95.47%"
      ]
     },
     "execution_count": 73,
     "metadata": {},
     "output_type": "execute_result"
    }
   ],
   "source": [
    "combined_results = combine_results(actual_pred, X_test)\n",
    "\n",
    "combined_results"
   ]
  },
  {
   "cell_type": "markdown",
   "metadata": {},
   "source": [
    "## Dark"
   ]
  },
  {
   "cell_type": "code",
   "execution_count": 74,
   "metadata": {},
   "outputs": [
    {
     "data": {
      "text/plain": [
       "((981, 1), (5, 1))"
      ]
     },
     "execution_count": 74,
     "metadata": {},
     "output_type": "execute_result"
    }
   ],
   "source": [
    "future_pred_cnt = 5\n",
    "\n",
    "X_train, X_test = dark[[\"occurences\"]][:-future_pred_cnt], dark[[\"occurences\"]][-future_pred_cnt:] \n",
    "\n",
    "X_train.shape, X_test.shape"
   ]
  },
  {
   "cell_type": "code",
   "execution_count": 75,
   "metadata": {},
   "outputs": [
    {
     "name": "stdout",
     "output_type": "stream",
     "text": [
      "1. ADF :  -12.299615264902352\n",
      "2. P-Value :  7.50187346600036e-23\n",
      "2. P-Value : 0.000\n",
      "3. Num Of Lags :  9\n",
      "4. Num Of Observations Used For ADF Regression and Critical Values Calculation : 970\n",
      "5. Critical Values :\n",
      "\t 1% :  -3.437109473790722\n",
      "\t 5% :  -2.8645242345396436\n",
      "\t 10% :  -2.568358964820916\n"
     ]
    }
   ],
   "source": [
    "X_train_diff = X_train.diff().dropna()\n",
    "\n",
    "test_stationarity(X_train_diff)"
   ]
  },
  {
   "cell_type": "code",
   "execution_count": 76,
   "metadata": {
    "scrolled": true
   },
   "outputs": [
    {
     "name": "stdout",
     "output_type": "stream",
     "text": [
      "Least MSE 13522392.3 with Param Settings : ((p : 1, d : 1, q : 2), (P : 1, D : 1, Q : 1, Seasonal : 3), Trend : n)\n",
      "CPU times: user 28min 17s, sys: 14min 41s, total: 42min 59s\n",
      "Wall time: 10min 54s\n"
     ]
    }
   ],
   "source": [
    "%%time\n",
    "\n",
    "least_mse, p, d, q, P, D, Q, s, trend = try_sarima(X_train_diff, X_test, range(1,3), range(2), range(3), range(2, 4), [\"n\", \"c\", \"t\", \"ct\"])\n",
    "\n",
    "print(\"Least MSE %.1f with Param Settings : ((p : %d, d : %d, q : %d), (P : %d, D : %d, Q : %d, Seasonal : %d), Trend : %s)\"%(least_mse, p, d, q, P, D, Q, s, trend))"
   ]
  },
  {
   "cell_type": "code",
   "execution_count": 77,
   "metadata": {},
   "outputs": [
    {
     "data": {
      "text/html": [
       "<div>\n",
       "<style scoped>\n",
       "    .dataframe tbody tr th:only-of-type {\n",
       "        vertical-align: middle;\n",
       "    }\n",
       "\n",
       "    .dataframe tbody tr th {\n",
       "        vertical-align: top;\n",
       "    }\n",
       "\n",
       "    .dataframe thead th {\n",
       "        text-align: right;\n",
       "    }\n",
       "</style>\n",
       "<table border=\"1\" class=\"dataframe\">\n",
       "  <thead>\n",
       "    <tr style=\"text-align: right;\">\n",
       "      <th></th>\n",
       "      <th>occurences_pred</th>\n",
       "    </tr>\n",
       "    <tr>\n",
       "      <th>date</th>\n",
       "      <th></th>\n",
       "    </tr>\n",
       "  </thead>\n",
       "  <tbody>\n",
       "    <tr>\n",
       "      <td>2020-08-22</td>\n",
       "      <td>100796.091402</td>\n",
       "    </tr>\n",
       "    <tr>\n",
       "      <td>2020-08-23</td>\n",
       "      <td>94268.640900</td>\n",
       "    </tr>\n",
       "    <tr>\n",
       "      <td>2020-08-24</td>\n",
       "      <td>101159.959433</td>\n",
       "    </tr>\n",
       "    <tr>\n",
       "      <td>2020-08-25</td>\n",
       "      <td>95809.548582</td>\n",
       "    </tr>\n",
       "    <tr>\n",
       "      <td>2020-08-26</td>\n",
       "      <td>100966.748862</td>\n",
       "    </tr>\n",
       "  </tbody>\n",
       "</table>\n",
       "</div>"
      ],
      "text/plain": [
       "            occurences_pred\n",
       "date                       \n",
       "2020-08-22    100796.091402\n",
       "2020-08-23     94268.640900\n",
       "2020-08-24    101159.959433\n",
       "2020-08-25     95809.548582\n",
       "2020-08-26    100966.748862"
      ]
     },
     "execution_count": 77,
     "metadata": {},
     "output_type": "execute_result"
    }
   ],
   "source": [
    "actual_pred = make_predictions(X_train_diff, p, d, q, P, D, Q, s, trend)\n",
    "\n",
    "actual_pred"
   ]
  },
  {
   "cell_type": "code",
   "execution_count": 78,
   "metadata": {},
   "outputs": [
    {
     "data": {
      "text/html": [
       "<div>\n",
       "<style scoped>\n",
       "    .dataframe tbody tr th:only-of-type {\n",
       "        vertical-align: middle;\n",
       "    }\n",
       "\n",
       "    .dataframe tbody tr th {\n",
       "        vertical-align: top;\n",
       "    }\n",
       "\n",
       "    .dataframe thead th {\n",
       "        text-align: right;\n",
       "    }\n",
       "</style>\n",
       "<table border=\"1\" class=\"dataframe\">\n",
       "  <thead>\n",
       "    <tr style=\"text-align: right;\">\n",
       "      <th></th>\n",
       "      <th>date</th>\n",
       "      <th>occurences_pred</th>\n",
       "      <th>occurences</th>\n",
       "      <th>accuracy</th>\n",
       "    </tr>\n",
       "  </thead>\n",
       "  <tbody>\n",
       "    <tr>\n",
       "      <td>0</td>\n",
       "      <td>2020-08-22</td>\n",
       "      <td>100796.09</td>\n",
       "      <td>100155</td>\n",
       "      <td>100.64%</td>\n",
       "    </tr>\n",
       "    <tr>\n",
       "      <td>1</td>\n",
       "      <td>2020-08-23</td>\n",
       "      <td>94268.64</td>\n",
       "      <td>100853</td>\n",
       "      <td>93.47%</td>\n",
       "    </tr>\n",
       "    <tr>\n",
       "      <td>2</td>\n",
       "      <td>2020-08-24</td>\n",
       "      <td>101159.96</td>\n",
       "      <td>104010</td>\n",
       "      <td>97.26%</td>\n",
       "    </tr>\n",
       "    <tr>\n",
       "      <td>3</td>\n",
       "      <td>2020-08-25</td>\n",
       "      <td>95809.55</td>\n",
       "      <td>94127</td>\n",
       "      <td>101.79%</td>\n",
       "    </tr>\n",
       "    <tr>\n",
       "      <td>4</td>\n",
       "      <td>2020-08-26</td>\n",
       "      <td>100966.75</td>\n",
       "      <td>97376</td>\n",
       "      <td>103.69%</td>\n",
       "    </tr>\n",
       "  </tbody>\n",
       "</table>\n",
       "</div>"
      ],
      "text/plain": [
       "        date  occurences_pred  occurences accuracy\n",
       "0 2020-08-22        100796.09      100155  100.64%\n",
       "1 2020-08-23         94268.64      100853   93.47%\n",
       "2 2020-08-24        101159.96      104010   97.26%\n",
       "3 2020-08-25         95809.55       94127  101.79%\n",
       "4 2020-08-26        100966.75       97376  103.69%"
      ]
     },
     "execution_count": 78,
     "metadata": {},
     "output_type": "execute_result"
    }
   ],
   "source": [
    "combined_results = combine_results(actual_pred, X_test)\n",
    "\n",
    "combined_results"
   ]
  },
  {
   "cell_type": "code",
   "execution_count": null,
   "metadata": {},
   "outputs": [],
   "source": []
  },
  {
   "cell_type": "code",
   "execution_count": null,
   "metadata": {},
   "outputs": [],
   "source": []
  }
 ],
 "metadata": {
  "kernelspec": {
   "display_name": "Python 3",
   "language": "python",
   "name": "python3"
  },
  "language_info": {
   "codemirror_mode": {
    "name": "ipython",
    "version": 3
   },
   "file_extension": ".py",
   "mimetype": "text/x-python",
   "name": "python",
   "nbconvert_exporter": "python",
   "pygments_lexer": "ipython3",
   "version": "3.7.3"
  }
 },
 "nbformat": 4,
 "nbformat_minor": 2
}
