{
 "cells": [
  {
   "cell_type": "code",
   "execution_count": 1,
   "metadata": {},
   "outputs": [],
   "source": [
    "import json\n",
    "import requests\n",
    "from requests.auth import HTTPBasicAuth\n",
    "from twilio.rest import Client\n",
    "import time\n",
    "import sys\n",
    "import logging\n",
    "import os\n",
    "import glob\n",
    "import datetime\n",
    "\n",
    "logger = logging.getLogger(__name__)"
   ]
  },
  {
   "cell_type": "code",
   "execution_count": 35,
   "metadata": {},
   "outputs": [],
   "source": [
    "account_sid = 'AC44ad7addd81382eb21f19cecfe8c5634'\n",
    "#account_sid = 'ACea876589f9b5d027d0c069f21e50b8be'\n",
    "auth_token = '1ef1718fcc720eeea5bacdb7a9a73677'\n",
    "#auth_token = '9ba91fafc9ee302d5f02d1ec1541fed8'\n",
    "plans_to_check = ['Test-A','Val-A']\n",
    "from_number = '+13236901080'\n",
    "to_numbers = ['+13236903633','+14016543129']"
   ]
  },
  {
   "cell_type": "code",
   "execution_count": 10,
   "metadata": {},
   "outputs": [],
   "source": [
    "res = requests.get('http://34.229.165.221:8085/rest/api/latest/result.json?os_authType=basic', \n",
    "                   auth=HTTPBasicAuth('testuser', 'testpassword'))\n",
    "result = json.loads(res.content.decode())"
   ]
  },
  {
   "cell_type": "code",
   "execution_count": 11,
   "metadata": {},
   "outputs": [
    {
     "name": "stdout",
     "output_type": "stream",
     "text": [
      "Plan Test-A has failed. Sending Message\n",
      "Message sent to :  +13236903633  SID :  SM620204210f7648708f51938f9f228a70\n",
      "Message sent to :  +14016543129  SID :  SM7c0ccd1ab5c64c09b421ae922fb00955\n",
      "Plan Val-A has failed. Sending Message\n",
      "Message sent to :  +13236903633  SID :  SM8bc3924445d9467fb72ee95bceef33b7\n",
      "Message sent to :  +14016543129  SID :  SMb3a464fe6e7747278bbfda209cd06922\n"
     ]
    }
   ],
   "source": [
    "def send_message(client, body_message, from_number, to_numbers):\n",
    "    for number in to_numbers:\n",
    "        message = client.messages \\\n",
    "        .create(\n",
    "             body=body_message,\n",
    "             from_=from_number,\n",
    "             to=number\n",
    "         )\n",
    "\n",
    "        logger.info('Message sent to : ',number,' SID : ',message.sid)\n",
    "\n",
    "def call(client, from_number, to_numbers):\n",
    "    for number in to_numbers:\n",
    "        call = client.calls.create(\n",
    "                    url='http://demo.twilio.com/docs/voice.xml',\n",
    "                    to=number,\n",
    "                    from_=from_number\n",
    "                )\n",
    "\n",
    "        logger.info('Called number : ',number,' SID : ',call.sid)\n",
    "            \n",
    "for plan in result['results']['result']:\n",
    "    client = Client(account_sid, auth_token)\n",
    "    if (plan['state'] == 'Failed' or plan['buildState'] == 'Failed') and plan['plan']['shortName'] in plans_to_check:\n",
    "        print('Plan %s has failed. Sending Message'%plan['plan']['shortName'])\n",
    "        body_message = '%s has failed.'%plan['plan']['shortName']\n",
    "        send_message(client, body_message, from_number, to_numbers)\n",
    "    elif (plan['state'] == 'Success' or plan['buildState'] == 'Success') and plan['plan']['shortName'] in plans_to_check:\n",
    "        log_file_location = ''\n",
    "        error_check_flag = False\n",
    "        err_count = 0\n",
    "        error_line_locations = []\n",
    "        with open(log_file_location, 'r') as f:\n",
    "            for i, line in enumerate(f):\n",
    "                if 'an error has occured' in line or 'process terminated' in line:\n",
    "                    error_check_flag = True\n",
    "                    err_count += 1\n",
    "                    error_line_locations.append(i+1)\n",
    "                    \n",
    "        if error_check_flag:        \n",
    "            body_message = '%s has failures evethough build succeeded. Error Count : %d. Error Line Locations : %s'\\\n",
    "                %(plan['plan']['shortName'],err_count, str(error_line_locations))\n",
    "            send_message(client, body_message, from_number, to_numbers)"
   ]
  },
  {
   "cell_type": "code",
   "execution_count": 23,
   "metadata": {},
   "outputs": [
    {
     "data": {
      "text/plain": [
       "'/home/sunny/Desktop'"
      ]
     },
     "execution_count": 23,
     "metadata": {},
     "output_type": "execute_result"
    }
   ],
   "source": [
    "log_location = os.getcwd()\n",
    "log_location"
   ]
  },
  {
   "cell_type": "code",
   "execution_count": 34,
   "metadata": {},
   "outputs": [],
   "source": [
    "def send_message(client, body_message, from_number, to_numbers):\n",
    "    for number in to_numbers:\n",
    "        message = client.messages \\\n",
    "        .create(\n",
    "             body=body_message,\n",
    "             from_=from_number,\n",
    "             to=number\n",
    "         )\n",
    "\n",
    "        logger.info('Message sent to : ',number,' SID : ',message.sid)\n",
    "\n",
    "client = Client(account_sid, auth_token)        \n",
    "latest_file = os.listdir(log_location)[0]\n",
    "latest_file_stat = os.stat(latest_file)\n",
    "try:\n",
    "    latest_time = datetime.datetime.fromtimestamp(latest_file_stat.st_mtime)\n",
    "except:\n",
    "    latest_time = datetime.datetime.fromtimestamp(latest_file_stat.st_stime)\n",
    "for file in os.listdir(log_location)[1:]:\n",
    "    #print(os.stat(file))\n",
    "    stats = os.stat(file)\n",
    "    try:\n",
    "        other_time = datetime.datetime.fromtimestamp(stats.st_mtime)\n",
    "    except:\n",
    "        other_time = datetime.datetime.fromtimestamp(stats.st_stime)\n",
    "    if other_time  > latest_time:\n",
    "        latest_time = other_time\n",
    "        latest_file = file\n",
    "        \n",
    "error_check_flag = False\n",
    "err_count = 0\n",
    "error_line_locations = []\n",
    "with open(os.path.join(log_location, latest_file), 'r') as f:\n",
    "    for i, line in enumerate(f):\n",
    "        if 'an error has occured' in line or 'process terminated' in line:\n",
    "            error_check_flag = True\n",
    "            err_count += 1\n",
    "            error_line_locations.append(i+1)\n",
    "    if error_check_flag:        \n",
    "            body_message = '%s has failures. Error Count : %d. Error Line Locations : %s'\\\n",
    "                %(os.path.join(log_location, latest_file),err_count, str(error_line_locations))\n",
    "            send_message(client, body_message, from_number, to_numbers)"
   ]
  },
  {
   "cell_type": "code",
   "execution_count": 37,
   "metadata": {},
   "outputs": [
    {
     "data": {
      "text/plain": [
       "datetime.datetime(2019, 4, 2, 10, 28, 42, 819107)"
      ]
     },
     "execution_count": 37,
     "metadata": {},
     "output_type": "execute_result"
    }
   ],
   "source": [
    "datetime.datetime.fromtimestamp(os.path.getmtime(latest_file))"
   ]
  },
  {
   "cell_type": "code",
   "execution_count": null,
   "metadata": {},
   "outputs": [],
   "source": []
  },
  {
   "cell_type": "code",
   "execution_count": null,
   "metadata": {},
   "outputs": [],
   "source": []
  }
 ],
 "metadata": {
  "kernelspec": {
   "display_name": "Python 3",
   "language": "python",
   "name": "python3"
  },
  "language_info": {
   "codemirror_mode": {
    "name": "ipython",
    "version": 3
   },
   "file_extension": ".py",
   "mimetype": "text/x-python",
   "name": "python",
   "nbconvert_exporter": "python",
   "pygments_lexer": "ipython3",
   "version": "3.7.2"
  }
 },
 "nbformat": 4,
 "nbformat_minor": 2
}
