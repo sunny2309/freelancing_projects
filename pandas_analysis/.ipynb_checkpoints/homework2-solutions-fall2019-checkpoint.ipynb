{
 "cells": [
  {
   "cell_type": "markdown",
   "metadata": {},
   "source": [
    "# Homework #2 Solutions"
   ]
  },
  {
   "cell_type": "code",
   "execution_count": 1,
   "metadata": {},
   "outputs": [],
   "source": [
    "import numpy as np"
   ]
  },
  {
   "cell_type": "markdown",
   "metadata": {},
   "source": [
    "## Exercise #1"
   ]
  },
  {
   "cell_type": "markdown",
   "metadata": {},
   "source": [
    "Step 1.1: Write (and execute) a statement that will generate a list of values associated with a standard deck of playing cards. You do not need to differentiate between suits (i.e., diamonds, hearts, clubs, spades), as they have no relevance for this particular game. The \"deck\" should have four 1's, four 2's, .... , four 11's (Jacks), and so on."
   ]
  },
  {
   "cell_type": "code",
   "execution_count": 2,
   "metadata": {},
   "outputs": [
    {
     "name": "stdout",
     "output_type": "stream",
     "text": [
      "[1, 2, 3, 4, 5, 6, 7, 8, 9, 10, 11, 12, 13, 1, 2, 3, 4, 5, 6, 7, 8, 9, 10, 11, 12, 13, 1, 2, 3, 4, 5, 6, 7, 8, 9, 10, 11, 12, 13, 1, 2, 3, 4, 5, 6, 7, 8, 9, 10, 11, 12, 13]\n"
     ]
    }
   ],
   "source": [
    "# Initialize deck\n",
    "deck = list(range(1, 14)) * 4\n",
    "print(deck)"
   ]
  },
  {
   "cell_type": "markdown",
   "metadata": {},
   "source": [
    "Step 1.2: Report the total value associated with a full deck of cards, which represents the maximum total for a game."
   ]
  },
  {
   "cell_type": "code",
   "execution_count": 3,
   "metadata": {},
   "outputs": [
    {
     "data": {
      "text/plain": [
       "364"
      ]
     },
     "execution_count": 3,
     "metadata": {},
     "output_type": "execute_result"
    }
   ],
   "source": [
    "# Total points\n",
    "sum(deck)"
   ]
  },
  {
   "cell_type": "markdown",
   "metadata": {},
   "source": [
    "## Exercise #2"
   ]
  },
  {
   "cell_type": "markdown",
   "metadata": {},
   "source": [
    "Step 2.1: Define a function deal that will shuffle (randomize) and distribute the 52 playing cards evenly to two players (26 each) and return a tuple of each player's hand (as a list of values). The function does not need to take in any arguments, and should create the deck of values internally (i.e., you should not need to input the deck of values into the function; you may reuse the statement you developed for part a). You may assume that you are always playing with a standard deck (52 cards). You may make use of any NumPy functionality to perform the shuffle operation. Hint: check out this link for the functions available in np.random. "
   ]
  },
  {
   "cell_type": "code",
   "execution_count": 4,
   "metadata": {},
   "outputs": [],
   "source": [
    "# Define function to deal cards to two players\n",
    "def deal():\n",
    "    # Initialize player hands\n",
    "    p1 = []\n",
    "    p2 = []\n",
    "    \n",
    "    # Initialize and shuffle deck\n",
    "    deck = list(range(1, 14)) * 4\n",
    "    np.random.shuffle(deck)\n",
    "    \n",
    "    # Deal cards to each player\n",
    "    for i in range(len(deck)):\n",
    "        if i % 2:\n",
    "            p2.append(deck.pop(0))\n",
    "        else:\n",
    "            p1.append(deck.pop(0))\n",
    "            \n",
    "    return p1, p2"
   ]
  },
  {
   "cell_type": "markdown",
   "metadata": {},
   "source": [
    "Step 2.2: Deal a hand to two players and display (print) each player's hand. Print each player's number of cards and the total value of the hand."
   ]
  },
  {
   "cell_type": "code",
   "execution_count": 5,
   "metadata": {},
   "outputs": [
    {
     "name": "stdout",
     "output_type": "stream",
     "text": [
      "Player 1s hand: [1, 4, 13, 10, 13, 2, 5, 6, 5, 5, 9, 4, 9, 1, 3, 11, 2, 13, 10, 1, 11, 6, 4, 6, 12, 9] 26 175\n",
      "Player 2s hand: [11, 3, 9, 7, 12, 8, 2, 8, 10, 2, 10, 3, 7, 6, 1, 4, 7, 8, 12, 8, 12, 5, 11, 13, 3, 7] 26 189\n"
     ]
    }
   ],
   "source": [
    "p1, p2 = deal()\n",
    "print('Player 1s hand:', p1, len(p1), sum(p1))\n",
    "print('Player 2s hand:', p2, len(p2), sum(p2))"
   ]
  },
  {
   "cell_type": "markdown",
   "metadata": {},
   "source": [
    "## Exercise #3"
   ]
  },
  {
   "cell_type": "markdown",
   "metadata": {},
   "source": [
    "Step 3.1: In a markdown cell, write out the steps of what should occur in a game of Addition War. This will provide an outline for your code to follow. I have written the first and last two steps for you below. Be sure to include what happens in the case of a tie and what happens if the deck is exhausted in the middle of a tie. What is the maximum number of rounds that could be played in the game (occurs when there are no ties)?"
   ]
  },
  {
   "cell_type": "markdown",
   "metadata": {},
   "source": [
    "1. Shuffle deck.\n",
    "2. Deal half of deck to each player.\n",
    "3. Round begins. Each player plays two cards.\n",
    "4. If one player has a higher sum of their two cards than the other player, that player wins the roud and takes the other player's cards.\n",
    "5. If there is a tie, continue to play until someone wins and ends the round. If the deck runs out in the middle of breaking a tie, the game ends and cards are returned to the players.\n",
    "6. Game terminates after a maximum of 13 rounds (occurs when there are no ties) and the deck is exhausted.\n",
    "7. The player with the highest total card points (in their discard pile) wins the game."
   ]
  },
  {
   "cell_type": "markdown",
   "metadata": {},
   "source": [
    "Step 3.2: Define a function play that will simulate a single game of Addition War between two players. This function will have no arguments. As written above, note that you will need to account for rounds in which a given player wins outright (i.e., after the initial play of two cards) and for rounds in which one or more ties occur. You will also need to terminate the game appropriately (i.e., after each player has played all of their cards once)."
   ]
  },
  {
   "cell_type": "code",
   "execution_count": 6,
   "metadata": {},
   "outputs": [],
   "source": [
    "# Define function to play a single game\n",
    "def play():\n",
    "    # Deal cards to players, initialize claim lists\n",
    "    p1, p2 = deal()\n",
    "    p1_claim, p2_claim = [], []\n",
    "    \n",
    "    # Collect statistics\n",
    "    S = {}\n",
    "    \n",
    "    # Calculate initial statistics\n",
    "    S['initial_sums'] = (sum(p1), sum(p2))\n",
    "    \n",
    "    # Play!\n",
    "    k = 1 # round counter\n",
    "    i = 13 # maximum number of rounds\n",
    "    while i > 0:\n",
    "        # Print round\n",
    "        print('Round:', k)\n",
    "        \n",
    "        # Each player plays two cards\n",
    "        p1_play = [p1.pop(0), p1.pop(0)]\n",
    "        p2_play = [p2.pop(0), p2.pop(0)]\n",
    "        i -= 1\n",
    "        \n",
    "        # Check for tie, and process accordingly\n",
    "        if sum(p1_play) > sum(p2_play):\n",
    "            # Player 1 wins hand, append cards to claim list\n",
    "            p1_claim.extend(p1_play); p1_claim.extend(p2_play)\n",
    "            print('\\tPlayer 1 wins hand (%d over %d), collects' % (sum(p1_play), sum(p2_play)), sum(p1_play) + sum(p2_play))\n",
    "        elif sum(p2_play) > sum(p1_play):\n",
    "            # Player 2 wins hand, append cards\n",
    "            p2_claim.extend(p1_play); p2_claim.extend(p2_play)\n",
    "            print('\\tPlayer 2 wins hand (%d over %d), collects' % (sum(p2_play), sum(p1_play)), sum(p1_play) + sum(p2_play))\n",
    "        else:\n",
    "            # Tie - Continue to play two cards until a player wins\n",
    "            print('\\tTie:', sum(p1_play), 'vs.', sum(p2_play))\n",
    "            if i > 0:\n",
    "                while sum(p1_play[-2:]) == sum(p2_play[-2:]):\n",
    "                    p1_play.extend([p1.pop(0), p1.pop(0)])\n",
    "                    p2_play.extend([p2.pop(0), p2.pop(0)])\n",
    "                    i -= 1\n",
    "\n",
    "                    if sum(p1_play[-2:]) > sum(p2_play[-2:]):\n",
    "                        # Player 1 wins hand, append cards to claim list\n",
    "                        p1_claim.extend(p1_play); p1_claim.extend(p2_play)\n",
    "                        print('\\tPlayer 1 wins hand (%d over %d), collects' % (sum(p1_play[-2:]), sum(p2_play[-2:])), sum(p1_play) + sum(p2_play))\n",
    "                    elif sum(p2_play[-2:]) > sum(p1_play[-2:]):\n",
    "                        # Player 2 wins hand, append cards to claim list\n",
    "                        p2_claim.extend(p1_play); p2_claim.extend(p2_play)\n",
    "                        print('\\tPlayer 2 wins hand (%d over %d), collects' % (sum(p2_play[-2:]), sum(p1_play[-2:])), sum(p1_play) + sum(p2_play))\n",
    "                    else:\n",
    "                        print('\\t\\tAnother Tie:', sum(p1_play[-2:]), 'vs.', sum(p2_play[-2:]))\n",
    "\n",
    "                        # Check for whether game ends in a tie - return cards to respective players\n",
    "                        if i <= 0:\n",
    "                            p1_claim.extend(p1_play)\n",
    "                            p2_claim.extend(p2_play)\n",
    "                            break\n",
    "            else:\n",
    "                # Game ends in a tie - return cards to respective players\n",
    "                p1_claim.extend(p1_play)\n",
    "                p2_claim.extend(p2_play)\n",
    "                    \n",
    "        # Increment round\n",
    "        k += 1\n",
    "    \n",
    "    # Game over, compile results\n",
    "    S['final_sums'] = (sum(p1_claim), sum(p2_claim))\n",
    "    if S['final_sums'][0] != S['final_sums'][1]:\n",
    "        # One player wins\n",
    "        S['winner'] = 0 if S['final_sums'][0] > S['final_sums'][1] else 1\n",
    "        print('\\nPlayer %d wins:' % [1, 2][S['winner']], S['final_sums'][S['winner']], 'to', S['final_sums'][1 - S['winner']])\n",
    "    else:\n",
    "        # Game is tied\n",
    "        S['winner'] = -1\n",
    "        print('\\nTie Game: %d to %d' % (S['final_sums'][0], S['final_sums'][1]))\n",
    "    \n",
    "    # Return results\n",
    "    return S"
   ]
  },
  {
   "cell_type": "markdown",
   "metadata": {},
   "source": [
    "Step 3.3: From your play function, return the winner of the game and the card totals for the winner and loser. Print the result."
   ]
  },
  {
   "cell_type": "code",
   "execution_count": 7,
   "metadata": {},
   "outputs": [
    {
     "name": "stdout",
     "output_type": "stream",
     "text": [
      "Round: 1\n",
      "\tPlayer 1 wins hand (19 over 17), collects 36\n",
      "Round: 2\n",
      "\tPlayer 1 wins hand (16 over 9), collects 25\n",
      "Round: 3\n",
      "\tPlayer 1 wins hand (8 over 7), collects 15\n",
      "Round: 4\n",
      "\tPlayer 1 wins hand (16 over 9), collects 25\n",
      "Round: 5\n",
      "\tPlayer 1 wins hand (26 over 13), collects 39\n",
      "Round: 6\n",
      "\tPlayer 1 wins hand (14 over 9), collects 23\n",
      "Round: 7\n",
      "\tPlayer 1 wins hand (22 over 6), collects 28\n",
      "Round: 8\n",
      "\tTie: 20 vs. 20\n",
      "\tPlayer 2 wins hand (13 over 4), collects 57\n",
      "Round: 9\n",
      "\tPlayer 2 wins hand (18 over 14), collects 32\n",
      "Round: 10\n",
      "\tPlayer 2 wins hand (22 over 7), collects 29\n",
      "Round: 11\n",
      "\tPlayer 1 wins hand (20 over 15), collects 35\n",
      "Round: 12\n",
      "\tPlayer 1 wins hand (13 over 7), collects 20\n",
      "\n",
      "Player 1 wins: 246 to 118\n"
     ]
    },
    {
     "data": {
      "text/plain": [
       "{'initial_sums': (199, 165), 'final_sums': (246, 118), 'winner': 0}"
      ]
     },
     "execution_count": 7,
     "metadata": {},
     "output_type": "execute_result"
    }
   ],
   "source": [
    "# Play single game - No ties\n",
    "play()"
   ]
  },
  {
   "cell_type": "code",
   "execution_count": 8,
   "metadata": {},
   "outputs": [
    {
     "name": "stdout",
     "output_type": "stream",
     "text": [
      "Round: 1\n",
      "\tPlayer 2 wins hand (25 over 16), collects 41\n",
      "Round: 2\n",
      "\tPlayer 1 wins hand (11 over 3), collects 14\n",
      "Round: 3\n",
      "\tPlayer 1 wins hand (21 over 19), collects 40\n",
      "Round: 4\n",
      "\tTie: 11 vs. 11\n",
      "\tPlayer 2 wins hand (20 over 17), collects 59\n",
      "Round: 5\n",
      "\tPlayer 1 wins hand (20 over 14), collects 34\n",
      "Round: 6\n",
      "\tPlayer 2 wins hand (15 over 11), collects 26\n",
      "Round: 7\n",
      "\tPlayer 1 wins hand (21 over 13), collects 34\n",
      "Round: 8\n",
      "\tPlayer 2 wins hand (18 over 15), collects 33\n",
      "Round: 9\n",
      "\tPlayer 2 wins hand (15 over 10), collects 25\n",
      "Round: 10\n",
      "\tPlayer 2 wins hand (14 over 9), collects 23\n",
      "Round: 11\n",
      "\tPlayer 1 wins hand (13 over 7), collects 20\n",
      "Round: 12\n",
      "\tPlayer 1 wins hand (12 over 3), collects 15\n",
      "\n",
      "Player 2 wins: 207 to 157\n"
     ]
    },
    {
     "data": {
      "text/plain": [
       "{'initial_sums': (187, 177), 'final_sums': (157, 207), 'winner': 1}"
      ]
     },
     "execution_count": 8,
     "metadata": {},
     "output_type": "execute_result"
    }
   ],
   "source": [
    "# Play single game - At least one tie\n",
    "play()"
   ]
  },
  {
   "cell_type": "markdown",
   "metadata": {},
   "source": [
    "## Exercise #4"
   ]
  },
  {
   "cell_type": "markdown",
   "metadata": {},
   "source": [
    "Given your implemented game, let's perform some analysis of the gameplay. For brevity in your notebook, you may want to create a copy of your play function that does not include any (active) print statements to use for this part of the assignment.\n",
    "\n",
    "Set Up: Simulate n = 20 games of Addition War, and provide the following results and analysis (1 point each):"
   ]
  },
  {
   "cell_type": "code",
   "execution_count": 9,
   "metadata": {},
   "outputs": [],
   "source": [
    "# Re-define function to play a single game - No print statements\n",
    "def play():\n",
    "    # Deal cards to players, initialize claim lists\n",
    "    p1, p2 = deal()\n",
    "    p1_claim, p2_claim = [], []\n",
    "    \n",
    "    # Collect statistics\n",
    "    S = {}\n",
    "    \n",
    "    # Calculate initial statistics\n",
    "    S['initial_sums'] = (sum(p1), sum(p2))\n",
    "    \n",
    "    # Play!\n",
    "    k = 1 # round counter\n",
    "    i = 13 # maximum number of rounds\n",
    "    while i > 0:\n",
    "        # Each player plays two cards\n",
    "        p1_play = [p1.pop(0), p1.pop(0)]\n",
    "        p2_play = [p2.pop(0), p2.pop(0)]\n",
    "        i -= 1\n",
    "        \n",
    "        # Check for tie, and process accordingly\n",
    "        if sum(p1_play) > sum(p2_play):\n",
    "            # Player 1 wins hand, append cards to claim list\n",
    "            p1_claim.extend(p1_play); p1_claim.extend(p2_play)\n",
    "        elif sum(p2_play) > sum(p1_play):\n",
    "            # Player 2 wins hand, append cards\n",
    "            p2_claim.extend(p1_play); p2_claim.extend(p2_play)\n",
    "        else:\n",
    "            # Tie - Continue to play two cards until a player wins\n",
    "            if i > 0:\n",
    "                while sum(p1_play[-2:]) == sum(p2_play[-2:]):\n",
    "                    p1_play.extend([p1.pop(0), p1.pop(0)])\n",
    "                    p2_play.extend([p2.pop(0), p2.pop(0)])\n",
    "                    i -= 1\n",
    "\n",
    "                    if sum(p1_play[-2:]) > sum(p2_play[-2:]):\n",
    "                        # Player 1 wins hand, append cards to claim list\n",
    "                        p1_claim.extend(p1_play); p1_claim.extend(p2_play)\n",
    "                    elif sum(p2_play[-2:]) > sum(p1_play[-2:]):\n",
    "                        # Player 2 wins hand, append cards to claim list\n",
    "                        p2_claim.extend(p1_play); p2_claim.extend(p2_play)\n",
    "                    else:\n",
    "                        # Check for whether game ends in a tie - return cards to respective players\n",
    "                        if i <= 0:\n",
    "                            p1_claim.extend(p1_play)\n",
    "                            p2_claim.extend(p2_play)\n",
    "                            break\n",
    "            else:\n",
    "                # Game ends in a tie - return cards to respective players\n",
    "                p1_claim.extend(p1_play)\n",
    "                p2_claim.extend(p2_play)\n",
    "                    \n",
    "        # Increment round\n",
    "        k += 1\n",
    "    \n",
    "    # Game over, compile results\n",
    "    S['final_sums'] = (sum(p1_claim), sum(p2_claim))\n",
    "    if S['final_sums'][0] != S['final_sums'][1]:\n",
    "        # One player wins\n",
    "        S['winner'] = 0 if S['final_sums'][0] > S['final_sums'][1] else 1\n",
    "    else:\n",
    "        # Game is tied\n",
    "        S['winner'] = -1\n",
    "    \n",
    "    # Return results\n",
    "    return S"
   ]
  },
  {
   "cell_type": "code",
   "execution_count": 10,
   "metadata": {},
   "outputs": [],
   "source": [
    "# Play multiple games\n",
    "n = 20\n",
    "results = [play() for i in range(n)]"
   ]
  },
  {
   "cell_type": "markdown",
   "metadata": {},
   "source": [
    "Step 4.1: Extract the final scores for the winning and losing players, and produce descriptive statistics for each scenario, specifically the\n",
    "minimum, mean, and maximum totals after each game. What do you observe about the winning and losing totals?"
   ]
  },
  {
   "cell_type": "code",
   "execution_count": 11,
   "metadata": {},
   "outputs": [
    {
     "data": {
      "text/plain": [
       "(20, 20)"
      ]
     },
     "execution_count": 11,
     "metadata": {},
     "output_type": "execute_result"
    }
   ],
   "source": [
    "# Extract winner and loser scores\n",
    "win_scores = np.array([res['final_sums'][res['winner']] for res in results if res['winner'] != -1])\n",
    "lose_scores = np.array([res['final_sums'][1 - res['winner']] for res in results if res['winner'] != -1])\n",
    "#lose_scores = sum(deck) - win_scores # Alternative approach\n",
    "len(win_scores), len(lose_scores)"
   ]
  },
  {
   "cell_type": "code",
   "execution_count": 12,
   "metadata": {},
   "outputs": [
    {
     "name": "stdout",
     "output_type": "stream",
     "text": [
      "Minimum winning score: 197\n",
      "Mean winning score: 234.5\n",
      "Maximum winning score: 272\n"
     ]
    }
   ],
   "source": [
    "# Summarize winning scores\n",
    "print('Minimum winning score:', win_scores.min())\n",
    "print('Mean winning score:', win_scores.mean())\n",
    "print('Maximum winning score:', win_scores.max())"
   ]
  },
  {
   "cell_type": "code",
   "execution_count": 13,
   "metadata": {},
   "outputs": [
    {
     "name": "stdout",
     "output_type": "stream",
     "text": [
      "Minimum losing score: 92\n",
      "Mean losing score: 129.5\n",
      "Maximum losing score: 167\n"
     ]
    }
   ],
   "source": [
    "# Summarize losing scores\n",
    "print('Minimum losing score:', lose_scores.min())\n",
    "print('Mean losing score:', lose_scores.mean())\n",
    "print('Maximum losing score:', lose_scores.max())"
   ]
  },
  {
   "cell_type": "markdown",
   "metadata": {},
   "source": [
    "Step 4.2: What proportion of games resulted in a winner that had a lower initial total than their opponent? What was the lowest initial total to win a game (or conversely, the highest initial total to lose a game)?"
   ]
  },
  {
   "cell_type": "markdown",
   "metadata": {},
   "source": [
    "Based on these results, we see that a player who has a lower initial sum can win, and consequently, a player with a higher initial sum can lose. In total, 15% of the games resulted with a player winning who had a lower initial score."
   ]
  },
  {
   "cell_type": "code",
   "execution_count": 14,
   "metadata": {},
   "outputs": [
    {
     "data": {
      "text/plain": [
       "172"
      ]
     },
     "execution_count": 14,
     "metadata": {},
     "output_type": "execute_result"
    }
   ],
   "source": [
    "# Lowest initial sum to win\n",
    "win_init = np.array([res['initial_sums'][res['winner']] for res in results])\n",
    "win_init.min()"
   ]
  },
  {
   "cell_type": "code",
   "execution_count": 15,
   "metadata": {},
   "outputs": [
    {
     "data": {
      "text/plain": [
       "192"
      ]
     },
     "execution_count": 15,
     "metadata": {},
     "output_type": "execute_result"
    }
   ],
   "source": [
    "# Highest initial sum to lose\n",
    "lose_init = np.array([res['initial_sums'][1 - res['winner']] for res in results])\n",
    "lose_init.max()"
   ]
  },
  {
   "cell_type": "code",
   "execution_count": 16,
   "metadata": {},
   "outputs": [
    {
     "data": {
      "text/plain": [
       "0.15"
      ]
     },
     "execution_count": 16,
     "metadata": {},
     "output_type": "execute_result"
    }
   ],
   "source": [
    "# Proportion of games in which the player with the lower initial total won\n",
    "sum(win_init < lose_init) / n # array comparison, produces Boolean values that we can sum to determine the true outcomes"
   ]
  },
  {
   "cell_type": "markdown",
   "metadata": {},
   "source": [
    "Step 4.3: Calculate the (linear) correlation between the initial and final totals for winners vs. losers? What do you observe about the respective correlations, and what do these correlations tell you about the relationship between the initial and final totals?"
   ]
  },
  {
   "cell_type": "markdown",
   "metadata": {},
   "source": [
    "We observe that the correlation between the initial and final sum for winners and losers is the same, as we would expect given this is a zero-sum game. The correlation is positive and moderately strong, which means that players who are dealt higher initial sums are more likely to end the game with a higher final sum (and vice versa). However, this correlation is not too close to 1, meaning that there is some variation in the behavior between initial and final sums. Given this variation, some players with (slightly) lower initial sums can win and some players with (slightly) higher initial sums can lose, as we saw from our previous results."
   ]
  },
  {
   "cell_type": "code",
   "execution_count": 17,
   "metadata": {},
   "outputs": [
    {
     "data": {
      "text/plain": [
       "array([[1.        , 0.67266678],\n",
       "       [0.67266678, 1.        ]])"
      ]
     },
     "execution_count": 17,
     "metadata": {},
     "output_type": "execute_result"
    }
   ],
   "source": [
    "# Correlation between initial and final sums for winners\n",
    "np.corrcoef(win_init, win_scores)"
   ]
  },
  {
   "cell_type": "code",
   "execution_count": 18,
   "metadata": {},
   "outputs": [
    {
     "data": {
      "text/plain": [
       "array([[1.        , 0.67266678],\n",
       "       [0.67266678, 1.        ]])"
      ]
     },
     "execution_count": 18,
     "metadata": {},
     "output_type": "execute_result"
    }
   ],
   "source": [
    "# Correlation between initial and final sums for losers\n",
    "np.corrcoef(lose_init, lose_scores)"
   ]
  },
  {
   "cell_type": "markdown",
   "metadata": {},
   "source": [
    "------------------------------------------------\n",
    "\n",
    "# 2nd Exercise\n",
    "\n",
    "## Exercise #1\n",
    "\n",
    "### Step 1.1: (1 point) Add the capability to track the number of ties for each game. In this total, you should include not only the ties that occur at the beginning of a round, but any additional ties that occur during a tie breaker.\n",
    "\n",
    "### Step 1.2: (1 point) Add the capability to track the largest total won during a round in a given game, which could occur in a standard round (with no ties) or a tiebreaker round (with one or more ties). You do not need to distinguish whether the total was won in a standard or tiebreaker round.\n",
    "\n",
    "### Step 1.3: (1 point) Add the capability to play multiple games within the function, using a new argument games (equals 1 by default). The function should track the following statistics for each game, stored in a dictionary (ideally as separate entries, which will facilitate next steps):\n",
    "* Initial totals (i.e., sum of card values for initially dealt hands) for player 1 and player 2, respectively\n",
    "* Number of ties during gameplay\n",
    "* Maximum round total won (i.e., maximum sum of card values won during a round, potentially including tie\n",
    "* Final totals (i.e., sum of card values after completing gameplay) for player 1 and player 2, respectively"
   ]
  },
  {
   "cell_type": "code",
   "execution_count": 19,
   "metadata": {},
   "outputs": [],
   "source": [
    "# Re-define function to play a single game - No print statements\n",
    "def play(games = 1):\n",
    "    results = []\n",
    "    for i in range(games):\n",
    "        # Deal cards to players, initialize claim lists\n",
    "        p1, p2 = deal()\n",
    "        p1_claim, p2_claim = [], []\n",
    "\n",
    "        # Collect statistics\n",
    "        S = {}\n",
    "\n",
    "        # Calculate initial statistics\n",
    "        S['initial_sums'] = (sum(p1), sum(p2))\n",
    "\n",
    "        # Play!\n",
    "        k = 1 # round counter\n",
    "        i = 13 # maximum number of rounds\n",
    "        no_of_ties = 0 ## Defining tie count var\n",
    "        largest_total_won = 0\n",
    "        while i > 0:\n",
    "            # Each player plays two cards\n",
    "            p1_play = [p1.pop(0), p1.pop(0)]\n",
    "            p2_play = [p2.pop(0), p2.pop(0)]\n",
    "            i -= 1\n",
    "\n",
    "            # Check for tie, and process accordingly\n",
    "            if sum(p1_play) > sum(p2_play):\n",
    "                # Player 1 wins hand, append cards to claim list\n",
    "                p1_claim.extend(p1_play); p1_claim.extend(p2_play)\n",
    "                if (sum(p1_play) + sum(p2_play)) > largest_total_won:\n",
    "                    largest_total_won = sum(p1_play) + sum(p2_play)\n",
    "            elif sum(p2_play) > sum(p1_play):\n",
    "                # Player 2 wins hand, append cards\n",
    "                p2_claim.extend(p1_play); p2_claim.extend(p2_play)\n",
    "                if (sum(p1_play) + sum(p2_play)) > largest_total_won:\n",
    "                    largest_total_won = sum(p1_play) + sum(p2_play)\n",
    "            else:\n",
    "                no_of_ties += 1 ## Increasing tie count in normal tie\n",
    "                # Tie - Continue to play two cards until a player wins\n",
    "                if i > 0:\n",
    "                    while sum(p1_play[-2:]) == sum(p2_play[-2:]):\n",
    "                        p1_play.extend([p1.pop(0), p1.pop(0)])\n",
    "                        p2_play.extend([p2.pop(0), p2.pop(0)])\n",
    "                        i -= 1\n",
    "\n",
    "                        if sum(p1_play[-2:]) > sum(p2_play[-2:]):\n",
    "                            # Player 1 wins hand, append cards to claim list\n",
    "                            p1_claim.extend(p1_play); p1_claim.extend(p2_play)\n",
    "                            if (sum(p1_play) + sum(p2_play)) > largest_total_won:\n",
    "                                largest_total_won = sum(p1_play) + sum(p2_play)\n",
    "                        elif sum(p2_play[-2:]) > sum(p1_play[-2:]):\n",
    "                            # Player 2 wins hand, append cards to claim list\n",
    "                            p2_claim.extend(p1_play); p2_claim.extend(p2_play)\n",
    "                            if (sum(p1_play) + sum(p2_play)) > largest_total_won:\n",
    "                                largest_total_won = sum(p1_play) + sum(p2_play)\n",
    "                        else:\n",
    "                            no_of_ties += 1  ## Increasing tie count when resolving tie if further tie occurs\n",
    "                            # Check for whether game ends in a tie - return cards to respective players\n",
    "                            if i <= 0:\n",
    "                                p1_claim.extend(p1_play)\n",
    "                                p2_claim.extend(p2_play)\n",
    "                                if (sum(p1_play) + sum(p2_play)) > largest_total_won:\n",
    "                                    largest_total_won = sum(p1_play) + sum(p2_play)\n",
    "                                break\n",
    "                else:\n",
    "                    # Game ends in a tie - return cards to respective players\n",
    "                    p1_claim.extend(p1_play)\n",
    "                    p2_claim.extend(p2_play)\n",
    "                    if (sum(p1_play) + sum(p2_play)) > largest_total_won:\n",
    "                        largest_total_won = sum(p1_play) + sum(p2_play)\n",
    "\n",
    "            # Increment round\n",
    "            k += 1\n",
    "\n",
    "        # Game over, compile results\n",
    "        S['final_sums'] = (sum(p1_claim), sum(p2_claim))\n",
    "        if S['final_sums'][0] != S['final_sums'][1]:\n",
    "            # One player wins\n",
    "            S['winner'] = 0 if S['final_sums'][0] > S['final_sums'][1] else 1\n",
    "        else:\n",
    "            # Game is tied\n",
    "            S['winner'] = -1\n",
    "\n",
    "        S['no_of_ties'] = no_of_ties\n",
    "        S['largest_total_won'] = largest_total_won\n",
    "        results.append(S)\n",
    "    return results"
   ]
  },
  {
   "cell_type": "markdown",
   "metadata": {},
   "source": [
    "### Step 1.4: Demonstrate your function for 1-game (games = 1) and 5-game samples (games = 5), and display the resultant dictionaries for each case (1 point)."
   ]
  },
  {
   "cell_type": "code",
   "execution_count": 20,
   "metadata": {},
   "outputs": [
    {
     "data": {
      "text/plain": [
       "[{'initial_sums': (172, 192),\n",
       "  'final_sums': (115, 249),\n",
       "  'winner': 1,\n",
       "  'no_of_ties': 0,\n",
       "  'largest_total_won': 35}]"
      ]
     },
     "execution_count": 20,
     "metadata": {},
     "output_type": "execute_result"
    }
   ],
   "source": [
    "play(games=1)"
   ]
  },
  {
   "cell_type": "code",
   "execution_count": 21,
   "metadata": {},
   "outputs": [
    {
     "data": {
      "text/plain": [
       "[{'initial_sums': (207, 157),\n",
       "  'final_sums': (308, 56),\n",
       "  'winner': 0,\n",
       "  'no_of_ties': 0,\n",
       "  'largest_total_won': 43},\n",
       " {'initial_sums': (184, 180),\n",
       "  'final_sums': (215, 149),\n",
       "  'winner': 0,\n",
       "  'no_of_ties': 0,\n",
       "  'largest_total_won': 47},\n",
       " {'initial_sums': (190, 174),\n",
       "  'final_sums': (235, 129),\n",
       "  'winner': 0,\n",
       "  'no_of_ties': 3,\n",
       "  'largest_total_won': 62},\n",
       " {'initial_sums': (192, 172),\n",
       "  'final_sums': (262, 102),\n",
       "  'winner': 0,\n",
       "  'no_of_ties': 2,\n",
       "  'largest_total_won': 56},\n",
       " {'initial_sums': (203, 161),\n",
       "  'final_sums': (216, 148),\n",
       "  'winner': 0,\n",
       "  'no_of_ties': 1,\n",
       "  'largest_total_won': 57}]"
      ]
     },
     "execution_count": 21,
     "metadata": {},
     "output_type": "execute_result"
    }
   ],
   "source": [
    "play(games=5)"
   ]
  },
  {
   "cell_type": "markdown",
   "metadata": {},
   "source": [
    "## Exercise #2 (1 point) \n",
    "### Simulate 1000 games and store your results in a pandas DataFrame. Preview the first and last 10 rows of your results as proof of a successful run."
   ]
  },
  {
   "cell_type": "code",
   "execution_count": 22,
   "metadata": {},
   "outputs": [],
   "source": [
    "import pandas as pd"
   ]
  },
  {
   "cell_type": "code",
   "execution_count": 23,
   "metadata": {},
   "outputs": [
    {
     "data": {
      "text/html": [
       "<div>\n",
       "<style scoped>\n",
       "    .dataframe tbody tr th:only-of-type {\n",
       "        vertical-align: middle;\n",
       "    }\n",
       "\n",
       "    .dataframe tbody tr th {\n",
       "        vertical-align: top;\n",
       "    }\n",
       "\n",
       "    .dataframe thead th {\n",
       "        text-align: right;\n",
       "    }\n",
       "</style>\n",
       "<table border=\"1\" class=\"dataframe\">\n",
       "  <thead>\n",
       "    <tr style=\"text-align: right;\">\n",
       "      <th></th>\n",
       "      <th>final_sums</th>\n",
       "      <th>initial_sums</th>\n",
       "      <th>largest_total_won</th>\n",
       "      <th>no_of_ties</th>\n",
       "      <th>winner</th>\n",
       "    </tr>\n",
       "  </thead>\n",
       "  <tbody>\n",
       "    <tr>\n",
       "      <th>0</th>\n",
       "      <td>(184, 180)</td>\n",
       "      <td>(196, 168)</td>\n",
       "      <td>65</td>\n",
       "      <td>1</td>\n",
       "      <td>0</td>\n",
       "    </tr>\n",
       "    <tr>\n",
       "      <th>1</th>\n",
       "      <td>(120, 244)</td>\n",
       "      <td>(167, 197)</td>\n",
       "      <td>47</td>\n",
       "      <td>0</td>\n",
       "      <td>1</td>\n",
       "    </tr>\n",
       "    <tr>\n",
       "      <th>2</th>\n",
       "      <td>(253, 111)</td>\n",
       "      <td>(187, 177)</td>\n",
       "      <td>45</td>\n",
       "      <td>0</td>\n",
       "      <td>0</td>\n",
       "    </tr>\n",
       "    <tr>\n",
       "      <th>3</th>\n",
       "      <td>(146, 218)</td>\n",
       "      <td>(172, 192)</td>\n",
       "      <td>44</td>\n",
       "      <td>0</td>\n",
       "      <td>1</td>\n",
       "    </tr>\n",
       "    <tr>\n",
       "      <th>4</th>\n",
       "      <td>(265, 99)</td>\n",
       "      <td>(204, 160)</td>\n",
       "      <td>38</td>\n",
       "      <td>0</td>\n",
       "      <td>0</td>\n",
       "    </tr>\n",
       "    <tr>\n",
       "      <th>5</th>\n",
       "      <td>(211, 153)</td>\n",
       "      <td>(187, 177)</td>\n",
       "      <td>50</td>\n",
       "      <td>2</td>\n",
       "      <td>0</td>\n",
       "    </tr>\n",
       "    <tr>\n",
       "      <th>6</th>\n",
       "      <td>(147, 217)</td>\n",
       "      <td>(166, 198)</td>\n",
       "      <td>39</td>\n",
       "      <td>0</td>\n",
       "      <td>1</td>\n",
       "    </tr>\n",
       "    <tr>\n",
       "      <th>7</th>\n",
       "      <td>(129, 235)</td>\n",
       "      <td>(171, 193)</td>\n",
       "      <td>41</td>\n",
       "      <td>0</td>\n",
       "      <td>1</td>\n",
       "    </tr>\n",
       "    <tr>\n",
       "      <th>8</th>\n",
       "      <td>(114, 250)</td>\n",
       "      <td>(168, 196)</td>\n",
       "      <td>46</td>\n",
       "      <td>1</td>\n",
       "      <td>1</td>\n",
       "    </tr>\n",
       "    <tr>\n",
       "      <th>9</th>\n",
       "      <td>(255, 109)</td>\n",
       "      <td>(185, 179)</td>\n",
       "      <td>58</td>\n",
       "      <td>1</td>\n",
       "      <td>0</td>\n",
       "    </tr>\n",
       "  </tbody>\n",
       "</table>\n",
       "</div>"
      ],
      "text/plain": [
       "   final_sums initial_sums  largest_total_won  no_of_ties  winner\n",
       "0  (184, 180)   (196, 168)                 65           1       0\n",
       "1  (120, 244)   (167, 197)                 47           0       1\n",
       "2  (253, 111)   (187, 177)                 45           0       0\n",
       "3  (146, 218)   (172, 192)                 44           0       1\n",
       "4   (265, 99)   (204, 160)                 38           0       0\n",
       "5  (211, 153)   (187, 177)                 50           2       0\n",
       "6  (147, 217)   (166, 198)                 39           0       1\n",
       "7  (129, 235)   (171, 193)                 41           0       1\n",
       "8  (114, 250)   (168, 196)                 46           1       1\n",
       "9  (255, 109)   (185, 179)                 58           1       0"
      ]
     },
     "execution_count": 23,
     "metadata": {},
     "output_type": "execute_result"
    }
   ],
   "source": [
    "df = pd.DataFrame(play(games=1000))\n",
    "df.head(10)"
   ]
  },
  {
   "cell_type": "markdown",
   "metadata": {},
   "source": [
    "## Exercise #3\n",
    "\n",
    "### Step 3.1: (1 point) Add a new column to your DataFrame ('outcome') that contains the value 'Player 1 wins' if Player 1's final total is higher, 'Player 2 wins' if Player 2's final total is higher, or 'Tie game' if the two player's final totals are equal."
   ]
  },
  {
   "cell_type": "code",
   "execution_count": 24,
   "metadata": {},
   "outputs": [],
   "source": [
    "df['outcome'] = ['Player 1 wins' if i == 0 else 'Player 2 wins' if i == 1 else 'Tie Game' for i in df.winner]"
   ]
  },
  {
   "cell_type": "code",
   "execution_count": 25,
   "metadata": {},
   "outputs": [
    {
     "data": {
      "text/html": [
       "<div>\n",
       "<style scoped>\n",
       "    .dataframe tbody tr th:only-of-type {\n",
       "        vertical-align: middle;\n",
       "    }\n",
       "\n",
       "    .dataframe tbody tr th {\n",
       "        vertical-align: top;\n",
       "    }\n",
       "\n",
       "    .dataframe thead th {\n",
       "        text-align: right;\n",
       "    }\n",
       "</style>\n",
       "<table border=\"1\" class=\"dataframe\">\n",
       "  <thead>\n",
       "    <tr style=\"text-align: right;\">\n",
       "      <th></th>\n",
       "      <th>final_sums</th>\n",
       "      <th>initial_sums</th>\n",
       "      <th>largest_total_won</th>\n",
       "      <th>no_of_ties</th>\n",
       "      <th>winner</th>\n",
       "      <th>outcome</th>\n",
       "    </tr>\n",
       "  </thead>\n",
       "  <tbody>\n",
       "    <tr>\n",
       "      <th>0</th>\n",
       "      <td>(184, 180)</td>\n",
       "      <td>(196, 168)</td>\n",
       "      <td>65</td>\n",
       "      <td>1</td>\n",
       "      <td>0</td>\n",
       "      <td>Player 1 wins</td>\n",
       "    </tr>\n",
       "    <tr>\n",
       "      <th>1</th>\n",
       "      <td>(120, 244)</td>\n",
       "      <td>(167, 197)</td>\n",
       "      <td>47</td>\n",
       "      <td>0</td>\n",
       "      <td>1</td>\n",
       "      <td>Player 2 wins</td>\n",
       "    </tr>\n",
       "    <tr>\n",
       "      <th>2</th>\n",
       "      <td>(253, 111)</td>\n",
       "      <td>(187, 177)</td>\n",
       "      <td>45</td>\n",
       "      <td>0</td>\n",
       "      <td>0</td>\n",
       "      <td>Player 1 wins</td>\n",
       "    </tr>\n",
       "    <tr>\n",
       "      <th>3</th>\n",
       "      <td>(146, 218)</td>\n",
       "      <td>(172, 192)</td>\n",
       "      <td>44</td>\n",
       "      <td>0</td>\n",
       "      <td>1</td>\n",
       "      <td>Player 2 wins</td>\n",
       "    </tr>\n",
       "    <tr>\n",
       "      <th>4</th>\n",
       "      <td>(265, 99)</td>\n",
       "      <td>(204, 160)</td>\n",
       "      <td>38</td>\n",
       "      <td>0</td>\n",
       "      <td>0</td>\n",
       "      <td>Player 1 wins</td>\n",
       "    </tr>\n",
       "    <tr>\n",
       "      <th>5</th>\n",
       "      <td>(211, 153)</td>\n",
       "      <td>(187, 177)</td>\n",
       "      <td>50</td>\n",
       "      <td>2</td>\n",
       "      <td>0</td>\n",
       "      <td>Player 1 wins</td>\n",
       "    </tr>\n",
       "    <tr>\n",
       "      <th>6</th>\n",
       "      <td>(147, 217)</td>\n",
       "      <td>(166, 198)</td>\n",
       "      <td>39</td>\n",
       "      <td>0</td>\n",
       "      <td>1</td>\n",
       "      <td>Player 2 wins</td>\n",
       "    </tr>\n",
       "    <tr>\n",
       "      <th>7</th>\n",
       "      <td>(129, 235)</td>\n",
       "      <td>(171, 193)</td>\n",
       "      <td>41</td>\n",
       "      <td>0</td>\n",
       "      <td>1</td>\n",
       "      <td>Player 2 wins</td>\n",
       "    </tr>\n",
       "    <tr>\n",
       "      <th>8</th>\n",
       "      <td>(114, 250)</td>\n",
       "      <td>(168, 196)</td>\n",
       "      <td>46</td>\n",
       "      <td>1</td>\n",
       "      <td>1</td>\n",
       "      <td>Player 2 wins</td>\n",
       "    </tr>\n",
       "    <tr>\n",
       "      <th>9</th>\n",
       "      <td>(255, 109)</td>\n",
       "      <td>(185, 179)</td>\n",
       "      <td>58</td>\n",
       "      <td>1</td>\n",
       "      <td>0</td>\n",
       "      <td>Player 1 wins</td>\n",
       "    </tr>\n",
       "  </tbody>\n",
       "</table>\n",
       "</div>"
      ],
      "text/plain": [
       "   final_sums initial_sums  largest_total_won  no_of_ties  winner  \\\n",
       "0  (184, 180)   (196, 168)                 65           1       0   \n",
       "1  (120, 244)   (167, 197)                 47           0       1   \n",
       "2  (253, 111)   (187, 177)                 45           0       0   \n",
       "3  (146, 218)   (172, 192)                 44           0       1   \n",
       "4   (265, 99)   (204, 160)                 38           0       0   \n",
       "5  (211, 153)   (187, 177)                 50           2       0   \n",
       "6  (147, 217)   (166, 198)                 39           0       1   \n",
       "7  (129, 235)   (171, 193)                 41           0       1   \n",
       "8  (114, 250)   (168, 196)                 46           1       1   \n",
       "9  (255, 109)   (185, 179)                 58           1       0   \n",
       "\n",
       "         outcome  \n",
       "0  Player 1 wins  \n",
       "1  Player 2 wins  \n",
       "2  Player 1 wins  \n",
       "3  Player 2 wins  \n",
       "4  Player 1 wins  \n",
       "5  Player 1 wins  \n",
       "6  Player 2 wins  \n",
       "7  Player 2 wins  \n",
       "8  Player 2 wins  \n",
       "9  Player 1 wins  "
      ]
     },
     "execution_count": 25,
     "metadata": {},
     "output_type": "execute_result"
    }
   ],
   "source": [
    "df.head(10)"
   ]
  },
  {
   "cell_type": "markdown",
   "metadata": {},
   "source": [
    "### Step 3.2: (1 point) Add new columns for the winning total ('winning_total') and losing total ('losing_total'), which contain the final totals for the winning and losing players, respectively, and missing values (NumPy.nan) for tie games."
   ]
  },
  {
   "cell_type": "code",
   "execution_count": 26,
   "metadata": {},
   "outputs": [],
   "source": [
    "df['winning_total'] =  [i[0] if i[0] > i[1] else i[1] if i[1] > i[0] else np.nan for i in df.final_sums]\n",
    "df['losing_total'] =  [i[1] if i[0] > i[1] else i[0] if i[1] > i[0] else np.nan for i in df.final_sums]"
   ]
  },
  {
   "cell_type": "code",
   "execution_count": 27,
   "metadata": {},
   "outputs": [
    {
     "data": {
      "text/html": [
       "<div>\n",
       "<style scoped>\n",
       "    .dataframe tbody tr th:only-of-type {\n",
       "        vertical-align: middle;\n",
       "    }\n",
       "\n",
       "    .dataframe tbody tr th {\n",
       "        vertical-align: top;\n",
       "    }\n",
       "\n",
       "    .dataframe thead th {\n",
       "        text-align: right;\n",
       "    }\n",
       "</style>\n",
       "<table border=\"1\" class=\"dataframe\">\n",
       "  <thead>\n",
       "    <tr style=\"text-align: right;\">\n",
       "      <th></th>\n",
       "      <th>final_sums</th>\n",
       "      <th>initial_sums</th>\n",
       "      <th>largest_total_won</th>\n",
       "      <th>no_of_ties</th>\n",
       "      <th>winner</th>\n",
       "      <th>outcome</th>\n",
       "      <th>winning_total</th>\n",
       "      <th>losing_total</th>\n",
       "    </tr>\n",
       "  </thead>\n",
       "  <tbody>\n",
       "    <tr>\n",
       "      <th>0</th>\n",
       "      <td>(184, 180)</td>\n",
       "      <td>(196, 168)</td>\n",
       "      <td>65</td>\n",
       "      <td>1</td>\n",
       "      <td>0</td>\n",
       "      <td>Player 1 wins</td>\n",
       "      <td>184.0</td>\n",
       "      <td>180.0</td>\n",
       "    </tr>\n",
       "    <tr>\n",
       "      <th>1</th>\n",
       "      <td>(120, 244)</td>\n",
       "      <td>(167, 197)</td>\n",
       "      <td>47</td>\n",
       "      <td>0</td>\n",
       "      <td>1</td>\n",
       "      <td>Player 2 wins</td>\n",
       "      <td>244.0</td>\n",
       "      <td>120.0</td>\n",
       "    </tr>\n",
       "    <tr>\n",
       "      <th>2</th>\n",
       "      <td>(253, 111)</td>\n",
       "      <td>(187, 177)</td>\n",
       "      <td>45</td>\n",
       "      <td>0</td>\n",
       "      <td>0</td>\n",
       "      <td>Player 1 wins</td>\n",
       "      <td>253.0</td>\n",
       "      <td>111.0</td>\n",
       "    </tr>\n",
       "    <tr>\n",
       "      <th>3</th>\n",
       "      <td>(146, 218)</td>\n",
       "      <td>(172, 192)</td>\n",
       "      <td>44</td>\n",
       "      <td>0</td>\n",
       "      <td>1</td>\n",
       "      <td>Player 2 wins</td>\n",
       "      <td>218.0</td>\n",
       "      <td>146.0</td>\n",
       "    </tr>\n",
       "    <tr>\n",
       "      <th>4</th>\n",
       "      <td>(265, 99)</td>\n",
       "      <td>(204, 160)</td>\n",
       "      <td>38</td>\n",
       "      <td>0</td>\n",
       "      <td>0</td>\n",
       "      <td>Player 1 wins</td>\n",
       "      <td>265.0</td>\n",
       "      <td>99.0</td>\n",
       "    </tr>\n",
       "    <tr>\n",
       "      <th>5</th>\n",
       "      <td>(211, 153)</td>\n",
       "      <td>(187, 177)</td>\n",
       "      <td>50</td>\n",
       "      <td>2</td>\n",
       "      <td>0</td>\n",
       "      <td>Player 1 wins</td>\n",
       "      <td>211.0</td>\n",
       "      <td>153.0</td>\n",
       "    </tr>\n",
       "    <tr>\n",
       "      <th>6</th>\n",
       "      <td>(147, 217)</td>\n",
       "      <td>(166, 198)</td>\n",
       "      <td>39</td>\n",
       "      <td>0</td>\n",
       "      <td>1</td>\n",
       "      <td>Player 2 wins</td>\n",
       "      <td>217.0</td>\n",
       "      <td>147.0</td>\n",
       "    </tr>\n",
       "    <tr>\n",
       "      <th>7</th>\n",
       "      <td>(129, 235)</td>\n",
       "      <td>(171, 193)</td>\n",
       "      <td>41</td>\n",
       "      <td>0</td>\n",
       "      <td>1</td>\n",
       "      <td>Player 2 wins</td>\n",
       "      <td>235.0</td>\n",
       "      <td>129.0</td>\n",
       "    </tr>\n",
       "    <tr>\n",
       "      <th>8</th>\n",
       "      <td>(114, 250)</td>\n",
       "      <td>(168, 196)</td>\n",
       "      <td>46</td>\n",
       "      <td>1</td>\n",
       "      <td>1</td>\n",
       "      <td>Player 2 wins</td>\n",
       "      <td>250.0</td>\n",
       "      <td>114.0</td>\n",
       "    </tr>\n",
       "    <tr>\n",
       "      <th>9</th>\n",
       "      <td>(255, 109)</td>\n",
       "      <td>(185, 179)</td>\n",
       "      <td>58</td>\n",
       "      <td>1</td>\n",
       "      <td>0</td>\n",
       "      <td>Player 1 wins</td>\n",
       "      <td>255.0</td>\n",
       "      <td>109.0</td>\n",
       "    </tr>\n",
       "  </tbody>\n",
       "</table>\n",
       "</div>"
      ],
      "text/plain": [
       "   final_sums initial_sums  largest_total_won  no_of_ties  winner  \\\n",
       "0  (184, 180)   (196, 168)                 65           1       0   \n",
       "1  (120, 244)   (167, 197)                 47           0       1   \n",
       "2  (253, 111)   (187, 177)                 45           0       0   \n",
       "3  (146, 218)   (172, 192)                 44           0       1   \n",
       "4   (265, 99)   (204, 160)                 38           0       0   \n",
       "5  (211, 153)   (187, 177)                 50           2       0   \n",
       "6  (147, 217)   (166, 198)                 39           0       1   \n",
       "7  (129, 235)   (171, 193)                 41           0       1   \n",
       "8  (114, 250)   (168, 196)                 46           1       1   \n",
       "9  (255, 109)   (185, 179)                 58           1       0   \n",
       "\n",
       "         outcome  winning_total  losing_total  \n",
       "0  Player 1 wins          184.0         180.0  \n",
       "1  Player 2 wins          244.0         120.0  \n",
       "2  Player 1 wins          253.0         111.0  \n",
       "3  Player 2 wins          218.0         146.0  \n",
       "4  Player 1 wins          265.0          99.0  \n",
       "5  Player 1 wins          211.0         153.0  \n",
       "6  Player 2 wins          217.0         147.0  \n",
       "7  Player 2 wins          235.0         129.0  \n",
       "8  Player 2 wins          250.0         114.0  \n",
       "9  Player 1 wins          255.0         109.0  "
      ]
     },
     "execution_count": 27,
     "metadata": {},
     "output_type": "execute_result"
    }
   ],
   "source": [
    "df.head(10)"
   ]
  },
  {
   "cell_type": "markdown",
   "metadata": {},
   "source": [
    "### Step 3.3: Preview the first 10 rows of your modified DataFrame. Then, summarize the frequency of the three outcomes and display the rows in your DataFrame that contain the 'Tie game' outcomes."
   ]
  },
  {
   "cell_type": "code",
   "execution_count": 28,
   "metadata": {},
   "outputs": [
    {
     "data": {
      "text/html": [
       "<div>\n",
       "<style scoped>\n",
       "    .dataframe tbody tr th:only-of-type {\n",
       "        vertical-align: middle;\n",
       "    }\n",
       "\n",
       "    .dataframe tbody tr th {\n",
       "        vertical-align: top;\n",
       "    }\n",
       "\n",
       "    .dataframe thead th {\n",
       "        text-align: right;\n",
       "    }\n",
       "</style>\n",
       "<table border=\"1\" class=\"dataframe\">\n",
       "  <thead>\n",
       "    <tr style=\"text-align: right;\">\n",
       "      <th></th>\n",
       "      <th>final_sums</th>\n",
       "      <th>initial_sums</th>\n",
       "      <th>largest_total_won</th>\n",
       "      <th>no_of_ties</th>\n",
       "      <th>winner</th>\n",
       "      <th>outcome</th>\n",
       "      <th>winning_total</th>\n",
       "      <th>losing_total</th>\n",
       "    </tr>\n",
       "  </thead>\n",
       "  <tbody>\n",
       "    <tr>\n",
       "      <th>0</th>\n",
       "      <td>(184, 180)</td>\n",
       "      <td>(196, 168)</td>\n",
       "      <td>65</td>\n",
       "      <td>1</td>\n",
       "      <td>0</td>\n",
       "      <td>Player 1 wins</td>\n",
       "      <td>184.0</td>\n",
       "      <td>180.0</td>\n",
       "    </tr>\n",
       "    <tr>\n",
       "      <th>1</th>\n",
       "      <td>(120, 244)</td>\n",
       "      <td>(167, 197)</td>\n",
       "      <td>47</td>\n",
       "      <td>0</td>\n",
       "      <td>1</td>\n",
       "      <td>Player 2 wins</td>\n",
       "      <td>244.0</td>\n",
       "      <td>120.0</td>\n",
       "    </tr>\n",
       "    <tr>\n",
       "      <th>2</th>\n",
       "      <td>(253, 111)</td>\n",
       "      <td>(187, 177)</td>\n",
       "      <td>45</td>\n",
       "      <td>0</td>\n",
       "      <td>0</td>\n",
       "      <td>Player 1 wins</td>\n",
       "      <td>253.0</td>\n",
       "      <td>111.0</td>\n",
       "    </tr>\n",
       "    <tr>\n",
       "      <th>3</th>\n",
       "      <td>(146, 218)</td>\n",
       "      <td>(172, 192)</td>\n",
       "      <td>44</td>\n",
       "      <td>0</td>\n",
       "      <td>1</td>\n",
       "      <td>Player 2 wins</td>\n",
       "      <td>218.0</td>\n",
       "      <td>146.0</td>\n",
       "    </tr>\n",
       "    <tr>\n",
       "      <th>4</th>\n",
       "      <td>(265, 99)</td>\n",
       "      <td>(204, 160)</td>\n",
       "      <td>38</td>\n",
       "      <td>0</td>\n",
       "      <td>0</td>\n",
       "      <td>Player 1 wins</td>\n",
       "      <td>265.0</td>\n",
       "      <td>99.0</td>\n",
       "    </tr>\n",
       "    <tr>\n",
       "      <th>5</th>\n",
       "      <td>(211, 153)</td>\n",
       "      <td>(187, 177)</td>\n",
       "      <td>50</td>\n",
       "      <td>2</td>\n",
       "      <td>0</td>\n",
       "      <td>Player 1 wins</td>\n",
       "      <td>211.0</td>\n",
       "      <td>153.0</td>\n",
       "    </tr>\n",
       "    <tr>\n",
       "      <th>6</th>\n",
       "      <td>(147, 217)</td>\n",
       "      <td>(166, 198)</td>\n",
       "      <td>39</td>\n",
       "      <td>0</td>\n",
       "      <td>1</td>\n",
       "      <td>Player 2 wins</td>\n",
       "      <td>217.0</td>\n",
       "      <td>147.0</td>\n",
       "    </tr>\n",
       "    <tr>\n",
       "      <th>7</th>\n",
       "      <td>(129, 235)</td>\n",
       "      <td>(171, 193)</td>\n",
       "      <td>41</td>\n",
       "      <td>0</td>\n",
       "      <td>1</td>\n",
       "      <td>Player 2 wins</td>\n",
       "      <td>235.0</td>\n",
       "      <td>129.0</td>\n",
       "    </tr>\n",
       "    <tr>\n",
       "      <th>8</th>\n",
       "      <td>(114, 250)</td>\n",
       "      <td>(168, 196)</td>\n",
       "      <td>46</td>\n",
       "      <td>1</td>\n",
       "      <td>1</td>\n",
       "      <td>Player 2 wins</td>\n",
       "      <td>250.0</td>\n",
       "      <td>114.0</td>\n",
       "    </tr>\n",
       "    <tr>\n",
       "      <th>9</th>\n",
       "      <td>(255, 109)</td>\n",
       "      <td>(185, 179)</td>\n",
       "      <td>58</td>\n",
       "      <td>1</td>\n",
       "      <td>0</td>\n",
       "      <td>Player 1 wins</td>\n",
       "      <td>255.0</td>\n",
       "      <td>109.0</td>\n",
       "    </tr>\n",
       "  </tbody>\n",
       "</table>\n",
       "</div>"
      ],
      "text/plain": [
       "   final_sums initial_sums  largest_total_won  no_of_ties  winner  \\\n",
       "0  (184, 180)   (196, 168)                 65           1       0   \n",
       "1  (120, 244)   (167, 197)                 47           0       1   \n",
       "2  (253, 111)   (187, 177)                 45           0       0   \n",
       "3  (146, 218)   (172, 192)                 44           0       1   \n",
       "4   (265, 99)   (204, 160)                 38           0       0   \n",
       "5  (211, 153)   (187, 177)                 50           2       0   \n",
       "6  (147, 217)   (166, 198)                 39           0       1   \n",
       "7  (129, 235)   (171, 193)                 41           0       1   \n",
       "8  (114, 250)   (168, 196)                 46           1       1   \n",
       "9  (255, 109)   (185, 179)                 58           1       0   \n",
       "\n",
       "         outcome  winning_total  losing_total  \n",
       "0  Player 1 wins          184.0         180.0  \n",
       "1  Player 2 wins          244.0         120.0  \n",
       "2  Player 1 wins          253.0         111.0  \n",
       "3  Player 2 wins          218.0         146.0  \n",
       "4  Player 1 wins          265.0          99.0  \n",
       "5  Player 1 wins          211.0         153.0  \n",
       "6  Player 2 wins          217.0         147.0  \n",
       "7  Player 2 wins          235.0         129.0  \n",
       "8  Player 2 wins          250.0         114.0  \n",
       "9  Player 1 wins          255.0         109.0  "
      ]
     },
     "execution_count": 28,
     "metadata": {},
     "output_type": "execute_result"
    }
   ],
   "source": [
    "df.head(10)"
   ]
  },
  {
   "cell_type": "code",
   "execution_count": 29,
   "metadata": {},
   "outputs": [
    {
     "name": "stdout",
     "output_type": "stream",
     "text": [
      "Counter({'Player 1 wins': 504, 'Player 2 wins': 490, 'Tie Game': 6})\n",
      "\n",
      "Player 1 wins Freq : 0.504\n",
      "Player 2 wins Freq : 0.490\n",
      "Tie Game Freq : 0.006\n"
     ]
    }
   ],
   "source": [
    "from collections import Counter\n",
    "counts = Counter(df.outcome)\n",
    "print(counts)\n",
    "print()\n",
    "\n",
    "for key, val in counts.items():\n",
    "    print(key, \"Freq : %.3f\"%(val/df.shape[0]) )"
   ]
  },
  {
   "cell_type": "code",
   "execution_count": 30,
   "metadata": {},
   "outputs": [
    {
     "data": {
      "text/html": [
       "<div>\n",
       "<style scoped>\n",
       "    .dataframe tbody tr th:only-of-type {\n",
       "        vertical-align: middle;\n",
       "    }\n",
       "\n",
       "    .dataframe tbody tr th {\n",
       "        vertical-align: top;\n",
       "    }\n",
       "\n",
       "    .dataframe thead th {\n",
       "        text-align: right;\n",
       "    }\n",
       "</style>\n",
       "<table border=\"1\" class=\"dataframe\">\n",
       "  <thead>\n",
       "    <tr style=\"text-align: right;\">\n",
       "      <th></th>\n",
       "      <th>final_sums</th>\n",
       "      <th>initial_sums</th>\n",
       "      <th>largest_total_won</th>\n",
       "      <th>no_of_ties</th>\n",
       "      <th>winner</th>\n",
       "      <th>outcome</th>\n",
       "      <th>winning_total</th>\n",
       "      <th>losing_total</th>\n",
       "    </tr>\n",
       "  </thead>\n",
       "  <tbody>\n",
       "    <tr>\n",
       "      <th>205</th>\n",
       "      <td>(182, 182)</td>\n",
       "      <td>(168, 196)</td>\n",
       "      <td>40</td>\n",
       "      <td>0</td>\n",
       "      <td>-1</td>\n",
       "      <td>Tie Game</td>\n",
       "      <td>NaN</td>\n",
       "      <td>NaN</td>\n",
       "    </tr>\n",
       "    <tr>\n",
       "      <th>261</th>\n",
       "      <td>(182, 182)</td>\n",
       "      <td>(176, 188)</td>\n",
       "      <td>38</td>\n",
       "      <td>1</td>\n",
       "      <td>-1</td>\n",
       "      <td>Tie Game</td>\n",
       "      <td>NaN</td>\n",
       "      <td>NaN</td>\n",
       "    </tr>\n",
       "    <tr>\n",
       "      <th>283</th>\n",
       "      <td>(182, 182)</td>\n",
       "      <td>(180, 184)</td>\n",
       "      <td>50</td>\n",
       "      <td>1</td>\n",
       "      <td>-1</td>\n",
       "      <td>Tie Game</td>\n",
       "      <td>NaN</td>\n",
       "      <td>NaN</td>\n",
       "    </tr>\n",
       "    <tr>\n",
       "      <th>329</th>\n",
       "      <td>(182, 182)</td>\n",
       "      <td>(185, 179)</td>\n",
       "      <td>37</td>\n",
       "      <td>0</td>\n",
       "      <td>-1</td>\n",
       "      <td>Tie Game</td>\n",
       "      <td>NaN</td>\n",
       "      <td>NaN</td>\n",
       "    </tr>\n",
       "    <tr>\n",
       "      <th>468</th>\n",
       "      <td>(182, 182)</td>\n",
       "      <td>(169, 195)</td>\n",
       "      <td>60</td>\n",
       "      <td>1</td>\n",
       "      <td>-1</td>\n",
       "      <td>Tie Game</td>\n",
       "      <td>NaN</td>\n",
       "      <td>NaN</td>\n",
       "    </tr>\n",
       "    <tr>\n",
       "      <th>521</th>\n",
       "      <td>(182, 182)</td>\n",
       "      <td>(179, 185)</td>\n",
       "      <td>47</td>\n",
       "      <td>1</td>\n",
       "      <td>-1</td>\n",
       "      <td>Tie Game</td>\n",
       "      <td>NaN</td>\n",
       "      <td>NaN</td>\n",
       "    </tr>\n",
       "  </tbody>\n",
       "</table>\n",
       "</div>"
      ],
      "text/plain": [
       "     final_sums initial_sums  largest_total_won  no_of_ties  winner   outcome  \\\n",
       "205  (182, 182)   (168, 196)                 40           0      -1  Tie Game   \n",
       "261  (182, 182)   (176, 188)                 38           1      -1  Tie Game   \n",
       "283  (182, 182)   (180, 184)                 50           1      -1  Tie Game   \n",
       "329  (182, 182)   (185, 179)                 37           0      -1  Tie Game   \n",
       "468  (182, 182)   (169, 195)                 60           1      -1  Tie Game   \n",
       "521  (182, 182)   (179, 185)                 47           1      -1  Tie Game   \n",
       "\n",
       "     winning_total  losing_total  \n",
       "205            NaN           NaN  \n",
       "261            NaN           NaN  \n",
       "283            NaN           NaN  \n",
       "329            NaN           NaN  \n",
       "468            NaN           NaN  \n",
       "521            NaN           NaN  "
      ]
     },
     "execution_count": 30,
     "metadata": {},
     "output_type": "execute_result"
    }
   ],
   "source": [
    "df[df.outcome == 'Tie Game']"
   ]
  },
  {
   "cell_type": "markdown",
   "metadata": {},
   "source": [
    "### Step 3.4: Produce descriptive statistics (e.g., minimum, mean, standard deviation, maximum) for your winning total column, and display the rows in your DataFrame that contain the top 10 winning totals. (1 point for 3.3 and 3.4)"
   ]
  },
  {
   "cell_type": "code",
   "execution_count": 31,
   "metadata": {},
   "outputs": [
    {
     "data": {
      "text/html": [
       "<div>\n",
       "<style scoped>\n",
       "    .dataframe tbody tr th:only-of-type {\n",
       "        vertical-align: middle;\n",
       "    }\n",
       "\n",
       "    .dataframe tbody tr th {\n",
       "        vertical-align: top;\n",
       "    }\n",
       "\n",
       "    .dataframe thead th {\n",
       "        text-align: right;\n",
       "    }\n",
       "</style>\n",
       "<table border=\"1\" class=\"dataframe\">\n",
       "  <thead>\n",
       "    <tr style=\"text-align: right;\">\n",
       "      <th></th>\n",
       "      <th>winning_total</th>\n",
       "    </tr>\n",
       "  </thead>\n",
       "  <tbody>\n",
       "    <tr>\n",
       "      <th>count</th>\n",
       "      <td>994.000000</td>\n",
       "    </tr>\n",
       "    <tr>\n",
       "      <th>mean</th>\n",
       "      <td>225.842052</td>\n",
       "    </tr>\n",
       "    <tr>\n",
       "      <th>std</th>\n",
       "      <td>32.798727</td>\n",
       "    </tr>\n",
       "    <tr>\n",
       "      <th>min</th>\n",
       "      <td>183.000000</td>\n",
       "    </tr>\n",
       "    <tr>\n",
       "      <th>25%</th>\n",
       "      <td>199.000000</td>\n",
       "    </tr>\n",
       "    <tr>\n",
       "      <th>50%</th>\n",
       "      <td>219.000000</td>\n",
       "    </tr>\n",
       "    <tr>\n",
       "      <th>75%</th>\n",
       "      <td>248.000000</td>\n",
       "    </tr>\n",
       "    <tr>\n",
       "      <th>max</th>\n",
       "      <td>333.000000</td>\n",
       "    </tr>\n",
       "  </tbody>\n",
       "</table>\n",
       "</div>"
      ],
      "text/plain": [
       "       winning_total\n",
       "count     994.000000\n",
       "mean      225.842052\n",
       "std        32.798727\n",
       "min       183.000000\n",
       "25%       199.000000\n",
       "50%       219.000000\n",
       "75%       248.000000\n",
       "max       333.000000"
      ]
     },
     "execution_count": 31,
     "metadata": {},
     "output_type": "execute_result"
    }
   ],
   "source": [
    "df[['winning_total']].describe()"
   ]
  },
  {
   "cell_type": "code",
   "execution_count": 32,
   "metadata": {},
   "outputs": [
    {
     "data": {
      "text/html": [
       "<div>\n",
       "<style scoped>\n",
       "    .dataframe tbody tr th:only-of-type {\n",
       "        vertical-align: middle;\n",
       "    }\n",
       "\n",
       "    .dataframe tbody tr th {\n",
       "        vertical-align: top;\n",
       "    }\n",
       "\n",
       "    .dataframe thead th {\n",
       "        text-align: right;\n",
       "    }\n",
       "</style>\n",
       "<table border=\"1\" class=\"dataframe\">\n",
       "  <thead>\n",
       "    <tr style=\"text-align: right;\">\n",
       "      <th></th>\n",
       "      <th>final_sums</th>\n",
       "      <th>initial_sums</th>\n",
       "      <th>largest_total_won</th>\n",
       "      <th>no_of_ties</th>\n",
       "      <th>winner</th>\n",
       "      <th>outcome</th>\n",
       "      <th>winning_total</th>\n",
       "      <th>losing_total</th>\n",
       "    </tr>\n",
       "  </thead>\n",
       "  <tbody>\n",
       "    <tr>\n",
       "      <th>606</th>\n",
       "      <td>(333, 31)</td>\n",
       "      <td>(213, 151)</td>\n",
       "      <td>41</td>\n",
       "      <td>0</td>\n",
       "      <td>0</td>\n",
       "      <td>Player 1 wins</td>\n",
       "      <td>333.0</td>\n",
       "      <td>31.0</td>\n",
       "    </tr>\n",
       "    <tr>\n",
       "      <th>166</th>\n",
       "      <td>(332, 32)</td>\n",
       "      <td>(219, 145)</td>\n",
       "      <td>46</td>\n",
       "      <td>1</td>\n",
       "      <td>0</td>\n",
       "      <td>Player 1 wins</td>\n",
       "      <td>332.0</td>\n",
       "      <td>32.0</td>\n",
       "    </tr>\n",
       "    <tr>\n",
       "      <th>223</th>\n",
       "      <td>(32, 332)</td>\n",
       "      <td>(145, 219)</td>\n",
       "      <td>59</td>\n",
       "      <td>1</td>\n",
       "      <td>1</td>\n",
       "      <td>Player 2 wins</td>\n",
       "      <td>332.0</td>\n",
       "      <td>32.0</td>\n",
       "    </tr>\n",
       "    <tr>\n",
       "      <th>22</th>\n",
       "      <td>(326, 38)</td>\n",
       "      <td>(212, 152)</td>\n",
       "      <td>95</td>\n",
       "      <td>4</td>\n",
       "      <td>0</td>\n",
       "      <td>Player 1 wins</td>\n",
       "      <td>326.0</td>\n",
       "      <td>38.0</td>\n",
       "    </tr>\n",
       "    <tr>\n",
       "      <th>627</th>\n",
       "      <td>(323, 41)</td>\n",
       "      <td>(214, 150)</td>\n",
       "      <td>67</td>\n",
       "      <td>1</td>\n",
       "      <td>0</td>\n",
       "      <td>Player 1 wins</td>\n",
       "      <td>323.0</td>\n",
       "      <td>41.0</td>\n",
       "    </tr>\n",
       "    <tr>\n",
       "      <th>849</th>\n",
       "      <td>(323, 41)</td>\n",
       "      <td>(223, 141)</td>\n",
       "      <td>41</td>\n",
       "      <td>0</td>\n",
       "      <td>0</td>\n",
       "      <td>Player 1 wins</td>\n",
       "      <td>323.0</td>\n",
       "      <td>41.0</td>\n",
       "    </tr>\n",
       "    <tr>\n",
       "      <th>219</th>\n",
       "      <td>(45, 319)</td>\n",
       "      <td>(148, 216)</td>\n",
       "      <td>43</td>\n",
       "      <td>0</td>\n",
       "      <td>1</td>\n",
       "      <td>Player 2 wins</td>\n",
       "      <td>319.0</td>\n",
       "      <td>45.0</td>\n",
       "    </tr>\n",
       "    <tr>\n",
       "      <th>342</th>\n",
       "      <td>(45, 319)</td>\n",
       "      <td>(157, 207)</td>\n",
       "      <td>56</td>\n",
       "      <td>1</td>\n",
       "      <td>1</td>\n",
       "      <td>Player 2 wins</td>\n",
       "      <td>319.0</td>\n",
       "      <td>45.0</td>\n",
       "    </tr>\n",
       "    <tr>\n",
       "      <th>69</th>\n",
       "      <td>(318, 46)</td>\n",
       "      <td>(216, 148)</td>\n",
       "      <td>57</td>\n",
       "      <td>2</td>\n",
       "      <td>0</td>\n",
       "      <td>Player 1 wins</td>\n",
       "      <td>318.0</td>\n",
       "      <td>46.0</td>\n",
       "    </tr>\n",
       "    <tr>\n",
       "      <th>46</th>\n",
       "      <td>(316, 48)</td>\n",
       "      <td>(210, 154)</td>\n",
       "      <td>46</td>\n",
       "      <td>0</td>\n",
       "      <td>0</td>\n",
       "      <td>Player 1 wins</td>\n",
       "      <td>316.0</td>\n",
       "      <td>48.0</td>\n",
       "    </tr>\n",
       "  </tbody>\n",
       "</table>\n",
       "</div>"
      ],
      "text/plain": [
       "    final_sums initial_sums  largest_total_won  no_of_ties  winner  \\\n",
       "606  (333, 31)   (213, 151)                 41           0       0   \n",
       "166  (332, 32)   (219, 145)                 46           1       0   \n",
       "223  (32, 332)   (145, 219)                 59           1       1   \n",
       "22   (326, 38)   (212, 152)                 95           4       0   \n",
       "627  (323, 41)   (214, 150)                 67           1       0   \n",
       "849  (323, 41)   (223, 141)                 41           0       0   \n",
       "219  (45, 319)   (148, 216)                 43           0       1   \n",
       "342  (45, 319)   (157, 207)                 56           1       1   \n",
       "69   (318, 46)   (216, 148)                 57           2       0   \n",
       "46   (316, 48)   (210, 154)                 46           0       0   \n",
       "\n",
       "           outcome  winning_total  losing_total  \n",
       "606  Player 1 wins          333.0          31.0  \n",
       "166  Player 1 wins          332.0          32.0  \n",
       "223  Player 2 wins          332.0          32.0  \n",
       "22   Player 1 wins          326.0          38.0  \n",
       "627  Player 1 wins          323.0          41.0  \n",
       "849  Player 1 wins          323.0          41.0  \n",
       "219  Player 2 wins          319.0          45.0  \n",
       "342  Player 2 wins          319.0          45.0  \n",
       "69   Player 1 wins          318.0          46.0  \n",
       "46   Player 1 wins          316.0          48.0  "
      ]
     },
     "execution_count": 32,
     "metadata": {},
     "output_type": "execute_result"
    }
   ],
   "source": [
    "df.sort_values(by='winning_total', ascending=False).head(10)"
   ]
  },
  {
   "cell_type": "code",
   "execution_count": 33,
   "metadata": {},
   "outputs": [
    {
     "data": {
      "text/html": [
       "<div>\n",
       "<style scoped>\n",
       "    .dataframe tbody tr th:only-of-type {\n",
       "        vertical-align: middle;\n",
       "    }\n",
       "\n",
       "    .dataframe tbody tr th {\n",
       "        vertical-align: top;\n",
       "    }\n",
       "\n",
       "    .dataframe thead th {\n",
       "        text-align: right;\n",
       "    }\n",
       "</style>\n",
       "<table border=\"1\" class=\"dataframe\">\n",
       "  <thead>\n",
       "    <tr style=\"text-align: right;\">\n",
       "      <th></th>\n",
       "      <th>largest_total_won</th>\n",
       "      <th>no_of_ties</th>\n",
       "      <th>winner</th>\n",
       "      <th>winning_total</th>\n",
       "      <th>losing_total</th>\n",
       "    </tr>\n",
       "  </thead>\n",
       "  <tbody>\n",
       "    <tr>\n",
       "      <th>count</th>\n",
       "      <td>10.000000</td>\n",
       "      <td>10.000000</td>\n",
       "      <td>10.000000</td>\n",
       "      <td>10.000000</td>\n",
       "      <td>10.000000</td>\n",
       "    </tr>\n",
       "    <tr>\n",
       "      <th>mean</th>\n",
       "      <td>55.100000</td>\n",
       "      <td>1.000000</td>\n",
       "      <td>0.300000</td>\n",
       "      <td>324.100000</td>\n",
       "      <td>39.900000</td>\n",
       "    </tr>\n",
       "    <tr>\n",
       "      <th>std</th>\n",
       "      <td>16.542538</td>\n",
       "      <td>1.247219</td>\n",
       "      <td>0.483046</td>\n",
       "      <td>6.367452</td>\n",
       "      <td>6.367452</td>\n",
       "    </tr>\n",
       "    <tr>\n",
       "      <th>min</th>\n",
       "      <td>41.000000</td>\n",
       "      <td>0.000000</td>\n",
       "      <td>0.000000</td>\n",
       "      <td>316.000000</td>\n",
       "      <td>31.000000</td>\n",
       "    </tr>\n",
       "    <tr>\n",
       "      <th>25%</th>\n",
       "      <td>43.750000</td>\n",
       "      <td>0.000000</td>\n",
       "      <td>0.000000</td>\n",
       "      <td>319.000000</td>\n",
       "      <td>33.500000</td>\n",
       "    </tr>\n",
       "    <tr>\n",
       "      <th>50%</th>\n",
       "      <td>51.000000</td>\n",
       "      <td>1.000000</td>\n",
       "      <td>0.000000</td>\n",
       "      <td>323.000000</td>\n",
       "      <td>41.000000</td>\n",
       "    </tr>\n",
       "    <tr>\n",
       "      <th>75%</th>\n",
       "      <td>58.500000</td>\n",
       "      <td>1.000000</td>\n",
       "      <td>0.750000</td>\n",
       "      <td>330.500000</td>\n",
       "      <td>45.000000</td>\n",
       "    </tr>\n",
       "    <tr>\n",
       "      <th>max</th>\n",
       "      <td>95.000000</td>\n",
       "      <td>4.000000</td>\n",
       "      <td>1.000000</td>\n",
       "      <td>333.000000</td>\n",
       "      <td>48.000000</td>\n",
       "    </tr>\n",
       "  </tbody>\n",
       "</table>\n",
       "</div>"
      ],
      "text/plain": [
       "       largest_total_won  no_of_ties     winner  winning_total  losing_total\n",
       "count          10.000000   10.000000  10.000000      10.000000     10.000000\n",
       "mean           55.100000    1.000000   0.300000     324.100000     39.900000\n",
       "std            16.542538    1.247219   0.483046       6.367452      6.367452\n",
       "min            41.000000    0.000000   0.000000     316.000000     31.000000\n",
       "25%            43.750000    0.000000   0.000000     319.000000     33.500000\n",
       "50%            51.000000    1.000000   0.000000     323.000000     41.000000\n",
       "75%            58.500000    1.000000   0.750000     330.500000     45.000000\n",
       "max            95.000000    4.000000   1.000000     333.000000     48.000000"
      ]
     },
     "execution_count": 33,
     "metadata": {},
     "output_type": "execute_result"
    }
   ],
   "source": [
    "df.sort_values(by='winning_total', ascending=False).head(10).describe()"
   ]
  },
  {
   "cell_type": "markdown",
   "metadata": {},
   "source": [
    "## Exercise 4\n",
    "\n",
    "### Step 4.1: Given your DataFrame of simulated game results, calculate the frequency of the number of ties within each game (i.e., the number of rounds in which a tie occurs)."
   ]
  },
  {
   "cell_type": "code",
   "execution_count": 38,
   "metadata": {},
   "outputs": [
    {
     "data": {
      "text/html": [
       "<div>\n",
       "<style scoped>\n",
       "    .dataframe tbody tr th:only-of-type {\n",
       "        vertical-align: middle;\n",
       "    }\n",
       "\n",
       "    .dataframe tbody tr th {\n",
       "        vertical-align: top;\n",
       "    }\n",
       "\n",
       "    .dataframe thead th {\n",
       "        text-align: right;\n",
       "    }\n",
       "</style>\n",
       "<table border=\"1\" class=\"dataframe\">\n",
       "  <thead>\n",
       "    <tr style=\"text-align: right;\">\n",
       "      <th></th>\n",
       "      <th>frequency</th>\n",
       "    </tr>\n",
       "    <tr>\n",
       "      <th>no_of_ties</th>\n",
       "      <th></th>\n",
       "    </tr>\n",
       "  </thead>\n",
       "  <tbody>\n",
       "    <tr>\n",
       "      <th>0</th>\n",
       "      <td>499</td>\n",
       "    </tr>\n",
       "    <tr>\n",
       "      <th>1</th>\n",
       "      <td>368</td>\n",
       "    </tr>\n",
       "    <tr>\n",
       "      <th>2</th>\n",
       "      <td>104</td>\n",
       "    </tr>\n",
       "    <tr>\n",
       "      <th>3</th>\n",
       "      <td>25</td>\n",
       "    </tr>\n",
       "    <tr>\n",
       "      <th>4</th>\n",
       "      <td>4</td>\n",
       "    </tr>\n",
       "  </tbody>\n",
       "</table>\n",
       "</div>"
      ],
      "text/plain": [
       "            frequency\n",
       "no_of_ties           \n",
       "0                 499\n",
       "1                 368\n",
       "2                 104\n",
       "3                  25\n",
       "4                   4"
      ]
     },
     "execution_count": 38,
     "metadata": {},
     "output_type": "execute_result"
    }
   ],
   "source": [
    "df.groupby(by='no_of_ties').count()[['outcome']].rename(columns={'outcome':'frequency'})"
   ]
  },
  {
   "cell_type": "markdown",
   "metadata": {},
   "source": [
    "### Step 4.2: Calculate the mean maximum round total as a function of the number of ties. What do you observe about the relationship between the number of ties and the mean maximum round total?"
   ]
  },
  {
   "cell_type": "code",
   "execution_count": 40,
   "metadata": {},
   "outputs": [],
   "source": [
    "def no_of_ties_to_mean_max_total(no_of_ties=1):\n",
    "    return df[df.no_of_ties == no_of_ties]['largest_total_won'].mean()"
   ]
  },
  {
   "cell_type": "code",
   "execution_count": 41,
   "metadata": {},
   "outputs": [
    {
     "data": {
      "text/plain": [
       "40.33667334669339"
      ]
     },
     "execution_count": 41,
     "metadata": {},
     "output_type": "execute_result"
    }
   ],
   "source": [
    "no_of_ties_to_mean_max_total(0)"
   ]
  },
  {
   "cell_type": "code",
   "execution_count": 42,
   "metadata": {},
   "outputs": [
    {
     "data": {
      "text/plain": [
       "54.92934782608695"
      ]
     },
     "execution_count": 42,
     "metadata": {},
     "output_type": "execute_result"
    }
   ],
   "source": [
    "no_of_ties_to_mean_max_total(1)"
   ]
  },
  {
   "cell_type": "code",
   "execution_count": 43,
   "metadata": {},
   "outputs": [
    {
     "data": {
      "text/plain": [
       "63.5"
      ]
     },
     "execution_count": 43,
     "metadata": {},
     "output_type": "execute_result"
    }
   ],
   "source": [
    "no_of_ties_to_mean_max_total(2)"
   ]
  },
  {
   "cell_type": "code",
   "execution_count": 44,
   "metadata": {},
   "outputs": [
    {
     "data": {
      "text/plain": [
       "74.36"
      ]
     },
     "execution_count": 44,
     "metadata": {},
     "output_type": "execute_result"
    }
   ],
   "source": [
    "no_of_ties_to_mean_max_total(3)"
   ]
  },
  {
   "cell_type": "code",
   "execution_count": 45,
   "metadata": {},
   "outputs": [
    {
     "data": {
      "text/plain": [
       "82.25"
      ]
     },
     "execution_count": 45,
     "metadata": {},
     "output_type": "execute_result"
    }
   ],
   "source": [
    "no_of_ties_to_mean_max_total(4)"
   ]
  },
  {
   "cell_type": "code",
   "execution_count": 46,
   "metadata": {},
   "outputs": [
    {
     "data": {
      "text/plain": [
       "nan"
      ]
     },
     "execution_count": 46,
     "metadata": {},
     "output_type": "execute_result"
    }
   ],
   "source": [
    "no_of_ties_to_mean_max_total(5)"
   ]
  },
  {
   "cell_type": "code",
   "execution_count": 47,
   "metadata": {},
   "outputs": [
    {
     "data": {
      "text/html": [
       "<div>\n",
       "<style scoped>\n",
       "    .dataframe tbody tr th:only-of-type {\n",
       "        vertical-align: middle;\n",
       "    }\n",
       "\n",
       "    .dataframe tbody tr th {\n",
       "        vertical-align: top;\n",
       "    }\n",
       "\n",
       "    .dataframe thead th {\n",
       "        text-align: right;\n",
       "    }\n",
       "</style>\n",
       "<table border=\"1\" class=\"dataframe\">\n",
       "  <thead>\n",
       "    <tr style=\"text-align: right;\">\n",
       "      <th></th>\n",
       "      <th>avg_largest_total_won</th>\n",
       "    </tr>\n",
       "    <tr>\n",
       "      <th>no_of_ties</th>\n",
       "      <th></th>\n",
       "    </tr>\n",
       "  </thead>\n",
       "  <tbody>\n",
       "    <tr>\n",
       "      <th>0</th>\n",
       "      <td>40.336673</td>\n",
       "    </tr>\n",
       "    <tr>\n",
       "      <th>1</th>\n",
       "      <td>54.929348</td>\n",
       "    </tr>\n",
       "    <tr>\n",
       "      <th>2</th>\n",
       "      <td>63.500000</td>\n",
       "    </tr>\n",
       "    <tr>\n",
       "      <th>3</th>\n",
       "      <td>74.360000</td>\n",
       "    </tr>\n",
       "    <tr>\n",
       "      <th>4</th>\n",
       "      <td>82.250000</td>\n",
       "    </tr>\n",
       "  </tbody>\n",
       "</table>\n",
       "</div>"
      ],
      "text/plain": [
       "            avg_largest_total_won\n",
       "no_of_ties                       \n",
       "0                       40.336673\n",
       "1                       54.929348\n",
       "2                       63.500000\n",
       "3                       74.360000\n",
       "4                       82.250000"
      ]
     },
     "execution_count": 47,
     "metadata": {},
     "output_type": "execute_result"
    }
   ],
   "source": [
    "df.groupby(by='no_of_ties').mean()[['largest_total_won']].rename(columns={'largest_total_won':'avg_largest_total_won'})"
   ]
  },
  {
   "cell_type": "markdown",
   "metadata": {},
   "source": [
    "We can see from above relation between no of ties to mean maximum round total that as no of ties increases, mean maximum round total increases as well which increases chances of winner of that total of winning whole game."
   ]
  },
  {
   "cell_type": "code",
   "execution_count": 48,
   "metadata": {},
   "outputs": [
    {
     "data": {
      "text/plain": [
       "no_of_ties    0.742974\n",
       "dtype: float64"
      ]
     },
     "execution_count": 48,
     "metadata": {},
     "output_type": "execute_result"
    }
   ],
   "source": [
    "df[['no_of_ties']].corrwith(df['largest_total_won'])"
   ]
  },
  {
   "cell_type": "markdown",
   "metadata": {},
   "source": [
    "We can see above that there is very positive correlation between number of ties and maximum rount total. It indicates that if there are more number of ties then it leads one party to win huge round total and hence increases his/her chances of winning more."
   ]
  },
  {
   "cell_type": "code",
   "execution_count": null,
   "metadata": {},
   "outputs": [],
   "source": []
  },
  {
   "cell_type": "code",
   "execution_count": null,
   "metadata": {},
   "outputs": [],
   "source": []
  },
  {
   "cell_type": "code",
   "execution_count": null,
   "metadata": {},
   "outputs": [],
   "source": []
  }
 ],
 "metadata": {
  "anaconda-cloud": {},
  "kernelspec": {
   "display_name": "Python 3",
   "language": "python",
   "name": "python3"
  },
  "language_info": {
   "codemirror_mode": {
    "name": "ipython",
    "version": 3
   },
   "file_extension": ".py",
   "mimetype": "text/x-python",
   "name": "python",
   "nbconvert_exporter": "python",
   "pygments_lexer": "ipython3",
   "version": "3.7.3"
  }
 },
 "nbformat": 4,
 "nbformat_minor": 1
}
