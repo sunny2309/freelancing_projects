{
 "cells": [
  {
   "cell_type": "code",
   "execution_count": 1,
   "metadata": {},
   "outputs": [],
   "source": [
    "import numpy as np\n",
    "import matplotlib.pyplot as plt\n",
    "import pandas as pd\n",
    "import scipy\n",
    "import math\n",
    "import phe\n",
    "import sklearn\n",
    "from sklearn.model_selection import train_test_split\n",
    "from sklearn.preprocessing import  StandardScaler\n",
    "from phe import paillier\n",
    "import bitstring\n",
    "from bitstring import Bits\n",
    "from secrets import token_hex\n",
    "import copy\n",
    "from Crypto.Cipher import DES\n",
    "import pickle\n",
    "\n",
    "%matplotlib inline"
   ]
  },
  {
   "cell_type": "code",
   "execution_count": 2,
   "metadata": {
    "code_folding": [
     0
    ]
   },
   "outputs": [],
   "source": [
    "def cholesky_decomposition(A):\n",
    "    d = A.shape[0]\n",
    "    L = A.copy()\n",
    "    #L = np.zeros(A.shape)\n",
    "    for i in range(d-1):\n",
    "        for j in range(i+1,d):\n",
    "            L[i][j] = 0.0\n",
    "    for j in range(d):\n",
    "        for k in range(j):\n",
    "            for i in range(j,d):\n",
    "                L[i][j] -= (L[i][k]*L[j][k])\n",
    "        L[j][j] = math.sqrt(L[j][j])\n",
    "        for k in range(j+1,d):\n",
    "            L[k][j] /= L[j][j]\n",
    "    for i in range(d-1):\n",
    "        for j in range(i+1,d):\n",
    "            L[i][j] = 0.0\n",
    "    return L"
   ]
  },
  {
   "cell_type": "code",
   "execution_count": 3,
   "metadata": {
    "code_folding": [
     0
    ]
   },
   "outputs": [],
   "source": [
    "A = np.array([[ 6,  3,  4,  8],\n",
    "       [ 3,  6,  5,  1],\n",
    "       [ 4,  5, 10,  7],\n",
    "       [ 8,  1,  7, 25]],dtype=np.float32)"
   ]
  },
  {
   "cell_type": "code",
   "execution_count": 4,
   "metadata": {},
   "outputs": [],
   "source": [
    "L = cholesky_decomposition(A)"
   ]
  },
  {
   "cell_type": "code",
   "execution_count": 5,
   "metadata": {},
   "outputs": [
    {
     "data": {
      "text/plain": [
       "array([[ 2.4494898,  0.       ,  0.       ,  0.       ],\n",
       "       [ 1.2247448,  2.1213202,  0.       ,  0.       ],\n",
       "       [ 1.6329931,  1.4142138,  2.309401 ,  0.       ],\n",
       "       [ 3.2659862, -1.4142134,  1.5877134,  3.132491 ]], dtype=float32)"
      ]
     },
     "execution_count": 5,
     "metadata": {},
     "output_type": "execute_result"
    }
   ],
   "source": [
    "L"
   ]
  },
  {
   "cell_type": "code",
   "execution_count": 6,
   "metadata": {},
   "outputs": [],
   "source": [
    "#np.dot(L,L.T)"
   ]
  },
  {
   "cell_type": "code",
   "execution_count": 7,
   "metadata": {},
   "outputs": [],
   "source": [
    "A = np.array([[ 6,  3,  4,  8],\n",
    "       [ 3,  6,  5,  1],\n",
    "       [ 4,  5, 10,  7],\n",
    "       [ 8,  1,  7, 25]],dtype=np.float32)"
   ]
  },
  {
   "cell_type": "code",
   "execution_count": 8,
   "metadata": {},
   "outputs": [],
   "source": [
    "L2 = np.linalg.cholesky(A)"
   ]
  },
  {
   "cell_type": "code",
   "execution_count": 9,
   "metadata": {},
   "outputs": [
    {
     "data": {
      "text/plain": [
       "array([[ 2.4494898,  0.       ,  0.       ,  0.       ],\n",
       "       [ 1.2247449,  2.1213202,  0.       ,  0.       ],\n",
       "       [ 1.6329932,  1.4142135,  2.309401 ,  0.       ],\n",
       "       [ 3.2659864, -1.4142135,  1.5877132,  3.132491 ]], dtype=float32)"
      ]
     },
     "execution_count": 9,
     "metadata": {},
     "output_type": "execute_result"
    }
   ],
   "source": [
    "L2"
   ]
  },
  {
   "cell_type": "code",
   "execution_count": 10,
   "metadata": {},
   "outputs": [],
   "source": [
    "#np.dot(L2,L2.T)"
   ]
  },
  {
   "cell_type": "code",
   "execution_count": 11,
   "metadata": {},
   "outputs": [],
   "source": [
    "#A"
   ]
  },
  {
   "cell_type": "code",
   "execution_count": 12,
   "metadata": {
    "code_folding": [
     0
    ]
   },
   "outputs": [],
   "source": [
    "def cholesky(A):\n",
    "    \"\"\"Performs a Cholesky decomposition of A, which must \n",
    "    be a symmetric and positive definite matrix. The function\n",
    "    returns the lower variant triangular matrix, L.\"\"\"\n",
    "    n = len(A)\n",
    "\n",
    "    # Create zero matrix for L\n",
    "    L = np.zeros(A.shape)\n",
    "\n",
    "    # Perform the Cholesky decomposition\n",
    "    for i in range(n):\n",
    "        for k in range(i+1):\n",
    "            tmp_sum = sum(L[i][j] * L[k][j] for j in range(k))\n",
    "            \n",
    "            if (i == k): # Diagonal elements\n",
    "                # LaTeX: l_{kk} = \\sqrt{ a_{kk} - \\sum^{k-1}_{j=1} l^2_{kj}}\n",
    "                L[i][k] = np.sqrt(A[i][i] - tmp_sum)\n",
    "            else:\n",
    "                # LaTeX: l_{ik} = \\frac{1}{l_{kk}} \\left( a_{ik} - \\sum^{k-1}_{j=1} l_{ij} l_{kj} \\right)\n",
    "                L[i][k] = (1.0 / L[k][k] * (A[i][k] - tmp_sum))\n",
    "    return L"
   ]
  },
  {
   "cell_type": "code",
   "execution_count": 13,
   "metadata": {},
   "outputs": [],
   "source": [
    "#cholesky(A)"
   ]
  },
  {
   "cell_type": "code",
   "execution_count": 14,
   "metadata": {
    "code_folding": [
     0
    ]
   },
   "outputs": [],
   "source": [
    "def square_root(x):\n",
    "    e = [pow(4,i) for i in range(int(x)) if pow(4,i)<=x][-1]\n",
    "    r = 0\n",
    "    #print(e)\n",
    "    while e != 0:\n",
    "        if x >= r+e:\n",
    "            x -= (r+e)\n",
    "            r = (r >> 1) +e\n",
    "        else:\n",
    "            r = (r >> 1)\n",
    "        e = (e >> 2)\n",
    "    return r"
   ]
  },
  {
   "cell_type": "code",
   "execution_count": 15,
   "metadata": {},
   "outputs": [],
   "source": [
    "#square_root(100)"
   ]
  },
  {
   "cell_type": "code",
   "execution_count": 16,
   "metadata": {
    "code_folding": [
     0
    ]
   },
   "outputs": [],
   "source": [
    "def poc_bitstring_class():\n",
    "    binary = np.array(list(bin(255))[2:],dtype=np.bool)\n",
    "    b = bitstring.Bits(float=1.23,length=32)\n",
    "    print(b.bin)\n",
    "    b = bitstring.Bits(float=-1.23,length=32)\n",
    "    print(b.bin)\n",
    "    \n",
    "    a = bitstring.Bits(float=1.0,length=32)\n",
    "    b = bitstring.Bits(float=-1.0,length=32)\n",
    "    print(a.bin, b.bin,a.bin[:9])\n",
    "    \n",
    "    a = bitstring.Bits(float=1000.2090990909090909,length=32)\n",
    "    b = bitstring.Bits(float=-127.0,length=32)\n",
    "    print(a.bin, b.bin)\n",
    "    \n",
    "    a = bitstring.Bits(int=1,length=32)\n",
    "    b = bitstring.Bits(int=-1,length=32)\n",
    "    print(a.bin, b.bin)"
   ]
  },
  {
   "cell_type": "code",
   "execution_count": 17,
   "metadata": {},
   "outputs": [],
   "source": [
    "#poc_bitstring_class()"
   ]
  },
  {
   "cell_type": "code",
   "execution_count": 18,
   "metadata": {
    "code_folding": [
     0
    ]
   },
   "outputs": [],
   "source": [
    "def poc_paillier_encryption_scheme():\n",
    "    pub,priv = paillier.generate_paillier_keypair()\n",
    "    n = pub.encrypt(1.25)\n",
    "    m = pub.encrypt(1.25)\n",
    "    print(priv.decrypt(m+n))"
   ]
  },
  {
   "cell_type": "code",
   "execution_count": 19,
   "metadata": {},
   "outputs": [],
   "source": [
    "#poc_paillier_encryption_scheme()"
   ]
  },
  {
   "cell_type": "code",
   "execution_count": 20,
   "metadata": {
    "code_folding": [
     0
    ]
   },
   "outputs": [],
   "source": [
    "def poc_encryption_des():\n",
    "    a = token_hex(4)\n",
    "    b = token_hex(4)\n",
    "    c = token_hex(4)\n",
    "    \n",
    "    print('Original Values : ')\n",
    "    print('A : [ %s ], B : [ %s ], C : [ %s ]'%(a,b,c))\n",
    "    print('--------------------------------------')\n",
    "    print('First Encrypt with A and then B')\n",
    "    des_in = DES.new(b, DES.MODE_ECB)\n",
    "    des_in2 = DES.new(a,DES.MODE_ECB)\n",
    "    c_cipher = des_in2.encrypt(des_in.encrypt(c))\n",
    "    c_decrypted = des_in.decrypt(des_in2.decrypt(c_cipher))\n",
    "    print('C Encrypted with A & B [ %s ]'%c_cipher)\n",
    "    print('C Original : [ %s ], C Decrypted [ %s ]'%(c, c_decrypted))\n",
    "    \n",
    "    print('--------------------------------------')\n",
    "    print('First Encrypt with B and then A')\n",
    "    des_in = DES.new(b, DES.MODE_ECB)\n",
    "    des_in2 = DES.new(a,DES.MODE_ECB)\n",
    "    c_cipher = des_in.encrypt(des_in2.encrypt(c))\n",
    "    c_decrypted = des_in2.decrypt(des_in.decrypt(c_cipher))\n",
    "    print('C Encrypted with A & B [ %s ]'%c_cipher)\n",
    "    print('C Original : [ %s ], C Decrypted [ %s ]'%(c, c_decrypted))\n",
    "    \n",
    "    print('--------------------------------------')\n",
    "    print('First Encrypt with B and then B')\n",
    "    des_in = DES.new(b, DES.MODE_ECB)\n",
    "    c_cipher = des_in.encrypt(des_in.encrypt(c))\n",
    "    c_decrypted = des_in.decrypt(des_in.decrypt(c_cipher))\n",
    "    print('C Encrypted with A & B [ %s ]'%c_cipher)\n",
    "    print('C Original : [ %s ], C Decrypted [ %s ]'%(c, c_decrypted))\n",
    "    \n",
    "    print('--------------------------------------')\n",
    "    print('First Encrypt with A and then A')\n",
    "    des_in2 = DES.new(a,DES.MODE_ECB)\n",
    "    c_cipher = des_in2.encrypt(des_in2.encrypt(c))\n",
    "    c_decrypted = des_in2.decrypt(des_in2.decrypt(c_cipher))\n",
    "    print('C Encrypted with A & B [ %s ]'%c_cipher)\n",
    "    print('C Original : [ %s ], C Decrypted [ %s ]'%(c, c_decrypted))"
   ]
  },
  {
   "cell_type": "code",
   "execution_count": 21,
   "metadata": {},
   "outputs": [],
   "source": [
    "#poc_encryption_des()"
   ]
  },
  {
   "cell_type": "code",
   "execution_count": 22,
   "metadata": {
    "code_folding": []
   },
   "outputs": [],
   "source": [
    "##xt = np.zeros(user.temp.shape,dtype=np.object)\n",
    "#for i in range(user.temp.shape[0]):\n",
    "#    for j in range(user.temp.shape[1]):\n",
    "#        b = Bits(float=user.temp[i][j],length=64)\n",
    "#        print(b.bin)"
   ]
  },
  {
   "cell_type": "code",
   "execution_count": 114,
   "metadata": {
    "code_folding": [
     0,
     35,
     43,
     58
    ]
   },
   "outputs": [],
   "source": [
    "def compute_twos_complement(binary):\n",
    "    out = ''\n",
    "    for i in binary:\n",
    "        out += '1' if i=='0' else '0'\n",
    "    #print(out)\n",
    "    return Add()(out,((len(binary)-1)*'0')+'1')\n",
    "        \n",
    "def float_to_bin(num,size=24):\n",
    "    twos_complement = True if num<0 else False\n",
    "    int_p,frac_p = str(num).split('.')\n",
    "    frac_p = float('0.'+frac_p)\n",
    "    int_b = bin(int(int_p))[2:] if num > 0 else bin(int(int_p))[3:]\n",
    "    frac_b = '.'\n",
    "    for i in range(8):\n",
    "        #print(frac_p)\n",
    "        frac_p = frac_p*2\n",
    "        t_i, t_f = str(frac_p).split('.')\n",
    "        frac_b += t_i\n",
    "        if t_i == '1':\n",
    "            frac_p -= 1.\n",
    "        #print(frac_p)\n",
    "    out = int_b+frac_b\n",
    "    out = out.replace('.','')\n",
    "    #print(out)\n",
    "    out = out[:-4]  ## Need to change to -8 in future\n",
    "    out += '11111100'\n",
    "    out = out.zfill(size)\n",
    "    #print(out)\n",
    "    if twos_complement:\n",
    "        temp_out = compute_twos_complement(out[:size-8])\n",
    "    #print(temp_out)\n",
    "    out = temp_out+out[size-8:] if twos_complement else out\n",
    "    #print(out)\n",
    "    return out\n",
    "\n",
    "def int_to_bin(num):\n",
    "    twos_complement = True if num<0 else False\n",
    "    int_b = bin(int(num))[2:] if num > 0 else bin(int(num))[3:]\n",
    "    int_b = int_b.zfill(16)\n",
    "    if twos_complement:\n",
    "        int_b = compute_twos_complement(int_b)\n",
    "    return int_b\n",
    "\n",
    "def bin_to_float(binary):\n",
    "    int_p , frac_p = binary[:len(binary)-8], binary[len(binary)-8:]\n",
    "    int_part = 0.0\n",
    "    for i,j in enumerate(reversed(int_p[1:])):\n",
    "        int_part += (int(j) * pow(2, i))\n",
    "    #print(int_part)\n",
    "    int_part -= int(binary[0])*pow(2,len(binary)-9) ## 15\n",
    "    #print(int_part)\n",
    "    pow_part = 0.0\n",
    "    for i,j in enumerate(reversed(frac_p[1:])):\n",
    "        pow_part += (int(j) * pow(2, i))\n",
    "    pow_part -= pow(2,7)\n",
    "    #print(pow_part)\n",
    "    return int_part*pow(2,pow_part)\n",
    "\n",
    "def bin_to_int(binary):\n",
    "    int_part = 0\n",
    "    for i,j in enumerate(reversed(binary[1:])):\n",
    "        int_part += (int(j) * pow(2, i))\n",
    "    int_part -= int(binary[0])*pow(2,len(binary)-1)\n",
    "    return int_part"
   ]
  },
  {
   "cell_type": "code",
   "execution_count": 5,
   "metadata": {},
   "outputs": [
    {
     "name": "stdout",
     "output_type": "stream",
     "text": [
      "-103.25\n"
     ]
    },
    {
     "data": {
      "text/plain": [
       "('-0b10', '0b10')"
      ]
     },
     "execution_count": 5,
     "metadata": {},
     "output_type": "execute_result"
    }
   ],
   "source": [
    "print(bin_to_float(float_to_bin(-103.25)))\n",
    "bin(-2),bin(2)"
   ]
  },
  {
   "cell_type": "code",
   "execution_count": 115,
   "metadata": {
    "code_folding": [
     0,
     3,
     7,
     11,
     15,
     19,
     23,
     28,
     51,
     58,
     72,
     90,
     120
    ]
   },
   "outputs": [],
   "source": [
    "class Gate(object):\n",
    "    pass\n",
    "\n",
    "class LeftShift(Gate):\n",
    "    def __call__(self,a,n):\n",
    "        return a[n:] + '0' * n\n",
    "\n",
    "class RightShift(Gate):\n",
    "    def __call__(self,a,n):\n",
    "        return '0' * n + a[:-n]\n",
    "\n",
    "class And(Gate):\n",
    "    def __call__(self,a,b):\n",
    "        return a and b\n",
    "\n",
    "class Or(Gate):\n",
    "    def __call__(self,a,b):\n",
    "        return a or b\n",
    "\n",
    "class Xor(Gate):\n",
    "    def __call__(self,a,b):\n",
    "        return 0 if (a==1 and b==1) or (a==0 and b==0) else 1\n",
    "\n",
    "class Not(Gate):\n",
    "    def __call__(self,a):\n",
    "        t = {0:1,1:0}\n",
    "        return t[a]\n",
    "                \n",
    "class Add(Gate):\n",
    "    \n",
    "    def add(self,a,b,carry):\n",
    "        #xor = Xor()\n",
    "        #and_g = And()\n",
    "        #or_g = Or()\n",
    "        o1 = Xor()(a,b)\n",
    "        o2 = And()(a,b)\n",
    "        add = Xor()(carry,o1)\n",
    "        o4 = And()(carry,o1)\n",
    "        cary = Or()(o4,o2)\n",
    "        return str(add), cary\n",
    "    \n",
    "    def __call__(self,a,b):\n",
    "        carry = 0\n",
    "        out = ''\n",
    "        for idx,i in reversed(list(enumerate(zip(a[:16],b[:16])))):\n",
    "            o,carry = self.add(int(i[0]),int(i[1]),carry)\n",
    "            out += o\n",
    "        #print(out)\n",
    "        out = ''.join(reversed(out))\n",
    "        return out + a[16:]\n",
    "\n",
    "class Subtract(Gate):\n",
    "    \n",
    "    def __call__(self,a,b):\n",
    "        b2 = compute_twos_complement(b[:16])\n",
    "        b2 = b2 + b[16:]\n",
    "        return Add()(a,b2)\n",
    "\n",
    "class Multiplication(Gate):\n",
    "\n",
    "    def __call__(self,a,b):\n",
    "        s = '0'*16\n",
    "        m = copy.copy(a[:16])\n",
    "        for i in reversed(b[:16]):\n",
    "            if int(i) != 0:     # when digit is one, add the intermediary product\n",
    "                s = Add()(s, m)\n",
    "            m = LeftShift()(m, 1)  # shift one per digit in b\n",
    "        #exponent = Add()(a[16:],b[16:])\n",
    "        s = RightShift()(s,4) ## Shifting left by 4 places to get exponent back to 2^-4\n",
    "\n",
    "        return s+a[16:]\n",
    "        \n",
    "class Division(Gate):\n",
    "    \n",
    "    def __call__(self,a, b):\n",
    "        negative_result = False\n",
    "        if bin_to_int(a[:16]) < 0 and bin_to_int(b[:16]) < 0:\n",
    "            a = compute_twos_complement(a[:16]) + a[16:]\n",
    "            b = compute_twos_complement(b[:16]) + b[16:]\n",
    "        elif bin_to_int(a[:16]) < 0:\n",
    "            a = compute_twos_complement(a[:16]) + a[16:]\n",
    "            negative_result = True\n",
    "        elif bin_to_int(b[:16]) < 0:\n",
    "            b = compute_twos_complement(b[:16]) + b[16:]\n",
    "            negative_result = True\n",
    "        \n",
    "        exp = 0\n",
    "        if bin_to_int(a[:16]) >= bin_to_int(b[:16]):\n",
    "            reminder = Subtract()(a[:16], b[:16])\n",
    "            quotient = Add()('0'*16, (15*'0')+'1')\n",
    "            while bin_to_int(reminder) > bin_to_int(b[:16]):\n",
    "                reminder = Subtract()(reminder, b[:16])\n",
    "                quotient = Add()(quotient, ((len(a[:16])-1)*'0')+'1')\n",
    "            for i in range(2):\n",
    "                if bin_to_int(reminder) == 0:\n",
    "                    break\n",
    "                while bin_to_int(reminder) < bin_to_int(b[:16]) and bin_to_int(reminder) != 0:\n",
    "                    reminder = LeftShift()(reminder,1)\n",
    "                    quotient = LeftShift()(quotient, 1)\n",
    "                    exp -= 1\n",
    "                reminder = Subtract()(reminder, b[:16])\n",
    "                quotient = Add()(quotient, ((len(a[:16])-1)*'0')+'1')\n",
    "        else:\n",
    "            reminder = copy.copy(a[:16])\n",
    "            exp = -1\n",
    "            reminder = LeftShift()(reminder,1)\n",
    "            quotient = '0'*16\n",
    "            for i in range(2):\n",
    "                while bin_to_int(reminder) < bin_to_int(b[:16]) and bin_to_int(reminder) !=0:\n",
    "                    reminder = LeftShift()(reminder,1)\n",
    "                    quotient = LeftShift()(quotient,1)\n",
    "                    exp -= 1\n",
    "            reminder = Subtract()(reminder, b[:16])\n",
    "            quotient = Add()(quotient, (15*'0')+'1')\n",
    "        quotient = RightShift()(quotient, abs(exp) - 4) if exp < -4 else LeftShift()(quotient,4 - abs(exp))\n",
    "        quotient = compute_twos_complement(quotient) if negative_result else quotient\n",
    "        return quotient+a[16:]\n",
    "    \n",
    "class Sqrt(Gate):\n",
    "    \n",
    "    def __call__(self,x):\n",
    "        num = copy.copy(x[:16])\n",
    "        xx = bin_to_int(x[:16])\n",
    "        #e = [i for i in range(int(xx)) if pow(4,i)<=xx][-1]\n",
    "        e = [i for i in range(int(xx)) if pow(4,i)<=xx]\n",
    "        #e = e[-1] if e else 0\n",
    "        e = int_to_bin(pow(4,e[-1])) if e else '0'*len(num)\n",
    "        if len(e) < len(num):\n",
    "            e = PadZerosLeft()(e,len(num) - len(e))\n",
    "        r = '0'*len(e)\n",
    "        while '1' in e:\n",
    "            if GreaterThanEqualTo()(num, Add()(r,e)):\n",
    "                num = Subtract()(num, Add()(r,e))\n",
    "                r = Add()(RightShift()(r, 1), e)\n",
    "            else:\n",
    "                r = RightShift()(r, 1)\n",
    "            e = RightShift()(e, 2)\n",
    "        r = LeftShift()(r,2)\n",
    "        return r + x[16:]\n",
    "    \n",
    "class GreaterThanEqualTo(Gate):\n",
    "    def __call__(self,a,b):\n",
    "        return bin_to_int(a) >= bin_to_int(b)\n",
    "    \n",
    "class PadZerosLeft(Gate):\n",
    "    def __call__(self,a,n):\n",
    "        return n*'0' + a \n",
    "\n",
    "class PadZerosRight(Gate):\n",
    "    def __call__(self,a,n):\n",
    "        return a + n*'0'\n",
    "    \n",
    "class GarbledCircuit(object):\n",
    "    def __init__(A,b):\n",
    "        self.A = A\n",
    "        self.b = b\n",
    "        \n",
    "    def generate_beta(self):\n",
    "        pass"
   ]
  },
  {
   "cell_type": "code",
   "execution_count": 4,
   "metadata": {
    "code_folding": [
     0
    ]
   },
   "outputs": [],
   "source": [
    "def poc_AddSubtractDivMultiSqrt():\n",
    "    add = Add()\n",
    "    print(add('010','011'))\n",
    "    print(Add()('010','011'))\n",
    "    print(Subtract()('010','001'))\n",
    "    print(Subtract()('111','010'))\n",
    "    print(Add()('111','010'))\n",
    "    print(bin_to_float(Add()(float_to_bin(1.5),float_to_bin(1.5))))\n",
    "    print(bin_to_float(float_to_bin(1.5)))\n",
    "    print(bin_to_float(float_to_bin(1.8)))\n",
    "    print(compute_twos_complement('0001'))\n",
    "    print(Multiplication()('1110','0001'))\n",
    "    print(Sqrt()('00010000'))\n",
    "    print(Sqrt()('00010000'))\n",
    "    print(Sqrt()('000100'))\n",
    "    print(Sqrt()('00100000'))\n",
    "    print(Sqrt()('0101'))\n",
    "    print(Division()('00000111','00000011')) \n",
    "    print(Division()('10000000','10000000'))\n",
    "    print(Division()('10000000','00000001'))\n",
    "    print(Division()('00000001','11111111')) ## Wrong\n",
    "    #print(Subtract()('10000000','00000001'))"
   ]
  },
  {
   "cell_type": "code",
   "execution_count": 5,
   "metadata": {
    "code_folding": []
   },
   "outputs": [],
   "source": [
    "#poc_AddSubtractDivMultiSqrt()"
   ]
  },
  {
   "cell_type": "code",
   "execution_count": 57,
   "metadata": {},
   "outputs": [
    {
     "data": {
      "text/plain": [
       "'https://www.electrical4u.com/2s-complement-arithmetic/'"
      ]
     },
     "execution_count": 57,
     "metadata": {},
     "output_type": "execute_result"
    }
   ],
   "source": [
    "'https://www.electrical4u.com/2s-complement-arithmetic/'"
   ]
  },
  {
   "cell_type": "code",
   "execution_count": 33,
   "metadata": {
    "code_folding": [
     0
    ]
   },
   "outputs": [],
   "source": [
    "def cholesky_decomposition_binary(A):\n",
    "    d = A.shape[0]\n",
    "    L = A.copy()\n",
    "    #L = np.zeros(A.shape)\n",
    "    #for i in range(d-1):\n",
    "    #    for j in range(i+1,d):\n",
    "    #       L[i][j] = '0'*24\n",
    "    for j in range(d):\n",
    "        for k in range(j):\n",
    "            for i in range(j,d):\n",
    "                out = Multiplication()(L[i][k], L[j][k])\n",
    "                L[i][j] = Subtract()(L[i][j], out) ## Need to bring -4 as exponent\n",
    "        L[j][j] = Sqrt()(L[j][j]) ## Need to bring -4 as exponent\n",
    "        for k in range(j+1,d):\n",
    "            L[k][j] = Division()(L[k][j],L[j][j]) ## Need to bring -4 as exponent\n",
    "    return L"
   ]
  },
  {
   "cell_type": "code",
   "execution_count": 26,
   "metadata": {
    "code_folding": [
     0
    ]
   },
   "outputs": [],
   "source": [
    "A2 = np.empty(A.shape,dtype=np.object)\n",
    "for i in range(A.shape[0]):\n",
    "    for j in range(A.shape[1]):\n",
    "        A2[i][j] = float_to_bin(A[i][j])"
   ]
  },
  {
   "cell_type": "code",
   "execution_count": 60,
   "metadata": {},
   "outputs": [],
   "source": [
    "#A2"
   ]
  },
  {
   "cell_type": "code",
   "execution_count": 61,
   "metadata": {
    "code_folding": [
     0
    ]
   },
   "outputs": [],
   "source": [
    "#A3 = np.empty(A2.shape,dtype=np.object)\n",
    "#for i in range(A2.shape[0]):\n",
    "#    for j in range(A2.shape[1]):\n",
    "#        A3[i][j] = bin_to_float(A2[i][j])"
   ]
  },
  {
   "cell_type": "code",
   "execution_count": 62,
   "metadata": {},
   "outputs": [],
   "source": [
    "#A,A3"
   ]
  },
  {
   "cell_type": "code",
   "execution_count": 6,
   "metadata": {},
   "outputs": [
    {
     "name": "stdout",
     "output_type": "stream",
     "text": [
      "CPU times: user 160 µs, sys: 34 µs, total: 194 µs\n",
      "Wall time: 205 µs\n",
      "48 96 144\n",
      "CPU times: user 603 µs, sys: 130 µs, total: 733 µs\n",
      "Wall time: 901 µs\n",
      "96 48 -48\n",
      "CPU times: user 449 µs, sys: 0 ns, total: 449 µs\n",
      "Wall time: 405 µs\n",
      "6.0 3.0 18.0\n",
      "CPU times: user 1.16 ms, sys: 26 µs, total: 1.18 ms\n",
      "Wall time: 1.26 ms\n",
      "6.0 3.0 2.0\n",
      "CPU times: user 2.6 ms, sys: 0 ns, total: 2.6 ms\n",
      "Wall time: 2.31 ms\n",
      "6.0 2.25\n",
      "CPU times: user 13.9 ms, sys: 0 ns, total: 13.9 ms\n",
      "Wall time: 13.4 ms\n",
      "115.0 10.5\n",
      "CPU times: user 1.81 ms, sys: 0 ns, total: 1.81 ms\n",
      "Wall time: 1.32 ms\n",
      "-5.0 5.0 -1.0\n",
      "CPU times: user 3.12 ms, sys: 0 ns, total: 3.12 ms\n",
      "Wall time: 2.95 ms\n",
      "25.0 5.0 5.0\n",
      "CPU times: user 982 µs, sys: 0 ns, total: 982 µs\n",
      "Wall time: 1.03 ms\n",
      "5.0 25.0 0.125\n",
      "CPU times: user 3.53 ms, sys: 0 ns, total: 3.53 ms\n",
      "Wall time: 3.43 ms\n",
      "-25.0 5.0 -5.0\n"
     ]
    }
   ],
   "source": [
    "%time ans = Add()('000000000110000011111100', '000000000011000011111100')\n",
    "print(bin_to_int('0000000000110000'),bin_to_int('0000000001100000'),bin_to_int(ans[:16]))\n",
    "\n",
    "%time ans = Subtract()(compute_twos_complement('000000000110000011111100'), compute_twos_complement('000000000011000011111100'))\n",
    "print(bin_to_int('0000000001100000'),bin_to_int('0000000000110000'),bin_to_int(ans[:16]))\n",
    "\n",
    "%time ans = Multiplication()('000000000110000011111100', '000000000011000011111100')\n",
    "print(bin_to_float('000000000110000011111100'),bin_to_float('000000000011000011111100'),bin_to_float(ans))\n",
    "\n",
    "%time ans = Division()('000000000110000011111100', '000000000011000011111100')\n",
    "print(bin_to_float('000000000110000011111100'),bin_to_float('000000000011000011111100'),bin_to_float(ans))\n",
    "\n",
    "%time ans = Sqrt()('000000000110000011111100')\n",
    "print(bin_to_float('000000000110000011111100'),bin_to_float(ans))\n",
    "\n",
    "%time ans = Sqrt()(float_to_bin(115.0))\n",
    "print(bin_to_float(float_to_bin(115.0)),bin_to_float(ans))\n",
    "\n",
    "%time ans = Division()(float_to_bin(-5.0), float_to_bin(5.0))\n",
    "print(bin_to_float(float_to_bin(-5.0)),bin_to_float(float_to_bin(5.0)),bin_to_float(ans))\n",
    "\n",
    "%time ans = Division()(float_to_bin(25.0), float_to_bin(5.0))\n",
    "print(bin_to_float(float_to_bin(25.0)),bin_to_float(float_to_bin(5.0)),bin_to_float(ans))\n",
    "\n",
    "%time ans = Division()(float_to_bin(5.0), float_to_bin(25.0))\n",
    "print(bin_to_float(float_to_bin(5.0)),bin_to_float(float_to_bin(25.0)),bin_to_float(ans))\n",
    "\n",
    "%time ans = Division()(float_to_bin(-25.0), float_to_bin(5.0))\n",
    "print(bin_to_float(float_to_bin(-25.0)),bin_to_float(float_to_bin(5.0)),bin_to_float(ans))\n"
   ]
  },
  {
   "cell_type": "code",
   "execution_count": 34,
   "metadata": {},
   "outputs": [
    {
     "name": "stdout",
     "output_type": "stream",
     "text": [
      "Wall time: 413 ms\n"
     ]
    }
   ],
   "source": [
    "%time L2 = cholesky_decomposition_binary(A2)"
   ]
  },
  {
   "cell_type": "code",
   "execution_count": 35,
   "metadata": {},
   "outputs": [],
   "source": [
    "L3 = np.empty(L2.shape,dtype=np.object)\n",
    "for i in range(L2.shape[0]):\n",
    "    for j in range(L2.shape[1]):\n",
    "        L3[i][j] = bin_to_float(L2[i][j])"
   ]
  },
  {
   "cell_type": "code",
   "execution_count": 36,
   "metadata": {},
   "outputs": [
    {
     "data": {
      "text/plain": [
       "(array([[2.25, 3.0, 4.0, 8.0],\n",
       "        [1.0, 2.0, 5.0, 1.0],\n",
       "        [1.0, 2.0, 2.0, 7.0],\n",
       "        [3.0, 1023.0, 899.0, 2.25]], dtype=object),\n",
       " array([[ 2.44948974,  0.        ,  0.        ,  0.        ],\n",
       "        [ 1.22474487,  2.12132034,  0.        ,  0.        ],\n",
       "        [ 1.63299316,  1.41421356,  2.30940108,  0.        ],\n",
       "        [ 3.26598632, -1.41421356,  1.58771324,  3.13249102]]),\n",
       " array([[ 2.4494898,  0.       ,  0.       ,  0.       ],\n",
       "        [ 1.2247448,  2.1213202,  0.       ,  0.       ],\n",
       "        [ 1.6329931,  1.4142138,  2.309401 ,  0.       ],\n",
       "        [ 3.2659862, -1.4142134,  1.5877134,  3.132491 ]], dtype=float32))"
      ]
     },
     "execution_count": 36,
     "metadata": {},
     "output_type": "execute_result"
    }
   ],
   "source": [
    "L3,cholesky(A),cholesky_decomposition(A)"
   ]
  },
  {
   "cell_type": "code",
   "execution_count": 29,
   "metadata": {},
   "outputs": [
    {
     "data": {
      "text/plain": [
       "(array([[5.0625, 2.25, 2.25, 6.75],\n",
       "        [2.25, 5.0, 5.0, 2049.0],\n",
       "        [2.25, 5.0, 9.0, 3847.0],\n",
       "        [6.75, 2049.0, 3847.0, 1854744.0625]], dtype=object),\n",
       " array([[ 6.,  3.,  4.,  8.],\n",
       "        [ 3.,  6.,  5.,  1.],\n",
       "        [ 4.,  5., 10.,  7.],\n",
       "        [ 8.,  1.,  7., 25.]], dtype=float32))"
      ]
     },
     "execution_count": 29,
     "metadata": {},
     "output_type": "execute_result"
    }
   ],
   "source": [
    "np.dot(L3,L3.T), A"
   ]
  },
  {
   "cell_type": "code",
   "execution_count": 72,
   "metadata": {
    "code_folding": [
     0
    ]
   },
   "outputs": [],
   "source": [
    "def back_substitution_lower_np(L,Y):\n",
    "    beta = np.empty(Y.shape,dtype=np.float32)\n",
    "    beta[0] = Y[0] / L[0][0]\n",
    "    for i in range(1,len(beta)):\n",
    "        s = 0.0\n",
    "        for j in range(i):\n",
    "            mul = L[i][j] * beta[j]\n",
    "            # print(i,j,L[i][j],beta[j],mul)\n",
    "            s += mul\n",
    "        #print(Y[i] / s)\n",
    "        beta[i] = Y[i] / s\n",
    "    return beta"
   ]
  },
  {
   "cell_type": "code",
   "execution_count": 73,
   "metadata": {
    "code_folding": [
     0
    ]
   },
   "outputs": [],
   "source": [
    "def back_substitution_garbled(L,Y):\n",
    "    beta = np.empty(Y.shape,dtype=np.float32)\n",
    "    beta[0] = Divide()(Y[0], L[0][0])\n",
    "    for i in range(1,len(beta)):\n",
    "        s = '0'*16 + '00000000'\n",
    "        for j in range(i):\n",
    "            mul = Multiplication()(L[i][j], beta[j])\n",
    "            s = Add()(s, mul)\n",
    "        beta[i] = Divide()(Y[i], s)\n",
    "    return beta"
   ]
  },
  {
   "cell_type": "code",
   "execution_count": 74,
   "metadata": {},
   "outputs": [
    {
     "name": "stdout",
     "output_type": "stream",
     "text": [
      "CPU times: user 464 µs, sys: 32 µs, total: 496 µs\n",
      "Wall time: 502 µs\n"
     ]
    },
    {
     "data": {
      "text/plain": [
       "array([ 0.4082483 ,  3.9999998 ,  0.47441927, -1.1203607 ], dtype=float32)"
      ]
     },
     "execution_count": 74,
     "metadata": {},
     "output_type": "execute_result"
    }
   ],
   "source": [
    "%time back_substitution_lower_np(cholesky(A),np.array([1.,2.,3.,4.]))"
   ]
  },
  {
   "cell_type": "code",
   "execution_count": 116,
   "metadata": {
    "code_folding": [
     4,
     12,
     21,
     31,
     38,
     44,
     47,
     52,
     57,
     80,
     103,
     128,
     145,
     181,
     192,
     198,
     234,
     299,
     323,
     336,
     352,
     383,
     409,
     435
    ]
   },
   "outputs": [],
   "source": [
    "class GarbledCircuit(object):\n",
    "    def __init__(self):\n",
    "        pass\n",
    "    \n",
    "    def int_to_bin(self,num):\n",
    "        twos_complement = True if num<0 else False\n",
    "        int_b = bin(int(num))[2:] if num > 0 else bin(int(num))[3:]\n",
    "        int_b = int_b.zfill(16)\n",
    "        if twos_complement:\n",
    "            int_b = compute_twos_complement(int_b)\n",
    "        return int_b\n",
    "    \n",
    "    def bin_to_int_garbled(self,binary,wire_labels):\n",
    "        wl = dict(zip(wire_labels.values(),wire_labels.keys()))\n",
    "        b2 = ''.join([wl[i].split('_')[-1] for i in binary])\n",
    "        int_part = 0\n",
    "        for i,j in enumerate(reversed(b2[1:])):\n",
    "            int_part += (int(j) * pow(2, i))\n",
    "        int_part -= int(wl[binary[0]].split('_')[-1])*pow(2,len(binary)-1)\n",
    "        return int_part\n",
    "\n",
    "    def compute_twos_complement_garbled(self,binary,wire_labels={}):\n",
    "        wl = dict(zip(wire_labels.values(),wire_labels.keys()))\n",
    "        out = []\n",
    "        for i in binary:\n",
    "            out += [wire_labels['B_1']] if '0' in wl[i] else [wire_labels['B_0']]\n",
    "        #print(out)\n",
    "        out = self.GarbledAdd(((len(binary)-1)*[wire_labels['A_0']])+[wire_labels['A_1']], out, wire_labels)\n",
    "        out = [wire_labels[wl[i].replace('C','B')] for i in out]\n",
    "        return out\n",
    "\n",
    "    def GarbledLeftShift(self,a, n, wire_labels={}, garbled_table=[]):\n",
    "        a = list(a)\n",
    "        #print(a,wire_labels)\n",
    "        wl = dict(zip(wire_labels.values(), wire_labels.keys()))\n",
    "        val =  [j for j in [wl[i] for i in list(set(a))] if '0' in j][0]\n",
    "        return a[n:] + [wire_labels[val]] * n\n",
    "\n",
    "    def GarbledRightShift(self,a, n, wire_labels={}, garbled_table=[]):\n",
    "        a = list(a)\n",
    "        wl = dict(zip(wire_labels.values(), wire_labels.keys()))\n",
    "        val =  [j for j in [wl[i] for i in list(set(a))] if '0' in j][0]\n",
    "        return [wire_labels[val]] * n + a[:-n]\n",
    "\n",
    "    def GarbledGreaterThanEqualTo(self,a, b, wire_labels):\n",
    "        return self.bin_to_int_garbled(a, wire_labels) >= self.bin_to_int_garbled(b, wire_labels)\n",
    "    \n",
    "    def GarbledPadZerosLeft(self,a, n, wire_labels={}, garbled_table=[]):\n",
    "        wl = dict(zip(wire_labels.values(), wire_labels.keys()))\n",
    "        val =  [j for j in [wl[i] for i in list(set(a))] if '0' in j][0]\n",
    "        return [wire_labels[val]] * n + a \n",
    "\n",
    "    def GarbledPadZerosRight(self,a, n, wire_labels={}, garbled_table=[]):\n",
    "        wl = dict(zip(wire_labels.values(), wire_labels.keys()))\n",
    "        val =  [j for j in [wl[i] for i in list(set(a))] if '0' in j][0]\n",
    "        return a + [wire_labels[val]] * n\n",
    "    \n",
    "    def GarbledAnd(self,a,b,wire_labels={},garbled_table=[]):\n",
    "        \n",
    "        des_b_0 = DES.new(wire_labels['B_0'], DES.MODE_ECB)\n",
    "        des_a_0 = DES.new(wire_labels['A_0'], DES.MODE_ECB)\n",
    "        des_b_1 = DES.new(wire_labels['B_1'], DES.MODE_ECB)\n",
    "        des_a_1 = DES.new(wire_labels['A_1'], DES.MODE_ECB)\n",
    "        ## 0 AND 0 = 0\n",
    "        \n",
    "        garbled_table.append(des_a_0.encrypt(des_b_0.encrypt(wire_labels['C_0'])))\n",
    "        garbled_table.append(des_a_0.encrypt(des_b_1.encrypt(wire_labels['C_0'])))\n",
    "        garbled_table.append(des_a_1.encrypt(des_b_0.encrypt(wire_labels['C_0'])))\n",
    "        garbled_table.append(des_a_1.encrypt(des_b_1.encrypt(wire_labels['C_1'])))\n",
    "        \n",
    "        des_in = DES.new(b, DES.MODE_ECB)\n",
    "        des_out = DES.new(a, DES.MODE_ECB)\n",
    "        for g in garbled_table:\n",
    "            try:\n",
    "                deciphered = des_in.decrypt(des_out.decrypt(g)).decode()\n",
    "            except UnicodeDecodeError:\n",
    "                continue\n",
    "            if deciphered in [ wire_labels['C_0'], wire_labels['C_1'] ]:\n",
    "                return g\n",
    "        \n",
    "    def GarbledOr(self,a,b,wire_labels={},garbled_table=[]):\n",
    "        \n",
    "        des_b_0 = DES.new(wire_labels['B_0'], DES.MODE_ECB)\n",
    "        des_a_0 = DES.new(wire_labels['A_0'], DES.MODE_ECB)\n",
    "        des_b_1 = DES.new(wire_labels['B_1'], DES.MODE_ECB)\n",
    "        des_a_1 = DES.new(wire_labels['A_1'], DES.MODE_ECB)\n",
    "        ## 0 AND 0 = 0\n",
    "        \n",
    "        garbled_table.append(des_a_0.encrypt(des_b_0.encrypt(wire_labels['C_0'])))\n",
    "        garbled_table.append(des_a_0.encrypt(des_b_1.encrypt(wire_labels['C_1'])))\n",
    "        garbled_table.append(des_a_1.encrypt(des_b_0.encrypt(wire_labels['C_1'])))\n",
    "        garbled_table.append(des_a_1.encrypt(des_b_1.encrypt(wire_labels['C_1'])))\n",
    "        \n",
    "        des_in = DES.new(b, DES.MODE_ECB)\n",
    "        des_out = DES.new(a, DES.MODE_ECB)\n",
    "        for g in garbled_table:\n",
    "            try:\n",
    "                deciphered = des_in.decrypt(des_out.decrypt(g)).decode()\n",
    "            except UnicodeDecodeError:\n",
    "                continue\n",
    "            if deciphered in [ wire_labels['C_0'], wire_labels['C_1'] ]:\n",
    "                return g\n",
    "\n",
    "    def GarbledXor(self,a,b,wire_labels={},garbled_table=[]):\n",
    "        \n",
    "        des_b_0 = DES.new(wire_labels['B_0'], DES.MODE_ECB)\n",
    "        des_a_0 = DES.new(wire_labels['A_0'], DES.MODE_ECB)\n",
    "        des_b_1 = DES.new(wire_labels['B_1'], DES.MODE_ECB)\n",
    "        des_a_1 = DES.new(wire_labels['A_1'], DES.MODE_ECB)\n",
    "        ## 0 AND 0 = 0\n",
    "        \n",
    "        garbled_table.append(des_a_0.encrypt(des_b_0.encrypt(wire_labels['C_0'])))\n",
    "        garbled_table.append(des_a_0.encrypt(des_b_1.encrypt(wire_labels['C_1'])))\n",
    "        garbled_table.append(des_a_1.encrypt(des_b_0.encrypt(wire_labels['C_1'])))\n",
    "        garbled_table.append(des_a_1.encrypt(des_b_1.encrypt(wire_labels['C_0'])))\n",
    "        #print(garbled_table)\n",
    "        des_1 = DES.new(a, DES.MODE_ECB)\n",
    "        des_2 = DES.new(b, DES.MODE_ECB)\n",
    "        for g in garbled_table:\n",
    "            try:\n",
    "                deciphered = des_2.decrypt(des_1.decrypt(g)).decode()\n",
    "            except UnicodeDecodeError:\n",
    "                continue\n",
    "            #print(deciphered)\n",
    "            #print([ wire_labels['C_0'], wire_labels['C_1'] ])\n",
    "            if deciphered in [ wire_labels['C_0'], wire_labels['C_1'] ]:\n",
    "                return g\n",
    "        \n",
    "    def GarbledNot(self,b,wire_labels={},garbled_table=[]):\n",
    "        \n",
    "        des_a_0 = DES.new(wire_labels['A_0'], DES.MODE_ECB)\n",
    "        des_a_1 = DES.new(wire_labels['A_1'], DES.MODE_ECB)\n",
    "        \n",
    "        garbled_table.append(des_a_0.encrypt(wire_labels['C_1']))\n",
    "        garbled_table.append(des_a_1.encrypt(wire_labels['C_0']))\n",
    "        \n",
    "        des = DES.new(b, DES.MODE_ECB)\n",
    "        for g in garbled_table:\n",
    "            try:\n",
    "                deciphered = des.decrypt(g).decode()\n",
    "            except UnicodeDecodeError:\n",
    "                continue\n",
    "            if deciphered in [ wire_labels['C_0'], wire_labels['C_1'] ]:\n",
    "                return g\n",
    "            \n",
    "    def add(self,a,b,carry,wire_labels):\n",
    "        wl = dict(zip(wire_labels.values(), wire_labels.keys()))\n",
    "        \n",
    "        des_in = DES.new(b, DES.MODE_ECB)\n",
    "        des_out = DES.new(a, DES.MODE_ECB)\n",
    "        \n",
    "        o1 = self.GarbledXor(a,b,wire_labels)\n",
    "        #print(a,b,o1)\n",
    "        o1 = des_in.decrypt(des_out.decrypt(o1)).decode()\n",
    "        \n",
    "        o2 = self.GarbledAnd(a,b,wire_labels)\n",
    "        o2 = des_in.decrypt(des_out.decrypt(o2)).decode()\n",
    "        \n",
    "        o1 = wire_labels[wl[o1].replace('C','B')]\n",
    "        \n",
    "        des_in = DES.new(o1, DES.MODE_ECB)\n",
    "        des_out = DES.new(carry, DES.MODE_ECB)\n",
    "        \n",
    "        add = self.GarbledXor(carry,o1,wire_labels)\n",
    "        add = des_in.decrypt(des_out.decrypt(add)).decode()\n",
    "        \n",
    "        o4 = self.GarbledAnd(carry,o1,wire_labels)\n",
    "        o4 = des_in.decrypt(des_out.decrypt(o4)).decode()\n",
    "        \n",
    "        o4 = wire_labels[wl[o4].replace('C', 'A')]\n",
    "        o2 = wire_labels[wl[o2].replace('C', 'B')]\n",
    "        \n",
    "        des_in = DES.new(o2, DES.MODE_ECB)\n",
    "        des_out = DES.new(o4, DES.MODE_ECB)\n",
    "        \n",
    "        cary = self.GarbledOr(o4, o2, wire_labels)\n",
    "        cary = des_in.decrypt(des_out.decrypt(cary)).decode()\n",
    "        \n",
    "        cary = wire_labels[wl[cary].replace('C', 'A')]\n",
    "        return str(add), cary\n",
    "    \n",
    "    def GarbledAdd(self,a, b, wire_labels={}):\n",
    "        wl = dict(zip(wire_labels.values(),wire_labels.keys()))\n",
    "        carry = wire_labels['A_0']\n",
    "        out = []\n",
    "        for idx,i in reversed(list(enumerate(zip(a[:16],b[:16])))):\n",
    "            o,carry = self.add(i[0], i[1], carry, wire_labels)\n",
    "            out.append(o)\n",
    "        #print(out)\n",
    "        out = list(reversed(out))\n",
    "        return out + [ wire_labels[wl[i].replace('A','C')] for i in a[16:]]\n",
    "\n",
    "    def GarbledSubtract(self,a,b, wire_labels={}):\n",
    "        b2 = self.compute_twos_complement_garbled(b[:16],wire_labels)\n",
    "        #print(b2,b[16:])\n",
    "        b2 = list(b2) + list(b[16:])\n",
    "        return self.GarbledAdd(a,b2,wire_labels)\n",
    "\n",
    "    def GarbledMultiplication(self,a,b, wire_labels={}):\n",
    "        a,b =list(a),list(b)\n",
    "        wl = dict(zip(wire_labels.values(),wire_labels.keys()))\n",
    "        negative_result = False\n",
    "        if self.bin_to_int_garbled(a[:16],wire_labels) < 0 and self.bin_to_int_garbled(b[:16],wire_labels) < 0:\n",
    "            temp = self.compute_twos_complement_garbled(a[:16],wire_labels)\n",
    "            temp = [ wire_labels[wl[i].replace('B','A')] for i in temp]\n",
    "            a = temp + a[16:]\n",
    "            b = self.compute_twos_complement_garbled(b[:16], wire_labels) + b[16:]\n",
    "        elif self.bin_to_int_garbled(a[:16], wire_labels) < 0:\n",
    "            temp = self.compute_twos_complement_garbled(a[:16], wire_labels)\n",
    "            temp = [ wire_labels[wl[i].replace('B','A')] for i in temp]\n",
    "            a = temp + a[16:]\n",
    "            negative_result = True\n",
    "        elif self.bin_to_int_garbled(b[:16],wire_labels) < 0:\n",
    "            b = self.compute_twos_complement_garbled(b[:16],wire_labels) + b[16:]\n",
    "            negative_result = True\n",
    "\n",
    "        s = [wire_labels['B_0']]*16\n",
    "        m = copy.copy(a[:16])\n",
    "        for i in reversed(b[:16]):\n",
    "            #print(m,s)\n",
    "            if '1' in wl[i]:     # when digit is one, add the intermediary product\n",
    "                s = self.GarbledAdd(m, s, wire_labels)\n",
    "                s = [ wire_labels[wl[i].replace('C','B')] for i in s]\n",
    "            m = self.GarbledLeftShift(m, 1, wire_labels)  # shift one per digit in b\n",
    "        s = [ wire_labels[wl[i].replace('B','C')] for i in s]\n",
    "        s = self.GarbledRightShift(s,4,wire_labels) ## Shifting left by 4 places to get exponent back to 2^-4\n",
    "        \n",
    "        if negative_result:\n",
    "            s = [wire_labels[wl[i].replace('C','B')] for i in s]\n",
    "            s = self.compute_twos_complement_garbled(s, wire_labels)\n",
    "            s = [wire_labels[wl[i].replace('B','C')] for i in s]\n",
    "            \n",
    "        return s+[ wire_labels[wl[val].replace('B', 'C')] for val in b[16:]]\n",
    "        \n",
    "    def GarbledDivision(self,a, b,wire_labels={}):\n",
    "        a,b = list(a),list(b)\n",
    "        wl = dict(zip(wire_labels.values(),wire_labels.keys()))\n",
    "        negative_result = False\n",
    "        if self.bin_to_int_garbled(a[:16],wire_labels) < 0 and self.bin_to_int_garbled(b[:16],wire_labels) < 0:\n",
    "            temp = self.compute_twos_complement_garbled(a[:16],wire_labels)\n",
    "            temp = [ wire_labels[wl[i].replace('B','A')] for i in temp]\n",
    "            a = temp + a[16:]\n",
    "            b = self.compute_twos_complement_garbled(b[:16], wire_labels) + b[16:]\n",
    "        elif self.bin_to_int_garbled(a[:16], wire_labels) < 0:\n",
    "            temp = self.compute_twos_complement_garbled(a[:16], wire_labels)\n",
    "            temp = [ wire_labels[wl[i].replace('B','A')] for i in temp]\n",
    "            a = temp + a[16:]\n",
    "            negative_result = True\n",
    "        elif self.bin_to_int_garbled(b[:16],wire_labels) < 0:\n",
    "            b = self.compute_twos_complement_garbled(b[:16],wire_labels) + b[16:]\n",
    "            negative_result = True\n",
    "        exp = 0\n",
    "        if self.bin_to_int_garbled(a[:16],wire_labels) >= self.bin_to_int_garbled(b[:16],wire_labels):\n",
    "            reminder = self.GarbledSubtract(a[:16], b[:16],wire_labels)\n",
    "            reminder = [wire_labels[wl[i].replace('C','A')] for i in reminder]\n",
    "            quotient = self.GarbledAdd([ wire_labels['A_0'] ]*16, (15*[ wire_labels['B_0'] ])+ [ wire_labels['B_1'] ],wire_labels)\n",
    "            quotient = [wire_labels[wl[i].replace('C','A')] for i in quotient]\n",
    "            while self.bin_to_int_garbled(reminder, wire_labels) > self.bin_to_int_garbled(b[:16], wire_labels):\n",
    "                reminder = self.GarbledSubtract(reminder, b[:16], wire_labels)\n",
    "                reminder = np.array([wire_labels[wl[i].replace('C','A')] for i in reminder])\n",
    "                quotient = self.GarbledAdd(quotient, (15*[ wire_labels['B_0'] ])+ [ wire_labels['B_1'] ], wire_labels)\n",
    "                quotient = [wire_labels[wl[i].replace('C','A')] for i in quotient]\n",
    "            for i in range(2):\n",
    "                if self.bin_to_int_garbled(reminder, wire_labels) == 0:\n",
    "                    break\n",
    "                while self.bin_to_int_garbled(reminder, wire_labels) < self.bin_to_int_garbled(b[:16], wire_labels) and \\\n",
    "                    self.bin_to_int_garbled(reminder,wire_labels) != 0:\n",
    "                    reminder = self.GarbledLeftShift(reminder,1, wire_labels)\n",
    "                    quotient = self.GarbledLeftShift(quotient, 1, wire_labels)\n",
    "                    exp -= 1\n",
    "                reminder = self.GarbledSubtract(reminder, b[:16], wire_labels)\n",
    "                reminder = [wire_labels[wl[i].replace('C','A')] for i in reminder]\n",
    "                quotient = self.GarbledAdd(quotient, (15*[ wire_labels['B_0'] ])+ [ wire_labels['B_1'] ], wire_labels)\n",
    "                quotient = [wire_labels[wl[i].replace('C','A')] for i in quotient]\n",
    "            quotient = [wire_labels[wl[i].replace('A','C')] for i in quotient]\n",
    "        else:\n",
    "            reminder = list(copy.copy(a[:16]))\n",
    "            exp = -1\n",
    "            reminder = self.GarbledLeftShift(reminder,1, wire_labels)\n",
    "            quotient = [ wire_labels['A_0'] ]*16\n",
    "            for i in range(2):\n",
    "                if self.bin_to_int_garbled(reminder, wire_labels) == 0:\n",
    "                    break\n",
    "                while self.bin_to_int_garbled(reminder,wire_labels) < self.bin_to_int_garbled(b[:16], wire_labels) and \\\n",
    "                    self.bin_to_int_garbled(reminder,wire_labels) !=0:\n",
    "                    reminder = self.GarbledLeftShift(reminder,1, wire_labels)\n",
    "                    quotient = self.GarbledLeftShift(quotient,1, wire_labels)\n",
    "                    exp -= 1\n",
    "            #print(reminder, b[:16],wire_labels)\n",
    "            reminder = self.GarbledSubtract(reminder, b[:16],wire_labels)\n",
    "            quotient = self.GarbledAdd(quotient, (15*[ wire_labels['B_0'] ])+ [ wire_labels['B_1'] ], wire_labels)\n",
    "        #print(exp,quotient)\n",
    "        quotient = self.GarbledRightShift(quotient, abs(exp) - 4, wire_labels) if exp < -4 else self.GarbledLeftShift(quotient,4 - abs(exp), wire_labels)\n",
    "        if negative_result:\n",
    "            quotient = [wire_labels[wl[i].replace('C','B')] for i in quotient]\n",
    "            quotient = self.compute_twos_complement_garbled(quotient, wire_labels)\n",
    "            quotient = [wire_labels[wl[i].replace('B','C')] for i in quotient]\n",
    "        return quotient+[ wire_labels[wl[val].replace('A', 'C')] for val in a[16:]]\n",
    "    \n",
    "    def GarbledSqrt(self,x,wire_labels={}):\n",
    "        wl = dict(zip(wire_labels.values(), wire_labels.keys()))\n",
    "        num = copy.copy(x[:16])\n",
    "        xx = self.bin_to_int_garbled(x[:16],wire_labels)\n",
    "        e = [i for i in range(int(xx)) if pow(4,i)<=xx]\n",
    "        e = self.int_to_bin(pow(4,e[-1])) if e else '0'*len(num)\n",
    "        e = [wire_labels['B_'+str(i)] for i in e]\n",
    "        if len(e) < len(num):\n",
    "            e = self.GarbledPadZerosLeft(e,len(num) - len(e),wire_labels)\n",
    "        r = [ wire_labels['A_0'] ]*len(e)\n",
    "        while wire_labels['B_1'] in e:\n",
    "            if self.GarbledGreaterThanEqualTo(num, self.GarbledAdd(r, e, wire_labels), wire_labels):\n",
    "                out = self.GarbledAdd(r, e, wire_labels)\n",
    "                out = [ wire_labels[wl[i].replace('C','B')] for i in out]\n",
    "                num = self.GarbledSubtract(num, out,wire_labels)\n",
    "                num = [ wire_labels[wl[i].replace('C','A')] for i in num]\n",
    "                r = self.GarbledAdd(self.GarbledRightShift(r, 1, wire_labels), e, wire_labels)\n",
    "                r = [ wire_labels[wl[i].replace('C','A')] for i in r]\n",
    "            else:\n",
    "                r = self.GarbledRightShift(r, 1, wire_labels)\n",
    "            e = self.GarbledRightShift(e, 2, wire_labels)\n",
    "        r = self.GarbledLeftShift(r,2, wire_labels)\n",
    "        return r + [ wire_labels[wl[i].replace('A','C')] for i in x[16:] ]\n",
    "\n",
    "    def convert_to_float(self,a,two_dimension=True):\n",
    "        out = np.empty(a.shape[:-1],dtype=np.float)\n",
    "        wl = dict(zip(self.wire_labels.values(),self.wire_labels.keys()))\n",
    "        if two_dimension:\n",
    "            for i in range(a.shape[0]):\n",
    "                for j in range(a.shape[1]):\n",
    "                    out[i][j] = bin_to_float(''.join([ wl[k].split('_')[-1] for k in a[i][j] ]))\n",
    "        else:\n",
    "            for i in range(a.shape[0]):\n",
    "                out[i] = bin_to_float(''.join([ wl[k].split('_')[-1] for k in a[i] ]))\n",
    "                \n",
    "        return out\n",
    "    \n",
    "    def calculate_A_b(self):\n",
    "        ## Subtract mu_A and mu_B from A_hat and b_hat\n",
    "        self.A_garbled = np.empty(self.A_hat_garbled.shape,dtype=np.object)\n",
    "        self.b_garbled = np.empty(self.b_hat_garbled.shape,dtype=np.object)\n",
    "        for i in range(self.A_hat_garbled.shape[0]):\n",
    "            for j in range(self.A_hat_garbled.shape[1]):\n",
    "                self.A_garbled[i][j] = np.array(self.GarbledSubtract(self.A_hat_garbled[i][j],self.mu_A_garbled[i][j],self.wire_labels))\n",
    "        \n",
    "        for i in range(self.b_hat_garbled.shape[0]):\n",
    "            self.b_garbled[i] = np.array(self.GarbledSubtract(self.b_hat_garbled[i],self.mu_b_garbled[i], self.wire_labels))\n",
    "        \n",
    "        A = self.convert_to_float(self.A_garbled)\n",
    "        b = self.convert_to_float(self.b_garbled,False)\n",
    "        print('A',A.shape,A)\n",
    "        print('B',b.shape,b)\n",
    "        \n",
    "    def calculate_L(self):\n",
    "        ## Get L using A with algo cholesky\n",
    "        wl = dict(zip(self.wire_labels.values(), self.wire_labels.keys()))\n",
    "        self.d = self.A_garbled.shape[0]\n",
    "        self.L = self.A_garbled.copy()\n",
    "        for i in range(self.d):\n",
    "            for j in range(self.d):\n",
    "                self.L[i][j] = np.array([self.wire_labels[wl[i].replace('C','A')] for i in self.L[i][j]])\n",
    "        for i in range(self.d-1):\n",
    "            for j in range(i+1,self.d):\n",
    "                self.L[i][j] = np.array([ self.wire_labels['A_0'] ]*24)\n",
    "        for j in range(self.d):\n",
    "            for k in range(j):\n",
    "                for i in range(j,self.d):\n",
    "                    ljk = np.array([self.wire_labels[wl[i].replace('A','B')] for i in self.L[j][k]])\n",
    "                    mul = self.GarbledMultiplication(self.L[i][k], ljk, self.wire_labels)\n",
    "                    mul = np.array([self.wire_labels[wl[i].replace('C','B')] for i in mul])\n",
    "                    self.L[i][j] = self.GarbledSubtract(self.L[i][j], mul, self.wire_labels) ## Need to bring -4 as exponent\n",
    "                    self.L[i][j] = np.array([self.wire_labels[wl[i].replace('C','A')] for i in self.L[i][j]])\n",
    "            \n",
    "            self.L[j][j] = self.GarbledSqrt(self.L[j][j],self.wire_labels) ## Need to bring -4 as exponent\n",
    "            self.L[j][j] = np.array([self.wire_labels[wl[i].replace('C','A')] for i in self.L[j][j]])\n",
    "            \n",
    "            for k in range(j+1,self.d):\n",
    "                ljj = np.array([self.wire_labels[wl[i].replace('A','B')] for i in self.L[j][j]])\n",
    "                self.L[k][j] = self.GarbledDivision(self.L[k][j], ljj, self.wire_labels) ## Need to bring -4 as exponent\n",
    "                self.L[k][j] = np.array([self.wire_labels[wl[i].replace('C','A')] for i in self.L[k][j]])\n",
    "        \n",
    "        LF = self.convert_to_float(self.L)\n",
    "        print(LF.shape,LF)\n",
    "        \n",
    "    def calculate_Y(self):\n",
    "        ## Use back substitution algo to get individual values of Y    : L.T * Y = b\n",
    "        wl = dict(zip(self.wire_labels.values(), self.wire_labels.keys()))\n",
    "        LT = self.L.transpose(1,0,2)\n",
    "        self.Y  = np.empty(self.b_garbled.shape,dtype=np.object)\n",
    "        b_d_1 = [self.wire_labels[wl[i].replace('C','A')] for i in self.b_garbled[self.d-1]]\n",
    "        lt_d_1 = [self.wire_labels[wl[i].replace('A','B')] for i in LT[self.d-1][self.d-1]]\n",
    "        self.Y[self.d-1] = self.GarbledDivision(b_d_1, lt_d_1, self.wire_labels)\n",
    "        self.Y[self.d-1] = np.array([self.wire_labels[wl[i].replace('C','B')] for i in self.Y[self.d-1]])\n",
    "        for i in reversed(range(self.d-1)):\n",
    "            s = [ self.wire_labels['A_0'] ] * 24\n",
    "            for j in range(i+1,self.d):\n",
    "                mul = self.GarbledMultiplication(LT[i][j], self.Y[j], self.wire_labels)\n",
    "                mul = np.array([self.wire_labels[wl[i].replace('C','B')] for i in mul])\n",
    "                \n",
    "                s = self.GarbledAdd(s, mul, self.wire_labels)\n",
    "                s = np.array([self.wire_labels[wl[i].replace('C','A')] for i in s])\n",
    "                \n",
    "            s = np.array([self.wire_labels[wl[i].replace('A','B')] for i in s])\n",
    "            bi = np.array([self.wire_labels[wl[i].replace('C','A')] for i in self.b_garbled[i]])\n",
    "            self.Y[i] = self.GarbledDivision(bi, s, self.wire_labels)\n",
    "            self.Y[i] = np.array([self.wire_labels[wl[i].replace('C','B')] for i in self.Y[i]])\n",
    "        \n",
    "        YF = self.convert_to_float(self.Y,False)\n",
    "        print(YF.shape,YF)\n",
    "        \n",
    "    def calculate_beta(self):\n",
    "        ## Use back substitution algo to get individual values of beta : L*beta = Y\n",
    "        wl = dict(zip(self.wire_labels.values(), self.wire_labels.keys()))\n",
    "        beta = np.empty(self.Y.shape,dtype=np.object)\n",
    "        y0 = np.array([self.wire_labels[wl[i].replace('B','A')] for i in self.Y[0]])\n",
    "        l00 = np.array([self.wire_labels[wl[i].replace('A','B')] for i in self.L[0][0]])\n",
    "        beta[0] = self.GarbledDivision(y0, l00, self.wire_labels)\n",
    "        beta[0] = np.array([self.wire_labels[wl[i].replace('C','B')] for i in beta[0]])\n",
    "        for i in range(1,len(beta)):\n",
    "            s = [ self.wire_labels['A_0'] ] * 24\n",
    "            for j in range(i):\n",
    "                mul = self.GarbledMultiplication(self.L[i][j], beta[j], self.wire_labels)\n",
    "                mul = np.array([self.wire_labels[wl[i].replace('C','B')] for i in mul])\n",
    "                \n",
    "                s = self.GarbledAdd(s, mul, self.wire_labels)\n",
    "                s = np.array([self.wire_labels[wl[i].replace('C','A')] for i in s])\n",
    "                \n",
    "            s = np.array([self.wire_labels[wl[i].replace('A','B')] for i in s])\n",
    "            yi = np.array([self.wire_labels[wl[i].replace('B','A')] for i in self.Y[i]])\n",
    "            beta[i] = self.GarbledDivision(yi, s, self.wire_labels)\n",
    "            beta[i] = np.array([self.wire_labels[wl[i].replace('C','B')] for i in beta[i]])\n",
    "        \n",
    "        B = self.convert_to_float(beta,False)\n",
    "        print(B.shape,B)\n",
    "        #return beta, self.wire_labels\n",
    "    \n",
    "    def execute(self):\n",
    "        self.calculate_A_b()\n",
    "        self.calculate_L()\n",
    "        self.calculate_Y()\n",
    "        self.calculate_beta()\n",
    "        #return B, beta,wire_labels"
   ]
  },
  {
   "cell_type": "code",
   "execution_count": 117,
   "metadata": {
    "code_folding": []
   },
   "outputs": [],
   "source": [
    "class User(object):\n",
    "    def __init__(self):\n",
    "        df = pd.read_csv('auto-mpg.csv')\n",
    "        df = df[df['horsepower'] != '?']\n",
    "        cols = df.columns.tolist()\n",
    "        cols.remove('mpg')\n",
    "        cols.remove('car name')\n",
    "        self.X = df[cols].values.astype(np.float32)\n",
    "        self.y = df['mpg'].values.astype(np.float32)\n",
    "        self.X_train,self.X_test,self.y_train,self.y_test = train_test_split(self.X,self.y,train_size=.8,test_size=.2)\n",
    "        sc = StandardScaler()\n",
    "        self.X_train = sc.fit_transform(self.X_train)\n",
    "        self.X_test = sc.transform(self.X_test)\n",
    "        self.X_train = np.around(self.X_train,2)\n",
    "        self.X_test = np.around(self.X_test,2)\n",
    "        #self.temp = np.around(np.dot(self.X_train.T,self.X_train),2)\n",
    "        #print(np.around(np.dot(self.X_train.T,self.X_train),2))\n",
    "    \n",
    "    def paillier_encrypt(self, A_i, b_i, precision=2):\n",
    "        A_i_enc = np.zeros(A_i.shape,dtype=np.object)\n",
    "        for i in range(A_i.shape[0]):\n",
    "            for j in range(A_i.shape[1]):\n",
    "                #print(A_i[i][j])\n",
    "                A_i_enc[i][j] = self.public_key.encrypt(A_i[i][j],precision=precision)\n",
    "                \n",
    "        b_i_enc = np.zeros(b_i.shape,dtype=np.object)\n",
    "        for i in range(b_i.shape[0]):\n",
    "            b_i_enc[i] = self.public_key.encrypt(b_i[i],precision=precision)\n",
    "        \n",
    "        return A_i_enc, b_i_enc\n",
    "    \n",
    "    def calculate(self):\n",
    "        self.c = []\n",
    "        #print(self.X_train.shape,self.y_train.shape)\n",
    "        i = 1\n",
    "        c_i = [ np.zeros((self.X_train.shape[1],self.X_train.shape[1])), np.zeros(self.X_train.shape[1])]\n",
    "        for x_i,y_i in zip(self.X_train,self.y_train):\n",
    "            #print(x_i.shape, y_i.shape,c_i[0].shape,c_i[1].shape)\n",
    "            A_i = np.dot(x_i.reshape(len(x_i), 1), x_i.reshape(len(x_i), 1).T)\n",
    "            b_i = x_i * y_i\n",
    "            #print(A_i.shape, b_i.shape)\n",
    "            if i%200 == 0:\n",
    "                c_i_enc = self.paillier_encrypt(c_i[0], c_i[1], precision=2)\n",
    "                self.c.append(c_i_enc)\n",
    "                c_i = [ np.zeros((self.X_train.shape[1],self.X_train.shape[1])), np.zeros(self.X_train.shape[1])]\n",
    "                print('Number of Records Encrypted %s. Currently Pending : %s'%(i, self.X_train.shape[0]-i))\n",
    "            else:\n",
    "                c_i[0] += A_i\n",
    "                c_i[1] += b_i\n",
    "            i += 1\n",
    "        c_i_enc = self.paillier_encrypt(c_i[0], c_i[1], precision=2)\n",
    "        self.c.append(c_i_enc)\n",
    "        #c_mu = self.paillier_encrypt(self.mu_A, self.mu_b, precision=2)\n",
    "        #self.c.append(c_mu)\n",
    "        return self.c"
   ]
  },
  {
   "cell_type": "code",
   "execution_count": 118,
   "metadata": {
    "code_folding": [
     0
    ]
   },
   "outputs": [],
   "source": [
    "class CSP(object):\n",
    "    def __init__(self):\n",
    "        self.public_key, self.private_key = paillier.generate_paillier_keypair()\n",
    "        self.mu_Af, self.mu_bf = np.random.randn(7,7), np.random.randn(7)\n",
    "    \n",
    "    def paillier_decrypt(self,c_i,precision=2):\n",
    "        #c = user.calculate_and_send_to_evaluater()\n",
    "        A_hat, b_hat = np.empty(c_i[0].shape, dtype=np.object), np.empty(c_i[1].shape, dtype=np.object)\n",
    "        for i in range(c_i[0].shape[0]):\n",
    "            for j in range(c_i[0].shape[0]):\n",
    "                A_hat[i][j] = self.private_key.decrypt(c_i[0][i][j])\n",
    "\n",
    "        for j in range(c_i[1].shape[0]):\n",
    "                b_hat[j] = self.private_key.decrypt(c_i[1][j])\n",
    "        \n",
    "        return A_hat, b_hat\n",
    "    \n",
    "    def garble_input(self):\n",
    "        wire_labels = {}\n",
    "        wire_labels['A_0'] = token_hex(4)\n",
    "        wire_labels['A_1'] = token_hex(4)\n",
    "        wire_labels['B_0'] = token_hex(4)\n",
    "        wire_labels['B_1'] = token_hex(4)\n",
    "        wire_labels['C_0'] = token_hex(4)\n",
    "        wire_labels['C_1'] = token_hex(4)\n",
    "        \n",
    "        #self.c_i = self.sock.receive()\n",
    "        \n",
    "        #self.A_hat_f, self.b_hat_f = self.paillier_decrypt(self.c_i)\n",
    "        \n",
    "        self.A_hat_b = np.empty(self.A_hat_f.shape, dtype = np.object)\n",
    "        self.b_hat_b = np.empty(self.b_hat_f.shape, dtype = np.object)\n",
    "        self.mu_A_b = np.empty(self.A_hat_f.shape, dtype = np.object)\n",
    "        self.mu_b_b = np.empty(self.b_hat_f.shape, dtype = np.object)\n",
    "        #self.mu_A, self.mu_b = np.empty(self.mu_Af.shape,dtype=np.object), np.empty(self.mu_bf.shape,dtype=np.object)\n",
    "        for i in range(self.A_hat_f.shape[0]):\n",
    "            for j in range(self.A_hat_f.shape[1]):\n",
    "                self.A_hat_b[i][j] = float_to_bin(self.A_hat_f[i][j])\n",
    "        \n",
    "        for i in range(self.b_hat_f.shape[0]):\n",
    "            self.b_hat_b[i] = float_to_bin(self.b_hat_f[i])\n",
    "        \n",
    "        for i in range(self.mu_Af.shape[0]):\n",
    "            for j in range(self.mu_Af.shape[1]):\n",
    "                self.mu_A_b[i][j] = float_to_bin(self.mu_Af[i][j])\n",
    "        \n",
    "        for i in range(self.mu_bf.shape[0]):\n",
    "            self.mu_b_b[i] = float_to_bin(self.mu_bf[i])\n",
    "        \n",
    "        A_hat_garbled = np.empty(self.A_hat_b.shape + (24,),dtype = np.object)\n",
    "        b_hat_garbled = np.empty(self.b_hat_b.shape + (24,),dtype = np.object)\n",
    "        mu_A_garbled = np.empty(self.A_hat_b.shape + (24,),dtype = np.object)\n",
    "        mu_b_garbled = np.empty(self.b_hat_b.shape + (24,),dtype = np.object)\n",
    "        \n",
    "        for i in range(self.A_hat_b.shape[0]):\n",
    "            for j in range(self.A_hat_b.shape[1]):\n",
    "                A_hat_garbled[i][j] = np.array([(wire_labels['A_0'] if k=='0' else wire_labels['A_1']) for k in self.A_hat_b[i][j]])\n",
    "        \n",
    "        for i in range(self.b_hat_b.shape[0]):\n",
    "            b_hat_garbled[i] = np.array([(wire_labels['A_0'] if k=='0' else wire_labels['A_1']) for k in self.b_hat_b[i]])\n",
    "            \n",
    "        for i in range(self.A_hat_b.shape[0]):\n",
    "            for j in range(self.A_hat_b.shape[1]):\n",
    "                mu_A_garbled[i][j] = np.array([(wire_labels['B_0'] if k=='0' else wire_labels['B_1']) for k in self.mu_A_b[i][j]])\n",
    "        \n",
    "        for i in range(self.b_hat_b.shape[0]):\n",
    "            mu_b_garbled[i] = np.array([(wire_labels['B_0'] if k=='0' else wire_labels['B_1']) for k in self.mu_b_b[i]])\n",
    "        \n",
    "        \n",
    "        #return self.send_to_evaluator(A_hat_garbled,b_hat_garbled,mu_A_garbled,mu_b_garbled,wire_labels,mu_Af,mu_bf)\n",
    "        return {\n",
    "            'A_HAT_GARBLED':A_hat_garbled,\n",
    "            'B_HAT_GARBLED': b_hat_garbled,\n",
    "            'MU_A_GARBLED' : mu_A_garbled,\n",
    "            'MU_B_GARBLED' : mu_b_garbled,\n",
    "            'WIRE_LABELS'  : wire_labels,\n",
    "            'PUBLIC KEY'   : self.public_key,\n",
    "            'MU_AF'        : self.mu_Af,\n",
    "            'MU_BF'        : self.mu_bf\n",
    "         }\n",
    "        \n",
    "    def send_to_evaluator(self,A_hat_garbled,b_hat_garbled,mu_A_garbled,mu_b_garbled,wire_labels,mu_Af,mu_bf):\n",
    "        return {\n",
    "            'A_HAT_GARBLED':A_hat_garbled,\n",
    "            'B_HAT_GARBLED': b_hat_garbled,\n",
    "            'MU_A_GARBLED' : mu_A_garbled,\n",
    "            'MU_B_GARBLED' : mu_b_garbled,\n",
    "            'WIRE_LABELS'  : wire_labels,\n",
    "            'PUBLIC KEY'   : self.public_key,\n",
    "            'MU_AF'        : mu_Af,\n",
    "            'MU_BF'        : mu_bf\n",
    "        }"
   ]
  },
  {
   "cell_type": "code",
   "execution_count": 119,
   "metadata": {
    "code_folding": [
     0,
     4
    ]
   },
   "outputs": [],
   "source": [
    "class Evaluator(object):\n",
    "    def __init__(self):\n",
    "        pass\n",
    "    \n",
    "    def calculate_c_hat(self):\n",
    "        As,bs = zip(*self.c)\n",
    "        c_final = sum(As),sum(bs)\n",
    "        c_final = c_final[0]+self.mu_Af,c_final[1]+self.mu_bf\n",
    "        return c_final"
   ]
  },
  {
   "cell_type": "code",
   "execution_count": 120,
   "metadata": {},
   "outputs": [],
   "source": [
    "user = User()"
   ]
  },
  {
   "cell_type": "code",
   "execution_count": 121,
   "metadata": {},
   "outputs": [],
   "source": [
    "csp = CSP()"
   ]
  },
  {
   "cell_type": "code",
   "execution_count": 122,
   "metadata": {},
   "outputs": [],
   "source": [
    "evaluator = Evaluator()"
   ]
  },
  {
   "cell_type": "code",
   "execution_count": 123,
   "metadata": {},
   "outputs": [
    {
     "name": "stdout",
     "output_type": "stream",
     "text": [
      "Number of Records Encrypted 200. Currently Pending : 113\n",
      "Wall time: 13.8 s\n"
     ]
    }
   ],
   "source": [
    "user.public_key = csp.public_key\n",
    "%time c = user.calculate()"
   ]
  },
  {
   "cell_type": "code",
   "execution_count": 124,
   "metadata": {},
   "outputs": [
    {
     "name": "stdout",
     "output_type": "stream",
     "text": [
      "Wall time: 227 ms\n"
     ]
    }
   ],
   "source": [
    "evaluator.c = c\n",
    "\n",
    "evaluator.mu_Af = csp.mu_Af\n",
    "evaluator.mu_bf = csp.mu_bf\n",
    "%time c_final = evaluator.calculate_c_hat()"
   ]
  },
  {
   "cell_type": "code",
   "execution_count": 125,
   "metadata": {},
   "outputs": [
    {
     "name": "stdout",
     "output_type": "stream",
     "text": [
      "Wall time: 0 ns\n"
     ]
    }
   ],
   "source": [
    "csp.c_i = c_final\n",
    "csp.A_hat_f, csp.b_hat_f = csp.paillier_decrypt(c_final)\n",
    "%time d = csp.garble_input()\n",
    "#len('111111111110100011111100')"
   ]
  },
  {
   "cell_type": "code",
   "execution_count": 126,
   "metadata": {},
   "outputs": [
    {
     "name": "stdout",
     "output_type": "stream",
     "text": [
      "(7, 7, 24) (7, 24) (7, 7, 24) (7, 24) {'A_0': 'f59a9332', 'A_1': 'afbf5535', 'B_0': '223190e6', 'B_1': '4280d30f', 'C_0': '5aa110b2', 'C_1': 'bfa841a3'}\n"
     ]
    }
   ],
   "source": [
    "gc = GarbledCircuit()\n",
    "gc.A_hat_garbled = d['A_HAT_GARBLED']\n",
    "gc.b_hat_garbled = d['B_HAT_GARBLED']\n",
    "gc.mu_A_garbled = d['MU_A_GARBLED']\n",
    "gc.mu_b_garbled = d['MU_B_GARBLED']\n",
    "gc.wire_labels = d['WIRE_LABELS']\n",
    "\n",
    "print(gc.A_hat_garbled.shape,gc.b_hat_garbled.shape,gc.mu_A_garbled.shape, gc.mu_b_garbled.shape,gc.wire_labels)"
   ]
  },
  {
   "cell_type": "code",
   "execution_count": null,
   "metadata": {},
   "outputs": [],
   "source": [
    "%time gc.execute()"
   ]
  },
  {
   "cell_type": "code",
   "execution_count": 127,
   "metadata": {},
   "outputs": [
    {
     "name": "stdout",
     "output_type": "stream",
     "text": [
      "A (7, 7) [[ 311.9375  297.      260.9375  280.9375 -148.     -119.     -179.    ]\n",
      " [ 297.      313.      278.9375  289.9375 -162.     -122.9375 -191.9375]\n",
      " [ 261.      279.      312.      267.9375 -206.9375 -135.     -142.    ]\n",
      " [ 281.      290.      267.9375  313.     -118.9375 -101.     -184.9375]\n",
      " [-147.9375 -162.     -207.     -118.9375  312.9375   94.9375   60.    ]\n",
      " [-118.9375 -122.9375 -135.     -100.9375   94.9375  312.9375   54.9375]\n",
      " [-178.9375 -191.9375 -141.9375 -184.9375   60.       54.9375  312.9375]]\n",
      "B (7,) [-1884.     -1933.     -1860.9375 -2024.       965.9375  1385.\n",
      "  1374.9375]\n",
      "(7, 7) [[ 17.5      0.       0.       0.       0.       0.       0.    ]\n",
      " [ 16.75    16.75     0.       0.       0.       0.       0.    ]\n",
      " [ 14.75     1.75     9.5      0.       0.       0.       0.    ]\n",
      " [ 16.      16.5625   0.25    17.       0.       0.       0.    ]\n",
      " [ -8.375   -1.25    -8.5      2.1875  12.75     0.       0.    ]\n",
      " [ -6.75    -0.5     -3.625    0.5      0.25    15.75     0.    ]\n",
      " [-10.1875  -1.25     1.0625  -0.0625  -1.375   -0.5     14.25  ]]\n",
      "(7,) [ 26.3125 -25.0625  -6.625   57.625   -6.75   -28.625   96.375 ]\n",
      "(7,) [ 1.5   -0.5   -0.25   3.625  3.375  4.375 -4.375]\n",
      "Wall time: 14.4 s\n"
     ]
    }
   ],
   "source": [
    "%time gc.execute()"
   ]
  },
  {
   "cell_type": "code",
   "execution_count": 17,
   "metadata": {},
   "outputs": [
    {
     "data": {
      "text/plain": [
       "array([[ 17.661753  ,   0.        ,   0.        ,   0.        ,\n",
       "          0.        ,   0.        ,   0.        ],\n",
       "       [ 16.815998  ,   5.4974723 ,   0.        ,   0.        ,\n",
       "          0.        ,   0.        ,   0.        ],\n",
       "       [ 14.777696  ,   5.5476947 ,   7.927345  ,   0.        ,\n",
       "          0.        ,   0.        ,   0.        ],\n",
       "       [ 15.910086  ,   4.08479   ,   1.2818825 ,   6.4451866 ,\n",
       "          0.        ,   0.        ,   0.        ],\n",
       "       [ -8.376151  ,  -3.846616  ,  -7.8058853 ,   6.2134156 ,\n",
       "         11.33326   ,   0.        ,   0.        ],\n",
       "       [ -6.7341847 ,  -1.7636223 ,  -3.2419724 ,   2.7251048 ,\n",
       "         -0.92574394,  15.67432   ,   0.        ],\n",
       "       [-10.131356  ,  -3.9233735 ,   3.727133  ,  -1.9391751 ,\n",
       "          0.10491249,  -0.17502694,  13.311901  ]], dtype=float32)"
      ]
     },
     "execution_count": 17,
     "metadata": {},
     "output_type": "execute_result"
    }
   ],
   "source": [
    "#A = np.dot(user.X_train.T,user.X_train)\n",
    "#b = np.dot(user.X_train.T, user.y_train)\n",
    "#L = np.linalg.cholesky(A)\n",
    "beta = np.array([-0.25  , -7.0625 , 0.25,   -0.125 , -1.3125 ,-2.25   , 6.75  ])\n",
    "L_algo = np.array([[ 17.5   ,   0.   ,    0.   ,    0.   ,    0.  ,     0.  ,     0.    ],\n",
    " [ 16.75  ,  16.75  ,   0.    ,   0.   ,    0.   ,    0.   ,    0.    ],\n",
    " [ 14.75   ,  1.75  ,   9.5   ,   0.  ,     0.  ,     0.   ,    0.    ],\n",
    " [ 16.     , 16.5625 ,  0.25  ,  17.   ,    0.   ,    0.   ,    0.    ],\n",
    " [ -8.375  , -1.25   , -8.5   ,   2.1875 , 12.75  ,   0.   ,    0.    ],\n",
    " [ -6.75   , -0.5    , -3.625 ,   0.5    ,  0.25   , 15.75 ,    0.    ],\n",
    " [-10.1875 , -1.25   ,  1.0625 , -0.0625 , -1.375 ,  -0.5  ,   14.25  ]], dtype=np.float32)\n",
    "\n",
    "#L - L_algo\n",
    "A_new = np.dot(L_algo.T,L_algo)\n",
    "A = np.array([[ 311.9375 , 297.   ,   260.9375 , 280.9375, -148. ,    -119. ,    -179.    ],\n",
    " [ 297.   ,   313.    ,  278.9375 , 289.9375 ,-162.   ,  -122.9375, -191.9375],\n",
    " [ 261.   ,   279.  ,    312.    ,  267.9375, -206.9375, -135.  ,   -142.    ],\n",
    " [ 281.   ,   290.   ,   267.9375 , 313.    , -118.9375, -101.  ,   -184.9375],\n",
    " [-147.9375, -162.    , -207.    , -118.9375,  312.9375 ,  94.9375 ,  60.    ],\n",
    " [-118.9375 ,-122.9375 ,-135.    , -100.9375 ,  94.9375 , 312.9375 ,  54.9375],\n",
    " [-178.9375 ,-191.9375 ,-141.9375, -184.9375 ,  60.     ,  54.9375 , 312.9375]],dtype=np.float32)\n",
    "\n",
    "L = np.linalg.cholesky(A)\n",
    "L"
   ]
  },
  {
   "cell_type": "code",
   "execution_count": 130,
   "metadata": {},
   "outputs": [],
   "source": [
    "#y_predict = np.dot(user.X_test,beta)\n",
    "#y_predict\n",
    "#print(user.y_test[:5])\n",
    "#print(y_predict)\n",
    "#print(user.X_test[:2])"
   ]
  },
  {
   "cell_type": "code",
   "execution_count": 131,
   "metadata": {},
   "outputs": [],
   "source": [
    "#from sklearn.linear_model import LinearRegression\n",
    "\n",
    "#lr = LinearRegression()\n",
    "##lr.fit(user.X_train,user.y_train)\n",
    "#lr.predict(user.X_test)\n",
    "#lr.score()\n",
    "#np.dot(user.X_train.T,user.X_train)"
   ]
  },
  {
   "cell_type": "code",
   "execution_count": 132,
   "metadata": {},
   "outputs": [
    {
     "name": "stdout",
     "output_type": "stream",
     "text": [
      "4\n",
      "[ 0.94703181 -0.69568321 -0.20255324  0.04404371 -0.18418332]\n",
      "[ 0.8154038  -1.01974626 -0.16593132 -0.86420353  0.52139107]\n",
      "[ 0.94703181 -0.69568321 -0.20255324  0.04404371 -0.18418332]\n",
      "[ 0.8154038  -1.01974626 -0.16593132 -0.86420353  0.52139107]\n"
     ]
    }
   ],
   "source": [
    "#https://en.wikipedia.org/wiki/Oblivious_transfer\n",
    "\n",
    "import rsa\n",
    "\n",
    "# CSP(ALICE)\n",
    "pub,priv = rsa.newkeys(32)\n",
    "muAs = [np.random.randn(5) for i in range(5)]\n",
    "muBs = [np.random.randn(5) for i in range(5)]\n",
    "pub,priv = rsa.newkeys(32)\n",
    "x = np.random.choice(100,5)\n",
    "\n",
    "## EVALUATOR(BOB)\n",
    "\n",
    "k,b = int(np.random.choice(100)), int(np.random.choice(5))\n",
    "print(b)\n",
    "v = (x[b] + pow(k,pub.e, pub.n)) \n",
    "\n",
    "## CSP(ALICE)\n",
    "\n",
    "ks = [(pow(int((v-i)),priv.d,priv.n))  for i in x]\n",
    "muA_primes = [muA+ki for muA,ki in zip(muAs,ks)]\n",
    "mub_primes = [mub+ki for mub,ki in zip(muBs,ks)]\n",
    "\n",
    "## EVALUATOR (BOB)\n",
    "\n",
    "print(muA_primes[b] - k)\n",
    "print(mub_primes[b] - k)\n",
    "\n",
    "## ACTUAL\n",
    "\n",
    "print(muAs[b])\n",
    "print(muBs[b])"
   ]
  },
  {
   "cell_type": "code",
   "execution_count": 134,
   "metadata": {},
   "outputs": [
    {
     "data": {
      "text/plain": [
       "[array([ 0.85889084,  0.36548989,  0.19788106,  0.26569818, -0.02390531]),\n",
       " array([-0.77460765,  0.21707881, -1.08506771,  1.71459784,  0.54510065]),\n",
       " array([-0.20976281, -1.56796658,  0.3439413 ,  1.27397474,  1.08276927]),\n",
       " array([ 0.18982827, -0.74909464,  0.66907552,  0.48102162,  1.42581322]),\n",
       " array([ 0.94703181, -0.69568321, -0.20255324,  0.04404371, -0.18418332])]"
      ]
     },
     "execution_count": 134,
     "metadata": {},
     "output_type": "execute_result"
    }
   ],
   "source": [
    "muAs"
   ]
  },
  {
   "cell_type": "code",
   "execution_count": null,
   "metadata": {},
   "outputs": [],
   "source": []
  },
  {
   "cell_type": "code",
   "execution_count": null,
   "metadata": {},
   "outputs": [],
   "source": []
  },
  {
   "cell_type": "code",
   "execution_count": 4,
   "metadata": {},
   "outputs": [],
   "source": [
    "df = pd.read_csv('auto-mpg.csv')\n",
    "df = df[df['horsepower'] != '?']\n",
    "cols = df.columns.tolist()\n",
    "cols.remove('mpg')\n",
    "cols.remove('car name')\n",
    "X = df[cols].values.astype(np.float32)\n",
    "y = df['mpg'].values.astype(np.float32)\n",
    "X_train,X_test,y_train,y_test = train_test_split(X,y,train_size=.8,test_size=.2)\n",
    "sc = StandardScaler()\n",
    "X_train = sc.fit_transform(X_train)\n",
    "X_test = sc.transform(X_test)\n",
    "X_train = np.around(X_train,2)\n",
    "X_test = np.around(X_test,2)"
   ]
  },
  {
   "cell_type": "code",
   "execution_count": 5,
   "metadata": {},
   "outputs": [
    {
     "data": {
      "text/plain": [
       "array([[ 313.56934 ,  296.97287 ,  262.30698 ,  281.62646 , -158.96512 ,\n",
       "        -105.344   , -181.06758 ],\n",
       "       [ 296.97287 ,  312.6526  ,  280.5585  ,  291.963   , -172.32501 ,\n",
       "        -114.9101  , -193.55283 ],\n",
       "       [ 262.30698 ,  280.5585  ,  313.0783  ,  271.74695 , -216.2685  ,\n",
       "        -130.4385  , -143.6512  ],\n",
       "       [ 281.62646 ,  291.963   ,  271.74695 ,  312.83514 , -135.58331 ,\n",
       "         -98.052795, -183.68143 ],\n",
       "       [-158.96512 , -172.32501 , -216.2685  , -135.58331 ,  313.06992 ,\n",
       "          97.3491  ,   69.5996  ],\n",
       "       [-105.344   , -114.9101  , -130.4385  ,  -98.052795,   97.3491  ,\n",
       "         313.035   ,   51.902203],\n",
       "       [-181.06758 , -193.55283 , -143.6512  , -183.68143 ,   69.5996  ,\n",
       "          51.902203,  313.1884  ]], dtype=float32)"
      ]
     },
     "execution_count": 5,
     "metadata": {},
     "output_type": "execute_result"
    }
   ],
   "source": [
    "np.dot(X_train.T, X_train)"
   ]
  },
  {
   "cell_type": "code",
   "execution_count": null,
   "metadata": {},
   "outputs": [],
   "source": []
  },
  {
   "cell_type": "code",
   "execution_count": null,
   "metadata": {},
   "outputs": [],
   "source": []
  },
  {
   "cell_type": "code",
   "execution_count": null,
   "metadata": {},
   "outputs": [],
   "source": []
  },
  {
   "cell_type": "code",
   "execution_count": null,
   "metadata": {},
   "outputs": [],
   "source": []
  },
  {
   "cell_type": "code",
   "execution_count": 112,
   "metadata": {},
   "outputs": [
    {
     "data": {
      "text/plain": [
       "\"\\nwire_labels = {}\\nwire_labels['A_0'] = token_hex(4)\\nwire_labels['A_1'] = token_hex(4)\\nwire_labels['B_0'] = token_hex(4)\\nwire_labels['B_1'] = token_hex(4)\\nwire_labels['C_0'] = token_hex(4)\\nwire_labels['C_1'] = token_hex(4)\\na = '000000000110000011111100'\\nb = '000000000011000011111100'\\na1 = [wire_labels['A_'+i] for i in a]\\nb1 = [wire_labels['B_'+i] for i in b]\\n\\n%time ans = GarbledAdd()(a1, b1,wire_labels)\\n#print(bin_to_int('0000000000110000'),bin_to_int('0000000001100000'),bin_to_int(ans[:16]))\\nwl = dict(zip(wire_labels.values(),wire_labels.keys()))\\nprint(bin_to_int('0000000000110000'),bin_to_int('0000000001100000'),bin_to_int(''.join([wl[i].split('_')[-1] for i in ans])[:16]))\\n\\n%time ans = GarbledSubtract()(a1, b1,wire_labels)\\nprint(bin_to_int('0000000000110000'),bin_to_int('0000000001100000'),bin_to_int(''.join([wl[i].split('_')[-1] for i in ans])[:16]))\\n\\n%time ans = GarbledSubtract()(a1, compute_twos_complement_garbled(b1,wire_labels),wire_labels)\\nprint(bin_to_int(float_to_bin(6.0)),bin_to_int(float_to_bin(3.0)),bin_to_int(''.join([wl[i].split('_')[-1] for i in ans])[:16]))\\n\\na1 = [wire_labels['A_'+i] for i in float_to_bin(3.0) ]\\nb1 = [wire_labels['B_'+i] for i in float_to_bin(6.0) ]\\n%time ans = GarbledMultiplication()(a1, b1,wire_labels)\\nprint(bin_to_float(float_to_bin(3.0)),bin_to_float(float_to_bin(6.0)),bin_to_float(''.join([wl[i].split('_')[-1] for i in ans])))\\n\\na1 = [wire_labels['A_'+i] for i in float_to_bin(6.0) ]\\nb1 = [wire_labels['B_'+i] for i in float_to_bin(3.0) ]\\n%time ans = GarbledMultiplication()(a1, b1,wire_labels)\\nprint(bin_to_float(float_to_bin(6.0)),bin_to_float(float_to_bin(3.0)),bin_to_float(''.join([wl[i].split('_')[-1] for i in ans])))\\n\\na1 = [wire_labels['A_'+i] for i in float_to_bin(-3.0) ]\\nb1 = [wire_labels['B_'+i] for i in float_to_bin(6.0) ]\\n%time ans = GarbledMultiplication()(a1, b1,wire_labels)\\nprint(bin_to_float(float_to_bin(-3.0)),bin_to_float(float_to_bin(6.0)),bin_to_float(''.join([wl[i].split('_')[-1] for i in ans])))\\n\\na1 = [wire_labels['A_'+i] for i in float_to_bin(3.0) ]\\nb1 = [wire_labels['B_'+i] for i in float_to_bin(-6.0) ]\\n%time ans = GarbledMultiplication()(a1, b1,wire_labels)\\nprint(bin_to_float(float_to_bin(3.0)),bin_to_float(float_to_bin(-6.0)),bin_to_float(''.join([wl[i].split('_')[-1] for i in ans])))\\n\\na1 = [wire_labels['A_'+i] for i in float_to_bin(-3.0) ]\\nb1 = [wire_labels['B_'+i] for i in float_to_bin(-6.0) ]\\n%time ans = GarbledMultiplication()(a1, b1,wire_labels)\\nprint(bin_to_float(float_to_bin(-6.0)),bin_to_float(float_to_bin(-3.0)),bin_to_float(''.join([wl[i].split('_')[-1] for i in ans])))\\n\\na1 = [wire_labels['A_'+i] for i in float_to_bin(1.5) ]\\nb1 = [wire_labels['B_'+i] for i in float_to_bin(2.0) ]\\n%time ans = GarbledMultiplication()(a1, b1,wire_labels)\\nprint(bin_to_float(float_to_bin(1.5)),bin_to_float(float_to_bin(2.0)),bin_to_float(''.join([wl[i].split('_')[-1] for i in ans])))\\n\\n%time ans = GarbledDivision()(a1, b1,wire_labels)\\nprint(bin_to_float(float_to_bin(6.0)),bin_to_float(float_to_bin(3.0)),bin_to_float(''.join([wl[i].split('_')[-1] for i in ans])))\\n\\na1 = [wire_labels['A_'+i] for i in float_to_bin(3.0) ]\\nb1 = [wire_labels['B_'+i] for i in float_to_bin(6.0) ]\\n#print(a1,b1)\\n%time ans = GarbledDivision()(a1, b1,wire_labels)\\n#print(ans, wire_labels)\\nprint(bin_to_float(float_to_bin(3.0)),bin_to_float(float_to_bin(6.0)),bin_to_float(''.join([wl[i].split('_')[-1] for i in ans])))\\n\\na1 = [wire_labels['A_'+i] for i in float_to_bin(-6.0) ]   ## Wrong\\nb1 = [wire_labels['B_'+i] for i in float_to_bin(-3.0) ]\\n%time ans = GarbledDivision()(a1, b1,wire_labels)\\nprint(bin_to_float(float_to_bin(-6.0)),bin_to_float(float_to_bin(-3.0)),bin_to_float(''.join([wl[i].split('_')[-1] for i in ans])))\\n\\na1 = [wire_labels['A_'+i] for i in float_to_bin(-6.0) ]  # Wrong\\nb1 = [wire_labels['B_'+i] for i in float_to_bin(3.0) ]  \\n%time ans = GarbledDivision()(a1, b1,wire_labels)\\nprint(bin_to_float(float_to_bin(-6.0)),bin_to_float(float_to_bin(3.0)),bin_to_float(''.join([wl[i].split('_')[-1] for i in ans])))\\n\\na1 = [wire_labels['A_'+i] for i in float_to_bin(6.0) ]  \\nb1 = [wire_labels['B_'+i] for i in float_to_bin(-3.0) ]\\n%time ans = GarbledDivision()(a1, b1,wire_labels)\\nprint(bin_to_float(float_to_bin(6.0)), bin_to_float(float_to_bin(-3.0)), bin_to_float(''.join([wl[i].split('_')[-1] for i in ans])))\\n\\na1 = [wire_labels['A_'+i] for i in float_to_bin(3.0) ]  \\nb1 = [wire_labels['B_'+i] for i in float_to_bin(-6.0) ]\\nans = GarbledDivision()(a1, b1,wire_labels)\\nprint(bin_to_float(float_to_bin(3.0)), bin_to_float(float_to_bin(-6.0)), bin_to_float(''.join([wl[i].split('_')[-1] for i in ans])))\\n\\na1 = [wire_labels['A_'+i] for i in float_to_bin(-3.0) ]  \\nb1 = [wire_labels['B_'+i] for i in float_to_bin(6.0) ]\\n%time ans = GarbledDivision()(a1, b1,wire_labels)\\nprint(bin_to_float(float_to_bin(-3.0)), bin_to_float(float_to_bin(6.0)), bin_to_float(''.join([wl[i].split('_')[-1] for i in ans])))\\n\\na1 = [wire_labels['A_'+i] for i in float_to_bin(-3.0) ]  \\nb1 = [wire_labels['B_'+i] for i in float_to_bin(-6.0) ]\\n%time ans = GarbledDivision()(a1, b1,wire_labels)\\nprint(bin_to_float(float_to_bin(-3.0)), bin_to_float(float_to_bin(-6.0)), bin_to_float(''.join([wl[i].split('_')[-1] for i in ans])))\\n\\n#%time ans = GarbledSqrt()(a1,wire_labels)\\n#print(bin_to_float('000000000110000011111100'),bin_to_float('000000000011000011111100'),bin_to_float(''.join([wl[i].split('_')[-1] for i in ans])))\\n\""
      ]
     },
     "execution_count": 112,
     "metadata": {},
     "output_type": "execute_result"
    }
   ],
   "source": [
    "'''\n",
    "wire_labels = {}\n",
    "wire_labels['A_0'] = token_hex(4)\n",
    "wire_labels['A_1'] = token_hex(4)\n",
    "wire_labels['B_0'] = token_hex(4)\n",
    "wire_labels['B_1'] = token_hex(4)\n",
    "wire_labels['C_0'] = token_hex(4)\n",
    "wire_labels['C_1'] = token_hex(4)\n",
    "a = '000000000110000011111100'\n",
    "b = '000000000011000011111100'\n",
    "a1 = [wire_labels['A_'+i] for i in a]\n",
    "b1 = [wire_labels['B_'+i] for i in b]\n",
    "\n",
    "%time ans = GarbledAdd()(a1, b1,wire_labels)\n",
    "#print(bin_to_int('0000000000110000'),bin_to_int('0000000001100000'),bin_to_int(ans[:16]))\n",
    "wl = dict(zip(wire_labels.values(),wire_labels.keys()))\n",
    "print(bin_to_int('0000000000110000'),bin_to_int('0000000001100000'),bin_to_int(''.join([wl[i].split('_')[-1] for i in ans])[:16]))\n",
    "\n",
    "%time ans = GarbledSubtract()(a1, b1,wire_labels)\n",
    "print(bin_to_int('0000000000110000'),bin_to_int('0000000001100000'),bin_to_int(''.join([wl[i].split('_')[-1] for i in ans])[:16]))\n",
    "\n",
    "%time ans = GarbledSubtract()(a1, compute_twos_complement_garbled(b1,wire_labels),wire_labels)\n",
    "print(bin_to_int(float_to_bin(6.0)),bin_to_int(float_to_bin(3.0)),bin_to_int(''.join([wl[i].split('_')[-1] for i in ans])[:16]))\n",
    "\n",
    "a1 = [wire_labels['A_'+i] for i in float_to_bin(3.0) ]\n",
    "b1 = [wire_labels['B_'+i] for i in float_to_bin(6.0) ]\n",
    "%time ans = GarbledMultiplication()(a1, b1,wire_labels)\n",
    "print(bin_to_float(float_to_bin(3.0)),bin_to_float(float_to_bin(6.0)),bin_to_float(''.join([wl[i].split('_')[-1] for i in ans])))\n",
    "\n",
    "a1 = [wire_labels['A_'+i] for i in float_to_bin(6.0) ]\n",
    "b1 = [wire_labels['B_'+i] for i in float_to_bin(3.0) ]\n",
    "%time ans = GarbledMultiplication()(a1, b1,wire_labels)\n",
    "print(bin_to_float(float_to_bin(6.0)),bin_to_float(float_to_bin(3.0)),bin_to_float(''.join([wl[i].split('_')[-1] for i in ans])))\n",
    "\n",
    "a1 = [wire_labels['A_'+i] for i in float_to_bin(-3.0) ]\n",
    "b1 = [wire_labels['B_'+i] for i in float_to_bin(6.0) ]\n",
    "%time ans = GarbledMultiplication()(a1, b1,wire_labels)\n",
    "print(bin_to_float(float_to_bin(-3.0)),bin_to_float(float_to_bin(6.0)),bin_to_float(''.join([wl[i].split('_')[-1] for i in ans])))\n",
    "\n",
    "a1 = [wire_labels['A_'+i] for i in float_to_bin(3.0) ]\n",
    "b1 = [wire_labels['B_'+i] for i in float_to_bin(-6.0) ]\n",
    "%time ans = GarbledMultiplication()(a1, b1,wire_labels)\n",
    "print(bin_to_float(float_to_bin(3.0)),bin_to_float(float_to_bin(-6.0)),bin_to_float(''.join([wl[i].split('_')[-1] for i in ans])))\n",
    "\n",
    "a1 = [wire_labels['A_'+i] for i in float_to_bin(-3.0) ]\n",
    "b1 = [wire_labels['B_'+i] for i in float_to_bin(-6.0) ]\n",
    "%time ans = GarbledMultiplication()(a1, b1,wire_labels)\n",
    "print(bin_to_float(float_to_bin(-6.0)),bin_to_float(float_to_bin(-3.0)),bin_to_float(''.join([wl[i].split('_')[-1] for i in ans])))\n",
    "\n",
    "a1 = [wire_labels['A_'+i] for i in float_to_bin(1.5) ]\n",
    "b1 = [wire_labels['B_'+i] for i in float_to_bin(2.0) ]\n",
    "%time ans = GarbledMultiplication()(a1, b1,wire_labels)\n",
    "print(bin_to_float(float_to_bin(1.5)),bin_to_float(float_to_bin(2.0)),bin_to_float(''.join([wl[i].split('_')[-1] for i in ans])))\n",
    "\n",
    "%time ans = GarbledDivision()(a1, b1,wire_labels)\n",
    "print(bin_to_float(float_to_bin(6.0)),bin_to_float(float_to_bin(3.0)),bin_to_float(''.join([wl[i].split('_')[-1] for i in ans])))\n",
    "\n",
    "a1 = [wire_labels['A_'+i] for i in float_to_bin(3.0) ]\n",
    "b1 = [wire_labels['B_'+i] for i in float_to_bin(6.0) ]\n",
    "#print(a1,b1)\n",
    "%time ans = GarbledDivision()(a1, b1,wire_labels)\n",
    "#print(ans, wire_labels)\n",
    "print(bin_to_float(float_to_bin(3.0)),bin_to_float(float_to_bin(6.0)),bin_to_float(''.join([wl[i].split('_')[-1] for i in ans])))\n",
    "\n",
    "a1 = [wire_labels['A_'+i] for i in float_to_bin(-6.0) ]   ## Wrong\n",
    "b1 = [wire_labels['B_'+i] for i in float_to_bin(-3.0) ]\n",
    "%time ans = GarbledDivision()(a1, b1,wire_labels)\n",
    "print(bin_to_float(float_to_bin(-6.0)),bin_to_float(float_to_bin(-3.0)),bin_to_float(''.join([wl[i].split('_')[-1] for i in ans])))\n",
    "\n",
    "a1 = [wire_labels['A_'+i] for i in float_to_bin(-6.0) ]  # Wrong\n",
    "b1 = [wire_labels['B_'+i] for i in float_to_bin(3.0) ]  \n",
    "%time ans = GarbledDivision()(a1, b1,wire_labels)\n",
    "print(bin_to_float(float_to_bin(-6.0)),bin_to_float(float_to_bin(3.0)),bin_to_float(''.join([wl[i].split('_')[-1] for i in ans])))\n",
    "\n",
    "a1 = [wire_labels['A_'+i] for i in float_to_bin(6.0) ]  \n",
    "b1 = [wire_labels['B_'+i] for i in float_to_bin(-3.0) ]\n",
    "%time ans = GarbledDivision()(a1, b1,wire_labels)\n",
    "print(bin_to_float(float_to_bin(6.0)), bin_to_float(float_to_bin(-3.0)), bin_to_float(''.join([wl[i].split('_')[-1] for i in ans])))\n",
    "\n",
    "a1 = [wire_labels['A_'+i] for i in float_to_bin(3.0) ]  \n",
    "b1 = [wire_labels['B_'+i] for i in float_to_bin(-6.0) ]\n",
    "ans = GarbledDivision()(a1, b1,wire_labels)\n",
    "print(bin_to_float(float_to_bin(3.0)), bin_to_float(float_to_bin(-6.0)), bin_to_float(''.join([wl[i].split('_')[-1] for i in ans])))\n",
    "\n",
    "a1 = [wire_labels['A_'+i] for i in float_to_bin(-3.0) ]  \n",
    "b1 = [wire_labels['B_'+i] for i in float_to_bin(6.0) ]\n",
    "%time ans = GarbledDivision()(a1, b1,wire_labels)\n",
    "print(bin_to_float(float_to_bin(-3.0)), bin_to_float(float_to_bin(6.0)), bin_to_float(''.join([wl[i].split('_')[-1] for i in ans])))\n",
    "\n",
    "a1 = [wire_labels['A_'+i] for i in float_to_bin(-3.0) ]  \n",
    "b1 = [wire_labels['B_'+i] for i in float_to_bin(-6.0) ]\n",
    "%time ans = GarbledDivision()(a1, b1,wire_labels)\n",
    "print(bin_to_float(float_to_bin(-3.0)), bin_to_float(float_to_bin(-6.0)), bin_to_float(''.join([wl[i].split('_')[-1] for i in ans])))\n",
    "\n",
    "#%time ans = GarbledSqrt()(a1,wire_labels)\n",
    "#print(bin_to_float('000000000110000011111100'),bin_to_float('000000000011000011111100'),bin_to_float(''.join([wl[i].split('_')[-1] for i in ans])))\n",
    "'''"
   ]
  },
  {
   "cell_type": "code",
   "execution_count": null,
   "metadata": {},
   "outputs": [],
   "source": []
  },
  {
   "cell_type": "code",
   "execution_count": null,
   "metadata": {},
   "outputs": [],
   "source": []
  },
  {
   "cell_type": "code",
   "execution_count": null,
   "metadata": {},
   "outputs": [],
   "source": []
  },
  {
   "cell_type": "code",
   "execution_count": null,
   "metadata": {},
   "outputs": [],
   "source": []
  },
  {
   "cell_type": "code",
   "execution_count": null,
   "metadata": {},
   "outputs": [],
   "source": []
  },
  {
   "cell_type": "code",
   "execution_count": null,
   "metadata": {},
   "outputs": [],
   "source": []
  },
  {
   "cell_type": "code",
   "execution_count": null,
   "metadata": {},
   "outputs": [],
   "source": []
  },
  {
   "cell_type": "code",
   "execution_count": null,
   "metadata": {},
   "outputs": [],
   "source": []
  },
  {
   "cell_type": "code",
   "execution_count": null,
   "metadata": {},
   "outputs": [],
   "source": []
  },
  {
   "cell_type": "code",
   "execution_count": null,
   "metadata": {},
   "outputs": [],
   "source": []
  },
  {
   "cell_type": "code",
   "execution_count": null,
   "metadata": {},
   "outputs": [],
   "source": []
  },
  {
   "cell_type": "code",
   "execution_count": null,
   "metadata": {},
   "outputs": [],
   "source": []
  },
  {
   "cell_type": "code",
   "execution_count": null,
   "metadata": {},
   "outputs": [],
   "source": []
  },
  {
   "cell_type": "code",
   "execution_count": null,
   "metadata": {},
   "outputs": [],
   "source": []
  },
  {
   "cell_type": "code",
   "execution_count": 20,
   "metadata": {},
   "outputs": [
    {
     "name": "stdout",
     "output_type": "stream",
     "text": [
      "1\n"
     ]
    }
   ],
   "source": []
  },
  {
   "cell_type": "code",
   "execution_count": null,
   "metadata": {},
   "outputs": [],
   "source": []
  },
  {
   "cell_type": "code",
   "execution_count": null,
   "metadata": {},
   "outputs": [],
   "source": []
  },
  {
   "cell_type": "code",
   "execution_count": null,
   "metadata": {},
   "outputs": [],
   "source": []
  },
  {
   "cell_type": "code",
   "execution_count": null,
   "metadata": {},
   "outputs": [],
   "source": []
  }
 ],
 "metadata": {
  "kernelspec": {
   "display_name": "Python 3",
   "language": "python",
   "name": "python3"
  },
  "language_info": {
   "codemirror_mode": {
    "name": "ipython",
    "version": 3
   },
   "file_extension": ".py",
   "mimetype": "text/x-python",
   "name": "python",
   "nbconvert_exporter": "python",
   "pygments_lexer": "ipython3",
   "version": "3.6.5"
  }
 },
 "nbformat": 4,
 "nbformat_minor": 2
}
