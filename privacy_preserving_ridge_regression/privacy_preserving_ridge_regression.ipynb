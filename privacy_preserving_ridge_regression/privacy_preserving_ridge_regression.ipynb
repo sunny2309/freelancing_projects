{
 "cells": [
  {
   "cell_type": "code",
   "execution_count": 9,
   "metadata": {},
   "outputs": [],
   "source": [
    "import numpy as np\n",
    "import matplotlib.pyplot as plt\n",
    "import pandas as pd\n",
    "import scipy\n",
    "import math\n",
    "import phe\n",
    "import sklearn\n",
    "from sklearn.model_selection import train_test_split\n",
    "from sklearn.preprocessing import  StandardScaler\n",
    "from phe import paillier\n",
    "import bitstring\n",
    "from bitstring import Bits\n",
    "from secrets import token_hex\n",
    "import copy\n",
    "from Crypto.Cipher import DES\n",
    "import pickle\n",
    "\n",
    "%matplotlib inline"
   ]
  },
  {
   "cell_type": "code",
   "execution_count": 27,
   "metadata": {
    "code_folding": [
     0
    ]
   },
   "outputs": [],
   "source": [
    "def cholesky_decomposition(A):\n",
    "    d = A.shape[0]\n",
    "    L = A.copy()\n",
    "    #L = np.zeros(A.shape)\n",
    "    for i in range(d-1):\n",
    "        for j in range(i+1,d):\n",
    "            L[i][j] = 0.0\n",
    "    for j in range(d):\n",
    "        for k in range(j-1):\n",
    "            for i in range(j,d):\n",
    "                L[i][j] -= (L[i][k]*L[j][k])\n",
    "        L[j][j] = math.sqrt(L[j][j])\n",
    "        for k in range(j+1,d):\n",
    "            L[k][j] /= L[j][j]\n",
    "    for i in range(d-1):\n",
    "        for j in range(i+1,d):\n",
    "            L[i][j] = 0.0\n",
    "    return L"
   ]
  },
  {
   "cell_type": "code",
   "execution_count": 28,
   "metadata": {
    "code_folding": [
     0
    ]
   },
   "outputs": [],
   "source": [
    "A = np.array([[ 6,  3,  4,  8],\n",
    "       [ 3,  6,  5,  1],\n",
    "       [ 4,  5, 10,  7],\n",
    "       [ 8,  1,  7, 25]],dtype=np.float32)"
   ]
  },
  {
   "cell_type": "code",
   "execution_count": 29,
   "metadata": {},
   "outputs": [],
   "source": [
    "L = cholesky_decomposition(A)"
   ]
  },
  {
   "cell_type": "code",
   "execution_count": 30,
   "metadata": {},
   "outputs": [
    {
     "data": {
      "text/plain": [
       "array([[2.4494898 , 0.        , 0.        , 0.        ],\n",
       "       [1.2247448 , 2.4494898 , 0.        , 0.        ],\n",
       "       [1.6329931 , 2.0412414 , 2.7080128 , 0.        ],\n",
       "       [3.2659862 , 0.40824828, 0.6154576 , 3.7638633 ]], dtype=float32)"
      ]
     },
     "execution_count": 30,
     "metadata": {},
     "output_type": "execute_result"
    }
   ],
   "source": [
    "L"
   ]
  },
  {
   "cell_type": "code",
   "execution_count": 31,
   "metadata": {},
   "outputs": [
    {
     "data": {
      "text/plain": [
       "array([[ 6.0000005,  3.       ,  4.       ,  8.       ],\n",
       "       [ 3.       ,  7.5      ,  7.       ,  4.9999995],\n",
       "       [ 4.       ,  7.       , 14.166666 ,  7.8333335],\n",
       "       [ 8.       ,  4.9999995,  7.8333335, 25.378788 ]], dtype=float32)"
      ]
     },
     "execution_count": 31,
     "metadata": {},
     "output_type": "execute_result"
    }
   ],
   "source": [
    "np.dot(L,L.T)"
   ]
  },
  {
   "cell_type": "code",
   "execution_count": 32,
   "metadata": {},
   "outputs": [],
   "source": [
    "A = np.array([[ 6,  3,  4,  8],\n",
    "       [ 3,  6,  5,  1],\n",
    "       [ 4,  5, 10,  7],\n",
    "       [ 8,  1,  7, 25]],dtype=np.float32)"
   ]
  },
  {
   "cell_type": "code",
   "execution_count": 33,
   "metadata": {},
   "outputs": [],
   "source": [
    "L2 = np.linalg.cholesky(A)"
   ]
  },
  {
   "cell_type": "code",
   "execution_count": 34,
   "metadata": {},
   "outputs": [
    {
     "data": {
      "text/plain": [
       "array([[ 2.4494898,  0.       ,  0.       ,  0.       ],\n",
       "       [ 1.2247449,  2.1213202,  0.       ,  0.       ],\n",
       "       [ 1.6329932,  1.4142135,  2.309401 ,  0.       ],\n",
       "       [ 3.2659864, -1.4142135,  1.5877132,  3.132491 ]], dtype=float32)"
      ]
     },
     "execution_count": 34,
     "metadata": {},
     "output_type": "execute_result"
    }
   ],
   "source": [
    "L2"
   ]
  },
  {
   "cell_type": "code",
   "execution_count": 35,
   "metadata": {},
   "outputs": [
    {
     "data": {
      "text/plain": [
       "array([[ 6.0000005,  3.0000002,  4.0000005,  8.000001 ],\n",
       "       [ 3.0000002,  5.9999995,  5.       ,  1.0000007],\n",
       "       [ 4.0000005,  5.       , 10.       ,  7.       ],\n",
       "       [ 8.000001 ,  1.0000007,  7.       , 25.       ]], dtype=float32)"
      ]
     },
     "execution_count": 35,
     "metadata": {},
     "output_type": "execute_result"
    }
   ],
   "source": [
    "np.dot(L2,L2.T)"
   ]
  },
  {
   "cell_type": "code",
   "execution_count": 36,
   "metadata": {},
   "outputs": [
    {
     "data": {
      "text/plain": [
       "array([[ 6.,  3.,  4.,  8.],\n",
       "       [ 3.,  6.,  5.,  1.],\n",
       "       [ 4.,  5., 10.,  7.],\n",
       "       [ 8.,  1.,  7., 25.]], dtype=float32)"
      ]
     },
     "execution_count": 36,
     "metadata": {},
     "output_type": "execute_result"
    }
   ],
   "source": [
    "A"
   ]
  },
  {
   "cell_type": "code",
   "execution_count": 37,
   "metadata": {
    "code_folding": [
     0
    ]
   },
   "outputs": [],
   "source": [
    "def cholesky(A):\n",
    "    \"\"\"Performs a Cholesky decomposition of A, which must \n",
    "    be a symmetric and positive definite matrix. The function\n",
    "    returns the lower variant triangular matrix, L.\"\"\"\n",
    "    n = len(A)\n",
    "\n",
    "    # Create zero matrix for L\n",
    "    L = np.zeros(A.shape)\n",
    "\n",
    "    # Perform the Cholesky decomposition\n",
    "    for i in range(n):\n",
    "        for k in range(i+1):\n",
    "            tmp_sum = sum(L[i][j] * L[k][j] for j in range(k))\n",
    "            \n",
    "            if (i == k): # Diagonal elements\n",
    "                # LaTeX: l_{kk} = \\sqrt{ a_{kk} - \\sum^{k-1}_{j=1} l^2_{kj}}\n",
    "                L[i][k] = np.sqrt(A[i][i] - tmp_sum)\n",
    "            else:\n",
    "                # LaTeX: l_{ik} = \\frac{1}{l_{kk}} \\left( a_{ik} - \\sum^{k-1}_{j=1} l_{ij} l_{kj} \\right)\n",
    "                L[i][k] = (1.0 / L[k][k] * (A[i][k] - tmp_sum))\n",
    "    return L"
   ]
  },
  {
   "cell_type": "code",
   "execution_count": 38,
   "metadata": {},
   "outputs": [
    {
     "data": {
      "text/plain": [
       "array([[ 2.44948974,  0.        ,  0.        ,  0.        ],\n",
       "       [ 1.22474487,  2.12132034,  0.        ,  0.        ],\n",
       "       [ 1.63299316,  1.41421356,  2.30940108,  0.        ],\n",
       "       [ 3.26598632, -1.41421356,  1.58771324,  3.13249102]])"
      ]
     },
     "execution_count": 38,
     "metadata": {},
     "output_type": "execute_result"
    }
   ],
   "source": [
    "cholesky(A)"
   ]
  },
  {
   "cell_type": "code",
   "execution_count": 39,
   "metadata": {
    "code_folding": [
     0
    ]
   },
   "outputs": [],
   "source": [
    "def square_root(x):\n",
    "    e = [pow(4,i) for i in range(int(x)) if pow(4,i)<=x][-1]\n",
    "    r = 0\n",
    "    #print(e)\n",
    "    while e != 0:\n",
    "        if x >= r+e:\n",
    "            x -= (r+e)\n",
    "            r = (r >> 1) +e\n",
    "        else:\n",
    "            r = (r >> 1)\n",
    "        e = (e >> 2)\n",
    "    return r"
   ]
  },
  {
   "cell_type": "code",
   "execution_count": 40,
   "metadata": {},
   "outputs": [
    {
     "data": {
      "text/plain": [
       "10"
      ]
     },
     "execution_count": 40,
     "metadata": {},
     "output_type": "execute_result"
    }
   ],
   "source": [
    "square_root(100)"
   ]
  },
  {
   "cell_type": "code",
   "execution_count": 41,
   "metadata": {
    "code_folding": [
     0
    ]
   },
   "outputs": [],
   "source": [
    "def poc_bitstring_class():\n",
    "    binary = np.array(list(bin(255))[2:],dtype=np.bool)\n",
    "    b = bitstring.Bits(float=1.23,length=32)\n",
    "    print(b.bin)\n",
    "    b = bitstring.Bits(float=-1.23,length=32)\n",
    "    print(b.bin)\n",
    "    \n",
    "    a = bitstring.Bits(float=1.0,length=32)\n",
    "    b = bitstring.Bits(float=-1.0,length=32)\n",
    "    print(a.bin, b.bin,a.bin[:9])\n",
    "    \n",
    "    a = bitstring.Bits(float=1000.2090990909090909,length=32)\n",
    "    b = bitstring.Bits(float=-127.0,length=32)\n",
    "    print(a.bin, b.bin)\n",
    "    \n",
    "    a = bitstring.Bits(int=1,length=32)\n",
    "    b = bitstring.Bits(int=-1,length=32)\n",
    "    print(a.bin, b.bin)"
   ]
  },
  {
   "cell_type": "code",
   "execution_count": 42,
   "metadata": {},
   "outputs": [
    {
     "name": "stdout",
     "output_type": "stream",
     "text": [
      "00111111100111010111000010100100\n",
      "10111111100111010111000010100100\n",
      "00111111100000000000000000000000 10111111100000000000000000000000 001111111\n",
      "01000100011110100000110101100010 11000010111111100000000000000000\n",
      "00000000000000000000000000000001 11111111111111111111111111111111\n"
     ]
    }
   ],
   "source": [
    "poc_bitstring_class()"
   ]
  },
  {
   "cell_type": "code",
   "execution_count": 43,
   "metadata": {
    "code_folding": [
     0
    ]
   },
   "outputs": [],
   "source": [
    "def poc_paillier_encryption_scheme():\n",
    "    pub,priv = paillier.generate_paillier_keypair()\n",
    "    n = pub.encrypt(1.25)\n",
    "    m = pub.encrypt(1.25)\n",
    "    print(priv.decrypt(m+n))"
   ]
  },
  {
   "cell_type": "code",
   "execution_count": 44,
   "metadata": {},
   "outputs": [
    {
     "name": "stdout",
     "output_type": "stream",
     "text": [
      "2.5\n"
     ]
    }
   ],
   "source": [
    "poc_paillier_encryption_scheme()"
   ]
  },
  {
   "cell_type": "code",
   "execution_count": 45,
   "metadata": {
    "code_folding": [
     0
    ]
   },
   "outputs": [],
   "source": [
    "def poc_encryption_des():\n",
    "    a = token_hex(4)\n",
    "    b = token_hex(4)\n",
    "    c = token_hex(4)\n",
    "    \n",
    "    print('Original Values : ')\n",
    "    print('A : [ %s ], B : [ %s ], C : [ %s ]'%(a,b,c))\n",
    "    print('--------------------------------------')\n",
    "    print('First Encrypt with A and then B')\n",
    "    des_in = DES.new(b, DES.MODE_ECB)\n",
    "    des_in2 = DES.new(a,DES.MODE_ECB)\n",
    "    c_cipher = des_in2.encrypt(des_in.encrypt(c))\n",
    "    c_decrypted = des_in.decrypt(des_in2.decrypt(c_cipher))\n",
    "    print('C Encrypted with A & B [ %s ]'%c_cipher)\n",
    "    print('C Original : [ %s ], C Decrypted [ %s ]'%(c, c_decrypted))\n",
    "    \n",
    "    print('--------------------------------------')\n",
    "    print('First Encrypt with B and then A')\n",
    "    des_in = DES.new(b, DES.MODE_ECB)\n",
    "    des_in2 = DES.new(a,DES.MODE_ECB)\n",
    "    c_cipher = des_in.encrypt(des_in2.encrypt(c))\n",
    "    c_decrypted = des_in2.decrypt(des_in.decrypt(c_cipher))\n",
    "    print('C Encrypted with A & B [ %s ]'%c_cipher)\n",
    "    print('C Original : [ %s ], C Decrypted [ %s ]'%(c, c_decrypted))\n",
    "    \n",
    "    print('--------------------------------------')\n",
    "    print('First Encrypt with B and then B')\n",
    "    des_in = DES.new(b, DES.MODE_ECB)\n",
    "    c_cipher = des_in.encrypt(des_in.encrypt(c))\n",
    "    c_decrypted = des_in.decrypt(des_in.decrypt(c_cipher))\n",
    "    print('C Encrypted with A & B [ %s ]'%c_cipher)\n",
    "    print('C Original : [ %s ], C Decrypted [ %s ]'%(c, c_decrypted))\n",
    "    \n",
    "    print('--------------------------------------')\n",
    "    print('First Encrypt with A and then A')\n",
    "    des_in2 = DES.new(a,DES.MODE_ECB)\n",
    "    c_cipher = des_in2.encrypt(des_in2.encrypt(c))\n",
    "    c_decrypted = des_in2.decrypt(des_in2.decrypt(c_cipher))\n",
    "    print('C Encrypted with A & B [ %s ]'%c_cipher)\n",
    "    print('C Original : [ %s ], C Decrypted [ %s ]'%(c, c_decrypted))"
   ]
  },
  {
   "cell_type": "code",
   "execution_count": 46,
   "metadata": {},
   "outputs": [
    {
     "name": "stdout",
     "output_type": "stream",
     "text": [
      "Original Values : \n",
      "A : [ 2eaa5fa0 ], B : [ bf160cee ], C : [ 01bafd12 ]\n",
      "--------------------------------------\n",
      "First Encrypt with A and then B\n",
      "C Encrypted with A & B [ b'&\\xfe\\xe2\\xe4\\x12\\xcbY)' ]\n",
      "C Original : [ 01bafd12 ], C Decrypted [ b'01bafd12' ]\n",
      "--------------------------------------\n",
      "First Encrypt with B and then A\n",
      "C Encrypted with A & B [ b'\\x9f6\\xef\\xd9\\xba3\\xf2\\xe6' ]\n",
      "C Original : [ 01bafd12 ], C Decrypted [ b'01bafd12' ]\n",
      "--------------------------------------\n",
      "First Encrypt with B and then B\n",
      "C Encrypted with A & B [ b'I\\xae\\x9a\\xc68~\\xf2\\xcf' ]\n",
      "C Original : [ 01bafd12 ], C Decrypted [ b'01bafd12' ]\n",
      "--------------------------------------\n",
      "First Encrypt with A and then A\n",
      "C Encrypted with A & B [ b'~t\\xda\\x84Ql\\x15W' ]\n",
      "C Original : [ 01bafd12 ], C Decrypted [ b'01bafd12' ]\n"
     ]
    }
   ],
   "source": [
    "poc_encryption_des()"
   ]
  },
  {
   "cell_type": "code",
   "execution_count": 47,
   "metadata": {
    "code_folding": [
     0
    ]
   },
   "outputs": [],
   "source": [
    "class User(object):\n",
    "    def __init__(self):\n",
    "        df = pd.read_csv('auto-mpg.csv')\n",
    "        df = df[df['horsepower'] != '?']\n",
    "        cols = df.columns.tolist()\n",
    "        cols.remove('mpg')\n",
    "        cols.remove('car name')\n",
    "        self.X = df[cols].values.astype(np.float32)\n",
    "        self.y = df['mpg'].values.astype(np.float32)\n",
    "        self.X_train,self.X_test,self.y_train,self.y_test = train_test_split(self.X,self.y,train_size=.8,test_size=.2)\n",
    "        sc = StandardScaler()\n",
    "        self.X_train = sc.fit_transform(self.X_train)\n",
    "        self.X_test = sc.transform(self.X_test)\n",
    "        #print(self.X_train,self.X_test)\n",
    "        self.X_train = np.around(self.X_train,2)\n",
    "        self.X_test = np.around(self.X_test,2)\n",
    "        self.temp = np.around(np.dot(self.X_train.T,self.X_train),2)\n",
    "        print(np.around(np.dot(self.X_train.T,self.X_train),2))\n",
    "        self.public_key, self.private_key = paillier.generate_paillier_keypair()\n",
    "        #self.paillier_encrypt = np.vectorize(public_key.encrypt)\n",
    "        #self.paillier_decrypt = np.vectorize(private_key.decrypt)\n",
    "    \n",
    "    def paillier_encrypt(self, A_i, b_i, precision=2):\n",
    "        A_i_enc = np.zeros(A_i.shape,dtype=np.object)\n",
    "        for i in range(A_i.shape[0]):\n",
    "            for j in range(A_i.shape[1]):\n",
    "                #print(A_i[i][j])\n",
    "                A_i_enc[i][j] = self.public_key.encrypt(A_i[i][j],precision=precision)\n",
    "                \n",
    "        b_i_enc = np.zeros(b_i.shape,dtype=np.object)\n",
    "        for i in range(b_i.shape[0]):\n",
    "            b_i_enc[i] = self.public_key.encrypt(b_i[i],precision=precision)\n",
    "        \n",
    "        return A_i_enc, b_i_enc\n",
    "    \n",
    "    def paillier_decrypt(self,c_i,precision=2):\n",
    "        #c = user.calculate_and_send_to_evaluater()\n",
    "        A_hat, b_hat = np.empty(c_i[0].shape, dtype=np.object), np.empty(c_i[1].shape, dtype=np.object)\n",
    "        for i in range(c_i[0].shape[0]):\n",
    "            for j in range(c_i[0].shape[0]):\n",
    "                A_hat[i][j] = self.private_key.decrypt(c_i[0][i][j])\n",
    "\n",
    "        for j in range(c_i[1].shape[0]):\n",
    "                b_hat[j] = self.private_key.decrypt(c_i[1][j])\n",
    "        \n",
    "        return A_hat, b_hat\n",
    "        #for i in range(c_i[0].shape[0]):\n",
    "        #    for j in range(c_i[0].shape[0]):\n",
    "        #        print(self.private_key.decrypt(c_i[0][i][j]), end='')\n",
    "        #        print('\\t',end='')\n",
    "        #    print()\n",
    "\n",
    "        #for j in range(c_i[1].shape[0]):\n",
    "        #        print(self.private_key.decrypt(c_i[1][j]))\n",
    "    \n",
    "    def calculate_and_send_to_evaluater(self):\n",
    "        c = []\n",
    "        mu_A = np.random.randn(len(self.y_train),len(self.y_train))\n",
    "        mu_b = np.random.randn(len(self.y_train))\n",
    "        #print(self.X_train.shape,self.y_train.shape)\n",
    "        for x_i,y_i in zip(self.X_train,self.y_train):\n",
    "            #print(x_i, y_i)\n",
    "            A_i = np.dot(x_i.reshape(len(x_i), 1), x_i.reshape(len(x_i), 1).T)\n",
    "            b_i = x_i * y_i\n",
    "            #print(A_i.shape, b_i.shape)\n",
    "            c_i = self.paillier_encrypt(A_i, b_i, precision=2)\n",
    "            c.append(c_i)\n",
    "        c_mu = self.paillier_encrypt(mu_A, mu_b, precision=2)\n",
    "        c.append(c_mu)\n",
    "        As,bs = zip(*c)\n",
    "        c_final = sum(As),sum(bs)\n",
    "        return c_final"
   ]
  },
  {
   "cell_type": "code",
   "execution_count": 48,
   "metadata": {
    "code_folding": [
     2,
     8
    ]
   },
   "outputs": [
    {
     "name": "stdout",
     "output_type": "stream",
     "text": [
      "[[ 310.83  296.4   263.09  279.52 -163.61 -109.69 -186.52]\n",
      " [ 296.4   312.98  280.43  291.5  -174.98 -120.08 -200.26]\n",
      " [ 263.09  280.43  313.    270.08 -217.24 -135.14 -151.93]\n",
      " [ 279.52  291.5   270.08  312.95 -133.9  -101.48 -192.84]\n",
      " [-163.61 -174.98 -217.24 -133.9   312.94  105.55   78.25]\n",
      " [-109.69 -120.08 -135.14 -101.48  105.55  313.08   65.22]\n",
      " [-186.52 -200.26 -151.93 -192.84   78.25   65.22  313.14]]\n"
     ]
    }
   ],
   "source": [
    "user = User()\n",
    "#c = user.calculate_and_send_to_evaluater()\n",
    "#for i in range(c[0].shape[0]):\n",
    "#    for j in range(c[0].shape[0]):\n",
    "#        print(user.private_key.decrypt(c[0][i][j]), end='')\n",
    "#        print('\\t',end='')\n",
    "#    print()\n",
    "    \n",
    "#for j in range(c[1].shape[0]):\n",
    "#        print(user.private_key.decrypt(c_final[1][j]))\n"
   ]
  },
  {
   "cell_type": "code",
   "execution_count": 49,
   "metadata": {
    "code_folding": [
     0
    ]
   },
   "outputs": [],
   "source": [
    "##xt = np.zeros(user.temp.shape,dtype=np.object)\n",
    "#for i in range(user.temp.shape[0]):\n",
    "#    for j in range(user.temp.shape[1]):\n",
    "#        b = Bits(float=user.temp[i][j],length=64)\n",
    "#        print(b.bin)"
   ]
  },
  {
   "cell_type": "code",
   "execution_count": 10,
   "metadata": {
    "code_folding": [
     0,
     7,
     33,
     40,
     55
    ]
   },
   "outputs": [],
   "source": [
    "def compute_twos_complement(binary):\n",
    "    out = ''\n",
    "    for i in binary:\n",
    "        out += '1' if i=='0' else '0'\n",
    "    #print(out)\n",
    "    return Add()(out,((len(binary)-1)*'0')+'1')\n",
    "        \n",
    "def float_to_bin(num,size=24):\n",
    "    twos_complement = True if num<0 else False\n",
    "    int_p,frac_p = str(num).split('.')\n",
    "    frac_p = float('0.'+frac_p)\n",
    "    int_b = bin(int(int_p))[2:]\n",
    "    frac_b = '.'\n",
    "    for i in range(8):\n",
    "        #print(frac_p)\n",
    "        frac_p = frac_p*2\n",
    "        t_i, t_f = str(frac_p).split('.')\n",
    "        frac_b += t_i\n",
    "        if t_i == '1':\n",
    "            frac_p -= 1.\n",
    "        #print(frac_p)\n",
    "    out = int_b+frac_b\n",
    "    out = out.replace('.','')\n",
    "    #print(out)\n",
    "    out = out[:-4]  ## Need to change to -8 in future\n",
    "    out += '11111100'\n",
    "    out = out.zfill(size)\n",
    "    if twos_complement:\n",
    "        temp_out = compute_twos_complement(out[:size-8])\n",
    "    out = temp_out+out[size-8:] if twos_complement else out\n",
    "    #print(out)\n",
    "    return out\n",
    "\n",
    "def int_to_bin(num):\n",
    "    twos_complement = True if num<0 else False\n",
    "    int_b = bin(int(num))[2:]\n",
    "    if twos_complement:\n",
    "        int_b = compute_twos_complement(int_b)\n",
    "    return int_b\n",
    "\n",
    "def bin_to_float(binary):\n",
    "    int_p , frac_p = binary[:len(binary)-8], binary[len(binary)-8:]\n",
    "    int_part = 0.0\n",
    "    for i,j in enumerate(reversed(int_p[1:])):\n",
    "        int_part += (int(j) * pow(2, i))\n",
    "    #print(int_part)\n",
    "    int_part -= int(binary[0])*pow(2,len(binary)-9) ## 15\n",
    "    #print(int_part)\n",
    "    pow_part = 0.0\n",
    "    for i,j in enumerate(reversed(frac_p[1:])):\n",
    "        pow_part += (int(j) * pow(2, i))\n",
    "    pow_part -= pow(2,7)\n",
    "    #print(pow_part)\n",
    "    return int_part*pow(2,pow_part)\n",
    "\n",
    "def bin_to_int(binary):\n",
    "    int_part = 0\n",
    "    for i,j in enumerate(reversed(binary[1:])):\n",
    "        int_part += (int(j) * pow(2, i))\n",
    "    int_part -= int(binary[0])*pow(2,len(binary)-1)\n",
    "    return int_part"
   ]
  },
  {
   "cell_type": "code",
   "execution_count": 51,
   "metadata": {
    "code_folding": []
   },
   "outputs": [],
   "source": []
  },
  {
   "cell_type": "code",
   "execution_count": 52,
   "metadata": {
    "code_folding": []
   },
   "outputs": [],
   "source": []
  },
  {
   "cell_type": "code",
   "execution_count": 11,
   "metadata": {
    "code_folding": [
     0,
     3,
     7,
     11,
     15,
     19,
     23,
     28,
     51,
     58,
     72,
     89,
     111,
     112,
     115,
     119,
     123
    ]
   },
   "outputs": [],
   "source": [
    "class Gate(object):\n",
    "    pass\n",
    "\n",
    "class LeftShift(Gate):\n",
    "    def __call__(self,a,n):\n",
    "        return a[n:] + '0' * n\n",
    "\n",
    "class RightShift(Gate):\n",
    "    def __call__(self,a,n):\n",
    "        return '0' * n + a[:-n]\n",
    "\n",
    "class And(Gate):\n",
    "    def __call__(self,a,b):\n",
    "        return a and b\n",
    "\n",
    "class Or(Gate):\n",
    "    def __call__(self,a,b):\n",
    "        return a or b\n",
    "\n",
    "class Xor(Gate):\n",
    "    def __call__(self,a,b):\n",
    "        return 0 if (a==1 and b==1) or (a==0 and b==0) else 1\n",
    "\n",
    "class Not(Gate):\n",
    "    def __call__(self,a):\n",
    "        t = {0:1,1:0}\n",
    "        return t[a]\n",
    "                \n",
    "class Add(Gate):\n",
    "    \n",
    "    def add(self,a,b,carry):\n",
    "        #xor = Xor()\n",
    "        #and_g = And()\n",
    "        #or_g = Or()\n",
    "        o1 = Xor()(a,b)\n",
    "        o2 = And()(a,b)\n",
    "        add = Xor()(carry,o1)\n",
    "        o4 = And()(carry,o1)\n",
    "        cary = Or()(o4,o2)\n",
    "        return str(add), cary\n",
    "    \n",
    "    def __call__(self,a,b):\n",
    "        carry = 0\n",
    "        out = ''\n",
    "        for idx,i in reversed(list(enumerate(zip(a[:16],b[:16])))):\n",
    "            o,carry = self.add(int(i[0]),int(i[1]),carry)\n",
    "            out += o\n",
    "        #print(out)\n",
    "        out = ''.join(reversed(out))\n",
    "        return out + a[16:]\n",
    "\n",
    "class Subtract(Gate):\n",
    "    \n",
    "    def __call__(self,a,b):\n",
    "        b2 = compute_twos_complement(b[:16])\n",
    "        b2 = b2 + b[16:]\n",
    "        return Add()(a,b2)\n",
    "\n",
    "class Multiplication(Gate):\n",
    "\n",
    "    def __call__(self,a,b):\n",
    "        s = '0'*16\n",
    "        m = copy.copy(a[:16])\n",
    "        for i in reversed(b[:16]):\n",
    "            if int(i) != 0:     # when digit is one, add the intermediary product\n",
    "                s = Add()(s, m)\n",
    "            m = LeftShift()(m, 1)  # shift one per digit in b\n",
    "        #exponent = Add()(a[16:],b[16:])\n",
    "        s = RightShift()(s,4) ## Shifting left by 4 places to get exponent back to 2^-4\n",
    "\n",
    "        return s+a[16:]\n",
    "        \n",
    "class Division(Gate):\n",
    "    \n",
    "    def __call__(self,a, b):\n",
    "        reminder,reminder_prev = Subtract()(a[:16], b[:16]), copy.copy(a[:16])\n",
    "        quotient = Add()('0'*len(a[:16]), ((len(a[:16])-1)*'0')+'1')\n",
    "        while '1' in reminder:\n",
    "            reminder_prev = copy.copy(reminder)\n",
    "            reminder = Subtract()(reminder, b[:16])\n",
    "            #print(bin_to_int(reminder))\n",
    "            #quotient = Add()(quotient, '00000001')\n",
    "            if (bin_to_int(reminder) < 0 and bin_to_int(reminder_prev) > 0) or \\\n",
    "                (bin_to_int(reminder) > 0 and bin_to_int(reminder_prev) < 0):\n",
    "                break\n",
    "            quotient = Add()(quotient, ((len(a[:16])-1)*'0')+'1')\n",
    "        quotient = LeftShift()(quotient,4)\n",
    "        return quotient+a[16:]\n",
    "    \n",
    "class Sqrt(Gate):\n",
    "    \n",
    "    def __call__(self,x):\n",
    "        num = copy.copy(x[:16])\n",
    "        xx = bin_to_int(x[:16])\n",
    "        #e = [i for i in range(int(xx)) if pow(4,i)<=xx][-1]\n",
    "        e = [i for i in range(int(xx)) if pow(4,i)<=xx]\n",
    "        #e = e[-1] if e else 0\n",
    "        e = int_to_bin(pow(4,e[-1])) if e else '0'*len(num)\n",
    "        if len(e) < len(num):\n",
    "            e = PadZerosLeft()(e,len(num) - len(e))\n",
    "        r = '0'*len(e)\n",
    "        while '1' in e:\n",
    "            if GreaterThanEqualTo()(num, Add()(r,e)):\n",
    "                num = Subtract()(num, Add()(r,e))\n",
    "                r = Add()(RightShift()(r, 1), e)\n",
    "            else:\n",
    "                r = RightShift()(r, 1)\n",
    "            e = RightShift()(e, 2)\n",
    "        r = LeftShift()(r,2)\n",
    "        return r + x[16:]\n",
    "    \n",
    "class GreaterThanEqualTo(Gate):\n",
    "    def __call__(self,a,b):\n",
    "        return bin_to_int(a) >= bin_to_int(b)\n",
    "    \n",
    "class PadZerosLeft(Gate):\n",
    "    def __call__(self,a,n):\n",
    "        return n*'0' + a \n",
    "\n",
    "class PadZerosRight(Gate):\n",
    "    def __call__(self,a,n):\n",
    "        return a + n*'0'\n",
    "    \n",
    "class GarbledCircuit(object):\n",
    "    def __init__(A,b):\n",
    "        self.A = A\n",
    "        self.b = b\n",
    "        \n",
    "    def generate_beta(self):\n",
    "        pass"
   ]
  },
  {
   "cell_type": "code",
   "execution_count": 12,
   "metadata": {
    "code_folding": [
     0,
     9,
     20,
     27,
     33,
     37,
     43,
     49,
     73,
     97,
     123,
     141,
     190,
     197,
     229,
     250,
     285
    ]
   },
   "outputs": [],
   "source": [
    "def bin_to_int_garbled(binary,wire_labels):\n",
    "    wl = dict(zip(wire_labels.values(),wire_labels.keys()))\n",
    "    b2 = ''.join([wl[i].split('_')[-1] for i in binary])\n",
    "    int_part = 0\n",
    "    for i,j in enumerate(reversed(b2[1:])):\n",
    "        int_part += (int(j) * pow(2, i))\n",
    "    int_part -= int(wl[binary[0]].split('_')[-1])*pow(2,len(binary)-1)\n",
    "    return int_part\n",
    "\n",
    "def compute_twos_complement_garbled(binary,wire_labels={}):\n",
    "    wl = dict(zip(wire_labels.values(),wire_labels.keys()))\n",
    "    out = []\n",
    "    for i in binary:\n",
    "        out += [wire_labels['B_1']] if '0' in wl[i] else [wire_labels['B_0']]\n",
    "    #print(out)\n",
    "    out = GarbledAdd()(((len(binary)-1)*[wire_labels['A_0']])+[wire_labels['A_1']], out, wire_labels)\n",
    "    wl = dict(zip(wire_labels.values(),wire_labels.keys()))\n",
    "    out = [wire_labels[wl[i].replace('C','B')] for i in out]\n",
    "    return out\n",
    "\n",
    "class GarbledLeftShift(Gate):\n",
    "    def __call__(self,a, n, wire_labels={}, garbled_table=[]):\n",
    "        #print(a,wire_labels)\n",
    "        wl = dict(zip(wire_labels.values(), wire_labels.keys()))\n",
    "        val =  [j for j in [wl[i] for i in list(set(a))] if '0' in j][0]\n",
    "        return a[n:] + [wire_labels[val]] * n\n",
    "\n",
    "class GarbledRightShift(Gate):\n",
    "    def __call__(self,a, n, wire_labels={}, garbled_table=[]):\n",
    "        wl = dict(zip(wire_labels.values(), wire_labels.keys()))\n",
    "        val =  [j for j in [wl[i] for i in list(set(a))] if '0' in j][0]\n",
    "        return [wire_labels[val]] * n + a[:-n]\n",
    "\n",
    "class GarbledGreaterThanEqualTo(Gate):\n",
    "    def __call__(self,a, b, wire_labels):\n",
    "        return bin_to_int_garbled(a, wire_labels) >= bin_to_int_garbled(b, wire_labels)\n",
    "    \n",
    "class GarbledPadZerosLeft(Gate):\n",
    "    def __call__(self,a, n, wire_labels={}, garbled_table=[]):\n",
    "        wl = dict(zip(wire_labels.values(), wire_labels.keys()))\n",
    "        val =  [j for j in [wl[i] for i in list(set(a))] if '0' in j][0]\n",
    "        return [wire_labels[val]] * n + a \n",
    "\n",
    "class GarbledPadZerosRight(Gate):\n",
    "    def __call__(self,a, n, wire_labels={}, garbled_table=[]):\n",
    "        wl = dict(zip(wire_labels.values(), wire_labels.keys()))\n",
    "        val =  [j for j in [wl[i] for i in list(set(a))] if '0' in j][0]\n",
    "        return a + [wire_labels[val]] * n\n",
    "    \n",
    "class GarbledAnd(Gate):\n",
    "    def __call__(self,a,b,wire_labels={},garbled_table=[]):\n",
    "        \n",
    "        des_b_0 = DES.new(wire_labels['B_0'], DES.MODE_ECB)\n",
    "        des_a_0 = DES.new(wire_labels['A_0'], DES.MODE_ECB)\n",
    "        des_b_1 = DES.new(wire_labels['B_1'], DES.MODE_ECB)\n",
    "        des_a_1 = DES.new(wire_labels['A_1'], DES.MODE_ECB)\n",
    "        ## 0 AND 0 = 0\n",
    "        \n",
    "        garbled_table.append(des_a_0.encrypt(des_b_0.encrypt(wire_labels['C_0'])))\n",
    "        garbled_table.append(des_a_0.encrypt(des_b_1.encrypt(wire_labels['C_0'])))\n",
    "        garbled_table.append(des_a_1.encrypt(des_b_0.encrypt(wire_labels['C_0'])))\n",
    "        garbled_table.append(des_a_1.encrypt(des_b_1.encrypt(wire_labels['C_1'])))\n",
    "        \n",
    "        des_in = DES.new(b, DES.MODE_ECB)\n",
    "        des_out = DES.new(a, DES.MODE_ECB)\n",
    "        for g in garbled_table:\n",
    "            try:\n",
    "                deciphered = des_in.decrypt(des_out.decrypt(g)).decode()\n",
    "            except UnicodeDecodeError:\n",
    "                continue\n",
    "            if deciphered in [ wire_labels['C_0'], wire_labels['C_1'] ]:\n",
    "                return g\n",
    "        \n",
    "class GarbledOr(Gate):\n",
    "    def __call__(self,a,b,wire_labels={},garbled_table=[]):\n",
    "        \n",
    "        des_b_0 = DES.new(wire_labels['B_0'], DES.MODE_ECB)\n",
    "        des_a_0 = DES.new(wire_labels['A_0'], DES.MODE_ECB)\n",
    "        des_b_1 = DES.new(wire_labels['B_1'], DES.MODE_ECB)\n",
    "        des_a_1 = DES.new(wire_labels['A_1'], DES.MODE_ECB)\n",
    "        ## 0 AND 0 = 0\n",
    "        \n",
    "        garbled_table.append(des_a_0.encrypt(des_b_0.encrypt(wire_labels['C_0'])))\n",
    "        garbled_table.append(des_a_0.encrypt(des_b_1.encrypt(wire_labels['C_1'])))\n",
    "        garbled_table.append(des_a_1.encrypt(des_b_0.encrypt(wire_labels['C_1'])))\n",
    "        garbled_table.append(des_a_1.encrypt(des_b_1.encrypt(wire_labels['C_1'])))\n",
    "        \n",
    "        des_in = DES.new(b, DES.MODE_ECB)\n",
    "        des_out = DES.new(a, DES.MODE_ECB)\n",
    "        for g in garbled_table:\n",
    "            try:\n",
    "                deciphered = des_in.decrypt(des_out.decrypt(g)).decode()\n",
    "            except UnicodeDecodeError:\n",
    "                continue\n",
    "            if deciphered in [ wire_labels['C_0'], wire_labels['C_1'] ]:\n",
    "                return g\n",
    "\n",
    "class GarbledXor(Gate):\n",
    "    def __call__(self,a,b,wire_labels={},garbled_table=[]):\n",
    "        \n",
    "        des_b_0 = DES.new(wire_labels['B_0'], DES.MODE_ECB)\n",
    "        des_a_0 = DES.new(wire_labels['A_0'], DES.MODE_ECB)\n",
    "        des_b_1 = DES.new(wire_labels['B_1'], DES.MODE_ECB)\n",
    "        des_a_1 = DES.new(wire_labels['A_1'], DES.MODE_ECB)\n",
    "        ## 0 AND 0 = 0\n",
    "        \n",
    "        garbled_table.append(des_a_0.encrypt(des_b_0.encrypt(wire_labels['C_0'])))\n",
    "        garbled_table.append(des_a_0.encrypt(des_b_1.encrypt(wire_labels['C_1'])))\n",
    "        garbled_table.append(des_a_1.encrypt(des_b_0.encrypt(wire_labels['C_1'])))\n",
    "        garbled_table.append(des_a_1.encrypt(des_b_1.encrypt(wire_labels['C_0'])))\n",
    "        #print(garbled_table)\n",
    "        des_1 = DES.new(a, DES.MODE_ECB)\n",
    "        des_2 = DES.new(b, DES.MODE_ECB)\n",
    "        for g in garbled_table:\n",
    "            try:\n",
    "                deciphered = des_2.decrypt(des_1.decrypt(g)).decode()\n",
    "            except UnicodeDecodeError:\n",
    "                continue\n",
    "            #print(deciphered)\n",
    "            #print([ wire_labels['C_0'], wire_labels['C_1'] ])\n",
    "            if deciphered in [ wire_labels['C_0'], wire_labels['C_1'] ]:\n",
    "                return g\n",
    "        \n",
    "class GarbledNot(Gate):\n",
    "    def __call__(self,b,wire_labels={},garbled_table=[]):\n",
    "        \n",
    "        des_a_0 = DES.new(wire_labels['A_0'], DES.MODE_ECB)\n",
    "        des_a_1 = DES.new(wire_labels['A_1'], DES.MODE_ECB)\n",
    "        \n",
    "        garbled_table.append(des_a_0.encrypt(wire_labels['C_1']))\n",
    "        garbled_table.append(des_a_1.encrypt(wire_labels['C_0']))\n",
    "        \n",
    "        des = DES.new(b, DES.MODE_ECB)\n",
    "        for g in garbled_table:\n",
    "            try:\n",
    "                deciphered = des.decrypt(g).decode()\n",
    "            except UnicodeDecodeError:\n",
    "                continue\n",
    "            if deciphered in [ wire_labels['C_0'], wire_labels['C_1'] ]:\n",
    "                return g\n",
    "            \n",
    "class GarbledAdd(Gate):\n",
    "    \n",
    "    def add(self,a,b,carry,wire_labels):\n",
    "        wl = dict(zip(wire_labels.values(), wire_labels.keys()))\n",
    "        \n",
    "        des_in = DES.new(b, DES.MODE_ECB)\n",
    "        des_out = DES.new(a, DES.MODE_ECB)\n",
    "        \n",
    "        o1 = GarbledXor()(a,b,wire_labels)\n",
    "        #print(a,b,o1)\n",
    "        o1 = des_in.decrypt(des_out.decrypt(o1)).decode()\n",
    "        \n",
    "        o2 = GarbledAnd()(a,b,wire_labels)\n",
    "        o2 = des_in.decrypt(des_out.decrypt(o2)).decode()\n",
    "        \n",
    "        o1 = wire_labels[wl[o1].replace('C','B')]\n",
    "        \n",
    "        des_in = DES.new(o1, DES.MODE_ECB)\n",
    "        des_out = DES.new(carry, DES.MODE_ECB)\n",
    "        \n",
    "        add = GarbledXor()(carry,o1,wire_labels)\n",
    "        add = des_in.decrypt(des_out.decrypt(add)).decode()\n",
    "        \n",
    "        o4 = GarbledAnd()(carry,o1,wire_labels)\n",
    "        o4 = des_in.decrypt(des_out.decrypt(o4)).decode()\n",
    "        \n",
    "        o4 = wire_labels[wl[o4].replace('C', 'A')]\n",
    "        o2 = wire_labels[wl[o2].replace('C', 'B')]\n",
    "        \n",
    "        des_in = DES.new(o2, DES.MODE_ECB)\n",
    "        des_out = DES.new(o4, DES.MODE_ECB)\n",
    "        \n",
    "        cary = GarbledOr()(o4, o2, wire_labels)\n",
    "        cary = des_in.decrypt(des_out.decrypt(cary)).decode()\n",
    "        \n",
    "        cary = wire_labels[wl[cary].replace('C', 'A')]\n",
    "        return str(add), cary\n",
    "    \n",
    "    def __call__(self,a, b, wire_labels={}):\n",
    "        wl = dict(zip(wire_labels.values(),wire_labels.keys()))\n",
    "        carry = wire_labels['A_0']\n",
    "        out = []\n",
    "        for idx,i in reversed(list(enumerate(zip(a[:16],b[:16])))):\n",
    "            o,carry = self.add(i[0], i[1], carry, wire_labels)\n",
    "            out.append(o)\n",
    "        #print(out)\n",
    "        out = list(reversed(out))\n",
    "        return out + [ wire_labels[wl[i].replace('A','C')] for i in a[16:]]\n",
    "\n",
    "class GarbledSubtract(Gate):\n",
    "    \n",
    "    def __call__(self,a,b, wire_labels={}):\n",
    "        b2 = compute_twos_complement_garbled(b[:16],wire_labels)\n",
    "        b2 = b2 + b[16:]\n",
    "        return GarbledAdd()(a,b2,wire_labels)\n",
    "\n",
    "class GarbledMultiplication(Gate):\n",
    "\n",
    "    def __call__(self,a,b, wire_labels={}):\n",
    "        wl = dict(zip(wire_labels.values(),wire_labels.keys()))\n",
    "        s = [wire_labels['B_0']]*16\n",
    "        m = copy.copy(a[:16])\n",
    "        for i in reversed(b[:16]):\n",
    "            #print(m,s)\n",
    "            if '1' in wl[i]:     # when digit is one, add the intermediary product\n",
    "                s = GarbledAdd()(m, s, wire_labels)\n",
    "                s = [ wire_labels[wl[i].replace('C','B')] for i in s]\n",
    "            m = GarbledLeftShift()(m, 1, wire_labels)  # shift one per digit in b\n",
    "        #exponent = Add()(a[16:],b[16:])\n",
    "        s = [ wire_labels[wl[i].replace('B','C')] for i in s]\n",
    "        s = GarbledRightShift()(s,4,wire_labels) ## Shifting left by 4 places to get exponent back to 2^-4\n",
    "        return s+b[16:]\n",
    "        \n",
    "    def __call__(self,a, b):\n",
    "        reminder,reminder_prev = Subtract()(a[:16], b[:16]), copy.copy(a[:16])\n",
    "        quotient = Add()('0'*len(a[:16]), ((len(a[:16])-1)*'0')+'1')\n",
    "        while '1' in reminder:\n",
    "            reminder_prev = copy.copy(reminder)\n",
    "            reminder = Subtract()(reminder, b[:16])\n",
    "            #print(bin_to_int(reminder))\n",
    "            #quotient = Add()(quotient, '00000001')\n",
    "            if (bin_to_int(reminder) < 0 and bin_to_int(reminder_prev) > 0) or \\\n",
    "                (bin_to_int(reminder) > 0 and bin_to_int(reminder_prev) < 0):\n",
    "                break\n",
    "            quotient = Add()(quotient, ((len(a[:16])-1)*'0')+'1')\n",
    "        quotient = LeftShift()(quotient,4)\n",
    "        return quotient+a[16:]\n",
    "    \n",
    "class GarbledDivision(Gate):\n",
    "    \n",
    "    def __call__(self,a, b,wire_labels={}):\n",
    "        wl = dict(zip(wire_labels.values(),wire_labels.keys()))\n",
    "        reminder,reminder_prev = GarbledSubtract()(a[:16], b[:16], wire_labels), copy.copy(a[:16])\n",
    "        quotient = GarbledAdd()([wire_labels['A_0']]*16, ([wire_labels['B_0']] * 15)+[wire_labels['B_1']], wire_labels)\n",
    "        reminder = [ wire_labels[wl[val].replace('C', 'A')] for val in reminder]\n",
    "        while wire_labels['A_1'] in reminder:\n",
    "            reminder_prev = copy.copy(reminder)\n",
    "            reminder = GarbledSubtract()(reminder, b[:16], wire_labels)\n",
    "            reminder = [ wire_labels[wl[val].replace('C', 'A')] for val in reminder]\n",
    "            #print(bin_to_int(reminder))\n",
    "            #quotient = Add()(quotient, '00000001')\n",
    "            if (bin_to_int_garbled(reminder,wire_labels) < 0 and bin_to_int_garbled(reminder_prev,wire_labels) > 0) or \\\n",
    "                (bin_to_int_garbled(reminder,wire_labels) > 0 and bin_to_int_garbled(reminder_prev,wire_labels) < 0):\n",
    "                break\n",
    "            quotient = [ wire_labels[wl[val].replace('C', 'A')] for val in quotient]\n",
    "            quotient = GarbledAdd()(quotient, ([wire_labels['B_0']] * 15)+[wire_labels['B_1']], wire_labels)\n",
    "        quotient = GarbledLeftShift()(quotient,4, wire_labels)\n",
    "        return quotient+[ wire_labels[wl[val].replace('A', 'C')] for val in a[16:]]\n",
    "    \n",
    "class GarbledSqrt(Gate):\n",
    "    \n",
    "    def __call__(self,x,wire_labels={}):\n",
    "        wl = dict(zip(wire_labels.values(), wire_labels.keys()))\n",
    "        num = copy.copy(x[:16])\n",
    "        xx = bin_to_int_garbled(x[:16],wire_labels)\n",
    "        #e = [i for i in range(int(xx)) if pow(4,i)<=xx][-1]\n",
    "        e = [i for i in range(int(xx)) if pow(4,i)<=xx]\n",
    "        #e = e[-1] if e else 0\n",
    "        e = int_to_bin(pow(4,e[-1])) if e else '0'*len(num)\n",
    "        e = [wire_labels['B_'+str(i)] for i in e]\n",
    "        if len(e) < len(num):\n",
    "            e = GarbledPadZerosLeft()(e,len(num) - len(e),wire_labels)\n",
    "        r = [ wire_labels['A_0'] ]*len(e)\n",
    "        while wire_labels['B_1'] in e:\n",
    "            #temp = Add()(r, e, wire_labels)\n",
    "            #temp = [ wire_labels[wl[i].replace('C','A')] for i in temp]\n",
    "            #print(r,e)\n",
    "            if GarbledGreaterThanEqualTo()(num, GarbledAdd()(r, e, wire_labels), wire_labels):\n",
    "                #print('IF')\n",
    "                out = GarbledAdd()(r, e, wire_labels)\n",
    "                out = [ wire_labels[wl[i].replace('C','B')] for i in out]\n",
    "                num = GarbledSubtract()(num, out,wire_labels)\n",
    "                num = [ wire_labels[wl[i].replace('C','A')] for i in num]\n",
    "                r = GarbledAdd()(GarbledRightShift()(r, 1, wire_labels), e, wire_labels)\n",
    "                #print(r)\n",
    "                r = [ wire_labels[wl[i].replace('C','A')] for i in r]\n",
    "                #print(r)\n",
    "            else:\n",
    "                #print('ELSE')\n",
    "                r = GarbledRightShift()(r, 1, wire_labels)\n",
    "            e = GarbledRightShift()(e, 2, wire_labels)\n",
    "        r = GarbledLeftShift()(r,2, wire_labels)\n",
    "        return r + [ wire_labels[wl[i].replace('A','C')] for i in x[16:] ]\n",
    "    \n",
    "class GarbledCircuit(object):\n",
    "    def __init__(A,b):\n",
    "        self.A = A\n",
    "        self.b = b\n",
    "        \n",
    "    def generate_beta(self):\n",
    "        pass"
   ]
  },
  {
   "cell_type": "code",
   "execution_count": 128,
   "metadata": {
    "code_folding": [
     0
    ]
   },
   "outputs": [],
   "source": [
    "def poc_AddSubtractDivMultiSqrt():\n",
    "    add = Add()\n",
    "    print(add('010','011'))\n",
    "    print(Add()('010','011'))\n",
    "    print(Subtract()('010','001'))\n",
    "    print(Subtract()('111','010'))\n",
    "    print(Add()('111','010'))\n",
    "    print(bin_to_float(Add()(float_to_bin(1.5),float_to_bin(1.5))))\n",
    "    print(bin_to_float(float_to_bin(1.5)))\n",
    "    print(bin_to_float(float_to_bin(1.8)))\n",
    "    print(compute_twos_complement('0001'))\n",
    "    print(Multiplication()('1110','0001'))\n",
    "    print(Sqrt()('00010000'))\n",
    "    print(Sqrt()('00010000'))\n",
    "    print(Sqrt()('000100'))\n",
    "    print(Sqrt()('00100000'))\n",
    "    print(Sqrt()('0101'))\n",
    "    print(Division()('00000111','00000011')) \n",
    "    print(Division()('10000000','10000000'))\n",
    "    print(Division()('10000000','00000001'))\n",
    "    print(Division()('00000001','11111111')) ## Wrong\n",
    "    #print(Subtract()('10000000','00000001'))"
   ]
  },
  {
   "cell_type": "code",
   "execution_count": 56,
   "metadata": {
    "code_folding": []
   },
   "outputs": [],
   "source": [
    "#poc_AddSubtractDivMultiSqrt()"
   ]
  },
  {
   "cell_type": "code",
   "execution_count": 57,
   "metadata": {},
   "outputs": [
    {
     "data": {
      "text/plain": [
       "'https://www.electrical4u.com/2s-complement-arithmetic/'"
      ]
     },
     "execution_count": 57,
     "metadata": {},
     "output_type": "execute_result"
    }
   ],
   "source": [
    "'https://www.electrical4u.com/2s-complement-arithmetic/'"
   ]
  },
  {
   "cell_type": "code",
   "execution_count": 58,
   "metadata": {
    "code_folding": []
   },
   "outputs": [],
   "source": [
    "def cholesky_decomposition_binary(A):\n",
    "    d = A.shape[0]\n",
    "    L = A.copy()\n",
    "    #L = np.zeros(A.shape)\n",
    "    for i in range(d-1):\n",
    "        for j in range(i+1,d):\n",
    "            L[i][j] = '0'*24\n",
    "    for j in range(d):\n",
    "        for k in range(j-1):\n",
    "            for i in range(j,d):\n",
    "                out = Multiplication()(L[i][k], L[j][k])\n",
    "                L[i][j] = Subtract()(L[i][j], out) ## Need to bring -4 as exponent\n",
    "        L[j][j] = Sqrt()(L[j][j]) ## Need to bring -4 as exponent\n",
    "        for k in range(j+1,d):\n",
    "            L[k][j] = Division()(L[k][j],L[j][j]) ## Need to bring -4 as exponent\n",
    "    return L"
   ]
  },
  {
   "cell_type": "code",
   "execution_count": 59,
   "metadata": {
    "code_folding": [
     1
    ]
   },
   "outputs": [],
   "source": [
    "A2 = np.empty(A.shape,dtype=np.object)\n",
    "for i in range(A.shape[0]):\n",
    "    for j in range(A.shape[1]):\n",
    "        A2[i][j] = float_to_bin(A[i][j])"
   ]
  },
  {
   "cell_type": "code",
   "execution_count": 60,
   "metadata": {},
   "outputs": [],
   "source": [
    "#A2"
   ]
  },
  {
   "cell_type": "code",
   "execution_count": 61,
   "metadata": {
    "code_folding": [
     0
    ]
   },
   "outputs": [],
   "source": [
    "#A3 = np.empty(A2.shape,dtype=np.object)\n",
    "#for i in range(A2.shape[0]):\n",
    "#    for j in range(A2.shape[1]):\n",
    "#        A3[i][j] = bin_to_float(A2[i][j])"
   ]
  },
  {
   "cell_type": "code",
   "execution_count": 62,
   "metadata": {},
   "outputs": [],
   "source": [
    "#A,A3"
   ]
  },
  {
   "cell_type": "code",
   "execution_count": 63,
   "metadata": {},
   "outputs": [
    {
     "name": "stdout",
     "output_type": "stream",
     "text": [
      "CPU times: user 180 µs, sys: 13 µs, total: 193 µs\n",
      "Wall time: 199 µs\n",
      "48 96 144\n"
     ]
    }
   ],
   "source": [
    "%time ans = Add()('000000000110000011111100', '000000000011000011111100')\n",
    "print(bin_to_int('0000000000110000'),bin_to_int('0000000001100000'),bin_to_int(ans[:16]))"
   ]
  },
  {
   "cell_type": "code",
   "execution_count": 64,
   "metadata": {},
   "outputs": [
    {
     "name": "stdout",
     "output_type": "stream",
     "text": [
      "CPU times: user 667 µs, sys: 46 µs, total: 713 µs\n",
      "Wall time: 721 µs\n",
      "96 48 -48\n"
     ]
    }
   ],
   "source": [
    "%time ans = Subtract()(compute_twos_complement('000000000110000011111100'), compute_twos_complement('000000000011000011111100'))\n",
    "print(bin_to_int('0000000001100000'),bin_to_int('0000000000110000'),bin_to_int(ans[:16]))"
   ]
  },
  {
   "cell_type": "code",
   "execution_count": 65,
   "metadata": {},
   "outputs": [
    {
     "name": "stdout",
     "output_type": "stream",
     "text": [
      "CPU times: user 458 µs, sys: 0 ns, total: 458 µs\n",
      "Wall time: 427 µs\n",
      "6.0 3.0 18.0\n"
     ]
    }
   ],
   "source": [
    "%time ans = Multiplication()('000000000110000011111100', '000000000011000011111100')\n",
    "print(bin_to_float('000000000110000011111100'),bin_to_float('000000000011000011111100'),bin_to_float(ans))"
   ]
  },
  {
   "cell_type": "code",
   "execution_count": 66,
   "metadata": {},
   "outputs": [
    {
     "name": "stdout",
     "output_type": "stream",
     "text": [
      "CPU times: user 1 ms, sys: 70 µs, total: 1.07 ms\n",
      "Wall time: 1.08 ms\n",
      "6.0 3.0 2.0\n"
     ]
    }
   ],
   "source": [
    "%time ans = Division()('000000000110000011111100', '000000000011000011111100')\n",
    "print(bin_to_float('000000000110000011111100'),bin_to_float('000000000011000011111100'),bin_to_float(ans))"
   ]
  },
  {
   "cell_type": "code",
   "execution_count": 67,
   "metadata": {},
   "outputs": [
    {
     "name": "stdout",
     "output_type": "stream",
     "text": [
      "CPU times: user 2.7 ms, sys: 190 µs, total: 2.89 ms\n",
      "Wall time: 2.78 ms\n",
      "6.0 2.25\n"
     ]
    }
   ],
   "source": [
    "%time ans = Sqrt()('000000000110000011111100')\n",
    "print(bin_to_float('000000000110000011111100'),bin_to_float(ans))"
   ]
  },
  {
   "cell_type": "code",
   "execution_count": 68,
   "metadata": {},
   "outputs": [
    {
     "name": "stdout",
     "output_type": "stream",
     "text": [
      "CPU times: user 535 ms, sys: 3.49 ms, total: 538 ms\n",
      "Wall time: 546 ms\n"
     ]
    }
   ],
   "source": [
    "%time L2 = cholesky_decomposition_binary(A2)"
   ]
  },
  {
   "cell_type": "code",
   "execution_count": 69,
   "metadata": {},
   "outputs": [],
   "source": [
    "L3 = np.empty(L2.shape,dtype=np.object)\n",
    "for i in range(L2.shape[0]):\n",
    "    for j in range(L2.shape[1]):\n",
    "        L3[i][j] = bin_to_float(L2[i][j])"
   ]
  },
  {
   "cell_type": "code",
   "execution_count": 70,
   "metadata": {},
   "outputs": [
    {
     "data": {
      "text/plain": [
       "(array([[2.25, 0.0, 0.0, 0.0],\n",
       "        [1.0, 2.25, 0.0, 0.0],\n",
       "        [1.0, 2.0, 3.0, 0.0],\n",
       "        [3.0, 910.0, 1.0, 0.0]], dtype=object),\n",
       " array([[ 2.44948974,  0.        ,  0.        ,  0.        ],\n",
       "        [ 1.22474487,  2.12132034,  0.        ,  0.        ],\n",
       "        [ 1.63299316,  1.41421356,  2.30940108,  0.        ],\n",
       "        [ 3.26598632, -1.41421356,  1.58771324,  3.13249102]]),\n",
       " array([[2.4494898 , 0.        , 0.        , 0.        ],\n",
       "        [1.2247448 , 2.4494898 , 0.        , 0.        ],\n",
       "        [1.6329931 , 2.0412414 , 2.7080128 , 0.        ],\n",
       "        [3.2659862 , 0.40824828, 0.6154576 , 3.7638633 ]], dtype=float32))"
      ]
     },
     "execution_count": 70,
     "metadata": {},
     "output_type": "execute_result"
    }
   ],
   "source": [
    "L3,cholesky(A),cholesky_decomposition(A)"
   ]
  },
  {
   "cell_type": "code",
   "execution_count": 71,
   "metadata": {},
   "outputs": [
    {
     "data": {
      "text/plain": [
       "(array([[5.0625, 2.25, 2.25, 6.75],\n",
       "        [2.25, 6.0625, 5.5, 2050.5],\n",
       "        [2.25, 5.5, 14.0, 1826.0],\n",
       "        [6.75, 2050.5, 1826.0, 828110.0]], dtype=object),\n",
       " array([[ 6.,  3.,  4.,  8.],\n",
       "        [ 3.,  6.,  5.,  1.],\n",
       "        [ 4.,  5., 10.,  7.],\n",
       "        [ 8.,  1.,  7., 25.]], dtype=float32))"
      ]
     },
     "execution_count": 71,
     "metadata": {},
     "output_type": "execute_result"
    }
   ],
   "source": [
    "np.dot(L3,L3.T), A"
   ]
  },
  {
   "cell_type": "code",
   "execution_count": 72,
   "metadata": {
    "code_folding": [
     0
    ]
   },
   "outputs": [],
   "source": [
    "def back_substitution_lower_np(L,Y):\n",
    "    beta = np.empty(Y.shape,dtype=np.float32)\n",
    "    beta[0] = Y[0] / L[0][0]\n",
    "    for i in range(1,len(beta)):\n",
    "        s = 0.0\n",
    "        for j in range(i):\n",
    "            mul = L[i][j] * beta[j]\n",
    "            # print(i,j,L[i][j],beta[j],mul)\n",
    "            s += mul\n",
    "        #print(Y[i] / s)\n",
    "        beta[i] = Y[i] / s\n",
    "    return beta"
   ]
  },
  {
   "cell_type": "code",
   "execution_count": 73,
   "metadata": {
    "code_folding": [
     0
    ]
   },
   "outputs": [],
   "source": [
    "def back_substitution_garbled(L,Y):\n",
    "    beta = np.empty(Y.shape,dtype=np.float32)\n",
    "    beta[0] = Divide()(Y[0], L[0][0])\n",
    "    for i in range(1,len(beta)):\n",
    "        s = '0'*16 + '00000000'\n",
    "        for j in range(i):\n",
    "            mul = Multiplication()(L[i][j], beta[j])\n",
    "            s = Add()(s, mul)\n",
    "        beta[i] = Divide()(Y[i], s)\n",
    "    return beta"
   ]
  },
  {
   "cell_type": "code",
   "execution_count": 74,
   "metadata": {},
   "outputs": [
    {
     "name": "stdout",
     "output_type": "stream",
     "text": [
      "CPU times: user 464 µs, sys: 32 µs, total: 496 µs\n",
      "Wall time: 502 µs\n"
     ]
    },
    {
     "data": {
      "text/plain": [
       "array([ 0.4082483 ,  3.9999998 ,  0.47441927, -1.1203607 ], dtype=float32)"
      ]
     },
     "execution_count": 74,
     "metadata": {},
     "output_type": "execute_result"
    }
   ],
   "source": [
    "%time back_substitution_lower_np(cholesky(A),np.array([1.,2.,3.,4.]))"
   ]
  },
  {
   "cell_type": "code",
   "execution_count": 75,
   "metadata": {},
   "outputs": [
    {
     "data": {
      "text/plain": [
       "array([0, 1, 2, 3, 4])"
      ]
     },
     "execution_count": 75,
     "metadata": {},
     "output_type": "execute_result"
    }
   ],
   "source": [
    "pickle.loads(pickle.dumps(np.arange(5)))"
   ]
  },
  {
   "cell_type": "code",
   "execution_count": 76,
   "metadata": {},
   "outputs": [],
   "source": [
    "#pickle.dumps(np.arange(5))"
   ]
  },
  {
   "cell_type": "code",
   "execution_count": 32,
   "metadata": {
    "code_folding": []
   },
   "outputs": [],
   "source": [
    "class User(object):\n",
    "    def __init__(self):\n",
    "        df = pd.read_csv('auto-mpg.csv')\n",
    "        df = df[df['horsepower'] != '?']\n",
    "        cols = df.columns.tolist()\n",
    "        cols.remove('mpg')\n",
    "        cols.remove('car name')\n",
    "        self.X = df[cols].values.astype(np.float32)\n",
    "        self.y = df['mpg'].values.astype(np.float32)\n",
    "        self.X_train,self.X_test,self.y_train,self.y_test = train_test_split(self.X,self.y,train_size=.8,test_size=.2)\n",
    "        sc = StandardScaler()\n",
    "        self.X_train = sc.fit_transform(self.X_train)\n",
    "        self.X_test = sc.transform(self.X_test)\n",
    "        self.X_train = np.around(self.X_train,2)\n",
    "        self.X_test = np.around(self.X_test,2)\n",
    "        #self.temp = np.around(np.dot(self.X_train.T,self.X_train),2)\n",
    "        #print(np.around(np.dot(self.X_train.T,self.X_train),2))\n",
    "    \n",
    "    def paillier_encrypt(self, A_i, b_i, precision=2):\n",
    "        A_i_enc = np.zeros(A_i.shape,dtype=np.object)\n",
    "        for i in range(A_i.shape[0]):\n",
    "            for j in range(A_i.shape[1]):\n",
    "                #print(A_i[i][j])\n",
    "                A_i_enc[i][j] = self.public_key.encrypt(A_i[i][j],precision=precision)\n",
    "                \n",
    "        b_i_enc = np.zeros(b_i.shape,dtype=np.object)\n",
    "        for i in range(b_i.shape[0]):\n",
    "            b_i_enc[i] = self.public_key.encrypt(b_i[i],precision=precision)\n",
    "        \n",
    "        return A_i_enc, b_i_enc\n",
    "    \n",
    "    def calculate(self):\n",
    "        self.c = []\n",
    "        #print(self.X_train.shape,self.y_train.shape)\n",
    "        for x_i,y_i in zip(self.X_train,self.y_train):\n",
    "            #print(x_i, y_i)\n",
    "            A_i = np.dot(x_i.reshape(len(x_i), 1), x_i.reshape(len(x_i), 1).T)\n",
    "            b_i = x_i * y_i\n",
    "            #print(A_i.shape, b_i.shape)\n",
    "            c_i = self.paillier_encrypt(A_i, b_i, precision=2)\n",
    "            self.c.append(c_i)\n",
    "        #c_mu = self.paillier_encrypt(self.mu_A, self.mu_b, precision=2)\n",
    "        #self.c.append(c_mu)\n",
    "        return self.c"
   ]
  },
  {
   "cell_type": "code",
   "execution_count": null,
   "metadata": {
    "code_folding": []
   },
   "outputs": [],
   "source": [
    "class CSP(object):\n",
    "    def __init__(self):\n",
    "        self.public_key, self.private_key = paillier.generate_paillier_keypair()\n",
    "        self.mu_Af, self.mu_bf = np.random.randn((7,7)), np.random.randn(7)\n",
    "    \n",
    "    def paillier_decrypt(self,c_i,precision=2):\n",
    "        #c = user.calculate_and_send_to_evaluater()\n",
    "        A_hat, b_hat = np.empty(c_i[0].shape, dtype=np.object), np.empty(c_i[1].shape, dtype=np.object)\n",
    "        for i in range(c_i[0].shape[0]):\n",
    "            for j in range(c_i[0].shape[0]):\n",
    "                A_hat[i][j] = self.private_key.decrypt(c_i[0][i][j])\n",
    "\n",
    "        for j in range(c_i[1].shape[0]):\n",
    "                b_hat[j] = self.private_key.decrypt(c_i[1][j])\n",
    "        \n",
    "        return A_hat, b_hat\n",
    "    \n",
    "    def garble_input(self):\n",
    "        wire_labels = {}\n",
    "        wire_labels['A_0'] = token_hex(4)\n",
    "        wire_labels['A_1'] = token_hex(4)\n",
    "        wire_labels['B_0'] = token_hex(4)\n",
    "        wire_labels['B_1'] = token_hex(4)\n",
    "        wire_labels['C_0'] = token_hex(4)\n",
    "        wire_labels['C_1'] = token_hex(4)\n",
    "        \n",
    "        #self.c_i = self.sock.receive()\n",
    "        \n",
    "        self.A_hat, self.b_hat = self.paillier_decrypt(self.c_i)\n",
    "        \n",
    "        #self.mu_A, self.mu_b = np.empty(self.mu_Af.shape,dtype=np.object), np.empty(self.mu_bf.shape,dtype=np.object)\n",
    "        \n",
    "        for i in range(self.mu_A.shape[0]):\n",
    "            for j in range(self.mu_A.shape[1]):\n",
    "                self.mu_A[i][j] = float_to_bin(self.mu_Af[i][j])\n",
    "        \n",
    "        for i in range(self.mu_b.shape[0]):\n",
    "            self.mu_b[i] = float_to_bin(self.mu_bf[i])\n",
    "        \n",
    "        A_hat_garbled = np.empty(self.A_hat.shape + (24,),dtype = np.object)\n",
    "        b_hat_garbled = np.empty(self.b_hat.shape + (24,),dtype = np.object)\n",
    "        mu_A_garbled = np.empty(self.A_hat.shape + (24,),dtype = np.object)\n",
    "        mu_b_garbled = np.empty(self.b_hat.shape + (24,),dtype = np.object)\n",
    "        \n",
    "        for i in range(self.A_hat.shape[0]):\n",
    "            for j in range(self.b_hat.shape[1]):\n",
    "                A_hat_garbled[i][j] = np.array([(wire_labels['A_0'] if k=='0' else wire_labels['A_1']) for k in self.A_hat[i][j]])\n",
    "        \n",
    "        for i in range(self.b_hat.shape[0]):\n",
    "            b_hat_garbled[i] = A_hat_garbled[i][j] = np.array([(wire_labels['A_0'] if k=='0' else wire_labels['A_1']) for k in self.b_hat[i]])\n",
    "            \n",
    "        for i in range(self.A_hat.shape[0]):\n",
    "            for j in range(self.b_hat.shape[1]):\n",
    "                mu_A_garbled[i][j] = np.array([(wire_labels['B_0'] if k=='0' else wire_labels['B_1']) for k in self.A_hat[i][j]])\n",
    "        \n",
    "        for i in range(self.b_har.shape[0]):\n",
    "            mu_b_garbled[i] = A_hat_garbled[i][j] = np.array([(wire_labels['B_0'] if k=='0' else wire_labels['B_1']) for k in self.b_hat[i]])\n",
    "        \n",
    "        \n",
    "        #return self.send_to_evaluator(A_hat_garbled,b_hat_garbled,mu_A_garbled,mu_b_garbled,wire_labels,mu_Af,mu_bf)\n",
    "        return {\n",
    "            'A_HAT_GARBLED':A_hat_garbled,\n",
    "            'B_HAT_GARBLED': b_hat_garbled,\n",
    "            'MU_A_GARBLED' : mu_A_garbled,\n",
    "            'MU_B_GARBLED' : mu_b_garbled,\n",
    "            'WIRE_LABELS'  : wire_labels,\n",
    "            'PUBLIC KEY'   : self.public_key,\n",
    "            'MU_AF'        : mu_Af,\n",
    "            'MU_BF'        : mu_bf\n",
    "         }\n",
    "        \n",
    "    def send_to_evaluator(self,A_hat_garbled,b_hat_garbled,mu_A_garbled,mu_b_garbled,wire_labels,mu_Af,mu_bf):\n",
    "        return {\n",
    "            'A_HAT_GARBLED':A_hat_garbled,\n",
    "            'B_HAT_GARBLED': b_hat_garbled,\n",
    "            'MU_A_GARBLED' : mu_A_garbled,\n",
    "            'MU_B_GARBLED' : mu_b_garbled,\n",
    "            'WIRE_LABELS'  : wire_labels,\n",
    "            'PUBLIC KEY'   : self.public_key,\n",
    "            'MU_AF'        : mu_Af,\n",
    "            'MU_BF'        : mu_bf\n",
    "        }"
   ]
  },
  {
   "cell_type": "code",
   "execution_count": 34,
   "metadata": {
    "code_folding": []
   },
   "outputs": [],
   "source": [
    "class Evaluator(object):\n",
    "    def __init__(self):\n",
    "        #self.A_hat = \n",
    "        pass\n",
    "    \n",
    "    def receive_c_hat_values(self):\n",
    "        pass    \n",
    "    \n",
    "    def calculate_c_hat(self):\n",
    "        As,bs = zip(*self.c)\n",
    "        c_final = sum(As),sum(bs)\n",
    "        c_final = c_final[0]+self.mu_Af,c_final[1]+self.mu_bf\n",
    "        return c_final\n",
    "    \n",
    "    def send_c_hat_to_csp_for_decryption(self):\n",
    "        pass\n",
    "    \n",
    "    def convert_to_float(self,a,two_dimension=True):\n",
    "        out = np.empty(a.shape,dtype=np.float)\n",
    "        wl = dict(zip(self.wire_labels.values(),wire_labels.keys()))\n",
    "        if two_dimension:\n",
    "            for i in range(a.shape[0]):\n",
    "                for j in range(a.shape[1]):\n",
    "                    out[i][j] = bin_to_float(''.join([ wl[k].split('_')[-1] for k in a[i][j] ]))\n",
    "        else:\n",
    "            for i in range(a.shape[0]):\n",
    "                out[i] = bin_to_float(''.join([ wl[k].split('_')[-1] for k in a[i] ]))\n",
    "                \n",
    "        return out\n",
    "        \n",
    "    def calculate_beta(self):\n",
    "        ## Subtract mu_A and mu_B from A_hat and b_hat\n",
    "        A_garbled = np.empty(self.A_hat_garbled.shape,dtype=np.object)\n",
    "        b_garbled = np.empty(self.b_hat_garbled.shape,dtype=np.object)\n",
    "        \n",
    "        for i in range(self.A_hat_garbled.shape[0]):\n",
    "            for j in range(self.A_hat_garbled.shape[1]):\n",
    "                A_garbled[i][j] = np.array(GarbledSubtract(self.A_hat_garbled[i][j]),self.mu_A_garbled[i][j],self.wire_labels)\n",
    "        \n",
    "        for i in range(self.b_hat_garbled.shape[0]):\n",
    "            b_garbled[i][j] = np.array(GarbledSubtract(self.b_hat_garbled[i],self.mu_b_garbled[i], self.wire_labels))\n",
    "        \n",
    "        print(self.convert_to_float(A_garbled, wire_labels))\n",
    "        print(self.convert_to_float(b_garbled, wire_labels,False))\n",
    "        ## Get L using A with algo cholesky\n",
    "        wl = dict(zip(self.wire_labels.values(), self.wire_labels.keys()))\n",
    "        d = A_garbled.shape[0]\n",
    "        L = A_garbled.copy()\n",
    "        for i in range(A_garbled.shape[0]):\n",
    "            for j in range(A_garbled.shape[1]):\n",
    "                L[i][j] = np.array([wire_labels(wl[i].replace('C','A')) for i in L[i][j]])\n",
    "        #L = np.zeros(A.shape)\n",
    "        for i in range(d-1):\n",
    "            for j in range(i+1,d):\n",
    "                L[i][j] = self.wire_labels['A_0']*24\n",
    "        for j in range(d):\n",
    "            for k in range(j-1):\n",
    "                for i in range(j,d):\n",
    "                    ljk = np.array([wire_labels(wl[i].replace('A','B')) for i in L[j][k]])\n",
    "                    out = GarbledMultiplication()(L[i][k], L[j][k],self.wire_labels)\n",
    "                    out = np.array([wire_labels(wl[i].replace('C','B')) for i in out])\n",
    "                    L[i][j] = GarbledSubtract()(L[i][j], out) ## Need to bring -4 as exponent\n",
    "                    L[i][j] = np.array([wire_labels(wl[i].replace('C','A')) for i in L[i][j]])\n",
    "        \n",
    "            L[j][j] = GarbledSqrt()(L[j][j],self.wire_labels) ## Need to bring -4 as exponent\n",
    "            L[j][j] = np.array([wire_labels(wl[i].replace('C','A')) for i in L[j][j]])\n",
    "            \n",
    "            for k in range(j+1,d):\n",
    "                ljj = np.array([self.wire_labels(wl[i].replace('A','B')) for i in L[j][j]])\n",
    "                L[k][j] = GarbledDivision()(L[k][j], ljj, self.wire_labels) ## Need to bring -4 as exponent\n",
    "                L[k][j] = np.array([self.wire_labels(wl[i].replace('C','A')) for i in L[k][j]])\n",
    "        \n",
    "        print(self.convert_to_float(L, wire_labels))\n",
    "        ## Use back substitution algo to get individual values of Y    : L.T * Y = b\n",
    "        LT = L.transpose(1,0,2)\n",
    "        Y  = np.empty(self.b_garbled.shape,dtype=np.object)\n",
    "        Y[d-1] = GarbledDivide()(b[d-1], LT[d-1][d-1], self.wire_labels)\n",
    "        Y[d-1] = np.array([self.wire_labels(wl[i].replace('C','B')) for i in Y[d-1]])\n",
    "        for i in reversed(range(len(d-1))):\n",
    "            s = [ wire_labels['A_0'] ] * 24\n",
    "            for j in range(i+1,d):\n",
    "                temp_lij = np.array([self.wire_labels(wl[i].replace('C','A')) for i in LT[i][j]])\n",
    "                mul = GarbledMultiplication()(temp_lij, Y[j], self.wire_labels)\n",
    "                mul = np.array([self.wire_labels(wl[i].replace('C','B')) for i in mul])\n",
    "                \n",
    "                s = GarbledAdd()(s, mul, self.wire_labels)\n",
    "                s = np.array([self.wire_labels(wl[i].replace('C','A')) for i in s])\n",
    "                \n",
    "            s = np.array([self.wire_labels(wl[i].replace('A','B')) for i in s])\n",
    "            bi = np.array([self.wire_labels(wl[i].replace('C','A')) for i in b_garbled[i]])\n",
    "            Y[i] = GarbledDivide()(bi, s, self.wire_labels)\n",
    "            Y[i] = np.array([self.wire_labels(wl[i].replace('C','B')) for i in Y[i]])\n",
    "          \n",
    "        print(self.convert_to_float(Y, self.wire_labels))\n",
    "        ## Use back substitution algo to get individual values of beta : L*beta = Y\n",
    "        \n",
    "        beta = np.empty(Y.shape,dtype=np.float32)\n",
    "        beta[0] = GarbledDivide()(Y[0], L[0][0], self.wire_labels)\n",
    "        beta[0] = np.array([self.wire_labels(wl[i].replace('C','B')) for i in beta[0]])\n",
    "        for i in range(1,len(beta)):\n",
    "            s = [ wire_labels['A_0'] ] * 24\n",
    "            for j in range(i):\n",
    "                temp_lij = np.array([self.wire_labels(wl[i].replace('C','A')) for i in L[i][j]])\n",
    "                mul = Multiplication()(temp_lij, beta[j], self.wire_labels)\n",
    "                mul = np.array([self.wire_labels(wl[i].replace('C','B')) for i in mul])\n",
    "                \n",
    "                s = GarbledAdd()(s, mul, self.wire_labels)\n",
    "                s = np.array([self.wire_labels(wl[i].replace('C','A')) for i in s])\n",
    "                \n",
    "            s = np.array([self.wire_labels(wl[i].replace('A','B')) for i in s])\n",
    "            yi = np.array([self.wire_labels(wl[i].replace('B','A')) for i in Y[i]])\n",
    "            beta[i] = GarbledDivide()(yi, s, self.wire_labels)\n",
    "            \n",
    "        print(self.convert_to_float(beta, wire_labels))\n",
    "        return beta, self.wire_labels"
   ]
  },
  {
   "cell_type": "code",
   "execution_count": 8,
   "metadata": {},
   "outputs": [
    {
     "ename": "NameError",
     "evalue": "name 'token_hex' is not defined",
     "output_type": "error",
     "traceback": [
      "\u001b[0;31m---------------------------------------------------------------------------\u001b[0m",
      "\u001b[0;31mNameError\u001b[0m                                 Traceback (most recent call last)",
      "\u001b[0;32m<ipython-input-8-307efaddce8b>\u001b[0m in \u001b[0;36m<module>\u001b[0;34m()\u001b[0m\n\u001b[1;32m      1\u001b[0m \u001b[0mwire_labels\u001b[0m \u001b[0;34m=\u001b[0m \u001b[0;34m{\u001b[0m\u001b[0;34m}\u001b[0m\u001b[0;34m\u001b[0m\u001b[0m\n\u001b[0;32m----> 2\u001b[0;31m \u001b[0mwire_labels\u001b[0m\u001b[0;34m[\u001b[0m\u001b[0;34m'A_0'\u001b[0m\u001b[0;34m]\u001b[0m \u001b[0;34m=\u001b[0m \u001b[0mtoken_hex\u001b[0m\u001b[0;34m(\u001b[0m\u001b[0;36m4\u001b[0m\u001b[0;34m)\u001b[0m\u001b[0;34m\u001b[0m\u001b[0m\n\u001b[0m\u001b[1;32m      3\u001b[0m \u001b[0mwire_labels\u001b[0m\u001b[0;34m[\u001b[0m\u001b[0;34m'A_1'\u001b[0m\u001b[0;34m]\u001b[0m \u001b[0;34m=\u001b[0m \u001b[0mtoken_hex\u001b[0m\u001b[0;34m(\u001b[0m\u001b[0;36m4\u001b[0m\u001b[0;34m)\u001b[0m\u001b[0;34m\u001b[0m\u001b[0m\n\u001b[1;32m      4\u001b[0m \u001b[0mwire_labels\u001b[0m\u001b[0;34m[\u001b[0m\u001b[0;34m'B_0'\u001b[0m\u001b[0;34m]\u001b[0m \u001b[0;34m=\u001b[0m \u001b[0mtoken_hex\u001b[0m\u001b[0;34m(\u001b[0m\u001b[0;36m4\u001b[0m\u001b[0;34m)\u001b[0m\u001b[0;34m\u001b[0m\u001b[0m\n\u001b[1;32m      5\u001b[0m \u001b[0mwire_labels\u001b[0m\u001b[0;34m[\u001b[0m\u001b[0;34m'B_1'\u001b[0m\u001b[0;34m]\u001b[0m \u001b[0;34m=\u001b[0m \u001b[0mtoken_hex\u001b[0m\u001b[0;34m(\u001b[0m\u001b[0;36m4\u001b[0m\u001b[0;34m)\u001b[0m\u001b[0;34m\u001b[0m\u001b[0m\n",
      "\u001b[0;31mNameError\u001b[0m: name 'token_hex' is not defined"
     ]
    }
   ],
   "source": [
    "wire_labels = {}\n",
    "wire_labels['A_0'] = token_hex(4)\n",
    "wire_labels['A_1'] = token_hex(4)\n",
    "wire_labels['B_0'] = token_hex(4)\n",
    "wire_labels['B_1'] = token_hex(4)\n",
    "wire_labels['C_0'] = token_hex(4)\n",
    "wire_labels['C_1'] = token_hex(4)\n",
    "a = '000000000110000011111100'\n",
    "b = '000000000011000011111100'\n",
    "a1 = [wire_labels['A_'+i] for i in a]\n",
    "b1 = [wire_labels['B_'+i] for i in b]\n",
    "\n",
    "%time ans = GarbledAdd()(a1, b1,wire_labels)\n",
    "#print(bin_to_int('0000000000110000'),bin_to_int('0000000001100000'),bin_to_int(ans[:16]))"
   ]
  },
  {
   "cell_type": "code",
   "execution_count": 81,
   "metadata": {},
   "outputs": [
    {
     "name": "stdout",
     "output_type": "stream",
     "text": [
      "48 96 144\n"
     ]
    }
   ],
   "source": [
    "wl = dict(zip(wire_labels.values(),wire_labels.keys()))\n",
    "''.join([wl[i].split('_')[-1] for i in ans])\n",
    "print(bin_to_int('0000000000110000'),bin_to_int('0000000001100000'),bin_to_int(''.join([wl[i].split('_')[-1] for i in ans])[:16]))"
   ]
  },
  {
   "cell_type": "code",
   "execution_count": 82,
   "metadata": {},
   "outputs": [
    {
     "name": "stdout",
     "output_type": "stream",
     "text": [
      "CPU times: user 48.2 ms, sys: 540 µs, total: 48.8 ms\n",
      "Wall time: 50 ms\n",
      "48 96 48\n"
     ]
    }
   ],
   "source": [
    "%time ans = GarbledSubtract()(a1, b1,wire_labels)\n",
    "print(bin_to_int('0000000000110000'),bin_to_int('0000000001100000'),bin_to_int(''.join([wl[i].split('_')[-1] for i in ans])[:16]))"
   ]
  },
  {
   "cell_type": "code",
   "execution_count": 83,
   "metadata": {},
   "outputs": [
    {
     "name": "stdout",
     "output_type": "stream",
     "text": [
      "CPU times: user 61.5 ms, sys: 3.83 ms, total: 65.3 ms\n",
      "Wall time: 63.7 ms\n",
      "48 96 145\n"
     ]
    }
   ],
   "source": [
    "%time ans = GarbledSubtract()(a1, compute_twos_complement_garbled(b1,wire_labels),wire_labels)\n",
    "print(bin_to_int('0000000000110000'),bin_to_int('0000000001100000'),bin_to_int(''.join([wl[i].split('_')[-1] for i in ans])[:16]))"
   ]
  },
  {
   "cell_type": "code",
   "execution_count": 85,
   "metadata": {},
   "outputs": [
    {
     "name": "stdout",
     "output_type": "stream",
     "text": [
      "CPU times: user 39 ms, sys: 3.94 ms, total: 43 ms\n",
      "Wall time: 42.9 ms\n",
      "6.0 3.0 18.0\n"
     ]
    }
   ],
   "source": [
    "%time ans = GarbledMultiplication()(a1, b1,wire_labels)\n",
    "print(bin_to_float('000000000110000011111100'),bin_to_float('000000000011000011111100'),bin_to_float(''.join([wl[i].split('_')[-1] for i in ans])))"
   ]
  },
  {
   "cell_type": "code",
   "execution_count": 132,
   "metadata": {},
   "outputs": [
    {
     "name": "stdout",
     "output_type": "stream",
     "text": [
      "CPU times: user 129 ms, sys: 0 ns, total: 129 ms\n",
      "Wall time: 129 ms\n",
      "6.0 3.0 2.0\n"
     ]
    }
   ],
   "source": [
    "%time ans = GarbledDivision()(a1, b1,wire_labels)\n",
    "print(bin_to_float('000000000110000011111100'),bin_to_float('000000000011000011111100'),bin_to_float(''.join([wl[i].split('_')[-1] for i in ans])))"
   ]
  },
  {
   "cell_type": "code",
   "execution_count": 133,
   "metadata": {},
   "outputs": [
    {
     "name": "stdout",
     "output_type": "stream",
     "text": [
      "CPU times: user 254 ms, sys: 0 ns, total: 254 ms\n",
      "Wall time: 257 ms\n",
      "6.0 3.0 2.25\n"
     ]
    }
   ],
   "source": [
    "%time ans = GarbledSqrt()(a1,wire_labels)\n",
    "print(bin_to_float('000000000110000011111100'),bin_to_float('000000000011000011111100'),bin_to_float(''.join([wl[i].split('_')[-1] for i in ans])))"
   ]
  },
  {
   "cell_type": "code",
   "execution_count": 124,
   "metadata": {},
   "outputs": [],
   "source": [
    "#wire_labels"
   ]
  },
  {
   "cell_type": "code",
   "execution_count": 3,
   "metadata": {},
   "outputs": [
    {
     "data": {
      "text/plain": [
       "(1, 2, 3)"
      ]
     },
     "execution_count": 3,
     "metadata": {},
     "output_type": "execute_result"
    }
   ],
   "source": [
    "(1,2) + (3,)"
   ]
  },
  {
   "cell_type": "code",
   "execution_count": 8,
   "metadata": {},
   "outputs": [
    {
     "data": {
      "text/plain": [
       "[4, 3, 2, 1, 0]"
      ]
     },
     "execution_count": 8,
     "metadata": {},
     "output_type": "execute_result"
    }
   ],
   "source": [
    "list(reversed(list(range(5))))"
   ]
  },
  {
   "cell_type": "code",
   "execution_count": 9,
   "metadata": {},
   "outputs": [],
   "source": [
    "a = np.arange(6).reshape(1,2,3)"
   ]
  },
  {
   "cell_type": "code",
   "execution_count": 12,
   "metadata": {},
   "outputs": [
    {
     "data": {
      "text/plain": [
       "(2, 1, 3)"
      ]
     },
     "execution_count": 12,
     "metadata": {},
     "output_type": "execute_result"
    }
   ],
   "source": [
    "a.transpose(1,0,2).shape"
   ]
  },
  {
   "cell_type": "code",
   "execution_count": 35,
   "metadata": {},
   "outputs": [],
   "source": [
    "user = User()"
   ]
  },
  {
   "cell_type": "code",
   "execution_count": null,
   "metadata": {},
   "outputs": [],
   "source": [
    "csp = CSP()"
   ]
  },
  {
   "cell_type": "code",
   "execution_count": null,
   "metadata": {},
   "outputs": [],
   "source": [
    "evaluator = Evaluator()"
   ]
  },
  {
   "cell_type": "code",
   "execution_count": 37,
   "metadata": {},
   "outputs": [
    {
     "ename": "KeyboardInterrupt",
     "evalue": "",
     "output_type": "error",
     "traceback": [
      "\u001b[0;31m---------------------------------------------------------------------------\u001b[0m",
      "\u001b[0;31mKeyboardInterrupt\u001b[0m                         Traceback (most recent call last)",
      "\u001b[0;32m<ipython-input-37-5f82ae97d557>\u001b[0m in \u001b[0;36m<module>\u001b[0;34m()\u001b[0m\n\u001b[1;32m      1\u001b[0m \u001b[0muser\u001b[0m\u001b[0;34m.\u001b[0m\u001b[0mpublic_key\u001b[0m \u001b[0;34m=\u001b[0m \u001b[0mcsp\u001b[0m\u001b[0;34m.\u001b[0m\u001b[0mpublic_key\u001b[0m\u001b[0;34m\u001b[0m\u001b[0m\n\u001b[0;32m----> 2\u001b[0;31m \u001b[0mc\u001b[0m \u001b[0;34m=\u001b[0m \u001b[0muser\u001b[0m\u001b[0;34m.\u001b[0m\u001b[0mcalculate\u001b[0m\u001b[0;34m(\u001b[0m\u001b[0;34m)\u001b[0m\u001b[0;34m\u001b[0m\u001b[0m\n\u001b[0m",
      "\u001b[0;32m<ipython-input-32-df90a99f310b>\u001b[0m in \u001b[0;36mcalculate\u001b[0;34m(self)\u001b[0m\n\u001b[1;32m     38\u001b[0m             \u001b[0mb_i\u001b[0m \u001b[0;34m=\u001b[0m \u001b[0mx_i\u001b[0m \u001b[0;34m*\u001b[0m \u001b[0my_i\u001b[0m\u001b[0;34m\u001b[0m\u001b[0m\n\u001b[1;32m     39\u001b[0m             \u001b[0;31m#print(A_i.shape, b_i.shape)\u001b[0m\u001b[0;34m\u001b[0m\u001b[0;34m\u001b[0m\u001b[0m\n\u001b[0;32m---> 40\u001b[0;31m             \u001b[0mc_i\u001b[0m \u001b[0;34m=\u001b[0m \u001b[0mself\u001b[0m\u001b[0;34m.\u001b[0m\u001b[0mpaillier_encrypt\u001b[0m\u001b[0;34m(\u001b[0m\u001b[0mA_i\u001b[0m\u001b[0;34m,\u001b[0m \u001b[0mb_i\u001b[0m\u001b[0;34m,\u001b[0m \u001b[0mprecision\u001b[0m\u001b[0;34m=\u001b[0m\u001b[0;36m2\u001b[0m\u001b[0;34m)\u001b[0m\u001b[0;34m\u001b[0m\u001b[0m\n\u001b[0m\u001b[1;32m     41\u001b[0m             \u001b[0mself\u001b[0m\u001b[0;34m.\u001b[0m\u001b[0mc\u001b[0m\u001b[0;34m.\u001b[0m\u001b[0mappend\u001b[0m\u001b[0;34m(\u001b[0m\u001b[0mc_i\u001b[0m\u001b[0;34m)\u001b[0m\u001b[0;34m\u001b[0m\u001b[0m\n\u001b[1;32m     42\u001b[0m         \u001b[0;31m#c_mu = self.paillier_encrypt(self.mu_A, self.mu_b, precision=2)\u001b[0m\u001b[0;34m\u001b[0m\u001b[0;34m\u001b[0m\u001b[0m\n",
      "\u001b[0;32m<ipython-input-32-df90a99f310b>\u001b[0m in \u001b[0;36mpaillier_encrypt\u001b[0;34m(self, A_i, b_i, precision)\u001b[0m\n\u001b[1;32m     22\u001b[0m             \u001b[0;32mfor\u001b[0m \u001b[0mj\u001b[0m \u001b[0;32min\u001b[0m \u001b[0mrange\u001b[0m\u001b[0;34m(\u001b[0m\u001b[0mA_i\u001b[0m\u001b[0;34m.\u001b[0m\u001b[0mshape\u001b[0m\u001b[0;34m[\u001b[0m\u001b[0;36m1\u001b[0m\u001b[0;34m]\u001b[0m\u001b[0;34m)\u001b[0m\u001b[0;34m:\u001b[0m\u001b[0;34m\u001b[0m\u001b[0m\n\u001b[1;32m     23\u001b[0m                 \u001b[0;31m#print(A_i[i][j])\u001b[0m\u001b[0;34m\u001b[0m\u001b[0;34m\u001b[0m\u001b[0m\n\u001b[0;32m---> 24\u001b[0;31m                 \u001b[0mA_i_enc\u001b[0m\u001b[0;34m[\u001b[0m\u001b[0mi\u001b[0m\u001b[0;34m]\u001b[0m\u001b[0;34m[\u001b[0m\u001b[0mj\u001b[0m\u001b[0;34m]\u001b[0m \u001b[0;34m=\u001b[0m \u001b[0mself\u001b[0m\u001b[0;34m.\u001b[0m\u001b[0mpublic_key\u001b[0m\u001b[0;34m.\u001b[0m\u001b[0mencrypt\u001b[0m\u001b[0;34m(\u001b[0m\u001b[0mA_i\u001b[0m\u001b[0;34m[\u001b[0m\u001b[0mi\u001b[0m\u001b[0;34m]\u001b[0m\u001b[0;34m[\u001b[0m\u001b[0mj\u001b[0m\u001b[0;34m]\u001b[0m\u001b[0;34m,\u001b[0m\u001b[0mprecision\u001b[0m\u001b[0;34m=\u001b[0m\u001b[0mprecision\u001b[0m\u001b[0;34m)\u001b[0m\u001b[0;34m\u001b[0m\u001b[0m\n\u001b[0m\u001b[1;32m     25\u001b[0m \u001b[0;34m\u001b[0m\u001b[0m\n\u001b[1;32m     26\u001b[0m         \u001b[0mb_i_enc\u001b[0m \u001b[0;34m=\u001b[0m \u001b[0mnp\u001b[0m\u001b[0;34m.\u001b[0m\u001b[0mzeros\u001b[0m\u001b[0;34m(\u001b[0m\u001b[0mb_i\u001b[0m\u001b[0;34m.\u001b[0m\u001b[0mshape\u001b[0m\u001b[0;34m,\u001b[0m\u001b[0mdtype\u001b[0m\u001b[0;34m=\u001b[0m\u001b[0mnp\u001b[0m\u001b[0;34m.\u001b[0m\u001b[0mobject\u001b[0m\u001b[0;34m)\u001b[0m\u001b[0;34m\u001b[0m\u001b[0m\n",
      "\u001b[0;32m~/anaconda2/envs/p3/lib/python3.6/site-packages/phe/paillier.py\u001b[0m in \u001b[0;36mencrypt\u001b[0;34m(self, value, precision, r_value)\u001b[0m\n\u001b[1;32m    169\u001b[0m             \u001b[0mencoding\u001b[0m \u001b[0;34m=\u001b[0m \u001b[0mEncodedNumber\u001b[0m\u001b[0;34m.\u001b[0m\u001b[0mencode\u001b[0m\u001b[0;34m(\u001b[0m\u001b[0mself\u001b[0m\u001b[0;34m,\u001b[0m \u001b[0mvalue\u001b[0m\u001b[0;34m,\u001b[0m \u001b[0mprecision\u001b[0m\u001b[0;34m)\u001b[0m\u001b[0;34m\u001b[0m\u001b[0m\n\u001b[1;32m    170\u001b[0m \u001b[0;34m\u001b[0m\u001b[0m\n\u001b[0;32m--> 171\u001b[0;31m         \u001b[0;32mreturn\u001b[0m \u001b[0mself\u001b[0m\u001b[0;34m.\u001b[0m\u001b[0mencrypt_encoded\u001b[0m\u001b[0;34m(\u001b[0m\u001b[0mencoding\u001b[0m\u001b[0;34m,\u001b[0m \u001b[0mr_value\u001b[0m\u001b[0;34m)\u001b[0m\u001b[0;34m\u001b[0m\u001b[0m\n\u001b[0m\u001b[1;32m    172\u001b[0m \u001b[0;34m\u001b[0m\u001b[0m\n\u001b[1;32m    173\u001b[0m     \u001b[0;32mdef\u001b[0m \u001b[0mencrypt_encoded\u001b[0m\u001b[0;34m(\u001b[0m\u001b[0mself\u001b[0m\u001b[0;34m,\u001b[0m \u001b[0mencoding\u001b[0m\u001b[0;34m,\u001b[0m \u001b[0mr_value\u001b[0m\u001b[0;34m)\u001b[0m\u001b[0;34m:\u001b[0m\u001b[0;34m\u001b[0m\u001b[0m\n",
      "\u001b[0;32m~/anaconda2/envs/p3/lib/python3.6/site-packages/phe/paillier.py\u001b[0m in \u001b[0;36mencrypt_encoded\u001b[0;34m(self, encoding, r_value)\u001b[0m\n\u001b[1;32m    187\u001b[0m         \u001b[0mencrypted_number\u001b[0m \u001b[0;34m=\u001b[0m \u001b[0mEncryptedNumber\u001b[0m\u001b[0;34m(\u001b[0m\u001b[0mself\u001b[0m\u001b[0;34m,\u001b[0m \u001b[0mciphertext\u001b[0m\u001b[0;34m,\u001b[0m \u001b[0mencoding\u001b[0m\u001b[0;34m.\u001b[0m\u001b[0mexponent\u001b[0m\u001b[0;34m)\u001b[0m\u001b[0;34m\u001b[0m\u001b[0m\n\u001b[1;32m    188\u001b[0m         \u001b[0;32mif\u001b[0m \u001b[0mr_value\u001b[0m \u001b[0;32mis\u001b[0m \u001b[0;32mNone\u001b[0m\u001b[0;34m:\u001b[0m\u001b[0;34m\u001b[0m\u001b[0m\n\u001b[0;32m--> 189\u001b[0;31m             \u001b[0mencrypted_number\u001b[0m\u001b[0;34m.\u001b[0m\u001b[0mobfuscate\u001b[0m\u001b[0;34m(\u001b[0m\u001b[0;34m)\u001b[0m\u001b[0;34m\u001b[0m\u001b[0m\n\u001b[0m\u001b[1;32m    190\u001b[0m         \u001b[0;32mreturn\u001b[0m \u001b[0mencrypted_number\u001b[0m\u001b[0;34m\u001b[0m\u001b[0m\n\u001b[1;32m    191\u001b[0m \u001b[0;34m\u001b[0m\u001b[0m\n",
      "\u001b[0;32m~/anaconda2/envs/p3/lib/python3.6/site-packages/phe/paillier.py\u001b[0m in \u001b[0;36mobfuscate\u001b[0;34m(self)\u001b[0m\n\u001b[1;32m    610\u001b[0m         \"\"\"\n\u001b[1;32m    611\u001b[0m         \u001b[0mr\u001b[0m \u001b[0;34m=\u001b[0m \u001b[0mself\u001b[0m\u001b[0;34m.\u001b[0m\u001b[0mpublic_key\u001b[0m\u001b[0;34m.\u001b[0m\u001b[0mget_random_lt_n\u001b[0m\u001b[0;34m(\u001b[0m\u001b[0;34m)\u001b[0m\u001b[0;34m\u001b[0m\u001b[0m\n\u001b[0;32m--> 612\u001b[0;31m         \u001b[0mr_pow_n\u001b[0m \u001b[0;34m=\u001b[0m \u001b[0mpowmod\u001b[0m\u001b[0;34m(\u001b[0m\u001b[0mr\u001b[0m\u001b[0;34m,\u001b[0m \u001b[0mself\u001b[0m\u001b[0;34m.\u001b[0m\u001b[0mpublic_key\u001b[0m\u001b[0;34m.\u001b[0m\u001b[0mn\u001b[0m\u001b[0;34m,\u001b[0m \u001b[0mself\u001b[0m\u001b[0;34m.\u001b[0m\u001b[0mpublic_key\u001b[0m\u001b[0;34m.\u001b[0m\u001b[0mnsquare\u001b[0m\u001b[0;34m)\u001b[0m\u001b[0;34m\u001b[0m\u001b[0m\n\u001b[0m\u001b[1;32m    613\u001b[0m         \u001b[0mself\u001b[0m\u001b[0;34m.\u001b[0m\u001b[0m__ciphertext\u001b[0m \u001b[0;34m=\u001b[0m \u001b[0mself\u001b[0m\u001b[0;34m.\u001b[0m\u001b[0m__ciphertext\u001b[0m \u001b[0;34m*\u001b[0m \u001b[0mr_pow_n\u001b[0m \u001b[0;34m%\u001b[0m \u001b[0mself\u001b[0m\u001b[0;34m.\u001b[0m\u001b[0mpublic_key\u001b[0m\u001b[0;34m.\u001b[0m\u001b[0mnsquare\u001b[0m\u001b[0;34m\u001b[0m\u001b[0m\n\u001b[1;32m    614\u001b[0m         \u001b[0mself\u001b[0m\u001b[0;34m.\u001b[0m\u001b[0m__is_obfuscated\u001b[0m \u001b[0;34m=\u001b[0m \u001b[0;32mTrue\u001b[0m\u001b[0;34m\u001b[0m\u001b[0m\n",
      "\u001b[0;32m~/anaconda2/envs/p3/lib/python3.6/site-packages/phe/util.py\u001b[0m in \u001b[0;36mpowmod\u001b[0;34m(a, b, c)\u001b[0m\n\u001b[1;32m     46\u001b[0m         \u001b[0;32mreturn\u001b[0m \u001b[0;36m1\u001b[0m\u001b[0;34m\u001b[0m\u001b[0m\n\u001b[1;32m     47\u001b[0m     \u001b[0;32mif\u001b[0m \u001b[0;32mnot\u001b[0m \u001b[0mHAVE_GMP\u001b[0m \u001b[0;32mor\u001b[0m \u001b[0mmax\u001b[0m\u001b[0;34m(\u001b[0m\u001b[0ma\u001b[0m\u001b[0;34m,\u001b[0m \u001b[0mb\u001b[0m\u001b[0;34m,\u001b[0m \u001b[0mc\u001b[0m\u001b[0;34m)\u001b[0m \u001b[0;34m<\u001b[0m \u001b[0m_USE_MOD_FROM_GMP_SIZE\u001b[0m\u001b[0;34m:\u001b[0m\u001b[0;34m\u001b[0m\u001b[0m\n\u001b[0;32m---> 48\u001b[0;31m         \u001b[0;32mreturn\u001b[0m \u001b[0mpow\u001b[0m\u001b[0;34m(\u001b[0m\u001b[0ma\u001b[0m\u001b[0;34m,\u001b[0m \u001b[0mb\u001b[0m\u001b[0;34m,\u001b[0m \u001b[0mc\u001b[0m\u001b[0;34m)\u001b[0m\u001b[0;34m\u001b[0m\u001b[0m\n\u001b[0m\u001b[1;32m     49\u001b[0m     \u001b[0;32melse\u001b[0m\u001b[0;34m:\u001b[0m\u001b[0;34m\u001b[0m\u001b[0m\n\u001b[1;32m     50\u001b[0m         \u001b[0;32mreturn\u001b[0m \u001b[0mint\u001b[0m\u001b[0;34m(\u001b[0m\u001b[0mgmpy2\u001b[0m\u001b[0;34m.\u001b[0m\u001b[0mpowmod\u001b[0m\u001b[0;34m(\u001b[0m\u001b[0ma\u001b[0m\u001b[0;34m,\u001b[0m \u001b[0mb\u001b[0m\u001b[0;34m,\u001b[0m \u001b[0mc\u001b[0m\u001b[0;34m)\u001b[0m\u001b[0;34m)\u001b[0m\u001b[0;34m\u001b[0m\u001b[0m\n",
      "\u001b[0;31mKeyboardInterrupt\u001b[0m: "
     ]
    }
   ],
   "source": [
    "user.public_key = csp.public_key\n",
    "c = user.calculate()"
   ]
  },
  {
   "cell_type": "code",
   "execution_count": null,
   "metadata": {},
   "outputs": [],
   "source": [
    "evaluator.c = c\n",
    "evaluator.mu_Af = csp.mu_Af\n",
    "evaluator.mu_bf = csp.mu_bf\n",
    "c_final = evaluator.calculate_c_hat()"
   ]
  },
  {
   "cell_type": "code",
   "execution_count": null,
   "metadata": {},
   "outputs": [],
   "source": [
    "csp.c_i = c_final\n",
    "d = csp.garble_input()"
   ]
  },
  {
   "cell_type": "code",
   "execution_count": null,
   "metadata": {},
   "outputs": [],
   "source": [
    "evaluator.A_hat_garbled = d['A_HAT_GARBLED']\n",
    "evaluator.b_hat_garbled = d['B_HAT_GARBLED']\n",
    "evaluator.mu_A_garbled = d['MU_A_GARBLED']\n",
    "evaluator.mu_b_garbled = d['MU_B_GARBLED']\n",
    "evaluator.wire_labels = d['WIRE_LABELS']"
   ]
  },
  {
   "cell_type": "code",
   "execution_count": null,
   "metadata": {},
   "outputs": [],
   "source": [
    "evaluator.calculate_beta()"
   ]
  }
 ],
 "metadata": {
  "kernelspec": {
   "display_name": "Python 3",
   "language": "python",
   "name": "python3"
  },
  "language_info": {
   "codemirror_mode": {
    "name": "ipython",
    "version": 3
   },
   "file_extension": ".py",
   "mimetype": "text/x-python",
   "name": "python",
   "nbconvert_exporter": "python",
   "pygments_lexer": "ipython3",
   "version": "3.6.5"
  }
 },
 "nbformat": 4,
 "nbformat_minor": 2
}
