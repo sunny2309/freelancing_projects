{
 "cells": [
  {
   "cell_type": "code",
   "execution_count": 1,
   "metadata": {},
   "outputs": [],
   "source": [
    "import numpy as np\n",
    "import matplotlib.pyplot as plt\n",
    "import pandas as pd\n",
    "import scipy\n",
    "import math\n",
    "import phe\n",
    "import sklearn\n",
    "from sklearn.model_selection import train_test_split\n",
    "from sklearn.preprocessing import  StandardScaler\n",
    "from phe import paillier\n",
    "import bitstring\n",
    "from bitstring import Bits\n",
    "from secrets import token_hex\n",
    "from Crypto.Cipher import DES\n",
    "\n",
    "%matplotlib inline"
   ]
  },
  {
   "cell_type": "code",
   "execution_count": 105,
   "metadata": {
    "code_folding": [
     0
    ]
   },
   "outputs": [],
   "source": [
    "def cholesky_decomposition(A):\n",
    "    d = A.shape[0]\n",
    "    L = A.copy()\n",
    "    #L = np.zeros(A.shape)\n",
    "    for i in range(d-1):\n",
    "        for j in range(i+1,d):\n",
    "            L[i][j] = 0.0\n",
    "    for j in range(d):\n",
    "        for k in range(j-1):\n",
    "            for i in range(j,d):\n",
    "                L[i][j] -= (L[i][k]*L[j][k])\n",
    "        L[j][j] = math.sqrt(L[j][j])\n",
    "        for k in range(j+1,d):\n",
    "            L[k][j] /= L[j][j]\n",
    "    return L"
   ]
  },
  {
   "cell_type": "code",
   "execution_count": 106,
   "metadata": {
    "code_folding": [
     0
    ]
   },
   "outputs": [],
   "source": [
    "A = np.array([[ 6,  3,  4,  8],\n",
    "       [ 3,  6,  5,  1],\n",
    "       [ 4,  5, 10,  7],\n",
    "       [ 8,  1,  7, 25]],dtype=np.float32)"
   ]
  },
  {
   "cell_type": "code",
   "execution_count": 107,
   "metadata": {},
   "outputs": [],
   "source": [
    "L = cholesky_decomposition(A)"
   ]
  },
  {
   "cell_type": "code",
   "execution_count": 108,
   "metadata": {},
   "outputs": [
    {
     "data": {
      "text/plain": [
       "array([[2.4494898 , 0.        , 0.        , 0.        ],\n",
       "       [1.2247448 , 2.4494898 , 0.        , 0.        ],\n",
       "       [1.6329931 , 2.0412414 , 2.7080128 , 0.        ],\n",
       "       [3.2659862 , 0.40824828, 0.6154576 , 3.7638633 ]], dtype=float32)"
      ]
     },
     "execution_count": 108,
     "metadata": {},
     "output_type": "execute_result"
    }
   ],
   "source": [
    "L"
   ]
  },
  {
   "cell_type": "code",
   "execution_count": 109,
   "metadata": {},
   "outputs": [
    {
     "data": {
      "text/plain": [
       "array([[ 6.0000005,  3.       ,  4.       ,  8.       ],\n",
       "       [ 3.       ,  7.5      ,  7.       ,  4.9999995],\n",
       "       [ 4.       ,  7.       , 14.166666 ,  7.8333335],\n",
       "       [ 8.       ,  4.9999995,  7.8333335, 25.378788 ]], dtype=float32)"
      ]
     },
     "execution_count": 109,
     "metadata": {},
     "output_type": "execute_result"
    }
   ],
   "source": [
    "np.dot(L,L.T)"
   ]
  },
  {
   "cell_type": "code",
   "execution_count": 110,
   "metadata": {},
   "outputs": [],
   "source": [
    "A = np.array([[ 6,  3,  4,  8],\n",
    "       [ 3,  6,  5,  1],\n",
    "       [ 4,  5, 10,  7],\n",
    "       [ 8,  1,  7, 25]],dtype=np.float32)"
   ]
  },
  {
   "cell_type": "code",
   "execution_count": 111,
   "metadata": {},
   "outputs": [],
   "source": [
    "L2 = np.linalg.cholesky(A)"
   ]
  },
  {
   "cell_type": "code",
   "execution_count": 112,
   "metadata": {},
   "outputs": [
    {
     "data": {
      "text/plain": [
       "array([[ 2.4494898,  0.       ,  0.       ,  0.       ],\n",
       "       [ 1.2247449,  2.1213202,  0.       ,  0.       ],\n",
       "       [ 1.6329932,  1.4142135,  2.309401 ,  0.       ],\n",
       "       [ 3.2659864, -1.4142135,  1.5877132,  3.132491 ]], dtype=float32)"
      ]
     },
     "execution_count": 112,
     "metadata": {},
     "output_type": "execute_result"
    }
   ],
   "source": [
    "L2"
   ]
  },
  {
   "cell_type": "code",
   "execution_count": 67,
   "metadata": {},
   "outputs": [
    {
     "data": {
      "text/plain": [
       "array([[ 6.0000005,  3.0000002,  4.0000005,  8.000001 ],\n",
       "       [ 3.0000002,  5.9999995,  5.       ,  1.0000007],\n",
       "       [ 4.0000005,  5.       , 10.       ,  7.       ],\n",
       "       [ 8.000001 ,  1.0000007,  7.       , 25.       ]], dtype=float32)"
      ]
     },
     "execution_count": 67,
     "metadata": {},
     "output_type": "execute_result"
    }
   ],
   "source": [
    "np.dot(L2,L2.T)"
   ]
  },
  {
   "cell_type": "code",
   "execution_count": 68,
   "metadata": {},
   "outputs": [
    {
     "data": {
      "text/plain": [
       "array([[ 6.,  3.,  4.,  8.],\n",
       "       [ 3.,  6.,  5.,  1.],\n",
       "       [ 4.,  5., 10.,  7.],\n",
       "       [ 8.,  1.,  7., 25.]], dtype=float32)"
      ]
     },
     "execution_count": 68,
     "metadata": {},
     "output_type": "execute_result"
    }
   ],
   "source": [
    "A"
   ]
  },
  {
   "cell_type": "code",
   "execution_count": 69,
   "metadata": {
    "code_folding": [
     0
    ]
   },
   "outputs": [],
   "source": [
    "def cholesky(A):\n",
    "    \"\"\"Performs a Cholesky decomposition of A, which must \n",
    "    be a symmetric and positive definite matrix. The function\n",
    "    returns the lower variant triangular matrix, L.\"\"\"\n",
    "    n = len(A)\n",
    "\n",
    "    # Create zero matrix for L\n",
    "    L = np.zeros(A.shape)\n",
    "\n",
    "    # Perform the Cholesky decomposition\n",
    "    for i in range(n):\n",
    "        for k in range(i+1):\n",
    "            tmp_sum = sum(L[i][j] * L[k][j] for j in range(k))\n",
    "            \n",
    "            if (i == k): # Diagonal elements\n",
    "                # LaTeX: l_{kk} = \\sqrt{ a_{kk} - \\sum^{k-1}_{j=1} l^2_{kj}}\n",
    "                L[i][k] = np.sqrt(A[i][i] - tmp_sum)\n",
    "            else:\n",
    "                # LaTeX: l_{ik} = \\frac{1}{l_{kk}} \\left( a_{ik} - \\sum^{k-1}_{j=1} l_{ij} l_{kj} \\right)\n",
    "                L[i][k] = (1.0 / L[k][k] * (A[i][k] - tmp_sum))\n",
    "    return L"
   ]
  },
  {
   "cell_type": "code",
   "execution_count": 70,
   "metadata": {},
   "outputs": [
    {
     "data": {
      "text/plain": [
       "array([[ 2.44948974,  0.        ,  0.        ,  0.        ],\n",
       "       [ 1.22474487,  2.12132034,  0.        ,  0.        ],\n",
       "       [ 1.63299316,  1.41421356,  2.30940108,  0.        ],\n",
       "       [ 3.26598632, -1.41421356,  1.58771324,  3.13249102]])"
      ]
     },
     "execution_count": 70,
     "metadata": {},
     "output_type": "execute_result"
    }
   ],
   "source": [
    "cholesky(A)"
   ]
  },
  {
   "cell_type": "code",
   "execution_count": 68,
   "metadata": {
    "code_folding": [
     0
    ]
   },
   "outputs": [],
   "source": [
    "def square_root(x):\n",
    "    e = [pow(4,i) for i in range(int(x)) if pow(4,i)<=x][-1]\n",
    "    r = 0\n",
    "    #print(e)\n",
    "    while e != 0:\n",
    "        if x >= r+e:\n",
    "            x -= (r+e)\n",
    "            r = (r >> 1) +e\n",
    "        else:\n",
    "            r = (r >> 1)\n",
    "        e = (e >> 2)\n",
    "    return r"
   ]
  },
  {
   "cell_type": "code",
   "execution_count": 69,
   "metadata": {},
   "outputs": [
    {
     "data": {
      "text/plain": [
       "10"
      ]
     },
     "execution_count": 69,
     "metadata": {},
     "output_type": "execute_result"
    }
   ],
   "source": [
    "square_root(100)"
   ]
  },
  {
   "cell_type": "code",
   "execution_count": 71,
   "metadata": {
    "code_folding": [
     0
    ]
   },
   "outputs": [],
   "source": [
    "def poc_bitstring_class():\n",
    "    binary = np.array(list(bin(255))[2:],dtype=np.bool)\n",
    "    b = bitstring.Bits(float=1.23,length=32)\n",
    "    print(b.bin)\n",
    "    b = bitstring.Bits(float=-1.23,length=32)\n",
    "    print(b.bin)\n",
    "    \n",
    "    a = bitstring.Bits(float=1.0,length=32)\n",
    "    b = bitstring.Bits(float=-1.0,length=32)\n",
    "    print(a.bin, b.bin,a.bin[:9])\n",
    "    \n",
    "    a = bitstring.Bits(float=1000.2090990909090909,length=32)\n",
    "    b = bitstring.Bits(float=-127.0,length=32)\n",
    "    print(a.bin, b.bin)\n",
    "    \n",
    "    a = bitstring.Bits(int=1,length=32)\n",
    "    b = bitstring.Bits(int=-1,length=32)\n",
    "    print(a.bin, b.bin)"
   ]
  },
  {
   "cell_type": "code",
   "execution_count": 72,
   "metadata": {},
   "outputs": [
    {
     "name": "stdout",
     "output_type": "stream",
     "text": [
      "00111111100111010111000010100100\n",
      "10111111100111010111000010100100\n",
      "00111111100000000000000000000000 10111111100000000000000000000000 001111111\n",
      "01000100011110100000110101100010 11000010111111100000000000000000\n",
      "00000000000000000000000000000001 11111111111111111111111111111111\n"
     ]
    }
   ],
   "source": [
    "poc_bitstring_class()"
   ]
  },
  {
   "cell_type": "code",
   "execution_count": 73,
   "metadata": {
    "code_folding": [
     0
    ]
   },
   "outputs": [],
   "source": [
    "def poc_paillier_encryption_scheme():\n",
    "    pub,priv = paillier.generate_paillier_keypair()\n",
    "    n = pub.encrypt(1.25)\n",
    "    m = pub.encrypt(1.25)\n",
    "    print(priv.decrypt(m+n))"
   ]
  },
  {
   "cell_type": "code",
   "execution_count": 74,
   "metadata": {},
   "outputs": [
    {
     "name": "stdout",
     "output_type": "stream",
     "text": [
      "2.5\n"
     ]
    }
   ],
   "source": [
    "poc_paillier_encryption_scheme()"
   ]
  },
  {
   "cell_type": "code",
   "execution_count": 75,
   "metadata": {
    "code_folding": [
     0
    ]
   },
   "outputs": [],
   "source": [
    "def poc_encryption_des():\n",
    "    a = token_hex(4)\n",
    "    b = token_hex(4)\n",
    "    c = token_hex(4)\n",
    "    \n",
    "    print('Original Values : ')\n",
    "    print('A : [ %s ], B : [ %s ], C : [ %s ]'%(a,b,c))\n",
    "    print('--------------------------------------')\n",
    "    print('First Encrypt with A and then B')\n",
    "    des_in = DES.new(b, DES.MODE_ECB)\n",
    "    des_in2 = DES.new(a,DES.MODE_ECB)\n",
    "    c_cipher = des_in2.encrypt(des_in.encrypt(c))\n",
    "    c_decrypted = des_in.decrypt(des_in2.decrypt(c_cipher))\n",
    "    print('C Encrypted with A & B [ %s ]'%c_cipher)\n",
    "    print('C Original : [ %s ], C Decrypted [ %s ]'%(c, c_decrypted))\n",
    "    \n",
    "    print('--------------------------------------')\n",
    "    print('First Encrypt with B and then A')\n",
    "    des_in = DES.new(b, DES.MODE_ECB)\n",
    "    des_in2 = DES.new(a,DES.MODE_ECB)\n",
    "    c_cipher = des_in.encrypt(des_in2.encrypt(c))\n",
    "    c_decrypted = des_in2.decrypt(des_in.decrypt(c_cipher))\n",
    "    print('C Encrypted with A & B [ %s ]'%c_cipher)\n",
    "    print('C Original : [ %s ], C Decrypted [ %s ]'%(c, c_decrypted))\n",
    "    \n",
    "    print('--------------------------------------')\n",
    "    print('First Encrypt with B and then B')\n",
    "    des_in = DES.new(b, DES.MODE_ECB)\n",
    "    c_cipher = des_in.encrypt(des_in.encrypt(c))\n",
    "    c_decrypted = des_in.decrypt(des_in.decrypt(c_cipher))\n",
    "    print('C Encrypted with A & B [ %s ]'%c_cipher)\n",
    "    print('C Original : [ %s ], C Decrypted [ %s ]'%(c, c_decrypted))\n",
    "    \n",
    "    print('--------------------------------------')\n",
    "    print('First Encrypt with A and then A')\n",
    "    des_in2 = DES.new(a,DES.MODE_ECB)\n",
    "    c_cipher = des_in2.encrypt(des_in2.encrypt(c))\n",
    "    c_decrypted = des_in2.decrypt(des_in2.decrypt(c_cipher))\n",
    "    print('C Encrypted with A & B [ %s ]'%c_cipher)\n",
    "    print('C Original : [ %s ], C Decrypted [ %s ]'%(c, c_decrypted))"
   ]
  },
  {
   "cell_type": "code",
   "execution_count": 76,
   "metadata": {},
   "outputs": [
    {
     "name": "stdout",
     "output_type": "stream",
     "text": [
      "Original Values : \n",
      "A : [ 347f48f0 ], B : [ 0da768fc ], C : [ 1f1f6723 ]\n",
      "--------------------------------------\n",
      "First Encrypt with A and then B\n",
      "C Encrypted with A & B [ b'l\\x0c\\xe17\\xfep\\x8dx' ]\n",
      "C Original : [ 1f1f6723 ], C Decrypted [ b'1f1f6723' ]\n",
      "--------------------------------------\n",
      "First Encrypt with B and then A\n",
      "C Encrypted with A & B [ b'!\\xae\\x9a;8\\xd4M\\xa3' ]\n",
      "C Original : [ 1f1f6723 ], C Decrypted [ b'1f1f6723' ]\n",
      "--------------------------------------\n",
      "First Encrypt with B and then B\n",
      "C Encrypted with A & B [ b'\\xe0@\\xd9j\\x89(~\\xa5' ]\n",
      "C Original : [ 1f1f6723 ], C Decrypted [ b'1f1f6723' ]\n",
      "--------------------------------------\n",
      "First Encrypt with A and then A\n",
      "C Encrypted with A & B [ b'\\x93\\ru\\xff\\x80\\xcb1?' ]\n",
      "C Original : [ 1f1f6723 ], C Decrypted [ b'1f1f6723' ]\n"
     ]
    }
   ],
   "source": [
    "poc_encryption_des()"
   ]
  },
  {
   "cell_type": "code",
   "execution_count": 67,
   "metadata": {
    "code_folding": [
     0
    ]
   },
   "outputs": [],
   "source": [
    "class User(object):\n",
    "    def __init__(self):\n",
    "        df = pd.read_csv('auto-mpg.csv')\n",
    "        df = df[df['horsepower'] != '?']\n",
    "        cols = df.columns.tolist()\n",
    "        cols.remove('mpg')\n",
    "        cols.remove('car name')\n",
    "        self.X = df[cols].values.astype(np.float32)\n",
    "        self.y = df['mpg'].values.astype(np.float32)\n",
    "        self.X_train,self.X_test,self.y_train,self.y_test = train_test_split(self.X,self.y,train_size=.8,test_size=.2)\n",
    "        sc = StandardScaler()\n",
    "        self.X_train = sc.fit_transform(self.X_train)\n",
    "        self.X_test = sc.transform(self.X_test)\n",
    "        #print(self.X_train,self.X_test)\n",
    "        self.X_train = np.around(self.X_train,2)\n",
    "        self.X_test = np.around(self.X_test,2)\n",
    "        print(np.around(np.dot(self.X_train.T,self.X_train),2))\n",
    "        self.public_key, self.private_key = paillier.generate_paillier_keypair()\n",
    "        #self.paillier_encrypt = np.vectorize(public_key.encrypt)\n",
    "        #self.paillier_decrypt = np.vectorize(private_key.decrypt)\n",
    "    \n",
    "    def paillier_encrypt(self, A_i, b_i, precision=2):\n",
    "        A_i_enc = np.zeros(A_i.shape,dtype=np.object)\n",
    "        for i in range(A_i.shape[0]):\n",
    "            for j in range(A_i.shape[1]):\n",
    "                #print(A_i[i][j])\n",
    "                A_i_enc[i][j] = self.public_key.encrypt(A_i[i][j],precision=precision)\n",
    "                \n",
    "        b_i_enc = np.zeros(b_i.shape,dtype=np.object)\n",
    "        for i in range(b_i.shape[0]):\n",
    "            b_i_enc[i] = self.public_key.encrypt(b_i[i],precision=precision)\n",
    "    \n",
    "        \n",
    "        return A_i_enc, b_i_enc\n",
    "    \n",
    "    def paillier_decrypt(self,c_i,precision=2):\n",
    "        pass\n",
    "    \n",
    "    def calculate_and_send_to_evaluater(self):\n",
    "        c = []\n",
    "        mew_A = np.random.randn(7,7)\n",
    "        mew_b = np.random.randn(7)\n",
    "        #print(self.X_train.shape,self.y_train.shape)\n",
    "        for x_i,y_i in zip(self.X_train,self.y_train):\n",
    "            #print(x_i, y_i)\n",
    "            A_i = np.dot(x_i.reshape(len(x_i), 1), x_i.reshape(len(x_i), 1).T)\n",
    "            b_i = x_i * y_i\n",
    "            #print(A_i.shape, b_i.shape)\n",
    "            c_i = self.paillier_encrypt(A_i, b_i, precision=2)\n",
    "            c.append(c_i)\n",
    "        c_mew = self.paillier_encrypt(mew_A, mew_b, precision=2)\n",
    "        c.append(c_mew)\n",
    "        As,bs = zip(*c)\n",
    "        c_final = sum(As),sum(bs)\n",
    "        return c_final"
   ]
  },
  {
   "cell_type": "code",
   "execution_count": null,
   "metadata": {
    "code_folding": [
     2,
     8
    ]
   },
   "outputs": [],
   "source": [
    "user = User()\n",
    "c = user.calculate_and_send_to_evaluater()\n",
    "for i in range(c[0].shape[0]):\n",
    "    for j in range(c[0].shape[0]):\n",
    "        print(user.private_key.decrypt(c[0][i][j]), end='')\n",
    "        print('\\t',end='')\n",
    "    print()\n",
    "    \n",
    "for j in range(c[1].shape[0]):\n",
    "        print(user.private_key.decrypt(c_final[1][j]))"
   ]
  },
  {
   "cell_type": "code",
   "execution_count": 77,
   "metadata": {
    "code_folding": [
     0
    ]
   },
   "outputs": [],
   "source": [
    "class Evaluator(object):\n",
    "    pass"
   ]
  },
  {
   "cell_type": "code",
   "execution_count": 78,
   "metadata": {
    "code_folding": [
     0
    ]
   },
   "outputs": [],
   "source": [
    "class CSP(object):\n",
    "    pass"
   ]
  },
  {
   "cell_type": "code",
   "execution_count": 79,
   "metadata": {},
   "outputs": [],
   "source": [
    "class Gate(object):\n",
    "    pass\n",
    "\n",
    "class And(Gate):\n",
    "    def __call__(self,a,b,wire_labels={},garbled_table=[]):\n",
    "        \n",
    "        wire_labels['A_0'] = token_hex(4)\n",
    "        wire_labels['A_1'] = token_hex(4)\n",
    "        wire_labels['B_0'] = token_hex(4)\n",
    "        wire_labels['A_1'] = token_hex(4)\n",
    "        wire_labels['C_0'] = token_hex(4)\n",
    "        wire_labels['C_1'] = token_hex(4)\n",
    "        \n",
    "        des_b_0 = DES.new(wire_labels['B_0'], DES.MODE_ECB)\n",
    "        des_a_0 = DES.new(wire_labels['A_0'], DES.MODE_ECB)\n",
    "        des_b_1 = DES.new(wire_labels['B_1'], DES.MODE_ECB)\n",
    "        des_a_1 = DES.new(wire_labels['A_1'], DES.MODE_ECB)\n",
    "        ## 0 AND 0 = 0\n",
    "        \n",
    "        garbled_table.append(des_a_0.encrypt(des_b_0.encrypt(wire_labels['C_0'])))\n",
    "        garbled_table.append(des_a_0.encrypt(des_b_1.encrypt(wire_labels['C_0'])))\n",
    "        garbled_table.append(des_a_1.encrypt(des_b_0.encrypt(wire_labels['C_0'])))\n",
    "        garbled_table.append(des_a_1.encrypt(des_b_1.encrypt(wire_labels['C_1'])))\n",
    "        \n",
    "        des_in = DES.new(b, DES.MODE_ECB)\n",
    "        des_out = DES.new(a, DES.MODE_ECB)\n",
    "        for g in garbled_table:\n",
    "            deciphered = des_out.decrypt(des_in.decrypt(g))\n",
    "            if deciphered in [ wire_labels['C_0'], wire_labels['C_1'] ]:\n",
    "                return a, b, g, deciphered\n",
    "        \n",
    "        \n",
    "\n",
    "class Or(Gate):\n",
    "    def __call__(self,a,b,wire_labels={},garbled_table=[]):\n",
    "        \n",
    "        wire_labels['A_0'] = token_hex(4)\n",
    "        wire_labels['A_1'] = token_hex(4)\n",
    "        wire_labels['B_0'] = token_hex(4)\n",
    "        wire_labels['A_1'] = token_hex(4)\n",
    "        wire_labels['C_0'] = token_hex(4)\n",
    "        wire_labels['C_1'] = token_hex(4)\n",
    "        \n",
    "        des_b_0 = DES.new(wire_labels['B_0'], DES.MODE_ECB)\n",
    "        des_a_0 = DES.new(wire_labels['A_0'], DES.MODE_ECB)\n",
    "        des_b_1 = DES.new(wire_labels['B_1'], DES.MODE_ECB)\n",
    "        des_a_1 = DES.new(wire_labels['A_1'], DES.MODE_ECB)\n",
    "        ## 0 AND 0 = 0\n",
    "        \n",
    "        garbled_table.append(des_a_0.encrypt(des_b_0.encrypt(wire_labels['C_0'])))\n",
    "        garbled_table.append(des_a_0.encrypt(des_b_1.encrypt(wire_labels['C_1'])))\n",
    "        garbled_table.append(des_a_1.encrypt(des_b_0.encrypt(wire_labels['C_1'])))\n",
    "        garbled_table.append(des_a_1.encrypt(des_b_1.encrypt(wire_labels['C_1'])))\n",
    "        \n",
    "        des_in = DES.new(b, DES.MODE_ECB)\n",
    "        des_out = DES.new(a, DES.MODE_ECB)\n",
    "        for g in garbled_table:\n",
    "            deciphered = des_out.decrypt(des_in.decrypt(g))\n",
    "            if deciphered in [ wire_labels['C_0'], wire_labels['C_1'] ]:\n",
    "                return a, b, g, deciphered\n",
    "\n",
    "class Xor(Gate):\n",
    "    def __call__(self,a,b,wire_labels={},garbled_table=[]):\n",
    "        \n",
    "        wire_labels['A_0'] = token_hex(4)\n",
    "        wire_labels['A_1'] = token_hex(4)\n",
    "        wire_labels['B_0'] = token_hex(4)\n",
    "        wire_labels['A_1'] = token_hex(4)\n",
    "        wire_labels['C_0'] = token_hex(4)\n",
    "        wire_labels['C_1'] = token_hex(4)\n",
    "        \n",
    "        des_b_0 = DES.new(wire_labels['B_0'], DES.MODE_ECB)\n",
    "        des_a_0 = DES.new(wire_labels['A_0'], DES.MODE_ECB)\n",
    "        des_b_1 = DES.new(wire_labels['B_1'], DES.MODE_ECB)\n",
    "        des_a_1 = DES.new(wire_labels['A_1'], DES.MODE_ECB)\n",
    "        ## 0 AND 0 = 0\n",
    "        \n",
    "        garbled_table.append(des_a_0.encrypt(des_b_0.encrypt(wire_labels['C_0'])))\n",
    "        garbled_table.append(des_a_0.encrypt(des_b_1.encrypt(wire_labels['C_1'])))\n",
    "        garbled_table.append(des_a_1.encrypt(des_b_0.encrypt(wire_labels['C_1'])))\n",
    "        garbled_table.append(des_a_1.encrypt(des_b_1.encrypt(wire_labels['C_0'])))\n",
    "        \n",
    "        des_in = DES.new(b, DES.MODE_ECB)\n",
    "        des_out = DES.new(a, DES.MODE_ECB)\n",
    "        for g in garbled_table:\n",
    "            deciphered = des_out.decrypt(des_in.decrypt(g))\n",
    "            if deciphered in [ wire_labels['C_0'], wire_labels['C_1'] ]:\n",
    "                return a, b, g, deciphered\n",
    "        \n",
    "class Not(Gate):\n",
    "    def __call__(self,inp):\n",
    "        neg = {0:1,1:0}\n",
    "        return neg[inp]\n",
    "    \n",
    "class Add(Gate):\n",
    "    \n",
    "    def add(self,inp1,inp2,carry):\n",
    "        #xor = Xor()\n",
    "        #and_g = And()\n",
    "        #or_g = Or()\n",
    "        o1 = Xor()(inp1,inp2)\n",
    "        o2 = And()(inp1,inp2)\n",
    "        add = Xor()(carry,o1)\n",
    "        o4 = And()(carry,o1)\n",
    "        cary = Or()(o4,o2)\n",
    "        return add, cary\n",
    "    \n",
    "    def __call__(self,inp1,inp2):\n",
    "        carry = 0\n",
    "        out = np.zeros(inp1.shape)\n",
    "        for idx,i in reversed(list(enumerate(zip(inp1,inp2)))):\n",
    "            out[idx],carry = self.add(*i,carry)\n",
    "        return out\n",
    "\n",
    "class Subtract(Gate):\n",
    "    \n",
    "    def subtract(self,inp1,inp2,carry):\n",
    "        #xor = Xor()\n",
    "        #and_g = And()\n",
    "        #or_g = Or()\n",
    "        #not_g = Not()\n",
    "        not_inp1 = Not()(inp1)\n",
    "        o1 = Xor()(inp1, inp2)\n",
    "        o2 = And()(inp2,not_inp1)\n",
    "        sub = Xor()(o1, carry)\n",
    "        not_o1 = Not()(o1)\n",
    "        o3 = And()(carry, not_o1)\n",
    "        car = Or()(o3, carry)\n",
    "        return sub, car\n",
    "        \n",
    "    \n",
    "    def __call__(self,inp1,inp2):\n",
    "        carry = 0\n",
    "        out = np.zeros(inp1.shape)\n",
    "        for idx,i in reversed(list(enumerate(zip(inp1,inp2)))):\n",
    "            out[idx], carry = self.subtract(*i,carry)\n",
    "        return out\n",
    "\n",
    "class Multiplication(Gate):\n",
    "\n",
    "    def __call__(self,inp1,inp2):\n",
    "        pass\n",
    "\n",
    "class Division(Gate):\n",
    "    \n",
    "    def __call__(self,inp1,inp2):\n",
    "        pass\n",
    "    \n",
    "class Sqrt(Gate):\n",
    "    \n",
    "    def __call__(self,inp):\n",
    "        pass\n",
    "    \n",
    "class GarbledCircuit(object):\n",
    "    def __init__(A,b):\n",
    "        self.A = A\n",
    "        self.b = b\n",
    "        \n",
    "    def generate_beta(self):\n",
    "        pass"
   ]
  },
  {
   "cell_type": "code",
   "execution_count": 80,
   "metadata": {},
   "outputs": [],
   "source": [
    "add = Add()"
   ]
  },
  {
   "cell_type": "code",
   "execution_count": 86,
   "metadata": {},
   "outputs": [
    {
     "data": {
      "text/plain": [
       "array([1., 0., 1.])"
      ]
     },
     "execution_count": 86,
     "metadata": {},
     "output_type": "execute_result"
    }
   ],
   "source": [
    "add(np.array([0,1,0]),np.array([0,1,1]))"
   ]
  },
  {
   "cell_type": "code",
   "execution_count": 82,
   "metadata": {
    "code_folding": [
     0
    ]
   },
   "outputs": [
    {
     "data": {
      "text/plain": [
       "array([0., 1., 1.])"
      ]
     },
     "execution_count": 82,
     "metadata": {},
     "output_type": "execute_result"
    }
   ],
   "source": [
    "Add()(np.array([0,1,0]),np.array([0,0,1]))"
   ]
  },
  {
   "cell_type": "code",
   "execution_count": 85,
   "metadata": {},
   "outputs": [
    {
     "data": {
      "text/plain": [
       "array([0., 1., 1.])"
      ]
     },
     "execution_count": 85,
     "metadata": {},
     "output_type": "execute_result"
    }
   ],
   "source": [
    "Subtract()(np.array([0,1,0]),np.array([0,0,1]))"
   ]
  },
  {
   "cell_type": "code",
   "execution_count": 101,
   "metadata": {},
   "outputs": [
    {
     "data": {
      "text/plain": [
       "('10111111100000000000000000000000', '101111111')"
      ]
     },
     "execution_count": 101,
     "metadata": {},
     "output_type": "execute_result"
    }
   ],
   "source": [
    "bits = Bits(float=-1,length=32)\n",
    "bits.bin, bits.bin[:9]"
   ]
  },
  {
   "cell_type": "code",
   "execution_count": 77,
   "metadata": {},
   "outputs": [],
   "source": [
    "def float_to_bin(num):\n",
    "    int_p,frac_p = str(num).split('.')\n",
    "    int_b = bin(int(int_p))[2:]\n",
    "    frac_p = float('0.' + frac_p)\n",
    "    frac_b = ''          \n",
    "    for i in range(8):\n",
    "        t=(frac_p*2)\n",
    "        t_i,t_f = str(t).split('.')\n",
    "        frac_b = frac_b + t_i\n",
    "        #print(frac_p,t_i)\n",
    "        if t_i == '1':\n",
    "            frac_p = float(t) - 1.\n",
    "        else:\n",
    "            frac_p = float(t)\n",
    "    return int_b.zfill(16) + '.' + frac_b\n",
    "\n",
    "def bin_to_float(binary):\n",
    "    int_p, frac_p = binary.split('.')\n",
    "    integer,fractional = 0.,0. \n",
    "    for i,j in enumerate(reversed(list(int_p))):\n",
    "        integer += (pow(2,i)*int(j))\n",
    "\n",
    "    for i,j in enumerate(list(frac_p)):\n",
    "        fractional += (pow(2,-(i+1))*int(j))\n",
    "    \n",
    "    return integer+fractional\n",
    "\n",
    "def twos_complement(binary):\n",
    "    result = ''\n",
    "    for i in binary:\n",
    "        result += '1' if i=='0' else '0' if i=='1' else i\n",
    "    \n",
    "    carry = 0\n",
    "    for i in reversed(result):\n",
    "        pass"
   ]
  },
  {
   "cell_type": "code",
   "execution_count": 78,
   "metadata": {},
   "outputs": [
    {
     "data": {
      "text/plain": [
       "1.5"
      ]
     },
     "execution_count": 78,
     "metadata": {},
     "output_type": "execute_result"
    }
   ],
   "source": [
    "bin_to_float(float_to_bin(1.5))"
   ]
  },
  {
   "cell_type": "code",
   "execution_count": 79,
   "metadata": {},
   "outputs": [
    {
     "data": {
      "text/plain": [
       "5.671875"
      ]
     },
     "execution_count": 79,
     "metadata": {},
     "output_type": "execute_result"
    }
   ],
   "source": [
    "bin_to_float(float_to_bin(5.674))"
   ]
  },
  {
   "cell_type": "code",
   "execution_count": 80,
   "metadata": {},
   "outputs": [
    {
     "data": {
      "text/plain": [
       "'0000000000000001.00000000'"
      ]
     },
     "execution_count": 80,
     "metadata": {},
     "output_type": "execute_result"
    }
   ],
   "source": [
    "float_to_bin(1.0)"
   ]
  },
  {
   "cell_type": "code",
   "execution_count": 82,
   "metadata": {},
   "outputs": [
    {
     "data": {
      "text/plain": [
       "'0001.1000'"
      ]
     },
     "execution_count": 82,
     "metadata": {},
     "output_type": "execute_result"
    }
   ],
   "source": [
    "'0001.1000' "
   ]
  },
  {
   "cell_type": "code",
   "execution_count": 83,
   "metadata": {},
   "outputs": [
    {
     "data": {
      "text/plain": [
       "'1011.1000'"
      ]
     },
     "execution_count": 83,
     "metadata": {},
     "output_type": "execute_result"
    }
   ],
   "source": [
    "'1011.1000'"
   ]
  },
  {
   "cell_type": "code",
   "execution_count": 84,
   "metadata": {},
   "outputs": [
    {
     "data": {
      "text/plain": [
       "-7.0"
      ]
     },
     "execution_count": 84,
     "metadata": {},
     "output_type": "execute_result"
    }
   ],
   "source": [
    "1.5 - 8.5"
   ]
  },
  {
   "cell_type": "code",
   "execution_count": 87,
   "metadata": {},
   "outputs": [
    {
     "data": {
      "text/plain": [
       "'1101.0000'"
      ]
     },
     "execution_count": 87,
     "metadata": {},
     "output_type": "execute_result"
    }
   ],
   "source": [
    "'1101.0000'"
   ]
  },
  {
   "cell_type": "code",
   "execution_count": 85,
   "metadata": {},
   "outputs": [
    {
     "data": {
      "text/plain": [
       "'0001.0000'"
      ]
     },
     "execution_count": 85,
     "metadata": {},
     "output_type": "execute_result"
    }
   ],
   "source": [
    "'0001.0000'"
   ]
  },
  {
   "cell_type": "code",
   "execution_count": 88,
   "metadata": {},
   "outputs": [
    {
     "data": {
      "text/plain": [
       "'1111.0000'"
      ]
     },
     "execution_count": 88,
     "metadata": {},
     "output_type": "execute_result"
    }
   ],
   "source": [
    "'1111.0000'"
   ]
  },
  {
   "cell_type": "code",
   "execution_count": null,
   "metadata": {},
   "outputs": [],
   "source": []
  },
  {
   "cell_type": "code",
   "execution_count": null,
   "metadata": {},
   "outputs": [],
   "source": []
  },
  {
   "cell_type": "code",
   "execution_count": null,
   "metadata": {},
   "outputs": [],
   "source": []
  },
  {
   "cell_type": "code",
   "execution_count": null,
   "metadata": {},
   "outputs": [],
   "source": []
  },
  {
   "cell_type": "code",
   "execution_count": null,
   "metadata": {},
   "outputs": [],
   "source": []
  },
  {
   "cell_type": "code",
   "execution_count": null,
   "metadata": {},
   "outputs": [],
   "source": []
  },
  {
   "cell_type": "code",
   "execution_count": null,
   "metadata": {
    "code_folding": [
     0
    ]
   },
   "outputs": [],
   "source": []
  },
  {
   "cell_type": "code",
   "execution_count": null,
   "metadata": {},
   "outputs": [],
   "source": []
  },
  {
   "cell_type": "code",
   "execution_count": null,
   "metadata": {},
   "outputs": [],
   "source": []
  },
  {
   "cell_type": "code",
   "execution_count": null,
   "metadata": {},
   "outputs": [],
   "source": []
  },
  {
   "cell_type": "code",
   "execution_count": null,
   "metadata": {},
   "outputs": [],
   "source": []
  },
  {
   "cell_type": "code",
   "execution_count": null,
   "metadata": {},
   "outputs": [],
   "source": []
  },
  {
   "cell_type": "code",
   "execution_count": null,
   "metadata": {},
   "outputs": [],
   "source": []
  },
  {
   "cell_type": "code",
   "execution_count": null,
   "metadata": {},
   "outputs": [],
   "source": []
  },
  {
   "cell_type": "code",
   "execution_count": null,
   "metadata": {},
   "outputs": [],
   "source": []
  },
  {
   "cell_type": "code",
   "execution_count": null,
   "metadata": {},
   "outputs": [],
   "source": []
  },
  {
   "cell_type": "code",
   "execution_count": null,
   "metadata": {},
   "outputs": [],
   "source": []
  },
  {
   "cell_type": "code",
   "execution_count": null,
   "metadata": {},
   "outputs": [],
   "source": []
  },
  {
   "cell_type": "code",
   "execution_count": null,
   "metadata": {},
   "outputs": [],
   "source": []
  },
  {
   "cell_type": "code",
   "execution_count": null,
   "metadata": {},
   "outputs": [],
   "source": []
  },
  {
   "cell_type": "code",
   "execution_count": null,
   "metadata": {},
   "outputs": [],
   "source": []
  },
  {
   "cell_type": "code",
   "execution_count": null,
   "metadata": {},
   "outputs": [],
   "source": []
  },
  {
   "cell_type": "code",
   "execution_count": null,
   "metadata": {
    "code_folding": [
     0
    ]
   },
   "outputs": [],
   "source": []
  },
  {
   "cell_type": "code",
   "execution_count": null,
   "metadata": {},
   "outputs": [],
   "source": []
  },
  {
   "cell_type": "code",
   "execution_count": null,
   "metadata": {},
   "outputs": [],
   "source": []
  },
  {
   "cell_type": "code",
   "execution_count": null,
   "metadata": {},
   "outputs": [],
   "source": []
  },
  {
   "cell_type": "code",
   "execution_count": null,
   "metadata": {},
   "outputs": [],
   "source": []
  },
  {
   "cell_type": "code",
   "execution_count": null,
   "metadata": {},
   "outputs": [],
   "source": []
  },
  {
   "cell_type": "code",
   "execution_count": null,
   "metadata": {},
   "outputs": [],
   "source": []
  },
  {
   "cell_type": "code",
   "execution_count": null,
   "metadata": {},
   "outputs": [],
   "source": []
  }
 ],
 "metadata": {
  "kernelspec": {
   "display_name": "Python 3",
   "language": "python",
   "name": "python3"
  },
  "language_info": {
   "codemirror_mode": {
    "name": "ipython",
    "version": 3
   },
   "file_extension": ".py",
   "mimetype": "text/x-python",
   "name": "python",
   "nbconvert_exporter": "python",
   "pygments_lexer": "ipython3",
   "version": "3.6.5"
  }
 },
 "nbformat": 4,
 "nbformat_minor": 2
}
