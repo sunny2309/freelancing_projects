{
 "cells": [
  {
   "cell_type": "markdown",
   "metadata": {},
   "source": [
    "# Week 7"
   ]
  },
  {
   "cell_type": "markdown",
   "metadata": {},
   "source": [
    "## Before the intro: COVID-19 thoughts and visualizations\n",
    "\n",
    "Hey All,\n",
    "\n",
    "So wow. It's a new reality. I made my [little video last week](https://www.youtube.com/watch?v=gLjLCQQSzwk), but creating it on Monday night I was only a little bit early. The following Wednesday evening, the Danish government took pretty decisive action. \n",
    "\n",
    "On the whole, I agree with this course of action, and I encourage you to respect the government's guidelines. Practice social distancing. You know the deal. \n",
    "\n",
    "And let's me also draw a line to a recent excellent visualization. There's an absolutely amazing visualization in the Washington Post, which uses dataviz to illustrate why the social distancing is a useful strategy.\n",
    "\n",
    "> https://www.washingtonpost.com/graphics/2020/world/corona-simulator/\n",
    "\n",
    "And another really nice one from NYT about `#flattenthecurve`\n",
    "\n",
    "> https://www.nytimes.com/interactive/2020/03/13/opinion/coronavirus-trump-response.html\n",
    "\n",
    "And if you didn't see it the [3blue1brown video on exponential growth](https://youtu.be/Kas0tIxDvrg), that's also fantastic (as is pretty much everything from that guy).\n",
    "\n",
    "\n",
    "## The intro\n",
    "\n",
    "Anyway. I'm sure you guys have a lot to do this week, so we'll try to keep it relatively light (although there should be enough optional exercises to keep you all busy).\n",
    "\n",
    "Remember that last week you worked with 2 different ways to classify data: *KNN*'s and *Decisions Trees*. We are going to continue working with Decision Trees and see how new information can influence the performance of our model in predicting which type of crime happened.\n",
    "\n",
    "Specifically, crimes can have many causes, so we can combine datasouces to better understand what makes a criminal commit a crime. Are there specific factors which trigger that individual to act? Since criminals are notoriously shy about sharing information, we must try to find this out in a different way. Lucky for us, we can do this with data! *We are going to use weather data* from San Franciso to try to relate different crimes with meteorological conditions!\n",
    "\n",
    "* We'll start with a relatively simple exercise focusing adding weather data to the decision tree from last week (Part 1, 2, and 3).\n",
    "* Then we'll prepare a bit for next week, when we get into the topic of explanatory data visualization with some lectures and reading (Part 4)\n",
    "* And finally, we'll have some advanced excercises if you can't get enough of the first exercise (Part 5).\n",
    "\n"
   ]
  },
  {
   "cell_type": "markdown",
   "metadata": {},
   "source": [
    "## Part 1: Create a Baseline"
   ]
  },
  {
   "cell_type": "markdown",
   "metadata": {},
   "source": [
    "Before we begin adding new data, lets do somethings similar to last week and build a Decision Tree/Random Forest classifier to predict the category of a crime with the help of our friend `sklearn` using the following variables:\n",
    "\n",
    "* `Hour of the week` (`1 , 2, ..., 168 `). \n",
    "* `PD District` (`TENDERLOIN`, etc).  (**Remember**, You'll need to encode this  labels as integers in `sklearn`, you can just assign numbers to the labels with something like sklearn's `Label Encoder` or do your own custom function). \n",
    "  * **Hint**: as we have discussed on Slack, instead of directly assigning a label to a number, you can encode your data using a *one hot encoding*. Essentially this is a way to avoid computers to establish a hierarchy/order between values of a certain variable when it does not exist, as is our case for PD District since its values are just names of Districts. Here's a [nice explanation](https://towardsdatascience.com/categorical-encoding-using-label-encoding-and-one-hot-encoder-911ef77fb5bd) about the topic.\n",
    "\n",
    "This model will function as our baseline. Once we have it set up, we can use it to understand how adding variables from our weather dataset will influence the decisions of the tree later on.\n",
    "\n",
    "Since we will use weather data, let's try to think of crime categories that our intuition tells us might be strongly influenced by the weather conditions (type 1). And also think of other categories where we **don't** expect weather to play a role (type 2). We suggest:\n",
    "\n",
    "* `BURGLARY or VEHICLE THEFT` for type 1. \n",
    "* `FORGERY/COUNTERFEITIN or FRAUD` for type 2. \n",
    "\n",
    "Feel free to explore other pairs that you find reasonable in this context.\n",
    "\n",
    "\n",
    "> *Exercise*: Build the decision tree!\n",
    "> * Remember to keep the data you used for training (since if you are following our recommendations it will be taken at random) so we can use it later on when we add the weather data (as was mentioned last week, build a **balanced training dataset**). We recommed you build a separate Pandas `Dataframe` with it, so the process of adding the weather data will be as smooth as possible later on. The same goes for your testing data.\n",
    "> * Create a function to evaluate the precision of your classifier. Make sure your test data is not used for training.\n",
    "> \n",
    "> Additional ML-refinements (Optional):\n",
    "> * If you find yourself with extra time, come back to this exercise and tweak the variables you use to see if you can improve the accuracy of the tree. Try for example adding Year, Month or other variables you think may be relevant.\n",
    "> * Does one hot encoding affect your results? Compare the results you get with the different encoding techniques you use for PD District.\n",
    "> * Are your results tied to the specific training data you used? Are you overfitting? Try performing [cross-validation](https://towardsdatascience.com/cross-validation-in-machine-learning-72924a69872f) to answer this question."
   ]
  },
  {
   "cell_type": "markdown",
   "metadata": {},
   "source": [
    "## Part 2: Predict Crimes with Weather Data"
   ]
  },
  {
   "cell_type": "markdown",
   "metadata": {},
   "source": [
    "Time to get that weather data rolling. The raw data we are using can be found online [here](https://www.meteoblue.com/en/weather/archive/export/san-francisco_united-states-of-america_5391959) or [you can get a convenient version from the files folder our class repository by clicking here](https://raw.githubusercontent.com/suneman/socialdataanalysis2020/master/files/Data_files/weather_data.csv). \n",
    "\n",
    "> *Exercise*\n",
    "> \n",
    "> * Load the weather dataset. If you have your training data and test data on separate `DataFrames` then merging them with the weather information should be simple \n",
    ">   * **Hint**: you can use the join method from pandas. To do so, you will need to round the time to the hour because weather data is recorded hourly. Also it's fine to drop missing values. Here's a [stackoverflow post](https://stackoverflow.com/questions/36292959/pandas-merge-data-frames-on-datetime-index) which may help you. \n",
    ">  * *Note*: you'll need to do some encoding on the weather data as before if you want to use the weather column. Also, check if all of the entries of the new training data have indeed a weather part to them. \n",
    "> * Now that you have the data properly merged, you can **fit a new random forest on the data and compare the results**. How does the weather data influence the prediction performances? (Use the evaluation function you built above.) Is there as impact in the accuracy of predictions? Is weather data relevant for the predictions?\n",
    "> * *Optional*: Try experimenting with using only certain variables of the weather data. Can you improve the performance of classification by using fewer features/variables?\n"
   ]
  },
  {
   "cell_type": "markdown",
   "metadata": {},
   "source": [
    "## Part 3: A Simple Visualization\n",
    "\n",
    "Now that you're done with the Machine Learning lets get to the fun part: Visualizations!\n",
    "\n",
    "> *Exercise*: A map movie.\n",
    "> * Remember week 2 and those wonderful shapefiles? Go back and get the code you did for that week. \n",
    "> * Now the goal is to plot a SF map for each hour of the week (that's 168 plots total, so you'd better set up a script to do it). **The maps should visualize the predictions you generated by the random forest classifier**.\n",
    ">   * **Hint 0**: The output from the classifier can be thought of as a probability that *in some precinct at some time* we will observe either a crime of type 1 or type 2. Since the two probabilities sum to 1, we can map this to a [color gradient](https://matplotlib.org/3.1.0/tutorials/colors/colormaps.html).  \n",
    ">   * **Hint 1**: You can use the method `predict_proba` from `sklearn` to output probabilities instead of classes from your decision tree classifier. This allows to use the map with a color gradient representing the probabilities of the crimes. \n",
    ">   *  **Hint 2**: Based on the data you feed to the Random Forest, you can use the average prediction of the all the datapoints you used for each specific district to create the visualization). \n",
    "> * Finally, create a GIF with all the maps you have drawn (from the 1st point) to display the entire week. To do so, first save each figure separatly and then load all the image and create a GIF. This can be done with `imageio` library in python. \n",
    ">   * **Hint 3**: Check out the following code to help with you (which assumes you've saved all files in a sub-directory called `Frames` with names `0.png`, `1.png`, ..., `167.png`, i.e. one frame per hour of the week)."
   ]
  },
  {
   "cell_type": "code",
   "execution_count": null,
   "metadata": {},
   "outputs": [],
   "source": [
    "import os\n",
    "images = []\n",
    "files = os.listdir('./Frames')\n",
    "\n",
    "for filename in range(len(files)-1):\n",
    "    if filename != '.ipynb_checkpoints':\n",
    "        images.append(imageio.imread('./Frames/' + str(filename)+ '.png'))\n",
    "kargs = { 'duration': 0.5 }\n",
    "imageio.mimsave('crime_evo_rain.gif', images, 'GIF', **kargs )"
   ]
  },
  {
   "cell_type": "markdown",
   "metadata": {},
   "source": [
    "## Part 4: Video Lectures and Reading\n",
    "\n",
    "Next week we'll be playing around with *explanatory data visualization*. Roughly speaking this means using data visualization to communicate your results to others. Thus, there are new things to think about. We'll start thinking about that already this week.\n",
    "\n",
    "We start with a video from from yours truly and then read a bit from a scientific article about types of explanatory dataviz."
   ]
  },
  {
   "cell_type": "code",
   "execution_count": 1,
   "metadata": {},
   "outputs": [
    {
     "data": {
      "image/jpeg": "[encoded data removed]",
      "text/html": [
       "\n",
       "        <iframe\n",
       "            width=\"600\"\n",
       "            height=\"338\"\n",
       "            src=\"https://www.youtube.com/embed/yHKYMGwefso\"\n",
       "            frameborder=\"0\"\n",
       "            allowfullscreen\n",
       "        ></iframe>\n",
       "        "
      ],
      "text/plain": [
       "<IPython.lib.display.YouTubeVideo at 0x10f67d510>"
      ]
     },
     "execution_count": 1,
     "metadata": {},
     "output_type": "execute_result"
    }
   ],
   "source": [
    "# Sune talks about designing visualizations.\n",
    "from IPython.display import YouTubeVideo\n",
    "YouTubeVideo(\"yHKYMGwefso\",width=600, height=338)"
   ]
  },
  {
   "cell_type": "markdown",
   "metadata": {},
   "source": [
    "> *Exercises*: Explanatory data visualization\n",
    "> * What are the three key elements to keep in mind when you design an explanatory visualization?\n",
    "> * In the video I talk about (1) *overview first*,  (2) *zoom and filter*,  (3) *details on demand*. \n",
    ">   - Go online and find a visualization that follows these principles (don't use one from the video). \n",
    ">   - Explain how it does achieves (1)-(3). It might be useful to use screenshots to illustrate your explanation.\n",
    "> * Explain in your own words: How is explanatory data analysis different from exploratory data analysis?"
   ]
  },
  {
   "cell_type": "markdown",
   "metadata": {},
   "source": [
    "*Reading*: [Narrative Visualization: Telling Stories with Data](http://vis.stanford.edu/files/2010-Narrative-InfoVis.pdf) by Edward Segel and Jeffrey Heer. We'll read section 1-3 today. (And the rest next time).\n",
    "\n",
    "When you get to section 3 it's fun to open up the examples mentioned by the authors in a browser and explore them as you read the text. \n",
    "\n",
    "> *Exercise*: Answer a couple of questions about the paper.\n",
    "> \n",
    "> * What is the *Oxford English Dictionary's* defintion of a narrative?\n",
    "> * What is your favorite visualization among the examples in section 3? Explain why in a few words."
   ]
  },
  {
   "cell_type": "markdown",
   "metadata": {},
   "source": [
    "## Part 5: Optional (But Cool )Visualizations"
   ]
  },
  {
   "cell_type": "markdown",
   "metadata": {},
   "source": [
    "The aim here is to create an animated map that shows empirical data for *two* crimes that change patterns with weather alongside the associated prediction. Pierre has looked at `DRUG/NARCOTIC` AND `BURGLARY`. \n",
    "\n",
    "The steps are\n",
    "* *Empirical data plots*. Here you take the raw data and simply tally up the observed crimes hour-by-hour. In order to compare the two crime-types which don't have identical counts, you should convert your hourly counts to hourly probabilities. Simply divide your precinct-counts by the total number of counts that hour. It is OK to use lots of aggregated data for this one.\n",
    "* Now, build a random forest classifier for your crimes which doesn't take weather into account. Again, you may train the classifier on as much data as you like.\n",
    "* Next, build a classifier which knows about weather (lot of tips and tricks available above). \n",
    "\n",
    "Now we're getting closer, let's visualize how actual weather impacts our predictions. Since we need weather, we're going to have to pick a specific week (you're free to choose something different than what's on the plot below).\n",
    "* For each hour of that specific week, plot the visualization of the precinct-probabilities that come out of you random forest model without weather.\n",
    "* The plot the same probabilities **with** weather.\n",
    "* Finally tile all those plots side by side and create a gif so you can inspect the patterns.\n",
    "* Describe in your own words the impact of the weather data. Does it change the model predicitons?\n",
    "\n",
    "See below for Pierre's version. "
   ]
  },
  {
   "cell_type": "markdown",
   "metadata": {},
   "source": [
    "![Movie](https://github.com/suneman/socialdataanalysis2020/raw/master/files/crime_evo_rain-min.gif \"movie\")"
   ]
  },
  {
   "cell_type": "markdown",
   "metadata": {},
   "source": [
    "Finally **big thanks** to TA's Pierre and Joao for big help in developing the exercises this week. I've been busy with all kinds of COVID related chores and I simply could not have done it without them."
   ]
  }
 ],
 "metadata": {
  "kernelspec": {
   "display_name": "Python 3",
   "language": "python",
   "name": "python3"
  },
  "language_info": {
   "codemirror_mode": {
    "name": "ipython",
    "version": 3
   },
   "file_extension": ".py",
   "mimetype": "text/x-python",
   "name": "python",
   "nbconvert_exporter": "python",
   "pygments_lexer": "ipython3",
   "version": "3.7.3"
  }
 },
 "nbformat": 4,
 "nbformat_minor": 4
}
