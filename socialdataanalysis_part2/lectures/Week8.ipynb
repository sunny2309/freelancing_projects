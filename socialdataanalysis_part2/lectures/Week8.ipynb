{
 "cells": [
  {
   "cell_type": "markdown",
   "metadata": {},
   "source": [
    "# Week 8\n",
    "\n",
    "Hey gang. **We made it**. It's the last of the lectures and we're getting ready to move into the project phase. The project is where you take all the stuff you've learned and analyze you own data. Normally, I'd talk about it in class, but since we're on lockdown, I've made a friendly video. Check it out below. "
   ]
  },
  {
   "cell_type": "code",
   "execution_count": 1,
   "metadata": {},
   "outputs": [
    {
     "data": {
      "image/jpeg": "[encoded data removed]",
      "text/html": [
       "\n",
       "        <iframe\n",
       "            width=\"800\"\n",
       "            height=\"450\"\n",
       "            src=\"https://www.youtube.com/embed/cynJeZN9vvM\"\n",
       "            frameborder=\"0\"\n",
       "            allowfullscreen\n",
       "        ></iframe>\n",
       "        "
      ],
      "text/plain": [
       "<IPython.lib.display.YouTubeVideo at 0x105c58b90>"
      ]
     },
     "execution_count": 1,
     "metadata": {},
     "output_type": "execute_result"
    }
   ],
   "source": [
    "# sune explains the final project\n",
    "from IPython.display import YouTubeVideo\n",
    "YouTubeVideo(\"cynJeZN9vvM\",width=800, height=450)"
   ]
  },
  {
   "cell_type": "markdown",
   "metadata": {},
   "source": [
    "The purpose of today's lecture is to dig into *interactive dataviz*. Being able to play with the data: Toggle the view. Zoom. Drag. Show more details. All those things. Those are a key part of modern data visualization. \n",
    "\n",
    "To really master interactive visualizations, you should check out methods in JavaScript, especially [D3](https://d3js.org). Given that we only have 5ECTS for this class, we don't have time for that. But luckily Python has some pretty good options for interactive visualizations. \n",
    "\n",
    "Today we'll explore [`Bokeh`](https://docs.bokeh.org/en/latest/), which provides lots of nice interactive funtionality to Python. So the program for today is\n",
    "\n",
    "* Finish up reading on narrative dataviz (Part 1)\n",
    "* Create two interactive visualizaitons of our good old crime data (Parts 2 and 3)\n",
    "* (And an optional viz if you felt the two first ones were too easy. Find that in part 4)\n",
    "\n",
    "\n",
    "\n",
    "## Part 1 More on narrative data visualization\n",
    "\n",
    "*Reading*. More on Narrative Visualization.\n",
    "* Edward Segel and Jeffrey Heer. [Narrative Visualization: Telling Stories with Data](http://vis.stanford.edu/files/2010-Narrative-InfoVis.pdf), section 4-6.\n",
    "\n",
    "And a fantastic example of narrative dataviz is the story of the start of the virus shown in this week's NYT. Check it out below\n",
    "* https://www.nytimes.com/interactive/2020/03/22/world/coronavirus-spread.html\n",
    "\n",
    "> *Exercise*: Questions to the text\n",
    "> \n",
    "> * What's the point of Figure 7?\n",
    "> * Use Figure 7 to find the most common design choice within each category for the Visual narrative and Narrative structure (the categories within visual narrative are 'visual structuring', 'highlighting', etc).\n",
    "> * Check out Figure 8 and section 4.3. What is your favorite genre of narrative visualization? Why? What is your least favorite genre? Why?\n",
    "> * Which genre is the \"How the virus got out\" NYT piece?\n",
    "\n"
   ]
  },
  {
   "cell_type": "markdown",
   "metadata": {},
   "source": [
    "## Part 2: Toggling Histograms\n",
    "\n",
    "Ok. Let's get started. First a general announcement on the data.\n",
    "\n",
    "> **Announcement**\n",
    "> * *During this entire lecture we are going to work with the **Crime data***. \n",
    "> * *All part uses data for the **period 2010-2018** (remember to filter your data)* \n",
    "> * *For info on how to include Bokeh in your notebooks (instead of generating html), please scan through the guide [Bokeh: Using with Jupyter](https://docs.bokeh.org/en/latest/docs/user_guide/jupyter.html#userguide-jupyter-notebook). Come back to this one when you need it*.\n",
    "> * *We aim to give you a gentle start with Bokeh, but to get a sense of how things work, I suggest you surf the web, find a Bokeh tutorial and scan through it. Also click around a bit in [the official docs](https://docs.bokeh.org/en/latest/docs/user_guide.html#userguide).*\n",
    "\n",
    "\n",
    "Now, to get you in the mood here's a little gif to illustrate what the goal of this exercise is:"
   ]
  },
  {
   "cell_type": "markdown",
   "metadata": {},
   "source": [
    "![Movie](https://github.com/suneman/socialdataanalysis2020/blob/master/files/week8_1.gif?raw=true \"movie\")"
   ]
  },
  {
   "cell_type": "markdown",
   "metadata": {},
   "source": [
    "Essentially, we are going to to recreate the results from **Week 2** and make an interactive visualisation (shown in the gif). \n",
    "\n",
    "### Data prep\n",
    "\n",
    "A key step is to set up the data right. So for this one, we'll be pretty strict about the steps. The workflow is\n",
    "\n",
    "1. Take the data for the period of 2010-2018 and group it by hour-of-the-day (see Week 2)\n",
    "2. We would like to be able to easily compare how the distribution of crimes differ from each other, not absolute numbers, the focus here will be *normalized data*:\n",
    "  * To normalise data for within a crime category you simply to devide the count for each hour by the total number of this crime type. (To give a concrete example in the `ASSAULT` category, take the number of assault-counts in 1st hour you should devide by the total number ofassaults, then you devide number of assaults in 2nd hour by the total number of assaults and so on)\n",
    "  *  It will be easiest if you organize your dataframe as shown in [this helpful screenshot](https://github.com/suneman/socialdataanalysis2020/blob/master/files/week8_1_data.PNG?raw=true).\n",
    "\n",
    "If you've followed these steps, your data should be ready! Take a moment to celebrate. We now follow the [Bokeh guide for categorical data](https://docs.bokeh.org/en/latest/docs/user_guide/categorical.html):\n",
    "\n",
    "1. First, let's convert our **Pandas Dataframe** to **Bokeh ColumnDataSource**: \n",
    "```python\n",
    "source = ColumnDataSource(your_processed_dataframe)\n",
    "## it is a standard way to convert your df to bokeh\n",
    "```\n",
    "2. We also need to create an empty figure (we will add our stuff here later on). Mini sub-exercise: Find the a guide how to define a figure in Bokeh online. Here is a little help:\n",
    "```python\n",
    "p = figure(...., x_range = FactorRange(factors=hours), ...) #p is a standard way to call figures in Bokeh\n",
    "#make sure to add x_range. In my case hours is a list on the form ['1', '2', '3' ... , '24']\n",
    "#read up on the FactorRange in the guide\n",
    "#do not forget to add other attributes to the figure, e.g. title, axis names and so on\n",
    "```\n",
    "3. Now we are going to add the bars. In order to do so, we will use **vbar** (see the guide for help):\n",
    "```python\n",
    "bar ={} # to store vbars\n",
    "### here we will do a for loop:\n",
    "for indx,i in enumerate(focuscrimes):\n",
    "    bar[i] = p.vbar(x='name_of_the_column_that_contain_hours',  top=i, source= src, \n",
    "                    ### we will create a vbar for each focuscrime\n",
    "                    legend_label=i,  muted_alpha=..., muted = ....) \n",
    "#i stands for a column that we use, top=y; we are specifying that our numbers comes from column i\n",
    "#read up what legend_label, muted and muted_alpha do... you can add more attributes (you HAVE TO)\n",
    "```\n",
    "4. The last thing to do is to make your legend interactive and display the figure:\n",
    "```python\n",
    "p.legend.click_policy=\"mute\" ### assigns the click policy (you can try to use ''hide'\n",
    "show(p) #displays your plot\n",
    "```\n",
    "5. You will notice that the legend appears in the middle of the figure (and it ocludes some of the data). In order to fix this look into [this guide](https://stackoverflow.com/questions/26254619/position-of-the-legend-in-a-bokeh-plot) as a start. Below are some code snippets that you can use to deal with this problem (but read the guide first):\n",
    "```python\n",
    "items = [] ### for the custom legend // you need to figure out where to add it\n",
    "items.append((i, [bar[i]])) ### figure where to add it\n",
    "legend = Legend(items=..., location=.....) ## figure where to add it\n",
    "p.add_layout(...., ...) ## figure where to add it\n",
    "### if you read the guide, it will make sense\n",
    "```\n",
    "\n",
    "Now you should be able to recreate this amazing visualisation :)"
   ]
  },
  {
   "cell_type": "markdown",
   "metadata": {},
   "source": [
    "## Part 3: Stacked bar charts\n",
    "\n",
    "Ok. We're on a roll. Let's just do one more. We start once again with a magnificent gif:"
   ]
  },
  {
   "cell_type": "markdown",
   "metadata": {},
   "source": [
    "![Movie](https://github.com/suneman/socialdataanalysis2020/blob/master/files/week8_2a.gif?raw=true \"movie\")\n",
    "\n"
   ]
  },
  {
   "cell_type": "markdown",
   "metadata": {},
   "source": [
    "Now the idea is to look at which crimes dominate the various districts. So we use stacked barcharts of normalized crime to see how crime types compare in fractional occurrences across SF's precincts. \n",
    "\n",
    "Again, we will start with the data. The steps are:\n",
    "1. Take the data for the period of 2010-2018 and group by precinct (see Week 2)\n",
    "2. As we are interested in comparing the **fraction** of each crimes across precincts, we will to normalize the data once again:\n",
    "  * As above, to normalize the data you need to divide number of specific crime in a district by the *total number of crimes in the district*. Thus, to give a concrete example you should devide the number of assaults in Bayview by the total number of crimes in Bayview and so on \n",
    "  * Your life will be easier if your dataframe is arranged as [shown is this helpful screenshot](https://github.com/suneman/socialdataanalysis2020/blob/master/files/week8_2_data.PNG?raw=true).\n",
    "\n",
    "Nice! Now the visualisation, you can use either Bokeh Guide (see the link in the exercise above (Part 2) or [this guide](https://programminghistorian.org/en/lessons/visualizing-with-bokeh):\n",
    "1. You'll need to repeat the same two steps as in the exercise above (Part 2). In the second step you'll need to include an additional attribute:\n",
    "```python\n",
    "p = figure(...., tool=['hover'], ...) #we want to add a hover effect\n",
    "# you should find a way to display the name of the crime on hover (initially, the hover-tool won't do that)\n",
    "# see one of the guides or Google\n",
    "```\n",
    "2. For this visualisation, we are going to work with **vbar_stack**:\n",
    "```python\n",
    "p.vbar_stack(stackers=..., x=..., source=src, ...) ### you need to find what a stacker is\n",
    "```\n",
    "3. (Optional) You can see that my hover effect also shows the numbers. Use [this example](https://github.com/bokeh/bokeh/blob/16e87ed63ca1aecaa42e93293f32d936685dcd3e/sphinx/source/docs/user_guide/examples/categorical_bar_stacked_hover.py) to implement a more informative hover. You also might face an issue that HoverTool does not handle the columns with spaces in the name: [this can help](https://github.com/bokeh/bokeh/issues/4796)\n",
    "\n",
    "And you're done for today. "
   ]
  },
  {
   "cell_type": "markdown",
   "metadata": {},
   "source": [
    "## Part 4:  Advanced and optional \n",
    "\n",
    "Your mission, should you choose to accept it, is to to implement the figure displayed below"
   ]
  },
  {
   "cell_type": "markdown",
   "metadata": {},
   "source": [
    "![Movie](https://github.com/suneman/socialdataanalysis2020/blob/master/files/week8_3.gif?raw=true \"movie\")\n",
    "\n"
   ]
  },
  {
   "cell_type": "markdown",
   "metadata": {},
   "source": [
    "A bit more about what the figure shows.\n",
    "* It's a figure in Bokeh that can change the axes based on the user choice. \n",
    "* Districts are the circles. The position of the circle depends on the number of crimes in X-crime and Y-crime (you can either choose a specific year or use whole period). The radius of the circle is related to the total number of crimes in the district\n",
    "\n",
    "\n",
    "Some hints and comments to guide you: To complete this exercise, you will have to browse througth Bokeh documentation and/or StackOverflow topics\n",
    "*  I use two Bokeh Tables: first one stores all the results and second one is updated when the selection is made (you can see it on the GIF). To implement an update, you will have to use [CustomJS](https://docs.bokeh.org/en/latest/docs/user_guide/interaction/callbacks.html) method from Bokeh. And a small code snippet:\n",
    "```python\n",
    "# Example of the second dataframe\n",
    "# It is empty at the beggining\n",
    "df2 = pd.DataFrame({'District':['BAYVIEW','CENTRAL','INGLESIDE','MISSION','NORTHERN','PARK','RICHMOND','SOUTHERN','TARAVAL','TENDERLOIN'],\n",
    "                    'x':[float('nan')]*10,\n",
    "                    'y':[float('nan')]*10,\n",
    "                    'Total': [float('nan')]*10,\n",
    "                    'Radius': [float('nan')]*10,\n",
    "                    'Color': ...})\n",
    "# create source for empty dataframe\n",
    "src2 = ColumnDataSource(df2)\n",
    "# create cols\n",
    "table_columns2 = [TableColumn(field = Ci, title = Ci) for Ci in    df2.columns] \n",
    "# Bokeh Table\n",
    "data_table2 = DataTable(source=src2, columns=table_columns2, width=400)\n",
    "```"
   ]
  },
  {
   "cell_type": "markdown",
   "metadata": {},
   "source": [
    "**Huge thanks to TA Germans who has more or less created all three Bokeh exercises, while I've been busy with COVID-19 work.**"
   ]
  },
  {
   "cell_type": "code",
   "execution_count": null,
   "metadata": {},
   "outputs": [],
   "source": []
  }
 ],
 "metadata": {
  "kernelspec": {
   "display_name": "Python 3",
   "language": "python",
   "name": "python3"
  },
  "language_info": {
   "codemirror_mode": {
    "name": "ipython",
    "version": 3
   },
   "file_extension": ".py",
   "mimetype": "text/x-python",
   "name": "python",
   "nbconvert_exporter": "python",
   "pygments_lexer": "ipython3",
   "version": "3.7.6"
  }
 },
 "nbformat": 4,
 "nbformat_minor": 4
}
